{
 "cells": [
  {
   "cell_type": "markdown",
   "id": "501429c6-7198-425a-85a7-c076a8458242",
   "metadata": {},
   "source": [
    "# Correlation and Diversification #\n",
    "\n",
    "### Benefits of Diversification ###"
   ]
  },
  {
   "cell_type": "code",
   "execution_count": 1,
   "id": "9b96f46a-1c84-49c8-853d-3764c7ce3204",
   "metadata": {},
   "outputs": [],
   "source": [
    "# Import Libraries\n",
    "\n",
    "# Data Management\n",
    "import pandas as pd\n",
    "import numpy as np\n",
    "\n",
    "# Visualization\n",
    "import matplotlib.pyplot as plt\n",
    "\n",
    "# Optiminization\n",
    "from scipy.optimize import minimize\n",
    "\n",
    "# Pretty Notation\n",
    "from IPython.display import display, Math"
   ]
  },
  {
   "cell_type": "code",
   "execution_count": 3,
   "id": "6f9d1202-bbde-4796-b202-3768ef392fbc",
   "metadata": {},
   "outputs": [],
   "source": [
    "def import_financial_data(\n",
    "    ticker: str\n",
    "):\n",
    "\n",
    "    # Check the ticker for Upper Cases\n",
    "    ticker = ticker if ticker.isupper() else ticker.upper()\n",
    "\n",
    "    # Import data\n",
    "    df = pd.read_csv(rf\"..\\stocks\\{ticker}.csv\")\n",
    "\n",
    "    # Set the Index\n",
    "    df = df.set_index('Date')\n",
    "    df.index = pd.to_datetime(df.index)\n",
    "\n",
    "    df_useful_data = df[['Open Price', 'High Price', 'Low Price', 'Close Price', 'Volume']]\n",
    "\n",
    "    df_useful_data = df_useful_data.rename(columns={\n",
    "        \"Open Price\":\"Open\",\n",
    "        \"High Price\":\"High\",\n",
    "        \"Low Price\":\"Low\",\n",
    "        \"Close Price\":\"Close\",\n",
    "    })\n",
    "\n",
    "    # Drop NaN's\n",
    "    df_useful_data.dropna(inplace = True)\n",
    "\n",
    "    return df_useful_data.loc[\"2023-01-01\":]"
   ]
  },
  {
   "cell_type": "code",
   "execution_count": 5,
   "id": "a16b26f3-3da8-422a-b8ec-9b46fecc1ddc",
   "metadata": {},
   "outputs": [],
   "source": [
    "# Import Data\n",
    "\n",
    "# Apple Data\n",
    "df_1 = import_financial_data(\"AAPL\")\n",
    "\n",
    "# Amazon Data\n",
    "df_2 =  import_financial_data(\"AMZN\")\n",
    "\n",
    "# Meta Data\n",
    "df_3 =  import_financial_data(\"META\")\n",
    "\n",
    "# Microsoft Data\n",
    "df_4 =  import_financial_data(\"MSFT\")"
   ]
  },
  {
   "cell_type": "code",
   "execution_count": 7,
   "id": "e440d418-0c22-4f7f-9861-4dff0b9cd5ff",
   "metadata": {},
   "outputs": [
    {
     "data": {
      "text/html": [
       "<div>\n",
       "<style scoped>\n",
       "    .dataframe tbody tr th:only-of-type {\n",
       "        vertical-align: middle;\n",
       "    }\n",
       "\n",
       "    .dataframe tbody tr th {\n",
       "        vertical-align: top;\n",
       "    }\n",
       "\n",
       "    .dataframe thead th {\n",
       "        text-align: right;\n",
       "    }\n",
       "</style>\n",
       "<table border=\"1\" class=\"dataframe\">\n",
       "  <thead>\n",
       "    <tr style=\"text-align: right;\">\n",
       "      <th></th>\n",
       "      <th>AAPL</th>\n",
       "      <th>AMZN</th>\n",
       "      <th>META</th>\n",
       "      <th>MSFT</th>\n",
       "    </tr>\n",
       "    <tr>\n",
       "      <th>Date</th>\n",
       "      <th></th>\n",
       "      <th></th>\n",
       "      <th></th>\n",
       "      <th></th>\n",
       "    </tr>\n",
       "  </thead>\n",
       "  <tbody>\n",
       "    <tr>\n",
       "      <th>2023-01-04</th>\n",
       "      <td>0.010314</td>\n",
       "      <td>-0.007924</td>\n",
       "      <td>0.021084</td>\n",
       "      <td>-0.043743</td>\n",
       "    </tr>\n",
       "    <tr>\n",
       "      <th>2023-01-05</th>\n",
       "      <td>-0.010605</td>\n",
       "      <td>-0.023726</td>\n",
       "      <td>-0.003376</td>\n",
       "      <td>-0.029638</td>\n",
       "    </tr>\n",
       "    <tr>\n",
       "      <th>2023-01-06</th>\n",
       "      <td>0.036794</td>\n",
       "      <td>0.035611</td>\n",
       "      <td>0.024263</td>\n",
       "      <td>0.011785</td>\n",
       "    </tr>\n",
       "    <tr>\n",
       "      <th>2023-01-09</th>\n",
       "      <td>0.004089</td>\n",
       "      <td>0.014870</td>\n",
       "      <td>-0.004230</td>\n",
       "      <td>0.009736</td>\n",
       "    </tr>\n",
       "    <tr>\n",
       "      <th>2023-01-10</th>\n",
       "      <td>0.004456</td>\n",
       "      <td>0.028732</td>\n",
       "      <td>0.027188</td>\n",
       "      <td>0.007617</td>\n",
       "    </tr>\n",
       "    <tr>\n",
       "      <th>...</th>\n",
       "      <td>...</td>\n",
       "      <td>...</td>\n",
       "      <td>...</td>\n",
       "      <td>...</td>\n",
       "    </tr>\n",
       "    <tr>\n",
       "      <th>2024-10-15</th>\n",
       "      <td>0.011025</td>\n",
       "      <td>0.000800</td>\n",
       "      <td>-0.007029</td>\n",
       "      <td>-0.000954</td>\n",
       "    </tr>\n",
       "    <tr>\n",
       "      <th>2024-10-16</th>\n",
       "      <td>-0.008852</td>\n",
       "      <td>-0.004262</td>\n",
       "      <td>-0.016170</td>\n",
       "      <td>-0.006257</td>\n",
       "    </tr>\n",
       "    <tr>\n",
       "      <th>2024-10-17</th>\n",
       "      <td>0.001596</td>\n",
       "      <td>0.003424</td>\n",
       "      <td>0.000243</td>\n",
       "      <td>0.001442</td>\n",
       "    </tr>\n",
       "    <tr>\n",
       "      <th>2024-10-18</th>\n",
       "      <td>0.012277</td>\n",
       "      <td>0.007785</td>\n",
       "      <td>-0.000797</td>\n",
       "      <td>0.003456</td>\n",
       "    </tr>\n",
       "    <tr>\n",
       "      <th>2024-10-21</th>\n",
       "      <td>0.006298</td>\n",
       "      <td>0.000423</td>\n",
       "      <td>-0.002272</td>\n",
       "      <td>0.001483</td>\n",
       "    </tr>\n",
       "  </tbody>\n",
       "</table>\n",
       "<p>452 rows × 4 columns</p>\n",
       "</div>"
      ],
      "text/plain": [
       "                AAPL      AMZN      META      MSFT\n",
       "Date                                              \n",
       "2023-01-04  0.010314 -0.007924  0.021084 -0.043743\n",
       "2023-01-05 -0.010605 -0.023726 -0.003376 -0.029638\n",
       "2023-01-06  0.036794  0.035611  0.024263  0.011785\n",
       "2023-01-09  0.004089  0.014870 -0.004230  0.009736\n",
       "2023-01-10  0.004456  0.028732  0.027188  0.007617\n",
       "...              ...       ...       ...       ...\n",
       "2024-10-15  0.011025  0.000800 -0.007029 -0.000954\n",
       "2024-10-16 -0.008852 -0.004262 -0.016170 -0.006257\n",
       "2024-10-17  0.001596  0.003424  0.000243  0.001442\n",
       "2024-10-18  0.012277  0.007785 -0.000797  0.003456\n",
       "2024-10-21  0.006298  0.000423 -0.002272  0.001483\n",
       "\n",
       "[452 rows x 4 columns]"
      ]
     },
     "execution_count": 7,
     "metadata": {},
     "output_type": "execute_result"
    }
   ],
   "source": [
    "# Create the joint dataframe\n",
    "\n",
    "df_data = pd.DataFrame()\n",
    "\n",
    "df_data['AAPL'] = df_1['Close']\n",
    "df_data['AMZN'] = df_2['Close']\n",
    "df_data['META'] = df_3['Close']\n",
    "df_data['MSFT'] = df_4['Close']\n",
    "\n",
    "df_data = df_data.dropna()\n",
    "\n",
    "df_returns = df_data.pct_change(1).dropna()\n",
    "\n",
    "df_returns"
   ]
  },
  {
   "cell_type": "code",
   "execution_count": 15,
   "id": "15b337bf-a0d3-4b48-a6e9-c563833c98c7",
   "metadata": {},
   "outputs": [
    {
     "data": {
      "text/plain": [
       "AAPL    0.379080\n",
       "AMZN    0.487166\n",
       "META    0.926389\n",
       "MSFT    0.337040\n",
       "dtype: float64"
      ]
     },
     "execution_count": 15,
     "metadata": {},
     "output_type": "execute_result"
    }
   ],
   "source": [
    "# Theoretically we could use the average as the expected returns (these are daily returns)\n",
    "\n",
    "expected_returns = df_returns.mean() * 252\n",
    "\n",
    "expected_returns"
   ]
  },
  {
   "cell_type": "code",
   "execution_count": 17,
   "id": "d7272104-475c-4a04-8db0-9a60506459eb",
   "metadata": {},
   "outputs": [
    {
     "data": {
      "text/plain": [
       "AAPL    0.218327\n",
       "AMZN    0.305291\n",
       "META    0.391234\n",
       "MSFT    0.226368\n",
       "dtype: float64"
      ]
     },
     "execution_count": 17,
     "metadata": {},
     "output_type": "execute_result"
    }
   ],
   "source": [
    "# The volatility is calculated with the standard deviations (also daily volatilities)\n",
    "\n",
    "volat = df_returns.dropna().std() * np.sqrt(252)\n",
    "\n",
    "volat"
   ]
  },
  {
   "cell_type": "code",
   "execution_count": 19,
   "id": "57d8ba61-4611-4766-8716-b4fc8b5997a2",
   "metadata": {},
   "outputs": [
    {
     "data": {
      "text/html": [
       "<div>\n",
       "<style scoped>\n",
       "    .dataframe tbody tr th:only-of-type {\n",
       "        vertical-align: middle;\n",
       "    }\n",
       "\n",
       "    .dataframe tbody tr th {\n",
       "        vertical-align: top;\n",
       "    }\n",
       "\n",
       "    .dataframe thead th {\n",
       "        text-align: right;\n",
       "    }\n",
       "</style>\n",
       "<table border=\"1\" class=\"dataframe\">\n",
       "  <thead>\n",
       "    <tr style=\"text-align: right;\">\n",
       "      <th></th>\n",
       "      <th>AAPL</th>\n",
       "      <th>AMZN</th>\n",
       "      <th>META</th>\n",
       "      <th>MSFT</th>\n",
       "    </tr>\n",
       "  </thead>\n",
       "  <tbody>\n",
       "    <tr>\n",
       "      <th>AAPL</th>\n",
       "      <td>0.047667</td>\n",
       "      <td>0.026083</td>\n",
       "      <td>0.031836</td>\n",
       "      <td>0.024854</td>\n",
       "    </tr>\n",
       "    <tr>\n",
       "      <th>AMZN</th>\n",
       "      <td>0.026083</td>\n",
       "      <td>0.093203</td>\n",
       "      <td>0.069223</td>\n",
       "      <td>0.042016</td>\n",
       "    </tr>\n",
       "    <tr>\n",
       "      <th>META</th>\n",
       "      <td>0.031836</td>\n",
       "      <td>0.069223</td>\n",
       "      <td>0.153064</td>\n",
       "      <td>0.048074</td>\n",
       "    </tr>\n",
       "    <tr>\n",
       "      <th>MSFT</th>\n",
       "      <td>0.024854</td>\n",
       "      <td>0.042016</td>\n",
       "      <td>0.048074</td>\n",
       "      <td>0.051242</td>\n",
       "    </tr>\n",
       "  </tbody>\n",
       "</table>\n",
       "</div>"
      ],
      "text/plain": [
       "          AAPL      AMZN      META      MSFT\n",
       "AAPL  0.047667  0.026083  0.031836  0.024854\n",
       "AMZN  0.026083  0.093203  0.069223  0.042016\n",
       "META  0.031836  0.069223  0.153064  0.048074\n",
       "MSFT  0.024854  0.042016  0.048074  0.051242"
      ]
     },
     "execution_count": 19,
     "metadata": {},
     "output_type": "execute_result"
    }
   ],
   "source": [
    "# Covariance Matrix\n",
    "\n",
    "cov_matrix = df_returns.dropna().cov() * 252\n",
    "\n",
    "cov_matrix"
   ]
  },
  {
   "cell_type": "code",
   "execution_count": 25,
   "id": "00f286c4-6ab2-4342-abdd-d8288f907e01",
   "metadata": {},
   "outputs": [
    {
     "data": {
      "text/plain": [
       "array([0.25, 0.25, 0.25, 0.25])"
      ]
     },
     "execution_count": 25,
     "metadata": {},
     "output_type": "execute_result"
    }
   ],
   "source": [
    "# Create the Equal Weighted Portfolio\n",
    "\n",
    "n_assets = 4\n",
    "weights = np.array([1/n_assets] * n_assets)  # Equal weights\n",
    "\n",
    "weights"
   ]
  },
  {
   "cell_type": "code",
   "execution_count": 31,
   "id": "280a50b0-d3a8-44b2-a2f8-775b90e5441c",
   "metadata": {},
   "outputs": [
    {
     "name": "stdout",
     "output_type": "stream",
     "text": [
      "\n",
      "Portfolio Expected Return: 0.5324188544288896\n",
      "Portfolio Volatility: 0.22767121916371957\n"
     ]
    }
   ],
   "source": [
    "# Portfolio expected return\n",
    "portfolio_return = np.dot(weights, expected_returns)\n",
    "\n",
    "# Portfolio variance and volatility\n",
    "portfolio_variance = np.dot(weights.T, np.dot(cov_matrix, weights))\n",
    "portfolio_volatility = np.sqrt(portfolio_variance)\n",
    "\n",
    "print(\"\\nPortfolio Expected Return:\", portfolio_return)\n",
    "print(\"Portfolio Volatility:\", portfolio_volatility)"
   ]
  },
  {
   "cell_type": "code",
   "execution_count": 37,
   "id": "224df897-053d-493b-9391-85db9274a68a",
   "metadata": {},
   "outputs": [
    {
     "data": {
      "image/png": "[encoded data removed]",
      "text/plain": [
       "<Figure size 1000x600 with 1 Axes>"
      ]
     },
     "metadata": {},
     "output_type": "display_data"
    }
   ],
   "source": [
    "# Plot the Volatilities\n",
    "\n",
    "plt.figure(figsize=(10, 6))\n",
    "plt.bar(df_data.columns, volat, color='skyblue', label='Individual Asset Volatility')\n",
    "plt.axhline(y=portfolio_volatility, color='red', linestyle='--', label='Portfolio Volatility')\n",
    "plt.ylabel('Annualized Volatility')\n",
    "plt.title('Diversification: Individual vs. Portfolio Volatility')\n",
    "plt.legend()\n",
    "plt.show()"
   ]
  },
  {
   "cell_type": "code",
   "execution_count": 43,
   "id": "f9b219af-9289-4252-b28f-d082e0597dd9",
   "metadata": {},
   "outputs": [
    {
     "data": {
      "image/png": "[encoded data removed]",
      "text/plain": [
       "<Figure size 1200x800 with 1 Axes>"
      ]
     },
     "metadata": {},
     "output_type": "display_data"
    }
   ],
   "source": [
    "# Efficiency Ratios\n",
    "\n",
    "eff_ratios = expected_returns/volat\n",
    "portafolio_effciency = portfolio_return/portfolio_volatility\n",
    "\n",
    "plt.figure(figsize=(12, 8))\n",
    "plt.bar(df_data.columns, eff_ratios, color='salmon', label='Individual Asset Volatility')\n",
    "plt.axhline(y=portafolio_effciency, color='black', linestyle='--', label='Portfolio Volatility')\n",
    "plt.ylabel('Annualized Volatility')\n",
    "plt.title('Diversification: Individual vs. Portfolio Volatility')\n",
    "plt.legend()\n",
    "plt.show()"
   ]
  },
  {
   "cell_type": "code",
   "execution_count": null,
   "id": "195197f5-d70f-48ec-b0c7-358c6fb2ba36",
   "metadata": {},
   "outputs": [],
   "source": []
  }
 ],
 "metadata": {
  "kernelspec": {
   "display_name": "Python 3 (ipykernel)",
   "language": "python",
   "name": "python3"
  },
  "language_info": {
   "codemirror_mode": {
    "name": "ipython",
    "version": 3
   },
   "file_extension": ".py",
   "mimetype": "text/x-python",
   "name": "python",
   "nbconvert_exporter": "python",
   "pygments_lexer": "ipython3",
   "version": "3.11.7"
  }
 },
 "nbformat": 4,
 "nbformat_minor": 5
}
