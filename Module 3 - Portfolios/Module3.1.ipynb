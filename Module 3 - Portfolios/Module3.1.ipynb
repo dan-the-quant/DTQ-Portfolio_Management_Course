{
 "cells": [
  {
   "cell_type": "markdown",
   "id": "501429c6-7198-425a-85a7-c076a8458242",
   "metadata": {},
   "source": [
    "# Correlation and Diversification #"
   ]
  },
  {
   "cell_type": "code",
   "execution_count": 430,
   "id": "9b96f46a-1c84-49c8-853d-3764c7ce3204",
   "metadata": {},
   "source": [
    "# Import Libraries\n",
    "\n",
    "# Data Management\n",
    "import pandas as pd\n",
    "import numpy as np\n",
    "\n",
    "# Visualization\n",
    "import matplotlib.pyplot as plt\n",
    "\n",
    "# Optiminization\n",
    "import statsmodels.api as sm \n",
    "from scipy.optimize import minimize\n",
    "\n",
    "# Pretty Notation\n",
    "from IPython.display import display, Math"
   ],
   "outputs": []
  },
  {
   "cell_type": "markdown",
   "id": "4ea39d29-683b-4611-8d97-73728f35007d",
   "metadata": {},
   "source": [
    "### Benefits of Diversification ###"
   ]
  },
  {
   "cell_type": "code",
   "execution_count": 433,
   "id": "a16b26f3-3da8-422a-b8ec-9b46fecc1ddc",
   "metadata": {},
   "source": [
    "# Import Data\n",
    "\n",
    "# Apple Data\n",
    "df_1 = import_financial_data(\"AAPL\")\n",
    "\n",
    "# Amazon Data\n",
    "df_2 =  import_financial_data(\"AMZN\")\n",
    "\n",
    "# Meta Data\n",
    "df_3 =  import_financial_data(\"META\")\n",
    "\n",
    "# Microsoft Data\n",
    "df_4 =  import_financial_data(\"MSFT\")\n",
    "\n",
    "# Walmart Data\n",
    "df_5 =  import_financial_data(\"WMT\")"
   ],
   "outputs": []
  },
  {
   "cell_type": "code",
   "execution_count": 434,
   "id": "e440d418-0c22-4f7f-9861-4dff0b9cd5ff",
   "metadata": {},
   "source": [
    "# Create the joint dataframe\n",
    "\n",
    "df_data = pd.DataFrame()\n",
    "\n",
    "df_data['AAPL'] = df_1['Close']\n",
    "df_data['AMZN'] = df_2['Close']\n",
    "df_data['META'] = df_3['Close']\n",
    "df_data['MSFT'] = df_4['Close']\n",
    "df_data['WMT'] = df_5['Close']\n",
    "\n",
    "df_data = df_data.dropna()\n",
    "\n",
    "df_returns = df_data.pct_change(1).dropna()\n",
    "\n",
    "df_returns"
   ],
   "outputs": []
  },
  {
   "cell_type": "code",
   "execution_count": 435,
   "id": "15b337bf-a0d3-4b48-a6e9-c563833c98c7",
   "metadata": {},
   "source": [
    "# Theoretically we could use the average as the expected returns (these are daily returns)\n",
    "\n",
    "expected_returns = df_returns.mean() * 252\n",
    "\n",
    "expected_returns"
   ],
   "outputs": []
  },
  {
   "cell_type": "code",
   "execution_count": 436,
   "id": "d7272104-475c-4a04-8db0-9a60506459eb",
   "metadata": {},
   "source": [
    "# The volatility is calculated with the standard deviations (also daily volatilities)\n",
    "\n",
    "volat = df_returns.dropna().std() * np.sqrt(252)\n",
    "\n",
    "volat"
   ],
   "outputs": []
  },
  {
   "cell_type": "code",
   "execution_count": 437,
   "id": "57d8ba61-4611-4766-8716-b4fc8b5997a2",
   "metadata": {},
   "source": [
    "# Covariance Matrix\n",
    "\n",
    "cov_matrix = df_returns.dropna().cov() * 252\n",
    "\n",
    "cov_matrix"
   ],
   "outputs": []
  },
  {
   "cell_type": "code",
   "execution_count": 438,
   "id": "00f286c4-6ab2-4342-abdd-d8288f907e01",
   "metadata": {},
   "source": [
    "# Create the Equal Weighted Portfolio\n",
    "\n",
    "n_assets = 5\n",
    "weights = np.array([1/n_assets] * n_assets)  # Equal weights\n",
    "\n",
    "weights"
   ],
   "outputs": []
  },
  {
   "cell_type": "code",
   "execution_count": 439,
   "id": "280a50b0-d3a8-44b2-a2f8-775b90e5441c",
   "metadata": {},
   "source": [
    "# Portfolio expected return\n",
    "portfolio_return = np.dot(weights, expected_returns)\n",
    "\n",
    "# Portfolio variance and volatility\n",
    "portfolio_variance = np.dot(weights.T, np.dot(cov_matrix, weights))\n",
    "portfolio_volatility = np.sqrt(portfolio_variance)\n",
    "\n",
    "print(\"\\nPortfolio Expected Return:\", portfolio_return)\n",
    "print(\"Portfolio Volatility:\", portfolio_volatility)"
   ],
   "outputs": []
  },
  {
   "cell_type": "code",
   "execution_count": 440,
   "id": "224df897-053d-493b-9391-85db9274a68a",
   "metadata": {},
   "source": [
    "# Plot the Volatilities\n",
    "\n",
    "plt.figure(figsize=(10, 6))\n",
    "plt.bar(df_data.columns, volat, color='skyblue', label='Individual Asset Volatility')\n",
    "plt.axhline(y=portfolio_volatility, color='red', linestyle='--', label='Portfolio Volatility')\n",
    "plt.ylabel('Annualized Volatility')\n",
    "plt.title('Diversification: Individual vs. Portfolio Volatility')\n",
    "plt.legend()\n",
    "plt.show()"
   ],
   "outputs": []
  },
  {
   "cell_type": "code",
   "execution_count": 441,
   "id": "f9b219af-9289-4252-b28f-d082e0597dd9",
   "metadata": {},
   "source": [
    "# Efficiency Ratios\n",
    "\n",
    "eff_ratios = expected_returns/volat\n",
    "portafolio_effciency = portfolio_return/portfolio_volatility\n",
    "\n",
    "plt.figure(figsize=(12, 8))\n",
    "plt.bar(df_data.columns, eff_ratios, color='salmon', label='Individual Asset Volatility')\n",
    "plt.axhline(y=portafolio_effciency, color='black', linestyle='--', label='Portfolio Volatility')\n",
    "plt.ylabel('Annualized Volatility')\n",
    "plt.title('Diversification: Individual vs. Portfolio Volatility')\n",
    "plt.legend()\n",
    "plt.show()"
   ],
   "outputs": []
  },
  {
   "cell_type": "code",
   "execution_count": 442,
   "id": "195197f5-d70f-48ec-b0c7-358c6fb2ba36",
   "metadata": {},
   "source": [
    "# Adjusted Returns\n",
    "\n",
    "print(f\"Portfolio Risk-Adjusted Returns: {portafolio_effciency}\")\n",
    "print(f\"Stocks Risk-Adjusted Returns:\\n{eff_ratios}\")"
   ],
   "outputs": []
  },
  {
   "cell_type": "markdown",
   "id": "4e87c477-689e-4bc4-80bf-a92277d245bd",
   "metadata": {},
   "source": [
    "### The Correlation ###"
   ]
  },
  {
   "cell_type": "code",
   "execution_count": 444,
   "id": "543fa038-739c-4e7e-b170-1a0b5026b526",
   "metadata": {},
   "source": [
    "# Correlation is the Scale of Covariance [-1, 1]\n",
    "\n",
    "pearson = df_returns.corr()\n",
    "\n",
    "pearson"
   ],
   "outputs": []
  },
  {
   "cell_type": "code",
   "execution_count": 445,
   "id": "6aedfdcf-164a-48e7-b9eb-4110ff9fc247",
   "metadata": {},
   "source": [
    "# Non Linear Correlations\n",
    "\n",
    "spearman = df_returns.corr(method='spearman')\n",
    "\n",
    "spearman"
   ],
   "outputs": []
  },
  {
   "cell_type": "code",
   "execution_count": 446,
   "id": "f7bc8596-5872-4e0e-9ccb-13a273b303ea",
   "metadata": {},
   "source": [
    "# Letus get the CAPM residuals\n",
    "\n",
    "capm_residuals = pd.read_csv(r'..\\additional_data\\capm_residuals.csv')\n",
    "capm_residuals = capm_residuals.set_index('Date')\n",
    "capm_residuals.index = pd.to_datetime(capm_residuals.index)\n",
    "\n",
    "# Just the stocks we need\n",
    "capm_residuals = capm_residuals[df_returns.columns]\n",
    "\n",
    "capm_residuals"
   ],
   "outputs": []
  },
  {
   "cell_type": "code",
   "execution_count": 447,
   "id": "140903c0-2a47-4597-9a98-5cf45d930e1b",
   "metadata": {},
   "source": [
    "capm_residuals.corr()"
   ],
   "outputs": []
  },
  {
   "cell_type": "code",
   "execution_count": 448,
   "id": "014c6330-7faf-4d61-ae07-ae4e9523244f",
   "metadata": {},
   "source": [
    "# Create Figure\n",
    "fig, ax1 = plt.subplots(dpi = 300)\n",
    "\n",
    "# AMZN Residual Returns\n",
    "capm_residuals['AMZN'].cumsum().plot(color = 'blue', ax = ax1)\n",
    "ax1.set_xlabel('Date')\n",
    "ax1.set_ylabel(\n",
    "    'AMZN Residual Returns', \n",
    "    color='blue'\n",
    "    )\n",
    "\n",
    "# WMT Residual Returns\n",
    "ax2 = ax1.twinx()\n",
    "\n",
    "capm_residuals['WMT'].cumsum().plot(color = 'red', ax = ax2)\n",
    "ax2.set_ylabel(\n",
    "    'WMT Residual Returns', \n",
    "    color='red'\n",
    "    )\n",
    "\n",
    "plt.show()"
   ],
   "outputs": []
  },
  {
   "cell_type": "code",
   "execution_count": 449,
   "id": "7c4d4813-a7da-4e07-9c7c-f44f1046a73d",
   "metadata": {},
   "source": [
    "def detrending_series(\n",
    "        y: pd.Series(),\n",
    "        residuals=True\n",
    "):\n",
    "    Y = y.dropna()\n",
    "\n",
    "    trend = pd.Series(\n",
    "        np.arange(1, len(Y) + 1),\n",
    "        index=Y.index\n",
    "    )\n",
    "\n",
    "    models = [\n",
    "        sm.OLS(Y, sm.add_constant(np.ones_like(Y))),\n",
    "        sm.OLS(Y, sm.add_constant(trend)),\n",
    "        sm.OLS(Y, sm.add_constant(pd.DataFrame({\"trend\": trend, \"trend_sq\": trend ** 2}))),\n",
    "        # sm.OLS(Y, sm.add_constant(pd.DataFrame({\"trend\": trend, \"trend_sq\": trend ** 2, \"trend_cb\": trend ** 3}))),\n",
    "        # sm.OLS(Y, sm.add_constant(\n",
    "        #    pd.DataFrame({\"trend\": trend, \"trend_sq\": trend ** 2, \"trend_cb\": trend ** 3, \"trend_qua\": trend ** 4}))),\n",
    "    ]\n",
    "\n",
    "    results = [model.fit() for model in models]\n",
    "    aics = [result.aic for result in results]\n",
    "\n",
    "    best_model_index = np.argmin(aics)\n",
    "    best_result = results[best_model_index]\n",
    "\n",
    "    # print(best_result.summary())\n",
    "\n",
    "    if residuals:\n",
    "        return best_result.resid\n",
    "\n",
    "    else:\n",
    "        return best_result.fittedvalues"
   ],
   "outputs": []
  },
  {
   "cell_type": "code",
   "execution_count": 450,
   "id": "006aed98-7581-4360-95e7-baba7754c1fc",
   "metadata": {},
   "source": [
    "# Let us detrend\n",
    "\n",
    "cumsum_detrended = capm_residuals.cumsum().apply(detrending_series)\n",
    "\n",
    "cumsum_detrended"
   ],
   "outputs": []
  },
  {
   "cell_type": "code",
   "execution_count": 451,
   "id": "0fed5881-5f59-4f6e-8475-3a6b4bf0b2c2",
   "metadata": {},
   "source": [
    "# Create Figure\n",
    "fig, ax1 = plt.subplots(dpi = 300)\n",
    "\n",
    "# AMZN Residual Returns\n",
    "cumsum_detrended['AMZN'].plot(color = 'blue', ax = ax1)\n",
    "ax1.set_xlabel('Date')\n",
    "ax1.set_ylabel(\n",
    "    'AMZN Residual Returns', \n",
    "    color='blue'\n",
    "    )\n",
    "\n",
    "# WMT Residual Returns\n",
    "ax2 = ax1.twinx()\n",
    "\n",
    "cumsum_detrended['WMT'].plot(color = 'red', ax = ax2)\n",
    "ax2.set_ylabel(\n",
    "    'WMT Residual Returns', \n",
    "    color='red'\n",
    "    )\n",
    "\n",
    "plt.show()"
   ],
   "outputs": []
  },
  {
   "cell_type": "code",
   "execution_count": 452,
   "id": "0afd09bd-e91d-4375-ba29-37db6fbd5bc5",
   "metadata": {},
   "source": [
    "# Before 2020: all data up to 2019-12-31\n",
    "corr_before_2020 = cumsum_detrended['AMZN'].loc[:'2019-12-31'].corr(\n",
    "    cumsum_detrended['WMT'].loc[:'2019-12-31'])\n",
    "\n",
    "# After 2020: all data from 2020-01-01 onwards\n",
    "corr_after_2020 = cumsum_detrended['AMZN'].loc['2020-01-01':].corr(\n",
    "    cumsum_detrended['WMT'].loc['2020-01-01':])\n",
    "\n",
    "print(f\"The correlation between AMZN and WMT before 2020: {corr_before_2020}\")\n",
    "print(f\"The correlation between AMZN and WMT after 2020: {corr_after_2020}\")"
   ],
   "outputs": []
  },
  {
   "cell_type": "code",
   "execution_count": 453,
   "id": "eaeb880b-92ff-4871-9c32-a6009cc1bbc5",
   "metadata": {},
   "source": [
    "# Calculate Rolling Correlation\n",
    "\n",
    "rolling_corr_252d_cumsum = cumsum_detrended['AMZN'].rolling(window=252).corr(cumsum_detrended['WMT'])\n",
    "rolling_corr_252d = capm_residuals['AMZN'].rolling(window=252).corr(capm_residuals['WMT'])"
   ],
   "outputs": []
  },
  {
   "cell_type": "code",
   "execution_count": 454,
   "id": "af02f581-0529-44b6-a658-4055550a2547",
   "metadata": {},
   "source": [
    "# Plot Residuals\n",
    "\n",
    "# Crear el gráfico de la serie de tiempo y las medias móviles exponenciales\n",
    "plt.figure(figsize=(10, 6))\n",
    "plt.plot(rolling_corr_252d_cumsum, label='Correlation AMZN vs WMT', color='red', alpha=0.7)\n",
    "plt.axhline(y=0, color='black', linestyle='dashed')\n",
    "\n",
    "# Añadir título y etiquetas\n",
    "plt.title('Rolling Correlation Time Series')\n",
    "plt.xlabel('Time')\n",
    "plt.ylabel('Correlation')\n",
    "plt.legend()\n",
    "plt.grid()\n",
    "\n",
    "# Mostrar el gráfico\n",
    "plt.show()"
   ],
   "outputs": []
  },
  {
   "cell_type": "code",
   "execution_count": 455,
   "id": "61291a6b-59d7-46e7-81bc-58dc49aea735",
   "metadata": {},
   "source": [
    "# Plot Residuals\n",
    "\n",
    "# Crear el gráfico de la serie de tiempo y las medias móviles exponenciales\n",
    "plt.figure(figsize=(10, 6))\n",
    "plt.plot(rolling_corr_252d, label='Correlation AMZN vs WMT', color='red', alpha=0.7)\n",
    "plt.axhline(y=0, color='black', linestyle='dashed')\n",
    "\n",
    "# Añadir título y etiquetas\n",
    "plt.title('Rolling Correlation Time Series')\n",
    "plt.xlabel('Time')\n",
    "plt.ylabel('Correlation')\n",
    "plt.legend()\n",
    "plt.grid()\n",
    "\n",
    "# Mostrar el gráfico\n",
    "plt.show()"
   ],
   "outputs": []
  },
  {
   "cell_type": "code",
   "execution_count": 456,
   "id": "0026a459-32a1-4998-9d03-90fa45b8d5bc",
   "metadata": {},
   "source": [
    "def portfolio_variance(\n",
    "    weights, \n",
    "    returns\n",
    "):\n",
    "    weights = np.array(weights)\n",
    "    if isinstance(returns, pd.DataFrame):\n",
    "        returns = returns.values\n",
    "    \n",
    "    cov_matrix = np.cov(returns.T)  # matriz de varianzas-covarianzas\n",
    "    port_var = weights.T @ cov_matrix @ weights\n",
    "    return port_var"
   ],
   "outputs": []
  },
  {
   "cell_type": "code",
   "execution_count": 457,
   "id": "0891c98a-a1fa-45fa-9cde-c8d4bf688b17",
   "metadata": {},
   "source": [
    "# Create the portfolio\n",
    "portfolio_df = df_returns[['AMZN', 'WMT']]\n",
    "weights = [0.5, 0.5]\n",
    "\n",
    "port_var = portfolio_variance(\n",
    "    weights,\n",
    "    portfolio_df\n",
    ")\n",
    "\n",
    "port_var"
   ],
   "outputs": []
  },
  {
   "cell_type": "code",
   "execution_count": 458,
   "id": "b8d2ad57-19ae-4420-beb3-e91331783326",
   "metadata": {},
   "source": [
    "def rolling_portfolio_variance(returns_df, weights, window=252):\n",
    "    weights = np.array(weights)\n",
    "\n",
    "    rolling_vars = []\n",
    "    index = returns_df.index\n",
    "\n",
    "    for i in range(window - 1, len(returns_df)):\n",
    "        window_returns = returns_df.iloc[i - window + 1 : i + 1]\n",
    "        cov_matrix = np.cov(window_returns.T)\n",
    "        var = weights.T @ cov_matrix @ weights\n",
    "        rolling_vars.append(var)\n",
    "\n",
    "    result = pd.Series([np.nan] * (window - 1) + rolling_vars, index=index)\n",
    "    return result\n"
   ],
   "outputs": []
  },
  {
   "cell_type": "code",
   "execution_count": 493,
   "id": "259898bc-5bd2-47b0-bb06-e338ddacb601",
   "metadata": {},
   "source": [
    "# Calculamos la varianza rolling\n",
    "rolling_var = rolling_portfolio_variance(portfolio_df, weights)\n",
    "rolling_var = rolling_var * 100\n",
    "\n",
    "rolling_var.dropna()"
   ],
   "outputs": []
  },
  {
   "cell_type": "code",
   "execution_count": 498,
   "id": "dfd169a9-6dfe-457c-b428-7e48012379ea",
   "metadata": {},
   "source": [
    "# Create Figure\n",
    "fig, ax1 = plt.subplots(dpi = 300)\n",
    "\n",
    "# Potfolio Variance\n",
    "rolling_var.dropna().plot(color = 'turquoise', ax = ax1)\n",
    "ax1.set_xlabel('Date')\n",
    "ax1.set_ylabel(\n",
    "    'Portfolio Variance', \n",
    "    color='turquoise'\n",
    "    )\n",
    "\n",
    "# Rolling Correlation\n",
    "ax2 = ax1.twinx()\n",
    "\n",
    "rolling_corr_252d.plot(color = 'orange', ax = ax2)\n",
    "ax2.set_ylabel(\n",
    "    'Rolling Correlation', \n",
    "    color='orange'\n",
    "    )\n",
    "\n",
    "plt.show()"
   ],
   "outputs": []
  },
  {
   "cell_type": "code",
   "execution_count": null,
   "id": "c3e93bbd-7d3c-449c-8eeb-add515c28409",
   "metadata": {},
   "source": [],
   "outputs": []
  }
 ],
 "metadata": {
  "kernelspec": {
   "display_name": "Python 3 (ipykernel)",
   "language": "python",
   "name": "python3"
  },
  "language_info": {
   "codemirror_mode": {
    "name": "ipython",
    "version": 3
   },
   "file_extension": ".py",
   "mimetype": "text/x-python",
   "name": "python",
   "nbconvert_exporter": "python",
   "pygments_lexer": "ipython3",
   "version": "3.11.7"
  }
 },
 "nbformat": 4,
 "nbformat_minor": 5
}
