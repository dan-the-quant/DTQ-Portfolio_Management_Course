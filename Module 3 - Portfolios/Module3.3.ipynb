{
 "cells": [
  {
   "cell_type": "markdown",
   "id": "d6aca106-ecd5-497b-9dad-760ad6f159ba",
   "metadata": {},
   "source": [
    "# Capital Allocation Line #\n",
    "\n",
    "### Building Portfolios Maximizing Sharpe Ratio ###"
   ]
  },
  {
   "cell_type": "code",
   "id": "a86301ed-e6af-4c26-b147-e9f979f2f995",
   "metadata": {
    "ExecuteTime": {
     "end_time": "2025-04-17T04:45:26.887306Z",
     "start_time": "2025-04-17T04:45:26.884250Z"
    }
   },
   "source": [
    "# Import Libraries\n",
    "\n",
    "# Data Management\n",
    "import pandas as pd\n",
    "import numpy as np\n",
    "\n",
    "# Visualization\n",
    "import matplotlib.pyplot as plt\n",
    "\n",
    "# Handle Files\n",
    "import sys\n",
    "import os\n",
    "\n",
    "# Import Local Functions\n",
    "sys.path.append(os.path.abspath(\"../source\"))\n",
    "from functions import import_financial_data\n",
    "from portfolios_toolkit import portfolio_variance\n",
    "from portfolios_toolkit import eff_coefficients\n",
    "from portfolios_toolkit import eff_equation\n",
    "\n",
    "# Pretty Notation\n",
    "from IPython.display import display, Math"
   ],
   "outputs": [],
   "execution_count": 2
  },
  {
   "cell_type": "code",
   "id": "3135cf7d-2495-4497-b48d-1c933aadd38b",
   "metadata": {
    "ExecuteTime": {
     "end_time": "2025-04-17T04:45:28.096719Z",
     "start_time": "2025-04-17T04:45:27.980884Z"
    }
   },
   "source": [
    "# Import Data\n",
    "\n",
    "# Apple Data\n",
    "df_1 = import_financial_data(\"AAPL\")\n",
    "\n",
    "# Amazon Data\n",
    "df_2 =  import_financial_data(\"AMZN\")\n",
    "\n",
    "# Meta Data\n",
    "df_3 =  import_financial_data(\"META\")\n",
    "\n",
    "# Microsoft Data\n",
    "df_4 =  import_financial_data(\"MSFT\")"
   ],
   "outputs": [],
   "execution_count": 3
  },
  {
   "cell_type": "code",
   "id": "db41d936-49e7-4707-a243-b0c032ca02d6",
   "metadata": {
    "ExecuteTime": {
     "end_time": "2025-04-17T04:45:28.352118Z",
     "start_time": "2025-04-17T04:45:28.336307Z"
    }
   },
   "source": [
    "# Create the joint dataframe\n",
    "\n",
    "df_data = pd.DataFrame()\n",
    "\n",
    "df_data['AAPL'] = df_1['adj_close']\n",
    "df_data['AMZN'] = df_2['adj_close']\n",
    "df_data['META'] = df_3['adj_close']\n",
    "df_data['MSFT'] = df_4['adj_close']\n",
    "\n",
    "df_data = df_data.dropna()\n",
    "\n",
    "# Create the returns\n",
    "df_returns = df_data.pct_change(1).mul(100)\n",
    "df_returns = df_returns.apply(lambda x: x.fillna(x.mean()), axis=0)\n",
    "\n",
    "df_returns"
   ],
   "outputs": [
    {
     "data": {
      "text/plain": [
       "                AAPL      AMZN      META      MSFT\n",
       "Date                                              \n",
       "2015-01-02  0.103109  0.122536  0.109293  0.104190\n",
       "2015-01-05 -2.817159 -2.051731 -1.606119 -0.930282\n",
       "2015-01-06  0.009412 -2.283332 -1.347325 -1.457097\n",
       "2015-01-07  1.402221  1.059975  0.000000  1.270537\n",
       "2015-01-08  3.842227  0.683600  2.659225  2.941813\n",
       "...              ...       ...       ...       ...\n",
       "2024-10-22 -0.262179  0.333210  1.190973  2.084627\n",
       "2024-10-23 -2.162300 -2.630469 -3.147712 -0.680686\n",
       "2024-10-24 -0.082337  0.904120  0.725576  0.030617\n",
       "2024-10-25  0.364315  0.777980  0.963401  0.805217\n",
       "2024-10-28  0.859946  0.298142  0.856520 -0.364358\n",
       "\n",
       "[2472 rows x 4 columns]"
      ],
      "text/html": [
       "<div>\n",
       "<style scoped>\n",
       "    .dataframe tbody tr th:only-of-type {\n",
       "        vertical-align: middle;\n",
       "    }\n",
       "\n",
       "    .dataframe tbody tr th {\n",
       "        vertical-align: top;\n",
       "    }\n",
       "\n",
       "    .dataframe thead th {\n",
       "        text-align: right;\n",
       "    }\n",
       "</style>\n",
       "<table border=\"1\" class=\"dataframe\">\n",
       "  <thead>\n",
       "    <tr style=\"text-align: right;\">\n",
       "      <th></th>\n",
       "      <th>AAPL</th>\n",
       "      <th>AMZN</th>\n",
       "      <th>META</th>\n",
       "      <th>MSFT</th>\n",
       "    </tr>\n",
       "    <tr>\n",
       "      <th>Date</th>\n",
       "      <th></th>\n",
       "      <th></th>\n",
       "      <th></th>\n",
       "      <th></th>\n",
       "    </tr>\n",
       "  </thead>\n",
       "  <tbody>\n",
       "    <tr>\n",
       "      <th>2015-01-02</th>\n",
       "      <td>0.103109</td>\n",
       "      <td>0.122536</td>\n",
       "      <td>0.109293</td>\n",
       "      <td>0.104190</td>\n",
       "    </tr>\n",
       "    <tr>\n",
       "      <th>2015-01-05</th>\n",
       "      <td>-2.817159</td>\n",
       "      <td>-2.051731</td>\n",
       "      <td>-1.606119</td>\n",
       "      <td>-0.930282</td>\n",
       "    </tr>\n",
       "    <tr>\n",
       "      <th>2015-01-06</th>\n",
       "      <td>0.009412</td>\n",
       "      <td>-2.283332</td>\n",
       "      <td>-1.347325</td>\n",
       "      <td>-1.457097</td>\n",
       "    </tr>\n",
       "    <tr>\n",
       "      <th>2015-01-07</th>\n",
       "      <td>1.402221</td>\n",
       "      <td>1.059975</td>\n",
       "      <td>0.000000</td>\n",
       "      <td>1.270537</td>\n",
       "    </tr>\n",
       "    <tr>\n",
       "      <th>2015-01-08</th>\n",
       "      <td>3.842227</td>\n",
       "      <td>0.683600</td>\n",
       "      <td>2.659225</td>\n",
       "      <td>2.941813</td>\n",
       "    </tr>\n",
       "    <tr>\n",
       "      <th>...</th>\n",
       "      <td>...</td>\n",
       "      <td>...</td>\n",
       "      <td>...</td>\n",
       "      <td>...</td>\n",
       "    </tr>\n",
       "    <tr>\n",
       "      <th>2024-10-22</th>\n",
       "      <td>-0.262179</td>\n",
       "      <td>0.333210</td>\n",
       "      <td>1.190973</td>\n",
       "      <td>2.084627</td>\n",
       "    </tr>\n",
       "    <tr>\n",
       "      <th>2024-10-23</th>\n",
       "      <td>-2.162300</td>\n",
       "      <td>-2.630469</td>\n",
       "      <td>-3.147712</td>\n",
       "      <td>-0.680686</td>\n",
       "    </tr>\n",
       "    <tr>\n",
       "      <th>2024-10-24</th>\n",
       "      <td>-0.082337</td>\n",
       "      <td>0.904120</td>\n",
       "      <td>0.725576</td>\n",
       "      <td>0.030617</td>\n",
       "    </tr>\n",
       "    <tr>\n",
       "      <th>2024-10-25</th>\n",
       "      <td>0.364315</td>\n",
       "      <td>0.777980</td>\n",
       "      <td>0.963401</td>\n",
       "      <td>0.805217</td>\n",
       "    </tr>\n",
       "    <tr>\n",
       "      <th>2024-10-28</th>\n",
       "      <td>0.859946</td>\n",
       "      <td>0.298142</td>\n",
       "      <td>0.856520</td>\n",
       "      <td>-0.364358</td>\n",
       "    </tr>\n",
       "  </tbody>\n",
       "</table>\n",
       "<p>2472 rows × 4 columns</p>\n",
       "</div>"
      ]
     },
     "execution_count": 4,
     "metadata": {},
     "output_type": "execute_result"
    }
   ],
   "execution_count": 4
  },
  {
   "cell_type": "code",
   "id": "2efb2730-c0fd-407f-bec7-22b97fc62bdf",
   "metadata": {
    "ExecuteTime": {
     "end_time": "2025-04-17T04:45:30.311588Z",
     "start_time": "2025-04-17T04:45:30.290072Z"
    }
   },
   "source": [
    "# Create the expected returns and standard deviations\n",
    "\n",
    "expected_returns = df_returns.mean()\n",
    "volatility = df_returns.dropna().std()\n",
    "cov_matrix = df_returns.dropna().cov()"
   ],
   "outputs": [],
   "execution_count": 5
  },
  {
   "metadata": {
    "ExecuteTime": {
     "end_time": "2025-04-17T04:45:31.397669Z",
     "start_time": "2025-04-17T04:45:31.387333Z"
    }
   },
   "cell_type": "code",
   "source": [
    "# Obtain the coefficients of the Efficient Frontier\n",
    "\n",
    "coefficients = eff_coefficients(expected_returns, cov_matrix)\n",
    "\n",
    "coefficients"
   ],
   "id": "9c7cd61e6017b295",
   "outputs": [
    {
     "data": {
      "text/plain": [
       "(79.49940285135305, 1444.3210787826313, 6775.50511775446)"
      ]
     },
     "execution_count": 6,
     "metadata": {},
     "output_type": "execute_result"
    }
   ],
   "execution_count": 6
  },
  {
   "cell_type": "code",
   "id": "242c049e-a89d-4b8d-af0d-760c2f6e6426",
   "metadata": {
    "ExecuteTime": {
     "end_time": "2025-04-17T04:45:46.500306Z",
     "start_time": "2025-04-17T04:45:46.496373Z"
    }
   },
   "source": [
    "# Create a rango of values for mu_P\n",
    "mu_P_values = np.linspace(0.1025, 0.123, 400)\n",
    "\n",
    "# Evaluate the equation for mu_P values\n",
    "sigma_P_values = eff_equation(coefficients, mu_P_values).reshape(-1, 1)"
   ],
   "outputs": [],
   "execution_count": 7
  },
  {
   "cell_type": "code",
   "id": "4f93b602-e643-41e9-bc55-8131a252a7a1",
   "metadata": {
    "ExecuteTime": {
     "end_time": "2025-04-17T04:45:47.189330Z",
     "start_time": "2025-04-17T04:45:47.065571Z"
    }
   },
   "source": [
    "# Create the Plot\n",
    "plt.figure(figsize=(10, 6))\n",
    "plt.plot(sigma_P_values, mu_P_values, label=r'Efficient Frontier', color='black')\n",
    "\n",
    "\n",
    "# Config\n",
    "plt.title('Efficient Frontier')\n",
    "plt.xlabel('Volatility')\n",
    "plt.ylabel('Expected Return')\n",
    "plt.legend()\n",
    "\n",
    "# Show\n",
    "plt.grid(True)\n",
    "plt.show()"
   ],
   "outputs": [
    {
     "data": {
      "text/plain": [
       "<Figure size 1000x600 with 1 Axes>"
      ],
      "image/png": "[encoded data removed]"
     },
     "metadata": {},
     "output_type": "display_data"
    }
   ],
   "execution_count": 8
  },
  {
   "cell_type": "code",
   "id": "479dfd9a-4c70-43d9-9700-57197cc3759d",
   "metadata": {
    "ExecuteTime": {
     "end_time": "2025-04-17T04:45:49.469404Z",
     "start_time": "2025-04-17T04:45:49.466105Z"
    }
   },
   "source": [
    "# The Most Efficient Portfolio is that which maximizes the Sharp Ratio\n",
    "\n",
    "rfr = 0.000125"
   ],
   "outputs": [],
   "execution_count": 9
  },
  {
   "cell_type": "code",
   "id": "c7d2b00b-cbd3-4778-9e29-b54e99373bd6",
   "metadata": {
    "ExecuteTime": {
     "end_time": "2025-04-17T04:45:50.129951Z",
     "start_time": "2025-04-17T04:45:50.124951Z"
    }
   },
   "source": [
    "# Tangency Returns\n",
    "\n",
    "display(Math(r\"\\mu_T = \\frac{2\\pi_0 - \\pi_1r_f}{\\pi_1 - 2\\pi_2r_f}\"))"
   ],
   "outputs": [
    {
     "data": {
      "text/plain": [
       "<IPython.core.display.Math object>"
      ],
      "text/latex": "$\\displaystyle \\mu_T = \\frac{2\\pi_0 - \\pi_1r_f}{\\pi_1 - 2\\pi_2r_f}$"
     },
     "metadata": {},
     "output_type": "display_data"
    }
   ],
   "execution_count": 10
  },
  {
   "cell_type": "code",
   "id": "3cebd521-2fc2-4980-895f-ec67e18c894e",
   "metadata": {
    "ExecuteTime": {
     "end_time": "2025-04-17T04:45:50.721905Z",
     "start_time": "2025-04-17T04:45:50.716880Z"
    }
   },
   "source": [
    "# Obtain the values\n",
    "pi_0 = coefficients[0]\n",
    "pi_1 = coefficients[1]\n",
    "pi_2 = coefficients[2]\n",
    "\n",
    "tangency_returns = ((2*pi_0 - pi_1*rfr)/(pi_1 - 2*pi_2*rfr))\n",
    "tangency_volat = eff_equation(coefficients, tangency_returns)\n",
    "\n",
    "print(f\"The Tangency Portfolio Returns are: {tangency_returns}\")\n",
    "print(f\"The Tangency Portfolio Volatility is: {tangency_volat}\")"
   ],
   "outputs": [
    {
     "name": "stdout",
     "output_type": "stream",
     "text": [
      "The Tangency Portfolio Returns are: 0.11008960963184583\n",
      "The Tangency Portfolio Volatility is: 1.6161369220174138\n"
     ]
    }
   ],
   "execution_count": 11
  },
  {
   "cell_type": "code",
   "id": "83b2d92b-bcb3-4132-9e32-3443351ef8ca",
   "metadata": {
    "ExecuteTime": {
     "end_time": "2025-04-17T04:46:01.779934Z",
     "start_time": "2025-04-17T04:46:01.677111Z"
    }
   },
   "source": [
    "# Create the Scatter Plot\n",
    "plt.figure(figsize=(10, 6))\n",
    "plt.scatter(tangency_volat, tangency_returns, color='red', s=50, label='Tangency Portfolio')  \n",
    "plt.plot(sigma_P_values, mu_P_values, label=r'Efficient Frontier', color='black')\n",
    "\n",
    "\n",
    "# Config\n",
    "plt.title('Efficient Frontier and Portfolios')\n",
    "plt.xlabel('Volatility')\n",
    "plt.ylabel('Expected Return')\n",
    "plt.legend()\n",
    "\n",
    "# Show\n",
    "plt.grid(True)\n",
    "plt.show()"
   ],
   "outputs": [
    {
     "data": {
      "text/plain": [
       "<Figure size 1000x600 with 1 Axes>"
      ],
      "image/png": "[encoded data removed]"
     },
     "metadata": {},
     "output_type": "display_data"
    }
   ],
   "execution_count": 12
  },
  {
   "cell_type": "code",
   "id": "8dd183a5-e6a2-49d7-bbdc-8f66e48df5ab",
   "metadata": {
    "ExecuteTime": {
     "end_time": "2025-04-17T04:46:06.944492Z",
     "start_time": "2025-04-17T04:46:06.939784Z"
    }
   },
   "source": [
    "# The Maximum Sharpe Ratio is the slope of the capital allocation line\n",
    "\n",
    "sharpe_ratio = (tangency_returns - rfr)/tangency_volat\n",
    "\n",
    "print(f\"The Maximum Sharpe Ratio is: {sharpe_ratio}\")"
   ],
   "outputs": [
    {
     "name": "stdout",
     "output_type": "stream",
     "text": [
      "The Maximum Sharpe Ratio is: 0.06804164185208868\n"
     ]
    }
   ],
   "execution_count": 13
  },
  {
   "cell_type": "code",
   "id": "73650282-1f64-41f6-badd-6190179d192d",
   "metadata": {
    "ExecuteTime": {
     "end_time": "2025-04-17T04:49:41.493959Z",
     "start_time": "2025-04-17T04:49:41.487307Z"
    }
   },
   "source": [
    "# Define the CAL\n",
    "\n",
    "def CAL(rfr, sigma_P):\n",
    "    return rfr + sharpe_ratio*sigma_P\n",
    "\n",
    "# Create Range for Sigma\n",
    "sigma_cal_values = np.linspace(1.5, 1.9, 400)\n",
    "\n",
    "# Evaluate for each values of sigma\n",
    "mu_cal_values = CAL(rfr, sigma_cal_values).reshape(-1, 1)"
   ],
   "outputs": [],
   "execution_count": 14
  },
  {
   "cell_type": "code",
   "id": "ba8ceb3b-bd13-4fe8-9ba4-a2083a5458fa",
   "metadata": {
    "ExecuteTime": {
     "end_time": "2025-04-17T04:49:42.164491Z",
     "start_time": "2025-04-17T04:49:41.895310Z"
    }
   },
   "source": [
    "# Create Scatter Plot\n",
    "plt.figure(figsize=(10, 6))\n",
    "plt.scatter(tangency_volat, tangency_returns, color='red', s=50, label='Tangency Portfolio')  \n",
    "plt.plot(sigma_P_values, mu_P_values, label=r'Efficient Frontier', color='black')\n",
    "plt.plot(sigma_cal_values, mu_cal_values, label=r'Capital Allocation Line', color='black', linestyle='--')\n",
    "\n",
    "# Config\n",
    "plt.title('Efficient Frontier and Portfolios')\n",
    "plt.xlabel('Volatility')\n",
    "plt.ylabel('Expected Return')\n",
    "plt.legend()\n",
    "\n",
    "# Show\n",
    "plt.grid(True)\n",
    "plt.show()"
   ],
   "outputs": [
    {
     "data": {
      "text/plain": [
       "<Figure size 1000x600 with 1 Axes>"
      ],
      "image/png": "[encoded data removed]"
     },
     "metadata": {},
     "output_type": "display_data"
    }
   ],
   "execution_count": 15
  },
  {
   "cell_type": "code",
   "id": "b30b655e-e6e4-4371-8a88-fd6f53d7b590",
   "metadata": {
    "ExecuteTime": {
     "end_time": "2025-04-17T04:49:46.897257Z",
     "start_time": "2025-04-17T04:49:46.889818Z"
    }
   },
   "source": [
    "# Obtain the Weights of the Tangency Portfolio\n",
    "\n",
    "def weights(desired_returns):\n",
    "    # Number of assets\n",
    "    n = len(expected_returns)\n",
    "    \n",
    "    # Create inputs\n",
    "    mu = expected_returns.values.flatten().reshape(-1, 1)  # Expected Returns\n",
    "    Sigma = cov_matrix.values  # Covariance Matrix\n",
    "    Sigma_inv = np.linalg.inv(Sigma)  # Inverse Covariance Matrix\n",
    "    iota = np.ones((n, 1))  # Vector of Ones\n",
    "\n",
    "    # Create components\n",
    "    A = np.dot(np.dot(mu.T, Sigma_inv), mu)\n",
    "    B = np.dot(np.dot(iota.T, Sigma_inv), mu)\n",
    "    C = np.dot(np.dot(iota.T, Sigma_inv), iota)\n",
    "    D = (A * C - B * B)\n",
    "\n",
    "    # Calculate the weights\n",
    "    first_part = (((desired_returns * C) - B) / D) * (Sigma_inv @ mu)\n",
    "    second_part = ((A - (desired_returns * B)) / D) * (Sigma_inv @ iota)\n",
    "\n",
    "    return first_part + second_part \n",
    "\n",
    "tangency_weights = weights(tangency_returns)\n",
    "\n",
    "tangency_weights"
   ],
   "outputs": [
    {
     "data": {
      "text/plain": [
       "array([[0.30022602],\n",
       "       [0.33194044],\n",
       "       [0.02629675],\n",
       "       [0.34153679]])"
      ]
     },
     "execution_count": 16,
     "metadata": {},
     "output_type": "execute_result"
    }
   ],
   "execution_count": 16
  },
  {
   "cell_type": "code",
   "id": "feccb8a3-f08c-4c46-b8e1-5869fdde22e6",
   "metadata": {
    "ExecuteTime": {
     "end_time": "2025-04-17T04:51:54.641945Z",
     "start_time": "2025-04-17T04:51:54.638035Z"
    }
   },
   "source": [
    "# Now let us assume we there is an investor willing to take more risk to reach better returns\n",
    "\n",
    "cal_returns = 0.125\n",
    "\n",
    "#In a normal case\n",
    "\n",
    "normal_case_weights = weights(cal_returns)\n",
    "\n",
    "print(normal_case_weights)\n",
    "\n",
    "print(f'The sum of weights is: {normal_case_weights.sum().round(2)}')"
   ],
   "outputs": [
    {
     "name": "stdout",
     "output_type": "stream",
     "text": [
      "[[ 0.02886853]\n",
      " [ 1.14453709]\n",
      " [-0.03077028]\n",
      " [-0.14263534]]\n",
      "The sum of weights is: 1.0\n"
     ]
    }
   ],
   "execution_count": 37
  },
  {
   "cell_type": "code",
   "id": "274e4fe2-ad5e-4948-90e6-3f6bccb8e7cf",
   "metadata": {
    "ExecuteTime": {
     "end_time": "2025-04-17T04:51:54.925561Z",
     "start_time": "2025-04-17T04:51:54.919543Z"
    }
   },
   "source": [
    "# Define the function to obtain the weights for the CAL\n",
    "\n",
    "def cal_weights(desired_returns):\n",
    "    \n",
    "    # Create inputs\n",
    "    mu = expected_returns.values.flatten().reshape(-1, 1)  # Expected Returns\n",
    "    Sigma = cov_matrix.values  # Covariance Matrix\n",
    "    Sigma_inv = np.linalg.inv(Sigma)  # Inverse Covariance Matrix\n",
    "\n",
    "    # Create components\n",
    "    A = np.dot(np.dot(mu.T, Sigma_inv), mu)\n",
    "\n",
    "    weights = ((desired_returns - rfr) / A) * (Sigma_inv @ mu)\n",
    "\n",
    "    return weights\n",
    "\n",
    "cal_weights = cal_weights(cal_returns)\n",
    "\n",
    "print(cal_weights)\n",
    "\n",
    "print(f'The sum of weights is: {cal_weights.sum().round(2)}')\n",
    "\n",
    "if cal_weights.sum().round(2) < 1:\n",
    "    print('You are a lender')\n",
    "elif cal_weights.sum().round(2) > 1:\n",
    "    print('You are a borrower')\n",
    "else:\n",
    "    print('You are special')"
   ],
   "outputs": [
    {
     "name": "stdout",
     "output_type": "stream",
     "text": [
      "[[0.34064494]\n",
      " [0.37628101]\n",
      " [0.02984745]\n",
      " [0.38757219]]\n",
      "The sum of weights is: 1.13\n",
      "You are a borrower\n"
     ]
    }
   ],
   "execution_count": 38
  },
  {
   "cell_type": "code",
   "id": "3a1b2327-630d-4518-aa5f-9789ed8df4de",
   "metadata": {
    "ExecuteTime": {
     "end_time": "2025-04-17T04:55:22.385466Z",
     "start_time": "2025-04-17T04:55:22.380326Z"
    }
   },
   "source": [
    "# Obtain the volatility given the desired returns\n",
    "\n",
    "def cal_volatility(desired_returns):\n",
    "    # Create inputs\n",
    "    mu = expected_returns.values.flatten().reshape(-1, 1)  # Expected Returns\n",
    "    Sigma = cov_matrix.values  # Covariance Matrix\n",
    "    Sigma_inv = np.linalg.inv(Sigma)  # Inverse Covariance Matrix\n",
    "\n",
    "    # Create components\n",
    "    A = np.dot(np.dot(mu.T, Sigma_inv), mu)\n",
    "    \n",
    "    return abs(np.sqrt(1/A)*(desired_returns - rfr))\n",
    "\n",
    "cal_volat = cal_volatility(cal_returns)\n",
    "\n",
    "print(f'The CAL Portfolio Risk: {cal_volat[0][0]}')"
   ],
   "outputs": [
    {
     "name": "stdout",
     "output_type": "stream",
     "text": [
      "The CAL Portfolio Risk: 1.8331892948663449\n"
     ]
    }
   ],
   "execution_count": 45
  },
  {
   "metadata": {
    "ExecuteTime": {
     "end_time": "2025-04-17T04:55:22.754958Z",
     "start_time": "2025-04-17T04:55:22.750047Z"
    }
   },
   "cell_type": "code",
   "source": [
    "cal_var = portfolio_variance(cal_weights, df_returns[['AAPL', 'AMZN', 'META', 'MSFT']])\n",
    "cal_volat_alt = np.sqrt(cal_var)\n",
    "\n",
    "print(cal_volat_alt[0][0])"
   ],
   "id": "2c10a5ba611ff72c",
   "outputs": [
    {
     "name": "stdout",
     "output_type": "stream",
     "text": [
      "1.8331892948663453\n"
     ]
    }
   ],
   "execution_count": 46
  },
  {
   "cell_type": "code",
   "id": "615f35b0-1376-4397-9f22-1fc9c18f2c2c",
   "metadata": {
    "ExecuteTime": {
     "end_time": "2025-04-17T04:51:55.802843Z",
     "start_time": "2025-04-17T04:51:55.656179Z"
    }
   },
   "source": [
    "# Create Scatter plot\n",
    "plt.figure(figsize=(10, 6))\n",
    "plt.scatter(tangency_volat, tangency_returns, color='red', s=50, label='Tangency Portfolio')  \n",
    "plt.plot(sigma_P_values, mu_P_values, label=r'Efficient Frontier', color='black')\n",
    "plt.plot(sigma_cal_values, mu_cal_values, label=r'Capital Allocation Line', color='black', linestyle='--')\n",
    "plt.scatter(cal_volat, cal_returns, color='blue', s=50, label='CAL Portfolio')  \n",
    "\n",
    "\n",
    "# Config\n",
    "plt.title('Efficient Frontier and Portfolios')\n",
    "plt.xlabel('Volatility')\n",
    "plt.ylabel('Expected Return')\n",
    "plt.legend()\n",
    "\n",
    "# Show\n",
    "plt.grid(True)\n",
    "plt.show()"
   ],
   "outputs": [
    {
     "data": {
      "text/plain": [
       "<Figure size 1000x600 with 1 Axes>"
      ],
      "image/png": "[encoded data removed]"
     },
     "metadata": {},
     "output_type": "display_data"
    }
   ],
   "execution_count": 41
  },
  {
   "cell_type": "code",
   "id": "0a292251-66ed-4f29-884b-1997a13e3657",
   "metadata": {
    "ExecuteTime": {
     "end_time": "2025-04-17T04:51:55.941189Z",
     "start_time": "2025-04-17T04:51:55.932182Z"
    }
   },
   "source": [
    "# Create Portfolios\n",
    "tangency_portfolio = df_returns[['AAPL', 'AMZN', 'META', 'MSFT']] @ tangency_weights\n",
    "cal_portfolio = df_returns[['AAPL', 'AMZN', 'META', 'MSFT']] @ cal_weights\n",
    "\n",
    "# Create DataFrame\n",
    "df_returns['Tangency Portfolio'] = tangency_portfolio\n",
    "df_returns['CAL Portfolio'] = cal_portfolio\n",
    "\n",
    "df_returns"
   ],
   "outputs": [
    {
     "data": {
      "text/plain": [
       "                AAPL      AMZN      META      MSFT  Tangency Portfolio  \\\n",
       "Date                                                                     \n",
       "2015-01-02  0.103109  0.122536  0.109293  0.104190            0.110090   \n",
       "2015-01-05 -2.817159 -2.051731 -1.606119 -0.930282           -1.886798   \n",
       "2015-01-06  0.009412 -2.283332 -1.347325 -1.457097           -1.288187   \n",
       "2015-01-07  1.402221  1.059975  0.000000  1.270537            1.206767   \n",
       "2015-01-08  3.842227  0.683600  2.659225  2.941813            2.455117   \n",
       "...              ...       ...       ...       ...                 ...   \n",
       "2024-10-22 -0.262179  0.333210  1.190973  2.084627            0.775188   \n",
       "2024-10-23 -2.162300 -2.630469 -3.147712 -0.680686           -1.837592   \n",
       "2024-10-24 -0.082337  0.904120  0.725576  0.030617            0.304932   \n",
       "2024-10-25  0.364315  0.777980  0.963401  0.805217            0.667966   \n",
       "2024-10-28  0.859946  0.298142  0.856520 -0.364358            0.255225   \n",
       "\n",
       "            CAL Portfolio  \n",
       "Date                       \n",
       "2015-01-02       0.124875  \n",
       "2015-01-05      -2.140168  \n",
       "2015-01-06      -1.460913  \n",
       "2015-01-07       1.368933  \n",
       "2015-01-08       2.785597  \n",
       "...                   ...  \n",
       "2024-10-22       0.879562  \n",
       "2024-10-23      -2.084138  \n",
       "2024-10-24       0.345679  \n",
       "2024-10-25       0.757676  \n",
       "2024-10-28       0.289471  \n",
       "\n",
       "[2472 rows x 6 columns]"
      ],
      "text/html": [
       "<div>\n",
       "<style scoped>\n",
       "    .dataframe tbody tr th:only-of-type {\n",
       "        vertical-align: middle;\n",
       "    }\n",
       "\n",
       "    .dataframe tbody tr th {\n",
       "        vertical-align: top;\n",
       "    }\n",
       "\n",
       "    .dataframe thead th {\n",
       "        text-align: right;\n",
       "    }\n",
       "</style>\n",
       "<table border=\"1\" class=\"dataframe\">\n",
       "  <thead>\n",
       "    <tr style=\"text-align: right;\">\n",
       "      <th></th>\n",
       "      <th>AAPL</th>\n",
       "      <th>AMZN</th>\n",
       "      <th>META</th>\n",
       "      <th>MSFT</th>\n",
       "      <th>Tangency Portfolio</th>\n",
       "      <th>CAL Portfolio</th>\n",
       "    </tr>\n",
       "    <tr>\n",
       "      <th>Date</th>\n",
       "      <th></th>\n",
       "      <th></th>\n",
       "      <th></th>\n",
       "      <th></th>\n",
       "      <th></th>\n",
       "      <th></th>\n",
       "    </tr>\n",
       "  </thead>\n",
       "  <tbody>\n",
       "    <tr>\n",
       "      <th>2015-01-02</th>\n",
       "      <td>0.103109</td>\n",
       "      <td>0.122536</td>\n",
       "      <td>0.109293</td>\n",
       "      <td>0.104190</td>\n",
       "      <td>0.110090</td>\n",
       "      <td>0.124875</td>\n",
       "    </tr>\n",
       "    <tr>\n",
       "      <th>2015-01-05</th>\n",
       "      <td>-2.817159</td>\n",
       "      <td>-2.051731</td>\n",
       "      <td>-1.606119</td>\n",
       "      <td>-0.930282</td>\n",
       "      <td>-1.886798</td>\n",
       "      <td>-2.140168</td>\n",
       "    </tr>\n",
       "    <tr>\n",
       "      <th>2015-01-06</th>\n",
       "      <td>0.009412</td>\n",
       "      <td>-2.283332</td>\n",
       "      <td>-1.347325</td>\n",
       "      <td>-1.457097</td>\n",
       "      <td>-1.288187</td>\n",
       "      <td>-1.460913</td>\n",
       "    </tr>\n",
       "    <tr>\n",
       "      <th>2015-01-07</th>\n",
       "      <td>1.402221</td>\n",
       "      <td>1.059975</td>\n",
       "      <td>0.000000</td>\n",
       "      <td>1.270537</td>\n",
       "      <td>1.206767</td>\n",
       "      <td>1.368933</td>\n",
       "    </tr>\n",
       "    <tr>\n",
       "      <th>2015-01-08</th>\n",
       "      <td>3.842227</td>\n",
       "      <td>0.683600</td>\n",
       "      <td>2.659225</td>\n",
       "      <td>2.941813</td>\n",
       "      <td>2.455117</td>\n",
       "      <td>2.785597</td>\n",
       "    </tr>\n",
       "    <tr>\n",
       "      <th>...</th>\n",
       "      <td>...</td>\n",
       "      <td>...</td>\n",
       "      <td>...</td>\n",
       "      <td>...</td>\n",
       "      <td>...</td>\n",
       "      <td>...</td>\n",
       "    </tr>\n",
       "    <tr>\n",
       "      <th>2024-10-22</th>\n",
       "      <td>-0.262179</td>\n",
       "      <td>0.333210</td>\n",
       "      <td>1.190973</td>\n",
       "      <td>2.084627</td>\n",
       "      <td>0.775188</td>\n",
       "      <td>0.879562</td>\n",
       "    </tr>\n",
       "    <tr>\n",
       "      <th>2024-10-23</th>\n",
       "      <td>-2.162300</td>\n",
       "      <td>-2.630469</td>\n",
       "      <td>-3.147712</td>\n",
       "      <td>-0.680686</td>\n",
       "      <td>-1.837592</td>\n",
       "      <td>-2.084138</td>\n",
       "    </tr>\n",
       "    <tr>\n",
       "      <th>2024-10-24</th>\n",
       "      <td>-0.082337</td>\n",
       "      <td>0.904120</td>\n",
       "      <td>0.725576</td>\n",
       "      <td>0.030617</td>\n",
       "      <td>0.304932</td>\n",
       "      <td>0.345679</td>\n",
       "    </tr>\n",
       "    <tr>\n",
       "      <th>2024-10-25</th>\n",
       "      <td>0.364315</td>\n",
       "      <td>0.777980</td>\n",
       "      <td>0.963401</td>\n",
       "      <td>0.805217</td>\n",
       "      <td>0.667966</td>\n",
       "      <td>0.757676</td>\n",
       "    </tr>\n",
       "    <tr>\n",
       "      <th>2024-10-28</th>\n",
       "      <td>0.859946</td>\n",
       "      <td>0.298142</td>\n",
       "      <td>0.856520</td>\n",
       "      <td>-0.364358</td>\n",
       "      <td>0.255225</td>\n",
       "      <td>0.289471</td>\n",
       "    </tr>\n",
       "  </tbody>\n",
       "</table>\n",
       "<p>2472 rows × 6 columns</p>\n",
       "</div>"
      ]
     },
     "execution_count": 42,
     "metadata": {},
     "output_type": "execute_result"
    }
   ],
   "execution_count": 42
  },
  {
   "cell_type": "code",
   "id": "05852115-ac19-4993-8d3e-bff9e3321e72",
   "metadata": {
    "ExecuteTime": {
     "end_time": "2025-04-17T04:51:56.209142Z",
     "start_time": "2025-04-17T04:51:56.204146Z"
    }
   },
   "source": [
    "def calculate_analytics(df_returns, risk_free_rate=0.0):\n",
    "    # Trading Days in one Year\n",
    "    ann_factor = 252  \n",
    "    \n",
    "    # Annualized Returns\n",
    "    annualized_return = df_returns.mean() * ann_factor\n",
    "    \n",
    "    # Annualized Volatility\n",
    "    annualized_std = df_returns.std() * np.sqrt(ann_factor)\n",
    "    \n",
    "    # Sharpe Ratio\n",
    "    sharpe_ratio = (annualized_return - risk_free_rate) / annualized_std\n",
    "    \n",
    "    # Max Drawdown\n",
    "    cumulative_returns = (1 + df_returns.div(100)).cumprod()\n",
    "    rolling_max = cumulative_returns.cummax()\n",
    "    drawdown = (cumulative_returns / rolling_max) - 1\n",
    "    max_drawdown = drawdown.min()\n",
    "\n",
    "    # VaR at 95%\n",
    "    var_95 = df_returns.quantile(0.05)\n",
    "\n",
    "    # Create DF\n",
    "    summary_df = pd.DataFrame({\n",
    "        \"Annualized Returns\": annualized_return,\n",
    "        \"Annualized Volatility\": annualized_std,\n",
    "        \"Sharpe Ratio\": sharpe_ratio,\n",
    "        \"Max Drawdown\": max_drawdown,\n",
    "        \"VaR 95%\": var_95\n",
    "    })\n",
    "    \n",
    "    return summary_df"
   ],
   "outputs": [],
   "execution_count": 43
  },
  {
   "cell_type": "code",
   "id": "639af96c-a1b3-436c-96c9-471c77847e2d",
   "metadata": {
    "ExecuteTime": {
     "end_time": "2025-04-17T04:51:56.509922Z",
     "start_time": "2025-04-17T04:51:56.501744Z"
    }
   },
   "source": [
    "# Now the table\n",
    "analytics_table = calculate_analytics(df_returns)\n",
    "\n",
    "analytics_table"
   ],
   "outputs": [
    {
     "data": {
      "text/plain": [
       "                    Annualized Returns  Annualized Volatility  Sharpe Ratio  \\\n",
       "AAPL                         25.983505              28.639845      0.907250   \n",
       "AMZN                         30.879190              32.778793      0.942048   \n",
       "META                         27.541784              37.632035      0.731871   \n",
       "MSFT                         26.255872              27.209956      0.964936   \n",
       "Tangency Portfolio           27.742582              25.655378      1.081355   \n",
       "CAL Portfolio                31.468500              29.100978      1.081355   \n",
       "\n",
       "                    Max Drawdown   VaR 95%  \n",
       "AAPL                   -0.387297 -2.713460  \n",
       "AMZN                   -0.561453 -3.061348  \n",
       "META                   -0.767361 -3.317563  \n",
       "MSFT                   -0.375565 -2.646305  \n",
       "Tangency Portfolio     -0.395505 -2.572526  \n",
       "CAL Portfolio          -0.441065 -2.918019  "
      ],
      "text/html": [
       "<div>\n",
       "<style scoped>\n",
       "    .dataframe tbody tr th:only-of-type {\n",
       "        vertical-align: middle;\n",
       "    }\n",
       "\n",
       "    .dataframe tbody tr th {\n",
       "        vertical-align: top;\n",
       "    }\n",
       "\n",
       "    .dataframe thead th {\n",
       "        text-align: right;\n",
       "    }\n",
       "</style>\n",
       "<table border=\"1\" class=\"dataframe\">\n",
       "  <thead>\n",
       "    <tr style=\"text-align: right;\">\n",
       "      <th></th>\n",
       "      <th>Annualized Returns</th>\n",
       "      <th>Annualized Volatility</th>\n",
       "      <th>Sharpe Ratio</th>\n",
       "      <th>Max Drawdown</th>\n",
       "      <th>VaR 95%</th>\n",
       "    </tr>\n",
       "  </thead>\n",
       "  <tbody>\n",
       "    <tr>\n",
       "      <th>AAPL</th>\n",
       "      <td>25.983505</td>\n",
       "      <td>28.639845</td>\n",
       "      <td>0.907250</td>\n",
       "      <td>-0.387297</td>\n",
       "      <td>-2.713460</td>\n",
       "    </tr>\n",
       "    <tr>\n",
       "      <th>AMZN</th>\n",
       "      <td>30.879190</td>\n",
       "      <td>32.778793</td>\n",
       "      <td>0.942048</td>\n",
       "      <td>-0.561453</td>\n",
       "      <td>-3.061348</td>\n",
       "    </tr>\n",
       "    <tr>\n",
       "      <th>META</th>\n",
       "      <td>27.541784</td>\n",
       "      <td>37.632035</td>\n",
       "      <td>0.731871</td>\n",
       "      <td>-0.767361</td>\n",
       "      <td>-3.317563</td>\n",
       "    </tr>\n",
       "    <tr>\n",
       "      <th>MSFT</th>\n",
       "      <td>26.255872</td>\n",
       "      <td>27.209956</td>\n",
       "      <td>0.964936</td>\n",
       "      <td>-0.375565</td>\n",
       "      <td>-2.646305</td>\n",
       "    </tr>\n",
       "    <tr>\n",
       "      <th>Tangency Portfolio</th>\n",
       "      <td>27.742582</td>\n",
       "      <td>25.655378</td>\n",
       "      <td>1.081355</td>\n",
       "      <td>-0.395505</td>\n",
       "      <td>-2.572526</td>\n",
       "    </tr>\n",
       "    <tr>\n",
       "      <th>CAL Portfolio</th>\n",
       "      <td>31.468500</td>\n",
       "      <td>29.100978</td>\n",
       "      <td>1.081355</td>\n",
       "      <td>-0.441065</td>\n",
       "      <td>-2.918019</td>\n",
       "    </tr>\n",
       "  </tbody>\n",
       "</table>\n",
       "</div>"
      ]
     },
     "execution_count": 44,
     "metadata": {},
     "output_type": "execute_result"
    }
   ],
   "execution_count": 44
  },
  {
   "cell_type": "code",
   "execution_count": null,
   "id": "25ba5e04-d0fe-49aa-bc0e-2c3aed81fb2b",
   "metadata": {},
   "source": [],
   "outputs": []
  }
 ],
 "metadata": {
  "kernelspec": {
   "display_name": "Python 3 (ipykernel)",
   "language": "python",
   "name": "python3"
  },
  "language_info": {
   "codemirror_mode": {
    "name": "ipython",
    "version": 3
   },
   "file_extension": ".py",
   "mimetype": "text/x-python",
   "name": "python",
   "nbconvert_exporter": "python",
   "pygments_lexer": "ipython3",
   "version": "3.11.7"
  }
 },
 "nbformat": 4,
 "nbformat_minor": 5
}
