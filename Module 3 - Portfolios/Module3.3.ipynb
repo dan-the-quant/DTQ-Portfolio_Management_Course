{
 "cells": [
  {
   "cell_type": "markdown",
   "id": "d6aca106-ecd5-497b-9dad-760ad6f159ba",
   "metadata": {},
   "source": [
    "# Capital Allocation Line #\n",
    "\n",
    "### Building Portfolios Maximizing Sharpe Ratio ###"
   ]
  },
  {
   "cell_type": "code",
   "execution_count": 79,
   "id": "a86301ed-e6af-4c26-b147-e9f979f2f995",
   "metadata": {},
   "source": [
    "# Import Libraries\n",
    "\n",
    "# Data Management\n",
    "import pandas as pd\n",
    "import numpy as np\n",
    "\n",
    "# Visualization\n",
    "import matplotlib.pyplot as plt\n",
    "\n",
    "# Optiminization\n",
    "from scipy.optimize import minimize\n",
    "\n",
    "# Pretty Notation\n",
    "from IPython.display import display, Math"
   ],
   "outputs": []
  },
  {
   "cell_type": "code",
   "execution_count": 80,
   "id": "c6290450-d9c4-4ecb-8283-e940e1c23bea",
   "metadata": {},
   "source": [
    "def import_financial_data(\n",
    "    ticker: str\n",
    "):\n",
    "\n",
    "    # Check the ticker for Upper Cases\n",
    "    ticker = ticker if ticker.isupper() else ticker.upper()\n",
    "\n",
    "    # Import data\n",
    "    df = pd.read_csv(rf\"..\\stocks\\{ticker}.csv\")\n",
    "\n",
    "    # Set the Index\n",
    "    df = df.set_index('Date')\n",
    "    df.index = pd.to_datetime(df.index)\n",
    "\n",
    "    df_useful_data = df[['Open Price', 'High Price', 'Low Price', 'Close Price']]\n",
    "\n",
    "    df_useful_data = df_useful_data.rename(columns={\n",
    "        \"Open Price\":\"Open\",\n",
    "        \"High Price\":\"High\",\n",
    "        \"Low Price\":\"Low\",\n",
    "        \"Close Price\":\"Close\",\n",
    "    })\n",
    "\n",
    "    # Drop NaN's\n",
    "    df_useful_data.dropna(inplace = True)\n",
    "\n",
    "    return df_useful_data.loc[\"2023-01-01\":]"
   ],
   "outputs": []
  },
  {
   "cell_type": "code",
   "execution_count": 81,
   "id": "3135cf7d-2495-4497-b48d-1c933aadd38b",
   "metadata": {},
   "source": [
    "# Import Data\n",
    "\n",
    "# Apple Data\n",
    "df_1 = import_financial_data(\"AAPL\")\n",
    "\n",
    "# Amazon Data\n",
    "df_2 =  import_financial_data(\"AMZN\")\n",
    "\n",
    "# Meta Data\n",
    "df_3 =  import_financial_data(\"META\")\n",
    "\n",
    "# Microsoft Data\n",
    "df_4 =  import_financial_data(\"MSFT\")"
   ],
   "outputs": []
  },
  {
   "cell_type": "code",
   "execution_count": 82,
   "id": "db41d936-49e7-4707-a243-b0c032ca02d6",
   "metadata": {},
   "source": [
    "# Create the joint dataframe\n",
    "\n",
    "df_data = pd.DataFrame()\n",
    "\n",
    "df_data['AAPL'] = df_1['Close']\n",
    "df_data['AMZN'] = df_2['Close']\n",
    "df_data['META'] = df_3['Close']\n",
    "df_data['MSFT'] = df_4['Close']\n",
    "\n",
    "df_data = df_data.dropna()\n",
    "\n",
    "df_returns = df_data.pct_change(1).mul(100)\n",
    "df_returns = df_returns.apply(lambda x: x.fillna(x.mean()), axis=0)\n",
    "\n",
    "df_returns"
   ],
   "outputs": []
  },
  {
   "cell_type": "code",
   "execution_count": 83,
   "id": "2efb2730-c0fd-407f-bec7-22b97fc62bdf",
   "metadata": {},
   "source": [
    "# Create the expected returns and volatilities\n",
    "\n",
    "expected_returns = df_returns.mean()\n",
    "volat = df_returns.dropna().std()\n",
    "cov_matrix = df_returns.dropna().cov()"
   ],
   "outputs": []
  },
  {
   "cell_type": "code",
   "execution_count": 84,
   "id": "b9226e60-101b-47c6-8643-21e5a43cf760",
   "metadata": {},
   "source": [
    "# Let us obtain the equation again\n",
    "\n",
    "mu = expected_returns.values.flatten().reshape(-1, 1)\n",
    "Sigma = cov_matrix.values\n",
    "Sigma_inv = np.linalg.inv(Sigma)\n",
    "iota = np.ones((4, 1))"
   ],
   "outputs": []
  },
  {
   "cell_type": "code",
   "execution_count": 85,
   "id": "6a1ed472-8ce0-4941-8164-992cdcde3311",
   "metadata": {},
   "source": [
    "A = np.dot(np.dot(mu.T, Sigma_inv), mu)\n",
    "B = np.dot(np.dot(iota.T, Sigma_inv), mu)\n",
    "C = np.dot(np.dot(iota.T, Sigma_inv), iota)\n",
    "D = (A*C - B*B)\n",
    "\n",
    "print(f\"This is A: {A}\")\n",
    "print(f\"This is B: {B}\")\n",
    "print(f\"This is C: {C}\")\n",
    "print(f\"This is D: {D}\")"
   ],
   "outputs": []
  },
  {
   "cell_type": "code",
   "execution_count": 86,
   "id": "0b169239-1d0d-4957-a991-157ca317da3d",
   "metadata": {},
   "source": [
    "# Then the equation\n",
    "\n",
    "pi_0 = A/D\n",
    "pi_1 = 2*B/D\n",
    "pi_2 = C/D\n",
    "\n",
    "print(f\"This is the first coefficient: {pi_0}\")\n",
    "print(f\"This is the second coefficient: {pi_1}\")\n",
    "print(f\"This is the third coefficient: {pi_2}\")"
   ],
   "outputs": []
  },
  {
   "cell_type": "code",
   "execution_count": 87,
   "id": "242c049e-a89d-4b8d-af0d-760c2f6e6426",
   "metadata": {},
   "source": [
    "# Now let us obtain the values of the efficient frontier\n",
    "\n",
    "def equation(mu_P):\n",
    "    return np.sqrt((pi_0 - pi_1 * mu_P + pi_2 * mu_P**2))\n",
    "\n",
    "# Crear un rango de valores para mu_P\n",
    "mu_P_values = np.linspace(0.09, 0.35, 400)\n",
    "\n",
    "# Evaluar la ecuación en los valores de mu_P\n",
    "sigma_P_values = equation(mu_P_values).reshape(-1, 1)"
   ],
   "outputs": []
  },
  {
   "cell_type": "code",
   "execution_count": 88,
   "id": "4f93b602-e643-41e9-bc55-8131a252a7a1",
   "metadata": {},
   "source": [
    "# Crear el gráfico de dispersión\n",
    "plt.figure(figsize=(10, 6))\n",
    "plt.plot(sigma_P_values, mu_P_values, label=r'Efficient Frontier', color='black')\n",
    "\n",
    "\n",
    "# Añadir título y etiquetas\n",
    "plt.title('Efficient Frontier')\n",
    "plt.xlabel('Volatility')\n",
    "plt.ylabel('Expected Return')\n",
    "plt.legend()\n",
    "\n",
    "# Mostrar el gráfico\n",
    "plt.grid(True)\n",
    "plt.show()"
   ],
   "outputs": []
  },
  {
   "cell_type": "code",
   "execution_count": 89,
   "id": "479dfd9a-4c70-43d9-9700-57197cc3759d",
   "metadata": {},
   "source": [
    "# The Most Efficient Portfolio is that which maximizes the Sharp Ratio\n",
    "\n",
    "rfr = 0.000125"
   ],
   "outputs": []
  },
  {
   "cell_type": "code",
   "execution_count": 90,
   "id": "c7d2b00b-cbd3-4778-9e29-b54e99373bd6",
   "metadata": {},
   "source": [
    "# Tangency Returns\n",
    "\n",
    "display(Math(r\"\\mu_T = \\frac{2\\pi_0 - \\pi_1r_f}{\\pi_1 - 2\\pi_2r_f}\"))"
   ],
   "outputs": []
  },
  {
   "cell_type": "code",
   "execution_count": 91,
   "id": "3cebd521-2fc2-4980-895f-ec67e18c894e",
   "metadata": {},
   "source": [
    "# Obtain the values\n",
    "\n",
    "tangency_returns = ((2*pi_0 - pi_1*rfr)/(pi_1 - 2*pi_2*rfr))[0][0]\n",
    "tangency_volat = equation(tangency_returns)[0][0]\n",
    "\n",
    "print(f\"The Tangency Portfolio Returns are: {tangency_returns}\")\n",
    "print(f\"The Tangency Portfolio Volatility is: {tangency_volat}\")"
   ],
   "outputs": []
  },
  {
   "cell_type": "code",
   "execution_count": 92,
   "id": "83b2d92b-bcb3-4132-9e32-3443351ef8ca",
   "metadata": {},
   "source": [
    "# Crear el gráfico de dispersión\n",
    "plt.figure(figsize=(10, 6))\n",
    "plt.scatter(tangency_volat, tangency_returns, color='red', s=50, label='Tangency Portfolio')  \n",
    "plt.plot(sigma_P_values, mu_P_values, label=r'Efficient Frontier', color='black')\n",
    "\n",
    "\n",
    "# Añadir título y etiquetas\n",
    "plt.title('Efficient Frontier and Portfolios')\n",
    "plt.xlabel('Volatility')\n",
    "plt.ylabel('Expected Return')\n",
    "plt.legend()\n",
    "\n",
    "# Mostrar el gráfico\n",
    "plt.grid(True)\n",
    "plt.show()"
   ],
   "outputs": []
  },
  {
   "cell_type": "code",
   "execution_count": 96,
   "id": "8dd183a5-e6a2-49d7-bbdc-8f66e48df5ab",
   "metadata": {},
   "source": [
    "# The Maximum Sharpe Ratio is the slope of the capital allocation line\n",
    "\n",
    "sharpe_ratio = (tangency_returns - rfr)/tangency_volat\n",
    "\n",
    "print(f\"The Maximum Sharpe Ratio is: {sharpe_ratio}\")"
   ],
   "outputs": []
  },
  {
   "cell_type": "code",
   "execution_count": 98,
   "id": "73650282-1f64-41f6-badd-6190179d192d",
   "metadata": {},
   "source": [
    "# Define the CAL\n",
    "\n",
    "def CAL(sigma_P):\n",
    "    return rfr + sharpe_ratio*sigma_P\n",
    "\n",
    "# Crear un rango de valores para mu_P\n",
    "sigma_cal_values = np.linspace(1.1, 2.5, 400)\n",
    "\n",
    "# Evaluar la ecuación en los valores de mu_P\n",
    "mu_cal_values = CAL(sigma_cal_values).reshape(-1, 1)"
   ],
   "outputs": []
  },
  {
   "cell_type": "code",
   "execution_count": 100,
   "id": "ba8ceb3b-bd13-4fe8-9ba4-a2083a5458fa",
   "metadata": {},
   "source": [
    "# Crear el gráfico de dispersión\n",
    "plt.figure(figsize=(10, 6))\n",
    "plt.scatter(tangency_volat, tangency_returns, color='red', s=50, label='Tangency Portfolio')  \n",
    "plt.plot(sigma_P_values, mu_P_values, label=r'Efficient Frontier', color='black')\n",
    "plt.plot(sigma_cal_values, mu_cal_values, label=r'Capital Allocation Line', color='black', linestyle='--')\n",
    "\n",
    "\n",
    "# Añadir título y etiquetas\n",
    "plt.title('Efficient Frontier and Portfolios')\n",
    "plt.xlabel('Volatility')\n",
    "plt.ylabel('Expected Return')\n",
    "plt.legend()\n",
    "\n",
    "# Mostrar el gráfico\n",
    "plt.grid(True)\n",
    "plt.show()"
   ],
   "outputs": []
  },
  {
   "cell_type": "code",
   "execution_count": 102,
   "id": "b30b655e-e6e4-4371-8a88-fd6f53d7b590",
   "metadata": {},
   "source": [
    "# Obtain the Weights of the Tangency Portfolio\n",
    "\n",
    "def weights(desired_returns):\n",
    "    D = (A * C) - (B ** 2)\n",
    "\n",
    "    first_part = (((desired_returns * C) - B) / D) * (Sigma_inv @ mu)\n",
    "    second_part = ((A - (desired_returns * B)) / D) * (Sigma_inv @ iota)\n",
    "\n",
    "    return first_part + second_part \n",
    "\n",
    "tangency_weights = weights(tangency_returns)\n",
    "\n",
    "print(tangency_weights)"
   ],
   "outputs": []
  },
  {
   "cell_type": "code",
   "execution_count": 104,
   "id": "feccb8a3-f08c-4c46-b8e1-5869fdde22e6",
   "metadata": {},
   "source": [
    "# Now let us assume we there is an investor willing to take more risk to reach better returns\n",
    "\n",
    "cal_returns = 0.2\n",
    "\n",
    "#In a normal case\n",
    "\n",
    "normal_case_weights = weights(cal_returns)\n",
    "\n",
    "print(normal_case_weights)\n",
    "\n",
    "print(f'The sum of weights is: {normal_case_weights.sum().round(2)}')"
   ],
   "outputs": []
  },
  {
   "cell_type": "code",
   "execution_count": 106,
   "id": "274e4fe2-ad5e-4948-90e6-3f6bccb8e7cf",
   "metadata": {},
   "source": [
    "# Define the function to obtain the weights for the CAL\n",
    "\n",
    "def cal_weights(desired_returns):\n",
    "\n",
    "    weights = ((desired_returns - rfr) / A) * (Sigma_inv @ mu)\n",
    "\n",
    "    return weights\n",
    "\n",
    "cal_weights = cal_weights(cal_returns)\n",
    "\n",
    "print(cal_weights)\n",
    "\n",
    "print(f'The sum of weights is: {cal_weights.sum().round(2)}')\n",
    "\n",
    "if cal_weights.sum().round(2) < 1:\n",
    "    print('You are a lender')\n",
    "elif cal_weights.sum().round(2) > 1:\n",
    "    print('You are a borrower')\n",
    "else:\n",
    "    print('You are special')"
   ],
   "outputs": []
  },
  {
   "cell_type": "code",
   "execution_count": 108,
   "id": "3a1b2327-630d-4518-aa5f-9789ed8df4de",
   "metadata": {},
   "source": [
    "# Obtain the volatility given the desired returns\n",
    "\n",
    "def cal_risk(desired_returns):\n",
    "    return abs(np.sqrt(1/A)*(desired_returns - rfr))\n",
    "\n",
    "cal_volat = cal_risk(cal_returns)\n",
    "\n",
    "print(cal_volat)"
   ],
   "outputs": []
  },
  {
   "cell_type": "code",
   "execution_count": 110,
   "id": "615f35b0-1376-4397-9f22-1fc9c18f2c2c",
   "metadata": {},
   "source": [
    "# Crear el gráfico de dispersión\n",
    "plt.figure(figsize=(10, 6))\n",
    "plt.scatter(tangency_volat, tangency_returns, color='red', s=50, label='Tangency Portfolio')  \n",
    "plt.plot(sigma_P_values, mu_P_values, label=r'Efficient Frontier', color='black')\n",
    "plt.plot(sigma_cal_values, mu_cal_values, label=r'Capital Allocation Line', color='black', linestyle='--')\n",
    "plt.scatter(cal_volat, cal_returns, color='blue', s=50, label='CAL Portfolio')  \n",
    "\n",
    "\n",
    "# Añadir título y etiquetas\n",
    "plt.title('Efficient Frontier and Portfolios')\n",
    "plt.xlabel('Volatility')\n",
    "plt.ylabel('Expected Return')\n",
    "plt.legend()\n",
    "\n",
    "# Mostrar el gráfico\n",
    "plt.grid(True)\n",
    "plt.show()"
   ],
   "outputs": []
  },
  {
   "cell_type": "code",
   "execution_count": 112,
   "id": "0a292251-66ed-4f29-884b-1997a13e3657",
   "metadata": {},
   "source": [
    "# Create Portfolios\n",
    "tangency_portfolio = df_returns[['AAPL', 'AMZN', 'META', 'MSFT']] @ tangency_weights\n",
    "cal_portfolio = df_returns[['AAPL', 'AMZN', 'META', 'MSFT']] @ cal_weights\n",
    "\n",
    "# Create DataFrame\n",
    "df_returns['Tangency Portfolio'] = tangency_portfolio\n",
    "df_returns['CAL Portfolio'] = cal_portfolio\n",
    "\n",
    "df_returns"
   ],
   "outputs": []
  },
  {
   "cell_type": "code",
   "execution_count": 114,
   "id": "05852115-ac19-4993-8d3e-bff9e3321e72",
   "metadata": {},
   "source": [
    "def calculate_analytics(df_returns, risk_free_rate=0.0):\n",
    "    # Trading Days in one Year\n",
    "    ann_factor = 252  \n",
    "    \n",
    "    # Annualized Returns\n",
    "    annualized_return = df_returns.mean() * ann_factor\n",
    "    \n",
    "    # Annualized Volatility\n",
    "    annualized_std = df_returns.std() * np.sqrt(ann_factor)\n",
    "    \n",
    "    # Sharpe Ratio\n",
    "    sharpe_ratio = (annualized_return - risk_free_rate) / annualized_std\n",
    "    \n",
    "    # Max Drawdown\n",
    "    cumulative_returns = (1 + df_returns.div(100)).cumprod()\n",
    "    rolling_max = cumulative_returns.cummax()\n",
    "    drawdown = (cumulative_returns / rolling_max) - 1\n",
    "    max_drawdown = drawdown.min()\n",
    "\n",
    "    # VaR at 95%\n",
    "    var_95 = df_returns.quantile(0.05)\n",
    "\n",
    "    # Create DF\n",
    "    summary_df = pd.DataFrame({\n",
    "        \"Annualized Returns\": annualized_return,\n",
    "        \"Annualized Volatility\": annualized_std,\n",
    "        \"Sharpe Ratio\": sharpe_ratio,\n",
    "        \"Max Drawdown\": max_drawdown,\n",
    "        \"VaR 95%\": var_95\n",
    "    })\n",
    "    \n",
    "    return summary_df"
   ],
   "outputs": []
  },
  {
   "cell_type": "code",
   "execution_count": 116,
   "id": "639af96c-a1b3-436c-96c9-471c77847e2d",
   "metadata": {},
   "source": [
    "# Now the table\n",
    "analytics_table = calculate_analytics(df_returns)\n",
    "\n",
    "analytics_table"
   ],
   "outputs": []
  },
  {
   "cell_type": "code",
   "execution_count": null,
   "id": "25ba5e04-d0fe-49aa-bc0e-2c3aed81fb2b",
   "metadata": {},
   "source": [],
   "outputs": []
  }
 ],
 "metadata": {
  "kernelspec": {
   "display_name": "Python 3 (ipykernel)",
   "language": "python",
   "name": "python3"
  },
  "language_info": {
   "codemirror_mode": {
    "name": "ipython",
    "version": 3
   },
   "file_extension": ".py",
   "mimetype": "text/x-python",
   "name": "python",
   "nbconvert_exporter": "python",
   "pygments_lexer": "ipython3",
   "version": "3.11.7"
  }
 },
 "nbformat": 4,
 "nbformat_minor": 5
}
