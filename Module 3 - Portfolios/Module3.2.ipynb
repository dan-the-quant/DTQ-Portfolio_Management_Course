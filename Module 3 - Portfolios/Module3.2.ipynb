{
 "cells": [
  {
   "cell_type": "markdown",
   "id": "7dd28351-625f-4695-a1fa-a9e760cc196d",
   "metadata": {},
   "source": [
    "# Markowitz Portfolio's Theory #\n",
    "\n",
    "### Building the Efficient Frontier ###"
   ]
  },
  {
   "cell_type": "code",
   "execution_count": 2,
   "id": "200bdabc-12dd-43c9-adac-2bfe7321cd38",
   "metadata": {},
   "source": [
    "# Import Libraries\n",
    "\n",
    "# Data Management\n",
    "import pandas as pd\n",
    "import numpy as np\n",
    "\n",
    "# Visualization\n",
    "import matplotlib.pyplot as plt\n",
    "\n",
    "# Optiminization\n",
    "from scipy.optimize import minimize\n",
    "\n",
    "# Pretty Notation\n",
    "from IPython.display import display, Math"
   ],
   "outputs": []
  },
  {
   "cell_type": "code",
   "execution_count": 7,
   "id": "e7786b73-dd8f-49d7-bb57-f1477ce8964f",
   "metadata": {},
   "source": [
    "def import_financial_data(\n",
    "    ticker: str\n",
    "):\n",
    "\n",
    "    # Check the ticker for Upper Cases\n",
    "    ticker = ticker if ticker.isupper() else ticker.upper()\n",
    "\n",
    "    # Import data\n",
    "    df = pd.read_csv(rf\"..\\stocks\\{ticker}.csv\")\n",
    "\n",
    "    # Set the Index\n",
    "    df = df.set_index('Date')\n",
    "    df.index = pd.to_datetime(df.index)\n",
    "\n",
    "    df_useful_data = df[['Open Price', 'High Price', 'Low Price', 'Close Price']]\n",
    "\n",
    "    df_useful_data = df_useful_data.rename(columns={\n",
    "        \"Open Price\":\"Open\",\n",
    "        \"High Price\":\"High\",\n",
    "        \"Low Price\":\"Low\",\n",
    "        \"Close Price\":\"Close\",\n",
    "    })\n",
    "\n",
    "    # Drop NaN's\n",
    "    df_useful_data.dropna(inplace = True)\n",
    "\n",
    "    return df_useful_data.loc[\"2023-01-01\":]"
   ],
   "outputs": []
  },
  {
   "cell_type": "code",
   "execution_count": 8,
   "id": "d7c4aa27-af7e-40ae-a1d1-6a2927f6c4bc",
   "metadata": {},
   "source": [
    "# Import Data\n",
    "\n",
    "# Apple Data\n",
    "df_1 = import_financial_data(\"AAPL\")\n",
    "\n",
    "# Amazon Data\n",
    "df_2 =  import_financial_data(\"AMZN\")\n",
    "\n",
    "# Meta Data\n",
    "df_3 =  import_financial_data(\"META\")\n",
    "\n",
    "# Microsoft Data\n",
    "df_4 =  import_financial_data(\"MSFT\")"
   ],
   "outputs": []
  },
  {
   "cell_type": "code",
   "execution_count": 9,
   "id": "f71f6581-274e-48d4-bb9e-0a5623e59b79",
   "metadata": {},
   "source": [
    "# Create the joint dataframe\n",
    "\n",
    "df_data = pd.DataFrame()\n",
    "\n",
    "df_data['AAPL'] = df_1['Close']\n",
    "df_data['AMZN'] = df_2['Close']\n",
    "df_data['META'] = df_3['Close']\n",
    "df_data['MSFT'] = df_4['Close']\n",
    "\n",
    "df_data = df_data.dropna()\n",
    "\n",
    "df_returns = df_data.pct_change(1).mul(100)\n",
    "df_returns = df_returns.apply(lambda x: x.fillna(x.mean()), axis=0)\n",
    "\n",
    "df_returns"
   ],
   "outputs": []
  },
  {
   "cell_type": "code",
   "execution_count": 10,
   "id": "4f1cc59e-fa03-4ca4-9c01-155bd3f1f5f9",
   "metadata": {},
   "source": [
    "# Theoretically we could use the average as the expected returns (these are daily returns)\n",
    "expected_returns = df_returns.mean()\n",
    "\n",
    "expected_returns"
   ],
   "outputs": []
  },
  {
   "cell_type": "code",
   "execution_count": 11,
   "id": "d79a3d2b-4708-4015-baa9-5d5c89fef0c4",
   "metadata": {},
   "source": [
    "# The volatility is calculated with the standard deviations (also daily volatilities)\n",
    "\n",
    "volat = df_returns.dropna().std()\n",
    "\n",
    "volat"
   ],
   "outputs": []
  },
  {
   "cell_type": "code",
   "execution_count": 12,
   "id": "3b7d70c9-2b5e-47db-980a-ebdd5e329a67",
   "metadata": {},
   "source": [
    "# Covariance Matrix\n",
    "\n",
    "cov_matrix = df_returns.dropna().cov()\n",
    "\n",
    "cov_matrix"
   ],
   "outputs": []
  },
  {
   "cell_type": "code",
   "execution_count": 13,
   "id": "54d9eec2-44cd-43b6-acba-6fbd95b1afd6",
   "metadata": {},
   "source": [
    "# Time Series Graphs\n",
    "plt.figure(figsize=(10, 6))\n",
    "plt.plot(df_data['AAPL'], label='APPL Price', color='blue', alpha=0.7)\n",
    "plt.plot(df_data['AMZN'], label='AMZN Price', color='green', alpha=0.7)\n",
    "plt.plot(df_data['META'], label='META Price', color='red', alpha=0.7)\n",
    "plt.plot(df_data['MSFT'], label='MSFT Price', color='orange', alpha=0.7)\n",
    "\n",
    "# Config\n",
    "plt.title('Prices Time Series')\n",
    "plt.xlabel('Time Index')\n",
    "plt.ylabel('$P_t$')\n",
    "plt.legend()\n",
    "\n",
    "# Show\n",
    "plt.grid(True)\n",
    "plt.show()"
   ],
   "outputs": []
  },
  {
   "cell_type": "code",
   "execution_count": 14,
   "id": "65d38e68-16bb-414a-a7ca-98ce8ab17e00",
   "metadata": {},
   "source": [
    "# The Markowitz's Theory stablish that a portfolio's returns and variance are defined by the following equations\n",
    "\n",
    "display(Math(r\"\\mu_{P} = \\sum_{i=1}^{n}{\\omega_i\\mu_i}\"))\n",
    "display(Math(r\"\\sigma_P^2=\\sum_{i=1}^{n}\\sum_{j=1}^n{\\omega_i\\omega_j\\gamma_ij}\"))"
   ],
   "outputs": []
  },
  {
   "cell_type": "code",
   "execution_count": 15,
   "id": "6658d79d-5618-448e-b505-59dfb2ffbca3",
   "metadata": {},
   "source": [
    "# To create random portfolios first we need to create random weights\n",
    "\n",
    "def rand_weights(n):\n",
    "    ''' Produces n random weights that sum to 1 '''\n",
    "    k = np.random.rand(n)\n",
    "    return k / sum(k)\n",
    "\n",
    "print(rand_weights(4))"
   ],
   "outputs": []
  },
  {
   "cell_type": "code",
   "execution_count": 16,
   "id": "4e124de6-fea5-477a-bcbf-9a8292c63c59",
   "metadata": {},
   "source": [
    "### This function create a random portfolio based on random weights\n",
    "\n",
    "def random_portfolio(returns, cov_matrix):\n",
    "    ''' \n",
    "    Returns the mean and standard deviation of returns for a random portfolio\n",
    "    '''\n",
    "    # Generate Random Weights\n",
    "    weights = rand_weights(len(returns))\n",
    "    \n",
    "    # Calculate the Portfolio's Returns\n",
    "    mean_return = np.dot(weights, returns)\n",
    "    \n",
    "    # Calculate the Portfolio's Risk\n",
    "    portfolio_variance = np.dot(weights.T, np.dot(cov_matrix, weights))\n",
    "    portfolio_stddev = np.sqrt(portfolio_variance)\n",
    "    \n",
    "    return mean_return, portfolio_stddev\n",
    "\n",
    "returns_i, risk_i = random_portfolio(expected_returns, cov_matrix)\n",
    "\n",
    "print(f\"The Portfolio's Return is: {returns_i.round(3)}\")\n",
    "print(f\"The Portfolio's Volatility is: {risk_i.round(3)}\")"
   ],
   "outputs": []
  },
  {
   "cell_type": "code",
   "execution_count": 17,
   "id": "88cf9b55-63d5-4c55-8b9c-1f1e6ba50149",
   "metadata": {},
   "source": [
    "# We can use this function to generate several random portfolios\n",
    "\n",
    "def generate_random_portfolios(n_portfolios, expected_returns, cov_matrix):\n",
    "\n",
    "    # Lists to store the portfolios' information\n",
    "    means = []\n",
    "    stds = []\n",
    "\n",
    "    # Generate the protfolios\n",
    "    for _ in range(n_portfolios):\n",
    "        mean, std = random_portfolio(expected_returns.values.flatten(), cov_matrix)\n",
    "        means.append(mean)\n",
    "        stds.append(std)\n",
    "    \n",
    "    # Store them in a DataFrame\n",
    "    portfolios = pd.DataFrame({\n",
    "        'Mean Return': means,\n",
    "        'Std Dev': stds\n",
    "    })\n",
    "    \n",
    "    return portfolios\n",
    "\n",
    "n_portfolios = 700\n",
    "portfolios = generate_random_portfolios(n_portfolios, expected_returns, cov_matrix)\n",
    "\n",
    "print(portfolios)"
   ],
   "outputs": []
  },
  {
   "cell_type": "code",
   "execution_count": 18,
   "id": "1c4bf4a7-a09b-4ab1-9d56-089b1d12d01c",
   "metadata": {},
   "source": [
    "# Portfolios Plot\n",
    "plt.figure(figsize=(10, 6))\n",
    "plt.scatter(portfolios['Std Dev'], portfolios['Mean Return'], color='gray', alpha=0.8, label='Portfolios')\n",
    "\n",
    "# Config\n",
    "plt.title('Portfolios')\n",
    "plt.xlabel('Volatility')\n",
    "plt.ylabel('Expected Return')\n",
    "plt.legend()\n",
    "\n",
    "# Show\n",
    "plt.grid(True)\n",
    "plt.show()"
   ],
   "outputs": []
  },
  {
   "cell_type": "code",
   "execution_count": 19,
   "id": "d2e037cc-ebbb-4b3d-acc1-09fdf8f0bf2d",
   "metadata": {},
   "source": [
    "# We can create the Equal-Weighted Portfolio to compare it with the other portfolios\n",
    "def equal_weighted_portfolio(returns, cov_matrix):\n",
    "    \n",
    "    # Generate the Equal Weights\n",
    "    n = len(expected_returns)\n",
    "    weights = np.ones(n) / n  \n",
    "\n",
    "    # Calculate the Portfolio's Retuns\n",
    "    portfolio_return = np.dot(weights, expected_returns)\n",
    "    \n",
    "    # Calculate the Portfolio's Risk\n",
    "    portfolio_volatility = np.sqrt(np.dot(weights.T, np.dot(cov_matrix, weights)))\n",
    "    \n",
    "    return portfolio_return, portfolio_volatility\n",
    "\n",
    "returns_e, risk_e = equal_weighted_portfolio(expected_returns, cov_matrix)\n",
    "\n",
    "print(f\"The Equal-Weighted Portfolio's Return is: {returns_e.round(3)}\")\n",
    "print(f\"The Equal-Weighted Portfolio's Volatility is: {risk_e.round(3)}\")"
   ],
   "outputs": []
  },
  {
   "cell_type": "code",
   "execution_count": 20,
   "id": "34991721-639c-483d-bc0c-fa212f61c1a6",
   "metadata": {},
   "source": [
    "# Portfolios Plot\n",
    "plt.figure(figsize=(10, 6))\n",
    "plt.scatter(portfolios['Std Dev'], portfolios['Mean Return'], color='gray', alpha=0.8, label='Portfolios')\n",
    "plt.scatter(risk_e, returns_e, color='red', s=50, label='Equal-Weighted Portfolio')  \n",
    "\n",
    "\n",
    "# Config\n",
    "plt.title('Portfolios')\n",
    "plt.xlabel('Volatility')\n",
    "plt.ylabel('Expected Return')\n",
    "plt.legend()\n",
    "\n",
    "# Show\n",
    "plt.grid(True)\n",
    "plt.show()"
   ],
   "outputs": []
  },
  {
   "cell_type": "code",
   "execution_count": 21,
   "id": "31dd1ee8-0006-4e2f-956b-511192bf8852",
   "metadata": {},
   "source": [
    "# Now how can we obtain the Efficient Frontier\n",
    "\n",
    "# Optimization functions\n",
    "def portfolio_performance(weights, mean_returns, cov_matrix):\n",
    "    # Portfolio's Returns\n",
    "    portfolio_return = np.dot(weights, mean_returns)\n",
    "\n",
    "    #Portfolio's Volatility\n",
    "    portfolio_volatility = np.sqrt(np.dot(weights.T, np.dot(cov_matrix, weights)))\n",
    "    \n",
    "    return portfolio_return, portfolio_volatility\n",
    "    \n",
    "# Minimizing Portfolio\n",
    "def minimize_volatility(weights, mean_returns, cov_matrix):\n",
    "    return portfolio_performance(weights, mean_returns, cov_matrix)[1]\n",
    "\n",
    "# Function that generates the portfolios that are located in the Efficient Frontier\n",
    "def get_efficient_frontier(mean_returns, cov_matrix, num_portfolios=100):\n",
    "    results = np.zeros((2, num_portfolios))\n",
    "    target_returns = np.linspace(mean_returns.min(), mean_returns.max(), num_portfolios)\n",
    "    \n",
    "    for i, target in enumerate(target_returns):\n",
    "        constraints = ({'type': 'eq', 'fun': lambda x: np.sum(x) - 1},\n",
    "                       {'type': 'eq', 'fun': lambda x: np.dot(x, mean_returns) - target})\n",
    "        bounds = tuple((0, 1) for _ in range(len(mean_returns)))\n",
    "        initial_guess = len(mean_returns) * [1. / len(mean_returns)]\n",
    "        \n",
    "        opt = minimize(minimize_volatility, initial_guess, args=(mean_returns, cov_matrix),\n",
    "                       method='SLSQP', bounds=bounds, constraints=constraints)\n",
    "        \n",
    "        if opt.success:\n",
    "            results[0, i] = target\n",
    "            results[1, i] = opt.fun\n",
    "\n",
    "    return results\n",
    "\n",
    "efficient_frontier = get_efficient_frontier(expected_returns, cov_matrix)"
   ],
   "outputs": []
  },
  {
   "cell_type": "code",
   "execution_count": 22,
   "id": "34587ffa-0a78-4439-a52b-971bb54a03b1",
   "metadata": {},
   "source": [
    "# Portfolios Plot\n",
    "plt.figure(figsize=(10, 6))\n",
    "plt.scatter(portfolios['Std Dev'], portfolios['Mean Return'], color='gray', alpha=0.7, label='Random Portfolios')\n",
    "plt.scatter(risk_e, returns_e, color='red', s=50, label='Equal-Weighted Portfolio')  \n",
    "plt.plot(efficient_frontier[1, :], efficient_frontier[0, :], label='Efficient Frontier', color='black')\n",
    "\n",
    "\n",
    "# Config\n",
    "plt.title('Efficient Frontier')\n",
    "plt.xlabel('Volatility')\n",
    "plt.ylabel('Expected Return')\n",
    "plt.legend()\n",
    "\n",
    "# Show\n",
    "plt.grid(True)\n",
    "plt.show()"
   ],
   "outputs": []
  },
  {
   "cell_type": "code",
   "execution_count": 23,
   "id": "6b26c123-7e23-4984-9bc1-2b283184a258",
   "metadata": {},
   "source": [
    "# To find the equation of the efficient frontier we have to solve the optimization problem\n",
    "\n",
    "display(Math(r\"\\sigma_P^2 = \\pi_0 + \\pi_1\\mu_P + \\pi_2\\mu_P^2\"))"
   ],
   "outputs": []
  },
  {
   "cell_type": "code",
   "execution_count": 24,
   "id": "226eae27-c31b-40e7-b455-898fa0b9de90",
   "metadata": {},
   "source": [
    "# In the Chapter 3 of Book you can find the next forms\n",
    "\n",
    "display(Math(r\"A = \\mu^⊤\\Sigma^{-1}\\mu\"))\n",
    "display(Math(r\"B = \\mu^⊤\\Sigma^{-1}\\iota\"))\n",
    "display(Math(r\"C = \\iota^⊤\\Sigma^{-1}\\iota\"))\n",
    "display(Math(r\"D = AC-B^2\"))"
   ],
   "outputs": []
  },
  {
   "cell_type": "code",
   "execution_count": 25,
   "id": "80f86fd6-10b1-4e77-a100-56619b7e80f0",
   "metadata": {},
   "source": [
    "# So let us obtain the components\n",
    "\n",
    "mu = expected_returns.values.flatten().reshape(-1, 1)\n",
    "Sigma = cov_matrix.values\n",
    "Sigma_inv = np.linalg.inv(Sigma)\n",
    "iota = np.ones((4, 1))"
   ],
   "outputs": []
  },
  {
   "cell_type": "code",
   "execution_count": 26,
   "id": "5b470b82-6f36-4934-bfb1-4af66be5e545",
   "metadata": {},
   "source": [
    "# And now obtain the coefficients of the Efficient Frontier\n",
    "\n",
    "A = np.dot(np.dot(mu.T, Sigma_inv), mu)\n",
    "B = np.dot(np.dot(iota.T, Sigma_inv), mu)\n",
    "C = np.dot(np.dot(iota.T, Sigma_inv), iota)\n",
    "D = (A*C - B*B)\n",
    "\n",
    "print(f\"This is A: {A}\")\n",
    "print(f\"This is B: {B}\")\n",
    "print(f\"This is C: {C}\")\n",
    "print(f\"This is D: {D}\")"
   ],
   "outputs": []
  },
  {
   "cell_type": "code",
   "execution_count": 27,
   "id": "fabda696-773d-4fcc-9ca7-37ce42c788de",
   "metadata": {},
   "source": [
    "# Then the equation\n",
    "\n",
    "pi_0 = A/D\n",
    "pi_1 = 2*B/D\n",
    "pi_2 = C/D\n",
    "\n",
    "print(f\"This is the first coefficient: {pi_0}\")\n",
    "print(f\"This is the second coefficient: {pi_1}\")\n",
    "print(f\"This is the third coefficient: {pi_2}\")"
   ],
   "outputs": []
  },
  {
   "cell_type": "code",
   "execution_count": 28,
   "id": "c7edaff3-226b-4b91-a28a-a1a1cfc99f89",
   "metadata": {},
   "source": [
    "# Now let us obtain the values of the efficient frontier\n",
    "\n",
    "def equation(mu_P):\n",
    "    return np.sqrt((pi_0 - pi_1 * mu_P + pi_2 * mu_P**2))\n",
    "\n",
    "# Crear un rango de valores para mu_P\n",
    "mu_P_values = np.linspace(0.09, 0.35, 400)\n",
    "\n",
    "# Evaluar la ecuación en los valores de mu_P\n",
    "sigma_P_values = equation(mu_P_values).reshape(-1, 1)"
   ],
   "outputs": []
  },
  {
   "cell_type": "code",
   "execution_count": 29,
   "id": "80b6ddb7-7588-4af6-8225-7fa851592f2c",
   "metadata": {},
   "source": [
    "# Create Plot\n",
    "plt.figure(figsize=(10, 6))\n",
    "plt.scatter(portfolios['Std Dev'], portfolios['Mean Return'], color='grey', alpha=0.7, label='Portfolios')\n",
    "plt.scatter(risk_e, returns_e, color='red', s=50, label='Equal-Weighted Portfolio') \n",
    "plt.plot(sigma_P_values, mu_P_values, color='black')\n",
    "\n",
    "\n",
    "# Config\n",
    "plt.title('Efficient Frontier and Portfolios')\n",
    "plt.xlabel('Volatility')\n",
    "plt.ylabel('Expected Return')\n",
    "plt.legend()\n",
    "\n",
    "# Show\n",
    "plt.grid(True)\n",
    "plt.show()\n"
   ],
   "outputs": []
  },
  {
   "cell_type": "code",
   "execution_count": 30,
   "id": "c970671d-0e89-43d4-8fc8-cde606b89588",
   "metadata": {},
   "source": [
    "# Let us check if this equation is indeed correct; for the equal-weighted portfolio's volatility\n",
    "\n",
    "risk_e_optimal = equation(returns_e)[0][0]\n",
    "\n",
    "print(f\"The Equal-Weighted Portfolio's Returns: {returns_e}\")\n",
    "print(f\"The Equal-Weighted Portfolio's Volatility: {risk_e}\")\n",
    "print(f\"The Optimal Volatility: {risk_e_optimal}\")"
   ],
   "outputs": []
  },
  {
   "cell_type": "code",
   "execution_count": 31,
   "id": "1d0d2c2c-d1e5-4eed-847b-02595f4c039c",
   "metadata": {},
   "source": [
    "# Create Plot\n",
    "plt.figure(figsize=(10, 6))\n",
    "plt.scatter(portfolios['Std Dev'], portfolios['Mean Return'], color='grey', alpha=0.7, label='Portfolios')\n",
    "plt.scatter(risk_e, returns_e, color='red', s=50, label='Equal-Weighted Portfolio')  \n",
    "plt.plot(sigma_P_values, mu_P_values, color='black')\n",
    "plt.scatter(risk_e_optimal, returns_e, color='orange', s=50, label='Equal-Weighted Optimal Portfolio') \n",
    "\n",
    "# Config\n",
    "plt.title('Efficient Frontier and Portfolios')\n",
    "plt.xlabel('Volatility')\n",
    "plt.ylabel('Expected Return')\n",
    "plt.legend()\n",
    "\n",
    "# Show\n",
    "plt.grid(True)\n",
    "plt.show()\n"
   ],
   "outputs": []
  },
  {
   "cell_type": "code",
   "execution_count": 32,
   "id": "1f9c29d1-93b2-470c-ac4c-6adfb5534160",
   "metadata": {},
   "source": [
    "# Finally we just have to find the Minimum Variance Portfolio\n",
    "\n",
    "display(Math(r\"\\mu_{P_{min}} = \\frac{\\pi_1}{2\\pi_2}\"))\n",
    "display(Math(r\"\\sigma_{P_{min}}^2 = \\pi_0 - \\frac{\\pi_1^2}{4\\pi_2}\"))"
   ],
   "outputs": []
  },
  {
   "cell_type": "code",
   "execution_count": 33,
   "id": "e1e46655-4a69-46cc-9734-9e5dd5185731",
   "metadata": {},
   "source": [
    "# Obtain the MVP\n",
    "\n",
    "min_returns = pi_1/(2*pi_2)\n",
    "min_volat = np.sqrt(pi_0 - ((pi_1**2)/(4*pi_2)))\n",
    "\n",
    "print(f\"The MVP Returns are: {min_returns}\")\n",
    "print(f\"The MVP Volatility is: {min_volat}\")"
   ],
   "outputs": []
  },
  {
   "cell_type": "code",
   "execution_count": 34,
   "id": "20d0ed38-ffc1-471f-a8b0-794d18bcdada",
   "metadata": {},
   "source": [
    "# Create Plot\n",
    "plt.figure(figsize=(10, 6))\n",
    "plt.scatter(portfolios['Std Dev'], portfolios['Mean Return'], color='grey', alpha=0.7, label='Portfolios')\n",
    "plt.scatter(risk_e, returns_e, color='red', s=50, label='Equal-Weighted Portfolio')  \n",
    "plt.plot(sigma_P_values, mu_P_values, color='black')\n",
    "plt.scatter(risk_e_optimal, returns_e, color='orange', s=50, label='Equal-Weighted Optimal Portfolio') \n",
    "plt.scatter(min_volat, min_returns, color='purple', s=50, label='MVP Portfolio') \n",
    "\n",
    "# Config\n",
    "plt.title('Efficient Frontier and Portfolios')\n",
    "plt.xlabel('Volatility')\n",
    "plt.ylabel('Expected Return')\n",
    "plt.legend()\n",
    "\n",
    "# Show\n",
    "plt.grid(True)\n",
    "plt.show()"
   ],
   "outputs": []
  },
  {
   "cell_type": "code",
   "execution_count": null,
   "id": "40f6b69d-5171-4b29-9a04-cd7cc8a139c3",
   "metadata": {},
   "source": [],
   "outputs": []
  }
 ],
 "metadata": {
  "kernelspec": {
   "display_name": "Python 3 (ipykernel)",
   "language": "python",
   "name": "python3"
  },
  "language_info": {
   "codemirror_mode": {
    "name": "ipython",
    "version": 3
   },
   "file_extension": ".py",
   "mimetype": "text/x-python",
   "name": "python",
   "nbconvert_exporter": "python",
   "pygments_lexer": "ipython3",
   "version": "3.11.7"
  }
 },
 "nbformat": 4,
 "nbformat_minor": 5
}
