{
 "cells": [
  {
   "cell_type": "markdown",
   "id": "d2514c42-1a88-46ee-80c1-6dc455cad8a0",
   "metadata": {},
   "source": [
    "# Portfolio's Building #\n",
    "\n",
    "### Rebalancing Weights ###"
   ]
  },
  {
   "cell_type": "code",
   "id": "3f1cf4e6-ce95-49a9-84fb-e237b9e49aca",
   "metadata": {
    "ExecuteTime": {
     "end_time": "2025-04-17T06:18:35.113538Z",
     "start_time": "2025-04-17T06:18:35.107939Z"
    }
   },
   "source": [
    "# Import Libraries\n",
    "\n",
    "# Data Management\n",
    "import pandas as pd\n",
    "import numpy as np\n",
    "\n",
    "# Visualization\n",
    "import matplotlib.pyplot as plt\n",
    "\n",
    "# Handle Files\n",
    "import sys\n",
    "import os\n",
    "\n",
    "# Import Local Functions\n",
    "sys.path.append(os.path.abspath(\"../source\"))\n",
    "from functions import import_financial_data\n",
    "from portfolios_toolkit import calculate_analytics\n",
    "from portfolios_toolkit import markowitz_weights"
   ],
   "execution_count": 2,
   "outputs": []
  },
  {
   "cell_type": "code",
   "id": "ebda4852-893d-4dd1-b9da-02d5cc94cf38",
   "metadata": {
    "ExecuteTime": {
     "end_time": "2025-04-17T06:18:36.062294Z",
     "start_time": "2025-04-17T06:18:35.898988Z"
    }
   },
   "source": [
    "# Import Data\n",
    "\n",
    "# Apple Data\n",
    "df_1 = import_financial_data(\"AAPL\")\n",
    "\n",
    "# Amazon Data\n",
    "df_2 =  import_financial_data(\"AMZN\")\n",
    "\n",
    "# Meta Data\n",
    "df_3 =  import_financial_data(\"META\")\n",
    "\n",
    "# Microsoft Data\n",
    "df_4 =  import_financial_data(\"MSFT\")\n",
    "\n",
    "# Nvidia Data\n",
    "df_5 =  import_financial_data(\"NVDA\")"
   ],
   "execution_count": 3,
   "outputs": []
  },
  {
   "cell_type": "code",
   "id": "a4dfff94-af00-42bb-b31c-7077261cb2f9",
   "metadata": {
    "ExecuteTime": {
     "end_time": "2025-04-17T06:18:36.577136Z",
     "start_time": "2025-04-17T06:18:36.550556Z"
    }
   },
   "source": [
    "# Create the joint dataframe\n",
    "\n",
    "df_data = pd.DataFrame()\n",
    "\n",
    "df_data['AAPL'] = df_1['adj_close']\n",
    "df_data['AMZN'] = df_2['adj_close']\n",
    "df_data['META'] = df_3['adj_close']\n",
    "df_data['MSFT'] = df_4['adj_close']\n",
    "df_data['NVDA'] = df_5['adj_close']\n",
    "\n",
    "df_data = df_data.dropna()\n",
    "\n",
    "df_returns = df_data.pct_change(1)\n",
    "df_returns = df_returns.apply(lambda x: x.fillna(x.mean()), axis=0)\n",
    "\n",
    "df_returns"
   ],
   "execution_count": 4,
   "outputs": []
  },
  {
   "cell_type": "code",
   "id": "59e635ac-6925-4fde-8da8-ba8bb9c9261f",
   "metadata": {
    "ExecuteTime": {
     "end_time": "2025-04-17T06:18:37.488537Z",
     "start_time": "2025-04-17T06:18:37.482545Z"
    }
   },
   "source": [
    "df_returns.mean()"
   ],
   "execution_count": 5,
   "outputs": []
  },
  {
   "cell_type": "code",
   "id": "4221a1cc-22cc-4ae2-a716-bf7e266e5193",
   "metadata": {
    "ExecuteTime": {
     "end_time": "2025-04-17T06:18:38.240125Z",
     "start_time": "2025-04-17T06:18:38.001509Z"
    }
   },
   "source": [
    "# Time Series Graphs\n",
    "plt.figure(figsize=(10, 6))\n",
    "plt.plot(df_returns.cumsum(), label=df_returns.columns, alpha=1)\n",
    "\n",
    "# Config\n",
    "plt.title('Cumulative Returns Time Series')\n",
    "plt.xlabel('Time Index')\n",
    "plt.ylabel('Cumulative Returns')\n",
    "plt.legend()\n",
    "\n",
    "# Show\n",
    "plt.grid(True)\n",
    "plt.show()"
   ],
   "execution_count": 6,
   "outputs": []
  },
  {
   "cell_type": "code",
   "id": "e5dfdfc7-bbd0-434e-add9-265f6c44849d",
   "metadata": {
    "ExecuteTime": {
     "end_time": "2025-04-17T06:18:38.672173Z",
     "start_time": "2025-04-17T06:18:38.459910Z"
    }
   },
   "source": [
    "# Time Series Graphs\n",
    "plt.figure(figsize=(10, 6))\n",
    "plt.plot(df_returns.ewm(span=252, adjust=False).mean(), label=df_returns.columns, alpha=0.7)\n",
    "\n",
    "# Config\n",
    "plt.title('Annual Returns Time Series')\n",
    "plt.xlabel('Time Index')\n",
    "plt.ylabel('Returns')\n",
    "plt.legend()\n",
    "\n",
    "# Show\n",
    "plt.grid(True)\n",
    "plt.show()"
   ],
   "execution_count": 7,
   "outputs": []
  },
  {
   "cell_type": "code",
   "id": "3c70c160-e7ce-47a6-b3b8-0f03affe38ea",
   "metadata": {
    "ExecuteTime": {
     "end_time": "2025-04-17T06:18:39.355239Z",
     "start_time": "2025-04-17T06:18:39.342612Z"
    }
   },
   "source": [
    "# Create the DataFrame with average returns\n",
    "\n",
    "df_mean_returns = df_returns.apply(lambda x: x.ewm(span=252, adjust=False).mean().mul(252), axis=0)\n",
    "\n",
    "df_mean_returns"
   ],
   "execution_count": 8,
   "outputs": []
  },
  {
   "cell_type": "code",
   "id": "75a53ed2-c6f0-42c7-8672-52b12d4d8900",
   "metadata": {
    "ExecuteTime": {
     "end_time": "2025-04-17T06:18:40.145435Z",
     "start_time": "2025-04-17T06:18:40.141320Z"
    }
   },
   "source": [
    "# Let us Calculate the Weights\n",
    "\n",
    "def rolling_weights(\n",
    "    returns, \n",
    "    desired_returns, \n",
    "    window=252, \n",
    "    rebalance_freq=126\n",
    "):\n",
    "\n",
    "    # Lists to Store Things\n",
    "    weights_list = []\n",
    "    dates = []\n",
    "\n",
    "    for i in range(window, len(returns), rebalance_freq):\n",
    "        past_returns = returns.iloc[i - window:i]  # Rolling Window\n",
    "        past_excepted_returns = past_returns.mean()\n",
    "        past_cov_matrix = past_returns.cov()\n",
    "\n",
    "        # Calculate Weights\n",
    "        w = markowitz_weights(past_excepted_returns, past_cov_matrix, desired_returns)\n",
    "\n",
    "        # Save weights and dates\n",
    "        weights_list.append(w)\n",
    "        dates.append(returns.index[i])\n",
    "\n",
    "    # Create the DataFrame\n",
    "    weights_df = pd.DataFrame(weights_list, index=dates, columns=returns.columns)\n",
    "\n",
    "    # Expand the DataFrame\n",
    "    weights_df = weights_df.reindex(returns.index, method='ffill')\n",
    "\n",
    "    return weights_df.dropna()"
   ],
   "execution_count": 9,
   "outputs": []
  },
  {
   "cell_type": "code",
   "id": "b99baefb-a0a1-4dfc-b993-3d22d24f0cab",
   "metadata": {
    "ExecuteTime": {
     "end_time": "2025-04-17T06:18:41.580403Z",
     "start_time": "2025-04-17T06:18:41.557351Z"
    }
   },
   "source": [
    "# Create the DataFrames of Returns\n",
    "\n",
    "df_weights = rolling_weights(df_returns, 0.002)\n",
    "\n",
    "df_weights"
   ],
   "execution_count": 10,
   "outputs": []
  },
  {
   "cell_type": "code",
   "id": "ef638bef-4e0d-4b39-b24a-53f85f78c9f8",
   "metadata": {
    "ExecuteTime": {
     "end_time": "2025-04-17T06:18:52.319467Z",
     "start_time": "2025-04-17T06:18:52.130536Z"
    }
   },
   "source": [
    "# Time Series Graphs\n",
    "plt.figure(figsize=(10, 6))\n",
    "plt.plot(df_weights, label=df_weights.columns, alpha=1)\n",
    "# Config\n",
    "plt.title('Weights Time Series')\n",
    "plt.xlabel('Time Index')\n",
    "plt.ylabel('Weights')\n",
    "plt.legend()\n",
    "\n",
    "# Show\n",
    "plt.grid(True)\n",
    "plt.show()"
   ],
   "execution_count": 11,
   "outputs": []
  },
  {
   "cell_type": "code",
   "id": "9b6c26f5-d6fb-415f-a429-6564f3e469dd",
   "metadata": {
    "ExecuteTime": {
     "end_time": "2025-04-17T06:18:57.580248Z",
     "start_time": "2025-04-17T06:18:57.568334Z"
    }
   },
   "source": [
    "# Common Index\n",
    "\n",
    "common_index = df_returns.index.intersection(df_weights.index)  # Fechas en común\n",
    "df_returns_reindex = df_returns.reindex(common_index)\n",
    "df_weights = df_weights.reindex(common_index)\n",
    "\n",
    "df_returns_reindex"
   ],
   "execution_count": 12,
   "outputs": []
  },
  {
   "cell_type": "code",
   "id": "5ae182a3-4d0d-41fe-be01-3bf40dfb8114",
   "metadata": {
    "ExecuteTime": {
     "end_time": "2025-04-17T06:18:58.267389Z",
     "start_time": "2025-04-17T06:18:58.255854Z"
    }
   },
   "source": [
    "# Create the Portfolio Returns\n",
    "\n",
    "df_weighted_returns = df_returns_reindex * df_weights\n",
    "\n",
    "df_weighted_returns"
   ],
   "execution_count": 13,
   "outputs": []
  },
  {
   "cell_type": "code",
   "id": "9e4a8ef1-d9b9-476f-8480-9629b586cd07",
   "metadata": {
    "ExecuteTime": {
     "end_time": "2025-04-17T06:18:58.841582Z",
     "start_time": "2025-04-17T06:18:58.833Z"
    }
   },
   "source": [
    "# Create the Portfolio Returns\n",
    "df_returns_portfolio = df_returns.copy()\n",
    "\n",
    "# Add the columns\n",
    "df_returns_portfolio['Portfolio'] =  df_weighted_returns.sum(axis = 1)\n",
    "\n",
    "df_returns_portfolio['Portfolio'].dropna()"
   ],
   "execution_count": 14,
   "outputs": []
  },
  {
   "cell_type": "code",
   "id": "5b14b88b-bb58-4e8a-b81b-d7f13ce8a2f2",
   "metadata": {
    "ExecuteTime": {
     "end_time": "2025-04-17T06:18:59.653568Z",
     "start_time": "2025-04-17T06:18:59.448893Z"
    }
   },
   "source": [
    "# Time Series Graphs\n",
    "\n",
    "df_plot = df_returns_portfolio.dropna()\n",
    "\n",
    "plt.figure(figsize=(10, 6))\n",
    "plt.plot(df_plot.cumsum(), label=df_plot.columns, alpha=1)\n",
    "\n",
    "# Config\n",
    "plt.title('Cumulative Returns Time Series')\n",
    "plt.xlabel('Time Index')\n",
    "plt.ylabel('Cumulative Returns')\n",
    "plt.legend()\n",
    "\n",
    "# Show\n",
    "plt.grid(True)\n",
    "plt.show()"
   ],
   "execution_count": 15,
   "outputs": []
  },
  {
   "cell_type": "markdown",
   "id": "380a9f18-4818-4504-b35a-95dcb0f41ad3",
   "metadata": {},
   "source": [
    "### Define different rebalancing frequencies ###"
   ]
  },
  {
   "cell_type": "code",
   "id": "5577e93c-83d0-44a5-aef5-b02f56a9fee9",
   "metadata": {
    "ExecuteTime": {
     "end_time": "2025-04-17T06:19:03.529607Z",
     "start_time": "2025-04-17T06:19:03.266264Z"
    }
   },
   "source": [
    "# Create weights for different rebalancing frequencies\n",
    "\n",
    "df_weights_5d = rolling_weights(df_returns, 0.0025, rebalance_freq=5)\n",
    "df_weights_21d = rolling_weights(df_returns, 0.0025, rebalance_freq=21)\n",
    "df_weights_63d = rolling_weights(df_returns, 0.0025, rebalance_freq=63)\n",
    "df_weights_126d = rolling_weights(df_returns, 0.0025, rebalance_freq=126)\n",
    "df_weights_252d = rolling_weights(df_returns, 0.0025, rebalance_freq=252)"
   ],
   "execution_count": 16,
   "outputs": []
  },
  {
   "cell_type": "code",
   "id": "51331015-6cf7-47ce-a6fa-3bc61c88d976",
   "metadata": {
    "ExecuteTime": {
     "end_time": "2025-04-17T06:19:03.984154Z",
     "start_time": "2025-04-17T06:19:03.977199Z"
    }
   },
   "source": [
    "# Create the Returns\n",
    "\n",
    "df_weighted_returns_5d = df_returns_reindex * df_weights_5d\n",
    "df_weighted_returns_21d = df_returns_reindex * df_weights_21d\n",
    "df_weighted_returns_63d = df_returns_reindex * df_weights_63d\n",
    "df_weighted_returns_126d = df_returns_reindex * df_weights_126d\n",
    "df_weighted_returns_252d = df_returns_reindex * df_weights_252d"
   ],
   "execution_count": 17,
   "outputs": []
  },
  {
   "cell_type": "code",
   "id": "6f07528d-a8ef-4d6b-8ec3-0c7babf12dbe",
   "metadata": {
    "ExecuteTime": {
     "end_time": "2025-04-17T06:19:04.559624Z",
     "start_time": "2025-04-17T06:19:04.548983Z"
    }
   },
   "source": [
    "# Add the columns\n",
    "\n",
    "df_returns_reindex['5d_port'] = df_weighted_returns_5d.sum(axis = 1)\n",
    "df_returns_reindex['21d_port'] = df_weighted_returns_21d.sum(axis = 1)\n",
    "df_returns_reindex['63d_port'] = df_weighted_returns_63d.sum(axis = 1)\n",
    "df_returns_reindex['126d_port'] = df_weighted_returns_126d.sum(axis = 1)\n",
    "df_returns_reindex['252d_port'] = df_weighted_returns_252d.sum(axis = 1)"
   ],
   "execution_count": 18,
   "outputs": []
  },
  {
   "cell_type": "code",
   "id": "552679c5-05bd-4f54-8a2f-03aac619fffc",
   "metadata": {
    "ExecuteTime": {
     "end_time": "2025-04-17T06:19:05.333600Z",
     "start_time": "2025-04-17T06:19:05.100387Z"
    }
   },
   "source": [
    "# Time Series Graphs\n",
    "\n",
    "plt.figure(figsize=(10, 6))\n",
    "plt.plot(df_returns_reindex.cumsum(), label=df_returns_reindex.columns, alpha=1)\n",
    "\n",
    "# Config\n",
    "plt.title('Cumulative Returns Time Series')\n",
    "plt.xlabel('Time Index')\n",
    "plt.ylabel('Cumulative Returns')\n",
    "plt.legend()\n",
    "\n",
    "# Show\n",
    "plt.grid(True)\n",
    "plt.show()"
   ],
   "execution_count": 19,
   "outputs": []
  },
  {
   "cell_type": "markdown",
   "id": "df3b7693-f940-47f3-a97e-748443e4111a",
   "metadata": {},
   "source": [
    "### Comparing Portfolios ###"
   ]
  },
  {
   "cell_type": "code",
   "id": "d55b5e75-bf26-40f6-897d-2b29898c0be0",
   "metadata": {
    "ExecuteTime": {
     "end_time": "2025-04-17T06:19:11.996035Z",
     "start_time": "2025-04-17T06:19:11.978625Z"
    }
   },
   "source": [
    "# Now the table\n",
    "analytics_table = calculate_analytics(df_returns_reindex)\n",
    "\n",
    "analytics_table"
   ],
   "execution_count": 20,
   "outputs": []
  },
  {
   "cell_type": "code",
   "execution_count": null,
   "id": "ab58bb5d-3dd9-47a8-a7ea-8d367c35364c",
   "metadata": {},
   "source": [],
   "outputs": []
  }
 ],
 "metadata": {
  "kernelspec": {
   "display_name": "Python 3 (ipykernel)",
   "language": "python",
   "name": "python3"
  },
  "language_info": {
   "codemirror_mode": {
    "name": "ipython",
    "version": 3
   },
   "file_extension": ".py",
   "mimetype": "text/x-python",
   "name": "python",
   "nbconvert_exporter": "python",
   "pygments_lexer": "ipython3",
   "version": "3.11.7"
  }
 },
 "nbformat": 4,
 "nbformat_minor": 5
}
