{
 "cells": [
  {
   "cell_type": "markdown",
   "id": "d2514c42-1a88-46ee-80c1-6dc455cad8a0",
   "metadata": {},
   "source": [
    "# Portfolio's Building #\n",
    "\n",
    "### Rebalancing Weights ###"
   ]
  },
  {
   "cell_type": "code",
   "execution_count": 241,
   "id": "3f1cf4e6-ce95-49a9-84fb-e237b9e49aca",
   "metadata": {},
   "source": [
    "# Import Libraries\n",
    "\n",
    "# Data Management\n",
    "import pandas as pd\n",
    "import numpy as np\n",
    "\n",
    "# Visualization\n",
    "import matplotlib.pyplot as plt\n",
    "\n",
    "# Optiminization\n",
    "from scipy.optimize import minimize\n",
    "\n",
    "# Pretty Notation\n",
    "from IPython.display import display, Math"
   ],
   "outputs": []
  },
  {
   "cell_type": "code",
   "execution_count": 242,
   "id": "43d80792-83f3-4fbe-87f6-04a0b2e84953",
   "metadata": {},
   "source": [
    "def import_financial_data(\n",
    "    ticker: str\n",
    "):\n",
    "\n",
    "    # Check the ticker for Upper Cases\n",
    "    ticker = ticker if ticker.isupper() else ticker.upper()\n",
    "\n",
    "    # Import data\n",
    "    df = pd.read_csv(rf\"..\\stocks\\{ticker}.csv\")\n",
    "\n",
    "    # Set the Index\n",
    "    df = df.set_index('Date')\n",
    "    df.index = pd.to_datetime(df.index)\n",
    "\n",
    "    df_useful_data = df[['Open Price', 'High Price', 'Low Price', 'Close Price', 'Adjusted_close']]\n",
    "\n",
    "    df_useful_data = df_useful_data.rename(columns={\n",
    "        \"Open Price\":\"open\",\n",
    "        \"High Price\":\"high\",\n",
    "        \"Low Price\":\"low\",\n",
    "        \"Close Price\":\"close\",\n",
    "        \"Adjusted_close\":\"adjusted_close\",\n",
    "    })\n",
    "\n",
    "    # Drop NaN's\n",
    "    df_useful_data.dropna(inplace = True)\n",
    "\n",
    "    return df_useful_data.loc[\"2013-01-01\":]"
   ],
   "outputs": []
  },
  {
   "cell_type": "code",
   "execution_count": 243,
   "id": "ebda4852-893d-4dd1-b9da-02d5cc94cf38",
   "metadata": {},
   "source": [
    "# Import Data\n",
    "\n",
    "# Apple Data\n",
    "df_1 = import_financial_data(\"AAPL\")\n",
    "\n",
    "# Amazon Data\n",
    "df_2 =  import_financial_data(\"AMZN\")\n",
    "\n",
    "# Meta Data\n",
    "df_3 =  import_financial_data(\"META\")\n",
    "\n",
    "# Microsoft Data\n",
    "df_4 =  import_financial_data(\"MSFT\")\n",
    "\n",
    "# Nvidia Data\n",
    "df_5 =  import_financial_data(\"NVDA\")"
   ],
   "outputs": []
  },
  {
   "cell_type": "code",
   "execution_count": 244,
   "id": "a4dfff94-af00-42bb-b31c-7077261cb2f9",
   "metadata": {},
   "source": [
    "# Create the joint dataframe\n",
    "\n",
    "df_data = pd.DataFrame()\n",
    "\n",
    "df_data['AAPL'] = df_1['close']\n",
    "df_data['AMZN'] = df_2['close']\n",
    "df_data['META'] = df_3['close']\n",
    "df_data['MSFT'] = df_4['close']\n",
    "df_data['NVDA'] = df_5['close']\n",
    "\n",
    "df_data = df_data.dropna()\n",
    "\n",
    "df_returns = df_data.pct_change(1).mul(100)\n",
    "df_returns = df_returns.apply(lambda x: x.fillna(x.mean()), axis=0)\n",
    "\n",
    "df_returns"
   ],
   "outputs": []
  },
  {
   "cell_type": "code",
   "execution_count": 245,
   "id": "59e635ac-6925-4fde-8da8-ba8bb9c9261f",
   "metadata": {},
   "source": [
    "df_returns.mean()"
   ],
   "outputs": []
  },
  {
   "cell_type": "code",
   "execution_count": 246,
   "id": "4221a1cc-22cc-4ae2-a716-bf7e266e5193",
   "metadata": {},
   "source": [
    "# Time Series Graphs\n",
    "plt.figure(figsize=(10, 6))\n",
    "plt.plot(df_returns['AAPL'].cumsum(), label='APPL Returns', color='blue', alpha=0.7)\n",
    "plt.plot(df_returns['AMZN'].cumsum(), label='AMZN Returns', color='green', alpha=0.7)\n",
    "plt.plot(df_returns['META'].cumsum(), label='META Returns', color='red', alpha=0.7)\n",
    "plt.plot(df_returns['MSFT'].cumsum(), label='MSFT Returns', color='orange', alpha=0.7)\n",
    "plt.plot(df_returns['NVDA'].cumsum(), label='NVDA Returns', color='purple', alpha=0.7)\n",
    "\n",
    "# Config\n",
    "plt.title('Cumulative Returns Time Series')\n",
    "plt.xlabel('Time Index')\n",
    "plt.ylabel('Cumulative Returns')\n",
    "plt.legend()\n",
    "\n",
    "# Show\n",
    "plt.grid(True)\n",
    "plt.show()"
   ],
   "outputs": []
  },
  {
   "cell_type": "code",
   "execution_count": 247,
   "id": "e5dfdfc7-bbd0-434e-add9-265f6c44849d",
   "metadata": {},
   "source": [
    "# Time Series Graphs\n",
    "plt.figure(figsize=(10, 6))\n",
    "plt.plot(df_returns['AAPL'].ewm(span=252, adjust=False).mean(), label='APPL Returns', color='blue', alpha=0.7)\n",
    "plt.plot(df_returns['AMZN'].ewm(span=252, adjust=False).mean(), label='AMZN Returns', color='green', alpha=0.7)\n",
    "plt.plot(df_returns['META'].ewm(span=252, adjust=False).mean(), label='META Returns', color='red', alpha=0.7)\n",
    "plt.plot(df_returns['MSFT'].ewm(span=252, adjust=False).mean(), label='MSFT Returns', color='orange', alpha=0.7)\n",
    "plt.plot(df_returns['NVDA'].ewm(span=252, adjust=False).mean(), label='NVDA Returns', color='purple', alpha=0.7)\n",
    "\n",
    "# Config\n",
    "plt.title('Annual Returns Time Series')\n",
    "plt.xlabel('Time Index')\n",
    "plt.ylabel('Returns')\n",
    "plt.legend()\n",
    "\n",
    "# Show\n",
    "plt.grid(True)\n",
    "plt.show()"
   ],
   "outputs": []
  },
  {
   "cell_type": "code",
   "execution_count": 248,
   "id": "3c70c160-e7ce-47a6-b3b8-0f03affe38ea",
   "metadata": {},
   "source": [
    "# Create the DataFrame with average returns\n",
    "\n",
    "df_mean_returns = df_returns.apply(lambda x: x.ewm(span=252, adjust=False).mean().mul(252), axis=0)\n",
    "\n",
    "df_mean_returns"
   ],
   "outputs": []
  },
  {
   "cell_type": "code",
   "execution_count": 249,
   "id": "75a53ed2-c6f0-42c7-8672-52b12d4d8900",
   "metadata": {},
   "source": [
    "# Let us Calculate the Weights\n",
    "\n",
    "def rolling_weights(\n",
    "    returns, \n",
    "    desired_returns, \n",
    "    window=252, \n",
    "    rebalance_freq=126\n",
    "):\n",
    "\n",
    "    # Lists to Store Things\n",
    "    weights_list = []\n",
    "    dates = []\n",
    "\n",
    "    for i in range(window, len(returns), rebalance_freq):\n",
    "        past_returns = returns.iloc[i-window:i]  # Rolling Window\n",
    "        \n",
    "        # Mean and Covariance\n",
    "        mu = past_returns.mean()\n",
    "        Sigma = past_returns.cov()\n",
    "        Sigma_inv = np.linalg.inv(Sigma)\n",
    "        iota = np.ones(len(mu))\n",
    "\n",
    "        # Markowitz Components\n",
    "        A = mu @ Sigma_inv @ mu\n",
    "        B = mu @ Sigma_inv @ iota\n",
    "        C = iota @ Sigma_inv @ iota\n",
    "        D = (A * C) - (B ** 2)\n",
    "\n",
    "        w = (((desired_returns * C) - B) / D) * (Sigma_inv @ mu) + \\\n",
    "            ((A - (desired_returns * B)) / D) * (Sigma_inv @ iota)\n",
    "\n",
    "        # Save weights and dates\n",
    "        weights_list.append(w)\n",
    "        dates.append(returns.index[i])\n",
    "\n",
    "    # Create the DataFrame\n",
    "    weights_df = pd.DataFrame(weights_list, index=dates, columns=returns.columns)\n",
    "\n",
    "    # Expand the DataFrame\n",
    "    weights_df = weights_df.reindex(returns.index, method='ffill')\n",
    "\n",
    "    return weights_df.dropna()"
   ],
   "outputs": []
  },
  {
   "cell_type": "code",
   "execution_count": 250,
   "id": "b99baefb-a0a1-4dfc-b993-3d22d24f0cab",
   "metadata": {},
   "source": [
    "# Create the DataFrames of Returns\n",
    "\n",
    "df_weights = rolling_weights(df_returns, 0.2)\n",
    "\n",
    "df_weights"
   ],
   "outputs": []
  },
  {
   "cell_type": "code",
   "execution_count": 251,
   "id": "ef638bef-4e0d-4b39-b24a-53f85f78c9f8",
   "metadata": {},
   "source": [
    "# Time Series Graphs\n",
    "plt.figure(figsize=(10, 6))\n",
    "plt.plot(df_weights['AAPL'], label='APPL Weights', color='blue', alpha=1)\n",
    "plt.plot(df_weights['AMZN'], label='AMZN Weights', color='green', alpha=1)\n",
    "plt.plot(df_weights['META'], label='META Weights', color='red', alpha=1)\n",
    "plt.plot(df_weights['MSFT'], label='MSFT Weights', color='orange', alpha=1)\n",
    "plt.plot(df_weights['NVDA'], label='NVDA Weights', color='purple', alpha=1)\n",
    "\n",
    "# Config\n",
    "plt.title('Weights Time Series')\n",
    "plt.xlabel('Time Index')\n",
    "plt.ylabel('Weights')\n",
    "plt.legend()\n",
    "\n",
    "# Show\n",
    "plt.grid(True)\n",
    "plt.show()"
   ],
   "outputs": []
  },
  {
   "cell_type": "code",
   "execution_count": 252,
   "id": "9b6c26f5-d6fb-415f-a429-6564f3e469dd",
   "metadata": {},
   "source": [
    "# Common Index\n",
    "\n",
    "common_index = df_returns.index.intersection(df_weights.index)  # Fechas en común\n",
    "df_returns_reindex = df_returns.reindex(common_index)\n",
    "df_weights = df_weights.reindex(common_index)\n",
    "\n",
    "df_returns_reindex"
   ],
   "outputs": []
  },
  {
   "cell_type": "code",
   "execution_count": 253,
   "id": "5ae182a3-4d0d-41fe-be01-3bf40dfb8114",
   "metadata": {},
   "source": [
    "# Create the Portfolio Returns\n",
    "\n",
    "df_weighted_returns = df_returns_reindex * df_weights\n",
    "\n",
    "df_weighted_returns"
   ],
   "outputs": []
  },
  {
   "cell_type": "code",
   "execution_count": 254,
   "id": "9e4a8ef1-d9b9-476f-8480-9629b586cd07",
   "metadata": {},
   "source": [
    "# Create the Portfolio Returns\n",
    "df_returns_portfolio = df_returns.copy()\n",
    "\n",
    "# Add the columns\n",
    "df_returns_portfolio['Portfolio'] =  df_weighted_returns.sum(axis = 1)\n",
    "\n",
    "df_returns_portfolio['Portfolio'].dropna()"
   ],
   "outputs": []
  },
  {
   "cell_type": "code",
   "execution_count": 255,
   "id": "5b14b88b-bb58-4e8a-b81b-d7f13ce8a2f2",
   "metadata": {},
   "source": [
    "# Time Series Graphs\n",
    "\n",
    "df_plot = df_returns_portfolio.dropna()\n",
    "\n",
    "plt.figure(figsize=(10, 6))\n",
    "plt.plot(df_plot['AAPL'].cumsum(), label='APPL Returns', color='blue', alpha=0.7)\n",
    "plt.plot(df_plot['AMZN'].cumsum(), label='AMZN Returns', color='green', alpha=0.7)\n",
    "plt.plot(df_plot['META'].cumsum(), label='META Returns', color='red', alpha=0.7)\n",
    "plt.plot(df_plot['MSFT'].cumsum(), label='MSFT Returns', color='orange', alpha=0.7)\n",
    "plt.plot(df_plot['NVDA'].cumsum(), label='NVDA Returns', color='purple', alpha=0.7)\n",
    "plt.plot(df_plot['Portfolio'].cumsum(), label='Portfolio Returns', color='black', alpha=1)\n",
    "\n",
    "# Config\n",
    "plt.title('Cumulative Returns Time Series')\n",
    "plt.xlabel('Time Index')\n",
    "plt.ylabel('Cumulative Returns')\n",
    "plt.legend()\n",
    "\n",
    "# Show\n",
    "plt.grid(True)\n",
    "plt.show()"
   ],
   "outputs": []
  },
  {
   "cell_type": "markdown",
   "id": "380a9f18-4818-4504-b35a-95dcb0f41ad3",
   "metadata": {},
   "source": [
    "### Define different rebalancing frequencies ###"
   ]
  },
  {
   "cell_type": "code",
   "execution_count": 257,
   "id": "5577e93c-83d0-44a5-aef5-b02f56a9fee9",
   "metadata": {},
   "source": [
    "# Create weights for different rebalancing frecuencies\n",
    "\n",
    "df_weights_5d = rolling_weights(df_returns, 0.25, rebalance_freq=5)\n",
    "df_weights_21d = rolling_weights(df_returns, 0.25, rebalance_freq=21)\n",
    "df_weights_63d = rolling_weights(df_returns, 0.25, rebalance_freq=63)\n",
    "df_weights_126d = rolling_weights(df_returns, 0.25, rebalance_freq=126)\n",
    "df_weights_252d = rolling_weights(df_returns, 0.25, rebalance_freq=252)"
   ],
   "outputs": []
  },
  {
   "cell_type": "code",
   "execution_count": 258,
   "id": "51331015-6cf7-47ce-a6fa-3bc61c88d976",
   "metadata": {},
   "source": [
    "# Create the Returns\n",
    "\n",
    "df_weighted_returns_5d = df_returns_reindex * df_weights_5d\n",
    "df_weighted_returns_21d = df_returns_reindex * df_weights_21d\n",
    "df_weighted_returns_63d = df_returns_reindex * df_weights_63d\n",
    "df_weighted_returns_126d = df_returns_reindex * df_weights_126d\n",
    "df_weighted_returns_252d = df_returns_reindex * df_weights_252d"
   ],
   "outputs": []
  },
  {
   "cell_type": "code",
   "execution_count": 259,
   "id": "6f07528d-a8ef-4d6b-8ec3-0c7babf12dbe",
   "metadata": {},
   "source": [
    "# Add the columns\n",
    "\n",
    "df_returns_reindex['5d_port'] = df_weighted_returns_5d.sum(axis = 1)\n",
    "df_returns_reindex['21d_port'] = df_weighted_returns_21d.sum(axis = 1)\n",
    "df_returns_reindex['63d_port'] = df_weighted_returns_63d.sum(axis = 1)\n",
    "df_returns_reindex['126d_port'] = df_weighted_returns_126d.sum(axis = 1)\n",
    "df_returns_reindex['252d_port'] = df_weighted_returns_252d.sum(axis = 1)"
   ],
   "outputs": []
  },
  {
   "cell_type": "code",
   "execution_count": 260,
   "id": "552679c5-05bd-4f54-8a2f-03aac619fffc",
   "metadata": {},
   "source": [
    "# Time Series Graphs\n",
    "\n",
    "plt.figure(figsize=(10, 6))\n",
    "plt.plot(df_returns_reindex.cumsum(), label=df_returns_reindex.columns, alpha=1)\n",
    "\n",
    "# Config\n",
    "plt.title('Cumulative Returns Time Series')\n",
    "plt.xlabel('Time Index')\n",
    "plt.ylabel('Cumulative Returns')\n",
    "plt.legend()\n",
    "\n",
    "# Show\n",
    "plt.grid(True)\n",
    "plt.show()"
   ],
   "outputs": []
  },
  {
   "cell_type": "markdown",
   "id": "df3b7693-f940-47f3-a97e-748443e4111a",
   "metadata": {},
   "source": [
    "### Comparing Portfolios ###"
   ]
  },
  {
   "cell_type": "code",
   "execution_count": 262,
   "id": "3e04c920-66c0-4657-8313-833c46b4f071",
   "metadata": {},
   "source": [
    "def calculate_analytics(df_returns, risk_free_rate=0.0):\n",
    "    # Trading Days in one Year\n",
    "    ann_factor = 252  \n",
    "    \n",
    "    # Annualized Returns\n",
    "    annualized_return = df_returns.mean() * ann_factor\n",
    "    \n",
    "    # Annualized Volatility\n",
    "    annualized_std = df_returns.std() * np.sqrt(ann_factor)\n",
    "    \n",
    "    # Sharpe Ratio\n",
    "    sharpe_ratio = (annualized_return - risk_free_rate) / annualized_std\n",
    "    \n",
    "    # Max Drawdown\n",
    "    cumulative_returns = (1 + df_returns.div(100)).cumprod()\n",
    "    rolling_max = cumulative_returns.cummax()\n",
    "    drawdown = (cumulative_returns / rolling_max) - 1\n",
    "    max_drawdown = drawdown.min()\n",
    "\n",
    "    # VaR at 95%\n",
    "    var_95 = df_returns.quantile(0.05)\n",
    "\n",
    "    # Create DF\n",
    "    summary_df = pd.DataFrame({\n",
    "        \"Annualized Returns\": annualized_return,\n",
    "        \"Annualized Volatility\": annualized_std,\n",
    "        \"Sharpe Ratio\": sharpe_ratio,\n",
    "        \"Max Drawdown\": max_drawdown,\n",
    "        \"VaR 95%\": var_95\n",
    "    })\n",
    "    \n",
    "    return summary_df"
   ],
   "outputs": []
  },
  {
   "cell_type": "code",
   "execution_count": 263,
   "id": "d55b5e75-bf26-40f6-897d-2b29898c0be0",
   "metadata": {},
   "source": [
    "# Now the table\n",
    "analytics_table = calculate_analytics(df_returns_reindex)\n",
    "\n",
    "analytics_table"
   ],
   "outputs": []
  },
  {
   "cell_type": "code",
   "execution_count": null,
   "id": "ab58bb5d-3dd9-47a8-a7ea-8d367c35364c",
   "metadata": {},
   "source": [],
   "outputs": []
  }
 ],
 "metadata": {
  "kernelspec": {
   "display_name": "Python 3 (ipykernel)",
   "language": "python",
   "name": "python3"
  },
  "language_info": {
   "codemirror_mode": {
    "name": "ipython",
    "version": 3
   },
   "file_extension": ".py",
   "mimetype": "text/x-python",
   "name": "python",
   "nbconvert_exporter": "python",
   "pygments_lexer": "ipython3",
   "version": "3.11.7"
  }
 },
 "nbformat": 4,
 "nbformat_minor": 5
}
