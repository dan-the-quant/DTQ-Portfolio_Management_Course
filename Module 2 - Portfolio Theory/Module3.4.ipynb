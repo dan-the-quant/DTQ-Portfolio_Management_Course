{
 "cells": [
  {
   "cell_type": "markdown",
   "id": "bd9440b4-f688-4091-9872-4fdce8760b91",
   "metadata": {},
   "source": [
    "# Black-Litterman Portfolio's Theory #\n",
    "\n",
    "### Practical Example ###"
   ]
  },
  {
   "cell_type": "code",
   "id": "586fa509-d79b-42a9-9e53-76ff62d6b9e2",
   "metadata": {
    "ExecuteTime": {
     "end_time": "2025-04-17T05:13:11.372690Z",
     "start_time": "2025-04-17T05:13:11.369177Z"
    }
   },
   "source": [
    "# Import Libraries\n",
    "\n",
    "# Data Management\n",
    "import pandas as pd\n",
    "import numpy as np\n",
    "\n",
    "# Visualization\n",
    "import matplotlib.pyplot as plt\n",
    "\n",
    "# Handle Files\n",
    "import sys\n",
    "import os\n",
    "\n",
    "# Import Local Functions\n",
    "sys.path.append(os.path.abspath(\"../source\"))\n",
    "from functions import import_financial_data\n",
    "from portfolios_toolkit import calculate_analytics"
   ],
   "execution_count": 2,
   "outputs": []
  },
  {
   "cell_type": "code",
   "id": "5f88e696-f8e9-4357-b83a-7c5550903335",
   "metadata": {
    "ExecuteTime": {
     "end_time": "2025-04-17T05:13:11.801471Z",
     "start_time": "2025-04-17T05:13:11.679944Z"
    }
   },
   "source": [
    "# Import Data\n",
    "\n",
    "# Apple Data\n",
    "df_1 = import_financial_data(\"AAPL\", mkt_cap=True)\n",
    "\n",
    "# Amazon Data\n",
    "df_2 =  import_financial_data(\"AMZN\", mkt_cap=True)\n",
    "\n",
    "# Meta Data\n",
    "df_3 =  import_financial_data(\"META\", mkt_cap=True)\n",
    "\n",
    "# Microsoft Data\n",
    "df_4 =  import_financial_data(\"MSFT\", mkt_cap=True)"
   ],
   "execution_count": 3,
   "outputs": []
  },
  {
   "cell_type": "code",
   "id": "4061f88d-0310-4a5f-a57e-f92dd3a0c13c",
   "metadata": {
    "ExecuteTime": {
     "end_time": "2025-04-17T05:13:13.062411Z",
     "start_time": "2025-04-17T05:13:13.043919Z"
    }
   },
   "source": [
    "# Create the joint dataframe\n",
    "df_data = pd.DataFrame()\n",
    "\n",
    "# Columns will be the Adjusted Close Price\n",
    "df_data['AAPL'] = df_1['adj_close']\n",
    "df_data['AMZN'] = df_2['adj_close']\n",
    "df_data['META'] = df_3['adj_close']\n",
    "df_data['MSFT'] = df_4['adj_close']\n",
    "\n",
    "# Drop Missing Data\n",
    "df_data = df_data.dropna()\n",
    "\n",
    "df_returns = df_data.pct_change(1).mul(100)\n",
    "df_returns = df_returns.apply(lambda x: x.fillna(x.mean()), axis=0)\n",
    "\n",
    "df_returns"
   ],
   "execution_count": 4,
   "outputs": []
  },
  {
   "cell_type": "code",
   "id": "f6b6359d-3bb2-4aa0-8666-528ac44d7fb6",
   "metadata": {
    "ExecuteTime": {
     "end_time": "2025-04-17T05:13:13.731179Z",
     "start_time": "2025-04-17T05:13:13.725642Z"
    }
   },
   "source": [
    "# Theoretically we could use the average as the expected returns (these are daily returns)\n",
    "expected_returns = df_returns.mean() \n",
    "\n",
    "expected_returns"
   ],
   "execution_count": 5,
   "outputs": []
  },
  {
   "cell_type": "code",
   "id": "85c5a21c-db78-47a6-9969-68b0dc303487",
   "metadata": {
    "ExecuteTime": {
     "end_time": "2025-04-17T05:13:15.073289Z",
     "start_time": "2025-04-17T05:13:15.065763Z"
    }
   },
   "source": [
    "# The volatility is calculated with the standard deviations\n",
    "volatility = df_returns.dropna().std()\n",
    "\n",
    "volatility"
   ],
   "execution_count": 6,
   "outputs": []
  },
  {
   "cell_type": "code",
   "id": "0c0316ef-3fb3-480d-8754-206a034acff5",
   "metadata": {
    "ExecuteTime": {
     "end_time": "2025-04-17T05:13:15.776614Z",
     "start_time": "2025-04-17T05:13:15.758689Z"
    }
   },
   "source": [
    "# Covariance Matrix\n",
    "cov_matrix = df_returns.dropna().cov()\n",
    "\n",
    "cov_matrix"
   ],
   "execution_count": 7,
   "outputs": []
  },
  {
   "cell_type": "code",
   "id": "f6ffcb88-d580-4d1b-a3a1-320d51b10785",
   "metadata": {
    "ExecuteTime": {
     "end_time": "2025-04-17T05:14:37.821649Z",
     "start_time": "2025-04-17T05:14:37.810139Z"
    }
   },
   "source": [
    "# Create the Market Capitalization \n",
    "df_mktcap = pd.DataFrame()\n",
    "\n",
    "df_mktcap['AAPL'] = np.sqrt(df_1['mkt_cap'])\n",
    "df_mktcap['AMZN'] = np.sqrt(df_2['mkt_cap'])\n",
    "df_mktcap['META'] = np.sqrt(df_3['mkt_cap'])\n",
    "df_mktcap['MSFT'] = np.sqrt(df_4['mkt_cap'])\n",
    "\n",
    "df_mktcap = df_mktcap.dropna()\n",
    "\n",
    "df_mktcap"
   ],
   "execution_count": 9,
   "outputs": []
  },
  {
   "cell_type": "code",
   "id": "c06f6363-159c-4712-b844-881fd152bd95",
   "metadata": {
    "ExecuteTime": {
     "end_time": "2025-04-17T05:14:42.808366Z",
     "start_time": "2025-04-17T05:14:42.798849Z"
    }
   },
   "source": [
    "# Create the Market Capitalization Weights\n",
    "\n",
    "total_market_cap = df_mktcap.sum(axis=1)  # Horizontal Sum because we got a Time Series\n",
    "\n",
    "df_mktcap_weights = df_mktcap.div(total_market_cap, axis = 0)\n",
    "\n",
    "df_mktcap_weights"
   ],
   "execution_count": 10,
   "outputs": []
  },
  {
   "cell_type": "code",
   "id": "b4c3719f-cbd8-473a-80b0-35b16018f387",
   "metadata": {
    "ExecuteTime": {
     "end_time": "2025-04-17T05:15:04.610933Z",
     "start_time": "2025-04-17T05:15:04.603430Z"
    }
   },
   "source": [
    "# Let us use the last observations since the mean of the portfolio is calculated with the whole story\n",
    "\n",
    "market_weights = df_mktcap_weights.iloc[-1]\n",
    "\n",
    "market_weights"
   ],
   "execution_count": 11,
   "outputs": []
  },
  {
   "cell_type": "code",
   "id": "bf2ec1db-39d7-49af-8eb4-db2e428dc927",
   "metadata": {
    "ExecuteTime": {
     "end_time": "2025-04-17T05:15:12.581242Z",
     "start_time": "2025-04-17T05:15:12.578241Z"
    }
   },
   "source": [
    "# We can calculate or estimate the Risk Aversion Coefficient using market data, but let us assume it\n",
    "\n",
    "risk_aversion = 2.5"
   ],
   "execution_count": 12,
   "outputs": []
  },
  {
   "cell_type": "code",
   "id": "f2dbe8f2-e530-47af-a1ad-b22a3200743b",
   "metadata": {
    "ExecuteTime": {
     "end_time": "2025-04-17T05:15:14.724920Z",
     "start_time": "2025-04-17T05:15:14.718592Z"
    }
   },
   "source": [
    "# Compute implied equilibrium returns\n",
    "\n",
    "pi = risk_aversion * cov_matrix @ market_weights\n",
    "\n",
    "pi"
   ],
   "execution_count": 13,
   "outputs": []
  },
  {
   "cell_type": "code",
   "id": "b7eec9d5-dcf7-4b60-aa02-f90634b356c0",
   "metadata": {
    "ExecuteTime": {
     "end_time": "2025-04-17T05:16:24.319615Z",
     "start_time": "2025-04-17T05:16:24.309810Z"
    }
   },
   "source": [
    "# Tau adjustment (controls uncertainty of implied returns)\n",
    "tau = 0.10\n",
    "\n",
    "pi_adjusted = tau * pi\n",
    "\n",
    "pi_adjusted"
   ],
   "execution_count": 14,
   "outputs": []
  },
  {
   "cell_type": "code",
   "id": "04daf604-f498-4d99-8979-499b7c08c561",
   "metadata": {
    "ExecuteTime": {
     "end_time": "2025-04-17T05:16:43.324169Z",
     "start_time": "2025-04-17T05:16:43.319835Z"
    }
   },
   "source": [
    "# P matrix: 1 view per asset (identity matrix)\n",
    "P = np.identity(4)\n",
    "\n",
    "# Q vector: our expected returns relative to the market\n",
    "Q = np.array([0.01, 0.02, 0.05, 0.03])  # AAPL, AMZN, META, MSFT"
   ],
   "execution_count": 15,
   "outputs": []
  },
  {
   "cell_type": "code",
   "id": "71a871dd-7e62-4067-97ff-5daa6db45be2",
   "metadata": {
    "ExecuteTime": {
     "end_time": "2025-04-17T05:16:49.839811Z",
     "start_time": "2025-04-17T05:16:49.832350Z"
    }
   },
   "source": [
    "# Diagonal Omega matrix: uncertainty of each view\n",
    "# Often proportional to variance of the assets related to the views\n",
    "Omega = np.diag(np.diag(P @ cov_matrix @ P.T)) * tau\n",
    "\n",
    "Omega"
   ],
   "execution_count": 16,
   "outputs": []
  },
  {
   "cell_type": "code",
   "id": "2638bd37-00c1-4028-b8c0-0aefa3e39082",
   "metadata": {
    "ExecuteTime": {
     "end_time": "2025-04-17T05:16:54.719619Z",
     "start_time": "2025-04-17T05:16:54.707093Z"
    }
   },
   "source": [
    "# Inverse Matrix\n",
    "\n",
    "inv_tau_sigma = np.linalg.inv(tau * cov_matrix)\n",
    "inv_omega = np.linalg.inv(Omega)"
   ],
   "execution_count": 17,
   "outputs": []
  },
  {
   "cell_type": "code",
   "id": "4268128a-1bd7-41c4-90d8-5276680bf967",
   "metadata": {
    "ExecuteTime": {
     "end_time": "2025-04-17T05:16:55.260485Z",
     "start_time": "2025-04-17T05:16:55.252480Z"
    }
   },
   "source": [
    "# Apply Black-Litterman formula\n",
    "\n",
    "posterior_mean = np.linalg.inv(inv_tau_sigma + P.T @ inv_omega @ P) @ (inv_tau_sigma @ pi + P.T @ inv_omega @ Q)\n",
    "\n",
    "posterior_mean"
   ],
   "execution_count": 18,
   "outputs": []
  },
  {
   "cell_type": "code",
   "id": "e98629d6-66b8-4b62-9cf0-cf0ed13d0e30",
   "metadata": {
    "ExecuteTime": {
     "end_time": "2025-04-17T05:16:56.232522Z",
     "start_time": "2025-04-17T05:16:56.227041Z"
    }
   },
   "source": [
    "# Calculate the Optimal Weights\n",
    "\n",
    "optimal_weights = np.linalg.inv(cov_matrix) @ (posterior_mean) / risk_aversion\n",
    "\n",
    "# Normalize weights to sum to 1\n",
    "\n",
    "optimal_weights /= np.sum(optimal_weights)\n",
    "\n",
    "optimal_weights"
   ],
   "execution_count": 19,
   "outputs": []
  },
  {
   "cell_type": "code",
   "id": "42cf7cac-d844-449b-8cbd-3e2ab929d42c",
   "metadata": {
    "ExecuteTime": {
     "end_time": "2025-04-17T05:16:57.805125Z",
     "start_time": "2025-04-17T05:16:57.800111Z"
    }
   },
   "source": [
    "# Calculate the Portfolio Returns and Variance\n",
    "\n",
    "portfolio_returns = np.dot(optimal_weights, expected_returns)\n",
    "\n",
    "portfolio_variance = np.dot(optimal_weights.T, np.dot(cov_matrix, optimal_weights))\n",
    "\n",
    "portfolio_volatility = np.sqrt(portfolio_variance)\n",
    "\n",
    "print(f\"Expected Portfolio Return: {portfolio_returns:.4f}\")\n",
    "print(f\"Portfolio Variance: {portfolio_variance:.6f}\")\n",
    "print(f\"Portfolio Volatility (Std Dev): {portfolio_volatility:.4f}\")"
   ],
   "execution_count": 20,
   "outputs": []
  },
  {
   "cell_type": "code",
   "id": "f67a3f6a-9a97-476d-981f-9046d7b21a44",
   "metadata": {
    "ExecuteTime": {
     "end_time": "2025-04-17T05:18:04.464456Z",
     "start_time": "2025-04-17T05:18:04.304003Z"
    }
   },
   "source": [
    "# Time Series Graphs\n",
    "plt.figure(figsize=(10, 6))\n",
    "plt.plot(df_returns.cumsum(), label=df_returns.columns, alpha=1)\n",
    "\n",
    "# Config\n",
    "plt.title('Cumulative Returns Time Series')\n",
    "plt.xlabel('Time Index')\n",
    "plt.ylabel('$r_t$')\n",
    "plt.legend()\n",
    "\n",
    "# Show\n",
    "plt.grid(True)\n",
    "plt.show()"
   ],
   "execution_count": 23,
   "outputs": []
  },
  {
   "cell_type": "code",
   "id": "499e9063-0019-44a7-9a22-bb42e59fbc1a",
   "metadata": {
    "ExecuteTime": {
     "end_time": "2025-04-17T05:18:28.224556Z",
     "start_time": "2025-04-17T05:18:28.218453Z"
    }
   },
   "source": [
    "# Calculate the Historical Returns of the Portfolio\n",
    "\n",
    "portfolio_returns = df_returns @ optimal_weights\n",
    "\n",
    "portfolio_returns"
   ],
   "execution_count": 24,
   "outputs": []
  },
  {
   "cell_type": "code",
   "id": "0406479a-9ae5-4169-a424-71d63a2d6c28",
   "metadata": {
    "ExecuteTime": {
     "end_time": "2025-04-17T05:18:45.053654Z",
     "start_time": "2025-04-17T05:18:44.895743Z"
    }
   },
   "source": [
    "# Time Series Graphs\n",
    "plt.figure(figsize=(10, 6))\n",
    "plt.plot(df_returns.cumsum(), label=df_returns.columns, alpha=1)\n",
    "plt.plot(portfolio_returns.cumsum(), label='BL Portfolio', color='purple', alpha=1)\n",
    "\n",
    "# Config\n",
    "plt.title('Cumulative Returns Time Series')\n",
    "plt.xlabel('Time Index')\n",
    "plt.ylabel('Cumulative Returns')\n",
    "plt.legend()\n",
    "\n",
    "# Show\n",
    "plt.grid(True)\n",
    "plt.show()"
   ],
   "execution_count": 25,
   "outputs": []
  },
  {
   "cell_type": "code",
   "id": "62d821f4-d410-4104-8328-2b928f8829ac",
   "metadata": {
    "ExecuteTime": {
     "end_time": "2025-04-17T05:18:53.300371Z",
     "start_time": "2025-04-17T05:18:53.291397Z"
    }
   },
   "source": [
    "# Create the Analytics\n",
    "\n",
    "df_returns['BL'] = portfolio_returns\n",
    "\n",
    "df_returns"
   ],
   "execution_count": 26,
   "outputs": []
  },
  {
   "cell_type": "code",
   "id": "92977b7b-218f-4c26-9d8a-ae84a14be0b3",
   "metadata": {
    "ExecuteTime": {
     "end_time": "2025-04-17T05:18:54.239757Z",
     "start_time": "2025-04-17T05:18:54.227297Z"
    }
   },
   "source": [
    "# Now the table\n",
    "analytics_table = calculate_analytics(df_returns)\n",
    "\n",
    "analytics_table"
   ],
   "execution_count": 27,
   "outputs": []
  },
  {
   "cell_type": "code",
   "execution_count": null,
   "id": "8ea138ea-41d7-4a4c-8c11-ed06876d21d3",
   "metadata": {},
   "source": [],
   "outputs": []
  }
 ],
 "metadata": {
  "kernelspec": {
   "display_name": "Python 3 (ipykernel)",
   "language": "python",
   "name": "python3"
  },
  "language_info": {
   "codemirror_mode": {
    "name": "ipython",
    "version": 3
   },
   "file_extension": ".py",
   "mimetype": "text/x-python",
   "name": "python",
   "nbconvert_exporter": "python",
   "pygments_lexer": "ipython3",
   "version": "3.11.7"
  }
 },
 "nbformat": 4,
 "nbformat_minor": 5
}
