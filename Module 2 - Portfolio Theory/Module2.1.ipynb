{
 "cells": [
  {
   "cell_type": "markdown",
   "id": "501429c6-7198-425a-85a7-c076a8458242",
   "metadata": {},
   "source": [
    "# Correlation and Diversification #"
   ]
  },
  {
   "metadata": {},
   "cell_type": "markdown",
   "source": "George is a trading enthusiast. For several months now, he has been spending a considerable amount of time and money on the stock markets. He enjoys investing in stocks, but he admits he is not an expert. He has made very good money on some investments, but he has also lost money on others. He understands that some of the gains have offset some of the losses... George has discovered the benefits of diversification.",
   "id": "ae1bfe476c01746f"
  },
  {
   "cell_type": "code",
   "id": "9b96f46a-1c84-49c8-853d-3764c7ce3204",
   "metadata": {
    "ExecuteTime": {
     "end_time": "2025-05-26T15:56:13.585791Z",
     "start_time": "2025-05-26T15:55:57.719168Z"
    }
   },
   "source": [
    "# Import Libraries\n",
    "\n",
    "# Data Management\n",
    "import pandas as pd\n",
    "import numpy as np\n",
    "\n",
    "# Visualization\n",
    "import matplotlib.pyplot as plt\n",
    "\n",
    "# Optimization\n",
    "import statsmodels.api as sm \n",
    "\n",
    "# Handle Files\n",
    "import sys\n",
    "import os\n",
    "\n",
    "# Import Local Functions\n",
    "sys.path.append(os.path.abspath(\"../source\"))\n",
    "from functions import import_daily_financial_data"
   ],
   "execution_count": 2,
   "outputs": []
  },
  {
   "cell_type": "markdown",
   "id": "4ea39d29-683b-4611-8d97-73728f35007d",
   "metadata": {},
   "source": [
    "### Benefits of Diversification ###"
   ]
  },
  {
   "cell_type": "code",
   "id": "a16b26f3-3da8-422a-b8ec-9b46fecc1ddc",
   "metadata": {
    "ExecuteTime": {
     "end_time": "2025-05-26T15:56:17.304686Z",
     "start_time": "2025-05-26T15:56:13.587803Z"
    }
   },
   "source": [
    "# Import Data\n",
    "\n",
    "# Apple Data\n",
    "df_1 = import_daily_financial_data(\n",
    "    ticker='AAPL', \n",
    "    start_date='2015-01-01', \n",
    "    end_date='2025-01-01', \n",
    "    returns=True\n",
    ")\n",
    "\n",
    "# Amazon Data\n",
    "df_2 =  import_daily_financial_data(\n",
    "    ticker='AMZN', \n",
    "    start_date='2015-01-01', \n",
    "    end_date='2025-01-01', \n",
    "    returns=True\n",
    ")\n",
    "\n",
    "# Meta Data\n",
    "df_3 =  import_daily_financial_data(\n",
    "    ticker='META', \n",
    "    start_date='2015-01-01', \n",
    "    end_date='2025-01-01', \n",
    "    returns=True\n",
    ")\n",
    "\n",
    "# Microsoft Data\n",
    "df_4 =  import_daily_financial_data(\n",
    "    ticker='MSFT', \n",
    "    start_date='2015-01-01', \n",
    "    end_date='2025-01-01', \n",
    "    returns=True\n",
    ")\n",
    "\n",
    "# Walmart Data\n",
    "df_5 =  import_daily_financial_data(\n",
    "    ticker='WMT', \n",
    "    start_date='2015-01-01', \n",
    "    end_date='2025-01-01', \n",
    "    returns=True\n",
    ")"
   ],
   "execution_count": 3,
   "outputs": []
  },
  {
   "cell_type": "code",
   "id": "e440d418-0c22-4f7f-9861-4dff0b9cd5ff",
   "metadata": {
    "ExecuteTime": {
     "end_time": "2025-05-26T15:56:27.263031Z",
     "start_time": "2025-05-26T15:56:27.243090Z"
    }
   },
   "source": [
    "# Create the joint dataframe\n",
    "\n",
    "df_returns = pd.DataFrame()\n",
    "\n",
    "df_returns['AAPL'] = df_1['returns']\n",
    "df_returns['AMZN'] = df_2['returns']\n",
    "df_returns['META'] = df_3['returns']\n",
    "df_returns['MSFT'] = df_4['returns']\n",
    "df_returns['WMT'] = df_5['returns']\n",
    "\n",
    "df_returns"
   ],
   "execution_count": 4,
   "outputs": []
  },
  {
   "cell_type": "code",
   "id": "15b337bf-a0d3-4b48-a6e9-c563833c98c7",
   "metadata": {
    "ExecuteTime": {
     "end_time": "2025-05-26T15:56:59.824984Z",
     "start_time": "2025-05-26T15:56:59.816978Z"
    }
   },
   "source": [
    "# Theoretically we could use the average as the expected returns (these are daily returns)\n",
    "\n",
    "expected_returns = df_returns.mean() * 252\n",
    "expected_returns.name = 'annualized_returns'\n",
    "\n",
    "expected_returns"
   ],
   "execution_count": 5,
   "outputs": []
  },
  {
   "cell_type": "code",
   "id": "d7272104-475c-4a04-8db0-9a60506459eb",
   "metadata": {
    "ExecuteTime": {
     "end_time": "2025-05-26T15:57:09.185082Z",
     "start_time": "2025-05-26T15:57:09.176694Z"
    }
   },
   "source": [
    "# The volatility is calculated with the standard deviations (also annualized volatility)\n",
    "\n",
    "volatility = df_returns.dropna().std() * np.sqrt(252)\n",
    "volatility.name = 'annualized_volatiliy'\n",
    "\n",
    "volatility"
   ],
   "execution_count": 6,
   "outputs": []
  },
  {
   "cell_type": "code",
   "id": "57d8ba61-4611-4766-8716-b4fc8b5997a2",
   "metadata": {
    "ExecuteTime": {
     "end_time": "2025-05-26T15:57:12.160657Z",
     "start_time": "2025-05-26T15:57:12.102150Z"
    }
   },
   "source": [
    "# Covariance Matrix\n",
    "\n",
    "cov_matrix = df_returns.dropna().cov() * 252\n",
    "\n",
    "cov_matrix"
   ],
   "execution_count": 7,
   "outputs": []
  },
  {
   "cell_type": "code",
   "id": "00f286c4-6ab2-4342-abdd-d8288f907e01",
   "metadata": {
    "ExecuteTime": {
     "end_time": "2025-05-26T15:57:16.625234Z",
     "start_time": "2025-05-26T15:57:16.617653Z"
    }
   },
   "source": [
    "# Create the Equal-Weighted Portfolio\n",
    "\n",
    "n_assets = len(df_returns.columns)\n",
    "weights = np.array([1/n_assets] * n_assets)  # Equal weights\n",
    "\n",
    "weights"
   ],
   "execution_count": 8,
   "outputs": []
  },
  {
   "cell_type": "code",
   "id": "280a50b0-d3a8-44b2-a2f8-775b90e5441c",
   "metadata": {
    "ExecuteTime": {
     "end_time": "2025-05-26T15:57:19.215505Z",
     "start_time": "2025-05-26T15:57:19.210512Z"
    }
   },
   "source": [
    "# Portfolio expected return\n",
    "portfolio_return = np.dot(weights, expected_returns)\n",
    "\n",
    "# Portfolio variance and volatility\n",
    "portfolio_variance = np.dot(weights.T, np.dot(cov_matrix, weights))\n",
    "portfolio_volatility = np.sqrt(portfolio_variance)\n",
    "\n",
    "print(\"\\nPortfolio Expected Return:\", portfolio_variance)\n",
    "print(\"Portfolio Volatility:\", portfolio_volatility)"
   ],
   "execution_count": 9,
   "outputs": []
  },
  {
   "cell_type": "code",
   "id": "224df897-053d-493b-9391-85db9274a68a",
   "metadata": {
    "ExecuteTime": {
     "end_time": "2025-05-26T15:57:26.547538Z",
     "start_time": "2025-05-26T15:57:26.361941Z"
    }
   },
   "source": [
    "# Plot the Standard Deviations\n",
    "\n",
    "plt.figure(figsize=(10, 6))\n",
    "plt.bar(df_returns.columns, volatility, color='skyblue', label='Individual Asset Volatility')\n",
    "plt.axhline(y=portfolio_volatility, color='red', linestyle='--', label='Portfolio Volatility')\n",
    "plt.ylabel('Annualized Volatility')\n",
    "plt.title('Diversification: Individual vs. Portfolio Volatility')\n",
    "plt.legend()\n",
    "plt.show()"
   ],
   "execution_count": 10,
   "outputs": []
  },
  {
   "cell_type": "code",
   "id": "f9b219af-9289-4252-b28f-d082e0597dd9",
   "metadata": {
    "ExecuteTime": {
     "end_time": "2025-05-26T15:58:44.552441Z",
     "start_time": "2025-05-26T15:58:44.429946Z"
    }
   },
   "source": [
    "# Efficiency Ratios\n",
    "\n",
    "eff_ratios = expected_returns/volatility\n",
    "portafolio_effciency = portfolio_return/portfolio_volatility\n",
    "\n",
    "plt.figure(figsize=(12, 8))\n",
    "plt.bar(df_returns.columns, eff_ratios, color='salmon', label='Individual Asset Volatility')\n",
    "plt.axhline(y=portafolio_effciency, color='black', linestyle='--', label='Portfolio Volatility')\n",
    "plt.ylabel('Annualized Volatility')\n",
    "plt.title('Diversification: Individual vs. Portfolio Volatility')\n",
    "plt.legend()\n",
    "plt.show()"
   ],
   "execution_count": 11,
   "outputs": []
  },
  {
   "cell_type": "code",
   "id": "195197f5-d70f-48ec-b0c7-358c6fb2ba36",
   "metadata": {
    "ExecuteTime": {
     "end_time": "2025-05-26T15:58:51.467199Z",
     "start_time": "2025-05-26T15:58:51.463694Z"
    }
   },
   "source": [
    "# Adjusted Returns\n",
    "\n",
    "print(f\"Portfolio Risk-Adjusted Returns: {portafolio_effciency}\")\n",
    "print(f\"Stocks Risk-Adjusted Returns:\\n{eff_ratios}\")"
   ],
   "execution_count": 12,
   "outputs": []
  },
  {
   "cell_type": "markdown",
   "id": "4e87c477-689e-4bc4-80bf-a92277d245bd",
   "metadata": {},
   "source": [
    "### The Correlation ###"
   ]
  },
  {
   "cell_type": "code",
   "id": "543fa038-739c-4e7e-b170-1a0b5026b526",
   "metadata": {
    "ExecuteTime": {
     "end_time": "2025-05-26T15:58:57.131640Z",
     "start_time": "2025-05-26T15:58:57.118239Z"
    }
   },
   "source": [
    "# Correlation is the Scale of Covariance [-1, 1]\n",
    "\n",
    "pearson = df_returns.corr()\n",
    "\n",
    "pearson"
   ],
   "execution_count": 13,
   "outputs": []
  },
  {
   "cell_type": "code",
   "id": "6aedfdcf-164a-48e7-b9eb-4110ff9fc247",
   "metadata": {
    "ExecuteTime": {
     "end_time": "2025-05-26T15:58:59.661829Z",
     "start_time": "2025-05-26T15:58:59.653286Z"
    }
   },
   "source": [
    "# Non-Linear Correlations\n",
    "\n",
    "spearman = df_returns.corr(method='spearman')\n",
    "\n",
    "spearman"
   ],
   "execution_count": 14,
   "outputs": []
  },
  {
   "cell_type": "code",
   "id": "f7bc8596-5872-4e0e-9ccb-13a273b303ea",
   "metadata": {
    "ExecuteTime": {
     "end_time": "2025-05-26T15:59:01.590429Z",
     "start_time": "2025-05-26T15:59:01.325825Z"
    }
   },
   "source": [
    "# Let us get the Residual Returns (we show how to obtain them in Module 4)\n",
    "res_returns = pd.read_csv(r'..\\additional_data\\capm_residual_returns.csv')\n",
    "res_returns = res_returns.rename(columns={'Unnamed: 0': 'Date'})\n",
    "\n",
    "res_returns = res_returns.set_index('Date')\n",
    "res_returns.index = pd.to_datetime(res_returns.index)\n",
    "\n",
    "# Just the stocks we need\n",
    "res_returns = res_returns[df_returns.columns]\n",
    "res_returns"
   ],
   "execution_count": 15,
   "outputs": []
  },
  {
   "cell_type": "code",
   "id": "140903c0-2a47-4597-9a98-5cf45d930e1b",
   "metadata": {
    "ExecuteTime": {
     "end_time": "2025-05-26T15:59:11.773521Z",
     "start_time": "2025-05-26T15:59:11.761505Z"
    }
   },
   "source": "res_returns.corr()",
   "execution_count": 16,
   "outputs": []
  },
  {
   "cell_type": "code",
   "id": "014c6330-7faf-4d61-ae07-ae4e9523244f",
   "metadata": {
    "ExecuteTime": {
     "end_time": "2025-05-26T15:59:13.241152Z",
     "start_time": "2025-05-26T15:59:12.978261Z"
    }
   },
   "source": [
    "# Create Figure\n",
    "fig, ax1 = plt.subplots(dpi = 300)\n",
    "\n",
    "# AMZN Residual Returns\n",
    "res_returns['AMZN'].cumsum().plot(color = 'blue', ax = ax1)\n",
    "ax1.set_xlabel('Date')\n",
    "ax1.set_ylabel(\n",
    "    'AMZN Residual Returns', \n",
    "    color='blue'\n",
    "    )\n",
    "\n",
    "# WMT Residual Returns\n",
    "ax2 = ax1.twinx()\n",
    "\n",
    "res_returns['WMT'].cumsum().plot(color = 'red', ax = ax2)\n",
    "ax2.set_ylabel(\n",
    "    'WMT Residual Returns', \n",
    "    color='red'\n",
    "    )\n",
    "\n",
    "plt.show()"
   ],
   "execution_count": 17,
   "outputs": []
  },
  {
   "cell_type": "code",
   "id": "7c4d4813-a7da-4e07-9c7c-f44f1046a73d",
   "metadata": {
    "ExecuteTime": {
     "end_time": "2025-05-26T15:59:20.030880Z",
     "start_time": "2025-05-26T15:59:20.021927Z"
    }
   },
   "source": [
    "def detrending_series(\n",
    "        y: pd.Series(),\n",
    "        residuals=True\n",
    "):\n",
    "    Y = y.dropna()\n",
    "\n",
    "    trend = pd.Series(\n",
    "        np.arange(1, len(Y) + 1),\n",
    "        index=Y.index\n",
    "    )\n",
    "\n",
    "    models = [\n",
    "        sm.OLS(Y, sm.add_constant(np.ones_like(Y))),\n",
    "        sm.OLS(Y, sm.add_constant(trend)),\n",
    "        sm.OLS(Y, sm.add_constant(pd.DataFrame({\"trend\": trend, \"trend_sq\": trend ** 2}))),\n",
    "        # sm.OLS(Y, sm.add_constant(pd.DataFrame({\"trend\": trend, \"trend_sq\": trend ** 2, \"trend_cb\": trend ** 3}))),\n",
    "        # sm.OLS(Y, sm.add_constant(\n",
    "        #    pd.DataFrame({\"trend\": trend, \"trend_sq\": trend ** 2, \"trend_cb\": trend ** 3, \"trend_qua\": trend ** 4}))),\n",
    "    ]\n",
    "\n",
    "    results = [model.fit() for model in models]\n",
    "    aics = [result.aic for result in results]\n",
    "\n",
    "    best_model_index = np.argmin(aics)\n",
    "    best_result = results[best_model_index]\n",
    "\n",
    "    # print(best_result.summary())\n",
    "\n",
    "    if residuals:\n",
    "        return best_result.resid\n",
    "\n",
    "    else:\n",
    "        return best_result.fittedvalues"
   ],
   "execution_count": 18,
   "outputs": []
  },
  {
   "cell_type": "code",
   "id": "006aed98-7581-4360-95e7-baba7754c1fc",
   "metadata": {
    "ExecuteTime": {
     "end_time": "2025-05-26T15:59:22.075945Z",
     "start_time": "2025-05-26T15:59:22.029481Z"
    }
   },
   "source": [
    "# Let us detrend\n",
    "\n",
    "cumsum_detrended = res_returns.cumsum().apply(detrending_series)\n",
    "\n",
    "cumsum_detrended"
   ],
   "execution_count": 19,
   "outputs": []
  },
  {
   "cell_type": "code",
   "id": "0fed5881-5f59-4f6e-8475-3a6b4bf0b2c2",
   "metadata": {
    "ExecuteTime": {
     "end_time": "2025-05-26T15:59:24.424296Z",
     "start_time": "2025-05-26T15:59:23.941582Z"
    }
   },
   "source": [
    "# Create Figure\n",
    "fig, ax1 = plt.subplots(dpi = 300)\n",
    "\n",
    "# AMZN Residual Returns\n",
    "cumsum_detrended['AMZN'].plot(color = 'blue', ax = ax1)\n",
    "ax1.set_xlabel('Date')\n",
    "ax1.set_ylabel(\n",
    "    'AMZN Residual Returns', \n",
    "    color='blue'\n",
    "    )\n",
    "\n",
    "# WMT Residual Returns\n",
    "ax2 = ax1.twinx()\n",
    "\n",
    "cumsum_detrended['WMT'].plot(color = 'red', ax = ax2)\n",
    "ax2.set_ylabel(\n",
    "    'WMT Residual Returns', \n",
    "    color='red'\n",
    "    )\n",
    "\n",
    "plt.show()"
   ],
   "execution_count": 20,
   "outputs": []
  },
  {
   "cell_type": "code",
   "id": "0afd09bd-e91d-4375-ba29-37db6fbd5bc5",
   "metadata": {
    "ExecuteTime": {
     "end_time": "2025-05-26T19:43:00.724811Z",
     "start_time": "2025-05-26T19:43:00.703866Z"
    }
   },
   "source": [
    "# Before 2020: all data up to 2019-12-31\n",
    "corr_before_2020 = cumsum_detrended['AMZN'].loc[:'2019-12-31'].corr(\n",
    "    cumsum_detrended['WMT'].loc[:'2019-12-31'])\n",
    "\n",
    "# After 2020: all data from 2020-01-01 onwards\n",
    "corr_after_2020 = cumsum_detrended['AMZN'].loc['2020-01-01':].corr(\n",
    "    cumsum_detrended['WMT'].loc['2020-01-01':])\n",
    "\n",
    "print(f\"The correlation between AMZN and WMT before 2020: {corr_before_2020}\")\n",
    "print(f\"The correlation between AMZN and WMT after 2020: {corr_after_2020}\")"
   ],
   "execution_count": 31,
   "outputs": []
  },
  {
   "cell_type": "code",
   "id": "eaeb880b-92ff-4871-9c32-a6009cc1bbc5",
   "metadata": {
    "ExecuteTime": {
     "end_time": "2025-05-26T15:59:40.220699Z",
     "start_time": "2025-05-26T15:59:40.211659Z"
    }
   },
   "source": [
    "# Calculate Rolling Correlation\n",
    "\n",
    "rolling_corr_252d_cumsum = cumsum_detrended['AMZN'].rolling(window=252).corr(cumsum_detrended['WMT'])\n",
    "rolling_corr_252d = res_returns['AMZN'].rolling(window=252).corr(res_returns['WMT'])"
   ],
   "execution_count": 22,
   "outputs": []
  },
  {
   "cell_type": "code",
   "id": "af02f581-0529-44b6-a658-4055550a2547",
   "metadata": {
    "ExecuteTime": {
     "end_time": "2025-05-26T15:59:41.459098Z",
     "start_time": "2025-05-26T15:59:41.284634Z"
    }
   },
   "source": [
    "# Plot Residuals\n",
    "\n",
    "# Create the Plot\n",
    "plt.figure(figsize=(10, 6))\n",
    "plt.plot(rolling_corr_252d_cumsum, label='Correlation AMZN vs WMT', color='red', alpha=0.7)\n",
    "plt.axhline(y=0, color='black', linestyle='dashed')\n",
    "\n",
    "# Config\n",
    "plt.title('Rolling Correlation Time Series')\n",
    "plt.xlabel('Time')\n",
    "plt.ylabel('Correlation')\n",
    "plt.legend()\n",
    "plt.grid()\n",
    "\n",
    "# Show\n",
    "plt.show()"
   ],
   "execution_count": 23,
   "outputs": []
  },
  {
   "cell_type": "code",
   "id": "61291a6b-59d7-46e7-81bc-58dc49aea735",
   "metadata": {
    "ExecuteTime": {
     "end_time": "2025-05-26T15:59:44.128028Z",
     "start_time": "2025-05-26T15:59:43.973555Z"
    }
   },
   "source": [
    "# Plot Residuals\n",
    "\n",
    "# Create the plot\n",
    "plt.figure(figsize=(10, 6))\n",
    "plt.plot(rolling_corr_252d, label='Correlation AMZN vs WMT', color='red', alpha=0.7)\n",
    "plt.axhline(y=0, color='black', linestyle='dashed')\n",
    "\n",
    "# Config\n",
    "plt.title('Rolling Correlation Time Series')\n",
    "plt.xlabel('Time')\n",
    "plt.ylabel('Correlation')\n",
    "plt.legend()\n",
    "plt.grid()\n",
    "\n",
    "# Show\n",
    "plt.show()"
   ],
   "execution_count": 24,
   "outputs": []
  },
  {
   "cell_type": "code",
   "id": "0026a459-32a1-4998-9d03-90fa45b8d5bc",
   "metadata": {
    "ExecuteTime": {
     "end_time": "2025-05-26T15:59:45.786550Z",
     "start_time": "2025-05-26T15:59:45.775472Z"
    }
   },
   "source": [
    "def portfolio_variance(\n",
    "    weights, \n",
    "    returns\n",
    "):\n",
    "    weights = np.array(weights)\n",
    "    if isinstance(returns, pd.DataFrame):\n",
    "        returns = returns.values\n",
    "    \n",
    "    cov_matrix = np.cov(returns.T)  # covariance matrix\n",
    "    port_var = weights.T @ cov_matrix @ weights\n",
    "    return port_var"
   ],
   "execution_count": 25,
   "outputs": []
  },
  {
   "cell_type": "code",
   "id": "0891c98a-a1fa-45fa-9cde-c8d4bf688b17",
   "metadata": {
    "ExecuteTime": {
     "end_time": "2025-05-26T15:59:47.069890Z",
     "start_time": "2025-05-26T15:59:47.064943Z"
    }
   },
   "source": [
    "# Create the portfolio\n",
    "portfolio_df = df_returns[['AMZN', 'WMT']]\n",
    "weights = [0.5, 0.5]\n",
    "\n",
    "port_var = portfolio_variance(\n",
    "    weights,\n",
    "    portfolio_df.mul(100)\n",
    ")\n",
    "\n",
    "print(f'Portfolio Variance: {port_var:.4f}')"
   ],
   "execution_count": 26,
   "outputs": []
  },
  {
   "cell_type": "code",
   "id": "b8d2ad57-19ae-4420-beb3-e91331783326",
   "metadata": {
    "ExecuteTime": {
     "end_time": "2025-05-26T15:59:47.823645Z",
     "start_time": "2025-05-26T15:59:47.817462Z"
    }
   },
   "source": [
    "# Define the function for the rolling portfolio variance\n",
    "def rolling_portfolio_variance(returns_df, weights, window=252):\n",
    "    weights = np.array(weights)\n",
    "\n",
    "    rolling_vars = []\n",
    "    index = returns_df.index\n",
    "\n",
    "    for i in range(window - 1, len(returns_df)):\n",
    "        window_returns = returns_df.iloc[i - window + 1 : i + 1]\n",
    "        cov_matrix = np.cov(window_returns.T)\n",
    "        var = weights.T @ cov_matrix @ weights\n",
    "        rolling_vars.append(var)\n",
    "\n",
    "    result = pd.Series([np.nan] * (window - 1) + rolling_vars, index=index)\n",
    "    return result\n"
   ],
   "execution_count": 27,
   "outputs": []
  },
  {
   "cell_type": "code",
   "id": "259898bc-5bd2-47b0-bb06-e338ddacb601",
   "metadata": {
    "ExecuteTime": {
     "end_time": "2025-05-26T15:59:49.137911Z",
     "start_time": "2025-05-26T15:59:48.693080Z"
    }
   },
   "source": [
    "# Calculate the Rolling Variance\n",
    "\n",
    "rolling_var = rolling_portfolio_variance(portfolio_df, weights)\n",
    "rolling_var = rolling_var * 100\n",
    "\n",
    "rolling_var.dropna()"
   ],
   "execution_count": 28,
   "outputs": []
  },
  {
   "cell_type": "code",
   "id": "dfd169a9-6dfe-457c-b428-7e48012379ea",
   "metadata": {
    "ExecuteTime": {
     "end_time": "2025-05-26T15:59:50.231179Z",
     "start_time": "2025-05-26T15:59:49.987375Z"
    }
   },
   "source": [
    "# Create Figure\n",
    "fig, ax1 = plt.subplots(dpi = 300)\n",
    "\n",
    "# Portfolio Variance\n",
    "rolling_var.dropna().plot(color = 'turquoise', ax = ax1)\n",
    "ax1.set_xlabel('Date')\n",
    "ax1.set_ylabel(\n",
    "    'Portfolio Variance', \n",
    "    color='turquoise'\n",
    "    )\n",
    "\n",
    "# Rolling Correlation\n",
    "ax2 = ax1.twinx()\n",
    "\n",
    "rolling_corr_252d.plot(color = 'orange', ax = ax2)\n",
    "ax2.set_ylabel(\n",
    "    'Rolling Correlation', \n",
    "    color='orange'\n",
    "    )\n",
    "\n",
    "plt.show()"
   ],
   "execution_count": 29,
   "outputs": []
  },
  {
   "cell_type": "code",
   "id": "c3e93bbd-7d3c-449c-8eeb-add515c28409",
   "metadata": {
    "ExecuteTime": {
     "end_time": "2025-04-17T22:55:23.024965Z",
     "start_time": "2025-04-17T22:55:23.021905Z"
    }
   },
   "source": [],
   "execution_count": 44,
   "outputs": []
  }
 ],
 "metadata": {
  "kernelspec": {
   "display_name": "Python 3 (ipykernel)",
   "language": "python",
   "name": "python3"
  },
  "language_info": {
   "codemirror_mode": {
    "name": "ipython",
    "version": 3
   },
   "file_extension": ".py",
   "mimetype": "text/x-python",
   "name": "python",
   "nbconvert_exporter": "python",
   "pygments_lexer": "ipython3",
   "version": "3.11.7"
  }
 },
 "nbformat": 4,
 "nbformat_minor": 5
}
