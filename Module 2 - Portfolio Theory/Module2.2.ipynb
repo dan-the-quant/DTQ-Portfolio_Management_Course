{
 "cells": [
  {
   "cell_type": "markdown",
   "id": "7dd28351-625f-4695-a1fa-a9e760cc196d",
   "metadata": {},
   "source": [
    "# Markowitz Portfolio's Theory #\n",
    "\n",
    "### Building the Efficient Frontier ###"
   ]
  },
  {
   "cell_type": "code",
   "id": "200bdabc-12dd-43c9-adac-2bfe7321cd38",
   "metadata": {
    "ExecuteTime": {
     "end_time": "2025-06-17T02:14:59.921030Z",
     "start_time": "2025-06-17T02:14:59.916518Z"
    }
   },
   "source": [
    "# Import Libraries\n",
    "\n",
    "# Data Management\n",
    "import pandas as pd\n",
    "import numpy as np\n",
    "\n",
    "# Visualization\n",
    "import matplotlib.pyplot as plt\n",
    "\n",
    "# Optimization\n",
    "from scipy.optimize import minimize\n",
    "\n",
    "# Handle Files\n",
    "import sys\n",
    "import os\n",
    "\n",
    "# Import Local Functions\n",
    "sys.path.append(os.path.abspath(\"../source\"))\n",
    "from data_downloader import get_market_data"
   ],
   "execution_count": 2,
   "outputs": []
  },
  {
   "cell_type": "code",
   "id": "d7c4aa27-af7e-40ae-a1d1-6a2927f6c4bc",
   "metadata": {
    "ExecuteTime": {
     "end_time": "2025-06-17T02:15:04.763956Z",
     "start_time": "2025-06-17T02:15:00.808578Z"
    }
   },
   "source": [
    "# Import data\n",
    "tickers = ['AAPL', 'AMZN', 'META', 'MSFT', 'NVDA'] \n",
    "\n",
    "# DataFrame to store everything\n",
    "df_returns = pd.DataFrame()\n",
    "\n",
    "for ticker in tickers:\n",
    "    df = get_market_data(\n",
    "        ticker=ticker, \n",
    "        start_date='2015-01-01', \n",
    "        end_date='2025-01-01', \n",
    "        returns=True\n",
    "    )\n",
    "    \n",
    "    returns = df['returns'].rename(ticker)\n",
    "    \n",
    "    df_returns = pd.concat([df_returns, returns], axis=1)\n",
    "    \n",
    "    print(f'Data Ready for {ticker}')\n"
   ],
   "execution_count": 3,
   "outputs": []
  },
  {
   "metadata": {
    "ExecuteTime": {
     "end_time": "2025-06-17T02:15:05.975411Z",
     "start_time": "2025-06-17T02:15:05.963209Z"
    }
   },
   "cell_type": "code",
   "source": "df_returns",
   "id": "4eefb7c10c812797",
   "execution_count": 4,
   "outputs": []
  },
  {
   "cell_type": "code",
   "id": "4f1cc59e-fa03-4ca4-9c01-155bd3f1f5f9",
   "metadata": {
    "ExecuteTime": {
     "end_time": "2025-06-17T02:15:09.745163Z",
     "start_time": "2025-06-17T02:15:09.739528Z"
    }
   },
   "source": [
    "# Theoretically, we could use the average as the expected returns (these are daily returns)\n",
    "expected_returns = df_returns.mean()\n",
    "expected_returns.name = 'mean_returns'\n",
    "\n",
    "expected_returns"
   ],
   "execution_count": 5,
   "outputs": []
  },
  {
   "cell_type": "code",
   "id": "d79a3d2b-4708-4015-baa9-5d5c89fef0c4",
   "metadata": {
    "ExecuteTime": {
     "end_time": "2025-06-17T02:15:10.946326Z",
     "start_time": "2025-06-17T02:15:10.940191Z"
    }
   },
   "source": [
    "# The volatility is calculated with the standard deviations (also daily volatilities)\n",
    "volatility = df_returns.dropna().std()\n",
    "volatility.name = 'volatility'\n",
    "\n",
    "volatility"
   ],
   "execution_count": 6,
   "outputs": []
  },
  {
   "cell_type": "code",
   "id": "3b7d70c9-2b5e-47db-980a-ebdd5e329a67",
   "metadata": {
    "ExecuteTime": {
     "end_time": "2025-06-17T02:15:12.236757Z",
     "start_time": "2025-06-17T02:15:12.189295Z"
    }
   },
   "source": [
    "# Covariance Matrix\n",
    "cov_matrix = df_returns.dropna().cov()\n",
    "\n",
    "cov_matrix"
   ],
   "execution_count": 7,
   "outputs": []
  },
  {
   "cell_type": "code",
   "id": "54d9eec2-44cd-43b6-acba-6fbd95b1afd6",
   "metadata": {
    "ExecuteTime": {
     "end_time": "2025-06-17T02:15:13.301155Z",
     "start_time": "2025-06-17T02:15:12.957592Z"
    }
   },
   "source": [
    "# Time Series Graphs\n",
    "plt.figure(figsize=(10, 6))\n",
    "plt.plot(df_returns.cumsum(), label=df_returns.columns, alpha=1)\n",
    "\n",
    "# Config\n",
    "plt.title('Cumulative Returns Time Series')\n",
    "plt.xlabel('Time Index')\n",
    "plt.ylabel('$r_t$')\n",
    "plt.legend()\n",
    "\n",
    "# Show\n",
    "plt.grid(True)\n",
    "plt.show()"
   ],
   "execution_count": 8,
   "outputs": []
  },
  {
   "metadata": {},
   "cell_type": "markdown",
   "source": [
    "The Markowitz's Theory establishes that a portfolio's returns and variance are defined by the following equations:\n",
    "\n",
    "Portfolio Returns: $ \\mu_P = \\sum_{i=1}^{n}{\\omega_i\\mu_i} $\n",
    "\n",
    "Portfolio Variance: $ \\sigma_P^2 = \\sum_{i=1}^{n}\\sum_{j=1}^{n}\\omega_i\\omega_j\\gamma_{ij}$"
   ],
   "id": "71d24520ff43b493"
  },
  {
   "cell_type": "code",
   "id": "6658d79d-5618-448e-b505-59dfb2ffbca3",
   "metadata": {
    "ExecuteTime": {
     "end_time": "2025-06-17T02:15:15.326326Z",
     "start_time": "2025-06-17T02:15:15.322940Z"
    }
   },
   "source": [
    "# To create random portfolios, first we need to create random weights:\n",
    "def rand_weights(n):\n",
    "    ''' Produces n random weights that sum to 1 '''\n",
    "    k = np.random.rand(n)\n",
    "    return k / sum(k)"
   ],
   "execution_count": 9,
   "outputs": []
  },
  {
   "metadata": {
    "ExecuteTime": {
     "end_time": "2025-06-17T02:15:16.365852Z",
     "start_time": "2025-06-17T02:15:16.359806Z"
    }
   },
   "cell_type": "code",
   "source": [
    "# An example\n",
    "rand_weights(5)"
   ],
   "id": "140d52dd1afef7a9",
   "execution_count": 10,
   "outputs": []
  },
  {
   "cell_type": "code",
   "id": "4e124de6-fea5-477a-bcbf-9a8292c63c59",
   "metadata": {
    "ExecuteTime": {
     "end_time": "2025-06-17T02:15:19.399721Z",
     "start_time": "2025-06-17T02:15:19.395799Z"
    }
   },
   "source": [
    "### This function create a random portfolio based on random weights\n",
    "def random_portfolio(\n",
    "        expected_returns, \n",
    "        cov_matrix\n",
    "):\n",
    "    # Generate Random Weights\n",
    "    weights = rand_weights(len(expected_returns))\n",
    "    \n",
    "    # Calculate the Portfolio's Returns\n",
    "    portfolio_returns = np.dot(weights, expected_returns)\n",
    "    \n",
    "    # Calculate the Portfolio's Risk\n",
    "    portfolio_variance = np.dot(weights.T, np.dot(cov_matrix, weights))\n",
    "    portfolio_stddev = np.sqrt(portfolio_variance)\n",
    "    \n",
    "    return portfolio_returns, portfolio_stddev"
   ],
   "execution_count": 11,
   "outputs": []
  },
  {
   "metadata": {
    "ExecuteTime": {
     "end_time": "2025-06-17T02:15:20.190136Z",
     "start_time": "2025-06-17T02:15:20.184686Z"
    }
   },
   "cell_type": "code",
   "source": [
    "# Calculate a portfolio\n",
    "returns_i, risk_i = random_portfolio(expected_returns, cov_matrix)\n",
    "\n",
    "print(f\"The Random Portfolio's Return is: {returns_i.round(3)}\")\n",
    "print(f\"The Random Portfolio's Volatility is: {risk_i.round(3)}\")"
   ],
   "id": "fbc96e491b8724a9",
   "execution_count": 12,
   "outputs": []
  },
  {
   "cell_type": "code",
   "id": "88cf9b55-63d5-4c55-8b9c-1f1e6ba50149",
   "metadata": {
    "ExecuteTime": {
     "end_time": "2025-06-17T02:15:20.911253Z",
     "start_time": "2025-06-17T02:15:20.907171Z"
    }
   },
   "source": [
    "# We can use this function to generate several random portfolios\n",
    "def generate_random_portfolios(\n",
    "        n_portfolios, \n",
    "        expected_returns, \n",
    "        cov_matrix\n",
    "):\n",
    "\n",
    "    # Lists to store the portfolios' information\n",
    "    means = []\n",
    "    stds = []\n",
    "\n",
    "    # Generate the portfolios\n",
    "    for _ in range(n_portfolios):\n",
    "        mean, std = random_portfolio(expected_returns.values.flatten(), cov_matrix)\n",
    "        means.append(mean)\n",
    "        stds.append(std)\n",
    "    \n",
    "    # Store them in a DataFrame\n",
    "    portfolios = pd.DataFrame({\n",
    "        'Mean Return': means,\n",
    "        'Std Dev': stds\n",
    "    })\n",
    "    \n",
    "    return portfolios"
   ],
   "execution_count": 13,
   "outputs": []
  },
  {
   "metadata": {
    "ExecuteTime": {
     "end_time": "2025-06-17T02:15:22.496222Z",
     "start_time": "2025-06-17T02:15:22.466453Z"
    }
   },
   "cell_type": "code",
   "source": [
    "n_portfolios = 1000\n",
    "portfolios = generate_random_portfolios(n_portfolios, expected_returns, cov_matrix)\n",
    "\n",
    "portfolios"
   ],
   "id": "76f733a47db2ed13",
   "execution_count": 14,
   "outputs": []
  },
  {
   "cell_type": "code",
   "id": "1c4bf4a7-a09b-4ab1-9d56-089b1d12d01c",
   "metadata": {
    "ExecuteTime": {
     "end_time": "2025-06-17T02:15:23.303714Z",
     "start_time": "2025-06-17T02:15:23.161866Z"
    }
   },
   "source": [
    "# Portfolios Plot\n",
    "plt.figure(figsize=(10, 6))\n",
    "plt.scatter(portfolios['Std Dev'], portfolios['Mean Return'], color='gray', alpha=0.8, label='Portfolios')\n",
    "\n",
    "# Config\n",
    "plt.title('Portfolios')\n",
    "plt.xlabel('Volatility')\n",
    "plt.ylabel('Expected Return')\n",
    "plt.legend()\n",
    "\n",
    "# Show\n",
    "plt.grid(True)\n",
    "plt.show()"
   ],
   "execution_count": 15,
   "outputs": []
  },
  {
   "cell_type": "code",
   "id": "d2e037cc-ebbb-4b3d-acc1-09fdf8f0bf2d",
   "metadata": {
    "ExecuteTime": {
     "end_time": "2025-06-17T02:15:24.498750Z",
     "start_time": "2025-06-17T02:15:24.495611Z"
    }
   },
   "source": [
    "# We can create the Equal-Weighted Portfolio to compare it with the other portfolios\n",
    "def equal_weighted_portfolio(\n",
    "        expected_returns, \n",
    "        cov_matrix\n",
    "):\n",
    "    # Generate the Equal Weights\n",
    "    n = len(expected_returns)\n",
    "    weights = np.ones(n) / n  \n",
    "\n",
    "    # Calculate the Portfolio's Returns\n",
    "    portfolio_return = np.dot(weights, expected_returns)\n",
    "    \n",
    "    # Calculate the Portfolio's Risk\n",
    "    portfolio_volatility = np.sqrt(np.dot(weights.T, np.dot(cov_matrix, weights)))\n",
    "    \n",
    "    return portfolio_return, portfolio_volatility"
   ],
   "execution_count": 16,
   "outputs": []
  },
  {
   "metadata": {
    "ExecuteTime": {
     "end_time": "2025-06-17T02:15:25.043311Z",
     "start_time": "2025-06-17T02:15:25.038829Z"
    }
   },
   "cell_type": "code",
   "source": [
    "# Calculate the EWP\n",
    "returns_e, risk_e = equal_weighted_portfolio(expected_returns, cov_matrix)\n",
    "\n",
    "print(f\"The Equal-Weighted Portfolio's Return is: {returns_e.round(3)}\")\n",
    "print(f\"The Equal-Weighted Portfolio's Volatility is: {risk_e.round(3)}\")"
   ],
   "id": "d69754777f98489d",
   "execution_count": 17,
   "outputs": []
  },
  {
   "cell_type": "code",
   "id": "34991721-639c-483d-bc0c-fa212f61c1a6",
   "metadata": {
    "ExecuteTime": {
     "end_time": "2025-06-17T02:15:25.684740Z",
     "start_time": "2025-06-17T02:15:25.547113Z"
    }
   },
   "source": [
    "# Portfolios Plot\n",
    "plt.figure(figsize=(10, 6))\n",
    "plt.scatter(portfolios['Std Dev'], portfolios['Mean Return'], color='gray', alpha=0.8, label='Portfolios')\n",
    "plt.scatter(risk_e, returns_e, color='red', s=50, label='Equal-Weighted Portfolio')  \n",
    "\n",
    "\n",
    "# Config\n",
    "plt.title('Portfolios')\n",
    "plt.xlabel('Volatility')\n",
    "plt.ylabel('Expected Return')\n",
    "plt.legend()\n",
    "\n",
    "# Show\n",
    "plt.grid(True)\n",
    "plt.show()"
   ],
   "execution_count": 18,
   "outputs": []
  },
  {
   "cell_type": "code",
   "id": "31dd1ee8-0006-4e2f-956b-511192bf8852",
   "metadata": {
    "ExecuteTime": {
     "end_time": "2025-06-17T02:15:26.567378Z",
     "start_time": "2025-06-17T02:15:26.558323Z"
    }
   },
   "source": [
    "# Now how can we get the Efficient Frontier?\n",
    "\n",
    "# Optimization functions\n",
    "def portfolio_performance(\n",
    "        weights, \n",
    "        expected_returns, \n",
    "        cov_matrix\n",
    "):\n",
    "    # Portfolio's Returns\n",
    "    portfolio_return = np.dot(weights, expected_returns)\n",
    "\n",
    "    #Portfolio's Volatility\n",
    "    portfolio_volatility = np.sqrt(np.dot(weights.T, np.dot(cov_matrix, weights)))\n",
    "    \n",
    "    return portfolio_return, portfolio_volatility\n",
    "    \n",
    "# Minimizing Portfolio\n",
    "def minimize_volatility(\n",
    "        weights, \n",
    "        expected_returns, \n",
    "        cov_matrix\n",
    "):\n",
    "    return portfolio_performance(weights, expected_returns, cov_matrix)[1]\n",
    "\n",
    "# Function that generates the portfolios that are located in the Efficient Frontier\n",
    "def get_efficient_frontier(\n",
    "        expected_returns, \n",
    "        cov_matrix, \n",
    "        num_portfolios=100\n",
    "):\n",
    "    results = np.zeros((2, num_portfolios))\n",
    "    target_returns = np.linspace(expected_returns.min(), expected_returns.max(), num_portfolios)\n",
    "    \n",
    "    for i, target in enumerate(target_returns):\n",
    "        constraints = ({'type': 'eq', 'fun': lambda x: np.sum(x) - 1},                          # weights must sum one\n",
    "                       {'type': 'eq', 'fun': lambda x: np.dot(x, expected_returns) - target})   # portfolio returns\n",
    "        bounds = tuple((-1, 1) for _ in range(len(expected_returns)))                           # no short if bounds [0,1]\n",
    "        initial_guess = len(expected_returns) * [1. / len(expected_returns)]\n",
    "        \n",
    "        opt = minimize(minimize_volatility, initial_guess, args=(expected_returns, cov_matrix),\n",
    "                       method='SLSQP', bounds=bounds, constraints=constraints)\n",
    "        \n",
    "        if opt.success:\n",
    "            results[0, i] = target\n",
    "            results[1, i] = opt.fun\n",
    "\n",
    "    return results"
   ],
   "execution_count": 19,
   "outputs": []
  },
  {
   "metadata": {
    "ExecuteTime": {
     "end_time": "2025-06-17T02:15:27.734462Z",
     "start_time": "2025-06-17T02:15:27.163169Z"
    }
   },
   "cell_type": "code",
   "source": [
    "# Calculate the EF\n",
    "efficient_frontier = get_efficient_frontier(expected_returns, cov_matrix)"
   ],
   "id": "501677519f39ef48",
   "execution_count": 20,
   "outputs": []
  },
  {
   "cell_type": "code",
   "id": "34587ffa-0a78-4439-a52b-971bb54a03b1",
   "metadata": {
    "ExecuteTime": {
     "end_time": "2025-06-17T02:15:28.347419Z",
     "start_time": "2025-06-17T02:15:28.156438Z"
    }
   },
   "source": [
    "# Portfolios Plot\n",
    "plt.figure(figsize=(10, 6))\n",
    "plt.scatter(portfolios['Std Dev'], portfolios['Mean Return'], color='gray', alpha=0.7, label='Random Portfolios')\n",
    "plt.scatter(risk_e, returns_e, color='red', s=50, label='Equal-Weighted Portfolio')  \n",
    "plt.plot(efficient_frontier[1, :], efficient_frontier[0, :], label='Efficient Frontier', color='black')\n",
    "\n",
    "\n",
    "# Config\n",
    "plt.title('Efficient Frontier')\n",
    "plt.xlabel('Volatility')\n",
    "plt.ylabel('Expected Return')\n",
    "plt.legend()\n",
    "\n",
    "# Show\n",
    "plt.grid(True)\n",
    "plt.show()"
   ],
   "execution_count": 21,
   "outputs": []
  },
  {
   "metadata": {},
   "cell_type": "markdown",
   "source": [
    "The equation of the Efficient Frontier will have the next form:\n",
    "\n",
    "1) $ \\sigma_P^2 = \\pi_0 - \\pi_1\\mu_P + \\pi_2\\mu_P^2 $\n",
    "\n",
    "The coefficients of the equation will have the next form:\n",
    "\n",
    "1) $ \\pi_0 = \\frac{A}{D} $\n",
    "2) $ \\pi_1 = \\frac{2B}{D} $\n",
    "3) $ \\pi_2 = \\frac{C}{D} $\n",
    "\n",
    "The next equations define the components of the coefficients:\n",
    "\n",
    "1) $ A = \\mu^⊤\\Sigma^{-1}\\mu $\n",
    "2) $ B = \\mu^⊤\\Sigma^{-1}\\iota $\n",
    "3) $ C = \\iota^⊤\\Sigma^{-1}\\iota\" $\n",
    "4) $ D = AC-B^2 $\n"
   ],
   "id": "365b6e1031d2c599"
  },
  {
   "cell_type": "code",
   "id": "80f86fd6-10b1-4e77-a100-56619b7e80f0",
   "metadata": {
    "ExecuteTime": {
     "end_time": "2025-06-17T02:15:40.942654Z",
     "start_time": "2025-06-17T02:15:40.933996Z"
    }
   },
   "source": [
    "# So let us get the components\n",
    "n = len(expected_returns)                                   # Number of Stocks\n",
    "mu = expected_returns.values.flatten().reshape(-1, 1)       # Expected Returns\n",
    "Sigma = cov_matrix.values                                   # Covariance Matrix\n",
    "Sigma_inv = np.linalg.inv(Sigma)                            # Inverse Covariance Matrix\n",
    "iota = np.ones((n, 1))                                      # Vector of Ones"
   ],
   "execution_count": 22,
   "outputs": []
  },
  {
   "cell_type": "code",
   "id": "5b470b82-6f36-4934-bfb1-4af66be5e545",
   "metadata": {
    "ExecuteTime": {
     "end_time": "2025-06-17T02:15:41.554529Z",
     "start_time": "2025-06-17T02:15:41.533304Z"
    }
   },
   "source": [
    "# And now obtain the coefficients of the Efficient Frontier\n",
    "\n",
    "A = np.dot(np.dot(mu.T, Sigma_inv), mu)\n",
    "B = np.dot(np.dot(iota.T, Sigma_inv), mu)\n",
    "C = np.dot(np.dot(iota.T, Sigma_inv), iota)\n",
    "D = (A*C - B*B)\n",
    "\n",
    "print(f\"This is A: {A[0][0]}\")\n",
    "print(f\"This is B: {B[0][0]}\")\n",
    "print(f\"This is C: {C[0][0]}\")\n",
    "print(f\"This is D: {D[0][0]}\")"
   ],
   "execution_count": 23,
   "outputs": []
  },
  {
   "cell_type": "code",
   "id": "fabda696-773d-4fcc-9ca7-37ce42c788de",
   "metadata": {
    "ExecuteTime": {
     "end_time": "2025-06-17T02:15:42.226393Z",
     "start_time": "2025-06-17T02:15:42.211948Z"
    }
   },
   "source": [
    "# Then the equation\n",
    "pi_0 = A/D\n",
    "pi_1 = 2*B/D\n",
    "pi_2 = C/D\n",
    "\n",
    "print(f\"This is the first coefficient: {pi_0[0][0]}\")\n",
    "print(f\"This is the second coefficient: {pi_1[0][0]}\")\n",
    "print(f\"This is the third coefficient: {pi_2[0][0]}\")"
   ],
   "execution_count": 24,
   "outputs": []
  },
  {
   "cell_type": "code",
   "id": "c7edaff3-226b-4b91-a28a-a1a1cfc99f89",
   "metadata": {
    "ExecuteTime": {
     "end_time": "2025-06-17T02:15:43.229078Z",
     "start_time": "2025-06-17T02:15:43.223598Z"
    }
   },
   "source": [
    "# Now let us get the values of the efficient frontier\n",
    "def eff_equation(mu_P):\n",
    "    return np.sqrt((pi_0 - pi_1 * mu_P + pi_2 * mu_P**2))\n",
    "\n",
    "# Create a rango of values for mu_P\n",
    "mu_P_values = np.linspace(0.0008, 0.002, 400)\n",
    "\n",
    "# Evaluate the equation for mu_P values\n",
    "sigma_P_values = eff_equation(mu_P_values).reshape(-1, 1)"
   ],
   "execution_count": 25,
   "outputs": []
  },
  {
   "cell_type": "code",
   "id": "80b6ddb7-7588-4af6-8225-7fa851592f2c",
   "metadata": {
    "ExecuteTime": {
     "end_time": "2025-06-17T02:15:44.066492Z",
     "start_time": "2025-06-17T02:15:43.914542Z"
    }
   },
   "source": [
    "# Create Plot\n",
    "plt.figure(figsize=(10, 6))\n",
    "plt.scatter(portfolios['Std Dev'], portfolios['Mean Return'], color='grey', alpha=0.7, label='Portfolios')\n",
    "plt.scatter(risk_e, returns_e, color='red', s=50, label='Equal-Weighted Portfolio') \n",
    "plt.plot(sigma_P_values, mu_P_values, color='black')\n",
    "\n",
    "\n",
    "# Config\n",
    "plt.title('Efficient Frontier and Portfolios')\n",
    "plt.xlabel('Volatility')\n",
    "plt.ylabel('Expected Return')\n",
    "plt.legend()\n",
    "\n",
    "# Show\n",
    "plt.grid(True)\n",
    "plt.show()\n"
   ],
   "execution_count": 26,
   "outputs": []
  },
  {
   "cell_type": "code",
   "id": "c970671d-0e89-43d4-8fc8-cde606b89588",
   "metadata": {
    "ExecuteTime": {
     "end_time": "2025-06-17T02:15:45.422682Z",
     "start_time": "2025-06-17T02:15:45.414434Z"
    }
   },
   "source": [
    "# Let us check if this equation is indeed correct; for the equal-weighted portfolio's volatility\n",
    "risk_e_optimal = eff_equation(returns_e)[0][0]\n",
    "\n",
    "print(f\"The Equal-Weighted Portfolio's Returns: {returns_e}\")\n",
    "print(f\"The Equal-Weighted Portfolio's Volatility: {risk_e}\")\n",
    "print(f\"The Optimal Volatility: {risk_e_optimal}\")"
   ],
   "execution_count": 27,
   "outputs": []
  },
  {
   "cell_type": "code",
   "id": "1d0d2c2c-d1e5-4eed-847b-02595f4c039c",
   "metadata": {
    "ExecuteTime": {
     "end_time": "2025-06-17T02:15:46.155908Z",
     "start_time": "2025-06-17T02:15:46.004064Z"
    }
   },
   "source": [
    "# Create Plot\n",
    "plt.figure(figsize=(10, 6))\n",
    "plt.scatter(portfolios['Std Dev'], portfolios['Mean Return'], color='grey', alpha=0.7, label='Portfolios')\n",
    "plt.scatter(risk_e, returns_e, color='red', s=50, label='Equal-Weighted Portfolio')  \n",
    "plt.plot(sigma_P_values, mu_P_values, color='black')\n",
    "plt.scatter(risk_e_optimal, returns_e, color='yellow', s=50, label='Optimal Portfolio') \n",
    "\n",
    "# Config\n",
    "plt.title('Efficient Frontier and Portfolios')\n",
    "plt.xlabel('Volatility')\n",
    "plt.ylabel('Expected Return')\n",
    "plt.legend()\n",
    "\n",
    "# Show\n",
    "plt.grid(True)\n",
    "plt.show()\n"
   ],
   "execution_count": 28,
   "outputs": []
  },
  {
   "metadata": {},
   "cell_type": "markdown",
   "source": [
    "To find the minimum variance portfolio we can use the following equation:\n",
    "\n",
    "Returns: $ \\mu_{P_{min}} = \\frac{\\pi_1}{2\\pi_2} $\n",
    "\n",
    "Variance: $ \\sigma_{P_{min}}^2 = \\pi_0 - \\frac{\\pi_1^2}{4\\pi_2} $ "
   ],
   "id": "39d900d9ea84693f"
  },
  {
   "cell_type": "code",
   "id": "e1e46655-4a69-46cc-9734-9e5dd5185731",
   "metadata": {
    "ExecuteTime": {
     "end_time": "2025-06-17T02:15:48.210897Z",
     "start_time": "2025-06-17T02:15:48.206616Z"
    }
   },
   "source": [
    "# Get the MVP\n",
    "min_returns = pi_1/(2*pi_2)\n",
    "min_volat = np.sqrt(pi_0 - ((pi_1**2)/(4*pi_2)))\n",
    "\n",
    "print(f\"The MVP Returns are: {min_returns[0][0]}\")\n",
    "print(f\"The MVP Volatility is: {min_volat[0][0]}\")"
   ],
   "execution_count": 29,
   "outputs": []
  },
  {
   "cell_type": "code",
   "id": "20d0ed38-ffc1-471f-a8b0-794d18bcdada",
   "metadata": {
    "ExecuteTime": {
     "end_time": "2025-06-17T02:16:27.607120Z",
     "start_time": "2025-06-17T02:16:27.459919Z"
    }
   },
   "source": [
    "# Create Plot\n",
    "plt.figure(figsize=(10, 6))\n",
    "plt.scatter(portfolios['Std Dev'], portfolios['Mean Return'], color='grey', alpha=0.7, label='Portfolios')\n",
    "plt.plot(sigma_P_values, mu_P_values, color='black')\n",
    "plt.scatter(risk_e, returns_e, color='red', s=50, label='Equal-Weighted Portfolio')  \n",
    "plt.scatter(risk_e_optimal, returns_e, color='orange', s=50, label='Equal-Weighted Optimal Portfolio') \n",
    "plt.scatter(min_volat, min_returns, color='purple', s=50, label='MVP Portfolio') \n",
    "\n",
    "# Config\n",
    "plt.title('Efficient Frontier and Portfolios')\n",
    "plt.xlabel('Volatility')\n",
    "plt.ylabel('Expected Return')\n",
    "plt.legend()\n",
    "\n",
    "# Show\n",
    "plt.grid(True)\n",
    "plt.show()"
   ],
   "execution_count": 31,
   "outputs": []
  },
  {
   "cell_type": "code",
   "execution_count": null,
   "id": "40f6b69d-5171-4b29-9a04-cd7cc8a139c3",
   "metadata": {},
   "source": [],
   "outputs": []
  }
 ],
 "metadata": {
  "kernelspec": {
   "display_name": "Python 3 (ipykernel)",
   "language": "python",
   "name": "python3"
  },
  "language_info": {
   "codemirror_mode": {
    "name": "ipython",
    "version": 3
   },
   "file_extension": ".py",
   "mimetype": "text/x-python",
   "name": "python",
   "nbconvert_exporter": "python",
   "pygments_lexer": "ipython3",
   "version": "3.11.7"
  }
 },
 "nbformat": 4,
 "nbformat_minor": 5
}
