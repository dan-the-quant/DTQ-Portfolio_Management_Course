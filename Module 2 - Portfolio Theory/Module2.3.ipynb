{
 "cells": [
  {
   "cell_type": "markdown",
   "id": "d6aca106-ecd5-497b-9dad-760ad6f159ba",
   "metadata": {},
   "source": [
    "# Capital Allocation Line #\n",
    "\n",
    "### Building Portfolios Maximizing Sharpe Ratio ###"
   ]
  },
  {
   "cell_type": "code",
   "id": "a86301ed-e6af-4c26-b147-e9f979f2f995",
   "metadata": {
    "ExecuteTime": {
     "end_time": "2025-05-27T03:39:22.240014Z",
     "start_time": "2025-05-27T03:39:20.682179Z"
    }
   },
   "source": [
    "# Import Libraries\n",
    "\n",
    "# Data Management\n",
    "import pandas as pd\n",
    "import numpy as np\n",
    "\n",
    "# Visualization\n",
    "import matplotlib.pyplot as plt\n",
    "\n",
    "# Handle Files\n",
    "import sys\n",
    "import os\n",
    "\n",
    "# Import Local Functions\n",
    "sys.path.append(os.path.abspath(\"../source\"))\n",
    "from functions import import_daily_financial_data\n",
    "from portfolios_toolkit import portfolio_variance\n",
    "from portfolios_toolkit import eff_coefficients\n",
    "from portfolios_toolkit import eff_equation"
   ],
   "execution_count": 2,
   "outputs": []
  },
  {
   "cell_type": "code",
   "id": "3135cf7d-2495-4497-b48d-1c933aadd38b",
   "metadata": {
    "ExecuteTime": {
     "end_time": "2025-05-27T03:39:25.550554Z",
     "start_time": "2025-05-27T03:39:22.240362Z"
    }
   },
   "source": [
    "# Import data\n",
    "tickers = ['AAPL', 'AMZN', 'META', 'MSFT', 'NVDA']      # Tickers\n",
    "\n",
    "# DataFrame to store everything\n",
    "df_returns = pd.DataFrame()\n",
    "\n",
    "for ticker in tickers:\n",
    "    df = import_daily_financial_data(\n",
    "        ticker=ticker, \n",
    "        start_date='2015-01-01', \n",
    "        end_date='2025-01-01', \n",
    "        returns=True\n",
    "    )\n",
    "    \n",
    "    returns = df['returns'].rename(ticker)\n",
    "    \n",
    "    df_returns = pd.concat([df_returns, returns], axis=1)\n",
    "    \n",
    "    print(f'Data Ready for {ticker}')"
   ],
   "execution_count": 3,
   "outputs": []
  },
  {
   "cell_type": "code",
   "id": "db41d936-49e7-4707-a243-b0c032ca02d6",
   "metadata": {
    "ExecuteTime": {
     "end_time": "2025-05-27T03:39:25.563940Z",
     "start_time": "2025-05-27T03:39:25.550554Z"
    }
   },
   "source": "df_returns",
   "execution_count": 4,
   "outputs": []
  },
  {
   "cell_type": "code",
   "id": "2efb2730-c0fd-407f-bec7-22b97fc62bdf",
   "metadata": {
    "ExecuteTime": {
     "end_time": "2025-05-27T03:39:25.606702Z",
     "start_time": "2025-05-27T03:39:25.563940Z"
    }
   },
   "source": [
    "# Create the expected returns and standard deviations\n",
    "expected_returns = df_returns.mean()\n",
    "volatility = df_returns.dropna().std()\n",
    "cov_matrix = df_returns.dropna().cov()"
   ],
   "execution_count": 5,
   "outputs": []
  },
  {
   "metadata": {
    "ExecuteTime": {
     "end_time": "2025-05-27T03:39:25.623040Z",
     "start_time": "2025-05-27T03:39:25.606702Z"
    }
   },
   "cell_type": "code",
   "source": [
    "# Get the coefficients of the Efficient Frontier\n",
    "coefficients = eff_coefficients(expected_returns, cov_matrix)\n",
    "\n",
    "coefficients"
   ],
   "id": "9c7cd61e6017b295",
   "execution_count": 6,
   "outputs": []
  },
  {
   "cell_type": "code",
   "id": "242c049e-a89d-4b8d-af0d-760c2f6e6426",
   "metadata": {
    "ExecuteTime": {
     "end_time": "2025-05-27T03:39:25.626662Z",
     "start_time": "2025-05-27T03:39:25.623040Z"
    }
   },
   "source": [
    "# Create a rango of values for mu_P\n",
    "mu_P_values = np.linspace(0.0, 0.004, 400)\n",
    "\n",
    "# Evaluate the equation for mu_P values\n",
    "sigma_P_values = eff_equation(coefficients, mu_P_values).reshape(-1, 1)"
   ],
   "execution_count": 7,
   "outputs": []
  },
  {
   "cell_type": "code",
   "id": "4f93b602-e643-41e9-bc55-8131a252a7a1",
   "metadata": {
    "ExecuteTime": {
     "end_time": "2025-05-27T03:39:25.771391Z",
     "start_time": "2025-05-27T03:39:25.626662Z"
    }
   },
   "source": [
    "# Create the Plot\n",
    "plt.figure(figsize=(10, 6))\n",
    "plt.plot(sigma_P_values, mu_P_values, label=r'Efficient Frontier', color='black')\n",
    "\n",
    "\n",
    "# Config\n",
    "plt.title('Efficient Frontier')\n",
    "plt.xlabel('Volatility')\n",
    "plt.ylabel('Expected Return')\n",
    "plt.legend()\n",
    "\n",
    "# Show\n",
    "plt.grid(True)\n",
    "plt.show()"
   ],
   "execution_count": 8,
   "outputs": []
  },
  {
   "cell_type": "code",
   "id": "479dfd9a-4c70-43d9-9700-57197cc3759d",
   "metadata": {
    "ExecuteTime": {
     "end_time": "2025-05-27T03:39:25.774769Z",
     "start_time": "2025-05-27T03:39:25.771391Z"
    }
   },
   "source": [
    "# The Most Efficient Portfolio is that which maximizes the Sharp Ratio\n",
    "rfr = 0.0001"
   ],
   "execution_count": 9,
   "outputs": []
  },
  {
   "metadata": {},
   "cell_type": "markdown",
   "source": [
    "Let us find the Tangency Portfolio\n",
    "\n",
    "Tangency Returns: $ \\mu_T = \\frac{2\\pi_0 - \\pi_1r_f}{\\pi_1 - 2\\pi_2r_f} $"
   ],
   "id": "99a1bd4d9658abde"
  },
  {
   "cell_type": "code",
   "id": "3cebd521-2fc2-4980-895f-ec67e18c894e",
   "metadata": {
    "ExecuteTime": {
     "end_time": "2025-05-27T03:39:25.779577Z",
     "start_time": "2025-05-27T03:39:25.774769Z"
    }
   },
   "source": [
    "# Obtain the values\n",
    "pi_0 = coefficients[0]\n",
    "pi_1 = coefficients[1]\n",
    "pi_2 = coefficients[2]\n",
    "\n",
    "tangency_returns = ((2*pi_0 - pi_1*rfr)/(pi_1 - 2*pi_2*rfr))\n",
    "tangency_volat = eff_equation(coefficients, tangency_returns)\n",
    "\n",
    "print(f\"The Tangency Portfolio Returns are: {tangency_returns}\")\n",
    "print(f\"The Tangency Portfolio Volatility is: {tangency_volat}\")"
   ],
   "execution_count": 10,
   "outputs": []
  },
  {
   "cell_type": "code",
   "id": "83b2d92b-bcb3-4132-9e32-3443351ef8ca",
   "metadata": {
    "ExecuteTime": {
     "end_time": "2025-05-27T03:39:25.911921Z",
     "start_time": "2025-05-27T03:39:25.779577Z"
    }
   },
   "source": [
    "# Create the Scatter Plot\n",
    "plt.figure(figsize=(10, 6))\n",
    "plt.scatter(tangency_volat, tangency_returns, color='red', s=50, label='Tangency Portfolio')  \n",
    "plt.plot(sigma_P_values, mu_P_values, label=r'Efficient Frontier', color='black')\n",
    "\n",
    "\n",
    "# Config\n",
    "plt.title('Efficient Frontier and Portfolios')\n",
    "plt.xlabel('Volatility')\n",
    "plt.ylabel('Expected Return')\n",
    "plt.legend()\n",
    "\n",
    "# Show\n",
    "plt.grid(True)\n",
    "plt.show()"
   ],
   "execution_count": 11,
   "outputs": []
  },
  {
   "cell_type": "code",
   "id": "8dd183a5-e6a2-49d7-bbdc-8f66e48df5ab",
   "metadata": {
    "ExecuteTime": {
     "end_time": "2025-05-27T03:39:26.746498Z",
     "start_time": "2025-05-27T03:39:26.739131Z"
    }
   },
   "source": [
    "# The Maximum Sharpe Ratio is the slope of the capital allocation line\n",
    "sharpe_ratio = (tangency_returns - rfr)/tangency_volat\n",
    "\n",
    "print(f\"The Maximum Sharpe Ratio is: {sharpe_ratio}\")"
   ],
   "execution_count": 12,
   "outputs": []
  },
  {
   "metadata": {
    "ExecuteTime": {
     "end_time": "2025-05-27T03:39:27.531263Z",
     "start_time": "2025-05-27T03:39:27.519428Z"
    }
   },
   "cell_type": "code",
   "source": [
    "# Define the CAL\n",
    "def CAL(\n",
    "    rfr, \n",
    "    sigma_P\n",
    "):\n",
    "    return rfr + sharpe_ratio*sigma_P"
   ],
   "id": "3759c4606e5bdc5a",
   "execution_count": 13,
   "outputs": []
  },
  {
   "cell_type": "code",
   "id": "73650282-1f64-41f6-badd-6190179d192d",
   "metadata": {
    "ExecuteTime": {
     "end_time": "2025-05-27T03:39:29.033152Z",
     "start_time": "2025-05-27T03:39:29.025008Z"
    }
   },
   "source": [
    "# Create Range for Sigma\n",
    "sigma_cal_values = np.linspace(0.0, 0.05, 400)\n",
    "\n",
    "# Evaluate for each value of sigma\n",
    "mu_cal_values = CAL(rfr, sigma_cal_values).reshape(-1, 1)"
   ],
   "execution_count": 14,
   "outputs": []
  },
  {
   "cell_type": "code",
   "id": "ba8ceb3b-bd13-4fe8-9ba4-a2083a5458fa",
   "metadata": {
    "ExecuteTime": {
     "end_time": "2025-05-27T03:39:30.163157Z",
     "start_time": "2025-05-27T03:39:30.027502Z"
    }
   },
   "source": [
    "# Create Scatter Plot\n",
    "plt.figure(figsize=(10, 6))\n",
    "plt.scatter(tangency_volat, tangency_returns, color='red', s=50, label='Tangency Portfolio')  \n",
    "plt.plot(sigma_P_values, mu_P_values, label=r'Efficient Frontier', color='black')\n",
    "plt.plot(sigma_cal_values, mu_cal_values, label=r'Capital Allocation Line', color='black', linestyle='--')\n",
    "plt.axhline(y=rfr, color='r', linestyle='--', label='Risk-Free Rate')\n",
    "\n",
    "# Config\n",
    "plt.title('Efficient Frontier and Portfolios')\n",
    "plt.xlabel('Volatility')\n",
    "plt.ylabel('Expected Return')\n",
    "plt.legend()\n",
    "\n",
    "# Show\n",
    "plt.grid(True)\n",
    "plt.show()"
   ],
   "execution_count": 15,
   "outputs": []
  },
  {
   "cell_type": "code",
   "id": "b30b655e-e6e4-4371-8a88-fd6f53d7b590",
   "metadata": {
    "ExecuteTime": {
     "end_time": "2025-05-27T03:39:32.135049Z",
     "start_time": "2025-05-27T03:39:32.123542Z"
    }
   },
   "source": [
    "# Get the Weights of the Tangency Portfolio\n",
    "def weights(desired_returns):\n",
    "    # Number of assets\n",
    "    n = len(expected_returns)\n",
    "    \n",
    "    # Create inputs\n",
    "    mu = expected_returns.values.flatten().reshape(-1, 1)  # Expected Returns\n",
    "    Sigma = cov_matrix.values  # Covariance Matrix\n",
    "    Sigma_inv = np.linalg.inv(Sigma)  # Inverse Covariance Matrix\n",
    "    iota = np.ones((n, 1))  # Vector of Ones\n",
    "\n",
    "    # Create components\n",
    "    A = np.dot(np.dot(mu.T, Sigma_inv), mu)\n",
    "    B = np.dot(np.dot(iota.T, Sigma_inv), mu)\n",
    "    C = np.dot(np.dot(iota.T, Sigma_inv), iota)\n",
    "    D = (A * C) - (B * B)\n",
    "\n",
    "    # Calculate the weights\n",
    "    first_part = (((desired_returns * C) - B) / D) * (Sigma_inv @ mu)\n",
    "    second_part = ((A - (desired_returns * B)) / D) * (Sigma_inv @ iota)\n",
    "\n",
    "    return first_part + second_part "
   ],
   "execution_count": 16,
   "outputs": []
  },
  {
   "metadata": {
    "ExecuteTime": {
     "end_time": "2025-05-27T03:39:33.460570Z",
     "start_time": "2025-05-27T03:39:33.452363Z"
    }
   },
   "cell_type": "code",
   "source": [
    "# Calculate the weights\n",
    "tangency_weights = weights(tangency_returns)\n",
    "\n",
    "tangency_weights"
   ],
   "id": "872509481c459c7e",
   "execution_count": 17,
   "outputs": []
  },
  {
   "cell_type": "code",
   "id": "feccb8a3-f08c-4c46-b8e1-5869fdde22e6",
   "metadata": {
    "ExecuteTime": {
     "end_time": "2025-05-27T03:39:38.239922Z",
     "start_time": "2025-05-27T03:39:38.230331Z"
    }
   },
   "source": [
    "# Now let us assume we there are an investor willing to take lower risk to reach worse returns\n",
    "cal_returns = 0.003\n",
    "\n",
    "#In a normal case\n",
    "normal_case_weights = weights(cal_returns)\n",
    "\n",
    "print(normal_case_weights)\n",
    "print(f'The sum of weights is: {normal_case_weights.sum().round(2)}')"
   ],
   "execution_count": 18,
   "outputs": []
  },
  {
   "cell_type": "code",
   "id": "274e4fe2-ad5e-4948-90e6-3f6bccb8e7cf",
   "metadata": {
    "ExecuteTime": {
     "end_time": "2025-05-27T03:42:15.934132Z",
     "start_time": "2025-05-27T03:42:15.929574Z"
    }
   },
   "source": [
    "# Define the function to get the weights for the CAL\n",
    "def capital_allocation_line_weights(\n",
    "        desired_returns,\n",
    "        tangency_returns = tangency_returns,\n",
    "        risk_free_rate = rfr,\n",
    "):\n",
    "    # Calculate Tangents Weights\n",
    "    tan_ws = weights(tangency_returns)\n",
    "    \n",
    "    # Calculate discount factor\n",
    "    disfact = (desired_returns - risk_free_rate) / (tangency_returns - risk_free_rate)\n",
    "    \n",
    "    # Calculate weights\n",
    "    cal_ws = tan_ws * disfact\n",
    "\n",
    "    return cal_ws"
   ],
   "execution_count": 31,
   "outputs": []
  },
  {
   "metadata": {
    "ExecuteTime": {
     "end_time": "2025-05-27T03:42:17.106998Z",
     "start_time": "2025-05-27T03:42:17.101289Z"
    }
   },
   "cell_type": "code",
   "source": [
    "# Calculate the weights\n",
    "cal_ws = capital_allocation_line_weights(cal_returns)\n",
    "\n",
    "print(cal_ws)\n",
    "print(f'The sum of weights is: {cal_ws.sum().round(4)}')\n",
    "\n",
    "if cal_ws.sum() < 1:\n",
    "    print('You are a lender')\n",
    "elif cal_ws.sum() > 1:\n",
    "    print('You are a borrower')\n",
    "else:\n",
    "    print('You are special')"
   ],
   "id": "966efd65ad9414f8",
   "execution_count": 32,
   "outputs": []
  },
  {
   "cell_type": "code",
   "id": "3a1b2327-630d-4518-aa5f-9789ed8df4de",
   "metadata": {
    "ExecuteTime": {
     "end_time": "2025-05-27T03:42:18.156326Z",
     "start_time": "2025-05-27T03:42:18.149395Z"
    }
   },
   "source": [
    "# Get the volatility given the desired returns\n",
    "def capital_allocation_line_volatility(desired_returns):\n",
    "    # Calculate the volatility\n",
    "    sigma = (desired_returns - rfr) / sharpe_ratio\n",
    "    \n",
    "    return sigma"
   ],
   "execution_count": 33,
   "outputs": []
  },
  {
   "metadata": {
    "ExecuteTime": {
     "end_time": "2025-05-27T03:42:18.870629Z",
     "start_time": "2025-05-27T03:42:18.865073Z"
    }
   },
   "cell_type": "code",
   "source": [
    "# Calculate Volatility\n",
    "cal_volat = capital_allocation_line_volatility(cal_returns)\n",
    "\n",
    "print(f'The CAL Portfolio Risk: {cal_volat}')"
   ],
   "id": "7ed5259ce27e9481",
   "execution_count": 34,
   "outputs": []
  },
  {
   "metadata": {
    "ExecuteTime": {
     "end_time": "2025-05-27T03:42:19.883499Z",
     "start_time": "2025-05-27T03:42:19.879284Z"
    }
   },
   "cell_type": "code",
   "source": [
    "# You can get the same result by using the standard equation\n",
    "cal_var = portfolio_variance(cal_ws, df_returns)\n",
    "cal_volat_alt = np.sqrt(cal_var)\n",
    "\n",
    "print(f'CAL Portfolio Variance: {cal_volat_alt[0][0]}')"
   ],
   "id": "2c10a5ba611ff72c",
   "execution_count": 35,
   "outputs": []
  },
  {
   "cell_type": "code",
   "id": "615f35b0-1376-4397-9f22-1fc9c18f2c2c",
   "metadata": {
    "ExecuteTime": {
     "end_time": "2025-05-27T03:42:22.600563Z",
     "start_time": "2025-05-27T03:42:22.415315Z"
    }
   },
   "source": [
    "# Create Scatter plot\n",
    "plt.figure(figsize=(10, 6))\n",
    "plt.scatter(tangency_volat, tangency_returns, color='red', s=50, label='Tangency Portfolio')  \n",
    "plt.plot(sigma_P_values, mu_P_values, label=r'Efficient Frontier', color='black')\n",
    "plt.plot(sigma_cal_values, mu_cal_values, label=r'Capital Allocation Line', color='black', linestyle='--')\n",
    "plt.scatter(cal_volat, cal_returns, color='blue', s=50, label='CAL Portfolio')\n",
    "plt.axhline(y=rfr, color='r', linestyle='--', label='Risk-Free Rate')\n",
    "\n",
    "\n",
    "# Config\n",
    "plt.title('Efficient Frontier and Portfolios')\n",
    "plt.xlabel('Volatility')\n",
    "plt.ylabel('Expected Return')\n",
    "plt.legend()\n",
    "\n",
    "# Show\n",
    "plt.grid(True)\n",
    "plt.show()"
   ],
   "execution_count": 36,
   "outputs": []
  },
  {
   "cell_type": "code",
   "id": "0a292251-66ed-4f29-884b-1997a13e3657",
   "metadata": {
    "ExecuteTime": {
     "end_time": "2025-05-27T02:05:53.517109Z",
     "start_time": "2025-05-27T02:05:53.499169Z"
    }
   },
   "source": [
    "# Create Portfolios\n",
    "tangency_portfolio = df_returns @ tangency_weights\n",
    "\n",
    "# Create DataFrame\n",
    "df_returns_ports = df_returns.copy()\n",
    "\n",
    "df_returns_ports['Tangency Portfolio'] = tangency_portfolio\n",
    "\n",
    "df_returns_ports"
   ],
   "execution_count": 59,
   "outputs": []
  },
  {
   "metadata": {},
   "cell_type": "markdown",
   "source": "### Comparing Different Portfolios ###",
   "id": "d2e7136368df94fe"
  },
  {
   "metadata": {
    "ExecuteTime": {
     "end_time": "2025-05-27T02:05:55.323242Z",
     "start_time": "2025-05-27T02:05:55.315507Z"
    }
   },
   "cell_type": "code",
   "source": [
    "# Define the desired portfolios\n",
    "returns_list = [0.001, 0.0015, 0.0025, 0.003]\n",
    "\n",
    "# Loop over desired returns with index\n",
    "for r, ret in enumerate(returns_list):\n",
    "    \n",
    "    # Calculate Weights\n",
    "    ws = capital_allocation_line_weights(ret)\n",
    "    \n",
    "    # Calculate the Portfolio Returns\n",
    "    portfolio = df_returns.values @ ws\n",
    "    \n",
    "    # Save it in the DataFrame\n",
    "    df_returns_ports[f'port_{r}'] = portfolio\n",
    "    "
   ],
   "id": "7ce85d672246eaf5",
   "execution_count": 60,
   "outputs": []
  },
  {
   "metadata": {
    "ExecuteTime": {
     "end_time": "2025-05-27T02:05:56.091961Z",
     "start_time": "2025-05-27T02:05:56.075471Z"
    }
   },
   "cell_type": "code",
   "source": "df_returns_ports",
   "id": "a5ba301ea479203f",
   "execution_count": 61,
   "outputs": []
  },
  {
   "cell_type": "code",
   "id": "05852115-ac19-4993-8d3e-bff9e3321e72",
   "metadata": {
    "ExecuteTime": {
     "end_time": "2025-05-27T02:05:56.738544Z",
     "start_time": "2025-05-27T02:05:56.724769Z"
    }
   },
   "source": [
    "def calculate_analytics(df_returns, risk_free_rate=0.0):\n",
    "    # Trading Days in one Year\n",
    "    ann_factor = 252  \n",
    "    \n",
    "    # Annualized Returns\n",
    "    annualized_return = df_returns.mean() * ann_factor\n",
    "    \n",
    "    # Annualized Volatility\n",
    "    annualized_std = df_returns.std() * np.sqrt(ann_factor)\n",
    "    \n",
    "    # Sharpe Ratio\n",
    "    sharpe_ratio = (annualized_return - risk_free_rate) / annualized_std\n",
    "    \n",
    "    # Max Drawdown\n",
    "    cumulative_returns = (1 + df_returns.div(100)).cumprod()\n",
    "    rolling_max = cumulative_returns.cummax()\n",
    "    drawdown = (cumulative_returns / rolling_max) - 1\n",
    "    max_drawdown = drawdown.min()\n",
    "\n",
    "    # VaR at 95%\n",
    "    var_95 = df_returns.quantile(0.05)\n",
    "\n",
    "    # Create DF\n",
    "    summary_df = pd.DataFrame({\n",
    "        \"Annualized Returns\": annualized_return,\n",
    "        \"Annualized Volatility\": annualized_std,\n",
    "        \"Sharpe Ratio\": sharpe_ratio,\n",
    "        \"Max Drawdown\": max_drawdown,\n",
    "        \"VaR 95%\": var_95\n",
    "    })\n",
    "    \n",
    "    return summary_df"
   ],
   "execution_count": 62,
   "outputs": []
  },
  {
   "cell_type": "code",
   "id": "639af96c-a1b3-436c-96c9-471c77847e2d",
   "metadata": {
    "ExecuteTime": {
     "end_time": "2025-05-27T02:05:57.709914Z",
     "start_time": "2025-05-27T02:05:57.685871Z"
    }
   },
   "source": [
    "# Now the table\n",
    "analytics_table = calculate_analytics(df_returns_ports)\n",
    "\n",
    "analytics_table"
   ],
   "execution_count": 63,
   "outputs": []
  },
  {
   "metadata": {},
   "cell_type": "code",
   "execution_count": null,
   "source": "",
   "id": "50033b82cfe28d66",
   "outputs": []
  }
 ],
 "metadata": {
  "kernelspec": {
   "display_name": "Python 3 (ipykernel)",
   "language": "python",
   "name": "python3"
  },
  "language_info": {
   "codemirror_mode": {
    "name": "ipython",
    "version": 3
   },
   "file_extension": ".py",
   "mimetype": "text/x-python",
   "name": "python",
   "nbconvert_exporter": "python",
   "pygments_lexer": "ipython3",
   "version": "3.11.7"
  }
 },
 "nbformat": 4,
 "nbformat_minor": 5
}
