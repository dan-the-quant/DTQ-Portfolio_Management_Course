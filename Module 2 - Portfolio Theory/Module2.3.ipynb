{
 "cells": [
  {
   "cell_type": "markdown",
   "id": "d6aca106-ecd5-497b-9dad-760ad6f159ba",
   "metadata": {},
   "source": [
    "# Capital Allocation Line #\n",
    "\n",
    "### Building Portfolios Maximizing Sharpe Ratio ###"
   ]
  },
  {
   "cell_type": "code",
   "id": "a86301ed-e6af-4c26-b147-e9f979f2f995",
   "metadata": {
    "ExecuteTime": {
     "end_time": "2025-05-27T03:39:22.240014Z",
     "start_time": "2025-05-27T03:39:20.682179Z"
    }
   },
   "source": [
    "# Import Libraries\n",
    "\n",
    "# Data Management\n",
    "import pandas as pd\n",
    "import numpy as np\n",
    "\n",
    "# Visualization\n",
    "import matplotlib.pyplot as plt\n",
    "\n",
    "# Handle Files\n",
    "import sys\n",
    "import os\n",
    "\n",
    "# Import Local Functions\n",
    "sys.path.append(os.path.abspath(\"../source\"))\n",
    "from functions import import_daily_financial_data\n",
    "from portfolios_toolkit import portfolio_variance\n",
    "from portfolios_toolkit import eff_coefficients\n",
    "from portfolios_toolkit import eff_equation"
   ],
   "outputs": [],
   "execution_count": 2
  },
  {
   "cell_type": "code",
   "id": "3135cf7d-2495-4497-b48d-1c933aadd38b",
   "metadata": {
    "ExecuteTime": {
     "end_time": "2025-05-27T03:39:25.550554Z",
     "start_time": "2025-05-27T03:39:22.240362Z"
    }
   },
   "source": [
    "# Import data\n",
    "tickers = ['AAPL', 'AMZN', 'META', 'MSFT', 'NVDA']      # Tickers\n",
    "\n",
    "# DataFrame to store everything\n",
    "df_returns = pd.DataFrame()\n",
    "\n",
    "for ticker in tickers:\n",
    "    df = import_daily_financial_data(\n",
    "        ticker=ticker, \n",
    "        start_date='2015-01-01', \n",
    "        end_date='2025-01-01', \n",
    "        returns=True\n",
    "    )\n",
    "    \n",
    "    returns = df['returns'].rename(ticker)\n",
    "    \n",
    "    df_returns = pd.concat([df_returns, returns], axis=1)\n",
    "    \n",
    "    print(f'Data Ready for {ticker}')"
   ],
   "outputs": [
    {
     "name": "stderr",
     "output_type": "stream",
     "text": [
      "[*********************100%***********************]  1 of 1 completed\n"
     ]
    },
    {
     "name": "stdout",
     "output_type": "stream",
     "text": [
      "Data Ready for AAPL\n"
     ]
    },
    {
     "name": "stderr",
     "output_type": "stream",
     "text": [
      "[*********************100%***********************]  1 of 1 completed\n"
     ]
    },
    {
     "name": "stdout",
     "output_type": "stream",
     "text": [
      "Data Ready for AMZN\n"
     ]
    },
    {
     "name": "stderr",
     "output_type": "stream",
     "text": [
      "[*********************100%***********************]  1 of 1 completed\n"
     ]
    },
    {
     "name": "stdout",
     "output_type": "stream",
     "text": [
      "Data Ready for META\n"
     ]
    },
    {
     "name": "stderr",
     "output_type": "stream",
     "text": [
      "[*********************100%***********************]  1 of 1 completed\n"
     ]
    },
    {
     "name": "stdout",
     "output_type": "stream",
     "text": [
      "Data Ready for MSFT\n"
     ]
    },
    {
     "name": "stderr",
     "output_type": "stream",
     "text": [
      "[*********************100%***********************]  1 of 1 completed"
     ]
    },
    {
     "name": "stdout",
     "output_type": "stream",
     "text": [
      "Data Ready for NVDA\n"
     ]
    },
    {
     "name": "stderr",
     "output_type": "stream",
     "text": [
      "\n"
     ]
    }
   ],
   "execution_count": 3
  },
  {
   "cell_type": "code",
   "id": "db41d936-49e7-4707-a243-b0c032ca02d6",
   "metadata": {
    "ExecuteTime": {
     "end_time": "2025-05-27T03:39:25.563940Z",
     "start_time": "2025-05-27T03:39:25.550554Z"
    }
   },
   "source": "df_returns",
   "outputs": [
    {
     "data": {
      "text/plain": [
       "                AAPL      AMZN      META      MSFT      NVDA\n",
       "2015-01-05 -0.028576 -0.020731 -0.016191 -0.009238 -0.017034\n",
       "2015-01-06  0.000094 -0.023098 -0.013565 -0.014786 -0.030787\n",
       "2015-01-07  0.013925  0.010544  0.000000  0.012625 -0.002609\n",
       "2015-01-08  0.037702  0.006813  0.026309  0.028994  0.036927\n",
       "2015-01-09  0.001072 -0.011818 -0.005644 -0.008441  0.004020\n",
       "...              ...       ...       ...       ...       ...\n",
       "2024-12-24  0.011413  0.017573  0.013084  0.009330  0.003930\n",
       "2024-12-26  0.003171 -0.008770 -0.007266 -0.002781 -0.002070\n",
       "2024-12-27 -0.013331 -0.014641 -0.005884 -0.017453 -0.021088\n",
       "2024-12-30 -0.013352 -0.011010 -0.014391 -0.013328  0.003497\n",
       "2024-12-31 -0.007083 -0.008668 -0.009739 -0.007869 -0.023550\n",
       "\n",
       "[2515 rows x 5 columns]"
      ],
      "text/html": [
       "<div>\n",
       "<style scoped>\n",
       "    .dataframe tbody tr th:only-of-type {\n",
       "        vertical-align: middle;\n",
       "    }\n",
       "\n",
       "    .dataframe tbody tr th {\n",
       "        vertical-align: top;\n",
       "    }\n",
       "\n",
       "    .dataframe thead th {\n",
       "        text-align: right;\n",
       "    }\n",
       "</style>\n",
       "<table border=\"1\" class=\"dataframe\">\n",
       "  <thead>\n",
       "    <tr style=\"text-align: right;\">\n",
       "      <th></th>\n",
       "      <th>AAPL</th>\n",
       "      <th>AMZN</th>\n",
       "      <th>META</th>\n",
       "      <th>MSFT</th>\n",
       "      <th>NVDA</th>\n",
       "    </tr>\n",
       "  </thead>\n",
       "  <tbody>\n",
       "    <tr>\n",
       "      <th>2015-01-05</th>\n",
       "      <td>-0.028576</td>\n",
       "      <td>-0.020731</td>\n",
       "      <td>-0.016191</td>\n",
       "      <td>-0.009238</td>\n",
       "      <td>-0.017034</td>\n",
       "    </tr>\n",
       "    <tr>\n",
       "      <th>2015-01-06</th>\n",
       "      <td>0.000094</td>\n",
       "      <td>-0.023098</td>\n",
       "      <td>-0.013565</td>\n",
       "      <td>-0.014786</td>\n",
       "      <td>-0.030787</td>\n",
       "    </tr>\n",
       "    <tr>\n",
       "      <th>2015-01-07</th>\n",
       "      <td>0.013925</td>\n",
       "      <td>0.010544</td>\n",
       "      <td>0.000000</td>\n",
       "      <td>0.012625</td>\n",
       "      <td>-0.002609</td>\n",
       "    </tr>\n",
       "    <tr>\n",
       "      <th>2015-01-08</th>\n",
       "      <td>0.037702</td>\n",
       "      <td>0.006813</td>\n",
       "      <td>0.026309</td>\n",
       "      <td>0.028994</td>\n",
       "      <td>0.036927</td>\n",
       "    </tr>\n",
       "    <tr>\n",
       "      <th>2015-01-09</th>\n",
       "      <td>0.001072</td>\n",
       "      <td>-0.011818</td>\n",
       "      <td>-0.005644</td>\n",
       "      <td>-0.008441</td>\n",
       "      <td>0.004020</td>\n",
       "    </tr>\n",
       "    <tr>\n",
       "      <th>...</th>\n",
       "      <td>...</td>\n",
       "      <td>...</td>\n",
       "      <td>...</td>\n",
       "      <td>...</td>\n",
       "      <td>...</td>\n",
       "    </tr>\n",
       "    <tr>\n",
       "      <th>2024-12-24</th>\n",
       "      <td>0.011413</td>\n",
       "      <td>0.017573</td>\n",
       "      <td>0.013084</td>\n",
       "      <td>0.009330</td>\n",
       "      <td>0.003930</td>\n",
       "    </tr>\n",
       "    <tr>\n",
       "      <th>2024-12-26</th>\n",
       "      <td>0.003171</td>\n",
       "      <td>-0.008770</td>\n",
       "      <td>-0.007266</td>\n",
       "      <td>-0.002781</td>\n",
       "      <td>-0.002070</td>\n",
       "    </tr>\n",
       "    <tr>\n",
       "      <th>2024-12-27</th>\n",
       "      <td>-0.013331</td>\n",
       "      <td>-0.014641</td>\n",
       "      <td>-0.005884</td>\n",
       "      <td>-0.017453</td>\n",
       "      <td>-0.021088</td>\n",
       "    </tr>\n",
       "    <tr>\n",
       "      <th>2024-12-30</th>\n",
       "      <td>-0.013352</td>\n",
       "      <td>-0.011010</td>\n",
       "      <td>-0.014391</td>\n",
       "      <td>-0.013328</td>\n",
       "      <td>0.003497</td>\n",
       "    </tr>\n",
       "    <tr>\n",
       "      <th>2024-12-31</th>\n",
       "      <td>-0.007083</td>\n",
       "      <td>-0.008668</td>\n",
       "      <td>-0.009739</td>\n",
       "      <td>-0.007869</td>\n",
       "      <td>-0.023550</td>\n",
       "    </tr>\n",
       "  </tbody>\n",
       "</table>\n",
       "<p>2515 rows × 5 columns</p>\n",
       "</div>"
      ]
     },
     "execution_count": 4,
     "metadata": {},
     "output_type": "execute_result"
    }
   ],
   "execution_count": 4
  },
  {
   "cell_type": "code",
   "id": "2efb2730-c0fd-407f-bec7-22b97fc62bdf",
   "metadata": {
    "ExecuteTime": {
     "end_time": "2025-05-27T03:39:25.606702Z",
     "start_time": "2025-05-27T03:39:25.563940Z"
    }
   },
   "source": [
    "# Create the expected returns and standard deviations\n",
    "expected_returns = df_returns.mean()\n",
    "volatility = df_returns.dropna().std()\n",
    "cov_matrix = df_returns.dropna().cov()"
   ],
   "outputs": [],
   "execution_count": 5
  },
  {
   "metadata": {
    "ExecuteTime": {
     "end_time": "2025-05-27T03:39:25.623040Z",
     "start_time": "2025-05-27T03:39:25.606702Z"
    }
   },
   "cell_type": "code",
   "source": [
    "# Get the coefficients of the Efficient Frontier\n",
    "coefficients = eff_coefficients(expected_returns, cov_matrix)\n",
    "\n",
    "coefficients"
   ],
   "id": "9c7cd61e6017b295",
   "outputs": [
    {
     "data": {
      "text/plain": [
       "(0.0004389492599806269, 0.4863698959781316, 304.1279775569915)"
      ]
     },
     "execution_count": 6,
     "metadata": {},
     "output_type": "execute_result"
    }
   ],
   "execution_count": 6
  },
  {
   "cell_type": "code",
   "id": "242c049e-a89d-4b8d-af0d-760c2f6e6426",
   "metadata": {
    "ExecuteTime": {
     "end_time": "2025-05-27T03:39:25.626662Z",
     "start_time": "2025-05-27T03:39:25.623040Z"
    }
   },
   "source": [
    "# Create a rango of values for mu_P\n",
    "mu_P_values = np.linspace(0.0, 0.004, 400)\n",
    "\n",
    "# Evaluate the equation for mu_P values\n",
    "sigma_P_values = eff_equation(coefficients, mu_P_values).reshape(-1, 1)"
   ],
   "outputs": [],
   "execution_count": 7
  },
  {
   "cell_type": "code",
   "id": "4f93b602-e643-41e9-bc55-8131a252a7a1",
   "metadata": {
    "ExecuteTime": {
     "end_time": "2025-05-27T03:39:25.771391Z",
     "start_time": "2025-05-27T03:39:25.626662Z"
    }
   },
   "source": [
    "# Create the Plot\n",
    "plt.figure(figsize=(10, 6))\n",
    "plt.plot(sigma_P_values, mu_P_values, label=r'Efficient Frontier', color='black')\n",
    "\n",
    "\n",
    "# Config\n",
    "plt.title('Efficient Frontier')\n",
    "plt.xlabel('Volatility')\n",
    "plt.ylabel('Expected Return')\n",
    "plt.legend()\n",
    "\n",
    "# Show\n",
    "plt.grid(True)\n",
    "plt.show()"
   ],
   "outputs": [
    {
     "data": {
      "text/plain": [
       "<Figure size 1000x600 with 1 Axes>"
      ],
      "image/png": "[encoded data removed]"
     },
     "metadata": {},
     "output_type": "display_data"
    }
   ],
   "execution_count": 8
  },
  {
   "cell_type": "code",
   "id": "479dfd9a-4c70-43d9-9700-57197cc3759d",
   "metadata": {
    "ExecuteTime": {
     "end_time": "2025-05-27T03:39:25.774769Z",
     "start_time": "2025-05-27T03:39:25.771391Z"
    }
   },
   "source": [
    "# The Most Efficient Portfolio is that which maximizes the Sharp Ratio\n",
    "rfr = 0.0001"
   ],
   "outputs": [],
   "execution_count": 9
  },
  {
   "metadata": {},
   "cell_type": "markdown",
   "source": [
    "Let us find the Tangency Portfolio\n",
    "\n",
    "Tangency Returns: $ \\mu_T = \\frac{2\\pi_0 - \\pi_1r_f}{\\pi_1 - 2\\pi_2r_f} $"
   ],
   "id": "99a1bd4d9658abde"
  },
  {
   "cell_type": "code",
   "id": "3cebd521-2fc2-4980-895f-ec67e18c894e",
   "metadata": {
    "ExecuteTime": {
     "end_time": "2025-05-27T03:39:25.779577Z",
     "start_time": "2025-05-27T03:39:25.774769Z"
    }
   },
   "source": [
    "# Obtain the values\n",
    "pi_0 = coefficients[0]\n",
    "pi_1 = coefficients[1]\n",
    "pi_2 = coefficients[2]\n",
    "\n",
    "tangency_returns = ((2*pi_0 - pi_1*rfr)/(pi_1 - 2*pi_2*rfr))\n",
    "tangency_volat = eff_equation(coefficients, tangency_returns)\n",
    "\n",
    "print(f\"The Tangency Portfolio Returns are: {tangency_returns}\")\n",
    "print(f\"The Tangency Portfolio Volatility is: {tangency_volat}\")"
   ],
   "outputs": [
    {
     "name": "stdout",
     "output_type": "stream",
     "text": [
      "The Tangency Portfolio Returns are: 0.0019487078770739354\n",
      "The Tangency Portfolio Volatility is: 0.025417926136637382\n"
     ]
    }
   ],
   "execution_count": 10
  },
  {
   "cell_type": "code",
   "id": "83b2d92b-bcb3-4132-9e32-3443351ef8ca",
   "metadata": {
    "ExecuteTime": {
     "end_time": "2025-05-27T03:39:25.911921Z",
     "start_time": "2025-05-27T03:39:25.779577Z"
    }
   },
   "source": [
    "# Create the Scatter Plot\n",
    "plt.figure(figsize=(10, 6))\n",
    "plt.scatter(tangency_volat, tangency_returns, color='red', s=50, label='Tangency Portfolio')  \n",
    "plt.plot(sigma_P_values, mu_P_values, label=r'Efficient Frontier', color='black')\n",
    "\n",
    "\n",
    "# Config\n",
    "plt.title('Efficient Frontier and Portfolios')\n",
    "plt.xlabel('Volatility')\n",
    "plt.ylabel('Expected Return')\n",
    "plt.legend()\n",
    "\n",
    "# Show\n",
    "plt.grid(True)\n",
    "plt.show()"
   ],
   "outputs": [
    {
     "data": {
      "text/plain": [
       "<Figure size 1000x600 with 1 Axes>"
      ],
      "image/png": "[encoded data removed]"
     },
     "metadata": {},
     "output_type": "display_data"
    }
   ],
   "execution_count": 11
  },
  {
   "cell_type": "code",
   "id": "8dd183a5-e6a2-49d7-bbdc-8f66e48df5ab",
   "metadata": {
    "ExecuteTime": {
     "end_time": "2025-05-27T03:39:26.746498Z",
     "start_time": "2025-05-27T03:39:26.739131Z"
    }
   },
   "source": [
    "# The Maximum Sharpe Ratio is the slope of the capital allocation line\n",
    "sharpe_ratio = (tangency_returns - rfr)/tangency_volat\n",
    "\n",
    "print(f\"The Maximum Sharpe Ratio is: {sharpe_ratio}\")"
   ],
   "outputs": [
    {
     "name": "stdout",
     "output_type": "stream",
     "text": [
      "The Maximum Sharpe Ratio is: 0.07273244351785291\n"
     ]
    }
   ],
   "execution_count": 12
  },
  {
   "metadata": {
    "ExecuteTime": {
     "end_time": "2025-05-27T03:39:27.531263Z",
     "start_time": "2025-05-27T03:39:27.519428Z"
    }
   },
   "cell_type": "code",
   "source": [
    "# Define the CAL\n",
    "def CAL(\n",
    "    rfr, \n",
    "    sigma_P\n",
    "):\n",
    "    return rfr + sharpe_ratio*sigma_P"
   ],
   "id": "3759c4606e5bdc5a",
   "outputs": [],
   "execution_count": 13
  },
  {
   "cell_type": "code",
   "id": "73650282-1f64-41f6-badd-6190179d192d",
   "metadata": {
    "ExecuteTime": {
     "end_time": "2025-05-27T03:39:29.033152Z",
     "start_time": "2025-05-27T03:39:29.025008Z"
    }
   },
   "source": [
    "# Create Range for Sigma\n",
    "sigma_cal_values = np.linspace(0.0, 0.05, 400)\n",
    "\n",
    "# Evaluate for each value of sigma\n",
    "mu_cal_values = CAL(rfr, sigma_cal_values).reshape(-1, 1)"
   ],
   "outputs": [],
   "execution_count": 14
  },
  {
   "cell_type": "code",
   "id": "ba8ceb3b-bd13-4fe8-9ba4-a2083a5458fa",
   "metadata": {
    "ExecuteTime": {
     "end_time": "2025-05-27T03:39:30.163157Z",
     "start_time": "2025-05-27T03:39:30.027502Z"
    }
   },
   "source": [
    "# Create Scatter Plot\n",
    "plt.figure(figsize=(10, 6))\n",
    "plt.scatter(tangency_volat, tangency_returns, color='red', s=50, label='Tangency Portfolio')  \n",
    "plt.plot(sigma_P_values, mu_P_values, label=r'Efficient Frontier', color='black')\n",
    "plt.plot(sigma_cal_values, mu_cal_values, label=r'Capital Allocation Line', color='black', linestyle='--')\n",
    "plt.axhline(y=rfr, color='r', linestyle='--', label='Risk-Free Rate')\n",
    "\n",
    "# Config\n",
    "plt.title('Efficient Frontier and Portfolios')\n",
    "plt.xlabel('Volatility')\n",
    "plt.ylabel('Expected Return')\n",
    "plt.legend()\n",
    "\n",
    "# Show\n",
    "plt.grid(True)\n",
    "plt.show()"
   ],
   "outputs": [
    {
     "data": {
      "text/plain": [
       "<Figure size 1000x600 with 1 Axes>"
      ],
      "image/png": "[encoded data removed]"
     },
     "metadata": {},
     "output_type": "display_data"
    }
   ],
   "execution_count": 15
  },
  {
   "cell_type": "code",
   "id": "b30b655e-e6e4-4371-8a88-fd6f53d7b590",
   "metadata": {
    "ExecuteTime": {
     "end_time": "2025-05-27T03:39:32.135049Z",
     "start_time": "2025-05-27T03:39:32.123542Z"
    }
   },
   "source": [
    "# Get the Weights of the Tangency Portfolio\n",
    "def weights(desired_returns):\n",
    "    # Number of assets\n",
    "    n = len(expected_returns)\n",
    "    \n",
    "    # Create inputs\n",
    "    mu = expected_returns.values.flatten().reshape(-1, 1)  # Expected Returns\n",
    "    Sigma = cov_matrix.values  # Covariance Matrix\n",
    "    Sigma_inv = np.linalg.inv(Sigma)  # Inverse Covariance Matrix\n",
    "    iota = np.ones((n, 1))  # Vector of Ones\n",
    "\n",
    "    # Create components\n",
    "    A = np.dot(np.dot(mu.T, Sigma_inv), mu)\n",
    "    B = np.dot(np.dot(iota.T, Sigma_inv), mu)\n",
    "    C = np.dot(np.dot(iota.T, Sigma_inv), iota)\n",
    "    D = (A * C) - (B * B)\n",
    "\n",
    "    # Calculate the weights\n",
    "    first_part = (((desired_returns * C) - B) / D) * (Sigma_inv @ mu)\n",
    "    second_part = ((A - (desired_returns * B)) / D) * (Sigma_inv @ iota)\n",
    "\n",
    "    return first_part + second_part "
   ],
   "outputs": [],
   "execution_count": 16
  },
  {
   "metadata": {
    "ExecuteTime": {
     "end_time": "2025-05-27T03:39:33.460570Z",
     "start_time": "2025-05-27T03:39:33.452363Z"
    }
   },
   "cell_type": "code",
   "source": [
    "# Calculate the weights\n",
    "tangency_weights = weights(tangency_returns)\n",
    "\n",
    "tangency_weights"
   ],
   "id": "872509481c459c7e",
   "outputs": [
    {
     "data": {
      "text/plain": [
       "array([[ 0.18115175],\n",
       "       [ 0.28725223],\n",
       "       [-0.25939401],\n",
       "       [ 0.06491616],\n",
       "       [ 0.72607386]])"
      ]
     },
     "execution_count": 17,
     "metadata": {},
     "output_type": "execute_result"
    }
   ],
   "execution_count": 17
  },
  {
   "cell_type": "code",
   "id": "feccb8a3-f08c-4c46-b8e1-5869fdde22e6",
   "metadata": {
    "ExecuteTime": {
     "end_time": "2025-05-27T03:39:38.239922Z",
     "start_time": "2025-05-27T03:39:38.230331Z"
    }
   },
   "source": [
    "# Now let us assume we there are an investor willing to take lower risk to reach worse returns\n",
    "cal_returns = 0.003\n",
    "\n",
    "#In a normal case\n",
    "normal_case_weights = weights(cal_returns)\n",
    "\n",
    "print(normal_case_weights)\n",
    "print(f'The sum of weights is: {normal_case_weights.sum().round(2)}')"
   ],
   "outputs": [
    {
     "name": "stdout",
     "output_type": "stream",
     "text": [
      "[[-0.01623533]\n",
      " [ 0.40454808]\n",
      " [-0.54242933]\n",
      " [-0.33772315]\n",
      " [ 1.49183972]]\n",
      "The sum of weights is: 1.0\n"
     ]
    }
   ],
   "execution_count": 18
  },
  {
   "cell_type": "code",
   "id": "274e4fe2-ad5e-4948-90e6-3f6bccb8e7cf",
   "metadata": {
    "ExecuteTime": {
     "end_time": "2025-05-27T03:42:15.934132Z",
     "start_time": "2025-05-27T03:42:15.929574Z"
    }
   },
   "source": [
    "# Define the function to get the weights for the CAL\n",
    "def capital_allocation_line_weights(\n",
    "        desired_returns,\n",
    "        tangency_returns = tangency_returns,\n",
    "        risk_free_rate = rfr,\n",
    "):\n",
    "    # Calculate Tangents Weights\n",
    "    tan_ws = weights(tangency_returns)\n",
    "    \n",
    "    # Calculate discount factor\n",
    "    disfact = (desired_returns - risk_free_rate) / (tangency_returns - risk_free_rate)\n",
    "    \n",
    "    # Calculate weights\n",
    "    cal_ws = tan_ws * disfact\n",
    "\n",
    "    return cal_ws"
   ],
   "outputs": [],
   "execution_count": 31
  },
  {
   "metadata": {
    "ExecuteTime": {
     "end_time": "2025-05-27T03:42:17.106998Z",
     "start_time": "2025-05-27T03:42:17.101289Z"
    }
   },
   "cell_type": "code",
   "source": [
    "# Calculate the weights\n",
    "cal_ws = capital_allocation_line_weights(cal_returns)\n",
    "\n",
    "print(cal_ws)\n",
    "print(f'The sum of weights is: {cal_ws.sum().round(4)}')\n",
    "\n",
    "if cal_ws.sum() < 1:\n",
    "    print('You are a lender')\n",
    "elif cal_ws.sum() > 1:\n",
    "    print('You are a borrower')\n",
    "else:\n",
    "    print('You are special')"
   ],
   "id": "966efd65ad9414f8",
   "outputs": [
    {
     "name": "stdout",
     "output_type": "stream",
     "text": [
      "[[ 0.28416608]\n",
      " [ 0.450602  ]\n",
      " [-0.40690183]\n",
      " [ 0.10183159]\n",
      " [ 1.13896534]]\n",
      "The sum of weights is: 1.5687\n",
      "You are a borrower\n"
     ]
    }
   ],
   "execution_count": 32
  },
  {
   "cell_type": "code",
   "id": "3a1b2327-630d-4518-aa5f-9789ed8df4de",
   "metadata": {
    "ExecuteTime": {
     "end_time": "2025-05-27T03:42:18.156326Z",
     "start_time": "2025-05-27T03:42:18.149395Z"
    }
   },
   "source": [
    "# Get the volatility given the desired returns\n",
    "def capital_allocation_line_volatility(desired_returns):\n",
    "    # Calculate the volatility\n",
    "    sigma = (desired_returns - rfr) / sharpe_ratio\n",
    "    \n",
    "    return sigma"
   ],
   "outputs": [],
   "execution_count": 33
  },
  {
   "metadata": {
    "ExecuteTime": {
     "end_time": "2025-05-27T03:42:18.870629Z",
     "start_time": "2025-05-27T03:42:18.865073Z"
    }
   },
   "cell_type": "code",
   "source": [
    "# Calculate Volatility\n",
    "cal_volat = capital_allocation_line_volatility(cal_returns)\n",
    "\n",
    "print(f'The CAL Portfolio Risk: {cal_volat}')"
   ],
   "id": "7ed5259ce27e9481",
   "outputs": [
    {
     "name": "stdout",
     "output_type": "stream",
     "text": [
      "The CAL Portfolio Risk: 0.039872165154030144\n"
     ]
    }
   ],
   "execution_count": 34
  },
  {
   "metadata": {
    "ExecuteTime": {
     "end_time": "2025-05-27T03:42:19.883499Z",
     "start_time": "2025-05-27T03:42:19.879284Z"
    }
   },
   "cell_type": "code",
   "source": [
    "# You can get the same result by using the standard equation\n",
    "cal_var = portfolio_variance(cal_ws, df_returns)\n",
    "cal_volat_alt = np.sqrt(cal_var)\n",
    "\n",
    "print(f'CAL Portfolio Variance: {cal_volat_alt[0][0]}')"
   ],
   "id": "2c10a5ba611ff72c",
   "outputs": [
    {
     "name": "stdout",
     "output_type": "stream",
     "text": [
      "CAL Portfolio Variance: 0.039872165154030144\n"
     ]
    }
   ],
   "execution_count": 35
  },
  {
   "cell_type": "code",
   "id": "615f35b0-1376-4397-9f22-1fc9c18f2c2c",
   "metadata": {
    "ExecuteTime": {
     "end_time": "2025-05-27T03:42:22.600563Z",
     "start_time": "2025-05-27T03:42:22.415315Z"
    }
   },
   "source": [
    "# Create Scatter plot\n",
    "plt.figure(figsize=(10, 6))\n",
    "plt.scatter(tangency_volat, tangency_returns, color='red', s=50, label='Tangency Portfolio')  \n",
    "plt.plot(sigma_P_values, mu_P_values, label=r'Efficient Frontier', color='black')\n",
    "plt.plot(sigma_cal_values, mu_cal_values, label=r'Capital Allocation Line', color='black', linestyle='--')\n",
    "plt.scatter(cal_volat, cal_returns, color='blue', s=50, label='CAL Portfolio')\n",
    "plt.axhline(y=rfr, color='r', linestyle='--', label='Risk-Free Rate')\n",
    "\n",
    "\n",
    "# Config\n",
    "plt.title('Efficient Frontier and Portfolios')\n",
    "plt.xlabel('Volatility')\n",
    "plt.ylabel('Expected Return')\n",
    "plt.legend()\n",
    "\n",
    "# Show\n",
    "plt.grid(True)\n",
    "plt.show()"
   ],
   "outputs": [
    {
     "data": {
      "text/plain": [
       "<Figure size 1000x600 with 1 Axes>"
      ],
      "image/png": "[encoded data removed]"
     },
     "metadata": {},
     "output_type": "display_data"
    }
   ],
   "execution_count": 36
  },
  {
   "cell_type": "code",
   "id": "0a292251-66ed-4f29-884b-1997a13e3657",
   "metadata": {
    "ExecuteTime": {
     "end_time": "2025-05-27T02:05:53.517109Z",
     "start_time": "2025-05-27T02:05:53.499169Z"
    }
   },
   "source": [
    "# Create Portfolios\n",
    "tangency_portfolio = df_returns @ tangency_weights\n",
    "\n",
    "# Create DataFrame\n",
    "df_returns_ports = df_returns.copy()\n",
    "\n",
    "df_returns_ports['Tangency Portfolio'] = tangency_portfolio\n",
    "\n",
    "df_returns_ports"
   ],
   "outputs": [
    {
     "data": {
      "text/plain": [
       "                AAPL      AMZN      META      MSFT      NVDA  \\\n",
       "2015-01-05 -0.028576 -0.020731 -0.016191 -0.009238 -0.017035   \n",
       "2015-01-06  0.000094 -0.023098 -0.013565 -0.014786 -0.030787   \n",
       "2015-01-07  0.013925  0.010544  0.000000  0.012625 -0.002609   \n",
       "2015-01-08  0.037703  0.006813  0.026309  0.028994  0.036927   \n",
       "2015-01-09  0.001072 -0.011818 -0.005644 -0.008441  0.004020   \n",
       "...              ...       ...       ...       ...       ...   \n",
       "2024-12-24  0.011413  0.017573  0.013084  0.009330  0.003930   \n",
       "2024-12-26  0.003171 -0.008770 -0.007266 -0.002781 -0.002070   \n",
       "2024-12-27 -0.013331 -0.014641 -0.005884 -0.017453 -0.021088   \n",
       "2024-12-30 -0.013352 -0.011010 -0.014391 -0.013328  0.003497   \n",
       "2024-12-31 -0.007083 -0.008668 -0.009739 -0.007869 -0.023550   \n",
       "\n",
       "            Tangency Portfolio  \n",
       "2015-01-05           -0.019900  \n",
       "2015-01-06           -0.026413  \n",
       "2015-01-07            0.004477  \n",
       "2015-01-08            0.030657  \n",
       "2015-01-09            0.000634  \n",
       "...                        ...  \n",
       "2024-12-24            0.007181  \n",
       "2024-12-26           -0.001744  \n",
       "2024-12-27           -0.021539  \n",
       "2024-12-30           -0.000174  \n",
       "2024-12-31           -0.018856  \n",
       "\n",
       "[2515 rows x 6 columns]"
      ],
      "text/html": [
       "<div>\n",
       "<style scoped>\n",
       "    .dataframe tbody tr th:only-of-type {\n",
       "        vertical-align: middle;\n",
       "    }\n",
       "\n",
       "    .dataframe tbody tr th {\n",
       "        vertical-align: top;\n",
       "    }\n",
       "\n",
       "    .dataframe thead th {\n",
       "        text-align: right;\n",
       "    }\n",
       "</style>\n",
       "<table border=\"1\" class=\"dataframe\">\n",
       "  <thead>\n",
       "    <tr style=\"text-align: right;\">\n",
       "      <th></th>\n",
       "      <th>AAPL</th>\n",
       "      <th>AMZN</th>\n",
       "      <th>META</th>\n",
       "      <th>MSFT</th>\n",
       "      <th>NVDA</th>\n",
       "      <th>Tangency Portfolio</th>\n",
       "    </tr>\n",
       "  </thead>\n",
       "  <tbody>\n",
       "    <tr>\n",
       "      <th>2015-01-05</th>\n",
       "      <td>-0.028576</td>\n",
       "      <td>-0.020731</td>\n",
       "      <td>-0.016191</td>\n",
       "      <td>-0.009238</td>\n",
       "      <td>-0.017035</td>\n",
       "      <td>-0.019900</td>\n",
       "    </tr>\n",
       "    <tr>\n",
       "      <th>2015-01-06</th>\n",
       "      <td>0.000094</td>\n",
       "      <td>-0.023098</td>\n",
       "      <td>-0.013565</td>\n",
       "      <td>-0.014786</td>\n",
       "      <td>-0.030787</td>\n",
       "      <td>-0.026413</td>\n",
       "    </tr>\n",
       "    <tr>\n",
       "      <th>2015-01-07</th>\n",
       "      <td>0.013925</td>\n",
       "      <td>0.010544</td>\n",
       "      <td>0.000000</td>\n",
       "      <td>0.012625</td>\n",
       "      <td>-0.002609</td>\n",
       "      <td>0.004477</td>\n",
       "    </tr>\n",
       "    <tr>\n",
       "      <th>2015-01-08</th>\n",
       "      <td>0.037703</td>\n",
       "      <td>0.006813</td>\n",
       "      <td>0.026309</td>\n",
       "      <td>0.028994</td>\n",
       "      <td>0.036927</td>\n",
       "      <td>0.030657</td>\n",
       "    </tr>\n",
       "    <tr>\n",
       "      <th>2015-01-09</th>\n",
       "      <td>0.001072</td>\n",
       "      <td>-0.011818</td>\n",
       "      <td>-0.005644</td>\n",
       "      <td>-0.008441</td>\n",
       "      <td>0.004020</td>\n",
       "      <td>0.000634</td>\n",
       "    </tr>\n",
       "    <tr>\n",
       "      <th>...</th>\n",
       "      <td>...</td>\n",
       "      <td>...</td>\n",
       "      <td>...</td>\n",
       "      <td>...</td>\n",
       "      <td>...</td>\n",
       "      <td>...</td>\n",
       "    </tr>\n",
       "    <tr>\n",
       "      <th>2024-12-24</th>\n",
       "      <td>0.011413</td>\n",
       "      <td>0.017573</td>\n",
       "      <td>0.013084</td>\n",
       "      <td>0.009330</td>\n",
       "      <td>0.003930</td>\n",
       "      <td>0.007181</td>\n",
       "    </tr>\n",
       "    <tr>\n",
       "      <th>2024-12-26</th>\n",
       "      <td>0.003171</td>\n",
       "      <td>-0.008770</td>\n",
       "      <td>-0.007266</td>\n",
       "      <td>-0.002781</td>\n",
       "      <td>-0.002070</td>\n",
       "      <td>-0.001744</td>\n",
       "    </tr>\n",
       "    <tr>\n",
       "      <th>2024-12-27</th>\n",
       "      <td>-0.013331</td>\n",
       "      <td>-0.014641</td>\n",
       "      <td>-0.005884</td>\n",
       "      <td>-0.017453</td>\n",
       "      <td>-0.021088</td>\n",
       "      <td>-0.021539</td>\n",
       "    </tr>\n",
       "    <tr>\n",
       "      <th>2024-12-30</th>\n",
       "      <td>-0.013352</td>\n",
       "      <td>-0.011010</td>\n",
       "      <td>-0.014391</td>\n",
       "      <td>-0.013328</td>\n",
       "      <td>0.003497</td>\n",
       "      <td>-0.000174</td>\n",
       "    </tr>\n",
       "    <tr>\n",
       "      <th>2024-12-31</th>\n",
       "      <td>-0.007083</td>\n",
       "      <td>-0.008668</td>\n",
       "      <td>-0.009739</td>\n",
       "      <td>-0.007869</td>\n",
       "      <td>-0.023550</td>\n",
       "      <td>-0.018856</td>\n",
       "    </tr>\n",
       "  </tbody>\n",
       "</table>\n",
       "<p>2515 rows × 6 columns</p>\n",
       "</div>"
      ]
     },
     "execution_count": 59,
     "metadata": {},
     "output_type": "execute_result"
    }
   ],
   "execution_count": 59
  },
  {
   "metadata": {},
   "cell_type": "markdown",
   "source": "### Comparing Different Portfolios ###",
   "id": "d2e7136368df94fe"
  },
  {
   "metadata": {
    "ExecuteTime": {
     "end_time": "2025-05-27T02:05:55.323242Z",
     "start_time": "2025-05-27T02:05:55.315507Z"
    }
   },
   "cell_type": "code",
   "source": [
    "# Define the desired portfolios\n",
    "returns_list = [0.001, 0.0015, 0.0025, 0.003]\n",
    "\n",
    "# Loop over desired returns with index\n",
    "for r, ret in enumerate(returns_list):\n",
    "    \n",
    "    # Calculate Weights\n",
    "    ws = capital_allocation_line_weights(ret)\n",
    "    \n",
    "    # Calculate the Portfolio Returns\n",
    "    portfolio = df_returns.values @ ws\n",
    "    \n",
    "    # Save it in the DataFrame\n",
    "    df_returns_ports[f'port_{r}'] = portfolio\n",
    "    "
   ],
   "id": "7ce85d672246eaf5",
   "outputs": [],
   "execution_count": 60
  },
  {
   "metadata": {
    "ExecuteTime": {
     "end_time": "2025-05-27T02:05:56.091961Z",
     "start_time": "2025-05-27T02:05:56.075471Z"
    }
   },
   "cell_type": "code",
   "source": "df_returns_ports",
   "id": "a5ba301ea479203f",
   "outputs": [
    {
     "data": {
      "text/plain": [
       "                AAPL      AMZN      META      MSFT      NVDA  \\\n",
       "2015-01-05 -0.028576 -0.020731 -0.016191 -0.009238 -0.017035   \n",
       "2015-01-06  0.000094 -0.023098 -0.013565 -0.014786 -0.030787   \n",
       "2015-01-07  0.013925  0.010544  0.000000  0.012625 -0.002609   \n",
       "2015-01-08  0.037703  0.006813  0.026309  0.028994  0.036927   \n",
       "2015-01-09  0.001072 -0.011818 -0.005644 -0.008441  0.004020   \n",
       "...              ...       ...       ...       ...       ...   \n",
       "2024-12-24  0.011413  0.017573  0.013084  0.009330  0.003930   \n",
       "2024-12-26  0.003171 -0.008770 -0.007266 -0.002781 -0.002070   \n",
       "2024-12-27 -0.013331 -0.014641 -0.005884 -0.017453 -0.021088   \n",
       "2024-12-30 -0.013352 -0.011010 -0.014391 -0.013328  0.003497   \n",
       "2024-12-31 -0.007083 -0.008668 -0.009739 -0.007869 -0.023550   \n",
       "\n",
       "            Tangency Portfolio    port_0    port_1    port_2    port_3  \n",
       "2015-01-05           -0.019900 -0.009688 -0.015070 -0.025834 -0.031216  \n",
       "2015-01-06           -0.026413 -0.012859 -0.020002 -0.034289 -0.041433  \n",
       "2015-01-07            0.004477  0.002179  0.003390  0.005812  0.007023  \n",
       "2015-01-08            0.030657  0.014924  0.023216  0.039798  0.048090  \n",
       "2015-01-09            0.000634  0.000309  0.000480  0.000823  0.000995  \n",
       "...                        ...       ...       ...       ...       ...  \n",
       "2024-12-24            0.007181  0.003496  0.005438  0.009322  0.011264  \n",
       "2024-12-26           -0.001744 -0.000849 -0.001321 -0.002264 -0.002735  \n",
       "2024-12-27           -0.021539 -0.010486 -0.016311 -0.027962 -0.033787  \n",
       "2024-12-30           -0.000174 -0.000085 -0.000132 -0.000226 -0.000274  \n",
       "2024-12-31           -0.018856 -0.009180 -0.014280 -0.024480 -0.029579  \n",
       "\n",
       "[2515 rows x 10 columns]"
      ],
      "text/html": [
       "<div>\n",
       "<style scoped>\n",
       "    .dataframe tbody tr th:only-of-type {\n",
       "        vertical-align: middle;\n",
       "    }\n",
       "\n",
       "    .dataframe tbody tr th {\n",
       "        vertical-align: top;\n",
       "    }\n",
       "\n",
       "    .dataframe thead th {\n",
       "        text-align: right;\n",
       "    }\n",
       "</style>\n",
       "<table border=\"1\" class=\"dataframe\">\n",
       "  <thead>\n",
       "    <tr style=\"text-align: right;\">\n",
       "      <th></th>\n",
       "      <th>AAPL</th>\n",
       "      <th>AMZN</th>\n",
       "      <th>META</th>\n",
       "      <th>MSFT</th>\n",
       "      <th>NVDA</th>\n",
       "      <th>Tangency Portfolio</th>\n",
       "      <th>port_0</th>\n",
       "      <th>port_1</th>\n",
       "      <th>port_2</th>\n",
       "      <th>port_3</th>\n",
       "    </tr>\n",
       "  </thead>\n",
       "  <tbody>\n",
       "    <tr>\n",
       "      <th>2015-01-05</th>\n",
       "      <td>-0.028576</td>\n",
       "      <td>-0.020731</td>\n",
       "      <td>-0.016191</td>\n",
       "      <td>-0.009238</td>\n",
       "      <td>-0.017035</td>\n",
       "      <td>-0.019900</td>\n",
       "      <td>-0.009688</td>\n",
       "      <td>-0.015070</td>\n",
       "      <td>-0.025834</td>\n",
       "      <td>-0.031216</td>\n",
       "    </tr>\n",
       "    <tr>\n",
       "      <th>2015-01-06</th>\n",
       "      <td>0.000094</td>\n",
       "      <td>-0.023098</td>\n",
       "      <td>-0.013565</td>\n",
       "      <td>-0.014786</td>\n",
       "      <td>-0.030787</td>\n",
       "      <td>-0.026413</td>\n",
       "      <td>-0.012859</td>\n",
       "      <td>-0.020002</td>\n",
       "      <td>-0.034289</td>\n",
       "      <td>-0.041433</td>\n",
       "    </tr>\n",
       "    <tr>\n",
       "      <th>2015-01-07</th>\n",
       "      <td>0.013925</td>\n",
       "      <td>0.010544</td>\n",
       "      <td>0.000000</td>\n",
       "      <td>0.012625</td>\n",
       "      <td>-0.002609</td>\n",
       "      <td>0.004477</td>\n",
       "      <td>0.002179</td>\n",
       "      <td>0.003390</td>\n",
       "      <td>0.005812</td>\n",
       "      <td>0.007023</td>\n",
       "    </tr>\n",
       "    <tr>\n",
       "      <th>2015-01-08</th>\n",
       "      <td>0.037703</td>\n",
       "      <td>0.006813</td>\n",
       "      <td>0.026309</td>\n",
       "      <td>0.028994</td>\n",
       "      <td>0.036927</td>\n",
       "      <td>0.030657</td>\n",
       "      <td>0.014924</td>\n",
       "      <td>0.023216</td>\n",
       "      <td>0.039798</td>\n",
       "      <td>0.048090</td>\n",
       "    </tr>\n",
       "    <tr>\n",
       "      <th>2015-01-09</th>\n",
       "      <td>0.001072</td>\n",
       "      <td>-0.011818</td>\n",
       "      <td>-0.005644</td>\n",
       "      <td>-0.008441</td>\n",
       "      <td>0.004020</td>\n",
       "      <td>0.000634</td>\n",
       "      <td>0.000309</td>\n",
       "      <td>0.000480</td>\n",
       "      <td>0.000823</td>\n",
       "      <td>0.000995</td>\n",
       "    </tr>\n",
       "    <tr>\n",
       "      <th>...</th>\n",
       "      <td>...</td>\n",
       "      <td>...</td>\n",
       "      <td>...</td>\n",
       "      <td>...</td>\n",
       "      <td>...</td>\n",
       "      <td>...</td>\n",
       "      <td>...</td>\n",
       "      <td>...</td>\n",
       "      <td>...</td>\n",
       "      <td>...</td>\n",
       "    </tr>\n",
       "    <tr>\n",
       "      <th>2024-12-24</th>\n",
       "      <td>0.011413</td>\n",
       "      <td>0.017573</td>\n",
       "      <td>0.013084</td>\n",
       "      <td>0.009330</td>\n",
       "      <td>0.003930</td>\n",
       "      <td>0.007181</td>\n",
       "      <td>0.003496</td>\n",
       "      <td>0.005438</td>\n",
       "      <td>0.009322</td>\n",
       "      <td>0.011264</td>\n",
       "    </tr>\n",
       "    <tr>\n",
       "      <th>2024-12-26</th>\n",
       "      <td>0.003171</td>\n",
       "      <td>-0.008770</td>\n",
       "      <td>-0.007266</td>\n",
       "      <td>-0.002781</td>\n",
       "      <td>-0.002070</td>\n",
       "      <td>-0.001744</td>\n",
       "      <td>-0.000849</td>\n",
       "      <td>-0.001321</td>\n",
       "      <td>-0.002264</td>\n",
       "      <td>-0.002735</td>\n",
       "    </tr>\n",
       "    <tr>\n",
       "      <th>2024-12-27</th>\n",
       "      <td>-0.013331</td>\n",
       "      <td>-0.014641</td>\n",
       "      <td>-0.005884</td>\n",
       "      <td>-0.017453</td>\n",
       "      <td>-0.021088</td>\n",
       "      <td>-0.021539</td>\n",
       "      <td>-0.010486</td>\n",
       "      <td>-0.016311</td>\n",
       "      <td>-0.027962</td>\n",
       "      <td>-0.033787</td>\n",
       "    </tr>\n",
       "    <tr>\n",
       "      <th>2024-12-30</th>\n",
       "      <td>-0.013352</td>\n",
       "      <td>-0.011010</td>\n",
       "      <td>-0.014391</td>\n",
       "      <td>-0.013328</td>\n",
       "      <td>0.003497</td>\n",
       "      <td>-0.000174</td>\n",
       "      <td>-0.000085</td>\n",
       "      <td>-0.000132</td>\n",
       "      <td>-0.000226</td>\n",
       "      <td>-0.000274</td>\n",
       "    </tr>\n",
       "    <tr>\n",
       "      <th>2024-12-31</th>\n",
       "      <td>-0.007083</td>\n",
       "      <td>-0.008668</td>\n",
       "      <td>-0.009739</td>\n",
       "      <td>-0.007869</td>\n",
       "      <td>-0.023550</td>\n",
       "      <td>-0.018856</td>\n",
       "      <td>-0.009180</td>\n",
       "      <td>-0.014280</td>\n",
       "      <td>-0.024480</td>\n",
       "      <td>-0.029579</td>\n",
       "    </tr>\n",
       "  </tbody>\n",
       "</table>\n",
       "<p>2515 rows × 10 columns</p>\n",
       "</div>"
      ]
     },
     "execution_count": 61,
     "metadata": {},
     "output_type": "execute_result"
    }
   ],
   "execution_count": 61
  },
  {
   "cell_type": "code",
   "id": "05852115-ac19-4993-8d3e-bff9e3321e72",
   "metadata": {
    "ExecuteTime": {
     "end_time": "2025-05-27T02:05:56.738544Z",
     "start_time": "2025-05-27T02:05:56.724769Z"
    }
   },
   "source": [
    "def calculate_analytics(df_returns, risk_free_rate=0.0):\n",
    "    # Trading Days in one Year\n",
    "    ann_factor = 252  \n",
    "    \n",
    "    # Annualized Returns\n",
    "    annualized_return = df_returns.mean() * ann_factor\n",
    "    \n",
    "    # Annualized Volatility\n",
    "    annualized_std = df_returns.std() * np.sqrt(ann_factor)\n",
    "    \n",
    "    # Sharpe Ratio\n",
    "    sharpe_ratio = (annualized_return - risk_free_rate) / annualized_std\n",
    "    \n",
    "    # Max Drawdown\n",
    "    cumulative_returns = (1 + df_returns.div(100)).cumprod()\n",
    "    rolling_max = cumulative_returns.cummax()\n",
    "    drawdown = (cumulative_returns / rolling_max) - 1\n",
    "    max_drawdown = drawdown.min()\n",
    "\n",
    "    # VaR at 95%\n",
    "    var_95 = df_returns.quantile(0.05)\n",
    "\n",
    "    # Create DF\n",
    "    summary_df = pd.DataFrame({\n",
    "        \"Annualized Returns\": annualized_return,\n",
    "        \"Annualized Volatility\": annualized_std,\n",
    "        \"Sharpe Ratio\": sharpe_ratio,\n",
    "        \"Max Drawdown\": max_drawdown,\n",
    "        \"VaR 95%\": var_95\n",
    "    })\n",
    "    \n",
    "    return summary_df"
   ],
   "outputs": [],
   "execution_count": 62
  },
  {
   "cell_type": "code",
   "id": "639af96c-a1b3-436c-96c9-471c77847e2d",
   "metadata": {
    "ExecuteTime": {
     "end_time": "2025-05-27T02:05:57.709914Z",
     "start_time": "2025-05-27T02:05:57.685871Z"
    }
   },
   "source": [
    "# Now the table\n",
    "analytics_table = calculate_analytics(df_returns_ports)\n",
    "\n",
    "analytics_table"
   ],
   "outputs": [
    {
     "data": {
      "text/plain": [
       "                    Annualized Returns  Annualized Volatility  Sharpe Ratio  \\\n",
       "AAPL                          0.233536               0.284654      0.820421   \n",
       "AMZN                          0.266007               0.326594      0.814489   \n",
       "META                          0.201784               0.378558      0.533033   \n",
       "MSFT                          0.235581               0.271307      0.868319   \n",
       "NVDA                          0.563863               0.482208      1.169335   \n",
       "Tangency Portfolio            0.491075               0.403497      1.217046   \n",
       "port_0                        0.239068               0.196433      1.217046   \n",
       "port_1                        0.371884               0.305563      1.217046   \n",
       "port_2                        0.637515               0.523821      1.217046   \n",
       "port_3                        0.770330               0.632951      1.217046   \n",
       "\n",
       "                    Max Drawdown   VaR 95%  \n",
       "AAPL                   -0.004855 -0.027362  \n",
       "AMZN                   -0.008223 -0.031091  \n",
       "META                   -0.014499 -0.033784  \n",
       "MSFT                   -0.004639 -0.026941  \n",
       "NVDA                   -0.010846 -0.045559  \n",
       "Tangency Portfolio     -0.007318 -0.038478  \n",
       "port_0                 -0.003566 -0.018732  \n",
       "port_1                 -0.005544 -0.029139  \n",
       "port_2                 -0.009495 -0.049952  \n",
       "port_3                 -0.011467 -0.060359  "
      ],
      "text/html": [
       "<div>\n",
       "<style scoped>\n",
       "    .dataframe tbody tr th:only-of-type {\n",
       "        vertical-align: middle;\n",
       "    }\n",
       "\n",
       "    .dataframe tbody tr th {\n",
       "        vertical-align: top;\n",
       "    }\n",
       "\n",
       "    .dataframe thead th {\n",
       "        text-align: right;\n",
       "    }\n",
       "</style>\n",
       "<table border=\"1\" class=\"dataframe\">\n",
       "  <thead>\n",
       "    <tr style=\"text-align: right;\">\n",
       "      <th></th>\n",
       "      <th>Annualized Returns</th>\n",
       "      <th>Annualized Volatility</th>\n",
       "      <th>Sharpe Ratio</th>\n",
       "      <th>Max Drawdown</th>\n",
       "      <th>VaR 95%</th>\n",
       "    </tr>\n",
       "  </thead>\n",
       "  <tbody>\n",
       "    <tr>\n",
       "      <th>AAPL</th>\n",
       "      <td>0.233536</td>\n",
       "      <td>0.284654</td>\n",
       "      <td>0.820421</td>\n",
       "      <td>-0.004855</td>\n",
       "      <td>-0.027362</td>\n",
       "    </tr>\n",
       "    <tr>\n",
       "      <th>AMZN</th>\n",
       "      <td>0.266007</td>\n",
       "      <td>0.326594</td>\n",
       "      <td>0.814489</td>\n",
       "      <td>-0.008223</td>\n",
       "      <td>-0.031091</td>\n",
       "    </tr>\n",
       "    <tr>\n",
       "      <th>META</th>\n",
       "      <td>0.201784</td>\n",
       "      <td>0.378558</td>\n",
       "      <td>0.533033</td>\n",
       "      <td>-0.014499</td>\n",
       "      <td>-0.033784</td>\n",
       "    </tr>\n",
       "    <tr>\n",
       "      <th>MSFT</th>\n",
       "      <td>0.235581</td>\n",
       "      <td>0.271307</td>\n",
       "      <td>0.868319</td>\n",
       "      <td>-0.004639</td>\n",
       "      <td>-0.026941</td>\n",
       "    </tr>\n",
       "    <tr>\n",
       "      <th>NVDA</th>\n",
       "      <td>0.563863</td>\n",
       "      <td>0.482208</td>\n",
       "      <td>1.169335</td>\n",
       "      <td>-0.010846</td>\n",
       "      <td>-0.045559</td>\n",
       "    </tr>\n",
       "    <tr>\n",
       "      <th>Tangency Portfolio</th>\n",
       "      <td>0.491075</td>\n",
       "      <td>0.403497</td>\n",
       "      <td>1.217046</td>\n",
       "      <td>-0.007318</td>\n",
       "      <td>-0.038478</td>\n",
       "    </tr>\n",
       "    <tr>\n",
       "      <th>port_0</th>\n",
       "      <td>0.239068</td>\n",
       "      <td>0.196433</td>\n",
       "      <td>1.217046</td>\n",
       "      <td>-0.003566</td>\n",
       "      <td>-0.018732</td>\n",
       "    </tr>\n",
       "    <tr>\n",
       "      <th>port_1</th>\n",
       "      <td>0.371884</td>\n",
       "      <td>0.305563</td>\n",
       "      <td>1.217046</td>\n",
       "      <td>-0.005544</td>\n",
       "      <td>-0.029139</td>\n",
       "    </tr>\n",
       "    <tr>\n",
       "      <th>port_2</th>\n",
       "      <td>0.637515</td>\n",
       "      <td>0.523821</td>\n",
       "      <td>1.217046</td>\n",
       "      <td>-0.009495</td>\n",
       "      <td>-0.049952</td>\n",
       "    </tr>\n",
       "    <tr>\n",
       "      <th>port_3</th>\n",
       "      <td>0.770330</td>\n",
       "      <td>0.632951</td>\n",
       "      <td>1.217046</td>\n",
       "      <td>-0.011467</td>\n",
       "      <td>-0.060359</td>\n",
       "    </tr>\n",
       "  </tbody>\n",
       "</table>\n",
       "</div>"
      ]
     },
     "execution_count": 63,
     "metadata": {},
     "output_type": "execute_result"
    }
   ],
   "execution_count": 63
  },
  {
   "metadata": {},
   "cell_type": "code",
   "outputs": [],
   "execution_count": null,
   "source": "",
   "id": "50033b82cfe28d66"
  }
 ],
 "metadata": {
  "kernelspec": {
   "display_name": "Python 3 (ipykernel)",
   "language": "python",
   "name": "python3"
  },
  "language_info": {
   "codemirror_mode": {
    "name": "ipython",
    "version": 3
   },
   "file_extension": ".py",
   "mimetype": "text/x-python",
   "name": "python",
   "nbconvert_exporter": "python",
   "pygments_lexer": "ipython3",
   "version": "3.11.7"
  }
 },
 "nbformat": 4,
 "nbformat_minor": 5
}
