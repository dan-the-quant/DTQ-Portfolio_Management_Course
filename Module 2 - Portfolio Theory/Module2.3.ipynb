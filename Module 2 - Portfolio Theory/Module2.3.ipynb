{
 "cells": [
  {
   "cell_type": "markdown",
   "id": "d6aca106-ecd5-497b-9dad-760ad6f159ba",
   "metadata": {},
   "source": [
    "# Capital Allocation Line #\n",
    "\n",
    "### Building Portfolios Maximizing Sharpe Ratio ###"
   ]
  },
  {
   "cell_type": "code",
   "id": "a86301ed-e6af-4c26-b147-e9f979f2f995",
   "metadata": {
    "ExecuteTime": {
     "end_time": "2025-04-17T04:45:26.887306Z",
     "start_time": "2025-04-17T04:45:26.884250Z"
    }
   },
   "source": [
    "# Import Libraries\n",
    "\n",
    "# Data Management\n",
    "import pandas as pd\n",
    "import numpy as np\n",
    "\n",
    "# Visualization\n",
    "import matplotlib.pyplot as plt\n",
    "\n",
    "# Handle Files\n",
    "import sys\n",
    "import os\n",
    "\n",
    "# Import Local Functions\n",
    "sys.path.append(os.path.abspath(\"../source\"))\n",
    "from functions import import_financial_data\n",
    "from portfolios_toolkit import portfolio_variance\n",
    "from portfolios_toolkit import eff_coefficients\n",
    "from portfolios_toolkit import eff_equation\n",
    "\n",
    "# Pretty Notation\n",
    "from IPython.display import display, Math"
   ],
   "execution_count": 2,
   "outputs": []
  },
  {
   "cell_type": "code",
   "id": "3135cf7d-2495-4497-b48d-1c933aadd38b",
   "metadata": {
    "ExecuteTime": {
     "end_time": "2025-04-17T04:45:28.096719Z",
     "start_time": "2025-04-17T04:45:27.980884Z"
    }
   },
   "source": [
    "# Import Data\n",
    "\n",
    "# Apple Data\n",
    "df_1 = import_financial_data(\"AAPL\")\n",
    "\n",
    "# Amazon Data\n",
    "df_2 =  import_financial_data(\"AMZN\")\n",
    "\n",
    "# Meta Data\n",
    "df_3 =  import_financial_data(\"META\")\n",
    "\n",
    "# Microsoft Data\n",
    "df_4 =  import_financial_data(\"MSFT\")"
   ],
   "execution_count": 3,
   "outputs": []
  },
  {
   "cell_type": "code",
   "id": "db41d936-49e7-4707-a243-b0c032ca02d6",
   "metadata": {
    "ExecuteTime": {
     "end_time": "2025-04-17T04:45:28.352118Z",
     "start_time": "2025-04-17T04:45:28.336307Z"
    }
   },
   "source": [
    "# Create the joint dataframe\n",
    "\n",
    "df_data = pd.DataFrame()\n",
    "\n",
    "df_data['AAPL'] = df_1['adj_close']\n",
    "df_data['AMZN'] = df_2['adj_close']\n",
    "df_data['META'] = df_3['adj_close']\n",
    "df_data['MSFT'] = df_4['adj_close']\n",
    "\n",
    "df_data = df_data.dropna()\n",
    "\n",
    "# Create the returns\n",
    "df_returns = df_data.pct_change(1).mul(100)\n",
    "df_returns = df_returns.apply(lambda x: x.fillna(x.mean()), axis=0)\n",
    "\n",
    "df_returns"
   ],
   "execution_count": 4,
   "outputs": []
  },
  {
   "cell_type": "code",
   "id": "2efb2730-c0fd-407f-bec7-22b97fc62bdf",
   "metadata": {
    "ExecuteTime": {
     "end_time": "2025-04-17T04:45:30.311588Z",
     "start_time": "2025-04-17T04:45:30.290072Z"
    }
   },
   "source": [
    "# Create the expected returns and standard deviations\n",
    "\n",
    "expected_returns = df_returns.mean()\n",
    "volatility = df_returns.dropna().std()\n",
    "cov_matrix = df_returns.dropna().cov()"
   ],
   "execution_count": 5,
   "outputs": []
  },
  {
   "metadata": {
    "ExecuteTime": {
     "end_time": "2025-04-17T04:45:31.397669Z",
     "start_time": "2025-04-17T04:45:31.387333Z"
    }
   },
   "cell_type": "code",
   "source": [
    "# Obtain the coefficients of the Efficient Frontier\n",
    "\n",
    "coefficients = eff_coefficients(expected_returns, cov_matrix)\n",
    "\n",
    "coefficients"
   ],
   "id": "9c7cd61e6017b295",
   "execution_count": 6,
   "outputs": []
  },
  {
   "cell_type": "code",
   "id": "242c049e-a89d-4b8d-af0d-760c2f6e6426",
   "metadata": {
    "ExecuteTime": {
     "end_time": "2025-04-17T04:45:46.500306Z",
     "start_time": "2025-04-17T04:45:46.496373Z"
    }
   },
   "source": [
    "# Create a rango of values for mu_P\n",
    "mu_P_values = np.linspace(0.1025, 0.123, 400)\n",
    "\n",
    "# Evaluate the equation for mu_P values\n",
    "sigma_P_values = eff_equation(coefficients, mu_P_values).reshape(-1, 1)"
   ],
   "execution_count": 7,
   "outputs": []
  },
  {
   "cell_type": "code",
   "id": "4f93b602-e643-41e9-bc55-8131a252a7a1",
   "metadata": {
    "ExecuteTime": {
     "end_time": "2025-04-17T04:45:47.189330Z",
     "start_time": "2025-04-17T04:45:47.065571Z"
    }
   },
   "source": [
    "# Create the Plot\n",
    "plt.figure(figsize=(10, 6))\n",
    "plt.plot(sigma_P_values, mu_P_values, label=r'Efficient Frontier', color='black')\n",
    "\n",
    "\n",
    "# Config\n",
    "plt.title('Efficient Frontier')\n",
    "plt.xlabel('Volatility')\n",
    "plt.ylabel('Expected Return')\n",
    "plt.legend()\n",
    "\n",
    "# Show\n",
    "plt.grid(True)\n",
    "plt.show()"
   ],
   "execution_count": 8,
   "outputs": []
  },
  {
   "cell_type": "code",
   "id": "479dfd9a-4c70-43d9-9700-57197cc3759d",
   "metadata": {
    "ExecuteTime": {
     "end_time": "2025-04-17T04:45:49.469404Z",
     "start_time": "2025-04-17T04:45:49.466105Z"
    }
   },
   "source": [
    "# The Most Efficient Portfolio is that which maximizes the Sharp Ratio\n",
    "\n",
    "rfr = 0.000125"
   ],
   "execution_count": 9,
   "outputs": []
  },
  {
   "cell_type": "code",
   "id": "c7d2b00b-cbd3-4778-9e29-b54e99373bd6",
   "metadata": {
    "ExecuteTime": {
     "end_time": "2025-04-17T04:45:50.129951Z",
     "start_time": "2025-04-17T04:45:50.124951Z"
    }
   },
   "source": [
    "# Tangency Returns\n",
    "\n",
    "display(Math(r\"\\mu_T = \\frac{2\\pi_0 - \\pi_1r_f}{\\pi_1 - 2\\pi_2r_f}\"))"
   ],
   "execution_count": 10,
   "outputs": []
  },
  {
   "cell_type": "code",
   "id": "3cebd521-2fc2-4980-895f-ec67e18c894e",
   "metadata": {
    "ExecuteTime": {
     "end_time": "2025-04-17T04:45:50.721905Z",
     "start_time": "2025-04-17T04:45:50.716880Z"
    }
   },
   "source": [
    "# Obtain the values\n",
    "pi_0 = coefficients[0]\n",
    "pi_1 = coefficients[1]\n",
    "pi_2 = coefficients[2]\n",
    "\n",
    "tangency_returns = ((2*pi_0 - pi_1*rfr)/(pi_1 - 2*pi_2*rfr))\n",
    "tangency_volat = eff_equation(coefficients, tangency_returns)\n",
    "\n",
    "print(f\"The Tangency Portfolio Returns are: {tangency_returns}\")\n",
    "print(f\"The Tangency Portfolio Volatility is: {tangency_volat}\")"
   ],
   "execution_count": 11,
   "outputs": []
  },
  {
   "cell_type": "code",
   "id": "83b2d92b-bcb3-4132-9e32-3443351ef8ca",
   "metadata": {
    "ExecuteTime": {
     "end_time": "2025-04-17T04:46:01.779934Z",
     "start_time": "2025-04-17T04:46:01.677111Z"
    }
   },
   "source": [
    "# Create the Scatter Plot\n",
    "plt.figure(figsize=(10, 6))\n",
    "plt.scatter(tangency_volat, tangency_returns, color='red', s=50, label='Tangency Portfolio')  \n",
    "plt.plot(sigma_P_values, mu_P_values, label=r'Efficient Frontier', color='black')\n",
    "\n",
    "\n",
    "# Config\n",
    "plt.title('Efficient Frontier and Portfolios')\n",
    "plt.xlabel('Volatility')\n",
    "plt.ylabel('Expected Return')\n",
    "plt.legend()\n",
    "\n",
    "# Show\n",
    "plt.grid(True)\n",
    "plt.show()"
   ],
   "execution_count": 12,
   "outputs": []
  },
  {
   "cell_type": "code",
   "id": "8dd183a5-e6a2-49d7-bbdc-8f66e48df5ab",
   "metadata": {
    "ExecuteTime": {
     "end_time": "2025-04-17T04:46:06.944492Z",
     "start_time": "2025-04-17T04:46:06.939784Z"
    }
   },
   "source": [
    "# The Maximum Sharpe Ratio is the slope of the capital allocation line\n",
    "\n",
    "sharpe_ratio = (tangency_returns - rfr)/tangency_volat\n",
    "\n",
    "print(f\"The Maximum Sharpe Ratio is: {sharpe_ratio}\")"
   ],
   "execution_count": 13,
   "outputs": []
  },
  {
   "cell_type": "code",
   "id": "73650282-1f64-41f6-badd-6190179d192d",
   "metadata": {
    "ExecuteTime": {
     "end_time": "2025-04-17T04:49:41.493959Z",
     "start_time": "2025-04-17T04:49:41.487307Z"
    }
   },
   "source": [
    "# Define the CAL\n",
    "\n",
    "def CAL(rfr, sigma_P):\n",
    "    return rfr + sharpe_ratio*sigma_P\n",
    "\n",
    "# Create Range for Sigma\n",
    "sigma_cal_values = np.linspace(1.5, 1.9, 400)\n",
    "\n",
    "# Evaluate for each values of sigma\n",
    "mu_cal_values = CAL(rfr, sigma_cal_values).reshape(-1, 1)"
   ],
   "execution_count": 14,
   "outputs": []
  },
  {
   "cell_type": "code",
   "id": "ba8ceb3b-bd13-4fe8-9ba4-a2083a5458fa",
   "metadata": {
    "ExecuteTime": {
     "end_time": "2025-04-17T04:49:42.164491Z",
     "start_time": "2025-04-17T04:49:41.895310Z"
    }
   },
   "source": [
    "# Create Scatter Plot\n",
    "plt.figure(figsize=(10, 6))\n",
    "plt.scatter(tangency_volat, tangency_returns, color='red', s=50, label='Tangency Portfolio')  \n",
    "plt.plot(sigma_P_values, mu_P_values, label=r'Efficient Frontier', color='black')\n",
    "plt.plot(sigma_cal_values, mu_cal_values, label=r'Capital Allocation Line', color='black', linestyle='--')\n",
    "\n",
    "# Config\n",
    "plt.title('Efficient Frontier and Portfolios')\n",
    "plt.xlabel('Volatility')\n",
    "plt.ylabel('Expected Return')\n",
    "plt.legend()\n",
    "\n",
    "# Show\n",
    "plt.grid(True)\n",
    "plt.show()"
   ],
   "execution_count": 15,
   "outputs": []
  },
  {
   "cell_type": "code",
   "id": "b30b655e-e6e4-4371-8a88-fd6f53d7b590",
   "metadata": {
    "ExecuteTime": {
     "end_time": "2025-04-17T04:49:46.897257Z",
     "start_time": "2025-04-17T04:49:46.889818Z"
    }
   },
   "source": [
    "# Obtain the Weights of the Tangency Portfolio\n",
    "\n",
    "def weights(desired_returns):\n",
    "    # Number of assets\n",
    "    n = len(expected_returns)\n",
    "    \n",
    "    # Create inputs\n",
    "    mu = expected_returns.values.flatten().reshape(-1, 1)  # Expected Returns\n",
    "    Sigma = cov_matrix.values  # Covariance Matrix\n",
    "    Sigma_inv = np.linalg.inv(Sigma)  # Inverse Covariance Matrix\n",
    "    iota = np.ones((n, 1))  # Vector of Ones\n",
    "\n",
    "    # Create components\n",
    "    A = np.dot(np.dot(mu.T, Sigma_inv), mu)\n",
    "    B = np.dot(np.dot(iota.T, Sigma_inv), mu)\n",
    "    C = np.dot(np.dot(iota.T, Sigma_inv), iota)\n",
    "    D = (A * C - B * B)\n",
    "\n",
    "    # Calculate the weights\n",
    "    first_part = (((desired_returns * C) - B) / D) * (Sigma_inv @ mu)\n",
    "    second_part = ((A - (desired_returns * B)) / D) * (Sigma_inv @ iota)\n",
    "\n",
    "    return first_part + second_part \n",
    "\n",
    "tangency_weights = weights(tangency_returns)\n",
    "\n",
    "tangency_weights"
   ],
   "execution_count": 16,
   "outputs": []
  },
  {
   "cell_type": "code",
   "id": "feccb8a3-f08c-4c46-b8e1-5869fdde22e6",
   "metadata": {
    "ExecuteTime": {
     "end_time": "2025-04-17T04:51:54.641945Z",
     "start_time": "2025-04-17T04:51:54.638035Z"
    }
   },
   "source": [
    "# Now let us assume we there is an investor willing to take more risk to reach better returns\n",
    "\n",
    "cal_returns = 0.125\n",
    "\n",
    "#In a normal case\n",
    "\n",
    "normal_case_weights = weights(cal_returns)\n",
    "\n",
    "print(normal_case_weights)\n",
    "\n",
    "print(f'The sum of weights is: {normal_case_weights.sum().round(2)}')"
   ],
   "execution_count": 37,
   "outputs": []
  },
  {
   "cell_type": "code",
   "id": "274e4fe2-ad5e-4948-90e6-3f6bccb8e7cf",
   "metadata": {
    "ExecuteTime": {
     "end_time": "2025-04-17T04:51:54.925561Z",
     "start_time": "2025-04-17T04:51:54.919543Z"
    }
   },
   "source": [
    "# Define the function to obtain the weights for the CAL\n",
    "\n",
    "def cal_weights(desired_returns):\n",
    "    \n",
    "    # Create inputs\n",
    "    mu = expected_returns.values.flatten().reshape(-1, 1)  # Expected Returns\n",
    "    Sigma = cov_matrix.values  # Covariance Matrix\n",
    "    Sigma_inv = np.linalg.inv(Sigma)  # Inverse Covariance Matrix\n",
    "\n",
    "    # Create components\n",
    "    A = np.dot(np.dot(mu.T, Sigma_inv), mu)\n",
    "\n",
    "    weights = ((desired_returns - rfr) / A) * (Sigma_inv @ mu)\n",
    "\n",
    "    return weights\n",
    "\n",
    "cal_weights = cal_weights(cal_returns)\n",
    "\n",
    "print(cal_weights)\n",
    "\n",
    "print(f'The sum of weights is: {cal_weights.sum().round(2)}')\n",
    "\n",
    "if cal_weights.sum().round(2) < 1:\n",
    "    print('You are a lender')\n",
    "elif cal_weights.sum().round(2) > 1:\n",
    "    print('You are a borrower')\n",
    "else:\n",
    "    print('You are special')"
   ],
   "execution_count": 38,
   "outputs": []
  },
  {
   "cell_type": "code",
   "id": "3a1b2327-630d-4518-aa5f-9789ed8df4de",
   "metadata": {
    "ExecuteTime": {
     "end_time": "2025-04-17T04:55:22.385466Z",
     "start_time": "2025-04-17T04:55:22.380326Z"
    }
   },
   "source": [
    "# Obtain the volatility given the desired returns\n",
    "\n",
    "def cal_volatility(desired_returns):\n",
    "    # Create inputs\n",
    "    mu = expected_returns.values.flatten().reshape(-1, 1)  # Expected Returns\n",
    "    Sigma = cov_matrix.values  # Covariance Matrix\n",
    "    Sigma_inv = np.linalg.inv(Sigma)  # Inverse Covariance Matrix\n",
    "\n",
    "    # Create components\n",
    "    A = np.dot(np.dot(mu.T, Sigma_inv), mu)\n",
    "    \n",
    "    return abs(np.sqrt(1/A)*(desired_returns - rfr))\n",
    "\n",
    "cal_volat = cal_volatility(cal_returns)\n",
    "\n",
    "print(f'The CAL Portfolio Risk: {cal_volat[0][0]}')"
   ],
   "execution_count": 45,
   "outputs": []
  },
  {
   "metadata": {
    "ExecuteTime": {
     "end_time": "2025-04-17T04:55:22.754958Z",
     "start_time": "2025-04-17T04:55:22.750047Z"
    }
   },
   "cell_type": "code",
   "source": [
    "cal_var = portfolio_variance(cal_weights, df_returns[['AAPL', 'AMZN', 'META', 'MSFT']])\n",
    "cal_volat_alt = np.sqrt(cal_var)\n",
    "\n",
    "print(cal_volat_alt[0][0])"
   ],
   "id": "2c10a5ba611ff72c",
   "execution_count": 46,
   "outputs": []
  },
  {
   "cell_type": "code",
   "id": "615f35b0-1376-4397-9f22-1fc9c18f2c2c",
   "metadata": {
    "ExecuteTime": {
     "end_time": "2025-04-17T04:51:55.802843Z",
     "start_time": "2025-04-17T04:51:55.656179Z"
    }
   },
   "source": [
    "# Create Scatter plot\n",
    "plt.figure(figsize=(10, 6))\n",
    "plt.scatter(tangency_volat, tangency_returns, color='red', s=50, label='Tangency Portfolio')  \n",
    "plt.plot(sigma_P_values, mu_P_values, label=r'Efficient Frontier', color='black')\n",
    "plt.plot(sigma_cal_values, mu_cal_values, label=r'Capital Allocation Line', color='black', linestyle='--')\n",
    "plt.scatter(cal_volat, cal_returns, color='blue', s=50, label='CAL Portfolio')  \n",
    "\n",
    "\n",
    "# Config\n",
    "plt.title('Efficient Frontier and Portfolios')\n",
    "plt.xlabel('Volatility')\n",
    "plt.ylabel('Expected Return')\n",
    "plt.legend()\n",
    "\n",
    "# Show\n",
    "plt.grid(True)\n",
    "plt.show()"
   ],
   "execution_count": 41,
   "outputs": []
  },
  {
   "cell_type": "code",
   "id": "0a292251-66ed-4f29-884b-1997a13e3657",
   "metadata": {
    "ExecuteTime": {
     "end_time": "2025-04-17T04:51:55.941189Z",
     "start_time": "2025-04-17T04:51:55.932182Z"
    }
   },
   "source": [
    "# Create Portfolios\n",
    "tangency_portfolio = df_returns[['AAPL', 'AMZN', 'META', 'MSFT']] @ tangency_weights\n",
    "cal_portfolio = df_returns[['AAPL', 'AMZN', 'META', 'MSFT']] @ cal_weights\n",
    "\n",
    "# Create DataFrame\n",
    "df_returns['Tangency Portfolio'] = tangency_portfolio\n",
    "df_returns['CAL Portfolio'] = cal_portfolio\n",
    "\n",
    "df_returns"
   ],
   "execution_count": 42,
   "outputs": []
  },
  {
   "cell_type": "code",
   "id": "05852115-ac19-4993-8d3e-bff9e3321e72",
   "metadata": {
    "ExecuteTime": {
     "end_time": "2025-04-17T04:51:56.209142Z",
     "start_time": "2025-04-17T04:51:56.204146Z"
    }
   },
   "source": [
    "def calculate_analytics(df_returns, risk_free_rate=0.0):\n",
    "    # Trading Days in one Year\n",
    "    ann_factor = 252  \n",
    "    \n",
    "    # Annualized Returns\n",
    "    annualized_return = df_returns.mean() * ann_factor\n",
    "    \n",
    "    # Annualized Volatility\n",
    "    annualized_std = df_returns.std() * np.sqrt(ann_factor)\n",
    "    \n",
    "    # Sharpe Ratio\n",
    "    sharpe_ratio = (annualized_return - risk_free_rate) / annualized_std\n",
    "    \n",
    "    # Max Drawdown\n",
    "    cumulative_returns = (1 + df_returns.div(100)).cumprod()\n",
    "    rolling_max = cumulative_returns.cummax()\n",
    "    drawdown = (cumulative_returns / rolling_max) - 1\n",
    "    max_drawdown = drawdown.min()\n",
    "\n",
    "    # VaR at 95%\n",
    "    var_95 = df_returns.quantile(0.05)\n",
    "\n",
    "    # Create DF\n",
    "    summary_df = pd.DataFrame({\n",
    "        \"Annualized Returns\": annualized_return,\n",
    "        \"Annualized Volatility\": annualized_std,\n",
    "        \"Sharpe Ratio\": sharpe_ratio,\n",
    "        \"Max Drawdown\": max_drawdown,\n",
    "        \"VaR 95%\": var_95\n",
    "    })\n",
    "    \n",
    "    return summary_df"
   ],
   "execution_count": 43,
   "outputs": []
  },
  {
   "cell_type": "code",
   "id": "639af96c-a1b3-436c-96c9-471c77847e2d",
   "metadata": {
    "ExecuteTime": {
     "end_time": "2025-04-17T04:51:56.509922Z",
     "start_time": "2025-04-17T04:51:56.501744Z"
    }
   },
   "source": [
    "# Now the table\n",
    "analytics_table = calculate_analytics(df_returns)\n",
    "\n",
    "analytics_table"
   ],
   "execution_count": 44,
   "outputs": []
  },
  {
   "cell_type": "code",
   "execution_count": null,
   "id": "25ba5e04-d0fe-49aa-bc0e-2c3aed81fb2b",
   "metadata": {},
   "source": [],
   "outputs": []
  }
 ],
 "metadata": {
  "kernelspec": {
   "display_name": "Python 3 (ipykernel)",
   "language": "python",
   "name": "python3"
  },
  "language_info": {
   "codemirror_mode": {
    "name": "ipython",
    "version": 3
   },
   "file_extension": ".py",
   "mimetype": "text/x-python",
   "name": "python",
   "nbconvert_exporter": "python",
   "pygments_lexer": "ipython3",
   "version": "3.11.7"
  }
 },
 "nbformat": 4,
 "nbformat_minor": 5
}
