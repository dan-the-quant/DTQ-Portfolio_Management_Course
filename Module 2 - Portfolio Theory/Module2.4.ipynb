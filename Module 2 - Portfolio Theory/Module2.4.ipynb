{
 "cells": [
  {
   "cell_type": "markdown",
   "id": "d2514c42-1a88-46ee-80c1-6dc455cad8a0",
   "metadata": {},
   "source": [
    "# Portfolio's Building #\n",
    "\n",
    "### Rebalancing Weights ###"
   ]
  },
  {
   "cell_type": "code",
   "id": "3f1cf4e6-ce95-49a9-84fb-e237b9e49aca",
   "metadata": {
    "ExecuteTime": {
     "end_time": "2025-05-27T04:19:53.731402Z",
     "start_time": "2025-05-27T04:19:52.539600Z"
    }
   },
   "source": [
    "# Import Libraries\n",
    "\n",
    "# Data Management\n",
    "import pandas as pd\n",
    "import numpy as np\n",
    "\n",
    "# Visualization\n",
    "import matplotlib.pyplot as plt\n",
    "\n",
    "# Handle Files\n",
    "import sys\n",
    "import os\n",
    "\n",
    "# Import Local Functions\n",
    "sys.path.append(os.path.abspath(\"../source\"))\n",
    "from functions import import_daily_financial_data\n",
    "from portfolios_toolkit import calculate_analytics\n",
    "from portfolios_toolkit import markowitz_weights"
   ],
   "execution_count": 2,
   "outputs": []
  },
  {
   "cell_type": "code",
   "id": "ebda4852-893d-4dd1-b9da-02d5cc94cf38",
   "metadata": {
    "ExecuteTime": {
     "end_time": "2025-05-27T04:19:56.021464Z",
     "start_time": "2025-05-27T04:19:53.731402Z"
    }
   },
   "source": [
    "# Import data\n",
    "tickers = ['AAPL', 'AMZN', 'META', 'MSFT', 'NVDA']      # Tickers\n",
    "\n",
    "# DataFrame to store everything\n",
    "df_returns = pd.DataFrame()\n",
    "\n",
    "for ticker in tickers:\n",
    "    df = import_daily_financial_data(\n",
    "        ticker=ticker, \n",
    "        start_date='2015-01-01', \n",
    "        end_date='2025-01-01', \n",
    "        returns=True\n",
    "    )\n",
    "    \n",
    "    returns = df['returns'].rename(ticker)\n",
    "    \n",
    "    df_returns = pd.concat([df_returns, returns], axis=1)\n",
    "    \n",
    "    print(f'Data Ready for {ticker}')"
   ],
   "execution_count": 3,
   "outputs": []
  },
  {
   "cell_type": "code",
   "id": "a4dfff94-af00-42bb-b31c-7077261cb2f9",
   "metadata": {
    "ExecuteTime": {
     "end_time": "2025-05-27T04:20:10.542786Z",
     "start_time": "2025-05-27T04:20:10.525135Z"
    }
   },
   "source": "df_returns",
   "execution_count": 4,
   "outputs": []
  },
  {
   "cell_type": "code",
   "id": "59e635ac-6925-4fde-8da8-ba8bb9c9261f",
   "metadata": {
    "ExecuteTime": {
     "end_time": "2025-05-27T04:20:13.927673Z",
     "start_time": "2025-05-27T04:20:13.904477Z"
    }
   },
   "source": [
    "df_returns.mean()"
   ],
   "execution_count": 5,
   "outputs": []
  },
  {
   "cell_type": "code",
   "id": "4221a1cc-22cc-4ae2-a716-bf7e266e5193",
   "metadata": {
    "ExecuteTime": {
     "end_time": "2025-05-27T04:20:23.479504Z",
     "start_time": "2025-05-27T04:20:23.195777Z"
    }
   },
   "source": [
    "# Time Series Graphs\n",
    "plt.figure(figsize=(10, 6))\n",
    "plt.plot(df_returns.cumsum(), label=df_returns.columns, alpha=1)\n",
    "\n",
    "# Config\n",
    "plt.title('Cumulative Returns Time Series')\n",
    "plt.xlabel('Time Index')\n",
    "plt.ylabel('Cumulative Returns')\n",
    "plt.legend()\n",
    "\n",
    "# Show\n",
    "plt.grid(True)\n",
    "plt.show()"
   ],
   "execution_count": 6,
   "outputs": []
  },
  {
   "cell_type": "code",
   "id": "75a53ed2-c6f0-42c7-8672-52b12d4d8900",
   "metadata": {
    "ExecuteTime": {
     "end_time": "2025-05-27T04:23:50.119956Z",
     "start_time": "2025-05-27T04:23:50.111634Z"
    }
   },
   "source": [
    "# Let us Calculate the Weights\n",
    "def rolling_weights(\n",
    "    returns, \n",
    "    desired_returns, \n",
    "    window=252, \n",
    "    rebalance_freq=126\n",
    "):\n",
    "\n",
    "    # Lists to Store Things\n",
    "    weights_list = []\n",
    "    dates = []\n",
    "\n",
    "    for i in range(window, len(returns), rebalance_freq):\n",
    "        past_returns = returns.iloc[i - window:i]  # Rolling Window\n",
    "        past_excepted_returns = past_returns.mean()\n",
    "        past_cov_matrix = past_returns.cov()\n",
    "\n",
    "        # Calculate Weights\n",
    "        w = markowitz_weights(past_excepted_returns, past_cov_matrix, desired_returns)\n",
    "\n",
    "        # Save weights and dates\n",
    "        weights_list.append(w)\n",
    "        dates.append(returns.index[i])\n",
    "\n",
    "    # Create the DataFrame\n",
    "    weights_df = pd.DataFrame(weights_list, index=dates, columns=returns.columns)\n",
    "\n",
    "    # Expand the DataFrame\n",
    "    weights_df = weights_df.reindex(returns.index, method='ffill')\n",
    "\n",
    "    return weights_df.dropna()"
   ],
   "execution_count": 15,
   "outputs": []
  },
  {
   "cell_type": "code",
   "id": "b99baefb-a0a1-4dfc-b993-3d22d24f0cab",
   "metadata": {
    "ExecuteTime": {
     "end_time": "2025-05-27T04:23:50.996755Z",
     "start_time": "2025-05-27T04:23:50.968371Z"
    }
   },
   "source": [
    "# Create the DataFrames of Returns\n",
    "df_weights = rolling_weights(df_returns, 0.002)\n",
    "\n",
    "df_weights"
   ],
   "execution_count": 16,
   "outputs": []
  },
  {
   "cell_type": "code",
   "id": "ef638bef-4e0d-4b39-b24a-53f85f78c9f8",
   "metadata": {
    "ExecuteTime": {
     "end_time": "2025-05-27T04:23:59.128766Z",
     "start_time": "2025-05-27T04:23:58.927951Z"
    }
   },
   "source": [
    "# Time Series Graphs\n",
    "plt.figure(figsize=(10, 6))\n",
    "plt.plot(df_weights, label=df_weights.columns, alpha=1)\n",
    "# Config\n",
    "plt.title('Weights Time Series')\n",
    "plt.xlabel('Time Index')\n",
    "plt.ylabel('Weights')\n",
    "plt.legend()\n",
    "\n",
    "# Show\n",
    "plt.grid(True)\n",
    "plt.show()"
   ],
   "execution_count": 17,
   "outputs": []
  },
  {
   "cell_type": "code",
   "id": "9b6c26f5-d6fb-415f-a429-6564f3e469dd",
   "metadata": {
    "ExecuteTime": {
     "end_time": "2025-05-27T04:24:00.363781Z",
     "start_time": "2025-05-27T04:24:00.350161Z"
    }
   },
   "source": [
    "# Common Index\n",
    "\n",
    "common_index = df_returns.index.intersection(df_weights.index)  # Fechas en común\n",
    "df_returns_reindex = df_returns.reindex(common_index)\n",
    "df_weights = df_weights.reindex(common_index)\n",
    "\n",
    "df_returns_reindex"
   ],
   "execution_count": 18,
   "outputs": []
  },
  {
   "cell_type": "code",
   "id": "5ae182a3-4d0d-41fe-be01-3bf40dfb8114",
   "metadata": {
    "ExecuteTime": {
     "end_time": "2025-05-27T04:24:01.285106Z",
     "start_time": "2025-05-27T04:24:01.273071Z"
    }
   },
   "source": [
    "# Create the Portfolio Returns\n",
    "\n",
    "df_weighted_returns = df_returns_reindex * df_weights\n",
    "\n",
    "df_weighted_returns"
   ],
   "execution_count": 19,
   "outputs": []
  },
  {
   "cell_type": "code",
   "id": "9e4a8ef1-d9b9-476f-8480-9629b586cd07",
   "metadata": {
    "ExecuteTime": {
     "end_time": "2025-05-27T04:24:02.190312Z",
     "start_time": "2025-05-27T04:24:02.170901Z"
    }
   },
   "source": [
    "# Create the Portfolio Returns\n",
    "df_returns_portfolio = df_returns.copy()\n",
    "\n",
    "# Add the columns\n",
    "df_returns_portfolio['Portfolio'] =  df_weighted_returns.sum(axis = 1)\n",
    "\n",
    "df_returns_portfolio['Portfolio'].dropna()"
   ],
   "execution_count": 20,
   "outputs": []
  },
  {
   "cell_type": "code",
   "id": "5b14b88b-bb58-4e8a-b81b-d7f13ce8a2f2",
   "metadata": {
    "ExecuteTime": {
     "end_time": "2025-05-27T04:24:03.236023Z",
     "start_time": "2025-05-27T04:24:03.031464Z"
    }
   },
   "source": [
    "# Time Series Graphs\n",
    "\n",
    "df_plot = df_returns_portfolio.dropna()\n",
    "\n",
    "plt.figure(figsize=(10, 6))\n",
    "plt.plot(df_plot.cumsum(), label=df_plot.columns, alpha=1)\n",
    "\n",
    "# Config\n",
    "plt.title('Cumulative Returns Time Series')\n",
    "plt.xlabel('Time Index')\n",
    "plt.ylabel('Cumulative Returns')\n",
    "plt.legend()\n",
    "\n",
    "# Show\n",
    "plt.grid(True)\n",
    "plt.show()"
   ],
   "execution_count": 21,
   "outputs": []
  },
  {
   "cell_type": "markdown",
   "id": "380a9f18-4818-4504-b35a-95dcb0f41ad3",
   "metadata": {},
   "source": [
    "### Define different rebalancing frequencies ###"
   ]
  },
  {
   "cell_type": "code",
   "id": "5577e93c-83d0-44a5-aef5-b02f56a9fee9",
   "metadata": {
    "ExecuteTime": {
     "end_time": "2025-05-27T04:24:07.675875Z",
     "start_time": "2025-05-27T04:24:07.411293Z"
    }
   },
   "source": [
    "# Create weights for different rebalancing frequencies\n",
    "\n",
    "df_weights_5d = rolling_weights(df_returns, 0.0025, rebalance_freq=5)\n",
    "df_weights_21d = rolling_weights(df_returns, 0.0025, rebalance_freq=21)\n",
    "df_weights_63d = rolling_weights(df_returns, 0.0025, rebalance_freq=63)\n",
    "df_weights_126d = rolling_weights(df_returns, 0.0025, rebalance_freq=126)\n",
    "df_weights_252d = rolling_weights(df_returns, 0.0025, rebalance_freq=252)"
   ],
   "execution_count": 22,
   "outputs": []
  },
  {
   "cell_type": "code",
   "id": "51331015-6cf7-47ce-a6fa-3bc61c88d976",
   "metadata": {
    "ExecuteTime": {
     "end_time": "2025-05-27T04:24:08.211552Z",
     "start_time": "2025-05-27T04:24:08.197921Z"
    }
   },
   "source": [
    "# Create the Returns\n",
    "\n",
    "df_weighted_returns_5d = df_returns_reindex * df_weights_5d\n",
    "df_weighted_returns_21d = df_returns_reindex * df_weights_21d\n",
    "df_weighted_returns_63d = df_returns_reindex * df_weights_63d\n",
    "df_weighted_returns_126d = df_returns_reindex * df_weights_126d\n",
    "df_weighted_returns_252d = df_returns_reindex * df_weights_252d"
   ],
   "execution_count": 23,
   "outputs": []
  },
  {
   "cell_type": "code",
   "id": "6f07528d-a8ef-4d6b-8ec3-0c7babf12dbe",
   "metadata": {
    "ExecuteTime": {
     "end_time": "2025-05-27T04:24:14.446454Z",
     "start_time": "2025-05-27T04:24:14.428964Z"
    }
   },
   "source": [
    "# Add the columns\n",
    "\n",
    "df_returns_reindex['5d_port'] = df_weighted_returns_5d.sum(axis = 1)\n",
    "df_returns_reindex['21d_port'] = df_weighted_returns_21d.sum(axis = 1)\n",
    "df_returns_reindex['63d_port'] = df_weighted_returns_63d.sum(axis = 1)\n",
    "df_returns_reindex['126d_port'] = df_weighted_returns_126d.sum(axis = 1)\n",
    "df_returns_reindex['252d_port'] = df_weighted_returns_252d.sum(axis = 1)"
   ],
   "execution_count": 24,
   "outputs": []
  },
  {
   "cell_type": "code",
   "id": "552679c5-05bd-4f54-8a2f-03aac619fffc",
   "metadata": {
    "ExecuteTime": {
     "end_time": "2025-05-27T04:24:15.430114Z",
     "start_time": "2025-05-27T04:24:15.198348Z"
    }
   },
   "source": [
    "# Time Series Graphs\n",
    "\n",
    "plt.figure(figsize=(10, 6))\n",
    "plt.plot(df_returns_reindex.cumsum(), label=df_returns_reindex.columns, alpha=1)\n",
    "\n",
    "# Config\n",
    "plt.title('Cumulative Returns Time Series')\n",
    "plt.xlabel('Time Index')\n",
    "plt.ylabel('Cumulative Returns')\n",
    "plt.legend()\n",
    "\n",
    "# Show\n",
    "plt.grid(True)\n",
    "plt.show()"
   ],
   "execution_count": 25,
   "outputs": []
  },
  {
   "cell_type": "markdown",
   "id": "df3b7693-f940-47f3-a97e-748443e4111a",
   "metadata": {},
   "source": [
    "### Comparing Portfolios ###"
   ]
  },
  {
   "cell_type": "code",
   "id": "d55b5e75-bf26-40f6-897d-2b29898c0be0",
   "metadata": {
    "ExecuteTime": {
     "end_time": "2025-05-27T04:24:19.980456Z",
     "start_time": "2025-05-27T04:24:19.961972Z"
    }
   },
   "source": [
    "# Now the table\n",
    "analytics_table = calculate_analytics(df_returns_reindex)\n",
    "\n",
    "analytics_table"
   ],
   "execution_count": 26,
   "outputs": []
  },
  {
   "cell_type": "code",
   "execution_count": null,
   "id": "ab58bb5d-3dd9-47a8-a7ea-8d367c35364c",
   "metadata": {},
   "source": [],
   "outputs": []
  }
 ],
 "metadata": {
  "kernelspec": {
   "display_name": "Python 3 (ipykernel)",
   "language": "python",
   "name": "python3"
  },
  "language_info": {
   "codemirror_mode": {
    "name": "ipython",
    "version": 3
   },
   "file_extension": ".py",
   "mimetype": "text/x-python",
   "name": "python",
   "nbconvert_exporter": "python",
   "pygments_lexer": "ipython3",
   "version": "3.11.7"
  }
 },
 "nbformat": 4,
 "nbformat_minor": 5
}
