{
 "cells": [
  {
   "cell_type": "markdown",
   "id": "6167a95a-9409-4bf2-a80b-3c5442068ca5",
   "metadata": {},
   "source": [
    "# Calculating Betas for the Market's Stocks #"
   ]
  },
  {
   "cell_type": "markdown",
   "id": "0f3bd64c-d382-4d88-83e5-ed580e6c1c85",
   "metadata": {},
   "source": [
    "### Calculating the Betas for all the Stocks in the Universe ###"
   ]
  },
  {
   "cell_type": "code",
   "id": "51c3c119-5b8f-4301-a714-ced12c33630a",
   "metadata": {
    "ExecuteTime": {
     "end_time": "2025-04-17T22:29:41.435105Z",
     "start_time": "2025-04-17T22:29:40.147075Z"
    }
   },
   "source": [
    "# Import Libraries\n",
    "\n",
    "# Data Management\n",
    "import pandas as pd\n",
    "import numpy as np\n",
    "\n",
    "# Plots\n",
    "import matplotlib.pyplot as plt\n",
    "\n",
    "# Statistics\n",
    "from scipy.stats import norm\n",
    "\n",
    "# Handle Files\n",
    "import sys\n",
    "import os\n",
    "\n",
    "# Import Local Functions\n",
    "sys.path.append(os.path.abspath(\"../source\"))\n",
    "from capm_toolkit import compute_excess_returns\n",
    "from capm_toolkit import capm_regression\n",
    "from capm_toolkit import rolling_capm_regression\n",
    "from capm_toolkit import compute_factor_contributions\n",
    "from capm_toolkit import compute_residual_returns"
   ],
   "execution_count": 1,
   "outputs": []
  },
  {
   "cell_type": "code",
   "id": "3c8669f9-bcf9-49e5-92b2-52c6e3dad8ea",
   "metadata": {
    "ExecuteTime": {
     "end_time": "2025-04-17T22:29:41.455626Z",
     "start_time": "2025-04-17T22:29:41.435105Z"
    }
   },
   "source": [
    "# Get the important data for the Risk Free Rate\n",
    "\n",
    "rfr = pd.read_csv(rf\"..\\additional_data\\rfr.csv\")\n",
    "rfr = rfr.set_index('Date')\n",
    "rfr.index = pd.to_datetime(rfr.index, dayfirst=True)\n",
    "rfr.dropna(inplace = True)\n",
    "\n",
    "# Get the important data for the S&P500\n",
    "\n",
    "sp500 = pd.read_csv(rf\"..\\additional_data\\sp500.csv\")\n",
    "sp500 = sp500.set_index('Date')\n",
    "sp500.index = pd.to_datetime(sp500.index)"
   ],
   "execution_count": 2,
   "outputs": []
  },
  {
   "cell_type": "code",
   "id": "a2f42fa5-2652-4c03-a938-6c049684064f",
   "metadata": {
    "ExecuteTime": {
     "end_time": "2025-04-17T22:29:50.708245Z",
     "start_time": "2025-04-17T22:29:41.455626Z"
    }
   },
   "source": [
    "# Dictionary to store the DataFrames\n",
    "folder_path = r\"..\\stocks\"\n",
    "\n",
    "dataframes = {} \n",
    "\n",
    "# List all files in the folder\n",
    "for file in os.listdir(folder_path):\n",
    "    if file.endswith(\".csv\"):\n",
    "        # Full path to the file\n",
    "        file_path = os.path.join(folder_path, file)\n",
    "        \n",
    "        # Read the Excel file\n",
    "        df = pd.read_csv(file_path)\n",
    "        df = df.set_index(\"Date\")\n",
    "        df.index = pd.to_datetime(df.index)\n",
    "\n",
    "        df = df['Adjusted_close']\n",
    "\n",
    "        df = df.rename(\"adj_close\")\n",
    "        \n",
    "        # Fill nans\n",
    "        df = df.interpolate(method='time')\n",
    "\n",
    "        df = df.loc['2015-01-01':]\n",
    "\n",
    "        df.dropna(inplace=True)\n",
    "        \n",
    "        if len(df) >= 2000:\n",
    "            # File name without extension\n",
    "            file_name = os.path.splitext(file)[0]\n",
    "            \n",
    "            # Guardar en el diccionario\n",
    "            dataframes[file_name] = df\n",
    "            print(f\"File loaded: {file_name} ({len(df)} rows)\")\n",
    "        else:\n",
    "            print(f\"File skipped (less than 2000 rows after cleaning): {file}\")\n",
    "\n",
    "print(f\"\\nTotal files loaded: {len(dataframes)}\")\n",
    "print(\"Files loaded:\", list(dataframes.keys()))"
   ],
   "execution_count": 3,
   "outputs": []
  },
  {
   "cell_type": "code",
   "id": "5dac2b59-1cf0-4c76-8b5c-bd14e8cbcf7e",
   "metadata": {
    "ExecuteTime": {
     "end_time": "2025-04-17T22:41:49.458116Z",
     "start_time": "2025-04-17T22:29:50.710251Z"
    }
   },
   "source": [
    "# Let us obtain the betas of each stock\n",
    "\n",
    "alphas_dict = {}\n",
    "betas_dict = {}\n",
    "sigma_dict = {}\n",
    "\n",
    "# Create the Loop to Obtain the Betas\n",
    "for ticker in dataframes.keys():\n",
    "    df = rolling_capm_regression(\n",
    "        dataframes[ticker], \n",
    "        sp500['sp_500'], \n",
    "        rfr['risk_free_rate']\n",
    "    )\n",
    "    alphas_dict[ticker] = df['alpha']\n",
    "    betas_dict[ticker] = df['beta']\n",
    "    sigma_dict[ticker] = df['sigma']\n",
    "\n",
    "    print(f'{ticker} is ready.')"
   ],
   "execution_count": 4,
   "outputs": []
  },
  {
   "metadata": {
    "ExecuteTime": {
     "end_time": "2025-04-17T22:41:49.528755Z",
     "start_time": "2025-04-17T22:41:49.458116Z"
    }
   },
   "cell_type": "code",
   "source": [
    "# Create Alpha's DataFrame\n",
    "alpha_df = pd.DataFrame.from_dict(alphas_dict)\n",
    "alpha_df = alpha_df.apply(lambda x: x.fillna(x.mean()), axis=0)\n",
    "\n",
    "alpha_df"
   ],
   "id": "18cbc5e285872243",
   "execution_count": 5,
   "outputs": []
  },
  {
   "metadata": {
    "ExecuteTime": {
     "end_time": "2025-04-17T22:41:49.593579Z",
     "start_time": "2025-04-17T22:41:49.528755Z"
    }
   },
   "cell_type": "code",
   "source": [
    "# Create Beta's DataFrame\n",
    "betas_df = pd.DataFrame.from_dict(betas_dict)\n",
    "betas_df = betas_df.apply(lambda x: x.fillna(x.mean()), axis=0)\n",
    "\n",
    "betas_df"
   ],
   "id": "996909b2-cdaf-4cdf-9e6a-c56c11ee58eb",
   "execution_count": 6,
   "outputs": []
  },
  {
   "metadata": {
    "ExecuteTime": {
     "end_time": "2025-04-17T22:41:49.658916Z",
     "start_time": "2025-04-17T22:41:49.593579Z"
    }
   },
   "cell_type": "code",
   "source": [
    "# Create the Sigma's DataFrame\n",
    "sigma_df = pd.DataFrame.from_dict(sigma_dict)\n",
    "sigma_df = sigma_df.apply(lambda x: x.fillna(x.mean()), axis=0)\n",
    "\n",
    "sigma_df"
   ],
   "id": "38c9524d9c21191c",
   "execution_count": 7,
   "outputs": []
  },
  {
   "cell_type": "code",
   "id": "0c50ebfe-bd15-4668-b1b8-e28f69578e4a",
   "metadata": {
    "ExecuteTime": {
     "end_time": "2025-04-17T22:41:51.842831Z",
     "start_time": "2025-04-17T22:41:49.658916Z"
    }
   },
   "source": [
    "# Save the betas\n",
    "\n",
    "alpha_df.to_csv(r\"..\\additional_data\\capm_halpha.csv\")\n",
    "betas_df.to_csv(r\"..\\additional_data\\capm_hbetas.csv\")\n",
    "sigma_df.to_csv(r\"..\\additional_data\\capm_hsigma.csv\")"
   ],
   "execution_count": 8,
   "outputs": []
  },
  {
   "cell_type": "code",
   "id": "15e97e75-4a32-4f06-a689-07b1ec8c4a62",
   "metadata": {
    "ExecuteTime": {
     "end_time": "2025-04-17T22:41:52.012114Z",
     "start_time": "2025-04-17T22:41:51.842831Z"
    }
   },
   "source": [
    "# Create the Returns DataFrame\n",
    "returns_dict = {}\n",
    "\n",
    "# Create the Loop to Obtain the Betas\n",
    "for ticker in dataframes.keys():\n",
    "    df = dataframes[ticker].pct_change(1).dropna()\n",
    "    returns_dict[ticker] = df\n",
    "\n",
    "# Create the DataFrame\n",
    "df_returns = pd.DataFrame.from_dict(returns_dict)\n",
    "df_returns = df_returns.apply(lambda x: x.fillna(x.mean()), axis=0)\n",
    "\n",
    "df_returns"
   ],
   "execution_count": 9,
   "outputs": []
  },
  {
   "metadata": {
    "ExecuteTime": {
     "end_time": "2025-04-17T22:41:52.327991Z",
     "start_time": "2025-04-17T22:41:52.012114Z"
    }
   },
   "cell_type": "code",
   "source": [
    "# Create the Excess Returns DataFrame\n",
    "excess_returns_dict = {}\n",
    "\n",
    "# Create the Loop to Obtain the Betas\n",
    "for ticker in dataframes.keys():\n",
    "    df = compute_excess_returns(dataframes[ticker], rfr['risk_free_rate'])\n",
    "    excess_returns_dict[ticker] = df\n",
    "\n",
    "# Create the DataFrame\n",
    "df_excess_returns = pd.DataFrame.from_dict(excess_returns_dict)\n",
    "df_excess_returns = df_excess_returns.apply(lambda x: x.fillna(x.mean()), axis=0)\n",
    "\n",
    "df_excess_returns"
   ],
   "id": "7754d2d3aee4660d",
   "execution_count": 10,
   "outputs": []
  },
  {
   "metadata": {
    "ExecuteTime": {
     "end_time": "2025-04-17T22:41:52.335917Z",
     "start_time": "2025-04-17T22:41:52.327991Z"
    }
   },
   "cell_type": "code",
   "source": [
    "# Calculate the Market Excess Returns\n",
    "\n",
    "market_excess_returns = compute_excess_returns(sp500['sp_500'], rfr['risk_free_rate'])\n",
    "market_excess_returns.name = 'market_excess_returns'\n",
    "\n",
    "market_excess_returns"
   ],
   "id": "5dc18580a4d362f2",
   "execution_count": 11,
   "outputs": []
  },
  {
   "cell_type": "code",
   "id": "041d9fed-9f53-4731-835a-954b422604ac",
   "metadata": {
    "ExecuteTime": {
     "end_time": "2025-04-17T22:41:52.343764Z",
     "start_time": "2025-04-17T22:41:52.335917Z"
    }
   },
   "source": [
    "# Common Indexes\n",
    "common_index = df_excess_returns.index.intersection(market_excess_returns.index)\n",
    "\n",
    "# Reindex\n",
    "df_excess_returns, market_excess_returns = (\n",
    "    df_excess_returns.loc[common_index], \n",
    "    market_excess_returns.loc[common_index]\n",
    ")\n",
    "\n",
    "print(df_excess_returns.shape)\n",
    "print(market_excess_returns.shape)"
   ],
   "execution_count": 12,
   "outputs": []
  },
  {
   "cell_type": "code",
   "id": "e74f5f0d-d33a-474b-ae35-7247ed78a4f6",
   "metadata": {
    "ExecuteTime": {
     "end_time": "2025-04-17T22:41:53.003691Z",
     "start_time": "2025-04-17T22:41:52.343764Z"
    }
   },
   "source": [
    "# Set the Window\n",
    "window = len(df_excess_returns)\n",
    "\n",
    "# Create the Betas and Alpha + Residuals DataFrames for the whole time stamp\n",
    "capm_betas_dict = {}\n",
    "\n",
    "# Loop to Obtain Betas and Alpha + Residuals\n",
    "for ticker in df_excess_returns.columns:\n",
    "    \n",
    "    # Fit the WLS model\n",
    "    model = capm_regression(\n",
    "        df_excess_returns[ticker], \n",
    "        market_excess_returns,\n",
    "        window=window,\n",
    "        WLS=True\n",
    "    )\n",
    "\n",
    "    # Extract Alpha and Beta\n",
    "    alpha = model.params.iloc[0]\n",
    "    beta = model.params.iloc[1]\n",
    "\n",
    "    # Store Beta\n",
    "    betas_dict[ticker] = beta\n",
    "\n",
    "# Create Beta Series\n",
    "betas_series = pd.Series(betas_dict)\n",
    "\n",
    "betas_series"
   ],
   "execution_count": 13,
   "outputs": []
  },
  {
   "cell_type": "code",
   "id": "3e657ff5-ff0f-4c58-b24b-814fc0b116c7",
   "metadata": {
    "ExecuteTime": {
     "end_time": "2025-04-17T22:41:53.163345Z",
     "start_time": "2025-04-17T22:41:53.004062Z"
    }
   },
   "source": [
    "# Plot\n",
    "ticker = 'WMT'\n",
    "\n",
    "# Mean\n",
    "mean = betas_df[ticker].mean()\n",
    "\n",
    "# Create the Plot\n",
    "plt.figure(figsize=(10, 6))\n",
    "plt.plot(betas_df[ticker], label=f'{ticker} Beta', color='blue', alpha=0.7)\n",
    "plt.axhline(y=betas_series.loc[ticker], color='red', linestyle='dashed', label=f'{ticker} Historical Beta')\n",
    "plt.axhline(y=mean, color='black', linestyle='dashed', label=f'{ticker} Mean Beta')\n",
    "\n",
    "# Config\n",
    "plt.title('Beta Time Series')\n",
    "plt.xlabel('Time')\n",
    "plt.ylabel('Betas')\n",
    "plt.legend()\n",
    "\n",
    "# Show\n",
    "\n",
    "plt.show()"
   ],
   "execution_count": 14,
   "outputs": []
  },
  {
   "cell_type": "code",
   "id": "e330dbc1-0c1c-4650-963b-7c7724a3c1e8",
   "metadata": {
    "ExecuteTime": {
     "end_time": "2025-04-17T22:41:53.167832Z",
     "start_time": "2025-04-17T22:41:53.163345Z"
    }
   },
   "source": [
    "# Compare Volatility and Betas for each stock\n",
    "\n",
    "annualized_vol = df_returns[ticker].std() * np.sqrt(252)\n",
    "comparison = betas_series.loc[ticker]/annualized_vol\n",
    "\n",
    "print(f'{ticker} Historical Beta is: {betas_series.loc[ticker]}')\n",
    "print(f'{ticker} Historical Annualized Standard Deviation is: {annualized_vol}')\n",
    "print(f'{ticker} Ratio Between Both is: {comparison}')"
   ],
   "execution_count": 15,
   "outputs": []
  },
  {
   "cell_type": "code",
   "id": "97315d13-69d6-4efd-8d5a-cf479197cd15",
   "metadata": {
    "ExecuteTime": {
     "end_time": "2025-04-17T22:41:53.326079Z",
     "start_time": "2025-04-17T22:41:53.167832Z"
    }
   },
   "source": [
    "# Calculate Mean and Standard Deviation\n",
    "mu = betas_series.mean()\n",
    "sigma = betas_series.std()\n",
    "\n",
    "# Create Histogram\n",
    "plt.figure(figsize=(10, 6))\n",
    "plt.hist(betas_series, bins=30, density=True, color='lightskyblue', alpha=0.5, edgecolor='black', label='Betas Distribution')\n",
    "\n",
    "# Generate the Values of the Normal Distribution\n",
    "x = np.linspace(betas_series.min(), betas_series.max(), 100)\n",
    "y = norm.pdf(x, mu, sigma)\n",
    "\n",
    "# Graph the Real Normal Distribution\n",
    "plt.plot(x, y, color='black', linestyle='solid', linewidth=2, label='Normal Distribution')\n",
    "\n",
    "# Reference Lines\n",
    "plt.axvline(x=mu, color='black', linestyle='dashed', label='Mean Returns')\n",
    "plt.axvline(x=betas_series.median(), color='red', linestyle='dashed', label='Median Returns')\n",
    "plt.axvline(x=mu + sigma, color='grey', linestyle='dashed')\n",
    "plt.axvline(x=mu - sigma, color='grey', linestyle='dashed')\n",
    "\n",
    "# Config\n",
    "plt.title('Betas Histogram with Normal Distribution')\n",
    "plt.xlabel('Return')\n",
    "plt.ylabel('Density')\n",
    "\n",
    "# Legends and Grid\n",
    "plt.legend()\n",
    "plt.grid(True)\n",
    "\n",
    "# Show\n",
    "plt.show()"
   ],
   "execution_count": 16,
   "outputs": []
  },
  {
   "metadata": {},
   "cell_type": "markdown",
   "source": "### Comparing Residuals ###",
   "id": "2fad1d441bf33ce4"
  },
  {
   "metadata": {
    "ExecuteTime": {
     "end_time": "2025-04-17T22:50:09.075621Z",
     "start_time": "2025-04-17T22:50:09.057319Z"
    }
   },
   "cell_type": "code",
   "source": [
    "# Compute Residuals with the Alternative Way\n",
    "\n",
    "stock = 'NVDA'\n",
    "\n",
    "# Common Index\n",
    "common_index = df_excess_returns.index.intersection(betas_df.index).intersection(alpha_df.index).intersection(market_excess_returns.index)\n",
    "\n",
    "# Cut DataFrames\n",
    "r_i = df_excess_returns[stock].loc[common_index]\n",
    "beta = betas_df[stock].loc[common_index]\n",
    "r_m = market_excess_returns.loc[common_index]\n",
    "\n",
    "# Calculate factor returns\n",
    "r_f = compute_factor_contributions(r_m, beta)\n",
    "\n",
    "# Calculate residual returns\n",
    "residual_returns = compute_residual_returns(r_i, r_m, beta)\n",
    "residual_returns.name = 'residual_returns'\n",
    "\n",
    "residual_returns"
   ],
   "id": "841350dfbaf1fd14",
   "execution_count": 27,
   "outputs": []
  },
  {
   "metadata": {
    "ExecuteTime": {
     "end_time": "2025-04-17T22:50:19.542567Z",
     "start_time": "2025-04-17T22:50:19.395574Z"
    }
   },
   "cell_type": "code",
   "source": [
    "# Create the Plot\n",
    "plt.figure(figsize=(10, 6))\n",
    "plt.plot(r_i.cumsum(), label=f'{stock} Returns', alpha=0.7)\n",
    "plt.plot(r_f.cumsum(), label=f'{stock} Factor Returns', alpha=0.7)\n",
    "plt.plot(residual_returns.cumsum(), label=f'{stock} Residual Returns', alpha=0.7)\n",
    "plt.axhline(y=0, color='black', linestyle='dashed')\n",
    "\n",
    "# Config\n",
    "plt.title('Returns Time Series')\n",
    "plt.xlabel('Time')\n",
    "plt.ylabel('Returns')\n",
    "plt.legend()\n",
    "\n",
    "# Show\n",
    "plt.show()"
   ],
   "id": "2b436f93-37d3-4ceb-b2dc-3507273565b3",
   "execution_count": 28,
   "outputs": []
  },
  {
   "metadata": {},
   "cell_type": "markdown",
   "source": "The method using the rolling betas adds so much noise to the calculation of the residual returns, especially because sometimes the alpha coefficient has a bias. So we prefer to use the residuals of the whole time stamp regression.",
   "id": "d51988e089ae52ae"
  },
  {
   "metadata": {
    "ExecuteTime": {
     "end_time": "2025-04-17T22:48:48.772415Z",
     "start_time": "2025-04-17T22:48:48.768424Z"
    }
   },
   "cell_type": "code",
   "source": [
    "print(df_excess_returns.shape)\n",
    "print(market_excess_returns.shape)\n",
    "print(betas_df.shape)"
   ],
   "id": "b938c9d385077a50",
   "execution_count": 24,
   "outputs": []
  },
  {
   "metadata": {
    "ExecuteTime": {
     "end_time": "2025-04-17T22:52:18.589600Z",
     "start_time": "2025-04-17T22:52:18.379891Z"
    }
   },
   "cell_type": "code",
   "source": [
    "# Calculate the Residual Returns for every stock\n",
    "residual_returns_dict = {}\n",
    "\n",
    "# Create the Loop to Obtain the Betas\n",
    "for ticker in dataframes.keys():\n",
    "    df = compute_residual_returns(\n",
    "        df_excess_returns[ticker].loc[common_index], \n",
    "        market_excess_returns.loc[common_index],\n",
    "        betas_df[ticker]\n",
    "    )\n",
    "    \n",
    "    residual_returns_dict[ticker] = df\n",
    "\n",
    "# Create the DataFrame\n",
    "df_residual_returns = pd.DataFrame.from_dict(residual_returns_dict)\n",
    "\n",
    "df_residual_returns['NVDA']"
   ],
   "id": "5aaa9dff2390fb9a",
   "execution_count": 30,
   "outputs": []
  },
  {
   "metadata": {
    "ExecuteTime": {
     "end_time": "2025-04-17T22:52:36.750332Z",
     "start_time": "2025-04-17T22:52:36.034181Z"
    }
   },
   "cell_type": "code",
   "source": [
    "# Save the data\n",
    "betas_series.to_csv(r\"..\\additional_data\\capm_sbetas.csv\")\n",
    "df_residual_returns.to_csv(r\"..\\additional_data\\capm_residual_returns.csv\")"
   ],
   "id": "fbc21f71-4e3d-4f91-9269-16283787cc99",
   "execution_count": 31,
   "outputs": []
  },
  {
   "metadata": {},
   "cell_type": "code",
   "execution_count": null,
   "source": "",
   "id": "eb3bf2c5442e6abb",
   "outputs": []
  }
 ],
 "metadata": {
  "kernelspec": {
   "display_name": "Python 3 (ipykernel)",
   "language": "python",
   "name": "python3"
  },
  "language_info": {
   "codemirror_mode": {
    "name": "ipython",
    "version": 3
   },
   "file_extension": ".py",
   "mimetype": "text/x-python",
   "name": "python",
   "nbconvert_exporter": "python",
   "pygments_lexer": "ipython3",
   "version": "3.11.7"
  }
 },
 "nbformat": 4,
 "nbformat_minor": 5
}
