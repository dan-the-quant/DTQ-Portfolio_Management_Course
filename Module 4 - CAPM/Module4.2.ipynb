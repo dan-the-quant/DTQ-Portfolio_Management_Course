{
 "cells": [
  {
   "cell_type": "markdown",
   "id": "80fa1943-6a93-4588-ad54-2ac54156bb44",
   "metadata": {},
   "source": [
    "# CAPM Calculations with Exponential Weights #\n",
    "\n",
    "### CAPM Model using Weighted Linear Regression Model ###"
   ]
  },
  {
   "cell_type": "code",
   "id": "0d0841ca-f072-41c1-91b3-764713de9487",
   "metadata": {
    "ExecuteTime": {
     "end_time": "2025-05-27T18:46:43.951505Z",
     "start_time": "2025-05-27T18:46:41.807865Z"
    }
   },
   "source": [
    "# Import Libraries\n",
    "\n",
    "# Data Management\n",
    "import numpy as np\n",
    "import pandas as pd\n",
    "\n",
    "# Plots\n",
    "import matplotlib.pyplot as plt\n",
    "\n",
    "# Statistics\n",
    "import statsmodels.api as sm\n",
    "\n",
    "# Handle Files\n",
    "import sys\n",
    "import os\n",
    "\n",
    "# Import Local Functions\n",
    "sys.path.append(os.path.abspath(\"../source\"))\n",
    "from functions import import_daily_financial_data\n",
    "from capm_toolkit import annual_to_daily_rate"
   ],
   "execution_count": 1,
   "outputs": []
  },
  {
   "cell_type": "code",
   "id": "dcd9111d-297d-4226-b87b-aeef0f4d7ff0",
   "metadata": {
    "ExecuteTime": {
     "end_time": "2025-05-27T18:46:43.961573Z",
     "start_time": "2025-05-27T18:46:43.953514Z"
    }
   },
   "source": [
    "# Weights\n",
    "def wexp(N, half_life):\n",
    "    c = np.log(0.5) / half_life\n",
    "    n = np.array(range(N))\n",
    "    w = np.exp(c * n)\n",
    "    return np.flip(w / np.sum(w))\n",
    "\n",
    "# Create the CAPM Function\n",
    "def capm_regression(\n",
    "    excess_stock: pd.Series,\n",
    "    excess_benchmark: pd.Series,\n",
    "    window: int = 252,\n",
    "    WLS: bool = False,\n",
    "):\n",
    "    \n",
    "    X = excess_benchmark\n",
    "    y = excess_stock\n",
    "    \n",
    "    if WLS:\n",
    "        # Create weights with exponential decay\n",
    "        weights = window * wexp(window, window/2)\n",
    "        \n",
    "        # Fit WLS regression\n",
    "        model = sm.WLS(y, sm.add_constant(X), weights=weights, missing='drop').fit()\n",
    "    \n",
    "    else:\n",
    "        # Fit OLS regression\n",
    "        model = sm.OLS(y, sm.add_constant(X), missing='drop').fit()\n",
    "    \n",
    "    return model\n",
    "    \n",
    "    \n",
    "def rolling_capm_regression(\n",
    "    stock_returns: pd.Series,\n",
    "    benchmark_returns: pd.Series,\n",
    "    daily_rfr: pd.Series,\n",
    "    window: int = 252,\n",
    "    WLS: bool = False,\n",
    "):\n",
    "\n",
    "    #Align Data\n",
    "    df = pd.concat([stock_returns, benchmark_returns, daily_rfr], axis=1)\n",
    "    df = df.dropna()\n",
    "    df.columns = ['stock_returns', 'benchmark_returns', 'daily_returns']\n",
    "\n",
    "    # Compute Excess Returns\n",
    "    excess_stock = df['stock_returns'] - df['daily_returns']\n",
    "    excess_benchmark = df['benchmark_returns'] - df['daily_returns']\n",
    "\n",
    "    # Lists\n",
    "    alphas, betas, sigma = [], [], []\n",
    "    p_values_alpha, p_values_beta = [], []\n",
    "    r_squared = []\n",
    "    dates = []\n",
    "\n",
    "    for t in range(window, len(excess_stock)):\n",
    "        # The variables\n",
    "        X = excess_benchmark.iloc[t-window:t]\n",
    "        y = excess_stock.iloc[t-window:t]\n",
    "\n",
    "        # Create the Model\n",
    "        model = capm_regression(y, X, window=window, WLS=WLS)\n",
    "\n",
    "        # Avoid KeyError by checking if params exist\n",
    "        params = model.params\n",
    "        pvalues = model.pvalues\n",
    "        r2 = model.rsquared\n",
    "        hsigma = (model.resid).std()\n",
    "\n",
    "        # Append values\n",
    "        alphas.append(params.iloc[0])\n",
    "        betas.append(params.iloc[1])\n",
    "        sigma.append(hsigma)\n",
    "        p_values_alpha.append(pvalues.iloc[0])\n",
    "        p_values_beta.append(pvalues.iloc[1])\n",
    "        r_squared.append(r2)\n",
    "        dates.append(excess_stock.index[t - 1])  # Last date to calculate betas\n",
    "            \n",
    "    parameters = pd.DataFrame({\n",
    "        'alpha': alphas,\n",
    "        'beta': betas,\n",
    "        'sigma': sigma,\n",
    "        'p_value_alpha': p_values_alpha,\n",
    "        'p_value_beta': p_values_beta,\n",
    "        'r_squared': r_squared,\n",
    "    }, index=pd.Index(dates, name=\"date\"))\n",
    "    \n",
    "    return parameters"
   ],
   "execution_count": 2,
   "outputs": []
  },
  {
   "cell_type": "code",
   "id": "b9994ded-849e-4384-9f55-89582e0e09b2",
   "metadata": {
    "ExecuteTime": {
     "end_time": "2025-05-27T18:49:16.776485Z",
     "start_time": "2025-05-27T18:49:16.760632Z"
    }
   },
   "source": [
    "# Get the important data for the Risk-Free Rate\n",
    "\n",
    "rfr = pd.read_csv(r\"..\\additional_data\\rfr.csv\")\n",
    "rfr = rfr.set_index('Date')\n",
    "rfr.index = pd.to_datetime(rfr.index)\n",
    "rfr.dropna(inplace = True)\n",
    "\n",
    "rfr"
   ],
   "execution_count": 8,
   "outputs": []
  },
  {
   "cell_type": "code",
   "id": "b357774e-3ca6-41ad-8daa-5716cee97052",
   "metadata": {
    "ExecuteTime": {
     "end_time": "2025-05-27T18:49:59.919255Z",
     "start_time": "2025-05-27T18:49:58.929954Z"
    }
   },
   "source": [
    "# Benchmark Data\n",
    "data_sp500 = import_daily_financial_data(\n",
    "    ticker='^GSPC', \n",
    "    start_date='2015-01-01', \n",
    "    end_date='2025-01-01', \n",
    "    returns=True\n",
    ")\n",
    "\n",
    "data_sp500"
   ],
   "execution_count": 10,
   "outputs": []
  },
  {
   "cell_type": "code",
   "id": "ba099451-d101-4b55-b3ce-a1144694f81f",
   "metadata": {
    "ExecuteTime": {
     "end_time": "2025-05-27T18:50:15.992515Z",
     "start_time": "2025-05-27T18:50:15.343687Z"
    }
   },
   "source": [
    "# Stock Data\n",
    "ticker = 'NVDA'\n",
    "\n",
    "df_stock = import_daily_financial_data(\n",
    "        ticker=ticker, \n",
    "        start_date='2015-01-01', \n",
    "        end_date='2025-01-01', \n",
    "        returns=True\n",
    "    )\n",
    "\n",
    "df_stock"
   ],
   "execution_count": 11,
   "outputs": []
  },
  {
   "cell_type": "code",
   "id": "6cc5b8dd-62b5-4c97-b08a-81ab3bba3b62",
   "metadata": {
    "ExecuteTime": {
     "end_time": "2025-05-27T18:51:21.235568Z",
     "start_time": "2025-05-27T18:51:17.950948Z"
    }
   },
   "source": [
    "# Calculate the Betas using WLS\n",
    "\n",
    "betas_wls = rolling_capm_regression(\n",
    "    df_stock['returns'],\n",
    "    data_sp500['returns'],\n",
    "    rfr['risk_free_rate'],\n",
    "    WLS = True\n",
    ")\n",
    "\n",
    "betas_wls"
   ],
   "execution_count": 12,
   "outputs": []
  },
  {
   "cell_type": "code",
   "id": "102a020e-ee2b-4882-81e3-0c91b3becf1d",
   "metadata": {
    "ExecuteTime": {
     "end_time": "2025-05-27T18:51:43.356721Z",
     "start_time": "2025-05-27T18:51:40.261003Z"
    }
   },
   "source": [
    "# Calculate the Betas using OLS\n",
    "\n",
    "betas_ols = rolling_capm_regression(\n",
    "    df_stock['returns'],\n",
    "    data_sp500['returns'],\n",
    "    rfr['risk_free_rate'],\n",
    "    WLS = False,\n",
    ")\n",
    "\n",
    "betas_ols"
   ],
   "execution_count": 13,
   "outputs": []
  },
  {
   "cell_type": "code",
   "id": "2c0b3de2-5e44-4170-8bad-09cd883b83c5",
   "metadata": {
    "ExecuteTime": {
     "end_time": "2025-05-27T18:51:55.769092Z",
     "start_time": "2025-05-27T18:51:55.629641Z"
    }
   },
   "source": [
    "# Create Plot\n",
    "plt.figure(figsize=(10, 6))\n",
    "plt.plot(betas_wls['beta'], label='WLS Beta', color='orange', alpha=0.7)\n",
    "plt.plot(betas_ols['beta'], label='OLS Beta', color='blue', alpha=0.7)\n",
    "plt.axhline(y=1, color='black', linestyle='dashed')\n",
    "\n",
    "# Config\n",
    "plt.title('Beta Time Series')\n",
    "plt.xlabel('Time')\n",
    "plt.ylabel('Beta')\n",
    "plt.legend()\n",
    "\n",
    "# Show\n",
    "plt.grid()\n",
    "plt.show()"
   ],
   "execution_count": 15,
   "outputs": []
  },
  {
   "cell_type": "code",
   "id": "30d13e93-14fc-4ad1-bb89-229dfa1881d6",
   "metadata": {
    "ExecuteTime": {
     "end_time": "2025-05-27T18:52:08.376737Z",
     "start_time": "2025-05-27T18:52:08.221087Z"
    }
   },
   "source": [
    "# Create Plot\n",
    "plt.figure(figsize=(10, 6))\n",
    "plt.plot(betas_wls['alpha'], label='WLS Alpha', color='orange', alpha=0.7)\n",
    "plt.plot(betas_ols['alpha'], label='OLS Alpha', color='blue', alpha=0.7)\n",
    "plt.axhline(y=0, color='black', linestyle='dashed')\n",
    "\n",
    "# Config\n",
    "plt.title('Alpha Time Series')\n",
    "plt.xlabel('Time')\n",
    "plt.ylabel('Alpha')\n",
    "plt.legend()\n",
    "\n",
    "# Show\n",
    "plt.grid()\n",
    "plt.show()"
   ],
   "execution_count": 16,
   "outputs": []
  },
  {
   "cell_type": "code",
   "id": "67e26b93-174e-4897-9f50-95639f131e6f",
   "metadata": {
    "ExecuteTime": {
     "end_time": "2025-05-27T18:52:18.583779Z",
     "start_time": "2025-05-27T18:52:18.494866Z"
    }
   },
   "source": [
    "# Create Plot\n",
    "weights = 252 * wexp(252, 126)\n",
    "\n",
    "plt.figure(figsize=(10, 6))\n",
    "plt.plot(weights, label='Weights', color='black', alpha=0.7)\n",
    "\n",
    "# Config\n",
    "plt.title('Weights Graph')\n",
    "plt.xlabel('Index')\n",
    "plt.ylabel('Weights')\n",
    "plt.legend()\n",
    "\n",
    "# Show\n",
    "plt.show()"
   ],
   "execution_count": 18,
   "outputs": []
  },
  {
   "cell_type": "code",
   "id": "4de9a9e7-e96a-43fe-84ec-c3ea5ca53192",
   "metadata": {
    "ExecuteTime": {
     "end_time": "2025-05-27T18:52:37.429931Z",
     "start_time": "2025-05-27T18:52:36.866516Z"
    }
   },
   "source": [
    "# Create Plot\n",
    "plt.figure(figsize=(10, 6))\n",
    "plt.plot(betas_wls['r_squared'], label='WLS R-Squared', color='orange', alpha=0.7)\n",
    "plt.plot(betas_ols['r_squared'], label='OLS R-Squared', color='blue', alpha=0.7)\n",
    "\n",
    "# Config\n",
    "plt.title('R-Squared Time Series')\n",
    "plt.xlabel('Time')\n",
    "plt.ylabel('R-Squared')\n",
    "plt.legend()\n",
    "\n",
    "# Show\n",
    "plt.grid()\n",
    "plt.show()"
   ],
   "execution_count": 20,
   "outputs": []
  },
  {
   "metadata": {
    "ExecuteTime": {
     "end_time": "2025-05-27T18:52:47.960956Z",
     "start_time": "2025-05-27T18:52:47.780777Z"
    }
   },
   "cell_type": "code",
   "source": [
    "# Create Plot\n",
    "plt.figure(figsize=(10, 6))\n",
    "plt.plot(betas_wls['sigma'], label='WLS Sigma', color='orange', alpha=0.7)\n",
    "\n",
    "# Config\n",
    "plt.title('Sigma Time Series')\n",
    "plt.xlabel('Time')\n",
    "plt.ylabel('Sigma')\n",
    "plt.legend()\n",
    "\n",
    "# Show\n",
    "plt.grid()\n",
    "plt.show()"
   ],
   "id": "d785d7f9c996eff0",
   "execution_count": 21,
   "outputs": []
  },
  {
   "metadata": {
    "ExecuteTime": {
     "end_time": "2025-05-27T18:53:29.936571Z",
     "start_time": "2025-05-27T18:53:29.926975Z"
    }
   },
   "cell_type": "code",
   "source": [
    "# Compute the Factor Contribution to Returns\n",
    "def compute_factor_contributions(factor_returns, betas):\n",
    "    # Multiply Elements\n",
    "    contribution = (factor_returns * betas)\n",
    "\n",
    "    return contribution\n",
    "\n",
    "# Compute the Residual Returns\n",
    "def compute_residual_returns(stock_excess_returns, factor_contributions):\n",
    "    return stock_excess_returns - factor_contributions"
   ],
   "id": "a96e8fb50c5a207c",
   "execution_count": 22,
   "outputs": []
  },
  {
   "metadata": {
    "ExecuteTime": {
     "end_time": "2025-05-27T18:53:34.669150Z",
     "start_time": "2025-05-27T18:53:34.647297Z"
    }
   },
   "cell_type": "code",
   "source": [
    "# Create the Residual Returns DF\n",
    "\n",
    "capm_returns_df = pd.DataFrame(index=betas_wls.index)\n",
    "\n",
    "capm_returns_df['stock_excess_returns'] = df_stock['returns'] - rfr['risk_free_rate']\n",
    "capm_returns_df['market_excess_returns'] = data_sp500['returns'] - rfr['risk_free_rate']\n",
    "capm_returns_df['betas'] = betas_wls['beta']\n",
    "\n",
    "capm_returns_df['factor_returns'] = compute_factor_contributions(\n",
    "    capm_returns_df['market_excess_returns'], \n",
    "    capm_returns_df['betas']\n",
    ")\n",
    "\n",
    "capm_returns_df['residual_returns'] = compute_residual_returns(\n",
    "    capm_returns_df['stock_excess_returns'],\n",
    "    capm_returns_df['factor_returns']\n",
    ")\n",
    "\n",
    "capm_returns_df"
   ],
   "id": "de29c028ee5c990e",
   "execution_count": 23,
   "outputs": []
  },
  {
   "metadata": {
    "ExecuteTime": {
     "end_time": "2025-05-27T18:53:37.189968Z",
     "start_time": "2025-05-27T18:53:36.971148Z"
    }
   },
   "cell_type": "code",
   "source": [
    "# Create Plot\n",
    "\n",
    "plt.figure(figsize=(10, 6))\n",
    "plt.plot(capm_returns_df['stock_excess_returns'].cumsum(), label='Stock Returns', alpha=0.7)\n",
    "plt.plot(capm_returns_df['factor_returns'].cumsum(), label='Factor Returns', alpha=0.7)\n",
    "plt.plot(capm_returns_df['residual_returns'].cumsum(), label='Residual Returns', alpha=0.7)\n",
    "\n",
    "# Config\n",
    "plt.title('Returns Time Series')\n",
    "plt.xlabel('Time')\n",
    "plt.ylabel('Returns')\n",
    "plt.legend()\n",
    "\n",
    "# Show\n",
    "plt.show()"
   ],
   "id": "44c76925f5f10335",
   "execution_count": 24,
   "outputs": []
  },
  {
   "metadata": {
    "ExecuteTime": {
     "end_time": "2025-05-03T22:00:11.147175Z",
     "start_time": "2025-05-03T22:00:11.145166Z"
    }
   },
   "cell_type": "code",
   "source": "",
   "id": "5953229b64a08d5e",
   "execution_count": 15,
   "outputs": []
  }
 ],
 "metadata": {
  "kernelspec": {
   "display_name": "Python 3 (ipykernel)",
   "language": "python",
   "name": "python3"
  },
  "language_info": {
   "codemirror_mode": {
    "name": "ipython",
    "version": 3
   },
   "file_extension": ".py",
   "mimetype": "text/x-python",
   "name": "python",
   "nbconvert_exporter": "python",
   "pygments_lexer": "ipython3",
   "version": "3.11.7"
  }
 },
 "nbformat": 4,
 "nbformat_minor": 5
}
