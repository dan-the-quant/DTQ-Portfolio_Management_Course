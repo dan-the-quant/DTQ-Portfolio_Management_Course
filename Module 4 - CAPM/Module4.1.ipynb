{
 "cells": [
  {
   "cell_type": "markdown",
   "id": "0d12b9cb-86b0-4fcc-9be2-a3982cfb4149",
   "metadata": {},
   "source": [
    "# Naive CAPM Calculations #\n",
    "\n",
    "### CAPM Model using Simple Linear Regression Model ###"
   ]
  },
  {
   "cell_type": "code",
   "execution_count": 64,
   "id": "b4118e51-c1f1-4064-b22f-cc87a58bfdbe",
   "metadata": {},
   "source": [
    "# Import Libraries\n",
    "\n",
    "# Data Management\n",
    "import pandas as pd\n",
    "import numpy as np\n",
    "\n",
    "# Plots\n",
    "import matplotlib.pyplot as plt\n",
    "\n",
    "# Get Data\n",
    "from fredapi import Fred\n",
    "import logging\n",
    "\n",
    "# Pretty Notation\n",
    "from IPython.display import display, Math"
   ],
   "outputs": []
  },
  {
   "cell_type": "code",
   "execution_count": 65,
   "id": "bffe569c-cf18-4d0f-bd28-6600b714979a",
   "metadata": {},
   "source": [
    "# Data Collection Function from FRED\n",
    "def get_fred_data(symbol: str) -> pd.DataFrame:\n",
    "    \n",
    "    fred_key = '0174cb93931388a2bf305663e4117fd3'\n",
    "\n",
    "    fred = Fred(api_key = fred_key)\n",
    "    \n",
    "    df = fred.get_series(symbol)\n",
    "    \n",
    "    return df"
   ],
   "outputs": []
  },
  {
   "cell_type": "code",
   "execution_count": 66,
   "id": "1ed1e8ed-7afe-4bdb-b92f-7b843777d74a",
   "metadata": {},
   "source": [
    "# Nvidia Data\n",
    "df_nvda = pd.read_csv(rf\"..\\stocks\\NVDA.csv\")\n",
    "df_nvda = df_nvda.set_index('Date')\n",
    "df_nvda.index = pd.to_datetime(df_nvda.index)\n",
    "\n",
    "df_nvda = df_nvda.loc['2015-01-01':]\n",
    "\n",
    "df_nvda"
   ],
   "outputs": []
  },
  {
   "cell_type": "code",
   "execution_count": 67,
   "id": "0ec488d9-f0ed-4928-bcaf-5abcf50879ee",
   "metadata": {},
   "source": [
    "# We will use the 10 years bond rate as the RFR\n",
    "\n",
    "rf = get_fred_data('DGS10')\n",
    "rf.index = pd.to_datetime(rf.index)\n",
    "rf = rf.loc['2015-01-01':]\n",
    "\n",
    "rf"
   ],
   "outputs": []
  },
  {
   "cell_type": "code",
   "execution_count": 68,
   "id": "c47515f4-a3a2-4f15-9d29-5fe2e5182341",
   "metadata": {},
   "source": [
    "# Nvidia Data\n",
    "sp500 = pd.read_csv(r\"..\\additional_data\\sp500.csv\")\n",
    "sp500 = sp500.set_index('Date')\n",
    "sp500.index = pd.to_datetime(sp500.index)\n",
    "\n",
    "sp500"
   ],
   "outputs": []
  },
  {
   "cell_type": "code",
   "execution_count": 69,
   "id": "d933189a-defb-4e2b-ad38-e3babb7d84dd",
   "metadata": {},
   "source": [
    "# Create the DataFrame\n",
    "\n",
    "data = pd.DataFrame()\n",
    "\n",
    "data['stock_price'] = df_nvda['Adjusted_close']\n",
    "data['annual_rfr'] = rf\n",
    "data['benchmark'] = sp500\n",
    "\n",
    "data = data.dropna()\n",
    "\n",
    "data"
   ],
   "outputs": []
  },
  {
   "cell_type": "code",
   "execution_count": 70,
   "id": "dc47ae94-b2cf-4e51-83a2-20842236473b",
   "metadata": {},
   "source": [
    "# Now the returns\n",
    "\n",
    "data['stock_returns'] = data['stock_price'].pct_change(1).mul(100)\n",
    "data['daily_rfr'] = (((1 + (data['annual_rfr'].div(100)))**(1/360)) - 1).mul(100)\n",
    "data['market_returns'] = data['benchmark'].pct_change(1).mul(100)\n",
    "\n",
    "data"
   ],
   "outputs": []
  },
  {
   "cell_type": "code",
   "execution_count": 71,
   "id": "e5da03bf-f11e-4bc4-8059-64c0faa1de1a",
   "metadata": {},
   "source": [
    "# We use the excess returns\n",
    "\n",
    "data['stock_excess'] = data['stock_returns'] - data['daily_rfr']\n",
    "data['market_excess'] = data['market_returns'] - data['daily_rfr']\n",
    "\n",
    "data"
   ],
   "outputs": []
  },
  {
   "cell_type": "code",
   "execution_count": 72,
   "id": "7cfc2d5a-c3c8-48b7-9869-6eb8349534cd",
   "metadata": {},
   "source": [
    "# We know how to calculate a beta, but not a rolling beta\n",
    "\n",
    "data['rolling_cov'] = data['stock_excess'].rolling(window=252).cov(data['market_excess'])\n",
    "data['rolling_var_market'] = data['market_excess'].rolling(window=252).var()\n",
    "\n",
    "# Rolling beta\n",
    "data['rolling_beta'] = data['rolling_cov'] / data['rolling_var_market']\n",
    "\n",
    "data.dropna()"
   ],
   "outputs": []
  },
  {
   "cell_type": "code",
   "execution_count": 73,
   "id": "ff27e641-e65b-409f-9411-9edbbe748174",
   "metadata": {},
   "source": [
    "# Create Plot\n",
    "\n",
    "plt.figure(figsize=(10, 6))\n",
    "plt.plot(data['rolling_beta'], label='Beta', color='blue', alpha=0.7)\n",
    "plt.axhline(y=data['rolling_beta'].mean(), color='black', linestyle='dashed', label='Beta Mean')\n",
    "\n",
    "# Config\n",
    "plt.title('Beta Time Series')\n",
    "plt.xlabel('Time')\n",
    "plt.ylabel('Beta')\n",
    "plt.legend()\n",
    "\n",
    "# Show\n",
    "plt.show()"
   ],
   "outputs": []
  },
  {
   "cell_type": "code",
   "execution_count": 74,
   "id": "23b5511e-5ba2-4fef-829d-07badcf76710",
   "metadata": {},
   "source": [
    "# Now we are interested in obtaining the alpha\n",
    "\n",
    "data['rolling_avg_stock'] = data['stock_excess'].rolling(window=252).mean()\n",
    "data['rolling_avg_market'] = data['market_excess'].rolling(window=252).mean()\n",
    "\n",
    "data['rolling_alpha'] = data['rolling_avg_stock'] - data['rolling_beta'] * data['rolling_avg_market']\n",
    "\n",
    "data.dropna()"
   ],
   "outputs": []
  },
  {
   "cell_type": "code",
   "execution_count": 75,
   "id": "8558e213-9160-4010-a002-de2691ed6d78",
   "metadata": {},
   "source": [
    "# Create Plot\n",
    "\n",
    "# Crear el gráfico de la serie de tiempo y las medias móviles exponenciales\n",
    "plt.figure(figsize=(10, 6))\n",
    "plt.plot(data['rolling_alpha'], label='Alpha', color='orange', alpha=0.7)\n",
    "plt.axhline(y=data['rolling_alpha'].mean(), color='black', linestyle='dashed', label='Alpha Mean')\n",
    "\n",
    "# Añadir título y etiquetas\n",
    "plt.title('Alpha Time Series')\n",
    "plt.xlabel('Time')\n",
    "plt.ylabel('Alpha')\n",
    "plt.legend()\n",
    "\n",
    "# Mostrar el gráfico\n",
    "plt.show()"
   ],
   "outputs": []
  },
  {
   "cell_type": "code",
   "execution_count": 76,
   "id": "4c004a93-63b1-41cb-a146-3245e3178db1",
   "metadata": {},
   "source": [
    "# Create Figure\n",
    "fig, ax1 = plt.subplots(dpi = 300)\n",
    "\n",
    "# Unemployment Rate Plot\n",
    "data['rolling_beta'].plot(color = 'blue', ax = ax1, alpha=0.7)\n",
    "ax1.set_xlabel('Date')\n",
    "ax1.set_ylabel(\n",
    "    'Beta', \n",
    "    color='blue'\n",
    "    )\n",
    "\n",
    "# Unemployment Mentions Plot\n",
    "ax2 = ax1.twinx()\n",
    "\n",
    "data['rolling_alpha'].plot(color = 'orange', ax = ax2, alpha=0.7)\n",
    "ax2.set_ylabel(\n",
    "    'Alpha', \n",
    "    color='orange'\n",
    "    )\n",
    "\n",
    "plt.title('Beta and Alpha Time Series')\n",
    "plt.show()"
   ],
   "outputs": []
  },
  {
   "cell_type": "code",
   "execution_count": 77,
   "id": "4763f913-8327-44d9-b032-73719cf01164",
   "metadata": {},
   "source": [
    "# Security Market Line\n",
    "\n",
    "# Parámeters\n",
    "risk_free_rate = data['daily_rfr'].iloc[-1]\n",
    "market_risk_premium = data['rolling_avg_market'].iloc[-1]\n",
    "\n",
    "# Random Betas\n",
    "betas = np.linspace(0, 3, 100)  # Rango de betas de 0 a 2\n",
    "\n",
    "# Expected Returns\n",
    "expected_returns = risk_free_rate + market_risk_premium * betas\n",
    "\n",
    "# Plot\n",
    "plt.figure(figsize=(10, 6))\n",
    "\n",
    "plt.plot(betas, expected_returns, color='black', linestyle='--', label='Security Market Line')\n",
    "plt.scatter(data['rolling_beta'].iloc[-1], data['rolling_avg_stock'].iloc[-1], color='red', s=50, label='expected returns')  \n",
    "\n",
    "# Config\n",
    "plt.title('Security Market Line (SML)')\n",
    "plt.xlabel('Beta')\n",
    "plt.ylabel('Expected Return')\n",
    "\n",
    "# RFR Line\n",
    "plt.axhline(y=risk_free_rate, color='grey', linestyle='--', label='Risk-Free Rate')\n",
    "\n",
    "# Legends\n",
    "plt.legend()\n",
    "\n",
    "plt.grid(True)\n",
    "plt.show()"
   ],
   "outputs": []
  },
  {
   "cell_type": "code",
   "execution_count": 78,
   "id": "82b705a5-07e6-4a2c-9c15-7691ae8bedce",
   "metadata": {},
   "source": [
    "# Now we have to calculate the Treynor's Ratio\n",
    "\n",
    "data['treynors_ratio'] = data['stock_excess'].div(data['rolling_beta'])\n",
    "\n",
    "data.dropna()"
   ],
   "outputs": []
  },
  {
   "cell_type": "code",
   "execution_count": 79,
   "id": "b046aa48-989e-4fd1-a2e3-ee9e148b39a4",
   "metadata": {},
   "source": [
    "# And the Sharpe Ratio\n",
    "\n",
    "data['rolling_std_stock'] = data['stock_returns'].rolling(window=252).std()\n",
    "data['sharpe_ratio'] = data['stock_excess'].div(data['rolling_std_stock'])\n",
    "\n",
    "data.dropna()"
   ],
   "outputs": []
  },
  {
   "cell_type": "code",
   "execution_count": 80,
   "id": "08c0530a-3136-4839-b62e-4722697f6b77",
   "metadata": {},
   "source": [
    "# Create Plot to demonstrate the Sharpe Ratio is always smaller than the Treynors Ratio\n",
    "\n",
    "plt.figure(figsize=(10, 6))\n",
    "plt.plot(abs(data['treynors_ratio']), label='Treynors Ratio', color='green', alpha=0.7)\n",
    "plt.plot(abs(data['sharpe_ratio']), label='Sharpe Ratio', color='red', alpha=0.7)\n",
    "\n",
    "# Config\n",
    "plt.title('Ratios Time Series')\n",
    "plt.xlabel('Time')\n",
    "plt.ylabel('Values')\n",
    "plt.legend()\n",
    "\n",
    "# Show\n",
    "plt.show()"
   ],
   "outputs": []
  },
  {
   "cell_type": "code",
   "execution_count": 81,
   "id": "0461b092-9467-45e4-89b6-392ea245ca12",
   "metadata": {},
   "source": [
    "plt.figure(figsize=(10, 6))\n",
    "plt.plot(abs(data['treynors_ratio'] / abs(data['sharpe_ratio'])), label='Ratios Difference', color='green', alpha=0.7)\n",
    "plt.axhline(y=1, color='grey', linestyle='--')\n",
    "\n",
    "# Config\n",
    "plt.title('Ratios Time Series')\n",
    "plt.xlabel('Time')\n",
    "plt.ylabel('Values')\n",
    "plt.legend()\n",
    "\n",
    "# Show\n",
    "plt.show()"
   ],
   "outputs": []
  },
  {
   "cell_type": "code",
   "execution_count": 82,
   "id": "e398b542-4ebe-4cb8-8d50-b2194aa29469",
   "metadata": {},
   "source": [
    "data['rolling_beta'].dropna()"
   ],
   "outputs": []
  },
  {
   "cell_type": "code",
   "execution_count": null,
   "id": "ad8dc427-dedd-4530-a35e-1bcbeac211c8",
   "metadata": {},
   "source": [],
   "outputs": []
  }
 ],
 "metadata": {
  "kernelspec": {
   "display_name": "Python 3 (ipykernel)",
   "language": "python",
   "name": "python3"
  },
  "language_info": {
   "codemirror_mode": {
    "name": "ipython",
    "version": 3
   },
   "file_extension": ".py",
   "mimetype": "text/x-python",
   "name": "python",
   "nbconvert_exporter": "python",
   "pygments_lexer": "ipython3",
   "version": "3.11.7"
  }
 },
 "nbformat": 4,
 "nbformat_minor": 5
}
