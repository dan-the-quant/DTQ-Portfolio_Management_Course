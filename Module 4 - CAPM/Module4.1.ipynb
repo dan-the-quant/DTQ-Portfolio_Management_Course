{
 "cells": [
  {
   "cell_type": "markdown",
   "id": "0d12b9cb-86b0-4fcc-9be2-a3982cfb4149",
   "metadata": {},
   "source": [
    "# Naive CAPM Calculations #\n",
    "\n",
    "### CAPM Model using Simple Linear Regression Model ###"
   ]
  },
  {
   "cell_type": "code",
   "id": "b4118e51-c1f1-4064-b22f-cc87a58bfdbe",
   "metadata": {
    "ExecuteTime": {
     "end_time": "2025-05-27T18:47:24.149732Z",
     "start_time": "2025-05-27T18:47:22.603418Z"
    }
   },
   "source": [
    "# Import Libraries\n",
    "\n",
    "# Data Management\n",
    "import pandas as pd\n",
    "import numpy as np\n",
    "\n",
    "# Plots\n",
    "import matplotlib.pyplot as plt\n",
    "\n",
    "# Handle Files\n",
    "import sys\n",
    "import os\n",
    "\n",
    "# Import Local Functions\n",
    "sys.path.append(os.path.abspath(\"../source\"))\n",
    "from functions import import_daily_financial_data\n",
    "from functions import get_fred_data\n",
    "from capm_toolkit import annual_to_daily_rate"
   ],
   "execution_count": 1,
   "outputs": []
  },
  {
   "cell_type": "code",
   "id": "1ed1e8ed-7afe-4bdb-b92f-7b843777d74a",
   "metadata": {
    "ExecuteTime": {
     "end_time": "2025-05-27T18:47:25.089197Z",
     "start_time": "2025-05-27T18:47:24.150765Z"
    }
   },
   "source": [
    "# Stock Data\n",
    "ticker = 'NVDA'\n",
    "\n",
    "df_stock = import_daily_financial_data(\n",
    "        ticker=ticker, \n",
    "        start_date='2015-01-01', \n",
    "        end_date='2025-01-01', \n",
    "        returns=True\n",
    "    )\n",
    "\n",
    "df_stock"
   ],
   "execution_count": 2,
   "outputs": []
  },
  {
   "metadata": {
    "ExecuteTime": {
     "end_time": "2025-05-27T18:47:25.097545Z",
     "start_time": "2025-05-27T18:47:25.090755Z"
    }
   },
   "cell_type": "code",
   "source": [
    "# FRED key\n",
    "key = '0174cb93931388a2bf305663e4117fd3'"
   ],
   "id": "e2afd29e0ab3f04d",
   "execution_count": 3,
   "outputs": []
  },
  {
   "metadata": {
    "ExecuteTime": {
     "end_time": "2025-05-27T18:47:26.903739Z",
     "start_time": "2025-05-27T18:47:25.097545Z"
    }
   },
   "cell_type": "code",
   "source": [
    "# We will use the 10-year bond rate as the RFR\n",
    "rf = get_fred_data('DGS10', fred_key=key)\n",
    "rf.index = pd.to_datetime(rf.index)\n",
    "rf = rf.loc['2015-01-01':]\n",
    "rf.name = 'risk_free_rate'\n",
    "rf.dropna(inplace=True)\n",
    "\n",
    "# Daily Risk Free Rate\n",
    "daily_rfr = annual_to_daily_rate(rf)\n",
    "\n",
    "daily_rfr"
   ],
   "id": "0ec488d9-f0ed-4928-bcaf-5abcf50879ee",
   "execution_count": 4,
   "outputs": []
  },
  {
   "cell_type": "code",
   "id": "c47515f4-a3a2-4f15-9d29-5fe2e5182341",
   "metadata": {
    "ExecuteTime": {
     "end_time": "2025-05-27T18:47:27.421479Z",
     "start_time": "2025-05-27T18:47:26.903739Z"
    }
   },
   "source": [
    "# Benchmark Data\n",
    "data_sp500 = import_daily_financial_data(\n",
    "    ticker='^GSPC', \n",
    "    start_date='2015-01-01', \n",
    "    end_date='2025-01-01', \n",
    "    returns=True\n",
    ")\n",
    "\n",
    "data_sp500"
   ],
   "execution_count": 5,
   "outputs": []
  },
  {
   "cell_type": "code",
   "id": "d933189a-defb-4e2b-ad38-e3babb7d84dd",
   "metadata": {
    "ExecuteTime": {
     "end_time": "2025-05-27T18:47:27.455727Z",
     "start_time": "2025-05-27T18:47:27.421479Z"
    }
   },
   "source": [
    "# Create the DataFrame\n",
    "data = pd.DataFrame()\n",
    "\n",
    "data['stock'] = df_stock['returns']\n",
    "data['daily_rfr'] = daily_rfr\n",
    "data['benchmark'] = data_sp500['returns']\n",
    "\n",
    "data = data.dropna()\n",
    "\n",
    "data"
   ],
   "execution_count": 6,
   "outputs": []
  },
  {
   "cell_type": "code",
   "id": "e5da03bf-f11e-4bc4-8059-64c0faa1de1a",
   "metadata": {
    "ExecuteTime": {
     "end_time": "2025-05-27T18:47:27.479754Z",
     "start_time": "2025-05-27T18:47:27.455727Z"
    }
   },
   "source": [
    "# We use the excess returns\n",
    "data['stock_excess'] = data['stock'] - data['daily_rfr']\n",
    "data['market_excess'] = data['benchmark'] - data['daily_rfr']\n",
    "data.dropna(inplace = True)\n",
    "\n",
    "data"
   ],
   "execution_count": 7,
   "outputs": []
  },
  {
   "cell_type": "code",
   "id": "7cfc2d5a-c3c8-48b7-9869-6eb8349534cd",
   "metadata": {
    "ExecuteTime": {
     "end_time": "2025-05-27T18:47:27.511970Z",
     "start_time": "2025-05-27T18:47:27.480801Z"
    }
   },
   "source": [
    "# We know how to calculate a beta, but not a rolling beta\n",
    "data['rolling_cov'] = data['stock_excess'].rolling(window=252).cov(data['market_excess'])\n",
    "data['rolling_var_market'] = data['market_excess'].rolling(window=252).var()\n",
    "\n",
    "# Rolling beta\n",
    "data['rolling_beta'] = data['rolling_cov'] / data['rolling_var_market']\n",
    "\n",
    "data.dropna()"
   ],
   "execution_count": 8,
   "outputs": []
  },
  {
   "cell_type": "code",
   "id": "ff27e641-e65b-409f-9411-9edbbe748174",
   "metadata": {
    "ExecuteTime": {
     "end_time": "2025-05-27T18:47:27.745129Z",
     "start_time": "2025-05-27T18:47:27.511970Z"
    }
   },
   "source": [
    "# Create Plot\n",
    "plt.figure(figsize=(10, 6))\n",
    "plt.plot(data['rolling_beta'], label='Beta', color='blue', alpha=0.7)\n",
    "plt.axhline(y=data['rolling_beta'].mean(), color='black', linestyle='dashed', label='Beta Mean')\n",
    "\n",
    "# Config\n",
    "plt.title('Beta Time Series')\n",
    "plt.xlabel('Time')\n",
    "plt.ylabel('Beta')\n",
    "plt.legend()\n",
    "\n",
    "# Show\n",
    "plt.show()"
   ],
   "execution_count": 9,
   "outputs": []
  },
  {
   "cell_type": "code",
   "id": "23b5511e-5ba2-4fef-829d-07badcf76710",
   "metadata": {
    "ExecuteTime": {
     "end_time": "2025-05-27T18:47:27.762641Z",
     "start_time": "2025-05-27T18:47:27.745129Z"
    }
   },
   "source": [
    "# Now we are interested in getting the alpha\n",
    "data['rolling_avg_stock'] = data['stock_excess'].rolling(window=252).mean()\n",
    "data['rolling_avg_market'] = data['market_excess'].rolling(window=252).mean()\n",
    "\n",
    "data['rolling_alpha'] = data['rolling_avg_stock'] - data['rolling_beta'] * data['rolling_avg_market']\n",
    "\n",
    "data.dropna()"
   ],
   "execution_count": 10,
   "outputs": []
  },
  {
   "cell_type": "code",
   "id": "8558e213-9160-4010-a002-de2691ed6d78",
   "metadata": {
    "ExecuteTime": {
     "end_time": "2025-05-27T18:47:27.920439Z",
     "start_time": "2025-05-27T18:47:27.762641Z"
    }
   },
   "source": [
    "# Create Plot\n",
    "plt.figure(figsize=(10, 6))\n",
    "plt.plot(data['rolling_alpha'], label='Alpha', color='orange', alpha=0.7)\n",
    "plt.axhline(y=data['rolling_alpha'].mean(), color='black', linestyle='dashed', label='Alpha Mean')\n",
    "\n",
    "# Config\n",
    "plt.title('Alpha Time Series')\n",
    "plt.xlabel('Time')\n",
    "plt.ylabel('Alpha')\n",
    "plt.legend()\n",
    "\n",
    "# Show\n",
    "plt.show()"
   ],
   "execution_count": 11,
   "outputs": []
  },
  {
   "cell_type": "code",
   "id": "4c004a93-63b1-41cb-a146-3245e3178db1",
   "metadata": {
    "ExecuteTime": {
     "end_time": "2025-05-27T18:47:28.255776Z",
     "start_time": "2025-05-27T18:47:27.920439Z"
    }
   },
   "source": [
    "# Create Figure\n",
    "fig, ax1 = plt.subplots(dpi = 300)\n",
    "\n",
    "# Rolling Beta\n",
    "data['rolling_beta'].plot(color = 'blue', ax = ax1, alpha=0.7)\n",
    "ax1.set_xlabel('Date')\n",
    "ax1.set_ylabel(\n",
    "    'Beta', \n",
    "    color='blue'\n",
    "    )\n",
    "\n",
    "# Rolling Alpha\n",
    "ax2 = ax1.twinx()\n",
    "\n",
    "data['rolling_alpha'].plot(color = 'orange', ax = ax2, alpha=0.7)\n",
    "ax2.set_ylabel(\n",
    "    'Alpha', \n",
    "    color='orange'\n",
    "    )\n",
    "\n",
    "plt.title('Beta and Alpha Time Series')\n",
    "plt.show()"
   ],
   "execution_count": 12,
   "outputs": []
  },
  {
   "cell_type": "code",
   "id": "4763f913-8327-44d9-b032-73719cf01164",
   "metadata": {
    "ExecuteTime": {
     "end_time": "2025-05-27T18:47:28.379228Z",
     "start_time": "2025-05-27T18:47:28.255776Z"
    }
   },
   "source": [
    "# Security Market Line\n",
    "# Parameters\n",
    "risk_free_rate = data['daily_rfr'].iloc[-1]\n",
    "market_risk_premium = data['rolling_avg_market'].iloc[-1]\n",
    "\n",
    "# Random Betas\n",
    "betas = np.linspace(0, 3, 100)  # RANGE\n",
    "\n",
    "# Expected Returns\n",
    "expected_returns = risk_free_rate + market_risk_premium * betas\n",
    "\n",
    "# Plot\n",
    "plt.figure(figsize=(10, 6))\n",
    "plt.plot(betas, expected_returns, color='black', linestyle='--', label='Security Market Line')\n",
    "plt.scatter(data['rolling_beta'].iloc[-1], data['rolling_avg_stock'].iloc[-1], color='red', s=50, label='expected returns')  \n",
    "\n",
    "# Config\n",
    "plt.title('Security Market Line (SML)')\n",
    "plt.xlabel('Beta')\n",
    "plt.ylabel('Expected Return')\n",
    "\n",
    "# RFR Line\n",
    "plt.axhline(y=risk_free_rate, color='grey', linestyle='--', label='Risk-Free Rate')\n",
    "\n",
    "# Legends\n",
    "plt.legend()\n",
    "\n",
    "plt.grid(True)\n",
    "plt.show()"
   ],
   "execution_count": 13,
   "outputs": []
  },
  {
   "cell_type": "code",
   "id": "82b705a5-07e6-4a2c-9c15-7691ae8bedce",
   "metadata": {
    "ExecuteTime": {
     "end_time": "2025-05-27T18:47:28.391032Z",
     "start_time": "2025-05-27T18:47:28.379228Z"
    }
   },
   "source": [
    "# Now we have to calculate the Treynor's Ratio\n",
    "data['treynors_ratio'] = data['stock_excess'].mul(100).div(data['rolling_beta'])\n",
    "\n",
    "data.dropna()"
   ],
   "execution_count": 14,
   "outputs": []
  },
  {
   "cell_type": "code",
   "id": "b046aa48-989e-4fd1-a2e3-ee9e148b39a4",
   "metadata": {
    "ExecuteTime": {
     "end_time": "2025-05-27T18:47:28.403982Z",
     "start_time": "2025-05-27T18:47:28.391032Z"
    }
   },
   "source": [
    "# And the Sharpe Ratio\n",
    "data['rolling_std_stock'] = data['stock'].rolling(window=252).std()\n",
    "data['sharpe_ratio'] = data['stock_excess'].div(data['rolling_std_stock'])\n",
    "\n",
    "data.dropna()"
   ],
   "execution_count": 15,
   "outputs": []
  },
  {
   "cell_type": "code",
   "id": "08c0530a-3136-4839-b62e-4722697f6b77",
   "metadata": {
    "ExecuteTime": {
     "end_time": "2025-05-27T18:47:28.566152Z",
     "start_time": "2025-05-27T18:47:28.403982Z"
    }
   },
   "source": [
    "# Create Plot to demonstrate the Sharpe Ratio is always smaller than the Treynors Ratio\n",
    "\n",
    "plt.figure(figsize=(10, 6))\n",
    "plt.plot(abs(data['treynors_ratio']), label='Treynors Ratio', color='green', alpha=0.7)\n",
    "plt.plot(abs(data['sharpe_ratio']), label='Sharpe Ratio', color='red', alpha=0.7)\n",
    "\n",
    "# Config\n",
    "plt.title('Ratios Time Series')\n",
    "plt.xlabel('Time')\n",
    "plt.ylabel('Values')\n",
    "plt.legend()\n",
    "\n",
    "# Show\n",
    "plt.show()"
   ],
   "execution_count": 16,
   "outputs": []
  },
  {
   "cell_type": "code",
   "id": "0461b092-9467-45e4-89b6-392ea245ca12",
   "metadata": {
    "ExecuteTime": {
     "end_time": "2025-05-27T18:47:28.708895Z",
     "start_time": "2025-05-27T18:47:28.566152Z"
    }
   },
   "source": [
    "plt.figure(figsize=(10, 6))\n",
    "plt.plot(abs(data['treynors_ratio'] / abs(data['sharpe_ratio'])), label='Ratios Difference', color='green', alpha=0.7)\n",
    "plt.axhline(y=1, color='grey', linestyle='--')\n",
    "\n",
    "# Config\n",
    "plt.title('Ratios Time Series')\n",
    "plt.xlabel('Time')\n",
    "plt.ylabel('Values')\n",
    "plt.legend()\n",
    "\n",
    "# Show\n",
    "plt.show()"
   ],
   "execution_count": 17,
   "outputs": []
  },
  {
   "cell_type": "code",
   "id": "ad8dc427-dedd-4530-a35e-1bcbeac211c8",
   "metadata": {
    "ExecuteTime": {
     "end_time": "2025-05-27T18:48:59.152287Z",
     "start_time": "2025-05-27T18:48:59.141053Z"
    }
   },
   "source": [
    "daily_rfr.index.name = 'Date'\n",
    "daily_rfr.to_csv(r'..\\additional_data\\rfr.csv', index=True)"
   ],
   "execution_count": 23,
   "outputs": []
  },
  {
   "metadata": {},
   "cell_type": "code",
   "execution_count": null,
   "source": "",
   "id": "e6aa2d52d328d3b",
   "outputs": []
  }
 ],
 "metadata": {
  "kernelspec": {
   "display_name": "Python 3 (ipykernel)",
   "language": "python",
   "name": "python3"
  },
  "language_info": {
   "codemirror_mode": {
    "name": "ipython",
    "version": 3
   },
   "file_extension": ".py",
   "mimetype": "text/x-python",
   "name": "python",
   "nbconvert_exporter": "python",
   "pygments_lexer": "ipython3",
   "version": "3.11.7"
  }
 },
 "nbformat": 4,
 "nbformat_minor": 5
}
