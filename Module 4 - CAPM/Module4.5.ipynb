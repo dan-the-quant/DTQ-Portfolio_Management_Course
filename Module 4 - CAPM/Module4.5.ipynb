{
 "cells": [
  {
   "cell_type": "markdown",
   "id": "6951723b-9e10-41bc-8131-9b9b8310050d",
   "metadata": {},
   "source": [
    "# Obtaining Beta using Kalmann Filters #"
   ]
  },
  {
   "cell_type": "code",
   "execution_count": 10,
   "id": "577c9183-66f8-43b7-b5da-a74b055ca49b",
   "metadata": {},
   "source": [
    "# Import Libraries\n",
    "\n",
    "# Data Management\n",
    "import pandas as pd\n",
    "import numpy as np\n",
    "\n",
    "# Plots\n",
    "import matplotlib.pyplot as plt\n",
    "\n",
    "# Data\n",
    "import yfinance as yf\n",
    "\n",
    "# Statistics\n",
    "import statsmodels.api as sm\n",
    "from pykalman import KalmanFilter\n",
    "\n",
    "# Pretty Notation\n",
    "from IPython.display import display, Math"
   ],
   "outputs": []
  },
  {
   "cell_type": "code",
   "execution_count": 11,
   "id": "2ab04d04-f080-44ef-b26a-8f81749f7cd8",
   "metadata": {},
   "source": [
    "# Import the Stock Data\n",
    "\n",
    "ticker = 'MSFT'\n",
    "\n",
    "stock = pd.read_csv(rf\"..\\stocks\\{ticker}.csv\")\n",
    "stock = stock.set_index('Date')\n",
    "stock.index = pd.to_datetime(stock.index)\n",
    "stock = stock['Adjusted_close'].dropna()\n",
    "\n",
    "stock"
   ],
   "outputs": []
  },
  {
   "cell_type": "code",
   "execution_count": 12,
   "id": "0d2356e0-ee71-4016-aa02-a08bf9966a1f",
   "metadata": {},
   "source": [
    "# Import the Additional Data\n",
    "\n",
    "# Get the important data for the Risk Free Rate\n",
    "\n",
    "rfr = pd.read_csv(r\"..\\additional_data\\rfr.csv\")\n",
    "rfr = rfr.set_index('Date')\n",
    "rfr.index = pd.to_datetime(rfr.index, dayfirst=True)\n",
    "rfr.dropna(inplace = True)\n",
    "\n",
    "# Get the important data for the S&P500\n",
    "\n",
    "sp500 = pd.read_csv(r\"..\\additional_data\\sp500.csv\")\n",
    "sp500 = sp500.set_index('Date')\n",
    "sp500.index = pd.to_datetime(sp500.index)\n",
    "\n",
    "# Get the betas\n",
    "\n",
    "betas_df = pd.read_csv(r\"..\\additional_data\\betas.csv\")\n",
    "betas_df = betas_df.set_index('Date')\n",
    "betas_df.index = pd.to_datetime(betas_df.index)"
   ],
   "outputs": []
  },
  {
   "cell_type": "code",
   "execution_count": 13,
   "id": "bee634a6-f258-43e3-a866-8860f1698b6d",
   "metadata": {},
   "source": [
    "# Obtaining the Daily RFR\n",
    "\n",
    "risk_free_daily = (((1 + (rfr['risk_free_rate'].div(100)))**(1/360)) - 1)\n",
    "\n",
    "# Obtaining Returns\n",
    "stock_returns = stock.pct_change().dropna()\n",
    "market_returns = sp500['sp_500'].pct_change().dropna()\n",
    "\n",
    "# Calculate the excess\n",
    "excess_stock_returns = (stock_returns - risk_free_daily).dropna()\n",
    "excess_market_returns = (market_returns - risk_free_daily).dropna()"
   ],
   "outputs": []
  },
  {
   "cell_type": "code",
   "execution_count": 14,
   "id": "4faccc7c-a8bd-4453-8ea4-d6f51c0e1563",
   "metadata": {},
   "source": [
    "# Common Index\n",
    "\n",
    "common_index = excess_stock_returns.index.intersection(excess_market_returns.index)  # Common DATE\n",
    "excess_stock_returns = excess_stock_returns.reindex(common_index)\n",
    "excess_market_returns = excess_market_returns.reindex(common_index)"
   ],
   "outputs": []
  },
  {
   "cell_type": "code",
   "execution_count": 15,
   "id": "c64dd273-ce9a-49df-aca7-a75b6be376bd",
   "metadata": {},
   "source": [
    "# Make sure excess_stock_returns and excess_market_returns are column vectors (T, 1)\n",
    "excess_stock_returns = excess_stock_returns.values.reshape(-1, 1)\n",
    "excess_market_returns = excess_market_returns.values.reshape(-1, 1)\n",
    "\n",
    "print(excess_stock_returns.shape)\n",
    "print(excess_market_returns.shape)"
   ],
   "outputs": []
  },
  {
   "cell_type": "code",
   "execution_count": 16,
   "id": "5efa782a-1729-47e5-b9e8-eaed0c5ae4bc",
   "metadata": {},
   "source": [
    "# Calculate the Beta Using Kalman Filter\n",
    "\n",
    "# Define the Kalman Filter\n",
    "kf = KalmanFilter(\n",
    "    transition_matrices=np.array([[1]]),  # (1,1) matrix for single beta\n",
    "    observation_matrices=excess_market_returns.reshape(-1, 1, 1),  # (T,1,1)\n",
    "    initial_state_mean=1,  # Initial beta\n",
    "    initial_state_covariance=1,  # High uncertainty\n",
    "    transition_covariance=np.array([[0.01]]),  # Process noise\n",
    "    observation_covariance=np.array([[0.01]])  # Observation noise\n",
    ")\n"
   ],
   "outputs": []
  },
  {
   "cell_type": "code",
   "execution_count": 17,
   "id": "85eef649-a143-4117-85cf-edcf19ff1688",
   "metadata": {},
   "source": [
    "# Apply Kalman Filter\n",
    "filtered_state_means, _ = kf.filter(excess_stock_returns)\n",
    "filtered_state_means = pd.DataFrame(filtered_state_means, index = common_index) \n",
    "filtered_state_means.columns = ['Kalman Beta']\n",
    "\n",
    "filtered_state_means"
   ],
   "outputs": []
  },
  {
   "cell_type": "code",
   "execution_count": 18,
   "id": "ed67b0e3-9dc0-4c43-8281-e10d7e80add3",
   "metadata": {},
   "source": [
    "# Create Plot\n",
    "\n",
    "plt.figure(figsize=(10, 6))\n",
    "plt.plot(filtered_state_means, label=f\" {ticker} Kalman Beta\", linewidth=2)\n",
    "\n",
    "# Config\n",
    "plt.title('Beta Time Series')\n",
    "plt.xlabel('Time')\n",
    "plt.ylabel('Betas')\n",
    "plt.legend()\n",
    "\n",
    "# Show\n",
    "plt.show()"
   ],
   "outputs": []
  },
  {
   "cell_type": "code",
   "execution_count": 19,
   "id": "20686701-cf19-4b5a-ad1f-b18ec8f5410f",
   "metadata": {},
   "source": [
    "# Create Comparative Plot\n",
    "\n",
    "plt.figure(figsize=(10, 6))\n",
    "plt.plot(filtered_state_means, label=f\" {ticker} Kalman Beta\", linewidth=2)\n",
    "plt.plot(betas_df[ticker], label=f'{ticker} Classic Beta', color='green', alpha=0.7)\n",
    "\n",
    "# Config\n",
    "plt.title('Kallman vs Classic Beta Time Series')\n",
    "plt.xlabel('Time')\n",
    "plt.ylabel('Betas')\n",
    "plt.legend()\n",
    "\n",
    "# Show\n",
    "plt.show()"
   ],
   "outputs": []
  },
  {
   "cell_type": "markdown",
   "id": "2f622ee5-b2b4-4188-99f9-2e3ace8456b4",
   "metadata": {},
   "source": [
    "Kalman betas tend to provide a smoother estimation of a stock's sensitivity to market movements. One key advantage of the Kalman filter is that it does not lose observations compared to rolling regression. However, it assumes high uncertainty at the start of the period."
   ]
  },
  {
   "cell_type": "code",
   "execution_count": 21,
   "id": "1070dbe1-0cad-4d9e-bb81-244fe2e188f8",
   "metadata": {},
   "source": [
    "# Create Comparative Plot\n",
    "\n",
    "plt.figure(figsize=(10, 6))\n",
    "plt.plot(filtered_state_means.ewm(span=63, adjust = False).mean(), label=f\" {ticker} Kalman Beta\", linewidth=2)\n",
    "plt.plot(betas_df[ticker].ewm(span=63, adjust = False).mean(), label=f'{ticker} Classic Beta', color='green', alpha=0.7)\n",
    "\n",
    "# Config\n",
    "plt.title('Kallman vs Classic Beta Time Series')\n",
    "plt.xlabel('Time')\n",
    "plt.ylabel('Betas')\n",
    "plt.legend()\n",
    "\n",
    "# Show\n",
    "plt.show()"
   ],
   "outputs": []
  },
  {
   "cell_type": "code",
   "execution_count": 22,
   "id": "9bef3457-f86e-4bcb-9c35-efefc1a64b93",
   "metadata": {},
   "source": [
    "# Create Comparative Plot\n",
    "\n",
    "plt.figure(figsize=(10, 6))\n",
    "plt.plot(filtered_state_means.rolling(window=63).std(), label=f\" {ticker} Kalman Beta\", linewidth=2)\n",
    "plt.plot(betas_df[ticker].rolling(window=63).std(), label=f'{ticker} Classic Beta', color='green', alpha=0.7)\n",
    "\n",
    "# Config\n",
    "plt.title('Kalman vs Classic Betas Standard Deviations Time Series')\n",
    "plt.xlabel('Time')\n",
    "plt.ylabel('Betas')\n",
    "plt.legend()\n",
    "\n",
    "# Show\n",
    "plt.show()"
   ],
   "outputs": []
  },
  {
   "cell_type": "markdown",
   "id": "9fa8c1fe-4172-48a2-9716-fb3232d12314",
   "metadata": {},
   "source": [
    "Apparently Kalman's Beta captures faster the movements of the COVID-19 pandemic than the classical beta estimation."
   ]
  },
  {
   "cell_type": "code",
   "execution_count": null,
   "id": "0ff6a440-e67f-4301-8c14-e2a27aa70507",
   "metadata": {},
   "source": [],
   "outputs": []
  }
 ],
 "metadata": {
  "kernelspec": {
   "display_name": "Python 3 (ipykernel)",
   "language": "python",
   "name": "python3"
  },
  "language_info": {
   "codemirror_mode": {
    "name": "ipython",
    "version": 3
   },
   "file_extension": ".py",
   "mimetype": "text/x-python",
   "name": "python",
   "nbconvert_exporter": "python",
   "pygments_lexer": "ipython3",
   "version": "3.11.7"
  }
 },
 "nbformat": 4,
 "nbformat_minor": 5
}
