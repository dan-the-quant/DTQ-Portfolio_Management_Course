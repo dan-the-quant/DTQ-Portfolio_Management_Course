{
 "cells": [
  {
   "cell_type": "markdown",
   "id": "6167a95a-9409-4bf2-a80b-3c5442068ca5",
   "metadata": {},
   "source": [
    "# Calculating Betas for the Market's Stocks #"
   ]
  },
  {
   "cell_type": "markdown",
   "id": "0f3bd64c-d382-4d88-83e5-ed580e6c1c85",
   "metadata": {},
   "source": [
    "### Calculating the Betas for all the Stocks in the Universe ###"
   ]
  },
  {
   "cell_type": "code",
   "id": "51c3c119-5b8f-4301-a714-ced12c33630a",
   "metadata": {
    "ExecuteTime": {
     "end_time": "2025-06-18T01:20:51.947815Z",
     "start_time": "2025-06-18T01:20:51.942679Z"
    }
   },
   "source": [
    "# Import Libraries\n",
    "\n",
    "# Data Management\n",
    "import pandas as pd\n",
    "import numpy as np\n",
    "\n",
    "# Plots\n",
    "import matplotlib.pyplot as plt\n",
    "\n",
    "# Statistics\n",
    "from scipy.stats import norm\n",
    "\n",
    "# Handle Files\n",
    "import sys\n",
    "import os\n",
    "\n",
    "# Import Local Functions\n",
    "sys.path.append(os.path.abspath(\"../source\"))\n",
    "from capm_toolkit import capm_regression\n",
    "from capm_toolkit import rolling_capm_regression\n",
    "from capm_toolkit import compute_factor_contributions\n",
    "from capm_toolkit import compute_residual_returns"
   ],
   "outputs": [],
   "execution_count": 3
  },
  {
   "cell_type": "code",
   "id": "3c8669f9-bcf9-49e5-92b2-52c6e3dad8ea",
   "metadata": {
    "ExecuteTime": {
     "end_time": "2025-06-18T01:21:04.181596Z",
     "start_time": "2025-06-18T01:21:04.151988Z"
    }
   },
   "source": [
    "# Get the important data for the Risk-Free Rate\n",
    "rfr = pd.read_csv(r\"..\\additional_data\\rfr.csv\")\n",
    "rfr = rfr.set_index('Date')\n",
    "rfr.index = pd.to_datetime(rfr.index)\n",
    "rfr.dropna(inplace = True)\n",
    "\n",
    "# Get the important data for the S&P500\n",
    "data_sp500 = pd.read_csv(r'..\\additional_data\\sp500.csv')\n",
    "data_sp500.set_index('Date', inplace=True)\n",
    "data_sp500.index = pd.to_datetime(data_sp500.index)\n",
    "data_sp500 = data_sp500['sp_500']"
   ],
   "outputs": [],
   "execution_count": 6
  },
  {
   "metadata": {
    "ExecuteTime": {
     "end_time": "2025-05-27T19:14:34.796377Z",
     "start_time": "2025-05-27T19:14:34.785269Z"
    }
   },
   "cell_type": "code",
   "source": [
    "# Import Universe\n",
    "# tickers = pd.read_csv(r\"..\\additional_data\\tickers.csv\")\n",
    "# tickers = tickers['tickers']\n",
    "\n",
    "# Download all the data\n",
    "# DataFrame to store everything\n",
    "# df_returns = pd.DataFrame()\n",
    "\n",
    "# for ticker in tickers:\n",
    "#    try:\n",
    "#        df = import_daily_financial_data(\n",
    "#            ticker=ticker, \n",
    "#            start_date='2015-01-01', \n",
    "#            end_date='2025-01-01', \n",
    "#            returns=True\n",
    "#        )\n",
    "#        \n",
    "#        returns = df['returns'].rename(ticker)\n",
    "#        \n",
    "#        df_returns = pd.concat([df_returns, returns], axis=1)\n",
    "#        \n",
    "#        print(f'Data Ready for {ticker}')\n",
    "#        \n",
    "#    except Exception as e:\n",
    "#         print(f'Error reading {ticker}: {e}')"
   ],
   "id": "613c058c639a55c6",
   "execution_count": 8,
   "outputs": []
  },
  {
   "metadata": {
    "ExecuteTime": {
     "end_time": "2025-05-27T19:16:37.366145Z",
     "start_time": "2025-05-27T19:16:37.158483Z"
    }
   },
   "cell_type": "code",
   "source": [
    "# Import Data\n",
    "df_returns = pd.read_csv(r'..\\additional_data\\stocks_returns.csv')\n",
    "df_returns = df_returns.rename(columns={'Unnamed: 0':'Date'})\n",
    "df_returns.set_index('Date', inplace=True)\n",
    "df_returns.index = pd.to_datetime(df_returns.index)\n",
    "\n",
    "df_returns"
   ],
   "id": "8a5aed8b343bfe10",
   "execution_count": 13,
   "outputs": []
  },
  {
   "metadata": {
    "ExecuteTime": {
     "end_time": "2025-05-27T19:17:12.793105Z",
     "start_time": "2025-05-27T19:17:12.785270Z"
    }
   },
   "cell_type": "code",
   "source": "tickers = df_returns.columns",
   "id": "a5e1fad840949637",
   "execution_count": 14,
   "outputs": []
  },
  {
   "cell_type": "code",
   "id": "5dac2b59-1cf0-4c76-8b5c-bd14e8cbcf7e",
   "metadata": {
    "ExecuteTime": {
     "end_time": "2025-05-27T19:32:31.410834Z",
     "start_time": "2025-05-27T19:18:06.891866Z"
    }
   },
   "source": [
    "# Let us get the betas of each stock\n",
    "\n",
    "alphas_dict = {}\n",
    "betas_dict = {}\n",
    "sigma_dict = {}\n",
    "\n",
    "# Create the Loop to Obtain the Betas\n",
    "for ticker in tickers:\n",
    "    df = rolling_capm_regression(\n",
    "        df_returns[ticker], \n",
    "        sp500, \n",
    "        rfr['risk_free_rate']\n",
    "    )\n",
    "    alphas_dict[ticker] = df['alpha']\n",
    "    betas_dict[ticker] = df['beta']\n",
    "    sigma_dict[ticker] = df['sigma']\n",
    "\n",
    "    print(f'{ticker} is ready.')"
   ],
   "execution_count": 17,
   "outputs": []
  },
  {
   "metadata": {
    "ExecuteTime": {
     "end_time": "2025-05-27T19:33:01.729471Z",
     "start_time": "2025-05-27T19:33:01.688215Z"
    }
   },
   "cell_type": "code",
   "source": [
    "# Create Alpha's DataFrame\n",
    "alpha_df = pd.DataFrame.from_dict(alphas_dict)\n",
    "# alpha_df = alpha_df.apply(lambda x: x.fillna(x.mean()), axis=0)\n",
    "\n",
    "alpha_df"
   ],
   "id": "18cbc5e285872243",
   "execution_count": 18,
   "outputs": []
  },
  {
   "metadata": {
    "ExecuteTime": {
     "end_time": "2025-05-27T19:33:04.358872Z",
     "start_time": "2025-05-27T19:33:04.317987Z"
    }
   },
   "cell_type": "code",
   "source": [
    "# Create Beta's DataFrame\n",
    "betas_df = pd.DataFrame.from_dict(betas_dict)\n",
    "# betas_df = betas_df.apply(lambda x: x.fillna(x.mean()), axis=0)\n",
    "\n",
    "betas_df"
   ],
   "id": "996909b2-cdaf-4cdf-9e6a-c56c11ee58eb",
   "execution_count": 19,
   "outputs": []
  },
  {
   "metadata": {
    "ExecuteTime": {
     "end_time": "2025-05-27T19:33:06.309042Z",
     "start_time": "2025-05-27T19:33:06.262308Z"
    }
   },
   "cell_type": "code",
   "source": [
    "# Create the Sigma's DataFrame\n",
    "sigma_df = pd.DataFrame.from_dict(sigma_dict)\n",
    "# sigma_df = sigma_df.apply(lambda x: x.fillna(x.mean()), axis=0)\n",
    "\n",
    "sigma_df"
   ],
   "id": "38c9524d9c21191c",
   "execution_count": 20,
   "outputs": []
  },
  {
   "cell_type": "code",
   "id": "0c50ebfe-bd15-4668-b1b8-e28f69578e4a",
   "metadata": {
    "ExecuteTime": {
     "end_time": "2025-05-27T19:33:10.415600Z",
     "start_time": "2025-05-27T19:33:07.891953Z"
    }
   },
   "source": [
    "# Save the betas\n",
    "\n",
    "alpha_df.to_csv(r\"..\\additional_data\\capm_halpha.csv\")\n",
    "betas_df.to_csv(r\"..\\additional_data\\capm_hbetas.csv\")\n",
    "sigma_df.to_csv(r\"..\\additional_data\\capm_hsigma.csv\")"
   ],
   "execution_count": 21,
   "outputs": []
  },
  {
   "metadata": {
    "ExecuteTime": {
     "end_time": "2025-05-27T19:36:05.866570Z",
     "start_time": "2025-05-27T19:36:05.852382Z"
    }
   },
   "cell_type": "code",
   "source": [
    "# Calculate the Market Excess Returns\n",
    "market_excess_returns = sp500 - rfr['risk_free_rate']\n",
    "\n",
    "market_excess_returns"
   ],
   "id": "5dc18580a4d362f2",
   "execution_count": 28,
   "outputs": []
  },
  {
   "metadata": {
    "ExecuteTime": {
     "end_time": "2025-05-27T19:37:38.473264Z",
     "start_time": "2025-05-27T19:37:38.423506Z"
    }
   },
   "cell_type": "code",
   "source": [
    "# Calculate Stocks Excess Returns\n",
    "df_excess_returns = df_returns.sub(rfr['risk_free_rate'], axis=0)\n",
    "\n",
    "df_excess_returns"
   ],
   "id": "f84418acdec1267b",
   "execution_count": 29,
   "outputs": []
  },
  {
   "cell_type": "code",
   "id": "041d9fed-9f53-4731-835a-954b422604ac",
   "metadata": {
    "ExecuteTime": {
     "end_time": "2025-05-27T19:37:54.788426Z",
     "start_time": "2025-05-27T19:37:54.772574Z"
    }
   },
   "source": [
    "# Common Indexes\n",
    "common_index = df_excess_returns.index.intersection(market_excess_returns.index)\n",
    "\n",
    "# Reindex\n",
    "df_excess_returns, market_excess_returns = (\n",
    "    df_excess_returns.loc[common_index], \n",
    "    market_excess_returns.loc[common_index]\n",
    ")\n",
    "\n",
    "print(df_excess_returns.shape)\n",
    "print(market_excess_returns.shape)"
   ],
   "execution_count": 30,
   "outputs": []
  },
  {
   "cell_type": "code",
   "id": "e74f5f0d-d33a-474b-ae35-7247ed78a4f6",
   "metadata": {
    "ExecuteTime": {
     "end_time": "2025-05-27T19:38:08.871519Z",
     "start_time": "2025-05-27T19:38:07.342613Z"
    }
   },
   "source": [
    "# Set the Window\n",
    "window = len(df_excess_returns)\n",
    "\n",
    "# Create the Betas and Alpha + Residuals DataFrames for the whole time stamp\n",
    "capm_betas_dict = {}\n",
    "\n",
    "# Loop to Obtain Betas and Alpha + Residuals\n",
    "for ticker in df_excess_returns.columns:\n",
    "    \n",
    "    # Fit the WLS model\n",
    "    model = capm_regression(\n",
    "        df_excess_returns[ticker], \n",
    "        market_excess_returns,\n",
    "        window=window,\n",
    "        WLS=True\n",
    "    )\n",
    "\n",
    "    # Extract Alpha and Beta\n",
    "    alpha = model.params.iloc[0]\n",
    "    beta = model.params.iloc[1]\n",
    "\n",
    "    # Store Beta\n",
    "    betas_dict[ticker] = beta\n",
    "\n",
    "# Create Beta Series\n",
    "betas_series = pd.Series(betas_dict)\n",
    "\n",
    "betas_series"
   ],
   "execution_count": 31,
   "outputs": []
  },
  {
   "cell_type": "code",
   "id": "3e657ff5-ff0f-4c58-b24b-814fc0b116c7",
   "metadata": {
    "ExecuteTime": {
     "end_time": "2025-05-27T19:38:11.998183Z",
     "start_time": "2025-05-27T19:38:11.657353Z"
    }
   },
   "source": [
    "# Plot\n",
    "ticker = 'WMT'\n",
    "\n",
    "# Mean\n",
    "mean = betas_df[ticker].mean()\n",
    "\n",
    "# Create the Plot\n",
    "plt.figure(figsize=(10, 6))\n",
    "plt.plot(betas_df[ticker], label=f'{ticker} Beta', color='blue', alpha=0.7)\n",
    "plt.axhline(y=betas_series.loc[ticker], color='red', linestyle='dashed', label=f'{ticker} Historical Beta')\n",
    "plt.axhline(y=mean, color='black', linestyle='dashed', label=f'{ticker} Mean Beta')\n",
    "\n",
    "# Config\n",
    "plt.title('Beta Time Series')\n",
    "plt.xlabel('Time')\n",
    "plt.ylabel('Betas')\n",
    "plt.legend()\n",
    "\n",
    "# Show\n",
    "\n",
    "plt.show()"
   ],
   "execution_count": 32,
   "outputs": []
  },
  {
   "cell_type": "code",
   "id": "e330dbc1-0c1c-4650-963b-7c7724a3c1e8",
   "metadata": {
    "ExecuteTime": {
     "end_time": "2025-05-27T19:38:13.733584Z",
     "start_time": "2025-05-27T19:38:13.722384Z"
    }
   },
   "source": [
    "# Compare Volatility and Betas for each stock\n",
    "\n",
    "annualized_vol = df_returns[ticker].std() * np.sqrt(252)\n",
    "comparison = betas_series.loc[ticker]/annualized_vol\n",
    "\n",
    "print(f'{ticker} Historical Beta is: {betas_series.loc[ticker]}')\n",
    "print(f'{ticker} Historical Annualized Standard Deviation is: {annualized_vol}')\n",
    "print(f'{ticker} Ratio Between Both is: {comparison}')"
   ],
   "execution_count": 33,
   "outputs": []
  },
  {
   "cell_type": "code",
   "id": "97315d13-69d6-4efd-8d5a-cf479197cd15",
   "metadata": {
    "ExecuteTime": {
     "end_time": "2025-05-27T19:38:15.208034Z",
     "start_time": "2025-05-27T19:38:14.906351Z"
    }
   },
   "source": [
    "# Calculate Mean and Standard Deviation\n",
    "mu = betas_series.mean()\n",
    "sigma = betas_series.std()\n",
    "\n",
    "# Create Histogram\n",
    "plt.figure(figsize=(10, 6))\n",
    "plt.hist(betas_series, bins=30, density=True, color='lightskyblue', alpha=0.5, edgecolor='black', label='Betas Distribution')\n",
    "\n",
    "# Generate the Values of the Normal Distribution\n",
    "x = np.linspace(betas_series.min(), betas_series.max(), 100)\n",
    "y = norm.pdf(x, mu, sigma)\n",
    "\n",
    "# Graph the Real Normal Distribution\n",
    "plt.plot(x, y, color='black', linestyle='solid', linewidth=2, label='Normal Distribution')\n",
    "\n",
    "# Reference Lines\n",
    "plt.axvline(x=mu, color='black', linestyle='dashed', label='Mean Returns')\n",
    "plt.axvline(x=betas_series.median(), color='red', linestyle='dashed', label='Median Returns')\n",
    "plt.axvline(x=mu + sigma, color='grey', linestyle='dashed')\n",
    "plt.axvline(x=mu - sigma, color='grey', linestyle='dashed')\n",
    "\n",
    "# Config\n",
    "plt.title('Betas Histogram with Normal Distribution')\n",
    "plt.xlabel('Return')\n",
    "plt.ylabel('Density')\n",
    "\n",
    "# Legends and Grid\n",
    "plt.legend()\n",
    "plt.grid(True)\n",
    "\n",
    "# Show\n",
    "plt.show()"
   ],
   "execution_count": 34,
   "outputs": []
  },
  {
   "metadata": {},
   "cell_type": "markdown",
   "source": "### Comparing Residuals ###",
   "id": "2fad1d441bf33ce4"
  },
  {
   "metadata": {
    "ExecuteTime": {
     "end_time": "2025-05-27T19:41:38.529367Z",
     "start_time": "2025-05-27T19:41:38.502649Z"
    }
   },
   "cell_type": "code",
   "source": [
    "# Compute Residuals in the Alternative Way\n",
    "\n",
    "stock = 'WMT'\n",
    "\n",
    "# Common Index\n",
    "common_index = df_excess_returns.index.intersection(betas_df.index).intersection(alpha_df.index).intersection(market_excess_returns.index)\n",
    "\n",
    "# Cut DataFrames\n",
    "r_i = df_excess_returns[stock].loc[common_index]\n",
    "beta = betas_df[stock].loc[common_index]\n",
    "r_m = market_excess_returns.loc[common_index]\n",
    "\n",
    "# Calculate factor returns\n",
    "r_f = compute_factor_contributions(r_m, beta)\n",
    "\n",
    "# Calculate residual returns\n",
    "residual_returns = compute_residual_returns(r_i, r_m, beta)\n",
    "residual_returns.name = 'residual_returns'\n",
    "\n",
    "residual_returns"
   ],
   "id": "841350dfbaf1fd14",
   "execution_count": 42,
   "outputs": []
  },
  {
   "metadata": {
    "ExecuteTime": {
     "end_time": "2025-05-27T19:41:39.578465Z",
     "start_time": "2025-05-27T19:41:39.282134Z"
    }
   },
   "cell_type": "code",
   "source": [
    "# Create the Plot\n",
    "plt.figure(figsize=(10, 6))\n",
    "plt.plot(r_i.cumsum(), label=f'{stock} Returns', alpha=0.7)\n",
    "plt.plot(r_f.cumsum(), label=f'{stock} Factor Returns', alpha=0.7)\n",
    "plt.plot(residual_returns.cumsum(), label=f'{stock} Residual Returns', alpha=0.7)\n",
    "plt.axhline(y=0, color='black', linestyle='dashed')\n",
    "\n",
    "# Config\n",
    "plt.title('Returns Time Series')\n",
    "plt.xlabel('Time')\n",
    "plt.ylabel('Returns')\n",
    "plt.legend()\n",
    "\n",
    "# Show\n",
    "plt.show()"
   ],
   "id": "2b436f93-37d3-4ceb-b2dc-3507273565b3",
   "execution_count": 43,
   "outputs": []
  },
  {
   "metadata": {},
   "cell_type": "markdown",
   "source": "The method using the rolling betas adds so much noise to the calculation of the residual returns, especially because sometimes the alpha coefficient has a bias. So we prefer to use the residuals of the whole time stamp regression.",
   "id": "d51988e089ae52ae"
  },
  {
   "metadata": {
    "ExecuteTime": {
     "end_time": "2025-05-27T19:39:01.756338Z",
     "start_time": "2025-05-27T19:39:01.750346Z"
    }
   },
   "cell_type": "code",
   "source": [
    "print(df_excess_returns.shape)\n",
    "print(market_excess_returns.shape)\n",
    "print(betas_df.shape)"
   ],
   "id": "b938c9d385077a50",
   "execution_count": 37,
   "outputs": []
  },
  {
   "metadata": {
    "ExecuteTime": {
     "end_time": "2025-05-27T19:39:33.093335Z",
     "start_time": "2025-05-27T19:39:32.680354Z"
    }
   },
   "cell_type": "code",
   "source": [
    "# Calculate the Residual Returns for every stock\n",
    "residual_returns_dict = {}\n",
    "\n",
    "# Create the Loop to Obtain the Betas\n",
    "for ticker in tickers:\n",
    "    df = compute_residual_returns(\n",
    "        df_excess_returns[ticker].loc[common_index], \n",
    "        market_excess_returns.loc[common_index],\n",
    "        betas_df[ticker]\n",
    "    )\n",
    "    \n",
    "    residual_returns_dict[ticker] = df\n",
    "\n",
    "# Create the DataFrame\n",
    "df_residual_returns = pd.DataFrame.from_dict(residual_returns_dict)\n",
    "\n",
    "df_residual_returns['NVDA']"
   ],
   "id": "5aaa9dff2390fb9a",
   "execution_count": 38,
   "outputs": []
  },
  {
   "metadata": {
    "ExecuteTime": {
     "end_time": "2025-05-27T19:39:46.170055Z",
     "start_time": "2025-05-27T19:39:44.672594Z"
    }
   },
   "cell_type": "code",
   "source": [
    "# Save the data\n",
    "betas_series.to_csv(r\"..\\additional_data\\capm_sbetas.csv\")\n",
    "df_residual_returns.to_csv(r\"..\\additional_data\\capm_residual_returns.csv\")"
   ],
   "id": "fbc21f71-4e3d-4f91-9269-16283787cc99",
   "execution_count": 39,
   "outputs": []
  },
  {
   "metadata": {},
   "cell_type": "code",
   "execution_count": null,
   "source": "",
   "id": "eb3bf2c5442e6abb",
   "outputs": []
  }
 ],
 "metadata": {
  "kernelspec": {
   "display_name": "Python 3 (ipykernel)",
   "language": "python",
   "name": "python3"
  },
  "language_info": {
   "codemirror_mode": {
    "name": "ipython",
    "version": 3
   },
   "file_extension": ".py",
   "mimetype": "text/x-python",
   "name": "python",
   "nbconvert_exporter": "python",
   "pygments_lexer": "ipython3",
   "version": "3.11.7"
  }
 },
 "nbformat": 4,
 "nbformat_minor": 5
}
