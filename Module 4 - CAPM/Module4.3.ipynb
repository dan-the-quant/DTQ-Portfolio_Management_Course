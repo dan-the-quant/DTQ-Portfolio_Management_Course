{
 "cells": [
  {
   "cell_type": "markdown",
   "id": "acddd5ea-9767-435a-ae90-caff1c63c8d0",
   "metadata": {},
   "source": [
    "# ICAMP Model (Merton, 1973) #\n",
    "\n",
    "### Adding a Hedge Portfolio to the CAPM model ###"
   ]
  },
  {
   "cell_type": "code",
   "id": "44fbde4d-015e-4c95-a739-735ee8cf760f",
   "metadata": {
    "ExecuteTime": {
     "end_time": "2025-04-19T00:40:21.833522Z",
     "start_time": "2025-04-19T00:40:20.285801Z"
    }
   },
   "source": [
    "# Import Libraries\n",
    "\n",
    "# Data Management\n",
    "import pandas as pd\n",
    "\n",
    "# Plots\n",
    "import matplotlib.pyplot as plt\n",
    "\n",
    "# Statistics\n",
    "import statsmodels.api as sm\n",
    "\n",
    "# Handle Files\n",
    "import sys\n",
    "import os\n",
    "\n",
    "# Import Local Functions\n",
    "sys.path.append(os.path.abspath(\"../source\"))\n",
    "from functions import import_financial_data\n",
    "from capm_toolkit import wexp\n",
    "from capm_toolkit import compute_factor_contributions\n",
    "from capm_toolkit import compute_residual_returns\n",
    "\n",
    "# Pretty Notation\n",
    "from IPython.display import display, Math"
   ],
   "execution_count": 1,
   "outputs": []
  },
  {
   "cell_type": "code",
   "id": "10a1fc9d-639b-4d5e-a8ba-1fa3cd174293",
   "metadata": {
    "ExecuteTime": {
     "end_time": "2025-04-19T00:40:21.885814Z",
     "start_time": "2025-04-19T00:40:21.835067Z"
    }
   },
   "source": [
    "# Import Data\n",
    "ticker = 'AAPL'\n",
    "\n",
    "# Stock Data (Adjust Ticker)\n",
    "df_stock = import_financial_data(ticker)\n",
    "\n",
    "# Get the important data for the Risk Free Rate\n",
    "rfr = pd.read_csv(r\"..\\additional_data\\rfr.csv\")\n",
    "rfr = rfr.set_index('Date')\n",
    "rfr.index = pd.to_datetime(rfr.index, dayfirst=True)\n",
    "rfr.dropna(inplace = True)\n",
    "\n",
    "# Get the important data for the S&P500\n",
    "sp500 = pd.read_csv(r\"..\\additional_data\\sp500.csv\")\n",
    "sp500 = sp500.set_index('Date')\n",
    "sp500.index = pd.to_datetime(sp500.index)\n",
    "\n",
    "# Get the important data for the Zero Beta Portfolio\n",
    "zero_beta = pd.read_csv(r\"..\\additional_data\\zero_beta_portfolio.csv\")\n",
    "zero_beta = zero_beta.set_index('Date')\n",
    "zero_beta.index = pd.to_datetime(zero_beta.index)"
   ],
   "execution_count": 2,
   "outputs": []
  },
  {
   "cell_type": "code",
   "id": "4d59a11c-f982-4755-9ba9-4b70fe4be509",
   "metadata": {
    "ExecuteTime": {
     "end_time": "2025-04-19T00:40:21.905870Z",
     "start_time": "2025-04-19T00:40:21.887110Z"
    }
   },
   "source": [
    "# Create the DataFrame\n",
    "data = pd.DataFrame()\n",
    "\n",
    "# Create the Columns\n",
    "data['stock_returns'] = df_stock['adj_close'].pct_change(1)\n",
    "data['risk_free_rate'] = (((1 + (rfr['risk_free_rate'].div(100)))**(1/360)) - 1)\n",
    "data['benchmark_returns'] = sp500['sp_500'].pct_change(1)\n",
    "data['zero_beta_returns'] = zero_beta\n",
    "\n",
    "# Create the Excess Returns\n",
    "data['stock_excess_returns'] = data['stock_returns'] - data['risk_free_rate']\n",
    "data['benchmark_excess_returns'] = data['benchmark_returns'] - data['risk_free_rate']\n",
    "data['hedge_port_excess_returns'] = data['zero_beta_returns'] - data['risk_free_rate']\n",
    "\n",
    "data.dropna(inplace = True)\n",
    "data"
   ],
   "execution_count": 3,
   "outputs": []
  },
  {
   "cell_type": "code",
   "id": "3fa47577-a09a-49e9-bc94-4ac61b82bec5",
   "metadata": {
    "ExecuteTime": {
     "end_time": "2025-04-19T00:40:21.916379Z",
     "start_time": "2025-04-19T00:40:21.907379Z"
    }
   },
   "source": [
    "# Check Correlations Matrix\n",
    "\n",
    "data[['stock_excess_returns', 'benchmark_excess_returns', 'hedge_port_excess_returns']].corr()"
   ],
   "execution_count": 4,
   "outputs": []
  },
  {
   "metadata": {
    "ExecuteTime": {
     "end_time": "2025-04-19T00:40:22.132392Z",
     "start_time": "2025-04-19T00:40:21.917383Z"
    }
   },
   "cell_type": "code",
   "source": [
    "# Create Plot\n",
    "\n",
    "plt.figure(figsize=(10, 6))\n",
    "plt.plot(data[['stock_excess_returns', 'benchmark_excess_returns', 'hedge_port_excess_returns']].cumsum(), label=data[['stock_excess_returns', 'benchmark_excess_returns', 'hedge_port_excess_returns']].columns, alpha=0.7)\n",
    "\n",
    "# Config\n",
    "plt.title('Returns Time Series')\n",
    "plt.xlabel('Time')\n",
    "plt.ylabel('Returns')\n",
    "plt.legend()\n",
    "plt.grid()\n",
    "\n",
    "# Show\n",
    "plt.show()"
   ],
   "id": "8332b7558f9fdefb",
   "execution_count": 5,
   "outputs": []
  },
  {
   "cell_type": "code",
   "id": "5824336a-be91-4eaa-b548-7b5f445d2373",
   "metadata": {
    "ExecuteTime": {
     "end_time": "2025-04-19T00:40:22.149715Z",
     "start_time": "2025-04-19T00:40:22.133901Z"
    }
   },
   "source": [
    "# Calculate the ICAPM with the whole time stamp\n",
    "\n",
    "y = data['stock_excess_returns']\n",
    "\n",
    "x = data[['benchmark_excess_returns', 'hedge_port_excess_returns']]\n",
    "x = sm.add_constant(x)\n",
    "\n",
    "# Calculate Weights\n",
    "window = len(y)\n",
    "weights = window * wexp(window, window/2)\n",
    "\n",
    "#Model specification\n",
    "model = sm.WLS(\n",
    "    y, \n",
    "    x,\n",
    "    missing='drop',\n",
    "    weights=weights,\n",
    "    )   \n",
    "     \n",
    "#the results of the model\n",
    "results = model.fit() \n",
    "    \n",
    "#here we check the summary\n",
    "print(results.summary())   "
   ],
   "execution_count": 6,
   "outputs": []
  },
  {
   "cell_type": "code",
   "id": "42cc2aae-d2b0-4734-bee1-566e024c07bd",
   "metadata": {
    "ExecuteTime": {
     "end_time": "2025-04-19T00:40:25.571421Z",
     "start_time": "2025-04-19T00:40:22.150720Z"
    }
   },
   "source": [
    "# Set rolling window size\n",
    "window = 252\n",
    "weights = window * wexp(window, window/2)\n",
    "\n",
    "# Lists to store rolling coefficients\n",
    "betas = []\n",
    "index = []\n",
    "lower_bounds = []\n",
    "upper_bounds = []\n",
    "\n",
    "# Rolling regression\n",
    "for i in range(window, len(data)):\n",
    "    Y_window = y.iloc[i - window:i]\n",
    "    X_window = x.iloc[i - window:i]\n",
    "    \n",
    "    X_window = sm.add_constant(X_window)\n",
    "\n",
    "    # Fit WLS model\n",
    "    model = sm.WLS(\n",
    "        Y_window, \n",
    "        X_window, \n",
    "        missing='drop', \n",
    "        weights=weights,\n",
    "    ).fit()\n",
    "\n",
    "    # Store coefficients (const, X1, X2)\n",
    "    betas.append(model.params.values)\n",
    "    index.append(data.index[i])  # Use the last date of the window\n",
    "\n",
    "    # Store lower and upper bounds of 95% confidence intervals\n",
    "    ci = model.conf_int(alpha=0.05)  # 95% CI\n",
    "    lower_bounds.append(ci.iloc[:, 0].values)  # First column: lower bound\n",
    "    upper_bounds.append(ci.iloc[:, 1].values)  # Second column: upper bound\n"
   ],
   "execution_count": 7,
   "outputs": []
  },
  {
   "cell_type": "code",
   "id": "41fc9766-f7cf-4d66-a3f1-790a6161edd4",
   "metadata": {
    "ExecuteTime": {
     "end_time": "2025-04-19T00:40:25.585930Z",
     "start_time": "2025-04-19T00:40:25.571925Z"
    }
   },
   "source": [
    "# Convert list of coefficients to DataFrame\n",
    "betas_df = pd.DataFrame(betas, columns=x.columns, index=index)\n",
    "\n",
    "betas_df"
   ],
   "execution_count": 8,
   "outputs": []
  },
  {
   "cell_type": "code",
   "id": "438f10ee-d6a2-48dc-9289-de349a52ddc6",
   "metadata": {
    "ExecuteTime": {
     "end_time": "2025-04-19T00:40:25.601677Z",
     "start_time": "2025-04-19T00:40:25.586936Z"
    }
   },
   "source": [
    "# Lower bounds DataFrame\n",
    "lower_df = pd.DataFrame(lower_bounds, columns=[f'{col}_lower' for col in x.columns], index=index)\n",
    "\n",
    "lower_df"
   ],
   "execution_count": 9,
   "outputs": []
  },
  {
   "cell_type": "code",
   "id": "4af840f9-491b-4411-b48b-64776d079fae",
   "metadata": {
    "ExecuteTime": {
     "end_time": "2025-04-19T00:40:25.617835Z",
     "start_time": "2025-04-19T00:40:25.602682Z"
    }
   },
   "source": [
    "# Upper bounds DataFrame\n",
    "upper_df = pd.DataFrame(upper_bounds, columns=[f'{col}_upper' for col in x.columns], index=index)\n",
    "\n",
    "upper_df"
   ],
   "execution_count": 10,
   "outputs": []
  },
  {
   "cell_type": "code",
   "id": "785d0cf3-39f4-4db9-9a3b-fbba9de2323c",
   "metadata": {
    "ExecuteTime": {
     "end_time": "2025-04-19T00:40:25.760781Z",
     "start_time": "2025-04-19T00:40:25.618931Z"
    }
   },
   "source": [
    "# Create Plot\n",
    "\n",
    "plt.figure(figsize=(10, 6))\n",
    "plt.plot(betas_df['benchmark_excess_returns'], label='Market Beta', color='orange', alpha=0.7)\n",
    "plt.plot(betas_df['hedge_port_excess_returns'], label='Hedge Portfolio Beta', color='blue', alpha=0.7)\n",
    "# plt.plot(betas_df['const'], label='Alpha', color='green', alpha=0.7)\n",
    "\n",
    "# Config\n",
    "plt.title('Beta vs Beta Time Series')\n",
    "plt.xlabel('Time')\n",
    "plt.ylabel('Betas')\n",
    "plt.legend()\n",
    "\n",
    "# Show\n",
    "plt.show()"
   ],
   "execution_count": 11,
   "outputs": []
  },
  {
   "cell_type": "code",
   "id": "d4be695c-e962-41b9-a526-ff0b58101c59",
   "metadata": {
    "ExecuteTime": {
     "end_time": "2025-04-19T00:40:26.059113Z",
     "start_time": "2025-04-19T00:40:25.761789Z"
    }
   },
   "source": [
    "# Create Figure\n",
    "fig, ax1 = plt.subplots(dpi = 300)\n",
    "\n",
    "# Market Beta\n",
    "betas_df['benchmark_excess_returns'].plot(color = 'blue', ax = ax1, alpha=0.7)\n",
    "ax1.set_xlabel('Date')\n",
    "ax1.set_ylabel(\n",
    "    'Market Beta', \n",
    "    color='blue'\n",
    "    )\n",
    "\n",
    "# Hedge Portfolio Beta\n",
    "ax2 = ax1.twinx()\n",
    "\n",
    "betas_df['hedge_port_excess_returns'].plot(color = 'orange', ax = ax2, alpha=0.7)\n",
    "ax2.set_ylabel(\n",
    "    'Hedge Portfolio Beta', \n",
    "    color='orange'\n",
    "    )\n",
    "\n",
    "plt.title('Beta vs Beta Time Series')\n",
    "plt.show()"
   ],
   "execution_count": 12,
   "outputs": []
  },
  {
   "cell_type": "code",
   "id": "f3d15b0c-efab-4859-b02a-344907119b82",
   "metadata": {
    "ExecuteTime": {
     "end_time": "2025-04-19T00:40:26.217212Z",
     "start_time": "2025-04-19T00:40:26.061121Z"
    }
   },
   "source": [
    "# Create Plot\n",
    "\n",
    "plt.figure(figsize=(10, 6))\n",
    "plt.plot(betas_df['benchmark_excess_returns'], label='Market Beta', color='black', alpha=0.7)\n",
    "plt.fill_between(upper_df.index, lower_df['benchmark_excess_returns_lower'], upper_df['benchmark_excess_returns_upper'], color='skyblue', alpha=0.2, label='95% CI')\n",
    "\n",
    "# Config\n",
    "plt.title('Market Beta Time Series')\n",
    "plt.xlabel('Time')\n",
    "plt.ylabel('Betas')\n",
    "plt.legend()\n",
    "\n",
    "# Show\n",
    "plt.show()"
   ],
   "execution_count": 13,
   "outputs": []
  },
  {
   "cell_type": "code",
   "id": "bdc3ad8e-d1fd-4604-b2d4-54e847ea1db4",
   "metadata": {
    "ExecuteTime": {
     "end_time": "2025-04-19T00:40:26.372069Z",
     "start_time": "2025-04-19T00:40:26.219704Z"
    }
   },
   "source": [
    "# Create Plot\n",
    "\n",
    "plt.figure(figsize=(10, 6))\n",
    "plt.plot(betas_df['hedge_port_excess_returns'], label='Hedge Portfolio Beta', color='black', alpha=0.7)\n",
    "plt.fill_between(upper_df.index, lower_df['hedge_port_excess_returns_lower'], upper_df['hedge_port_excess_returns_upper'], color='peachpuff', alpha=0.5, label='95% CI')\n",
    "plt.axhline(y=0, color='black', linestyle='dashed')\n",
    "\n",
    "# Config\n",
    "plt.title('Hedge Portfolio Beta Time Series')\n",
    "plt.xlabel('Time')\n",
    "plt.ylabel('Betas')\n",
    "plt.legend()\n",
    "\n",
    "# Show\n",
    "plt.show()"
   ],
   "execution_count": 14,
   "outputs": []
  },
  {
   "metadata": {
    "ExecuteTime": {
     "end_time": "2025-04-19T00:40:26.392047Z",
     "start_time": "2025-04-19T00:40:26.373581Z"
    }
   },
   "cell_type": "code",
   "source": [
    "hedge_beta_bounds_df = pd.DataFrame(index=betas_df.index)\n",
    "hedge_beta_bounds_df['beta'] = betas_df['hedge_port_excess_returns']\n",
    "hedge_beta_bounds_df['lower'] = lower_df['hedge_port_excess_returns_lower']\n",
    "hedge_beta_bounds_df['upper'] = upper_df['hedge_port_excess_returns_upper']\n",
    "hedge_beta_bounds_df['real_beta'] = hedge_beta_bounds_df.apply(\n",
    "    lambda row: row['beta'] if (row['lower'] > 0 or row['upper'] < 0) else 0,\n",
    "    axis=1\n",
    ")"
   ],
   "id": "ad4eac97a044f117",
   "execution_count": 15,
   "outputs": []
  },
  {
   "metadata": {
    "ExecuteTime": {
     "end_time": "2025-04-19T00:40:26.523829Z",
     "start_time": "2025-04-19T00:40:26.393054Z"
    }
   },
   "cell_type": "code",
   "source": [
    "plt.figure(figsize=(10, 6))\n",
    "plt.plot(hedge_beta_bounds_df['real_beta'], label='Hedge Portfolio Beta', color='black', alpha=0.7)\n",
    "\n",
    "# Config\n",
    "plt.title('Hedge Portfolio Beta Time Series')\n",
    "plt.xlabel('Time')\n",
    "plt.ylabel('Betas')\n",
    "plt.legend()\n",
    "\n",
    "# Show\n",
    "plt.show()"
   ],
   "id": "82e890e5f2d2e916",
   "execution_count": 16,
   "outputs": []
  },
  {
   "cell_type": "markdown",
   "id": "a6d67c53-39f0-455e-924d-7d9e182b6bbc",
   "metadata": {},
   "source": [
    "### Adding Constrains to the Model ###"
   ]
  },
  {
   "cell_type": "code",
   "id": "f050a40f-7b1f-4800-a68c-b65eabe4df8c",
   "metadata": {
    "ExecuteTime": {
     "end_time": "2025-04-19T00:40:26.529478Z",
     "start_time": "2025-04-19T00:40:26.524835Z"
    }
   },
   "source": [
    "# Remembering the Form of the Constrained OLS\n",
    "\n",
    "display(Math(r\"\\beta=(X^⊤X)^{-1}(X^⊤Y)-P\"))\n",
    "display(Math(r\"P=\\frac{R^⊤(X^⊤X)^{-1}(X^⊤Y)-q}{R^⊤(X^⊤X)^{-1}R}(X^⊤X)^{-1}R\"))"
   ],
   "execution_count": 17,
   "outputs": []
  },
  {
   "cell_type": "code",
   "id": "274d8f8f-9217-41d4-bc89-9f88fe015772",
   "metadata": {
    "ExecuteTime": {
     "end_time": "2025-04-19T00:40:26.536833Z",
     "start_time": "2025-04-19T00:40:26.530485Z"
    }
   },
   "source": [
    "#Show the betas\n",
    "\n",
    "model_betas = results.params\n",
    "\n",
    "model_betas"
   ],
   "execution_count": 18,
   "outputs": []
  },
  {
   "cell_type": "code",
   "id": "29558f5b-89fc-4765-a566-9e57f93d3866",
   "metadata": {
    "ExecuteTime": {
     "end_time": "2025-04-19T00:40:26.603067Z",
     "start_time": "2025-04-19T00:40:26.538840Z"
    }
   },
   "source": [
    "# Make the Models using GLM\n",
    "OLS_from_GLM = sm.GLM(y, x)\n",
    "\n",
    "result_c = OLS_from_GLM.fit_constrained('benchmark_excess_returns + hedge_port_excess_returns = 1')\n",
    "\n",
    "#here we check the summary\n",
    "print(result_c.summary())   "
   ],
   "execution_count": 19,
   "outputs": []
  },
  {
   "metadata": {
    "ExecuteTime": {
     "end_time": "2025-04-19T00:40:26.620984Z",
     "start_time": "2025-04-19T00:40:26.604073Z"
    }
   },
   "cell_type": "code",
   "source": [
    "# Create the Residual Returns DF\n",
    "\n",
    "icapm_returns_df = pd.DataFrame(index=betas_df.index)\n",
    "\n",
    "icapm_returns_df['stock_excess_returns'] = data['stock_excess_returns']\n",
    "icapm_returns_df['benchmark_excess_returns'] = data['benchmark_excess_returns']\n",
    "icapm_returns_df['hedge_port_excess_returns'] = data['hedge_port_excess_returns']\n",
    "\n",
    "icapm_returns_df['factor_market_returns'] = compute_factor_contributions(\n",
    "    icapm_returns_df['benchmark_excess_returns'],\n",
    "    betas_df['benchmark_excess_returns'],\n",
    ")\n",
    "icapm_returns_df['factor_hedge_returns'] = compute_factor_contributions(\n",
    "    icapm_returns_df['hedge_port_excess_returns'],\n",
    "    betas_df['hedge_port_excess_returns'],\n",
    ")\n",
    "\n",
    "icapm_returns_df['residual_returns'] = compute_residual_returns(\n",
    "    icapm_returns_df['stock_excess_returns'],\n",
    "    icapm_returns_df[['benchmark_excess_returns', 'hedge_port_excess_returns']],\n",
    "    betas_df[['benchmark_excess_returns', 'hedge_port_excess_returns']],\n",
    ")\n",
    "\n",
    "icapm_returns_df['model_returns'] = icapm_returns_df['factor_market_returns'] + icapm_returns_df['factor_hedge_returns']\n",
    "\n",
    "icapm_returns_df"
   ],
   "id": "19762aba7c06dd5a",
   "execution_count": 20,
   "outputs": []
  },
  {
   "metadata": {
    "ExecuteTime": {
     "end_time": "2025-04-19T00:40:34.409030Z",
     "start_time": "2025-04-19T00:40:34.261737Z"
    }
   },
   "cell_type": "code",
   "source": [
    "# Create Plot\n",
    "\n",
    "plt.figure(figsize=(10, 6))\n",
    "plt.plot(icapm_returns_df['stock_excess_returns'].cumsum(), label='Stock Returns', alpha=1)\n",
    "plt.plot(icapm_returns_df['factor_market_returns'].cumsum(), label='Market Returns', alpha=1)\n",
    "plt.plot(icapm_returns_df['factor_hedge_returns'].cumsum(), label='Hedge Returns', alpha=1)\n",
    "plt.plot(icapm_returns_df['residual_returns'].cumsum(), label='Residual Returns', alpha=1)\n",
    "plt.axhline(y=0, color='black', linestyle='dashed')\n",
    "\n",
    "# Config\n",
    "plt.title('Returns Time Series')\n",
    "plt.xlabel('Time')\n",
    "plt.ylabel('Returns')\n",
    "plt.legend()\n",
    "\n",
    "# Show\n",
    "plt.show()"
   ],
   "id": "77bdb13dc865f97e",
   "execution_count": 22,
   "outputs": []
  },
  {
   "metadata": {
    "ExecuteTime": {
     "end_time": "2025-04-19T00:40:26.786025Z",
     "start_time": "2025-04-19T00:40:26.782511Z"
    }
   },
   "cell_type": "code",
   "source": "",
   "id": "6068e811bbc8e00f",
   "execution_count": 21,
   "outputs": []
  }
 ],
 "metadata": {
  "kernelspec": {
   "display_name": "Python 3 (ipykernel)",
   "language": "python",
   "name": "python3"
  },
  "language_info": {
   "codemirror_mode": {
    "name": "ipython",
    "version": 3
   },
   "file_extension": ".py",
   "mimetype": "text/x-python",
   "name": "python",
   "nbconvert_exporter": "python",
   "pygments_lexer": "ipython3",
   "version": "3.11.7"
  }
 },
 "nbformat": 4,
 "nbformat_minor": 5
}
