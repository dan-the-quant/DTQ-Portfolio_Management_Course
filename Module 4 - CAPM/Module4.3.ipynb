{
 "cells": [
  {
   "cell_type": "markdown",
   "id": "acddd5ea-9767-435a-ae90-caff1c63c8d0",
   "metadata": {},
   "source": [
    "# ICAMP Model (Merton, 1973) #\n",
    "\n",
    "### Adding a Hedge Portfolio to the CAPM model ###"
   ]
  },
  {
   "cell_type": "code",
   "execution_count": 315,
   "id": "44fbde4d-015e-4c95-a739-735ee8cf760f",
   "metadata": {},
   "source": [
    "# Import Libraries\n",
    "\n",
    "# Data Management\n",
    "import pandas as pd\n",
    "import numpy as np\n",
    "\n",
    "# Plots\n",
    "import matplotlib.pyplot as plt\n",
    "\n",
    "# Statistics\n",
    "import statsmodels\n",
    "import statsmodels.api as sm\n",
    "from arch import arch_model\n",
    "\n",
    "# Pretty Notation\n",
    "from IPython.display import display, Math"
   ],
   "outputs": []
  },
  {
   "cell_type": "code",
   "execution_count": 316,
   "id": "ee6aa040-b5e0-4c98-a470-4305f27d748f",
   "metadata": {},
   "source": [
    "# Create the Weights function\n",
    "def wexp(N, half_life):\n",
    "    c = np.log(0.5)/half_life\n",
    "    n = np.array(range(N))\n",
    "    w = np.exp(c*n)\n",
    "    return np.flip(w/np.sum(w))"
   ],
   "outputs": []
  },
  {
   "cell_type": "code",
   "execution_count": 317,
   "id": "10a1fc9d-639b-4d5e-a8ba-1fa3cd174293",
   "metadata": {},
   "source": [
    "# Import Data\n",
    "ticker = 'AAPL'\n",
    "\n",
    "# Stock Data (Adjust Ticker)\n",
    "df_stock = pd.read_csv(rf\"..\\stocks\\{ticker}.csv\")\n",
    "df_stock = df_stock.set_index('Date')\n",
    "df_stock.index = pd.to_datetime(df_stock.index)\n",
    "\n",
    "# Get the important data for the Risk Free Rate\n",
    "rfr = pd.read_csv(r\"..\\additional_data\\rfr.csv\")\n",
    "rfr = rfr.set_index('Date')\n",
    "rfr.index = pd.to_datetime(rfr.index, dayfirst=True)\n",
    "rfr.dropna(inplace = True)\n",
    "\n",
    "# Get the important data for the S&P500\n",
    "sp500 = pd.read_csv(r\"..\\additional_data\\sp500.csv\")\n",
    "sp500 = sp500.set_index('Date')\n",
    "sp500.index = pd.to_datetime(sp500.index)\n",
    "\n",
    "# Get the important data for the Zero Beta Portfolio\n",
    "zero_beta = pd.read_csv(r\"..\\additional_data\\zero_beta.csv\")\n",
    "zero_beta = zero_beta.set_index('Date')\n",
    "zero_beta.index = pd.to_datetime(zero_beta.index)"
   ],
   "outputs": []
  },
  {
   "cell_type": "code",
   "execution_count": 318,
   "id": "4d59a11c-f982-4755-9ba9-4b70fe4be509",
   "metadata": {},
   "source": [
    "# Create the DataFrame\n",
    "data = pd.DataFrame()\n",
    "\n",
    "# Create the Columns\n",
    "data['stock_returns'] = df_stock['Adjusted_close'].pct_change(1)\n",
    "data['risk_free_rate'] = (((1 + (rfr['risk_free_rate'].div(100)))**(1/360)) - 1)\n",
    "data['benchmark_returns'] = sp500['sp_500'].pct_change(1)\n",
    "data['zero_beta_returns'] = zero_beta\n",
    "\n",
    "# Create the Excess Returns\n",
    "data['stock_excess_returns'] = data['stock_returns'] - data['risk_free_rate']\n",
    "data['benchmark_excess_returns'] = data['benchmark_returns'] - data['risk_free_rate']\n",
    "data['hedge_port_excess_returns'] = data['zero_beta_returns'] - data['risk_free_rate']\n",
    "\n",
    "# Multiply by 100\n",
    "data = data.mul(100)\n",
    "\n",
    "data.dropna(inplace = True)\n",
    "data"
   ],
   "outputs": []
  },
  {
   "cell_type": "code",
   "execution_count": 319,
   "id": "3fa47577-a09a-49e9-bc94-4ac61b82bec5",
   "metadata": {},
   "source": [
    "# Check Correlations Matrix\n",
    "\n",
    "data[['stock_excess_returns', 'benchmark_excess_returns', 'hedge_port_excess_returns']].corr()"
   ],
   "outputs": []
  },
  {
   "cell_type": "code",
   "execution_count": 320,
   "id": "5824336a-be91-4eaa-b548-7b5f445d2373",
   "metadata": {},
   "source": [
    "# Calculate the ICAPM with the whole time stamp\n",
    "\n",
    "y = data['stock_excess_returns']\n",
    "\n",
    "x = data[['benchmark_excess_returns', 'hedge_port_excess_returns']]\n",
    "x = sm.add_constant(x)\n",
    "\n",
    "# Calculate Weights\n",
    "window = len(y)\n",
    "weights = window * wexp(window, window/2)\n",
    "\n",
    "#Model specification\n",
    "model = sm.WLS(\n",
    "    y, \n",
    "    x,\n",
    "    missing='drop',\n",
    "    weights=weights,\n",
    "    )   \n",
    "     \n",
    "#the results of the model\n",
    "results = model.fit() \n",
    "    \n",
    "#here we check the summary\n",
    "print(results.summary())   "
   ],
   "outputs": []
  },
  {
   "cell_type": "code",
   "execution_count": 321,
   "id": "42cc2aae-d2b0-4734-bee1-566e024c07bd",
   "metadata": {},
   "source": [
    "# Set rolling window size\n",
    "window = 252\n",
    "weights = window * wexp(window, window/2)\n",
    "\n",
    "# Lists to store rolling coefficients\n",
    "betas = []\n",
    "index = []\n",
    "lower_bounds = []\n",
    "upper_bounds = []\n",
    "\n",
    "# Rolling regression\n",
    "for i in range(window, len(data)):\n",
    "    Y_window = y.iloc[i - window:i]\n",
    "    X_window = x.iloc[i - window:i]\n",
    "    \n",
    "    X_window = sm.add_constant(X_window)\n",
    "\n",
    "    # Fit WLS model\n",
    "    model = sm.WLS(\n",
    "        Y_window, \n",
    "        X_window, \n",
    "        missing='drop', \n",
    "        weights=weights,\n",
    "    ).fit()\n",
    "\n",
    "    # Store coefficients (const, X1, X2)\n",
    "    betas.append(model.params.values)\n",
    "    index.append(data.index[i])  # Use the last date of the window\n",
    "\n",
    "    # Store lower and upper bounds of 95% confidence intervals\n",
    "    ci = model.conf_int(alpha=0.05)  # 95% CI\n",
    "    lower_bounds.append(ci.iloc[:, 0].values)  # First column: lower bound\n",
    "    upper_bounds.append(ci.iloc[:, 1].values)  # Second column: upper bound\n"
   ],
   "outputs": []
  },
  {
   "cell_type": "code",
   "execution_count": 322,
   "id": "41fc9766-f7cf-4d66-a3f1-790a6161edd4",
   "metadata": {},
   "source": [
    "# Convert list of coefficients to DataFrame\n",
    "betas_df = pd.DataFrame(betas, columns=x.columns, index=index)\n",
    "\n",
    "betas_df"
   ],
   "outputs": []
  },
  {
   "cell_type": "code",
   "execution_count": 323,
   "id": "438f10ee-d6a2-48dc-9289-de349a52ddc6",
   "metadata": {},
   "source": [
    "# Lower bounds DataFrame\n",
    "lower_df = pd.DataFrame(lower_bounds, columns=[f'{col}_lower' for col in x.columns], index=index)\n",
    "\n",
    "lower_df"
   ],
   "outputs": []
  },
  {
   "cell_type": "code",
   "execution_count": 324,
   "id": "4af840f9-491b-4411-b48b-64776d079fae",
   "metadata": {},
   "source": [
    "# Upper bounds DataFrame\n",
    "upper_df = pd.DataFrame(upper_bounds, columns=[f'{col}_upper' for col in x.columns], index=index)\n",
    "\n",
    "upper_df"
   ],
   "outputs": []
  },
  {
   "cell_type": "code",
   "execution_count": 325,
   "id": "785d0cf3-39f4-4db9-9a3b-fbba9de2323c",
   "metadata": {},
   "source": [
    "# Create Plot\n",
    "\n",
    "plt.figure(figsize=(10, 6))\n",
    "plt.plot(betas_df['benchmark_excess_returns'], label='Market Beta', color='orange', alpha=0.7)\n",
    "plt.plot(betas_df['hedge_port_excess_returns'], label='Hedge Portfolio Beta', color='blue', alpha=0.7)\n",
    "plt.plot(betas_df['const'], label='Alpha', color='green', alpha=0.7)\n",
    "\n",
    "# Config\n",
    "plt.title('Beta vs Beta Time Series')\n",
    "plt.xlabel('Time')\n",
    "plt.ylabel('Betas')\n",
    "plt.legend()\n",
    "\n",
    "# Show\n",
    "plt.show()"
   ],
   "outputs": []
  },
  {
   "cell_type": "code",
   "execution_count": 326,
   "id": "d4be695c-e962-41b9-a526-ff0b58101c59",
   "metadata": {},
   "source": [
    "# Create Figure\n",
    "fig, ax1 = plt.subplots(dpi = 300)\n",
    "\n",
    "# Unemployment Rate Plot\n",
    "betas_df['benchmark_excess_returns'].plot(color = 'blue', ax = ax1, alpha=0.7)\n",
    "ax1.set_xlabel('Date')\n",
    "ax1.set_ylabel(\n",
    "    'Market Beta', \n",
    "    color='blue'\n",
    "    )\n",
    "\n",
    "# Unemployment Mentions Plot\n",
    "ax2 = ax1.twinx()\n",
    "\n",
    "betas_df['hedge_port_excess_returns'].plot(color = 'orange', ax = ax2, alpha=0.7)\n",
    "ax2.set_ylabel(\n",
    "    'Hedge Portfolio Beta', \n",
    "    color='orange'\n",
    "    )\n",
    "\n",
    "plt.title('Beta vs Beta Time Series')\n",
    "plt.show()"
   ],
   "outputs": []
  },
  {
   "cell_type": "code",
   "execution_count": 327,
   "id": "b119e0d6-6f5f-4fb3-8b60-b0ee4c1746aa",
   "metadata": {},
   "source": [
    "# Create Figure\n",
    "fig, ax1 = plt.subplots(dpi = 300)\n",
    "\n",
    "# Unemployment Rate Plot\n",
    "betas_df['const'].plot(color = 'limegreen', ax = ax1, alpha=0.7)\n",
    "ax1.set_xlabel('Date')\n",
    "ax1.set_ylabel(\n",
    "    'Alpha', \n",
    "    color='green'\n",
    "    )\n",
    "\n",
    "# Unemployment Mentions Plot\n",
    "ax2 = ax1.twinx()\n",
    "\n",
    "betas_df['hedge_port_excess_returns'].plot(color = 'orange', ax = ax2, alpha=0.7)\n",
    "ax2.set_ylabel(\n",
    "    'Hedge Portfolio Beta', \n",
    "    color='orange'\n",
    "    )\n",
    "\n",
    "plt.title('Beta vs Beta Time Series')\n",
    "plt.show()"
   ],
   "outputs": []
  },
  {
   "cell_type": "code",
   "execution_count": 328,
   "id": "f3d15b0c-efab-4859-b02a-344907119b82",
   "metadata": {},
   "source": [
    "# Create Plot\n",
    "\n",
    "plt.figure(figsize=(10, 6))\n",
    "plt.plot(betas_df['benchmark_excess_returns'], label='Market Beta', color='black', alpha=0.7)\n",
    "plt.fill_between(upper_df.index, lower_df['benchmark_excess_returns_lower'], upper_df['benchmark_excess_returns_upper'], color='skyblue', alpha=0.2, label='95% CI')\n",
    "\n",
    "# Config\n",
    "plt.title('Market Beta Time Series')\n",
    "plt.xlabel('Time')\n",
    "plt.ylabel('Betas')\n",
    "plt.legend()\n",
    "\n",
    "# Show\n",
    "plt.show()"
   ],
   "outputs": []
  },
  {
   "cell_type": "code",
   "execution_count": 329,
   "id": "bdc3ad8e-d1fd-4604-b2d4-54e847ea1db4",
   "metadata": {},
   "source": [
    "# Create Plot\n",
    "\n",
    "plt.figure(figsize=(10, 6))\n",
    "plt.plot(betas_df['hedge_port_excess_returns'], label='Hedge Portfolio Beta', color='black', alpha=0.7)\n",
    "plt.fill_between(upper_df.index, lower_df['hedge_port_excess_returns_lower'], upper_df['hedge_port_excess_returns_upper'], color='peachpuff', alpha=0.5, label='95% CI')\n",
    "plt.axhline(y=0, color='black', linestyle='dashed')\n",
    "\n",
    "# Config\n",
    "plt.title('Hedge Portfolio Beta Time Series')\n",
    "plt.xlabel('Time')\n",
    "plt.ylabel('Betas')\n",
    "plt.legend()\n",
    "\n",
    "# Show\n",
    "plt.show()"
   ],
   "outputs": []
  },
  {
   "cell_type": "markdown",
   "id": "a6d67c53-39f0-455e-924d-7d9e182b6bbc",
   "metadata": {},
   "source": [
    "### Adding Constrains to the Model ###"
   ]
  },
  {
   "cell_type": "code",
   "execution_count": 331,
   "id": "f050a40f-7b1f-4800-a68c-b65eabe4df8c",
   "metadata": {},
   "source": [
    "# Remembering the Form of the Constrained OLS\n",
    "\n",
    "display(Math(r\"\\beta=(X^⊤X)^{-1}(X^⊤Y)-P\"))\n",
    "display(Math(r\"P=\\frac{R^⊤(X^⊤X)^{-1}(X^⊤Y)-q}{R^⊤(X^⊤X)^{-1}R}(X^⊤X)^{-1}R\"))"
   ],
   "outputs": []
  },
  {
   "cell_type": "code",
   "execution_count": 332,
   "id": "274d8f8f-9217-41d4-bc89-9f88fe015772",
   "metadata": {},
   "source": [
    "#Show the betas\n",
    "\n",
    "model_betas = results.params\n",
    "\n",
    "model_betas"
   ],
   "outputs": []
  },
  {
   "cell_type": "code",
   "execution_count": 333,
   "id": "29558f5b-89fc-4765-a566-9e57f93d3866",
   "metadata": {},
   "source": [
    "# Make the Models using GLM\n",
    "OLS_from_GLM = sm.GLM(y, x)\n",
    "\n",
    "result_c = OLS_from_GLM.fit_constrained('benchmark_excess_returns + hedge_port_excess_returns = 1')\n",
    "\n",
    "#here we check the summary\n",
    "print(result_c.summary())   "
   ],
   "outputs": []
  },
  {
   "cell_type": "code",
   "execution_count": null,
   "id": "d3b72ccb-d65d-4268-b7d0-5d32d46e3d23",
   "metadata": {},
   "source": [],
   "outputs": []
  }
 ],
 "metadata": {
  "kernelspec": {
   "display_name": "Python 3 (ipykernel)",
   "language": "python",
   "name": "python3"
  },
  "language_info": {
   "codemirror_mode": {
    "name": "ipython",
    "version": 3
   },
   "file_extension": ".py",
   "mimetype": "text/x-python",
   "name": "python",
   "nbconvert_exporter": "python",
   "pygments_lexer": "ipython3",
   "version": "3.11.7"
  }
 },
 "nbformat": 4,
 "nbformat_minor": 5
}
