{
 "cells": [
  {
   "metadata": {},
   "cell_type": "markdown",
   "source": "### Fama and French Factor Model: Understanding the Factors ### ",
   "id": "5b37783a1f2c91db"
  },
  {
   "metadata": {
    "ExecuteTime": {
     "end_time": "2025-06-01T21:13:04.014479Z",
     "start_time": "2025-06-01T21:13:02.165973Z"
    }
   },
   "cell_type": "code",
   "source": [
    "# Import Libraries\n",
    "\n",
    "# Data Management\n",
    "import pandas as pd\n",
    "import numpy as np\n",
    "\n",
    "# Plots\n",
    "import matplotlib.pyplot as plt\n",
    "\n",
    "# Handle Files\n",
    "import sys\n",
    "import os\n",
    "\n",
    "# Import Local Functions\n",
    "sys.path.append(os.path.abspath(\"../source\"))\n",
    "from functions import import_daily_financial_data\n",
    "from portfolios_toolkit import calculate_analytics"
   ],
   "id": "be25992b255a43a2",
   "outputs": [],
   "execution_count": 1
  },
  {
   "metadata": {},
   "cell_type": "markdown",
   "source": "### Size Factor ###",
   "id": "810308d9d25f73ef"
  },
  {
   "metadata": {
    "ExecuteTime": {
     "end_time": "2025-06-01T21:15:31.927432Z",
     "start_time": "2025-06-01T21:15:31.917475Z"
    }
   },
   "cell_type": "code",
   "source": [
    "def build_returns_dataframe(\n",
    "        tickers: list, \n",
    "        start_date='2015-01-01', \n",
    "        end_date='2025-01-01'\n",
    ") -> pd.DataFrame:\n",
    "    # DataFrame\n",
    "    df_returns = pd.DataFrame()\n",
    "\n",
    "    # Loop\n",
    "    for ticker in tickers:\n",
    "        df = import_daily_financial_data(ticker, start_date, end_date, returns=True)\n",
    "        if not df.empty:\n",
    "            df_returns[ticker] = df['returns']\n",
    "            print(f'Data Ready for {ticker}')\n",
    "\n",
    "    return df_returns"
   ],
   "id": "1fb9bab15b5bb40d",
   "outputs": [],
   "execution_count": 5
  },
  {
   "metadata": {
    "ExecuteTime": {
     "end_time": "2025-05-31T23:01:50.789662Z",
     "start_time": "2025-05-31T23:01:50.754744Z"
    }
   },
   "cell_type": "code",
   "source": [
    "# Import tickers categorized by market capitalization\n",
    "tickers_df = pd.read_csv('../additional_data/mktcap_companies.csv')\n",
    "tickers_df.drop(columns='Unnamed: 0', inplace=True)\n",
    "\n",
    "tickers_df"
   ],
   "id": "d00d7a372cac27c5",
   "outputs": [
    {
     "data": {
      "text/plain": [
       "   mega_companies large_companies mid_companies small_companies  \\\n",
       "0            MSFT            ISRG          ASND             BGM   \n",
       "1            NVDA             ACN          CUBE             FBK   \n",
       "2            AAPL               T          DSGX             AIN   \n",
       "3            AMZN            SHEL          BEPC           AGM-A   \n",
       "4           GOOGL             MRK          GGAL             WGS   \n",
       "5            META             AMD           WBA            BUSE   \n",
       "6            TSLA              VZ          ESTC            NBTB   \n",
       "7            AVGO             PEP           KMX            NAMS   \n",
       "8           BRK-B             RTX            GL             HUN   \n",
       "9             TSM            BKNG           JHX            KYMR   \n",
       "10            WMT              GS          DOCS            DNLI   \n",
       "11            JPM              RY           RGC             MAN   \n",
       "12              V            UBER          EPAM            EFSC   \n",
       "13            LLY            ADBE           OVV             TPC   \n",
       "14             MA             HDB          WING            HRMY   \n",
       "15           NFLX              BX          CAVA            NATL   \n",
       "16           ORCL             TXN          SARO            TWFG   \n",
       "17           COST            SONY            SF             DFH   \n",
       "18            XOM             CAT           QXO             OSW   \n",
       "19             PG             PGR          QGEN             SEM   \n",
       "\n",
       "   micro_companies  \n",
       "0             TATT  \n",
       "1             JELD  \n",
       "2             NFGC  \n",
       "3             CZFS  \n",
       "4             PHAT  \n",
       "5              TBN  \n",
       "6             QUAD  \n",
       "7             MVIS  \n",
       "8             LPAA  \n",
       "9             ABEO  \n",
       "10            NYXH  \n",
       "11            CYRX  \n",
       "12            AMCX  \n",
       "13            KCHV  \n",
       "14            FSBW  \n",
       "15            WEYS  \n",
       "16            LPBB  \n",
       "17            LVRO  \n",
       "18            AEHR  \n",
       "19            SFST  "
      ],
      "text/html": [
       "<div>\n",
       "<style scoped>\n",
       "    .dataframe tbody tr th:only-of-type {\n",
       "        vertical-align: middle;\n",
       "    }\n",
       "\n",
       "    .dataframe tbody tr th {\n",
       "        vertical-align: top;\n",
       "    }\n",
       "\n",
       "    .dataframe thead th {\n",
       "        text-align: right;\n",
       "    }\n",
       "</style>\n",
       "<table border=\"1\" class=\"dataframe\">\n",
       "  <thead>\n",
       "    <tr style=\"text-align: right;\">\n",
       "      <th></th>\n",
       "      <th>mega_companies</th>\n",
       "      <th>large_companies</th>\n",
       "      <th>mid_companies</th>\n",
       "      <th>small_companies</th>\n",
       "      <th>micro_companies</th>\n",
       "    </tr>\n",
       "  </thead>\n",
       "  <tbody>\n",
       "    <tr>\n",
       "      <th>0</th>\n",
       "      <td>MSFT</td>\n",
       "      <td>ISRG</td>\n",
       "      <td>ASND</td>\n",
       "      <td>BGM</td>\n",
       "      <td>TATT</td>\n",
       "    </tr>\n",
       "    <tr>\n",
       "      <th>1</th>\n",
       "      <td>NVDA</td>\n",
       "      <td>ACN</td>\n",
       "      <td>CUBE</td>\n",
       "      <td>FBK</td>\n",
       "      <td>JELD</td>\n",
       "    </tr>\n",
       "    <tr>\n",
       "      <th>2</th>\n",
       "      <td>AAPL</td>\n",
       "      <td>T</td>\n",
       "      <td>DSGX</td>\n",
       "      <td>AIN</td>\n",
       "      <td>NFGC</td>\n",
       "    </tr>\n",
       "    <tr>\n",
       "      <th>3</th>\n",
       "      <td>AMZN</td>\n",
       "      <td>SHEL</td>\n",
       "      <td>BEPC</td>\n",
       "      <td>AGM-A</td>\n",
       "      <td>CZFS</td>\n",
       "    </tr>\n",
       "    <tr>\n",
       "      <th>4</th>\n",
       "      <td>GOOGL</td>\n",
       "      <td>MRK</td>\n",
       "      <td>GGAL</td>\n",
       "      <td>WGS</td>\n",
       "      <td>PHAT</td>\n",
       "    </tr>\n",
       "    <tr>\n",
       "      <th>5</th>\n",
       "      <td>META</td>\n",
       "      <td>AMD</td>\n",
       "      <td>WBA</td>\n",
       "      <td>BUSE</td>\n",
       "      <td>TBN</td>\n",
       "    </tr>\n",
       "    <tr>\n",
       "      <th>6</th>\n",
       "      <td>TSLA</td>\n",
       "      <td>VZ</td>\n",
       "      <td>ESTC</td>\n",
       "      <td>NBTB</td>\n",
       "      <td>QUAD</td>\n",
       "    </tr>\n",
       "    <tr>\n",
       "      <th>7</th>\n",
       "      <td>AVGO</td>\n",
       "      <td>PEP</td>\n",
       "      <td>KMX</td>\n",
       "      <td>NAMS</td>\n",
       "      <td>MVIS</td>\n",
       "    </tr>\n",
       "    <tr>\n",
       "      <th>8</th>\n",
       "      <td>BRK-B</td>\n",
       "      <td>RTX</td>\n",
       "      <td>GL</td>\n",
       "      <td>HUN</td>\n",
       "      <td>LPAA</td>\n",
       "    </tr>\n",
       "    <tr>\n",
       "      <th>9</th>\n",
       "      <td>TSM</td>\n",
       "      <td>BKNG</td>\n",
       "      <td>JHX</td>\n",
       "      <td>KYMR</td>\n",
       "      <td>ABEO</td>\n",
       "    </tr>\n",
       "    <tr>\n",
       "      <th>10</th>\n",
       "      <td>WMT</td>\n",
       "      <td>GS</td>\n",
       "      <td>DOCS</td>\n",
       "      <td>DNLI</td>\n",
       "      <td>NYXH</td>\n",
       "    </tr>\n",
       "    <tr>\n",
       "      <th>11</th>\n",
       "      <td>JPM</td>\n",
       "      <td>RY</td>\n",
       "      <td>RGC</td>\n",
       "      <td>MAN</td>\n",
       "      <td>CYRX</td>\n",
       "    </tr>\n",
       "    <tr>\n",
       "      <th>12</th>\n",
       "      <td>V</td>\n",
       "      <td>UBER</td>\n",
       "      <td>EPAM</td>\n",
       "      <td>EFSC</td>\n",
       "      <td>AMCX</td>\n",
       "    </tr>\n",
       "    <tr>\n",
       "      <th>13</th>\n",
       "      <td>LLY</td>\n",
       "      <td>ADBE</td>\n",
       "      <td>OVV</td>\n",
       "      <td>TPC</td>\n",
       "      <td>KCHV</td>\n",
       "    </tr>\n",
       "    <tr>\n",
       "      <th>14</th>\n",
       "      <td>MA</td>\n",
       "      <td>HDB</td>\n",
       "      <td>WING</td>\n",
       "      <td>HRMY</td>\n",
       "      <td>FSBW</td>\n",
       "    </tr>\n",
       "    <tr>\n",
       "      <th>15</th>\n",
       "      <td>NFLX</td>\n",
       "      <td>BX</td>\n",
       "      <td>CAVA</td>\n",
       "      <td>NATL</td>\n",
       "      <td>WEYS</td>\n",
       "    </tr>\n",
       "    <tr>\n",
       "      <th>16</th>\n",
       "      <td>ORCL</td>\n",
       "      <td>TXN</td>\n",
       "      <td>SARO</td>\n",
       "      <td>TWFG</td>\n",
       "      <td>LPBB</td>\n",
       "    </tr>\n",
       "    <tr>\n",
       "      <th>17</th>\n",
       "      <td>COST</td>\n",
       "      <td>SONY</td>\n",
       "      <td>SF</td>\n",
       "      <td>DFH</td>\n",
       "      <td>LVRO</td>\n",
       "    </tr>\n",
       "    <tr>\n",
       "      <th>18</th>\n",
       "      <td>XOM</td>\n",
       "      <td>CAT</td>\n",
       "      <td>QXO</td>\n",
       "      <td>OSW</td>\n",
       "      <td>AEHR</td>\n",
       "    </tr>\n",
       "    <tr>\n",
       "      <th>19</th>\n",
       "      <td>PG</td>\n",
       "      <td>PGR</td>\n",
       "      <td>QGEN</td>\n",
       "      <td>SEM</td>\n",
       "      <td>SFST</td>\n",
       "    </tr>\n",
       "  </tbody>\n",
       "</table>\n",
       "</div>"
      ]
     },
     "execution_count": 3,
     "metadata": {},
     "output_type": "execute_result"
    }
   ],
   "execution_count": 3
  },
  {
   "metadata": {
    "ExecuteTime": {
     "end_time": "2025-05-31T23:01:50.797096Z",
     "start_time": "2025-05-31T23:01:50.789662Z"
    }
   },
   "cell_type": "code",
   "source": [
    "# Set a dictionary\n",
    "company_sizes = {\n",
    "    'mega': tickers_df['mega_companies'],\n",
    "    'large': tickers_df['large_companies'],\n",
    "    'mid': tickers_df['mid_companies'],\n",
    "    'small': tickers_df['small_companies'],\n",
    "    'micro': tickers_df['micro_companies'],\n",
    "}"
   ],
   "id": "60c12f71fb160b4f",
   "outputs": [],
   "execution_count": 4
  },
  {
   "metadata": {
    "ExecuteTime": {
     "end_time": "2025-05-31T23:01:50.805057Z",
     "start_time": "2025-05-31T23:01:50.797096Z"
    }
   },
   "cell_type": "code",
   "source": [
    "# Get the data\n",
    "#returns_by_size = {}\n",
    "\n",
    "#for size, tickers in company_sizes.items():\n",
    "#    returns_by_size[size] = build_returns_dataframe(tickers, size)"
   ],
   "id": "78c35b6dcf78900e",
   "outputs": [],
   "execution_count": 5
  },
  {
   "metadata": {
    "ExecuteTime": {
     "end_time": "2025-05-31T23:01:50.810950Z",
     "start_time": "2025-05-31T23:01:50.805057Z"
    }
   },
   "cell_type": "code",
   "source": [
    "# Create the Portfolios\n",
    "#portfolios_df = pd.DataFrame({\n",
    "#    f'{size}_portfolio': df.mean(axis=1, skipna=True)\n",
    "#    for size, df in returns_by_size.items()\n",
    "#})"
   ],
   "id": "1a36abacef24a969",
   "outputs": [],
   "execution_count": 6
  },
  {
   "metadata": {
    "ExecuteTime": {
     "end_time": "2025-05-31T23:01:50.836425Z",
     "start_time": "2025-05-31T23:01:50.810950Z"
    }
   },
   "cell_type": "code",
   "source": [
    "portfolios_df = pd.read_csv(r'..\\additional_data\\mktcap_portfolios.csv')\n",
    "portfolios_df.drop(columns='Unnamed: 0', inplace=True)\n",
    "\n",
    "portfolios_df"
   ],
   "id": "bef0f469a77f5a00",
   "outputs": [
    {
     "data": {
      "text/plain": [
       "      mega_portfolio  large_portfolio  mid_portfolio  small_portfolio  \\\n",
       "0          -0.020738        -0.017735      -0.022765        -0.021818   \n",
       "1          -0.009491        -0.007760       0.002066        -0.017739   \n",
       "2           0.008611         0.013438       0.017103         0.010869   \n",
       "3           0.018500         0.015096       0.015100         0.010680   \n",
       "4          -0.009794        -0.008899      -0.008906        -0.004183   \n",
       "...              ...              ...            ...              ...   \n",
       "2510        0.014241         0.006923       0.011832         0.001482   \n",
       "2511       -0.001361        -0.000548      -0.000662         0.011266   \n",
       "2512       -0.013462        -0.003921      -0.010688        -0.020253   \n",
       "2513       -0.012331        -0.009068      -0.012984        -0.007885   \n",
       "2514       -0.006256        -0.000021       0.002135         0.007174   \n",
       "\n",
       "      micro_portfolio  \n",
       "0           -0.018617  \n",
       "1           -0.017479  \n",
       "2            0.009259  \n",
       "3            0.017039  \n",
       "4           -0.010811  \n",
       "...               ...  \n",
       "2510         0.008005  \n",
       "2511         0.029688  \n",
       "2512        -0.009018  \n",
       "2513         0.001527  \n",
       "2514        -0.000658  \n",
       "\n",
       "[2515 rows x 5 columns]"
      ],
      "text/html": [
       "<div>\n",
       "<style scoped>\n",
       "    .dataframe tbody tr th:only-of-type {\n",
       "        vertical-align: middle;\n",
       "    }\n",
       "\n",
       "    .dataframe tbody tr th {\n",
       "        vertical-align: top;\n",
       "    }\n",
       "\n",
       "    .dataframe thead th {\n",
       "        text-align: right;\n",
       "    }\n",
       "</style>\n",
       "<table border=\"1\" class=\"dataframe\">\n",
       "  <thead>\n",
       "    <tr style=\"text-align: right;\">\n",
       "      <th></th>\n",
       "      <th>mega_portfolio</th>\n",
       "      <th>large_portfolio</th>\n",
       "      <th>mid_portfolio</th>\n",
       "      <th>small_portfolio</th>\n",
       "      <th>micro_portfolio</th>\n",
       "    </tr>\n",
       "  </thead>\n",
       "  <tbody>\n",
       "    <tr>\n",
       "      <th>0</th>\n",
       "      <td>-0.020738</td>\n",
       "      <td>-0.017735</td>\n",
       "      <td>-0.022765</td>\n",
       "      <td>-0.021818</td>\n",
       "      <td>-0.018617</td>\n",
       "    </tr>\n",
       "    <tr>\n",
       "      <th>1</th>\n",
       "      <td>-0.009491</td>\n",
       "      <td>-0.007760</td>\n",
       "      <td>0.002066</td>\n",
       "      <td>-0.017739</td>\n",
       "      <td>-0.017479</td>\n",
       "    </tr>\n",
       "    <tr>\n",
       "      <th>2</th>\n",
       "      <td>0.008611</td>\n",
       "      <td>0.013438</td>\n",
       "      <td>0.017103</td>\n",
       "      <td>0.010869</td>\n",
       "      <td>0.009259</td>\n",
       "    </tr>\n",
       "    <tr>\n",
       "      <th>3</th>\n",
       "      <td>0.018500</td>\n",
       "      <td>0.015096</td>\n",
       "      <td>0.015100</td>\n",
       "      <td>0.010680</td>\n",
       "      <td>0.017039</td>\n",
       "    </tr>\n",
       "    <tr>\n",
       "      <th>4</th>\n",
       "      <td>-0.009794</td>\n",
       "      <td>-0.008899</td>\n",
       "      <td>-0.008906</td>\n",
       "      <td>-0.004183</td>\n",
       "      <td>-0.010811</td>\n",
       "    </tr>\n",
       "    <tr>\n",
       "      <th>...</th>\n",
       "      <td>...</td>\n",
       "      <td>...</td>\n",
       "      <td>...</td>\n",
       "      <td>...</td>\n",
       "      <td>...</td>\n",
       "    </tr>\n",
       "    <tr>\n",
       "      <th>2510</th>\n",
       "      <td>0.014241</td>\n",
       "      <td>0.006923</td>\n",
       "      <td>0.011832</td>\n",
       "      <td>0.001482</td>\n",
       "      <td>0.008005</td>\n",
       "    </tr>\n",
       "    <tr>\n",
       "      <th>2511</th>\n",
       "      <td>-0.001361</td>\n",
       "      <td>-0.000548</td>\n",
       "      <td>-0.000662</td>\n",
       "      <td>0.011266</td>\n",
       "      <td>0.029688</td>\n",
       "    </tr>\n",
       "    <tr>\n",
       "      <th>2512</th>\n",
       "      <td>-0.013462</td>\n",
       "      <td>-0.003921</td>\n",
       "      <td>-0.010688</td>\n",
       "      <td>-0.020253</td>\n",
       "      <td>-0.009018</td>\n",
       "    </tr>\n",
       "    <tr>\n",
       "      <th>2513</th>\n",
       "      <td>-0.012331</td>\n",
       "      <td>-0.009068</td>\n",
       "      <td>-0.012984</td>\n",
       "      <td>-0.007885</td>\n",
       "      <td>0.001527</td>\n",
       "    </tr>\n",
       "    <tr>\n",
       "      <th>2514</th>\n",
       "      <td>-0.006256</td>\n",
       "      <td>-0.000021</td>\n",
       "      <td>0.002135</td>\n",
       "      <td>0.007174</td>\n",
       "      <td>-0.000658</td>\n",
       "    </tr>\n",
       "  </tbody>\n",
       "</table>\n",
       "<p>2515 rows × 5 columns</p>\n",
       "</div>"
      ]
     },
     "execution_count": 7,
     "metadata": {},
     "output_type": "execute_result"
    }
   ],
   "execution_count": 7
  },
  {
   "metadata": {
    "ExecuteTime": {
     "end_time": "2025-05-31T23:01:51.154669Z",
     "start_time": "2025-05-31T23:01:50.836425Z"
    }
   },
   "cell_type": "code",
   "source": [
    "# Create Plot\n",
    "plt.figure(figsize=(10, 6))\n",
    "plt.plot(portfolios_df.cumsum(), label=portfolios_df.columns, alpha=1)\n",
    "\n",
    "# Config\n",
    "plt.title('Cumulative Returns (Size Adjusted) Time Series')\n",
    "plt.xlabel('Time')\n",
    "plt.ylabel('Returns')\n",
    "plt.legend()\n",
    "plt.grid()\n",
    "\n",
    "# Show\n",
    "plt.show()"
   ],
   "id": "6088851364f5a41f",
   "outputs": [
    {
     "data": {
      "text/plain": [
       "<Figure size 1000x600 with 1 Axes>"
      ],
      "image/png": "[encoded data removed]"
     },
     "metadata": {},
     "output_type": "display_data"
    }
   ],
   "execution_count": 8
  },
  {
   "metadata": {
    "ExecuteTime": {
     "end_time": "2025-05-31T23:01:51.173704Z",
     "start_time": "2025-05-31T23:01:51.154669Z"
    }
   },
   "cell_type": "code",
   "source": [
    "# Analytics Table\n",
    "\n",
    "size_analytics_table = calculate_analytics(portfolios_df)\n",
    "\n",
    "size_analytics_table"
   ],
   "id": "e4b622897b2f34fd",
   "outputs": [
    {
     "data": {
      "text/plain": [
       "                 Annualized Returns  Annualized Volatility  Sharpe Ratio  \\\n",
       "mega_portfolio             0.221636               0.201111      1.102057   \n",
       "large_portfolio            0.141323               0.186145      0.759208   \n",
       "mid_portfolio              0.111509               0.247632      0.450300   \n",
       "small_portfolio            0.061745               0.256378      0.240838   \n",
       "micro_portfolio           -0.009479               0.264096     -0.035892   \n",
       "\n",
       "                 Max Drawdown   VaR 95%  \n",
       "mega_portfolio      -0.003653 -0.019324  \n",
       "large_portfolio     -0.004203 -0.017600  \n",
       "mid_portfolio       -0.005800 -0.022252  \n",
       "small_portfolio     -0.007966 -0.023730  \n",
       "micro_portfolio     -0.010272 -0.024803  "
      ],
      "text/html": [
       "<div>\n",
       "<style scoped>\n",
       "    .dataframe tbody tr th:only-of-type {\n",
       "        vertical-align: middle;\n",
       "    }\n",
       "\n",
       "    .dataframe tbody tr th {\n",
       "        vertical-align: top;\n",
       "    }\n",
       "\n",
       "    .dataframe thead th {\n",
       "        text-align: right;\n",
       "    }\n",
       "</style>\n",
       "<table border=\"1\" class=\"dataframe\">\n",
       "  <thead>\n",
       "    <tr style=\"text-align: right;\">\n",
       "      <th></th>\n",
       "      <th>Annualized Returns</th>\n",
       "      <th>Annualized Volatility</th>\n",
       "      <th>Sharpe Ratio</th>\n",
       "      <th>Max Drawdown</th>\n",
       "      <th>VaR 95%</th>\n",
       "    </tr>\n",
       "  </thead>\n",
       "  <tbody>\n",
       "    <tr>\n",
       "      <th>mega_portfolio</th>\n",
       "      <td>0.221636</td>\n",
       "      <td>0.201111</td>\n",
       "      <td>1.102057</td>\n",
       "      <td>-0.003653</td>\n",
       "      <td>-0.019324</td>\n",
       "    </tr>\n",
       "    <tr>\n",
       "      <th>large_portfolio</th>\n",
       "      <td>0.141323</td>\n",
       "      <td>0.186145</td>\n",
       "      <td>0.759208</td>\n",
       "      <td>-0.004203</td>\n",
       "      <td>-0.017600</td>\n",
       "    </tr>\n",
       "    <tr>\n",
       "      <th>mid_portfolio</th>\n",
       "      <td>0.111509</td>\n",
       "      <td>0.247632</td>\n",
       "      <td>0.450300</td>\n",
       "      <td>-0.005800</td>\n",
       "      <td>-0.022252</td>\n",
       "    </tr>\n",
       "    <tr>\n",
       "      <th>small_portfolio</th>\n",
       "      <td>0.061745</td>\n",
       "      <td>0.256378</td>\n",
       "      <td>0.240838</td>\n",
       "      <td>-0.007966</td>\n",
       "      <td>-0.023730</td>\n",
       "    </tr>\n",
       "    <tr>\n",
       "      <th>micro_portfolio</th>\n",
       "      <td>-0.009479</td>\n",
       "      <td>0.264096</td>\n",
       "      <td>-0.035892</td>\n",
       "      <td>-0.010272</td>\n",
       "      <td>-0.024803</td>\n",
       "    </tr>\n",
       "  </tbody>\n",
       "</table>\n",
       "</div>"
      ]
     },
     "execution_count": 9,
     "metadata": {},
     "output_type": "execute_result"
    }
   ],
   "execution_count": 9
  },
  {
   "metadata": {
    "ExecuteTime": {
     "end_time": "2025-05-31T23:01:51.182034Z",
     "start_time": "2025-05-31T23:01:51.173704Z"
    }
   },
   "cell_type": "code",
   "source": [
    "# Calculate a primitive SMB premium\n",
    "\n",
    "SMB = (1/2*(portfolios_df['small_portfolio']+portfolios_df['micro_portfolio']) - \n",
    "       1/2*(portfolios_df['mega_portfolio']+portfolios_df['large_portfolio']))  "
   ],
   "id": "9b92298c59b73f8f",
   "outputs": [],
   "execution_count": 10
  },
  {
   "metadata": {
    "ExecuteTime": {
     "end_time": "2025-05-31T23:01:51.357464Z",
     "start_time": "2025-05-31T23:01:51.182034Z"
    }
   },
   "cell_type": "code",
   "source": [
    "# Create Plot\n",
    "plt.figure(figsize=(10, 6))\n",
    "plt.plot(SMB.cumsum(), label='SMB Premium', alpha=1)\n",
    "\n",
    "# Config\n",
    "plt.title('Cumulative SMB Premium Time Series')\n",
    "plt.xlabel('Time')\n",
    "plt.ylabel('Returns')\n",
    "plt.legend()\n",
    "plt.grid()\n",
    "\n",
    "# Show\n",
    "plt.show()"
   ],
   "id": "d3785512faf500d5",
   "outputs": [
    {
     "data": {
      "text/plain": [
       "<Figure size 1000x600 with 1 Axes>"
      ],
      "image/png": "[encoded data removed]"
     },
     "metadata": {},
     "output_type": "display_data"
    }
   ],
   "execution_count": 11
  },
  {
   "metadata": {
    "ExecuteTime": {
     "end_time": "2025-05-31T23:01:51.368632Z",
     "start_time": "2025-05-31T23:01:51.359221Z"
    }
   },
   "cell_type": "code",
   "source": [
    "# Annualized Returns\n",
    "annualized_returns = portfolios_df.mean() * 252 * 100\n",
    "annualized_returns.name = 'annualized_returns'\n",
    "\n",
    "annualized_returns"
   ],
   "id": "d77dbfd979a4a1b7",
   "outputs": [
    {
     "data": {
      "text/plain": [
       "mega_portfolio     22.163596\n",
       "large_portfolio    14.132254\n",
       "mid_portfolio      11.150866\n",
       "small_portfolio     6.174542\n",
       "micro_portfolio    -0.947885\n",
       "Name: annualized_returns, dtype: float64"
      ]
     },
     "execution_count": 12,
     "metadata": {},
     "output_type": "execute_result"
    }
   ],
   "execution_count": 12
  },
  {
   "metadata": {
    "ExecuteTime": {
     "end_time": "2025-05-31T23:03:03.951363Z",
     "start_time": "2025-05-31T23:03:03.940397Z"
    }
   },
   "cell_type": "code",
   "source": [
    "# Annualized Volatility\n",
    "annualized_volatility = portfolios_df.std() * np.sqrt(252) * 10\n",
    "annualized_volatility.name = 'annualized_volatility'\n",
    "\n",
    "annualized_volatility"
   ],
   "id": "2f61785eb2dabd2e",
   "outputs": [
    {
     "data": {
      "text/plain": [
       "mega_portfolio     2.011111\n",
       "large_portfolio    1.861447\n",
       "mid_portfolio      2.476317\n",
       "small_portfolio    2.563777\n",
       "micro_portfolio    2.640959\n",
       "Name: annualized_volatility, dtype: float64"
      ]
     },
     "execution_count": 13,
     "metadata": {},
     "output_type": "execute_result"
    }
   ],
   "execution_count": 13
  },
  {
   "metadata": {
    "ExecuteTime": {
     "end_time": "2025-06-01T04:01:53.287460Z",
     "start_time": "2025-06-01T04:01:52.742254Z"
    }
   },
   "cell_type": "code",
   "source": [
    "# Create Plot\n",
    "plt.figure(figsize=(10, 6))\n",
    "plt.plot(annualized_returns.iloc[::-1], label='Annualized Returns', alpha=1, marker='o')\n",
    "\n",
    "# Config\n",
    "plt.title('Annualized Returns by Size')\n",
    "plt.xlabel('Size')\n",
    "plt.ylabel('Annualized Returns')\n",
    "plt.legend()\n",
    "plt.grid()\n",
    "\n",
    "# Show\n",
    "plt.show()"
   ],
   "id": "9a091c040c6476f1",
   "outputs": [
    {
     "data": {
      "text/plain": [
       "<Figure size 1000x600 with 1 Axes>"
      ],
      "image/png": "[encoded data removed]"
     },
     "metadata": {},
     "output_type": "display_data"
    }
   ],
   "execution_count": 25
  },
  {
   "metadata": {
    "ExecuteTime": {
     "end_time": "2025-06-01T04:02:17.551026Z",
     "start_time": "2025-06-01T04:02:17.439622Z"
    }
   },
   "cell_type": "code",
   "source": [
    "data = pd.DataFrame({\n",
    "    'returns': annualized_returns.iloc[::-1],\n",
    "    'volatility': annualized_volatility.iloc[::-1],\n",
    "}, index=annualized_returns.iloc[::-1].index)\n",
    "\n",
    "errors = data['volatility']\n",
    "\n",
    "# Create the plot\n",
    "fig, ax = plt.subplots(figsize=(8, 5))\n",
    "\n",
    "ax.errorbar(\n",
    "    x=data['returns'],                # x-values (betas)\n",
    "    y=range(len(data)),               # y-positions\n",
    "    xerr=errors,                      # confidence interval errors\n",
    "    fmt='o',                          # circular markers for betas\n",
    "    ecolor='gray',                    # color of the error bars\n",
    "    capsize=5,                        # small caps on error bars\n",
    "    elinewidth=2,                     # thickness of the error bars\n",
    "    markeredgewidth=2                 # thickness of the circle edge\n",
    ")\n",
    "\n",
    "# Customize the plot\n",
    "ax.set_yticks(range(len(data)))\n",
    "ax.set_yticklabels(data.index)\n",
    "ax.axvline(0, color='red', linestyle='--')  # reference line\n",
    "ax.set_xlabel('Annualized Returns')\n",
    "ax.set_title('Returns with Standard Errors')\n",
    "\n",
    "plt.tight_layout()\n",
    "plt.show()"
   ],
   "id": "f455bbd527a60c31",
   "outputs": [
    {
     "data": {
      "text/plain": [
       "<Figure size 800x500 with 1 Axes>"
      ],
      "image/png": "[encoded data removed]"
     },
     "metadata": {},
     "output_type": "display_data"
    }
   ],
   "execution_count": 26
  },
  {
   "metadata": {},
   "cell_type": "markdown",
   "source": "### Value Factor ###",
   "id": "38cb909e6ca69b5b"
  },
  {
   "metadata": {
    "ExecuteTime": {
     "end_time": "2025-06-01T21:14:27.331428Z",
     "start_time": "2025-06-01T21:14:27.318081Z"
    }
   },
   "cell_type": "code",
   "source": [
    "# Define a High Value Stocks List\n",
    "high_value_tickers = [\n",
    "    \"XOM\",  # ExxonMobil\n",
    "    \"CVX\",  # Chevron\n",
    "    \"JPM\",  # JPMorgan\n",
    "    \"BAC\",  # Bank of America\n",
    "    \"WFC\",  # Wells Fargo\n",
    "    \"PFE\",  # Pfizer\n",
    "    \"MRK\",  # Merck\n",
    "    \"VZ\",   # Verizon\n",
    "    \"T\",    # AT&T\n",
    "    \"MMM\",  # 3M\n",
    "    \"C\",    # Citigroup\n",
    "    \"F\",    # Ford\n",
    "    \"GM\",   # General Motors\n",
    "    \"INTC\", # Intel\n",
    "    \"IBM\",  # IBM\n",
    "    \"MO\",   # Altria\n",
    "    \"GILD\", # Gilead\n",
    "    \"PRU\",  # Prudential\n",
    "    \"MET\",  # MetLife\n",
    "    \"DUK\",  # Duke Energy\n",
    "]"
   ],
   "id": "667fcc16d56b513a",
   "outputs": [],
   "execution_count": 2
  },
  {
   "metadata": {
    "ExecuteTime": {
     "end_time": "2025-06-01T21:14:50.056153Z",
     "start_time": "2025-06-01T21:14:50.049194Z"
    }
   },
   "cell_type": "code",
   "source": [
    "# And a Low Value Stocks List\n",
    "low_value_tickers = [\n",
    "    \"TSLA\",   # Tesla\n",
    "    \"NVDA\",   # NVIDIA\n",
    "    \"AAPL\",   # Apple\n",
    "    \"AMZN\",   # Amazon\n",
    "    \"MSFT\",   # Microsoft\n",
    "    \"META\",   # Meta\n",
    "    \"NFLX\",   # Netflix\n",
    "    \"SNOW\",   # Snowflake\n",
    "    \"UBER\",   # Uber\n",
    "    \"RIVN\",   # Rivian\n",
    "    \"PLTR\",   # Palantir\n",
    "    \"SHOP\",   # Shopify\n",
    "    \"CRWD\",   # CrowdStrike\n",
    "    \"ZS\",     # Zscaler\n",
    "    \"PANW\",   # Palo Alto\n",
    "    \"SQ\",     # Block (Square)\n",
    "    \"COIN\",   # Coinbase\n",
    "    \"SMCI\",   # Supermicro\n",
    "    \"ABNB\",   # Airbnb\n",
    "    \"ROKU\",   # Roku\n",
    "]"
   ],
   "id": "34cfa8b5eee8e4a6",
   "outputs": [],
   "execution_count": 3
  },
  {
   "metadata": {
    "ExecuteTime": {
     "end_time": "2025-06-01T21:15:49.251737Z",
     "start_time": "2025-06-01T21:15:36.119557Z"
    }
   },
   "cell_type": "code",
   "source": [
    "# Get the Data\n",
    "high_value_returns = build_returns_dataframe(high_value_tickers)"
   ],
   "id": "6460923479ca1e60",
   "outputs": [
    {
     "name": "stderr",
     "output_type": "stream",
     "text": [
      "[*********************100%***********************]  1 of 1 completed\n"
     ]
    },
    {
     "name": "stdout",
     "output_type": "stream",
     "text": [
      "Data Ready for XOM\n"
     ]
    },
    {
     "name": "stderr",
     "output_type": "stream",
     "text": [
      "[*********************100%***********************]  1 of 1 completed\n"
     ]
    },
    {
     "name": "stdout",
     "output_type": "stream",
     "text": [
      "Data Ready for CVX\n"
     ]
    },
    {
     "name": "stderr",
     "output_type": "stream",
     "text": [
      "[*********************100%***********************]  1 of 1 completed\n"
     ]
    },
    {
     "name": "stdout",
     "output_type": "stream",
     "text": [
      "Data Ready for JPM\n"
     ]
    },
    {
     "name": "stderr",
     "output_type": "stream",
     "text": [
      "[*********************100%***********************]  1 of 1 completed\n"
     ]
    },
    {
     "name": "stdout",
     "output_type": "stream",
     "text": [
      "Data Ready for BAC\n"
     ]
    },
    {
     "name": "stderr",
     "output_type": "stream",
     "text": [
      "[*********************100%***********************]  1 of 1 completed\n"
     ]
    },
    {
     "name": "stdout",
     "output_type": "stream",
     "text": [
      "Data Ready for WFC\n"
     ]
    },
    {
     "name": "stderr",
     "output_type": "stream",
     "text": [
      "[*********************100%***********************]  1 of 1 completed\n"
     ]
    },
    {
     "name": "stdout",
     "output_type": "stream",
     "text": [
      "Data Ready for PFE\n"
     ]
    },
    {
     "name": "stderr",
     "output_type": "stream",
     "text": [
      "[*********************100%***********************]  1 of 1 completed\n"
     ]
    },
    {
     "name": "stdout",
     "output_type": "stream",
     "text": [
      "Data Ready for MRK\n"
     ]
    },
    {
     "name": "stderr",
     "output_type": "stream",
     "text": [
      "[*********************100%***********************]  1 of 1 completed\n"
     ]
    },
    {
     "name": "stdout",
     "output_type": "stream",
     "text": [
      "Data Ready for VZ\n"
     ]
    },
    {
     "name": "stderr",
     "output_type": "stream",
     "text": [
      "[*********************100%***********************]  1 of 1 completed\n"
     ]
    },
    {
     "name": "stdout",
     "output_type": "stream",
     "text": [
      "Data Ready for T\n"
     ]
    },
    {
     "name": "stderr",
     "output_type": "stream",
     "text": [
      "[*********************100%***********************]  1 of 1 completed\n"
     ]
    },
    {
     "name": "stdout",
     "output_type": "stream",
     "text": [
      "Data Ready for MMM\n"
     ]
    },
    {
     "name": "stderr",
     "output_type": "stream",
     "text": [
      "[*********************100%***********************]  1 of 1 completed\n"
     ]
    },
    {
     "name": "stdout",
     "output_type": "stream",
     "text": [
      "Data Ready for C\n"
     ]
    },
    {
     "name": "stderr",
     "output_type": "stream",
     "text": [
      "[*********************100%***********************]  1 of 1 completed\n"
     ]
    },
    {
     "name": "stdout",
     "output_type": "stream",
     "text": [
      "Data Ready for F\n"
     ]
    },
    {
     "name": "stderr",
     "output_type": "stream",
     "text": [
      "[*********************100%***********************]  1 of 1 completed\n"
     ]
    },
    {
     "name": "stdout",
     "output_type": "stream",
     "text": [
      "Data Ready for GM\n"
     ]
    },
    {
     "name": "stderr",
     "output_type": "stream",
     "text": [
      "[*********************100%***********************]  1 of 1 completed\n"
     ]
    },
    {
     "name": "stdout",
     "output_type": "stream",
     "text": [
      "Data Ready for INTC\n"
     ]
    },
    {
     "name": "stderr",
     "output_type": "stream",
     "text": [
      "[*********************100%***********************]  1 of 1 completed\n"
     ]
    },
    {
     "name": "stdout",
     "output_type": "stream",
     "text": [
      "Data Ready for IBM\n"
     ]
    },
    {
     "name": "stderr",
     "output_type": "stream",
     "text": [
      "[*********************100%***********************]  1 of 1 completed\n"
     ]
    },
    {
     "name": "stdout",
     "output_type": "stream",
     "text": [
      "Data Ready for MO\n"
     ]
    },
    {
     "name": "stderr",
     "output_type": "stream",
     "text": [
      "[*********************100%***********************]  1 of 1 completed\n"
     ]
    },
    {
     "name": "stdout",
     "output_type": "stream",
     "text": [
      "Data Ready for GILD\n"
     ]
    },
    {
     "name": "stderr",
     "output_type": "stream",
     "text": [
      "[*********************100%***********************]  1 of 1 completed\n"
     ]
    },
    {
     "name": "stdout",
     "output_type": "stream",
     "text": [
      "Data Ready for PRU\n"
     ]
    },
    {
     "name": "stderr",
     "output_type": "stream",
     "text": [
      "[*********************100%***********************]  1 of 1 completed\n"
     ]
    },
    {
     "name": "stdout",
     "output_type": "stream",
     "text": [
      "Data Ready for MET\n"
     ]
    },
    {
     "name": "stderr",
     "output_type": "stream",
     "text": [
      "[*********************100%***********************]  1 of 1 completed"
     ]
    },
    {
     "name": "stdout",
     "output_type": "stream",
     "text": [
      "Data Ready for DUK\n"
     ]
    },
    {
     "name": "stderr",
     "output_type": "stream",
     "text": [
      "\n"
     ]
    }
   ],
   "execution_count": 6
  },
  {
   "metadata": {
    "ExecuteTime": {
     "end_time": "2025-06-01T21:15:49.288939Z",
     "start_time": "2025-06-01T21:15:49.251737Z"
    }
   },
   "cell_type": "code",
   "source": "high_value_returns",
   "id": "9699ad23cf7b7868",
   "outputs": [
    {
     "data": {
      "text/plain": [
       "                 XOM       CVX       JPM       BAC       WFC       PFE  \\\n",
       "Date                                                                     \n",
       "2015-01-05 -0.027743 -0.040792 -0.031537 -0.029480 -0.027805 -0.005441   \n",
       "2015-01-06 -0.005331 -0.000463 -0.026271 -0.030376 -0.021086  0.008310   \n",
       "2015-01-07  0.010082 -0.000833  0.001525  0.004734  0.005934  0.013593   \n",
       "2015-01-08  0.016508  0.022625  0.022101  0.020451  0.021896  0.020203   \n",
       "2015-01-09 -0.001411 -0.020127 -0.017540 -0.018092 -0.016566  0.004605   \n",
       "...              ...       ...       ...       ...       ...       ...   \n",
       "2024-12-24  0.000940  0.006067  0.016310  0.011102  0.014775  0.001123   \n",
       "2024-12-26  0.000845  0.000973  0.003420  0.003823  0.002372 -0.006754   \n",
       "2024-12-27 -0.000094  0.000139 -0.008135 -0.004725 -0.009099  0.002257   \n",
       "2024-12-30 -0.006785 -0.006479 -0.007700 -0.009745 -0.009893 -0.007541   \n",
       "2024-12-31  0.016969  0.012296  0.001628  0.000911 -0.002417  0.004155   \n",
       "\n",
       "                 MRK        VZ         T       MMM         C         F  \\\n",
       "Date                                                                     \n",
       "2015-01-05  0.014753 -0.008340 -0.009493 -0.022811 -0.032022 -0.039846   \n",
       "2015-01-06  0.038531  0.010042  0.001489 -0.010721 -0.035839 -0.009531   \n",
       "2015-01-07  0.021161 -0.006474  0.005814  0.007223  0.009228  0.028323   \n",
       "2015-01-08  0.019927  0.021207  0.009900  0.023685  0.014935  0.024952   \n",
       "2015-01-09 -0.004625 -0.008942 -0.002989 -0.012360 -0.022587 -0.013712   \n",
       "...              ...       ...       ...       ...       ...       ...   \n",
       "2024-12-24  0.000805 -0.003511  0.004805  0.010643  0.017476  0.012048   \n",
       "2024-12-26  0.004214  0.004012  0.000436  0.006271  0.004918  0.004978   \n",
       "2024-12-27 -0.001704 -0.001001 -0.004365 -0.007652 -0.004918 -0.003980   \n",
       "2024-12-30 -0.013430 -0.008048 -0.010996 -0.008098 -0.008629 -0.015068   \n",
       "2024-12-31  0.011221  0.009800  0.007052 -0.000310  0.000000  0.002022   \n",
       "\n",
       "                  GM      INTC       IBM        MO      GILD       PRU  \\\n",
       "Date                                                                     \n",
       "2015-01-05 -0.014746 -0.011340 -0.015860 -0.005734  0.019614 -0.032254   \n",
       "2015-01-06  0.015033 -0.018813 -0.021802  0.005938  0.008846 -0.020963   \n",
       "2015-01-07  0.028011  0.020758 -0.006557  0.018208  0.018567  0.000585   \n",
       "2015-01-08  0.009994  0.018430  0.021502  0.016700  0.027953  0.015898   \n",
       "2015-01-09 -0.016994  0.001906  0.004346 -0.002368 -0.000881 -0.017889   \n",
       "...              ...       ...       ...       ...       ...       ...   \n",
       "2024-12-24  0.017913  0.009852  0.011113 -0.002055  0.005871  0.005887   \n",
       "2024-12-26  0.012443  0.001959  0.002137  0.002856  0.004884  0.006769   \n",
       "2024-12-27  0.001844 -0.006873 -0.009427 -0.004191 -0.003183 -0.008447   \n",
       "2024-12-30 -0.011488 -0.023929 -0.011421 -0.005744 -0.022567 -0.007673   \n",
       "2024-12-31 -0.007295  0.011538 -0.001909  0.004024  0.003905  0.003211   \n",
       "\n",
       "                 MET       DUK  \n",
       "Date                            \n",
       "2015-01-05 -0.033959 -0.014500  \n",
       "2015-01-06 -0.030790  0.016284  \n",
       "2015-01-07  0.013172  0.003202  \n",
       "2015-01-08  0.015120  0.004017  \n",
       "2015-01-09 -0.018641  0.001414  \n",
       "...              ...       ...  \n",
       "2024-12-24  0.006587  0.003770  \n",
       "2024-12-26  0.006061 -0.006075  \n",
       "2024-12-27 -0.006061  0.000277  \n",
       "2024-12-30 -0.009038 -0.005832  \n",
       "2024-12-31  0.004529  0.000278  \n",
       "\n",
       "[2515 rows x 20 columns]"
      ],
      "text/html": [
       "<div>\n",
       "<style scoped>\n",
       "    .dataframe tbody tr th:only-of-type {\n",
       "        vertical-align: middle;\n",
       "    }\n",
       "\n",
       "    .dataframe tbody tr th {\n",
       "        vertical-align: top;\n",
       "    }\n",
       "\n",
       "    .dataframe thead th {\n",
       "        text-align: right;\n",
       "    }\n",
       "</style>\n",
       "<table border=\"1\" class=\"dataframe\">\n",
       "  <thead>\n",
       "    <tr style=\"text-align: right;\">\n",
       "      <th></th>\n",
       "      <th>XOM</th>\n",
       "      <th>CVX</th>\n",
       "      <th>JPM</th>\n",
       "      <th>BAC</th>\n",
       "      <th>WFC</th>\n",
       "      <th>PFE</th>\n",
       "      <th>MRK</th>\n",
       "      <th>VZ</th>\n",
       "      <th>T</th>\n",
       "      <th>MMM</th>\n",
       "      <th>C</th>\n",
       "      <th>F</th>\n",
       "      <th>GM</th>\n",
       "      <th>INTC</th>\n",
       "      <th>IBM</th>\n",
       "      <th>MO</th>\n",
       "      <th>GILD</th>\n",
       "      <th>PRU</th>\n",
       "      <th>MET</th>\n",
       "      <th>DUK</th>\n",
       "    </tr>\n",
       "    <tr>\n",
       "      <th>Date</th>\n",
       "      <th></th>\n",
       "      <th></th>\n",
       "      <th></th>\n",
       "      <th></th>\n",
       "      <th></th>\n",
       "      <th></th>\n",
       "      <th></th>\n",
       "      <th></th>\n",
       "      <th></th>\n",
       "      <th></th>\n",
       "      <th></th>\n",
       "      <th></th>\n",
       "      <th></th>\n",
       "      <th></th>\n",
       "      <th></th>\n",
       "      <th></th>\n",
       "      <th></th>\n",
       "      <th></th>\n",
       "      <th></th>\n",
       "      <th></th>\n",
       "    </tr>\n",
       "  </thead>\n",
       "  <tbody>\n",
       "    <tr>\n",
       "      <th>2015-01-05</th>\n",
       "      <td>-0.027743</td>\n",
       "      <td>-0.040792</td>\n",
       "      <td>-0.031537</td>\n",
       "      <td>-0.029480</td>\n",
       "      <td>-0.027805</td>\n",
       "      <td>-0.005441</td>\n",
       "      <td>0.014753</td>\n",
       "      <td>-0.008340</td>\n",
       "      <td>-0.009493</td>\n",
       "      <td>-0.022811</td>\n",
       "      <td>-0.032022</td>\n",
       "      <td>-0.039846</td>\n",
       "      <td>-0.014746</td>\n",
       "      <td>-0.011340</td>\n",
       "      <td>-0.015860</td>\n",
       "      <td>-0.005734</td>\n",
       "      <td>0.019614</td>\n",
       "      <td>-0.032254</td>\n",
       "      <td>-0.033959</td>\n",
       "      <td>-0.014500</td>\n",
       "    </tr>\n",
       "    <tr>\n",
       "      <th>2015-01-06</th>\n",
       "      <td>-0.005331</td>\n",
       "      <td>-0.000463</td>\n",
       "      <td>-0.026271</td>\n",
       "      <td>-0.030376</td>\n",
       "      <td>-0.021086</td>\n",
       "      <td>0.008310</td>\n",
       "      <td>0.038531</td>\n",
       "      <td>0.010042</td>\n",
       "      <td>0.001489</td>\n",
       "      <td>-0.010721</td>\n",
       "      <td>-0.035839</td>\n",
       "      <td>-0.009531</td>\n",
       "      <td>0.015033</td>\n",
       "      <td>-0.018813</td>\n",
       "      <td>-0.021802</td>\n",
       "      <td>0.005938</td>\n",
       "      <td>0.008846</td>\n",
       "      <td>-0.020963</td>\n",
       "      <td>-0.030790</td>\n",
       "      <td>0.016284</td>\n",
       "    </tr>\n",
       "    <tr>\n",
       "      <th>2015-01-07</th>\n",
       "      <td>0.010082</td>\n",
       "      <td>-0.000833</td>\n",
       "      <td>0.001525</td>\n",
       "      <td>0.004734</td>\n",
       "      <td>0.005934</td>\n",
       "      <td>0.013593</td>\n",
       "      <td>0.021161</td>\n",
       "      <td>-0.006474</td>\n",
       "      <td>0.005814</td>\n",
       "      <td>0.007223</td>\n",
       "      <td>0.009228</td>\n",
       "      <td>0.028323</td>\n",
       "      <td>0.028011</td>\n",
       "      <td>0.020758</td>\n",
       "      <td>-0.006557</td>\n",
       "      <td>0.018208</td>\n",
       "      <td>0.018567</td>\n",
       "      <td>0.000585</td>\n",
       "      <td>0.013172</td>\n",
       "      <td>0.003202</td>\n",
       "    </tr>\n",
       "    <tr>\n",
       "      <th>2015-01-08</th>\n",
       "      <td>0.016508</td>\n",
       "      <td>0.022625</td>\n",
       "      <td>0.022101</td>\n",
       "      <td>0.020451</td>\n",
       "      <td>0.021896</td>\n",
       "      <td>0.020203</td>\n",
       "      <td>0.019927</td>\n",
       "      <td>0.021207</td>\n",
       "      <td>0.009900</td>\n",
       "      <td>0.023685</td>\n",
       "      <td>0.014935</td>\n",
       "      <td>0.024952</td>\n",
       "      <td>0.009994</td>\n",
       "      <td>0.018430</td>\n",
       "      <td>0.021502</td>\n",
       "      <td>0.016700</td>\n",
       "      <td>0.027953</td>\n",
       "      <td>0.015898</td>\n",
       "      <td>0.015120</td>\n",
       "      <td>0.004017</td>\n",
       "    </tr>\n",
       "    <tr>\n",
       "      <th>2015-01-09</th>\n",
       "      <td>-0.001411</td>\n",
       "      <td>-0.020127</td>\n",
       "      <td>-0.017540</td>\n",
       "      <td>-0.018092</td>\n",
       "      <td>-0.016566</td>\n",
       "      <td>0.004605</td>\n",
       "      <td>-0.004625</td>\n",
       "      <td>-0.008942</td>\n",
       "      <td>-0.002989</td>\n",
       "      <td>-0.012360</td>\n",
       "      <td>-0.022587</td>\n",
       "      <td>-0.013712</td>\n",
       "      <td>-0.016994</td>\n",
       "      <td>0.001906</td>\n",
       "      <td>0.004346</td>\n",
       "      <td>-0.002368</td>\n",
       "      <td>-0.000881</td>\n",
       "      <td>-0.017889</td>\n",
       "      <td>-0.018641</td>\n",
       "      <td>0.001414</td>\n",
       "    </tr>\n",
       "    <tr>\n",
       "      <th>...</th>\n",
       "      <td>...</td>\n",
       "      <td>...</td>\n",
       "      <td>...</td>\n",
       "      <td>...</td>\n",
       "      <td>...</td>\n",
       "      <td>...</td>\n",
       "      <td>...</td>\n",
       "      <td>...</td>\n",
       "      <td>...</td>\n",
       "      <td>...</td>\n",
       "      <td>...</td>\n",
       "      <td>...</td>\n",
       "      <td>...</td>\n",
       "      <td>...</td>\n",
       "      <td>...</td>\n",
       "      <td>...</td>\n",
       "      <td>...</td>\n",
       "      <td>...</td>\n",
       "      <td>...</td>\n",
       "      <td>...</td>\n",
       "    </tr>\n",
       "    <tr>\n",
       "      <th>2024-12-24</th>\n",
       "      <td>0.000940</td>\n",
       "      <td>0.006067</td>\n",
       "      <td>0.016310</td>\n",
       "      <td>0.011102</td>\n",
       "      <td>0.014775</td>\n",
       "      <td>0.001123</td>\n",
       "      <td>0.000805</td>\n",
       "      <td>-0.003511</td>\n",
       "      <td>0.004805</td>\n",
       "      <td>0.010643</td>\n",
       "      <td>0.017476</td>\n",
       "      <td>0.012048</td>\n",
       "      <td>0.017913</td>\n",
       "      <td>0.009852</td>\n",
       "      <td>0.011113</td>\n",
       "      <td>-0.002055</td>\n",
       "      <td>0.005871</td>\n",
       "      <td>0.005887</td>\n",
       "      <td>0.006587</td>\n",
       "      <td>0.003770</td>\n",
       "    </tr>\n",
       "    <tr>\n",
       "      <th>2024-12-26</th>\n",
       "      <td>0.000845</td>\n",
       "      <td>0.000973</td>\n",
       "      <td>0.003420</td>\n",
       "      <td>0.003823</td>\n",
       "      <td>0.002372</td>\n",
       "      <td>-0.006754</td>\n",
       "      <td>0.004214</td>\n",
       "      <td>0.004012</td>\n",
       "      <td>0.000436</td>\n",
       "      <td>0.006271</td>\n",
       "      <td>0.004918</td>\n",
       "      <td>0.004978</td>\n",
       "      <td>0.012443</td>\n",
       "      <td>0.001959</td>\n",
       "      <td>0.002137</td>\n",
       "      <td>0.002856</td>\n",
       "      <td>0.004884</td>\n",
       "      <td>0.006769</td>\n",
       "      <td>0.006061</td>\n",
       "      <td>-0.006075</td>\n",
       "    </tr>\n",
       "    <tr>\n",
       "      <th>2024-12-27</th>\n",
       "      <td>-0.000094</td>\n",
       "      <td>0.000139</td>\n",
       "      <td>-0.008135</td>\n",
       "      <td>-0.004725</td>\n",
       "      <td>-0.009099</td>\n",
       "      <td>0.002257</td>\n",
       "      <td>-0.001704</td>\n",
       "      <td>-0.001001</td>\n",
       "      <td>-0.004365</td>\n",
       "      <td>-0.007652</td>\n",
       "      <td>-0.004918</td>\n",
       "      <td>-0.003980</td>\n",
       "      <td>0.001844</td>\n",
       "      <td>-0.006873</td>\n",
       "      <td>-0.009427</td>\n",
       "      <td>-0.004191</td>\n",
       "      <td>-0.003183</td>\n",
       "      <td>-0.008447</td>\n",
       "      <td>-0.006061</td>\n",
       "      <td>0.000277</td>\n",
       "    </tr>\n",
       "    <tr>\n",
       "      <th>2024-12-30</th>\n",
       "      <td>-0.006785</td>\n",
       "      <td>-0.006479</td>\n",
       "      <td>-0.007700</td>\n",
       "      <td>-0.009745</td>\n",
       "      <td>-0.009893</td>\n",
       "      <td>-0.007541</td>\n",
       "      <td>-0.013430</td>\n",
       "      <td>-0.008048</td>\n",
       "      <td>-0.010996</td>\n",
       "      <td>-0.008098</td>\n",
       "      <td>-0.008629</td>\n",
       "      <td>-0.015068</td>\n",
       "      <td>-0.011488</td>\n",
       "      <td>-0.023929</td>\n",
       "      <td>-0.011421</td>\n",
       "      <td>-0.005744</td>\n",
       "      <td>-0.022567</td>\n",
       "      <td>-0.007673</td>\n",
       "      <td>-0.009038</td>\n",
       "      <td>-0.005832</td>\n",
       "    </tr>\n",
       "    <tr>\n",
       "      <th>2024-12-31</th>\n",
       "      <td>0.016969</td>\n",
       "      <td>0.012296</td>\n",
       "      <td>0.001628</td>\n",
       "      <td>0.000911</td>\n",
       "      <td>-0.002417</td>\n",
       "      <td>0.004155</td>\n",
       "      <td>0.011221</td>\n",
       "      <td>0.009800</td>\n",
       "      <td>0.007052</td>\n",
       "      <td>-0.000310</td>\n",
       "      <td>0.000000</td>\n",
       "      <td>0.002022</td>\n",
       "      <td>-0.007295</td>\n",
       "      <td>0.011538</td>\n",
       "      <td>-0.001909</td>\n",
       "      <td>0.004024</td>\n",
       "      <td>0.003905</td>\n",
       "      <td>0.003211</td>\n",
       "      <td>0.004529</td>\n",
       "      <td>0.000278</td>\n",
       "    </tr>\n",
       "  </tbody>\n",
       "</table>\n",
       "<p>2515 rows × 20 columns</p>\n",
       "</div>"
      ]
     },
     "execution_count": 7,
     "metadata": {},
     "output_type": "execute_result"
    }
   ],
   "execution_count": 7
  },
  {
   "metadata": {
    "ExecuteTime": {
     "end_time": "2025-06-01T21:17:04.984771Z",
     "start_time": "2025-06-01T21:17:04.970949Z"
    }
   },
   "cell_type": "code",
   "source": [
    "# And the Portfolio\n",
    "high_value_portfolio = high_value_returns.mean(axis=1)\n",
    "high_value_portfolio.name = 'high_value_portfolio'\n",
    "\n",
    "high_value_portfolio"
   ],
   "id": "223492f90d74cbad",
   "outputs": [
    {
     "data": {
      "text/plain": [
       "Date\n",
       "2015-01-05   -0.018467\n",
       "2015-01-06   -0.006376\n",
       "2015-01-07    0.009813\n",
       "2015-01-08    0.018400\n",
       "2015-01-09   -0.009173\n",
       "                ...   \n",
       "2024-12-24    0.007576\n",
       "2024-12-26    0.003027\n",
       "2024-12-27   -0.003967\n",
       "2024-12-30   -0.010505\n",
       "2024-12-31    0.004080\n",
       "Name: high_value_portfolio, Length: 2515, dtype: float64"
      ]
     },
     "execution_count": 9,
     "metadata": {},
     "output_type": "execute_result"
    }
   ],
   "execution_count": 9
  },
  {
   "metadata": {
    "ExecuteTime": {
     "end_time": "2025-06-01T21:17:42.705066Z",
     "start_time": "2025-06-01T21:17:31.524692Z"
    }
   },
   "cell_type": "code",
   "source": [
    "# Get the Data\n",
    "low_value_returns = build_returns_dataframe(low_value_tickers)"
   ],
   "id": "66c90cdcb56c0552",
   "outputs": [
    {
     "name": "stderr",
     "output_type": "stream",
     "text": [
      "[*********************100%***********************]  1 of 1 completed\n"
     ]
    },
    {
     "name": "stdout",
     "output_type": "stream",
     "text": [
      "Data Ready for TSLA\n"
     ]
    },
    {
     "name": "stderr",
     "output_type": "stream",
     "text": [
      "[*********************100%***********************]  1 of 1 completed\n"
     ]
    },
    {
     "name": "stdout",
     "output_type": "stream",
     "text": [
      "Data Ready for NVDA\n"
     ]
    },
    {
     "name": "stderr",
     "output_type": "stream",
     "text": [
      "[*********************100%***********************]  1 of 1 completed\n"
     ]
    },
    {
     "name": "stdout",
     "output_type": "stream",
     "text": [
      "Data Ready for AAPL\n"
     ]
    },
    {
     "name": "stderr",
     "output_type": "stream",
     "text": [
      "[*********************100%***********************]  1 of 1 completed\n"
     ]
    },
    {
     "name": "stdout",
     "output_type": "stream",
     "text": [
      "Data Ready for AMZN\n"
     ]
    },
    {
     "name": "stderr",
     "output_type": "stream",
     "text": [
      "[*********************100%***********************]  1 of 1 completed\n"
     ]
    },
    {
     "name": "stdout",
     "output_type": "stream",
     "text": [
      "Data Ready for MSFT\n"
     ]
    },
    {
     "name": "stderr",
     "output_type": "stream",
     "text": [
      "[*********************100%***********************]  1 of 1 completed\n"
     ]
    },
    {
     "name": "stdout",
     "output_type": "stream",
     "text": [
      "Data Ready for META\n"
     ]
    },
    {
     "name": "stderr",
     "output_type": "stream",
     "text": [
      "[*********************100%***********************]  1 of 1 completed\n"
     ]
    },
    {
     "name": "stdout",
     "output_type": "stream",
     "text": [
      "Data Ready for NFLX\n"
     ]
    },
    {
     "name": "stderr",
     "output_type": "stream",
     "text": [
      "[*********************100%***********************]  1 of 1 completed\n"
     ]
    },
    {
     "name": "stdout",
     "output_type": "stream",
     "text": [
      "Data Ready for SNOW\n"
     ]
    },
    {
     "name": "stderr",
     "output_type": "stream",
     "text": [
      "[*********************100%***********************]  1 of 1 completed\n"
     ]
    },
    {
     "name": "stdout",
     "output_type": "stream",
     "text": [
      "Data Ready for UBER\n"
     ]
    },
    {
     "name": "stderr",
     "output_type": "stream",
     "text": [
      "[*********************100%***********************]  1 of 1 completed\n"
     ]
    },
    {
     "name": "stdout",
     "output_type": "stream",
     "text": [
      "Data Ready for RIVN\n"
     ]
    },
    {
     "name": "stderr",
     "output_type": "stream",
     "text": [
      "[*********************100%***********************]  1 of 1 completed\n"
     ]
    },
    {
     "name": "stdout",
     "output_type": "stream",
     "text": [
      "Data Ready for PLTR\n"
     ]
    },
    {
     "name": "stderr",
     "output_type": "stream",
     "text": [
      "[*********************100%***********************]  1 of 1 completed\n"
     ]
    },
    {
     "name": "stdout",
     "output_type": "stream",
     "text": [
      "Data Ready for SHOP\n"
     ]
    },
    {
     "name": "stderr",
     "output_type": "stream",
     "text": [
      "[*********************100%***********************]  1 of 1 completed\n"
     ]
    },
    {
     "name": "stdout",
     "output_type": "stream",
     "text": [
      "Data Ready for CRWD\n"
     ]
    },
    {
     "name": "stderr",
     "output_type": "stream",
     "text": [
      "[*********************100%***********************]  1 of 1 completed\n"
     ]
    },
    {
     "name": "stdout",
     "output_type": "stream",
     "text": [
      "Data Ready for ZS\n"
     ]
    },
    {
     "name": "stderr",
     "output_type": "stream",
     "text": [
      "[*********************100%***********************]  1 of 1 completed\n"
     ]
    },
    {
     "name": "stdout",
     "output_type": "stream",
     "text": [
      "Data Ready for PANW\n"
     ]
    },
    {
     "name": "stderr",
     "output_type": "stream",
     "text": [
      "[*********************100%***********************]  1 of 1 completed\n",
      "\n",
      "1 Failed download:\n",
      "['SQ']: YFTzMissingError('possibly delisted; no timezone found')\n",
      "[*********************100%***********************]  1 of 1 completed\n"
     ]
    },
    {
     "name": "stdout",
     "output_type": "stream",
     "text": [
      "Data Ready for COIN\n"
     ]
    },
    {
     "name": "stderr",
     "output_type": "stream",
     "text": [
      "[*********************100%***********************]  1 of 1 completed\n"
     ]
    },
    {
     "name": "stdout",
     "output_type": "stream",
     "text": [
      "Data Ready for SMCI\n"
     ]
    },
    {
     "name": "stderr",
     "output_type": "stream",
     "text": [
      "[*********************100%***********************]  1 of 1 completed\n"
     ]
    },
    {
     "name": "stdout",
     "output_type": "stream",
     "text": [
      "Data Ready for ABNB\n"
     ]
    },
    {
     "name": "stderr",
     "output_type": "stream",
     "text": [
      "[*********************100%***********************]  1 of 1 completed"
     ]
    },
    {
     "name": "stdout",
     "output_type": "stream",
     "text": [
      "Data Ready for ROKU\n"
     ]
    },
    {
     "name": "stderr",
     "output_type": "stream",
     "text": [
      "\n"
     ]
    }
   ],
   "execution_count": 10
  },
  {
   "metadata": {
    "ExecuteTime": {
     "end_time": "2025-06-01T21:17:46.649459Z",
     "start_time": "2025-06-01T21:17:46.613193Z"
    }
   },
   "cell_type": "code",
   "source": "low_value_returns",
   "id": "6d1b0c39a208d046",
   "outputs": [
    {
     "data": {
      "text/plain": [
       "                TSLA      NVDA      AAPL      AMZN      MSFT      META  \\\n",
       "Date                                                                     \n",
       "2015-01-05 -0.042950 -0.017034 -0.028576 -0.020731 -0.009238 -0.016191   \n",
       "2015-01-06  0.005648 -0.030788  0.000095 -0.023098 -0.014787 -0.013565   \n",
       "2015-01-07 -0.001563 -0.002609  0.013925  0.010544  0.012625  0.000000   \n",
       "2015-01-08 -0.001566  0.036927  0.037702  0.006813  0.028994  0.026309   \n",
       "2015-01-09 -0.018981  0.004020  0.001072 -0.011818 -0.008441 -0.005644   \n",
       "...              ...       ...       ...       ...       ...       ...   \n",
       "2024-12-24  0.070991  0.003930  0.011413  0.017573  0.009330  0.013084   \n",
       "2024-12-26 -0.017787 -0.002070  0.003171 -0.008770 -0.002781 -0.007266   \n",
       "2024-12-27 -0.050745 -0.021088 -0.013331 -0.014641 -0.017453 -0.005884   \n",
       "2024-12-30 -0.033569  0.003497 -0.013352 -0.011010 -0.013328 -0.014391   \n",
       "2024-12-31 -0.033050 -0.023550 -0.007083 -0.008668 -0.007869 -0.009739   \n",
       "\n",
       "                NFLX      SNOW      UBER      RIVN      PLTR      SHOP  \\\n",
       "Date                                                                     \n",
       "2015-01-05 -0.052238       NaN       NaN       NaN       NaN       NaN   \n",
       "2015-01-06 -0.017269       NaN       NaN       NaN       NaN       NaN   \n",
       "2015-01-07  0.005178       NaN       NaN       NaN       NaN       NaN   \n",
       "2015-01-08  0.021946       NaN       NaN       NaN       NaN       NaN   \n",
       "2015-01-09 -0.015578       NaN       NaN       NaN       NaN       NaN   \n",
       "...              ...       ...       ...       ...       ...       ...   \n",
       "2024-12-24  0.022425  0.009985 -0.002589  0.022295  0.020728  0.008477   \n",
       "2024-12-26 -0.008598  0.002572 -0.002434 -0.001424 -0.002918 -0.001999   \n",
       "2024-12-27 -0.018115 -0.029990 -0.007010 -0.028171 -0.037965 -0.016320   \n",
       "2024-12-30 -0.007876 -0.023469 -0.005907 -0.005141 -0.024320 -0.013869   \n",
       "2024-12-31 -0.010169 -0.003620 -0.007433 -0.020834 -0.020287 -0.003380   \n",
       "\n",
       "                CRWD        ZS      PANW      COIN      SMCI      ABNB  \\\n",
       "Date                                                                     \n",
       "2015-01-05       NaN       NaN  0.018846       NaN -0.030997       NaN   \n",
       "2015-01-06       NaN       NaN -0.015311       NaN -0.027399       NaN   \n",
       "2015-01-07       NaN       NaN  0.029754       NaN  0.007299       NaN   \n",
       "2015-01-08       NaN       NaN  0.013295       NaN  0.051096       NaN   \n",
       "2015-01-09       NaN       NaN -0.010987       NaN -0.005775       NaN   \n",
       "...              ...       ...       ...       ...       ...       ...   \n",
       "2024-12-24  0.011797  0.007074  0.006830  0.041885  0.057861  0.003488   \n",
       "2024-12-26 -0.001943  0.001974 -0.005344 -0.018808 -0.017336  0.002442   \n",
       "2024-12-27 -0.028027 -0.016497 -0.012384 -0.032218 -0.053573 -0.014403   \n",
       "2024-12-30 -0.016130 -0.007778 -0.010692 -0.038948 -0.041500 -0.011878   \n",
       "2024-12-31 -0.020681 -0.014964 -0.012235 -0.028820 -0.006540 -0.003039   \n",
       "\n",
       "                ROKU  \n",
       "Date                  \n",
       "2015-01-05       NaN  \n",
       "2015-01-06       NaN  \n",
       "2015-01-07       NaN  \n",
       "2015-01-08       NaN  \n",
       "2015-01-09       NaN  \n",
       "...              ...  \n",
       "2024-12-24  0.009598  \n",
       "2024-12-26 -0.001006  \n",
       "2024-12-27 -0.031311  \n",
       "2024-12-30 -0.028175  \n",
       "2024-12-31 -0.007371  \n",
       "\n",
       "[2515 rows x 19 columns]"
      ],
      "text/html": [
       "<div>\n",
       "<style scoped>\n",
       "    .dataframe tbody tr th:only-of-type {\n",
       "        vertical-align: middle;\n",
       "    }\n",
       "\n",
       "    .dataframe tbody tr th {\n",
       "        vertical-align: top;\n",
       "    }\n",
       "\n",
       "    .dataframe thead th {\n",
       "        text-align: right;\n",
       "    }\n",
       "</style>\n",
       "<table border=\"1\" class=\"dataframe\">\n",
       "  <thead>\n",
       "    <tr style=\"text-align: right;\">\n",
       "      <th></th>\n",
       "      <th>TSLA</th>\n",
       "      <th>NVDA</th>\n",
       "      <th>AAPL</th>\n",
       "      <th>AMZN</th>\n",
       "      <th>MSFT</th>\n",
       "      <th>META</th>\n",
       "      <th>NFLX</th>\n",
       "      <th>SNOW</th>\n",
       "      <th>UBER</th>\n",
       "      <th>RIVN</th>\n",
       "      <th>PLTR</th>\n",
       "      <th>SHOP</th>\n",
       "      <th>CRWD</th>\n",
       "      <th>ZS</th>\n",
       "      <th>PANW</th>\n",
       "      <th>COIN</th>\n",
       "      <th>SMCI</th>\n",
       "      <th>ABNB</th>\n",
       "      <th>ROKU</th>\n",
       "    </tr>\n",
       "    <tr>\n",
       "      <th>Date</th>\n",
       "      <th></th>\n",
       "      <th></th>\n",
       "      <th></th>\n",
       "      <th></th>\n",
       "      <th></th>\n",
       "      <th></th>\n",
       "      <th></th>\n",
       "      <th></th>\n",
       "      <th></th>\n",
       "      <th></th>\n",
       "      <th></th>\n",
       "      <th></th>\n",
       "      <th></th>\n",
       "      <th></th>\n",
       "      <th></th>\n",
       "      <th></th>\n",
       "      <th></th>\n",
       "      <th></th>\n",
       "      <th></th>\n",
       "    </tr>\n",
       "  </thead>\n",
       "  <tbody>\n",
       "    <tr>\n",
       "      <th>2015-01-05</th>\n",
       "      <td>-0.042950</td>\n",
       "      <td>-0.017034</td>\n",
       "      <td>-0.028576</td>\n",
       "      <td>-0.020731</td>\n",
       "      <td>-0.009238</td>\n",
       "      <td>-0.016191</td>\n",
       "      <td>-0.052238</td>\n",
       "      <td>NaN</td>\n",
       "      <td>NaN</td>\n",
       "      <td>NaN</td>\n",
       "      <td>NaN</td>\n",
       "      <td>NaN</td>\n",
       "      <td>NaN</td>\n",
       "      <td>NaN</td>\n",
       "      <td>0.018846</td>\n",
       "      <td>NaN</td>\n",
       "      <td>-0.030997</td>\n",
       "      <td>NaN</td>\n",
       "      <td>NaN</td>\n",
       "    </tr>\n",
       "    <tr>\n",
       "      <th>2015-01-06</th>\n",
       "      <td>0.005648</td>\n",
       "      <td>-0.030788</td>\n",
       "      <td>0.000095</td>\n",
       "      <td>-0.023098</td>\n",
       "      <td>-0.014787</td>\n",
       "      <td>-0.013565</td>\n",
       "      <td>-0.017269</td>\n",
       "      <td>NaN</td>\n",
       "      <td>NaN</td>\n",
       "      <td>NaN</td>\n",
       "      <td>NaN</td>\n",
       "      <td>NaN</td>\n",
       "      <td>NaN</td>\n",
       "      <td>NaN</td>\n",
       "      <td>-0.015311</td>\n",
       "      <td>NaN</td>\n",
       "      <td>-0.027399</td>\n",
       "      <td>NaN</td>\n",
       "      <td>NaN</td>\n",
       "    </tr>\n",
       "    <tr>\n",
       "      <th>2015-01-07</th>\n",
       "      <td>-0.001563</td>\n",
       "      <td>-0.002609</td>\n",
       "      <td>0.013925</td>\n",
       "      <td>0.010544</td>\n",
       "      <td>0.012625</td>\n",
       "      <td>0.000000</td>\n",
       "      <td>0.005178</td>\n",
       "      <td>NaN</td>\n",
       "      <td>NaN</td>\n",
       "      <td>NaN</td>\n",
       "      <td>NaN</td>\n",
       "      <td>NaN</td>\n",
       "      <td>NaN</td>\n",
       "      <td>NaN</td>\n",
       "      <td>0.029754</td>\n",
       "      <td>NaN</td>\n",
       "      <td>0.007299</td>\n",
       "      <td>NaN</td>\n",
       "      <td>NaN</td>\n",
       "    </tr>\n",
       "    <tr>\n",
       "      <th>2015-01-08</th>\n",
       "      <td>-0.001566</td>\n",
       "      <td>0.036927</td>\n",
       "      <td>0.037702</td>\n",
       "      <td>0.006813</td>\n",
       "      <td>0.028994</td>\n",
       "      <td>0.026309</td>\n",
       "      <td>0.021946</td>\n",
       "      <td>NaN</td>\n",
       "      <td>NaN</td>\n",
       "      <td>NaN</td>\n",
       "      <td>NaN</td>\n",
       "      <td>NaN</td>\n",
       "      <td>NaN</td>\n",
       "      <td>NaN</td>\n",
       "      <td>0.013295</td>\n",
       "      <td>NaN</td>\n",
       "      <td>0.051096</td>\n",
       "      <td>NaN</td>\n",
       "      <td>NaN</td>\n",
       "    </tr>\n",
       "    <tr>\n",
       "      <th>2015-01-09</th>\n",
       "      <td>-0.018981</td>\n",
       "      <td>0.004020</td>\n",
       "      <td>0.001072</td>\n",
       "      <td>-0.011818</td>\n",
       "      <td>-0.008441</td>\n",
       "      <td>-0.005644</td>\n",
       "      <td>-0.015578</td>\n",
       "      <td>NaN</td>\n",
       "      <td>NaN</td>\n",
       "      <td>NaN</td>\n",
       "      <td>NaN</td>\n",
       "      <td>NaN</td>\n",
       "      <td>NaN</td>\n",
       "      <td>NaN</td>\n",
       "      <td>-0.010987</td>\n",
       "      <td>NaN</td>\n",
       "      <td>-0.005775</td>\n",
       "      <td>NaN</td>\n",
       "      <td>NaN</td>\n",
       "    </tr>\n",
       "    <tr>\n",
       "      <th>...</th>\n",
       "      <td>...</td>\n",
       "      <td>...</td>\n",
       "      <td>...</td>\n",
       "      <td>...</td>\n",
       "      <td>...</td>\n",
       "      <td>...</td>\n",
       "      <td>...</td>\n",
       "      <td>...</td>\n",
       "      <td>...</td>\n",
       "      <td>...</td>\n",
       "      <td>...</td>\n",
       "      <td>...</td>\n",
       "      <td>...</td>\n",
       "      <td>...</td>\n",
       "      <td>...</td>\n",
       "      <td>...</td>\n",
       "      <td>...</td>\n",
       "      <td>...</td>\n",
       "      <td>...</td>\n",
       "    </tr>\n",
       "    <tr>\n",
       "      <th>2024-12-24</th>\n",
       "      <td>0.070991</td>\n",
       "      <td>0.003930</td>\n",
       "      <td>0.011413</td>\n",
       "      <td>0.017573</td>\n",
       "      <td>0.009330</td>\n",
       "      <td>0.013084</td>\n",
       "      <td>0.022425</td>\n",
       "      <td>0.009985</td>\n",
       "      <td>-0.002589</td>\n",
       "      <td>0.022295</td>\n",
       "      <td>0.020728</td>\n",
       "      <td>0.008477</td>\n",
       "      <td>0.011797</td>\n",
       "      <td>0.007074</td>\n",
       "      <td>0.006830</td>\n",
       "      <td>0.041885</td>\n",
       "      <td>0.057861</td>\n",
       "      <td>0.003488</td>\n",
       "      <td>0.009598</td>\n",
       "    </tr>\n",
       "    <tr>\n",
       "      <th>2024-12-26</th>\n",
       "      <td>-0.017787</td>\n",
       "      <td>-0.002070</td>\n",
       "      <td>0.003171</td>\n",
       "      <td>-0.008770</td>\n",
       "      <td>-0.002781</td>\n",
       "      <td>-0.007266</td>\n",
       "      <td>-0.008598</td>\n",
       "      <td>0.002572</td>\n",
       "      <td>-0.002434</td>\n",
       "      <td>-0.001424</td>\n",
       "      <td>-0.002918</td>\n",
       "      <td>-0.001999</td>\n",
       "      <td>-0.001943</td>\n",
       "      <td>0.001974</td>\n",
       "      <td>-0.005344</td>\n",
       "      <td>-0.018808</td>\n",
       "      <td>-0.017336</td>\n",
       "      <td>0.002442</td>\n",
       "      <td>-0.001006</td>\n",
       "    </tr>\n",
       "    <tr>\n",
       "      <th>2024-12-27</th>\n",
       "      <td>-0.050745</td>\n",
       "      <td>-0.021088</td>\n",
       "      <td>-0.013331</td>\n",
       "      <td>-0.014641</td>\n",
       "      <td>-0.017453</td>\n",
       "      <td>-0.005884</td>\n",
       "      <td>-0.018115</td>\n",
       "      <td>-0.029990</td>\n",
       "      <td>-0.007010</td>\n",
       "      <td>-0.028171</td>\n",
       "      <td>-0.037965</td>\n",
       "      <td>-0.016320</td>\n",
       "      <td>-0.028027</td>\n",
       "      <td>-0.016497</td>\n",
       "      <td>-0.012384</td>\n",
       "      <td>-0.032218</td>\n",
       "      <td>-0.053573</td>\n",
       "      <td>-0.014403</td>\n",
       "      <td>-0.031311</td>\n",
       "    </tr>\n",
       "    <tr>\n",
       "      <th>2024-12-30</th>\n",
       "      <td>-0.033569</td>\n",
       "      <td>0.003497</td>\n",
       "      <td>-0.013352</td>\n",
       "      <td>-0.011010</td>\n",
       "      <td>-0.013328</td>\n",
       "      <td>-0.014391</td>\n",
       "      <td>-0.007876</td>\n",
       "      <td>-0.023469</td>\n",
       "      <td>-0.005907</td>\n",
       "      <td>-0.005141</td>\n",
       "      <td>-0.024320</td>\n",
       "      <td>-0.013869</td>\n",
       "      <td>-0.016130</td>\n",
       "      <td>-0.007778</td>\n",
       "      <td>-0.010692</td>\n",
       "      <td>-0.038948</td>\n",
       "      <td>-0.041500</td>\n",
       "      <td>-0.011878</td>\n",
       "      <td>-0.028175</td>\n",
       "    </tr>\n",
       "    <tr>\n",
       "      <th>2024-12-31</th>\n",
       "      <td>-0.033050</td>\n",
       "      <td>-0.023550</td>\n",
       "      <td>-0.007083</td>\n",
       "      <td>-0.008668</td>\n",
       "      <td>-0.007869</td>\n",
       "      <td>-0.009739</td>\n",
       "      <td>-0.010169</td>\n",
       "      <td>-0.003620</td>\n",
       "      <td>-0.007433</td>\n",
       "      <td>-0.020834</td>\n",
       "      <td>-0.020287</td>\n",
       "      <td>-0.003380</td>\n",
       "      <td>-0.020681</td>\n",
       "      <td>-0.014964</td>\n",
       "      <td>-0.012235</td>\n",
       "      <td>-0.028820</td>\n",
       "      <td>-0.006540</td>\n",
       "      <td>-0.003039</td>\n",
       "      <td>-0.007371</td>\n",
       "    </tr>\n",
       "  </tbody>\n",
       "</table>\n",
       "<p>2515 rows × 19 columns</p>\n",
       "</div>"
      ]
     },
     "execution_count": 11,
     "metadata": {},
     "output_type": "execute_result"
    }
   ],
   "execution_count": 11
  },
  {
   "metadata": {
    "ExecuteTime": {
     "end_time": "2025-06-01T21:18:20.727953Z",
     "start_time": "2025-06-01T21:18:20.713815Z"
    }
   },
   "cell_type": "code",
   "source": [
    "# And the Portfolio\n",
    "low_value_portfolio = low_value_returns.mean(axis=1)\n",
    "low_value_portfolio.name = 'low_value_portfolio'\n",
    "\n",
    "low_value_portfolio"
   ],
   "id": "cbe964fc7187d287",
   "outputs": [
    {
     "data": {
      "text/plain": [
       "Date\n",
       "2015-01-05   -0.022123\n",
       "2015-01-06   -0.015164\n",
       "2015-01-07    0.008350\n",
       "2015-01-08    0.024613\n",
       "2015-01-09   -0.008015\n",
       "                ...   \n",
       "2024-12-24    0.018220\n",
       "2024-12-26   -0.004754\n",
       "2024-12-27   -0.023638\n",
       "2024-12-30   -0.016728\n",
       "2024-12-31   -0.013123\n",
       "Name: low_value_portfolio, Length: 2515, dtype: float64"
      ]
     },
     "execution_count": 12,
     "metadata": {},
     "output_type": "execute_result"
    }
   ],
   "execution_count": 12
  },
  {
   "metadata": {
    "ExecuteTime": {
     "end_time": "2025-06-01T21:19:09.592805Z",
     "start_time": "2025-06-01T21:19:09.056873Z"
    }
   },
   "cell_type": "code",
   "source": [
    "# Create Plot\n",
    "plt.figure(figsize=(10, 6))\n",
    "plt.plot(low_value_portfolio.cumsum(), label='Low Value Portfolio', alpha=1)\n",
    "plt.plot(high_value_portfolio.cumsum(), label='High Value Portfolio', alpha=1)\n",
    "\n",
    "# Config\n",
    "plt.title('Cumulative Returns (Value Adjusted) Time Series')\n",
    "plt.xlabel('Time')\n",
    "plt.ylabel('Returns')\n",
    "plt.legend()\n",
    "plt.grid()\n",
    "\n",
    "# Show\n",
    "plt.show()"
   ],
   "id": "d7ae28ab072c1631",
   "outputs": [
    {
     "data": {
      "text/plain": [
       "<Figure size 1000x600 with 1 Axes>"
      ],
      "image/png": "[encoded data removed]"
     },
     "metadata": {},
     "output_type": "display_data"
    }
   ],
   "execution_count": 13
  },
  {
   "metadata": {
    "ExecuteTime": {
     "end_time": "2025-06-01T21:42:28.343412Z",
     "start_time": "2025-06-01T21:42:28.009467Z"
    }
   },
   "cell_type": "code",
   "source": [
    "# Create Plot\n",
    "HML = high_value_portfolio - low_value_portfolio\n",
    "\n",
    "plt.figure(figsize=(10, 6))\n",
    "plt.plot(HML.cumsum(), label='HML', alpha=1)\n",
    "\n",
    "# Config\n",
    "plt.title('Cumulative Returns Time Series')\n",
    "plt.xlabel('Time')\n",
    "plt.ylabel('Returns')\n",
    "plt.legend()\n",
    "plt.grid()\n",
    "\n",
    "# Show\n",
    "plt.show()"
   ],
   "id": "e5180726c37dd67b",
   "outputs": [
    {
     "data": {
      "text/plain": [
       "<Figure size 1000x600 with 1 Axes>"
      ],
      "image/png": "[encoded data removed]"
     },
     "metadata": {},
     "output_type": "display_data"
    }
   ],
   "execution_count": 14
  },
  {
   "metadata": {},
   "cell_type": "code",
   "outputs": [],
   "execution_count": null,
   "source": "",
   "id": "73b0d1cfccec7d33"
  }
 ],
 "metadata": {
  "kernelspec": {
   "display_name": "Python 3",
   "language": "python",
   "name": "python3"
  },
  "language_info": {
   "codemirror_mode": {
    "name": "ipython",
    "version": 2
   },
   "file_extension": ".py",
   "mimetype": "text/x-python",
   "name": "python",
   "nbconvert_exporter": "python",
   "pygments_lexer": "ipython2",
   "version": "2.7.6"
  }
 },
 "nbformat": 4,
 "nbformat_minor": 5
}
