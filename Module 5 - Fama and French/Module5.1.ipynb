{
 "cells": [
  {
   "cell_type": "markdown",
   "id": "b23402fb-ee78-420b-81d1-0de2cc20597c",
   "metadata": {},
   "source": [
    "# Fama and French Factor Model #"
   ]
  },
  {
   "cell_type": "markdown",
   "id": "fb2e3f1f-e916-4259-8784-27985d1b4dff",
   "metadata": {},
   "source": [
    "### Import Data ###"
   ]
  },
  {
   "cell_type": "code",
   "id": "31ebf0cb-fa3a-462d-9abe-c1eddba190ca",
   "metadata": {
    "ExecuteTime": {
     "end_time": "2025-04-21T22:27:01.041644Z",
     "start_time": "2025-04-21T22:27:01.038107Z"
    }
   },
   "source": [
    "# Import Libraries\n",
    "\n",
    "# Data Management\n",
    "import pandas as pd\n",
    "import numpy as np\n",
    "\n",
    "# Plots\n",
    "import matplotlib.pyplot as plt\n",
    "\n",
    "# Handle Files\n",
    "import sys\n",
    "import os\n",
    "\n",
    "# Import Local Functions\n",
    "sys.path.append(os.path.abspath(\"../source\"))\n",
    "from functions import import_stock_universe\n",
    "from capm_toolkit import compute_daily_returns\n",
    "from capm_toolkit import compute_excess_returns\n",
    "from capm_toolkit import capm_regression\n",
    "from portfolios_toolkit import calculate_analytics"
   ],
   "execution_count": 73,
   "outputs": []
  },
  {
   "cell_type": "code",
   "id": "d7665a4b-870e-49cd-a7d7-b73f0fdf8a7d",
   "metadata": {
    "ExecuteTime": {
     "end_time": "2025-04-21T21:52:34.640778Z",
     "start_time": "2025-04-21T21:52:34.442435Z"
    }
   },
   "source": [
    "# Get the important data for the Risk Free Rate\n",
    "\n",
    "rfr = pd.read_csv(r\"..\\additional_data\\rfr.csv\")\n",
    "rfr = rfr.set_index('Date')\n",
    "rfr.index = pd.to_datetime(rfr.index, dayfirst=True)\n",
    "\n",
    "# Get the important data for the S&P500\n",
    "\n",
    "sp500 = pd.read_csv(r\"..\\additional_data\\sp500.csv\")\n",
    "sp500 = sp500.set_index('Date')\n",
    "sp500.index = pd.to_datetime(sp500.index)\n",
    "\n",
    "# Get the data for the Stocks' Betas\n",
    "\n",
    "betas_df = pd.read_csv(r\"..\\additional_data\\capm_hbetas.csv\")\n",
    "betas_df = betas_df.set_index('date')\n",
    "betas_df.index = pd.to_datetime(betas_df.index)"
   ],
   "execution_count": 3,
   "outputs": []
  },
  {
   "cell_type": "code",
   "id": "796f0754-9135-49ce-85a0-40818234f807",
   "metadata": {
    "ExecuteTime": {
     "end_time": "2025-04-21T21:52:55.698774Z",
     "start_time": "2025-04-21T21:52:42.786094Z"
    }
   },
   "source": [
    "# Dictionary to store the DataFrames\n",
    "folder_path = r\"..\\stocks\"\n",
    "\n",
    "dataframes = import_stock_universe(\n",
    "    folder_path,\n",
    "    ['Adjusted_close', 'Company Market Cap', 'Price_to_Book'],\n",
    "    ['adj_close', 'mkt_cap', 'ptb'],\n",
    ")"
   ],
   "execution_count": 4,
   "outputs": []
  },
  {
   "metadata": {
    "ExecuteTime": {
     "end_time": "2025-04-21T21:52:56.365077Z",
     "start_time": "2025-04-21T21:52:55.699843Z"
    }
   },
   "cell_type": "code",
   "source": "dataframes",
   "id": "2e9721f5ccf400cb",
   "execution_count": 5,
   "outputs": []
  },
  {
   "cell_type": "code",
   "id": "fae1c60f-10c2-4339-99a9-aec4f9630ba8",
   "metadata": {
    "ExecuteTime": {
     "end_time": "2025-04-21T21:54:15.042239Z",
     "start_time": "2025-04-21T21:54:14.791215Z"
    }
   },
   "source": [
    "# Create a whole new dataframe that contains all the stocks betas\n",
    "\n",
    "rets_series = []\n",
    "\n",
    "for stock, df in dataframes.items():\n",
    "    series = df['adj_close'].pct_change(1).rename(stock)  \n",
    "    series = series.iloc[1:]\n",
    "    rets_series.append(series)\n",
    "\n",
    "# Concat\n",
    "returns_df = pd.concat(rets_series, axis=1)\n",
    "returns_df = returns_df.apply(lambda x: x.fillna(x.mean()), axis=0)\n",
    "\n",
    "returns_df.dropna(inplace = True)\n",
    "\n",
    "returns_df"
   ],
   "execution_count": 6,
   "outputs": []
  },
  {
   "cell_type": "code",
   "id": "67cc5b77-6c40-4037-ae28-c6c343aab727",
   "metadata": {
    "ExecuteTime": {
     "end_time": "2025-04-21T21:58:26.345292Z",
     "start_time": "2025-04-21T21:58:26.266820Z"
    }
   },
   "source": [
    "# Create a whole new dataframe that contains all the stocks betas\n",
    "mktcap_series = []\n",
    "\n",
    "for stock, df in dataframes.items():\n",
    "    series = df['mkt_cap'].rename(stock)  \n",
    "    mktcap_series.append(series)\n",
    "\n",
    "# Concat\n",
    "mktcap_df = pd.concat(mktcap_series, axis=1)\n",
    "\n",
    "# Apply Logs and EMA (maybe)\n",
    "mktcap_df = np.log(mktcap_df)\n",
    "mktcap_df = mktcap_df.ewm(span=5, adjust = False).mean()\n",
    "mktcap_df = mktcap_df.bfill()\n",
    "mktcap_df"
   ],
   "execution_count": 14,
   "outputs": []
  },
  {
   "cell_type": "code",
   "id": "94e50ba7-7845-4020-822d-bc8adf3ce11f",
   "metadata": {
    "ExecuteTime": {
     "end_time": "2025-04-21T21:59:42.828114Z",
     "start_time": "2025-04-21T21:59:42.740222Z"
    }
   },
   "source": [
    "# Create a whole new dataframe that contains all the stocks betas\n",
    "\n",
    "ptb_series = []\n",
    "\n",
    "for stock, df in dataframes.items():\n",
    "    series = df['ptb'].rename(stock)  \n",
    "    series = series.iloc[1:]\n",
    "    ptb_series.append(series)\n",
    "\n",
    "# Concat\n",
    "ptb_df = pd.concat(ptb_series, axis=1)\n",
    "\n",
    "# Apply an ema\n",
    "ptb_df = ptb_df.ewm(span=5, adjust = False).mean()\n",
    "ptb_df = ptb_df.bfill()\n",
    "\n",
    "ptb_df"
   ],
   "execution_count": 19,
   "outputs": []
  },
  {
   "cell_type": "code",
   "id": "e6686b54-7ccf-466d-a1c1-ba6a1e062cbe",
   "metadata": {
    "ExecuteTime": {
     "end_time": "2025-04-21T22:00:03.403033Z",
     "start_time": "2025-04-21T22:00:03.376744Z"
    }
   },
   "source": [
    "# We prefer to use book to price\n",
    "btp_df = 1 / ptb_df\n",
    "\n",
    "btp_df"
   ],
   "execution_count": 21,
   "outputs": []
  },
  {
   "cell_type": "code",
   "id": "1d055997-7125-427e-ad8a-7e39604a4219",
   "metadata": {
    "ExecuteTime": {
     "end_time": "2025-04-21T22:13:40.845442Z",
     "start_time": "2025-04-21T22:13:40.838101Z"
    }
   },
   "source": [
    "# Create the data\n",
    "daily_rfr = compute_daily_returns(rfr['risk_free_rate'])\n",
    "market_excess_returns = compute_excess_returns(sp500['sp_500'], rfr['risk_free_rate'])"
   ],
   "execution_count": 45,
   "outputs": []
  },
  {
   "metadata": {},
   "cell_type": "markdown",
   "source": "### Testing for Size Factor ###",
   "id": "a2248146-11d0-4d29-994f-19949aa25435"
  },
  {
   "metadata": {},
   "cell_type": "code",
   "execution_count": 31,
   "source": [
    "# Create Plot\n",
    "\n",
    "tickers = ['NVDA', 'MSFT', 'WMT', 'DG', 'GOOG', 'FMC']\n",
    "\n",
    "plt.figure(figsize=(10, 6))\n",
    "plt.plot(mktcap_df[tickers], label=tickers, alpha=1)\n",
    "\n",
    "# Config\n",
    "plt.title('Market Capitalization Time Series')\n",
    "plt.xlabel('Time')\n",
    "plt.ylabel('Mkt Cap')\n",
    "plt.legend()\n",
    "plt.grid()\n",
    "\n",
    "# Show\n",
    "plt.show()"
   ],
   "id": "3c0df9d2-6ae5-461c-b640-21e085e1fe90",
   "outputs": []
  },
  {
   "metadata": {},
   "cell_type": "code",
   "execution_count": 32,
   "source": [
    "# Define the Decomposition Function\n",
    "def size_decomposition(\n",
    "    target_df, \n",
    "    mktcap_df\n",
    "):\n",
    "    # Common Indexes\n",
    "    common_index = target_df.index.intersection(mktcap_df.index)\n",
    "    \n",
    "    # Reindex\n",
    "    target_df = target_df.loc[common_index]\n",
    "    mktcap_df = mktcap_df.loc[common_index]\n",
    "\n",
    "    # Initialize lists to store portfolio returns\n",
    "    big_list, mid_list, small_list = [], [], []\n",
    "    \n",
    "    # Get unique quarters\n",
    "    quarters = sorted(set([date.to_period('Q') for date in common_index]))\n",
    "    \n",
    "    # Dictionary to store quarterly classifications and weights\n",
    "    quarterly_classifications = {}\n",
    "\n",
    "    for quarter in quarters:\n",
    "        # Select only the last available date of the quarter\n",
    "        quarter_dates = [date for date in common_index if date.to_period('Q') == quarter]\n",
    "        rebalance_date = quarter_dates[-1]  # Last day of the quarter\n",
    "        \n",
    "        # Size factor for rebalance date\n",
    "        size_factor_df = pd.DataFrame([mktcap_df.loc[rebalance_date]], index=['mkt_cap']).T.dropna()\n",
    "        \n",
    "        # Classify stocks into based on the median\n",
    "        median = size_factor_df['mkt_cap'].median()\n",
    "\n",
    "        size_factor_df['Size_Class'] = 'Small'\n",
    "        size_factor_df.loc[size_factor_df['mkt_cap'] > median, 'Size_Class'] = 'Big'\n",
    "        \n",
    "        # Weights\n",
    "        market_caps_df = pd.DataFrame([mktcap_df.loc[rebalance_date]], index=['mkt_cap']).T\n",
    "        \n",
    "        # Assign market caps to value classes\n",
    "        small_mktcap_df = market_caps_df.loc[size_factor_df[size_factor_df['Size_Class'] == 'Small'].index]\n",
    "        big_mktcap_df = market_caps_df.loc[size_factor_df[size_factor_df['Size_Class'] == 'Big'].index]\n",
    "        \n",
    "        # Compute weights\n",
    "        small_weights = small_mktcap_df['mkt_cap'] / small_mktcap_df['mkt_cap'].sum()\n",
    "        big_weights = big_mktcap_df['mkt_cap'] / big_mktcap_df['mkt_cap'].sum()\n",
    "        \n",
    "        # Store classifications and weights\n",
    "        quarterly_classifications[quarter] = {\n",
    "            \"small\": small_weights,\n",
    "            \"big\": big_weights\n",
    "        }\n",
    "    \n",
    "    # Iterate over all available dates to compute daily returns\n",
    "    for date in common_index:\n",
    "        quarter_key = date.to_period('Q')  # Get quarter of the current date\n",
    "        \n",
    "        if quarter_key in quarterly_classifications:\n",
    "            # Retrieve stored classification and weights\n",
    "            small_weights = quarterly_classifications[quarter_key][\"small\"]\n",
    "            big_weights = quarterly_classifications[quarter_key][\"big\"]\n",
    "            \n",
    "            # Retrieve daily returns\n",
    "            target = pd.DataFrame([target_df.loc[date]], index=['returns']).T\n",
    "            \n",
    "            small_returns = target.reindex(small_weights.index).dropna()\n",
    "            big_returns = target.reindex(big_weights.index).dropna()\n",
    "            \n",
    "            # Compute portfolio returns\n",
    "            small_result = small_weights.reindex(small_returns.index).T @ small_returns\n",
    "            big_result = big_weights.reindex(big_returns.index).T @ big_returns\n",
    "            \n",
    "            # Store results\n",
    "            small_list.append(small_result.values[0] if not small_result.empty else None)\n",
    "            big_list.append(big_result.values[0] if not big_result.empty else None)\n",
    "\n",
    "    # Create final DataFrame\n",
    "    size_portfolios = pd.DataFrame({\n",
    "        'big': big_list,\n",
    "        'small': small_list\n",
    "    }, index=common_index)\n",
    "    \n",
    "    return size_portfolios"
   ],
   "id": "111c3f18-164a-482b-92c0-c78b35d55cf6",
   "outputs": []
  },
  {
   "metadata": {},
   "cell_type": "code",
   "execution_count": 33,
   "source": [
    "# Create DataFrames\n",
    "\n",
    "size_portfolio_returns = size_decomposition(returns_df, mktcap_df)\n",
    "\n",
    "size_portfolio_returns"
   ],
   "id": "887d2c9a-b8e6-4732-88cb-fba3336f2af2",
   "outputs": []
  },
  {
   "metadata": {
    "ExecuteTime": {
     "end_time": "2025-04-21T22:27:14.550182Z",
     "start_time": "2025-04-21T22:27:14.527491Z"
    }
   },
   "cell_type": "code",
   "source": [
    "# Analytics Table\n",
    "\n",
    "size_analytics_table = calculate_analytics(size_portfolio_returns)\n",
    "\n",
    "size_analytics_table"
   ],
   "id": "644e51f5c32a5d04",
   "execution_count": 74,
   "outputs": []
  },
  {
   "metadata": {},
   "cell_type": "code",
   "execution_count": 37,
   "source": [
    "# Create Plot\n",
    "\n",
    "plt.figure(figsize=(10, 6))\n",
    "plt.plot(size_portfolio_returns.cumsum(), label=size_portfolio_returns.columns, alpha=1)\n",
    "\n",
    "# Config\n",
    "plt.title('Cumulative Returns (Size Adjusted) Time Series')\n",
    "plt.xlabel('Time')\n",
    "plt.ylabel('Returns')\n",
    "plt.legend()\n",
    "plt.grid()\n",
    "\n",
    "# Show\n",
    "plt.show()"
   ],
   "id": "6948115d-d03c-4da6-bbc4-b3f581d2aafb",
   "outputs": []
  },
  {
   "metadata": {},
   "cell_type": "code",
   "execution_count": 38,
   "source": [
    "# Create DataFrames\n",
    "\n",
    "size_portfolio_betas = size_decomposition(betas_df, mktcap_df)\n",
    "\n",
    "size_portfolio_betas"
   ],
   "id": "a659d2c0-76bc-41c1-86c1-15efcf58cec9",
   "outputs": []
  },
  {
   "metadata": {},
   "cell_type": "code",
   "execution_count": 39,
   "source": [
    "plt.figure(figsize=(10, 6))\n",
    "plt.plot(size_portfolio_betas.ewm(span=21, adjust = False).mean(), label=size_portfolio_betas.columns, alpha=1)\n",
    "plt.axhline(y=1, color='black', linestyle='dashed')\n",
    "\n",
    "# Config\n",
    "plt.title('Betas (Size Adjusted) Time Series')\n",
    "plt.xlabel('Time')\n",
    "plt.ylabel('Betas')\n",
    "plt.legend()\n",
    "plt.grid()\n",
    "\n",
    "# Show\n",
    "plt.show()"
   ],
   "id": "ba49239a-9e29-4d23-9922-9e4ddf1eb254",
   "outputs": []
  },
  {
   "cell_type": "code",
   "id": "13e7db42-fca7-43b3-96be-845bd8e9f55f",
   "metadata": {
    "ExecuteTime": {
     "end_time": "2025-04-21T22:13:42.201104Z",
     "start_time": "2025-04-21T22:13:42.187779Z"
    }
   },
   "source": [
    "# Create the regression dataframe\n",
    "size_regression_df = pd.DataFrame(index = size_portfolio_returns.index)\n",
    "\n",
    "size_regression_df['big_excess_returns'] = size_portfolio_returns['big'] - daily_rfr\n",
    "size_regression_df['small_excess_returns'] = size_portfolio_returns['small'] - daily_rfr\n",
    "size_regression_df['market_excess_returns'] = market_excess_returns\n",
    "size_regression_df.dropna(inplace = True)\n",
    "\n",
    "size_regression_df"
   ],
   "execution_count": 46,
   "outputs": []
  },
  {
   "cell_type": "code",
   "id": "8bf70768-a1f2-4162-b0ae-eced42eaa29a",
   "metadata": {
    "ExecuteTime": {
     "end_time": "2025-04-21T22:14:28.981678Z",
     "start_time": "2025-04-21T22:14:28.958061Z"
    }
   },
   "source": [
    "# Calculate the Beta for the Large Portfolio\n",
    "\n",
    "y = size_regression_df['big_excess_returns']\n",
    "x = size_regression_df['market_excess_returns']\n",
    "\n",
    "# Calculate Weights\n",
    "window = len(y) \n",
    "     \n",
    "#the results of the model\n",
    "results = capm_regression(\n",
    "    y,\n",
    "    x,\n",
    "    window,\n",
    "    True\n",
    ")\n",
    "    \n",
    "#here we check the summary\n",
    "print(results.summary())"
   ],
   "execution_count": 47,
   "outputs": []
  },
  {
   "cell_type": "code",
   "id": "ed7fa24c-7dc7-4b27-8637-e10629a0695c",
   "metadata": {
    "ExecuteTime": {
     "end_time": "2025-04-21T22:15:07.131125Z",
     "start_time": "2025-04-21T22:15:07.107422Z"
    }
   },
   "source": [
    "# Calculate the Beta for the Small Portfolio\n",
    "\n",
    "y = size_regression_df['small_excess_returns']\n",
    "x = size_regression_df['market_excess_returns']\n",
    "\n",
    "# Calculate Weights\n",
    "window = len(y) \n",
    "     \n",
    "#the results of the model\n",
    "results = capm_regression(\n",
    "    y,\n",
    "    x,\n",
    "    window,\n",
    "    True\n",
    ")\n",
    "    \n",
    "#here we check the summary\n",
    "print(results.summary())"
   ],
   "execution_count": 48,
   "outputs": []
  },
  {
   "cell_type": "code",
   "id": "86b54273-dd9e-4fe6-afaf-b72b6806be0e",
   "metadata": {
    "ExecuteTime": {
     "end_time": "2025-04-21T22:15:15.361269Z",
     "start_time": "2025-04-21T22:15:15.357073Z"
    }
   },
   "source": [
    "# Calculate the Small Minus Big Premium\n",
    "\n",
    "size_regression_df['SMB'] = size_portfolio_returns['small'] - size_portfolio_returns['big']"
   ],
   "execution_count": 49,
   "outputs": []
  },
  {
   "cell_type": "code",
   "id": "1ec2417f-47a3-4779-8a6e-923feef00c65",
   "metadata": {
    "ExecuteTime": {
     "end_time": "2025-04-21T22:15:19.551205Z",
     "start_time": "2025-04-21T22:15:19.409873Z"
    }
   },
   "source": [
    "plt.figure(figsize=(10, 6))\n",
    "plt.plot(size_regression_df['SMB'].cumsum(), label='SMB Premium', color = 'salmon', alpha=1)\n",
    "plt.axhline(y=0, color='black', linestyle='dashed')\n",
    "\n",
    "# Config\n",
    "plt.title('SMB Returns Time Series')\n",
    "plt.xlabel('Time')\n",
    "plt.ylabel('Returns')\n",
    "plt.legend()\n",
    "plt.grid()\n",
    "\n",
    "# Show\n",
    "plt.show()"
   ],
   "execution_count": 50,
   "outputs": []
  },
  {
   "cell_type": "code",
   "id": "5241ba6f-3345-446a-b3c6-84c14efb6973",
   "metadata": {
    "ExecuteTime": {
     "end_time": "2025-04-21T22:15:39.041056Z",
     "start_time": "2025-04-21T22:15:39.034605Z"
    }
   },
   "source": [
    "# Check the Correlation with the Market\n",
    "\n",
    "size_regression_df['SMB'].corr(size_regression_df['market_excess_returns'])"
   ],
   "execution_count": 51,
   "outputs": []
  },
  {
   "cell_type": "code",
   "id": "c03ef474-440b-4b61-a215-48c9d2ba0625",
   "metadata": {
    "ExecuteTime": {
     "end_time": "2025-04-21T22:15:57.636041Z",
     "start_time": "2025-04-21T22:15:57.620319Z"
    }
   },
   "source": [
    "# Calculate the Beta for the SMB Premium\n",
    "\n",
    "y = size_regression_df['SMB']\n",
    "\n",
    "x = size_regression_df['market_excess_returns']\n",
    "\n",
    "# Calculate Weights\n",
    "window = len(y) \n",
    "     \n",
    "#the results of the model\n",
    "results = capm_regression(\n",
    "    y,\n",
    "    x,\n",
    "    window,\n",
    "    True\n",
    ")\n",
    "    \n",
    "#here we check the summary\n",
    "print(results.summary())  "
   ],
   "execution_count": 52,
   "outputs": []
  },
  {
   "cell_type": "markdown",
   "id": "d2748568-5b9f-4caf-a2d5-68f50a35f2fc",
   "metadata": {},
   "source": [
    "### Testing for Value Factor ###"
   ]
  },
  {
   "cell_type": "code",
   "id": "33d44e76-aa71-4d29-be65-b87249747e64",
   "metadata": {
    "ExecuteTime": {
     "end_time": "2025-04-21T22:18:11.409107Z",
     "start_time": "2025-04-21T22:18:11.243872Z"
    }
   },
   "source": [
    "# Create Plot\n",
    "\n",
    "tickers = ['NVDA', 'MSFT', 'WMT', 'DG', 'GOOG', 'FMC']\n",
    "\n",
    "plt.figure(figsize=(10, 6))\n",
    "plt.plot(btp_df[tickers], label=tickers, alpha=1)\n",
    "\n",
    "# Config\n",
    "plt.title('Price to Book Time Series')\n",
    "plt.xlabel('Time')\n",
    "plt.ylabel('PTB')\n",
    "plt.legend()\n",
    "plt.grid()\n",
    "\n",
    "# Show\n",
    "plt.show()"
   ],
   "execution_count": 54,
   "outputs": []
  },
  {
   "cell_type": "code",
   "id": "7bd5bc88-93ab-4c92-a346-9e1e9c2ec6c3",
   "metadata": {
    "ExecuteTime": {
     "end_time": "2025-04-21T22:18:49.380384Z",
     "start_time": "2025-04-21T22:18:49.371364Z"
    }
   },
   "source": [
    "# Define the Decomposition Function\n",
    "\n",
    "def value_decomposition(target_df, mktcap_df, value_df):\n",
    "    # Common Indexes\n",
    "    common_index = target_df.index.intersection(value_df.index).intersection(mktcap_df.index)\n",
    "    \n",
    "    # Reindex\n",
    "    target_df = target_df.loc[common_index]\n",
    "    mktcap_df = mktcap_df.loc[common_index]\n",
    "    value_df = value_df.loc[common_index]\n",
    "\n",
    "    # Initialize lists to store portfolio returns\n",
    "    high_list, neutral_list, low_list = [], [], []\n",
    "    \n",
    "    # Get unique quarters\n",
    "    quarters = sorted(set([date.to_period('Q') for date in common_index]))\n",
    "    \n",
    "    # Dictionary to store quarterly classifications and weights\n",
    "    quarterly_classifications = {}\n",
    "\n",
    "    for quarter in quarters:\n",
    "        # Select only the last available date of the quarter\n",
    "        quarter_dates = [date for date in common_index if date.to_period('Q') == quarter]\n",
    "        rebalance_date = quarter_dates[-1]  # Last day of the quarter\n",
    "        \n",
    "        # Value factor (P/B ratio) for rebalance date\n",
    "        value_factor_df = pd.DataFrame([value_df.loc[rebalance_date]], index=['btp']).T.dropna()\n",
    "        \n",
    "        # Classify stocks into Low, Neutral, and High based on quantiles\n",
    "        lower = value_factor_df['btp'].quantile(0.3)\n",
    "        upper = value_factor_df['btp'].quantile(0.7)\n",
    "\n",
    "        value_factor_df['Value_Class'] = 'Neutral'\n",
    "        value_factor_df.loc[value_factor_df['btp'] <= lower, 'Value_Class'] = 'Low'\n",
    "        value_factor_df.loc[value_factor_df['btp'] >= upper, 'Value_Class'] = 'High'\n",
    "        \n",
    "        # Market cap data\n",
    "        market_caps_df = pd.DataFrame([mktcap_df.loc[rebalance_date]], index=['mkt_cap']).T\n",
    "        \n",
    "        # Assign market caps to value classes\n",
    "        low_mktcap_df = market_caps_df.loc[value_factor_df[value_factor_df['Value_Class'] == 'Low'].index]\n",
    "        neutral_mktcap_df = market_caps_df.loc[value_factor_df[value_factor_df['Value_Class'] == 'Neutral'].index]\n",
    "        high_mktcap_df = market_caps_df.loc[value_factor_df[value_factor_df['Value_Class'] == 'High'].index]\n",
    "        \n",
    "        # Compute weights\n",
    "        low_weights = low_mktcap_df['mkt_cap'] / low_mktcap_df['mkt_cap'].sum()\n",
    "        neutral_weights = neutral_mktcap_df['mkt_cap'] / neutral_mktcap_df['mkt_cap'].sum()\n",
    "        high_weights = high_mktcap_df['mkt_cap'] / high_mktcap_df['mkt_cap'].sum()\n",
    "        \n",
    "        # Store classifications and weights\n",
    "        quarterly_classifications[quarter] = {\n",
    "            \"low\": low_weights,\n",
    "            \"neutral\": neutral_weights,\n",
    "            \"high\": high_weights\n",
    "        }\n",
    "    \n",
    "    # Iterate over all available dates to compute daily returns\n",
    "    for date in common_index:\n",
    "        quarter_key = date.to_period('Q')  # Get quarter of the current date\n",
    "        \n",
    "        if quarter_key in quarterly_classifications:\n",
    "            # Retrieve stored classification and weights\n",
    "            low_weights = quarterly_classifications[quarter_key][\"low\"]\n",
    "            neutral_weights = quarterly_classifications[quarter_key][\"neutral\"]\n",
    "            high_weights = quarterly_classifications[quarter_key][\"high\"]\n",
    "            \n",
    "            # Retrieve daily returns\n",
    "            target = pd.DataFrame([target_df.loc[date]], index=['returns']).T\n",
    "            \n",
    "            low_returns = target.reindex(low_weights.index).dropna()\n",
    "            neutral_returns = target.reindex(neutral_weights.index).dropna()\n",
    "            high_returns = target.reindex(high_weights.index).dropna()\n",
    "            \n",
    "            # Compute portfolio returns\n",
    "            low_result = low_weights.reindex(low_returns.index).T @ low_returns\n",
    "            neutral_result = neutral_weights.reindex(neutral_returns.index).T @ neutral_returns\n",
    "            high_result = high_weights.reindex(high_returns.index).T @ high_returns\n",
    "            \n",
    "            # Store results\n",
    "            low_list.append(low_result.values[0] if not low_result.empty else None)\n",
    "            neutral_list.append(neutral_result.values[0] if not neutral_result.empty else None)\n",
    "            high_list.append(high_result.values[0] if not high_result.empty else None)\n",
    "\n",
    "    # Create final DataFrame\n",
    "    value_portfolios = pd.DataFrame({\n",
    "        'high': high_list,\n",
    "        'neutral': neutral_list,\n",
    "        'low': low_list\n",
    "    }, index=common_index)\n",
    "    \n",
    "    return value_portfolios"
   ],
   "execution_count": 55,
   "outputs": []
  },
  {
   "cell_type": "code",
   "id": "d0fc50eb-3eef-41e7-9892-85fb28fdd772",
   "metadata": {
    "ExecuteTime": {
     "end_time": "2025-04-21T22:18:58.336643Z",
     "start_time": "2025-04-21T22:18:51.161474Z"
    }
   },
   "source": [
    "# Create DataFrames\n",
    "\n",
    "value_portfolio_returns = value_decomposition(returns_df, mktcap_df, btp_df)\n",
    "\n",
    "value_portfolio_returns"
   ],
   "execution_count": 56,
   "outputs": []
  },
  {
   "cell_type": "code",
   "id": "f4e91066-b6d8-4379-8038-bedf4dc74ae8",
   "metadata": {
    "ExecuteTime": {
     "end_time": "2025-04-21T22:28:40.785918Z",
     "start_time": "2025-04-21T22:28:40.777249Z"
    }
   },
   "source": [
    "# Analytics Table\n",
    "\n",
    "value_analytics_table = calculate_analytics(value_portfolio_returns)\n",
    "\n",
    "value_analytics_table"
   ],
   "execution_count": 75,
   "outputs": []
  },
  {
   "cell_type": "code",
   "id": "da0f205e-0643-4abf-b65a-94c17e518df0",
   "metadata": {
    "ExecuteTime": {
     "end_time": "2025-04-21T22:20:03.734785Z",
     "start_time": "2025-04-21T22:20:03.580484Z"
    }
   },
   "source": [
    "plt.figure(figsize=(10, 6))\n",
    "plt.plot(value_portfolio_returns.cumsum(), label=value_portfolio_returns.columns, alpha=1)\n",
    "\n",
    "# Config\n",
    "plt.title('Cumulative Returns (Value Adjusted) Time Series')\n",
    "plt.xlabel('Time')\n",
    "plt.ylabel('Returns')\n",
    "plt.legend()\n",
    "plt.grid()\n",
    "\n",
    "# Show\n",
    "plt.show()"
   ],
   "execution_count": 60,
   "outputs": []
  },
  {
   "cell_type": "code",
   "id": "6d8f150b-9d12-4312-9291-8d7688da60ea",
   "metadata": {
    "ExecuteTime": {
     "end_time": "2025-04-21T22:21:28.662152Z",
     "start_time": "2025-04-21T22:21:23.108631Z"
    }
   },
   "source": [
    "# Create DataFrames\n",
    "\n",
    "value_portfolio_betas = value_decomposition(betas_df, mktcap_df, ptb_df)\n",
    "\n",
    "value_portfolio_betas"
   ],
   "execution_count": 61,
   "outputs": []
  },
  {
   "cell_type": "code",
   "id": "2d43d8da-97a2-4033-a4a5-812b4864f891",
   "metadata": {
    "ExecuteTime": {
     "end_time": "2025-04-21T22:21:31.566005Z",
     "start_time": "2025-04-21T22:21:31.421487Z"
    }
   },
   "source": [
    "plt.figure(figsize=(10, 6))\n",
    "plt.plot(value_portfolio_betas.ewm(span=21, adjust = False).mean(), label=value_portfolio_betas.columns, alpha=1)\n",
    "plt.axhline(y=1, color='black', linestyle='dashed')\n",
    "\n",
    "# Config\n",
    "plt.title('Betas (Value Adjusted) Time Series')\n",
    "plt.xlabel('Time')\n",
    "plt.ylabel('Returns')\n",
    "plt.legend()\n",
    "plt.grid()\n",
    "\n",
    "# Show\n",
    "plt.show()"
   ],
   "execution_count": 62,
   "outputs": []
  },
  {
   "cell_type": "code",
   "id": "ca1a28ba-c2a3-46a9-a1d8-baf63a1bc43b",
   "metadata": {
    "ExecuteTime": {
     "end_time": "2025-04-21T22:22:38.474623Z",
     "start_time": "2025-04-21T22:22:38.461569Z"
    }
   },
   "source": [
    "# Create the regression dataframe\n",
    "value_regression_df = pd.DataFrame(index = value_portfolio_returns.index)\n",
    "\n",
    "value_regression_df['high_excess_returns'] = value_portfolio_returns['high'] - daily_rfr\n",
    "value_regression_df['neutral_excess_returns'] = value_portfolio_returns['neutral'] - daily_rfr\n",
    "value_regression_df['low_excess_returns'] = value_portfolio_returns['low'] - daily_rfr\n",
    "value_regression_df['market_excess_returns'] = market_excess_returns\n",
    "value_regression_df.dropna(inplace = True)\n",
    "\n",
    "value_regression_df"
   ],
   "execution_count": 63,
   "outputs": []
  },
  {
   "cell_type": "code",
   "id": "c30d4aab-f8eb-474f-a792-e4f0e715c40a",
   "metadata": {
    "ExecuteTime": {
     "end_time": "2025-04-21T22:23:12.020581Z",
     "start_time": "2025-04-21T22:23:12.008463Z"
    }
   },
   "source": [
    "# Calculate the Beta for the High Portfolio\n",
    "\n",
    "y = value_regression_df['high_excess_returns']\n",
    "x = value_regression_df['market_excess_returns']\n",
    "\n",
    "# Calculate Weights\n",
    "window = len(y)\n",
    "\n",
    "#Model specification\n",
    "results = capm_regression(\n",
    "    y,\n",
    "    x,\n",
    "    window,\n",
    "    True\n",
    ")\n",
    "    \n",
    "#here we check the summary\n",
    "print(results.summary())"
   ],
   "execution_count": 64,
   "outputs": []
  },
  {
   "cell_type": "code",
   "id": "e6db38e0-2e61-4f7d-86df-5289cd04d45c",
   "metadata": {
    "ExecuteTime": {
     "end_time": "2025-04-21T22:23:27.843200Z",
     "start_time": "2025-04-21T22:23:27.821395Z"
    }
   },
   "source": [
    "# Calculate the Beta for the Neutral Portfolio\n",
    "\n",
    "y = value_regression_df['neutral_excess_returns']\n",
    "x = value_regression_df['market_excess_returns']\n",
    "\n",
    "# Calculate Weights\n",
    "window = len(y)\n",
    "\n",
    "#Model specification\n",
    "results = capm_regression(\n",
    "    y,\n",
    "    x,\n",
    "    window,\n",
    "    True\n",
    ")\n",
    "    \n",
    "#here we check the summary\n",
    "print(results.summary()) "
   ],
   "execution_count": 65,
   "outputs": []
  },
  {
   "cell_type": "code",
   "id": "7640e6ce-a3da-4199-93e3-a43faa039bce",
   "metadata": {
    "ExecuteTime": {
     "end_time": "2025-04-21T22:23:39.334062Z",
     "start_time": "2025-04-21T22:23:39.312585Z"
    }
   },
   "source": [
    "# Calculate the Beta for the Low Portfolio\n",
    "\n",
    "y = value_regression_df['low_excess_returns']\n",
    "x = value_regression_df['market_excess_returns']\n",
    "\n",
    "# Calculate Weights\n",
    "window = len(y)\n",
    "\n",
    "#Model specification\n",
    "results = capm_regression(\n",
    "    y,\n",
    "    x,\n",
    "    window,\n",
    "    True\n",
    ")\n",
    "    \n",
    "#here we check the summary\n",
    "print(results.summary())  "
   ],
   "execution_count": 66,
   "outputs": []
  },
  {
   "cell_type": "code",
   "id": "d17a930a-a2b1-49fd-8263-107d2018fe2f",
   "metadata": {
    "ExecuteTime": {
     "end_time": "2025-04-21T22:23:47.591703Z",
     "start_time": "2025-04-21T22:23:47.573895Z"
    }
   },
   "source": [
    "# Calculate the Small Minus Big Premium\n",
    "\n",
    "value_regression_df['HML'] = value_regression_df['high_excess_returns'] - value_regression_df['low_excess_returns']"
   ],
   "execution_count": 67,
   "outputs": []
  },
  {
   "cell_type": "code",
   "id": "9d8066e6-6434-41a8-96a7-862f83756b04",
   "metadata": {
    "ExecuteTime": {
     "end_time": "2025-04-21T22:23:49.222485Z",
     "start_time": "2025-04-21T22:23:49.066099Z"
    }
   },
   "source": [
    "plt.figure(figsize=(10, 6))\n",
    "plt.plot(value_regression_df['HML'].cumsum(), label='HML Premium', color = 'salmon', alpha=1)\n",
    "plt.axhline(y=0, color='black', linestyle='dashed')\n",
    "\n",
    "# Config\n",
    "plt.title('HML Cumulative Returns Time Series')\n",
    "plt.xlabel('Time')\n",
    "plt.ylabel('Returns')\n",
    "plt.legend()\n",
    "plt.grid()\n",
    "\n",
    "# Show\n",
    "plt.show()"
   ],
   "execution_count": 68,
   "outputs": []
  },
  {
   "cell_type": "code",
   "id": "a39753f7-eb85-4e18-b281-7a0ec0488d36",
   "metadata": {
    "ExecuteTime": {
     "end_time": "2025-04-21T22:24:17.027549Z",
     "start_time": "2025-04-21T22:24:17.013957Z"
    }
   },
   "source": [
    "# Check the Correlation with the Market\n",
    "\n",
    "value_regression_df['HML'].corr(value_regression_df['market_excess_returns'])"
   ],
   "execution_count": 69,
   "outputs": []
  },
  {
   "cell_type": "code",
   "id": "01db4d95-5850-4add-b6fc-9cf2df2dabaf",
   "metadata": {
    "ExecuteTime": {
     "end_time": "2025-04-21T22:24:28.693824Z",
     "start_time": "2025-04-21T22:24:28.683462Z"
    }
   },
   "source": [
    "# Calculate the Beta for the HML Premium\n",
    "\n",
    "y = value_regression_df['HML']\n",
    "x = value_regression_df['market_excess_returns']\n",
    "\n",
    "# Calculate Weights\n",
    "window = len(y)\n",
    "\n",
    "#Model specification\n",
    "results = capm_regression(\n",
    "    y,\n",
    "    x,\n",
    "    window,\n",
    "    True\n",
    ")\n",
    "    \n",
    "#here we check the summary\n",
    "print(results.summary())  "
   ],
   "execution_count": 70,
   "outputs": []
  },
  {
   "cell_type": "markdown",
   "id": "838d314e-7746-4757-81f4-3efd26a0e8f4",
   "metadata": {},
   "source": [
    "### Collinearity among factors ###"
   ]
  },
  {
   "cell_type": "code",
   "id": "38e0bf0f-77b1-4e76-b7eb-7b6211d104b4",
   "metadata": {
    "ExecuteTime": {
     "end_time": "2025-04-21T22:24:35.404036Z",
     "start_time": "2025-04-21T22:24:35.393707Z"
    }
   },
   "source": [
    "value_regression_df['HML'].corr(size_regression_df['SMB'])"
   ],
   "execution_count": 71,
   "outputs": []
  },
  {
   "cell_type": "code",
   "id": "d8d4d863-bbd0-4c82-810d-ef9fd429f0c0",
   "metadata": {
    "ExecuteTime": {
     "end_time": "2025-04-21T22:24:39.224739Z",
     "start_time": "2025-04-21T22:24:38.930034Z"
    }
   },
   "source": [
    "# Create Figure\n",
    "fig, ax1 = plt.subplots(dpi = 300)\n",
    "\n",
    "# Market Returns Plot\n",
    "value_regression_df['HML'].cumsum().plot(color = 'blue', ax = ax1, alpha=0.7)\n",
    "ax1.set_xlabel('Date')\n",
    "ax1.set_ylabel(\n",
    "    'HML Factor', \n",
    "    color='blue'\n",
    "    )\n",
    "\n",
    "# ZBP Returns Plot\n",
    "ax2 = ax1.twinx()\n",
    "\n",
    "size_regression_df['SMB'].cumsum().plot(color = 'red', ax = ax2, alpha=0.7)\n",
    "ax2.set_ylabel(\n",
    "    'SMB Factor', \n",
    "    color='orange'\n",
    "    )\n",
    "\n",
    "plt.title('Factor vs Factor Time Series')\n",
    "plt.show()"
   ],
   "execution_count": 72,
   "outputs": []
  },
  {
   "cell_type": "code",
   "id": "d621c6ce-b7ea-4a3f-8122-4eac75530f2a",
   "metadata": {
    "ExecuteTime": {
     "end_time": "2025-04-21T22:30:15.912208Z",
     "start_time": "2025-04-21T22:30:15.902523Z"
    }
   },
   "source": [
    "df_premiums = pd.DataFrame()\n",
    "\n",
    "df_premiums['HML'] = value_regression_df['HML'].cumsum()\n",
    "df_premiums['SMB'] = size_regression_df['SMB'].cumsum()\n",
    "\n",
    "df_premiums"
   ],
   "execution_count": 77,
   "outputs": []
  },
  {
   "metadata": {
    "ExecuteTime": {
     "end_time": "2025-04-21T22:30:51.305625Z",
     "start_time": "2025-04-21T22:30:51.283829Z"
    }
   },
   "cell_type": "code",
   "source": [
    "premiums_analytics = calculate_analytics(df_premiums)\n",
    "\n",
    "premiums_analytics"
   ],
   "id": "87637689ae0c79ee",
   "execution_count": 78,
   "outputs": []
  },
  {
   "metadata": {},
   "cell_type": "code",
   "execution_count": null,
   "source": "",
   "id": "fb6adf22ee4e4a86",
   "outputs": []
  }
 ],
 "metadata": {
  "kernelspec": {
   "display_name": "Python 3 (ipykernel)",
   "language": "python",
   "name": "python3"
  },
  "language_info": {
   "codemirror_mode": {
    "name": "ipython",
    "version": 3
   },
   "file_extension": ".py",
   "mimetype": "text/x-python",
   "name": "python",
   "nbconvert_exporter": "python",
   "pygments_lexer": "ipython3",
   "version": "3.11.7"
  }
 },
 "nbformat": 4,
 "nbformat_minor": 5
}
