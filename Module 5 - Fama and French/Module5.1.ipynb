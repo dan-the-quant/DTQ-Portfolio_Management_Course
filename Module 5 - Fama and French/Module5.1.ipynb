{
 "cells": [
  {
   "metadata": {},
   "cell_type": "markdown",
   "source": "### Fama and French Factor Model: Understanding the Factors ### ",
   "id": "5b37783a1f2c91db"
  },
  {
   "metadata": {
    "ExecuteTime": {
     "end_time": "2025-06-01T21:13:04.014479Z",
     "start_time": "2025-06-01T21:13:02.165973Z"
    }
   },
   "cell_type": "code",
   "source": [
    "# Import Libraries\n",
    "\n",
    "# Data Management\n",
    "import pandas as pd\n",
    "import numpy as np\n",
    "\n",
    "# Plots\n",
    "import matplotlib.pyplot as plt\n",
    "\n",
    "# Handle Files\n",
    "import sys\n",
    "import os\n",
    "\n",
    "# Import Local Functions\n",
    "sys.path.append(os.path.abspath(\"../source\"))\n",
    "from functions import import_daily_financial_data\n",
    "from portfolios_toolkit import calculate_analytics"
   ],
   "id": "be25992b255a43a2",
   "execution_count": 1,
   "outputs": []
  },
  {
   "metadata": {},
   "cell_type": "markdown",
   "source": "### Size Factor ###",
   "id": "810308d9d25f73ef"
  },
  {
   "metadata": {
    "ExecuteTime": {
     "end_time": "2025-06-01T21:15:31.927432Z",
     "start_time": "2025-06-01T21:15:31.917475Z"
    }
   },
   "cell_type": "code",
   "source": [
    "def build_returns_dataframe(\n",
    "        tickers: list, \n",
    "        start_date='2015-01-01', \n",
    "        end_date='2025-01-01'\n",
    ") -> pd.DataFrame:\n",
    "    # DataFrame\n",
    "    df_returns = pd.DataFrame()\n",
    "\n",
    "    # Loop\n",
    "    for ticker in tickers:\n",
    "        df = import_daily_financial_data(ticker, start_date, end_date, returns=True)\n",
    "        if not df.empty:\n",
    "            df_returns[ticker] = df['returns']\n",
    "            print(f'Data Ready for {ticker}')\n",
    "\n",
    "    return df_returns"
   ],
   "id": "1fb9bab15b5bb40d",
   "execution_count": 5,
   "outputs": []
  },
  {
   "metadata": {
    "ExecuteTime": {
     "end_time": "2025-05-31T23:01:50.789662Z",
     "start_time": "2025-05-31T23:01:50.754744Z"
    }
   },
   "cell_type": "code",
   "source": [
    "# Import tickers categorized by market capitalization\n",
    "tickers_df = pd.read_csv('../additional_data/mktcap_companies.csv')\n",
    "tickers_df.drop(columns='Unnamed: 0', inplace=True)\n",
    "\n",
    "tickers_df"
   ],
   "id": "d00d7a372cac27c5",
   "execution_count": 3,
   "outputs": []
  },
  {
   "metadata": {
    "ExecuteTime": {
     "end_time": "2025-05-31T23:01:50.797096Z",
     "start_time": "2025-05-31T23:01:50.789662Z"
    }
   },
   "cell_type": "code",
   "source": [
    "# Set a dictionary\n",
    "company_sizes = {\n",
    "    'mega': tickers_df['mega_companies'],\n",
    "    'large': tickers_df['large_companies'],\n",
    "    'mid': tickers_df['mid_companies'],\n",
    "    'small': tickers_df['small_companies'],\n",
    "    'micro': tickers_df['micro_companies'],\n",
    "}"
   ],
   "id": "60c12f71fb160b4f",
   "execution_count": 4,
   "outputs": []
  },
  {
   "metadata": {
    "ExecuteTime": {
     "end_time": "2025-05-31T23:01:50.805057Z",
     "start_time": "2025-05-31T23:01:50.797096Z"
    }
   },
   "cell_type": "code",
   "source": [
    "# Get the data\n",
    "#returns_by_size = {}\n",
    "\n",
    "#for size, tickers in company_sizes.items():\n",
    "#    returns_by_size[size] = build_returns_dataframe(tickers, size)"
   ],
   "id": "78c35b6dcf78900e",
   "execution_count": 5,
   "outputs": []
  },
  {
   "metadata": {
    "ExecuteTime": {
     "end_time": "2025-05-31T23:01:50.810950Z",
     "start_time": "2025-05-31T23:01:50.805057Z"
    }
   },
   "cell_type": "code",
   "source": [
    "# Create the Portfolios\n",
    "#portfolios_df = pd.DataFrame({\n",
    "#    f'{size}_portfolio': df.mean(axis=1, skipna=True)\n",
    "#    for size, df in returns_by_size.items()\n",
    "#})"
   ],
   "id": "1a36abacef24a969",
   "execution_count": 6,
   "outputs": []
  },
  {
   "metadata": {
    "ExecuteTime": {
     "end_time": "2025-05-31T23:01:50.836425Z",
     "start_time": "2025-05-31T23:01:50.810950Z"
    }
   },
   "cell_type": "code",
   "source": [
    "portfolios_df = pd.read_csv(r'..\\additional_data\\mktcap_portfolios.csv')\n",
    "portfolios_df.drop(columns='Unnamed: 0', inplace=True)\n",
    "\n",
    "portfolios_df"
   ],
   "id": "bef0f469a77f5a00",
   "execution_count": 7,
   "outputs": []
  },
  {
   "metadata": {
    "ExecuteTime": {
     "end_time": "2025-05-31T23:01:51.154669Z",
     "start_time": "2025-05-31T23:01:50.836425Z"
    }
   },
   "cell_type": "code",
   "source": [
    "# Create Plot\n",
    "plt.figure(figsize=(10, 6))\n",
    "plt.plot(portfolios_df.cumsum(), label=portfolios_df.columns, alpha=1)\n",
    "\n",
    "# Config\n",
    "plt.title('Cumulative Returns (Size Adjusted) Time Series')\n",
    "plt.xlabel('Time')\n",
    "plt.ylabel('Returns')\n",
    "plt.legend()\n",
    "plt.grid()\n",
    "\n",
    "# Show\n",
    "plt.show()"
   ],
   "id": "6088851364f5a41f",
   "execution_count": 8,
   "outputs": []
  },
  {
   "metadata": {
    "ExecuteTime": {
     "end_time": "2025-05-31T23:01:51.173704Z",
     "start_time": "2025-05-31T23:01:51.154669Z"
    }
   },
   "cell_type": "code",
   "source": [
    "# Analytics Table\n",
    "\n",
    "size_analytics_table = calculate_analytics(portfolios_df)\n",
    "\n",
    "size_analytics_table"
   ],
   "id": "e4b622897b2f34fd",
   "execution_count": 9,
   "outputs": []
  },
  {
   "metadata": {
    "ExecuteTime": {
     "end_time": "2025-05-31T23:01:51.182034Z",
     "start_time": "2025-05-31T23:01:51.173704Z"
    }
   },
   "cell_type": "code",
   "source": [
    "# Calculate a primitive SMB premium\n",
    "\n",
    "SMB = (1/2*(portfolios_df['small_portfolio']+portfolios_df['micro_portfolio']) - \n",
    "       1/2*(portfolios_df['mega_portfolio']+portfolios_df['large_portfolio']))  "
   ],
   "id": "9b92298c59b73f8f",
   "execution_count": 10,
   "outputs": []
  },
  {
   "metadata": {
    "ExecuteTime": {
     "end_time": "2025-05-31T23:01:51.357464Z",
     "start_time": "2025-05-31T23:01:51.182034Z"
    }
   },
   "cell_type": "code",
   "source": [
    "# Create Plot\n",
    "plt.figure(figsize=(10, 6))\n",
    "plt.plot(SMB.cumsum(), label='SMB Premium', alpha=1)\n",
    "\n",
    "# Config\n",
    "plt.title('Cumulative SMB Premium Time Series')\n",
    "plt.xlabel('Time')\n",
    "plt.ylabel('Returns')\n",
    "plt.legend()\n",
    "plt.grid()\n",
    "\n",
    "# Show\n",
    "plt.show()"
   ],
   "id": "d3785512faf500d5",
   "execution_count": 11,
   "outputs": []
  },
  {
   "metadata": {
    "ExecuteTime": {
     "end_time": "2025-05-31T23:01:51.368632Z",
     "start_time": "2025-05-31T23:01:51.359221Z"
    }
   },
   "cell_type": "code",
   "source": [
    "# Annualized Returns\n",
    "annualized_returns = portfolios_df.mean() * 252 * 100\n",
    "annualized_returns.name = 'annualized_returns'\n",
    "\n",
    "annualized_returns"
   ],
   "id": "d77dbfd979a4a1b7",
   "execution_count": 12,
   "outputs": []
  },
  {
   "metadata": {
    "ExecuteTime": {
     "end_time": "2025-05-31T23:03:03.951363Z",
     "start_time": "2025-05-31T23:03:03.940397Z"
    }
   },
   "cell_type": "code",
   "source": [
    "# Annualized Volatility\n",
    "annualized_volatility = portfolios_df.std() * np.sqrt(252) * 10\n",
    "annualized_volatility.name = 'annualized_volatility'\n",
    "\n",
    "annualized_volatility"
   ],
   "id": "2f61785eb2dabd2e",
   "execution_count": 13,
   "outputs": []
  },
  {
   "metadata": {
    "ExecuteTime": {
     "end_time": "2025-06-01T04:01:53.287460Z",
     "start_time": "2025-06-01T04:01:52.742254Z"
    }
   },
   "cell_type": "code",
   "source": [
    "# Create Plot\n",
    "plt.figure(figsize=(10, 6))\n",
    "plt.plot(annualized_returns.iloc[::-1], label='Annualized Returns', alpha=1, marker='o')\n",
    "\n",
    "# Config\n",
    "plt.title('Annualized Returns by Size')\n",
    "plt.xlabel('Size')\n",
    "plt.ylabel('Annualized Returns')\n",
    "plt.legend()\n",
    "plt.grid()\n",
    "\n",
    "# Show\n",
    "plt.show()"
   ],
   "id": "9a091c040c6476f1",
   "execution_count": 25,
   "outputs": []
  },
  {
   "metadata": {
    "ExecuteTime": {
     "end_time": "2025-06-01T04:02:17.551026Z",
     "start_time": "2025-06-01T04:02:17.439622Z"
    }
   },
   "cell_type": "code",
   "source": [
    "data = pd.DataFrame({\n",
    "    'returns': annualized_returns.iloc[::-1],\n",
    "    'volatility': annualized_volatility.iloc[::-1],\n",
    "}, index=annualized_returns.iloc[::-1].index)\n",
    "\n",
    "errors = data['volatility']\n",
    "\n",
    "# Create the plot\n",
    "fig, ax = plt.subplots(figsize=(8, 5))\n",
    "\n",
    "ax.errorbar(\n",
    "    x=data['returns'],                # x-values (betas)\n",
    "    y=range(len(data)),               # y-positions\n",
    "    xerr=errors,                      # confidence interval errors\n",
    "    fmt='o',                          # circular markers for betas\n",
    "    ecolor='gray',                    # color of the error bars\n",
    "    capsize=5,                        # small caps on error bars\n",
    "    elinewidth=2,                     # thickness of the error bars\n",
    "    markeredgewidth=2                 # thickness of the circle edge\n",
    ")\n",
    "\n",
    "# Customize the plot\n",
    "ax.set_yticks(range(len(data)))\n",
    "ax.set_yticklabels(data.index)\n",
    "ax.axvline(0, color='red', linestyle='--')  # reference line\n",
    "ax.set_xlabel('Annualized Returns')\n",
    "ax.set_title('Returns with Standard Errors')\n",
    "\n",
    "plt.tight_layout()\n",
    "plt.show()"
   ],
   "id": "f455bbd527a60c31",
   "execution_count": 26,
   "outputs": []
  },
  {
   "metadata": {},
   "cell_type": "markdown",
   "source": "### Value Factor ###",
   "id": "38cb909e6ca69b5b"
  },
  {
   "metadata": {
    "ExecuteTime": {
     "end_time": "2025-06-01T21:14:27.331428Z",
     "start_time": "2025-06-01T21:14:27.318081Z"
    }
   },
   "cell_type": "code",
   "source": [
    "# Define a High Value Stocks List\n",
    "high_value_tickers = [\n",
    "    \"XOM\",  # ExxonMobil\n",
    "    \"CVX\",  # Chevron\n",
    "    \"JPM\",  # JPMorgan\n",
    "    \"BAC\",  # Bank of America\n",
    "    \"WFC\",  # Wells Fargo\n",
    "    \"PFE\",  # Pfizer\n",
    "    \"MRK\",  # Merck\n",
    "    \"VZ\",   # Verizon\n",
    "    \"T\",    # AT&T\n",
    "    \"MMM\",  # 3M\n",
    "    \"C\",    # Citigroup\n",
    "    \"F\",    # Ford\n",
    "    \"GM\",   # General Motors\n",
    "    \"INTC\", # Intel\n",
    "    \"IBM\",  # IBM\n",
    "    \"MO\",   # Altria\n",
    "    \"GILD\", # Gilead\n",
    "    \"PRU\",  # Prudential\n",
    "    \"MET\",  # MetLife\n",
    "    \"DUK\",  # Duke Energy\n",
    "]"
   ],
   "id": "667fcc16d56b513a",
   "execution_count": 2,
   "outputs": []
  },
  {
   "metadata": {
    "ExecuteTime": {
     "end_time": "2025-06-01T21:14:50.056153Z",
     "start_time": "2025-06-01T21:14:50.049194Z"
    }
   },
   "cell_type": "code",
   "source": [
    "# And a Low Value Stocks List\n",
    "low_value_tickers = [\n",
    "    \"TSLA\",   # Tesla\n",
    "    \"NVDA\",   # NVIDIA\n",
    "    \"AAPL\",   # Apple\n",
    "    \"AMZN\",   # Amazon\n",
    "    \"MSFT\",   # Microsoft\n",
    "    \"META\",   # Meta\n",
    "    \"NFLX\",   # Netflix\n",
    "    \"SNOW\",   # Snowflake\n",
    "    \"UBER\",   # Uber\n",
    "    \"RIVN\",   # Rivian\n",
    "    \"PLTR\",   # Palantir\n",
    "    \"SHOP\",   # Shopify\n",
    "    \"CRWD\",   # CrowdStrike\n",
    "    \"ZS\",     # Zscaler\n",
    "    \"PANW\",   # Palo Alto\n",
    "    \"SQ\",     # Block (Square)\n",
    "    \"COIN\",   # Coinbase\n",
    "    \"SMCI\",   # Supermicro\n",
    "    \"ABNB\",   # Airbnb\n",
    "    \"ROKU\",   # Roku\n",
    "]"
   ],
   "id": "34cfa8b5eee8e4a6",
   "execution_count": 3,
   "outputs": []
  },
  {
   "metadata": {
    "ExecuteTime": {
     "end_time": "2025-06-01T21:15:49.251737Z",
     "start_time": "2025-06-01T21:15:36.119557Z"
    }
   },
   "cell_type": "code",
   "source": [
    "# Get the Data\n",
    "high_value_returns = build_returns_dataframe(high_value_tickers)"
   ],
   "id": "6460923479ca1e60",
   "execution_count": 6,
   "outputs": []
  },
  {
   "metadata": {
    "ExecuteTime": {
     "end_time": "2025-06-01T21:15:49.288939Z",
     "start_time": "2025-06-01T21:15:49.251737Z"
    }
   },
   "cell_type": "code",
   "source": "high_value_returns",
   "id": "9699ad23cf7b7868",
   "execution_count": 7,
   "outputs": []
  },
  {
   "metadata": {
    "ExecuteTime": {
     "end_time": "2025-06-01T21:17:04.984771Z",
     "start_time": "2025-06-01T21:17:04.970949Z"
    }
   },
   "cell_type": "code",
   "source": [
    "# And the Portfolio\n",
    "high_value_portfolio = high_value_returns.mean(axis=1)\n",
    "high_value_portfolio.name = 'high_value_portfolio'\n",
    "\n",
    "high_value_portfolio"
   ],
   "id": "223492f90d74cbad",
   "execution_count": 9,
   "outputs": []
  },
  {
   "metadata": {
    "ExecuteTime": {
     "end_time": "2025-06-01T21:17:42.705066Z",
     "start_time": "2025-06-01T21:17:31.524692Z"
    }
   },
   "cell_type": "code",
   "source": [
    "# Get the Data\n",
    "low_value_returns = build_returns_dataframe(low_value_tickers)"
   ],
   "id": "66c90cdcb56c0552",
   "execution_count": 10,
   "outputs": []
  },
  {
   "metadata": {
    "ExecuteTime": {
     "end_time": "2025-06-01T21:17:46.649459Z",
     "start_time": "2025-06-01T21:17:46.613193Z"
    }
   },
   "cell_type": "code",
   "source": "low_value_returns",
   "id": "6d1b0c39a208d046",
   "execution_count": 11,
   "outputs": []
  },
  {
   "metadata": {
    "ExecuteTime": {
     "end_time": "2025-06-01T21:18:20.727953Z",
     "start_time": "2025-06-01T21:18:20.713815Z"
    }
   },
   "cell_type": "code",
   "source": [
    "# And the Portfolio\n",
    "low_value_portfolio = low_value_returns.mean(axis=1)\n",
    "low_value_portfolio.name = 'low_value_portfolio'\n",
    "\n",
    "low_value_portfolio"
   ],
   "id": "cbe964fc7187d287",
   "execution_count": 12,
   "outputs": []
  },
  {
   "metadata": {
    "ExecuteTime": {
     "end_time": "2025-06-01T21:19:09.592805Z",
     "start_time": "2025-06-01T21:19:09.056873Z"
    }
   },
   "cell_type": "code",
   "source": [
    "# Create Plot\n",
    "plt.figure(figsize=(10, 6))\n",
    "plt.plot(low_value_portfolio.cumsum(), label='Low Value Portfolio', alpha=1)\n",
    "plt.plot(high_value_portfolio.cumsum(), label='High Value Portfolio', alpha=1)\n",
    "\n",
    "# Config\n",
    "plt.title('Cumulative Returns (Value Adjusted) Time Series')\n",
    "plt.xlabel('Time')\n",
    "plt.ylabel('Returns')\n",
    "plt.legend()\n",
    "plt.grid()\n",
    "\n",
    "# Show\n",
    "plt.show()"
   ],
   "id": "d7ae28ab072c1631",
   "execution_count": 13,
   "outputs": []
  },
  {
   "metadata": {
    "ExecuteTime": {
     "end_time": "2025-06-01T21:42:28.343412Z",
     "start_time": "2025-06-01T21:42:28.009467Z"
    }
   },
   "cell_type": "code",
   "source": [
    "# Create Plot\n",
    "HML = high_value_portfolio - low_value_portfolio\n",
    "\n",
    "plt.figure(figsize=(10, 6))\n",
    "plt.plot(HML.cumsum(), label='HML', alpha=1)\n",
    "\n",
    "# Config\n",
    "plt.title('Cumulative Returns Time Series')\n",
    "plt.xlabel('Time')\n",
    "plt.ylabel('Returns')\n",
    "plt.legend()\n",
    "plt.grid()\n",
    "\n",
    "# Show\n",
    "plt.show()"
   ],
   "id": "e5180726c37dd67b",
   "execution_count": 14,
   "outputs": []
  },
  {
   "metadata": {},
   "cell_type": "code",
   "execution_count": null,
   "source": "",
   "id": "73b0d1cfccec7d33",
   "outputs": []
  }
 ],
 "metadata": {
  "kernelspec": {
   "display_name": "Python 3",
   "language": "python",
   "name": "python3"
  },
  "language_info": {
   "codemirror_mode": {
    "name": "ipython",
    "version": 2
   },
   "file_extension": ".py",
   "mimetype": "text/x-python",
   "name": "python",
   "nbconvert_exporter": "python",
   "pygments_lexer": "ipython2",
   "version": "2.7.6"
  }
 },
 "nbformat": 4,
 "nbformat_minor": 5
}
