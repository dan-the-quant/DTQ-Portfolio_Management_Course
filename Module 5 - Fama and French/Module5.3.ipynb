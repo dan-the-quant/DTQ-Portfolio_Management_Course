{
 "cells": [
  {
   "cell_type": "markdown",
   "id": "4f583382-acc2-4a6b-b915-31aa138e83ce",
   "metadata": {},
   "source": [
    "# Fama and French Factor Model #"
   ]
  },
  {
   "cell_type": "markdown",
   "id": "75869cd1-4d6d-4a2a-b0a7-3f766d183bd2",
   "metadata": {},
   "source": [
    "### The Model Specification ###"
   ]
  },
  {
   "cell_type": "code",
   "id": "09f515f3-f7bf-4f05-b4f8-814989e6d525",
   "metadata": {
    "ExecuteTime": {
     "end_time": "2025-04-22T01:19:18.171945Z",
     "start_time": "2025-04-22T01:19:15.956204Z"
    }
   },
   "source": [
    "# Import Libraries\n",
    "\n",
    "# Data Management\n",
    "import pandas as pd\n",
    "import numpy as np\n",
    "\n",
    "# Plots\n",
    "import matplotlib.pyplot as plt\n",
    "\n",
    "# Statistics\n",
    "import statsmodels.api as sm\n",
    "from statsmodels.stats.outliers_influence import variance_inflation_factor\n",
    "from scipy.stats import norm\n",
    "\n",
    "# Handle Files\n",
    "import sys\n",
    "import os\n",
    "\n",
    "# Import Local Functions\n",
    "sys.path.append(os.path.abspath(\"../source\"))\n",
    "from functions import import_financial_data\n",
    "from functions import import_stock_universe\n",
    "from capm_toolkit import wexp\n",
    "from capm_toolkit import compute_daily_returns\n",
    "from capm_toolkit import compute_excess_returns\n",
    "from capm_toolkit import capm_regression"
   ],
   "execution_count": 1,
   "outputs": []
  },
  {
   "cell_type": "code",
   "id": "92c8a1cf-adbb-4788-907f-01dca2d1bd5f",
   "metadata": {
    "ExecuteTime": {
     "end_time": "2025-04-22T01:19:19.297862Z",
     "start_time": "2025-04-22T01:19:19.241387Z"
    }
   },
   "source": [
    "# Get Data from Stock\n",
    "\n",
    "ticker = 'MSFT'\n",
    "\n",
    "stock_price = import_financial_data(ticker)\n",
    "stock_returns = stock_price['adj_close'].pct_change(1).dropna()\n",
    "\n",
    "stock_returns"
   ],
   "execution_count": 2,
   "outputs": []
  },
  {
   "cell_type": "code",
   "id": "ef7c2dd1-b47e-4e2c-8d1b-1b768c3b3190",
   "metadata": {
    "ExecuteTime": {
     "end_time": "2025-04-22T01:19:20.200984Z",
     "start_time": "2025-04-22T01:19:20.170250Z"
    }
   },
   "source": [
    "# Get the important data for the Risk Free Rate\n",
    "rfr = pd.read_csv(r\"..\\additional_data\\rfr.csv\")\n",
    "rfr = rfr.set_index('Date')\n",
    "rfr.index = pd.to_datetime(rfr.index, dayfirst=True)\n",
    "\n",
    "# Get the important data for the S&P500\n",
    "sp500 = pd.read_csv(r\"..\\additional_data\\sp500.csv\")\n",
    "sp500 = sp500.set_index('Date')\n",
    "sp500.index = pd.to_datetime(sp500.index)\n",
    "\n",
    "# Get the data for the SMB Premium\n",
    "SMB = pd.read_csv(r\"..\\additional_data\\famafrench_smb.csv\")\n",
    "SMB = SMB.set_index('Date')\n",
    "SMB.index = pd.to_datetime(SMB.index)\n",
    "\n",
    "# Get the data for the HML Premium\n",
    "HML = pd.read_csv(r\"..\\additional_data\\famafrench_hml.csv\")\n",
    "HML = HML.set_index('Date')\n",
    "HML.index = pd.to_datetime(HML.index)"
   ],
   "execution_count": 3,
   "outputs": []
  },
  {
   "cell_type": "code",
   "id": "f24c072f-39b7-47ca-bfaa-b6aaf3daa209",
   "metadata": {
    "ExecuteTime": {
     "end_time": "2025-04-22T01:19:21.352938Z",
     "start_time": "2025-04-22T01:19:21.343101Z"
    }
   },
   "source": [
    "# Create the data\n",
    "daily_rfr = compute_daily_returns(rfr['risk_free_rate'])\n",
    "market_excess_returns = compute_excess_returns(sp500['sp_500'], rfr['risk_free_rate'])\n",
    "stock_excess_returns = stock_returns - daily_rfr"
   ],
   "execution_count": 4,
   "outputs": []
  },
  {
   "cell_type": "code",
   "id": "d84fdff0-e34c-42b0-a0a7-882b3ea16b97",
   "metadata": {
    "ExecuteTime": {
     "end_time": "2025-04-22T01:19:42.248655Z",
     "start_time": "2025-04-22T01:19:42.235645Z"
    }
   },
   "source": [
    "# Create the regression dataframe\n",
    "regression_df = pd.DataFrame(index = stock_excess_returns.index)\n",
    "\n",
    "regression_df['stock'] = stock_excess_returns\n",
    "regression_df['MKT'] = market_excess_returns\n",
    "regression_df['SMB'] = SMB\n",
    "regression_df['HML'] = HML\n",
    "regression_df.dropna(inplace = True)\n",
    "\n",
    "regression_df"
   ],
   "execution_count": 6,
   "outputs": []
  },
  {
   "cell_type": "code",
   "id": "f11c059e-15ca-44da-8f49-5d9650cdab46",
   "metadata": {
    "ExecuteTime": {
     "end_time": "2025-04-22T01:19:50.033130Z",
     "start_time": "2025-04-22T01:19:50.028193Z"
    }
   },
   "source": [
    "# Create the Y Vector\n",
    "y = regression_df['stock']\n",
    "\n",
    "# Create the X Matrix\n",
    "x = regression_df[['MKT', 'SMB', 'HML']]"
   ],
   "execution_count": 7,
   "outputs": []
  },
  {
   "cell_type": "code",
   "id": "b22f4e44-a9e7-4ba0-93f4-478914c86603",
   "metadata": {
    "ExecuteTime": {
     "end_time": "2025-04-22T01:19:51.018693Z",
     "start_time": "2025-04-22T01:19:51.009925Z"
    }
   },
   "source": [
    "x.corr()"
   ],
   "execution_count": 8,
   "outputs": []
  },
  {
   "cell_type": "code",
   "id": "19ef4549-7b38-486d-a415-9e7b7c4c6083",
   "metadata": {
    "ExecuteTime": {
     "end_time": "2025-04-22T01:19:56.350410Z",
     "start_time": "2025-04-22T01:19:56.306269Z"
    }
   },
   "source": [
    "# Calculate Weights\n",
    "window = len(y)\n",
    "\n",
    "# The results of the model\n",
    "results = capm_regression(\n",
    "    y,\n",
    "    x,\n",
    "    window,\n",
    "    True\n",
    ")\n",
    "    \n",
    "#here we check the summary\n",
    "print(results.summary())  "
   ],
   "execution_count": 9,
   "outputs": []
  },
  {
   "cell_type": "code",
   "id": "56616d0d-1755-4732-ad37-f820dd3119db",
   "metadata": {
    "ExecuteTime": {
     "end_time": "2025-04-22T01:20:22.350050Z",
     "start_time": "2025-04-22T01:20:22.340023Z"
    }
   },
   "source": [
    "# Let us Create a new function\n",
    "def FamaFrenchFactors(\n",
    "    stock_returns: pd.Series, \n",
    "    market_returns: pd.Series, \n",
    "    small_minus_big_series: pd.Series,\n",
    "    high_minus_low_series: pd.Series,\n",
    "):\n",
    "\n",
    "    # Align time series to the same date range\n",
    "    common_index = stock_returns.index.intersection(market_returns.index) \\\n",
    "    .intersection(small_minus_big_series.index) \\\n",
    "    .intersection(high_minus_low_series.index)\n",
    "    \n",
    "    stock_returns = stock_returns.loc[common_index]\n",
    "    market_returns = market_returns.loc[common_index]\n",
    "    small_minus_big_series = small_minus_big_series.loc[common_index]\n",
    "    high_minus_low_series = high_minus_low_series.loc[common_index]\n",
    "    \n",
    "    X = pd.concat([market_returns, small_minus_big_series, high_minus_low_series], axis=1)\n",
    "    y = stock_returns\n",
    "\n",
    "    # Create weights with exponential decay\n",
    "    T = len(y)\n",
    "    weights = T * wexp(T, T/2)\n",
    "    \n",
    "    # Fit WLS regression\n",
    "    model = sm.WLS(y, sm.add_constant(X), weights=weights, missing='drop').fit()\n",
    "\n",
    "    # Avoid KeyError by checking if params exist\n",
    "    params = model.params\n",
    "    \n",
    "    alpha = params.iloc[0]\n",
    "    capm_beta = params.iloc[1]\n",
    "    smb_beta = params.iloc[2]\n",
    "    hml_beta = params.iloc[3]\n",
    "            \n",
    "    parameters = {\n",
    "        'alpha':alpha,\n",
    "        'capm_beta':capm_beta,\n",
    "        'smb_beta':smb_beta,\n",
    "        'hml_beta':hml_beta,\n",
    "    }\n",
    "    \n",
    "    return parameters"
   ],
   "execution_count": 10,
   "outputs": []
  },
  {
   "cell_type": "code",
   "id": "b85ec9c6-3ac9-480d-8bca-33fd48545826",
   "metadata": {
    "ExecuteTime": {
     "end_time": "2025-04-22T01:20:22.746274Z",
     "start_time": "2025-04-22T01:20:22.723953Z"
    }
   },
   "source": [
    "# Check if the Function Works\n",
    "\n",
    "parameters = FamaFrenchFactors(\n",
    "    stock_excess_returns,\n",
    "    market_excess_returns,\n",
    "    SMB,\n",
    "    HML,\n",
    ")\n",
    "\n",
    "parameters"
   ],
   "execution_count": 11,
   "outputs": []
  },
  {
   "cell_type": "markdown",
   "id": "3f880da1-7af2-43d8-a6ee-032a560d3469",
   "metadata": {},
   "source": [
    "### Obtaining the Coefficients for all the Stocks ###"
   ]
  },
  {
   "cell_type": "code",
   "id": "8c16ab99-3cf4-42aa-a548-15bf80d03ed1",
   "metadata": {
    "ExecuteTime": {
     "end_time": "2025-04-22T01:20:39.054927Z",
     "start_time": "2025-04-22T01:20:24.966151Z"
    }
   },
   "source": [
    "# Dictionary to store the DataFrames\n",
    "folder_path = r\"..\\stocks\"\n",
    "\n",
    "dataframes = import_stock_universe(\n",
    "    folder_path,\n",
    "    ['Adjusted_close', 'Company Market Cap', 'Price_to_Book_inverse'],\n",
    "    ['adj_close', 'mkt_cap', 'btp'],\n",
    ")"
   ],
   "execution_count": 12,
   "outputs": []
  },
  {
   "cell_type": "code",
   "id": "1c30ca2a-56cb-444c-ad6b-36f6aa67af59",
   "metadata": {
    "ExecuteTime": {
     "end_time": "2025-04-22T01:21:26.270828Z",
     "start_time": "2025-04-22T01:21:22.256254Z"
    }
   },
   "source": [
    "# Calculate the Coefficients\n",
    "tickers = []\n",
    "betas_capm = []\n",
    "betas_smb = []\n",
    "betas_hml = []\n",
    "\n",
    "# Create the Loop\n",
    "for ticker in dataframes.keys():\n",
    "    stock_returns = dataframes[ticker]['adj_close'].pct_change(1).dropna()\n",
    "    stock_excess_returns = stock_returns - daily_rfr\n",
    "\n",
    "    # Calculations\n",
    "    parameters = FamaFrenchFactors(\n",
    "        stock_excess_returns,\n",
    "        market_excess_returns,\n",
    "        SMB,\n",
    "        HML,\n",
    "    )\n",
    "\n",
    "    tickers.append(ticker)\n",
    "    betas_capm.append(parameters['mkt_beta'])\n",
    "    betas_smb.append(parameters['smb_beta'])\n",
    "    betas_hml.append(parameters['hml_beta'])\n",
    "\n",
    "    print(f'{ticker} is ready.')"
   ],
   "execution_count": 14,
   "outputs": []
  },
  {
   "cell_type": "code",
   "id": "e457d9eb-5d18-4377-9e87-c146acdc45a9",
   "metadata": {
    "ExecuteTime": {
     "end_time": "2025-04-22T01:21:57.246212Z",
     "start_time": "2025-04-22T01:21:57.236020Z"
    }
   },
   "source": [
    "# Create the DataFrame\n",
    "\n",
    "ff_betas_df = pd.DataFrame(\n",
    "    {\n",
    "        'mkt_beta': betas_capm,\n",
    "        'smb_beta': betas_smb,\n",
    "        'hml_beta': betas_hml\n",
    "    }, index = tickers,\n",
    ")\n",
    "\n",
    "ff_betas_df"
   ],
   "execution_count": 16,
   "outputs": []
  },
  {
   "cell_type": "code",
   "id": "77ecb935-cb9d-4fa7-b3f5-9f59c47c77a5",
   "metadata": {
    "ExecuteTime": {
     "end_time": "2025-04-22T01:22:42.542807Z",
     "start_time": "2025-04-22T01:22:42.346222Z"
    }
   },
   "source": [
    "# Calculate Mean and Standard Deviation\n",
    "mu = ff_betas_df['mkt_beta'].mean()\n",
    "sigma = ff_betas_df['mkt_beta'].std()\n",
    "median = ff_betas_df['mkt_beta'].median()\n",
    "\n",
    "# Create Histogram\n",
    "plt.figure(figsize=(10, 6))\n",
    "plt.hist(ff_betas_df['mkt_beta'], bins=30, density=True, color='lightskyblue', alpha=0.5, edgecolor='black', label='CAPM Betas Distribution')\n",
    "\n",
    "# Generate the Values of the Normal Distribution\n",
    "x = np.linspace(ff_betas_df['mkt_beta'].min(), ff_betas_df['mkt_beta'].max(), 100)\n",
    "y = norm.pdf(x, mu, sigma)\n",
    "\n",
    "# Graph the Real Normal Distribution\n",
    "plt.plot(x, y, color='black', linestyle='solid', linewidth=2, label='Normal Distribution')\n",
    "\n",
    "# Reference Lines\n",
    "plt.axvline(x=mu, color='black', linestyle='dashed', label='Mean Returns')\n",
    "plt.axvline(x=median, color='red', linestyle='dashed', label='Median Returns')\n",
    "plt.axvline(x=mu + sigma, color='grey', linestyle='dashed')\n",
    "plt.axvline(x=mu - sigma, color='grey', linestyle='dashed')\n",
    "\n",
    "# Config\n",
    "plt.title('CAPM Betas Histogram with Normal Distribution')\n",
    "plt.xlabel('Return')\n",
    "plt.ylabel('Density')\n",
    "\n",
    "# Legends and Grid\n",
    "plt.legend()\n",
    "plt.grid(True)\n",
    "\n",
    "# Show\n",
    "plt.show()"
   ],
   "execution_count": 17,
   "outputs": []
  },
  {
   "cell_type": "code",
   "id": "e271d149-731d-4dee-a9e8-1c488700ed67",
   "metadata": {
    "ExecuteTime": {
     "end_time": "2025-04-22T01:22:58.983646Z",
     "start_time": "2025-04-22T01:22:58.828429Z"
    }
   },
   "source": [
    "# Calculate Mean and Standard Deviation\n",
    "mu = ff_betas_df['smb_beta'].mean()\n",
    "sigma = ff_betas_df['smb_beta'].std()\n",
    "median = ff_betas_df['smb_beta'].median()\n",
    "\n",
    "# Create Histogram\n",
    "plt.figure(figsize=(10, 6))\n",
    "plt.hist(ff_betas_df['smb_beta'], bins=30, density=True, color='lightgreen', alpha=0.5, edgecolor='black', label='SMB Betas Distribution')\n",
    "\n",
    "# Generate the Values of the Normal Distribution\n",
    "x = np.linspace(ff_betas_df['smb_beta'].min(), ff_betas_df['smb_beta'].max(), 100)\n",
    "y = norm.pdf(x, mu, sigma)\n",
    "\n",
    "# Graph the Real Normal Distribution\n",
    "plt.plot(x, y, color='black', linestyle='solid', linewidth=2, label='Normal Distribution')\n",
    "\n",
    "# Reference Lines\n",
    "plt.axvline(x=mu, color='black', linestyle='dashed', label='Mean Returns')\n",
    "plt.axvline(x=median, color='red', linestyle='dashed', label='Median Returns')\n",
    "plt.axvline(x=mu + sigma, color='grey', linestyle='dashed')\n",
    "plt.axvline(x=mu - sigma, color='grey', linestyle='dashed')\n",
    "\n",
    "# Config\n",
    "plt.title('SMB Betas Histogram with Normal Distribution')\n",
    "plt.xlabel('Return')\n",
    "plt.ylabel('Density')\n",
    "\n",
    "# Legends and Grid\n",
    "plt.legend()\n",
    "plt.grid(True)\n",
    "\n",
    "# Show\n",
    "plt.show()"
   ],
   "execution_count": 18,
   "outputs": []
  },
  {
   "cell_type": "code",
   "id": "73adce08-0531-418d-bbb6-22c9a10d6d15",
   "metadata": {
    "ExecuteTime": {
     "end_time": "2025-04-22T01:23:14.207024Z",
     "start_time": "2025-04-22T01:23:14.068124Z"
    }
   },
   "source": [
    "# Calculate Mean and Standard Deviation\n",
    "mu = ff_betas_df['hml_beta'].mean()\n",
    "sigma = ff_betas_df['hml_beta'].std()\n",
    "median = ff_betas_df['hml_beta'].median()\n",
    "\n",
    "# Create Histogram\n",
    "plt.figure(figsize=(10, 6))\n",
    "plt.hist(ff_betas_df['hml_beta'], bins=30, density=True, color='salmon', alpha=0.5, edgecolor='black', label='HML Betas Distribution')\n",
    "\n",
    "# Generate the Values of the Normal Distribution\n",
    "x = np.linspace(ff_betas_df['hml_beta'].min(), ff_betas_df['hml_beta'].max(), 100)\n",
    "y = norm.pdf(x, mu, sigma)\n",
    "\n",
    "# Graph the Real Normal Distribution\n",
    "plt.plot(x, y, color='black', linestyle='solid', linewidth=2, label='Normal Distribution')\n",
    "\n",
    "# Reference Lines\n",
    "plt.axvline(x=mu, color='black', linestyle='dashed', label='Mean Returns')\n",
    "plt.axvline(x=median, color='red', linestyle='dashed', label='Median Returns')\n",
    "plt.axvline(x=mu + sigma, color='grey', linestyle='dashed')\n",
    "plt.axvline(x=mu - sigma, color='grey', linestyle='dashed')\n",
    "\n",
    "# Config\n",
    "plt.title('HML Betas Histogram with Normal Distribution')\n",
    "plt.xlabel('Return')\n",
    "plt.ylabel('Density')\n",
    "\n",
    "# Legends and Grid\n",
    "plt.legend()\n",
    "plt.grid(True)\n",
    "\n",
    "# Show\n",
    "plt.show()"
   ],
   "execution_count": 19,
   "outputs": []
  },
  {
   "cell_type": "code",
   "id": "671c8ebc-a0f1-493b-b615-aa910fe524e3",
   "metadata": {
    "ExecuteTime": {
     "end_time": "2025-04-22T01:23:38.683490Z",
     "start_time": "2025-04-22T01:23:38.667943Z"
    }
   },
   "source": [
    "# Calculate the VIF\n",
    "# Concat\n",
    "X = pd.concat([\n",
    "    market_excess_returns,\n",
    "    SMB,\n",
    "    HML,\n",
    "], axis=1, join='inner')\n",
    "\n",
    "\n",
    "X.dropna(inplace = True)\n",
    "\n",
    "X.columns = ['mkt', 'smb', 'hml']\n",
    "\n",
    "X"
   ],
   "execution_count": 21,
   "outputs": []
  },
  {
   "cell_type": "code",
   "id": "cc70c39f-1b3b-485d-a849-d2c542b05db4",
   "metadata": {
    "ExecuteTime": {
     "end_time": "2025-04-22T01:23:52.014088Z",
     "start_time": "2025-04-22T01:23:51.995913Z"
    }
   },
   "source": [
    "vif_data = pd.DataFrame()\n",
    "vif_data['vars'] = X.columns\n",
    "vif_data['VIF'] = [variance_inflation_factor(X.values, i) for i in range(X.shape[1])]\n",
    "\n",
    "vif_data"
   ],
   "execution_count": 23,
   "outputs": []
  },
  {
   "cell_type": "code",
   "id": "874942d7-f5c0-44f6-bf92-f3fe993685ec",
   "metadata": {
    "ExecuteTime": {
     "end_time": "2025-04-22T01:23:52.798825Z",
     "start_time": "2025-04-22T01:23:52.787623Z"
    }
   },
   "source": [
    "r_squared_df = pd.DataFrame()\n",
    "r_squared_df['vars'] = X.columns\n",
    "\n",
    "r_squared_df['r_squared'] = 1 - (1 / vif_data['VIF'])\n",
    "\n",
    "r_squared_df"
   ],
   "execution_count": 24,
   "outputs": []
  },
  {
   "cell_type": "code",
   "id": "22ff9fa5-3083-44f2-ae78-93216bf20a5c",
   "metadata": {
    "ExecuteTime": {
     "end_time": "2025-04-22T01:24:01.771004Z",
     "start_time": "2025-04-22T01:24:01.764425Z"
    }
   },
   "source": "ff_betas_df.to_csv(r\"..\\additional_data\\famafrench_betas.csv\")",
   "execution_count": 25,
   "outputs": []
  },
  {
   "cell_type": "code",
   "execution_count": null,
   "id": "7b6396fc-9941-40ee-b12f-0928ddc3b857",
   "metadata": {},
   "source": [],
   "outputs": []
  }
 ],
 "metadata": {
  "kernelspec": {
   "display_name": "Python 3 (ipykernel)",
   "language": "python",
   "name": "python3"
  },
  "language_info": {
   "codemirror_mode": {
    "name": "ipython",
    "version": 3
   },
   "file_extension": ".py",
   "mimetype": "text/x-python",
   "name": "python",
   "nbconvert_exporter": "python",
   "pygments_lexer": "ipython3",
   "version": "3.11.7"
  }
 },
 "nbformat": 4,
 "nbformat_minor": 5
}
