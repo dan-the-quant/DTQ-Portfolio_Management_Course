{
 "cells": [
  {
   "cell_type": "markdown",
   "id": "c64d7451-b410-4675-896b-979996f980fd",
   "metadata": {},
   "source": [
    "# Fama-MacBeth Regression #\n",
    "\n",
    "### Size, Value and Beta ###"
   ]
  },
  {
   "cell_type": "code",
   "id": "ad744288-e299-4dd0-8d67-c7fbdd91ecb3",
   "metadata": {
    "ExecuteTime": {
     "end_time": "2025-06-01T21:48:46.801589Z",
     "start_time": "2025-06-01T21:48:46.793147Z"
    }
   },
   "source": [
    "# Import Libraries\n",
    "\n",
    "# Data Management\n",
    "import pandas as pd\n",
    "import numpy as np\n",
    "\n",
    "# Plots\n",
    "import matplotlib.pyplot as plt\n",
    "\n",
    "# Statistics\n",
    "from scipy import stats\n",
    "import statsmodels.api as sm"
   ],
   "execution_count": 69,
   "outputs": []
  },
  {
   "cell_type": "code",
   "id": "f92a72a1-3b54-4e29-8ccf-a02396909126",
   "metadata": {
    "ExecuteTime": {
     "end_time": "2025-06-01T21:49:07.967655Z",
     "start_time": "2025-06-01T21:49:07.622400Z"
    }
   },
   "source": [
    "# Call the returns\n",
    "returns_df = pd.read_csv(r'..\\additional_data\\stocks_returns.csv')\n",
    "returns_df.rename(columns={'Unnamed: 0': 'Date'}, inplace=True)\n",
    "returns_df.set_index('Date', inplace=True)\n",
    "returns_df.index = pd.to_datetime(returns_df.index)\n",
    "\n",
    "returns_df"
   ],
   "execution_count": 70,
   "outputs": []
  },
  {
   "cell_type": "code",
   "id": "23cb89f7-5ce7-43bf-91b9-52979e00a5a8",
   "metadata": {
    "ExecuteTime": {
     "end_time": "2025-06-01T21:49:26.804138Z",
     "start_time": "2025-06-01T21:49:26.771898Z"
    }
   },
   "source": [
    "# We can download the premiums in the Fama and French website\n",
    "premiums_df = pd.read_csv(r'..\\additional_data\\famafrench_premiums.csv')\n",
    "premiums_df.set_index('Date', inplace=True)\n",
    "premiums_df.index = pd.to_datetime(premiums_df.index)\n",
    "premiums_df.columns = ['mkt_premium', 'smb_premium', 'hml_premium', 'risk_free_rate']\n",
    "premiums_df = premiums_df.div(100)\n",
    "\n",
    "premiums_df"
   ],
   "execution_count": 71,
   "outputs": []
  },
  {
   "cell_type": "code",
   "id": "05c10ff5-84ba-4a01-9b05-55fc4661f061",
   "metadata": {
    "ExecuteTime": {
     "end_time": "2025-06-01T21:50:31.729137Z",
     "start_time": "2025-06-01T21:50:31.697967Z"
    }
   },
   "source": [
    "# Get the important data for the Betas\n",
    "ff_betas = pd.read_csv(r\"..\\additional_data\\famafrench_betas.csv\")\n",
    "ff_betas = ff_betas.rename(columns={'Unnamed: 0': 'ticker'})\n",
    "ff_betas.set_index('ticker', inplace = True)\n",
    "\n",
    "ff_betas"
   ],
   "execution_count": 72,
   "outputs": []
  },
  {
   "cell_type": "code",
   "id": "f90adc05-9fdc-4bca-9ae2-ceb6406353d1",
   "metadata": {
    "ExecuteTime": {
     "end_time": "2025-06-01T22:12:37.060194Z",
     "start_time": "2025-06-01T22:12:37.037516Z"
    }
   },
   "source": [
    "# Intersect Dates\n",
    "common_dates = returns_df.index.intersection(premiums_df.index)\n",
    "\n",
    "# Filter for common dates\n",
    "premiums_df = premiums_df.loc[common_dates]\n",
    "returns_df = returns_df.loc[common_dates]"
   ],
   "execution_count": 73,
   "outputs": []
  },
  {
   "metadata": {
    "ExecuteTime": {
     "end_time": "2025-06-01T22:21:49.246993Z",
     "start_time": "2025-06-01T22:21:49.236679Z"
    }
   },
   "cell_type": "code",
   "source": [
    "print(premiums_df.shape)\n",
    "print(returns_df.shape)"
   ],
   "id": "321a547dbae6fd35",
   "execution_count": 76,
   "outputs": []
  },
  {
   "cell_type": "code",
   "id": "6e30b5d3-355b-4af6-be4e-9940e5850c3e",
   "metadata": {
    "ExecuteTime": {
     "end_time": "2025-06-01T22:22:14.744212Z",
     "start_time": "2025-06-01T22:21:49.597957Z"
    }
   },
   "source": [
    "# Initialize lists to store results\n",
    "betas_list = []\n",
    "\n",
    "# Loop over each available date in the returns DataFrame\n",
    "for date in common_dates:\n",
    "\n",
    "    rets = pd.DataFrame([returns_df.loc[date]], index=['returns']).transpose()\n",
    "    \n",
    "    # Merge returns with characteristics\n",
    "    reg_df_data = pd.concat([rets, ff_betas], axis=1).dropna()\n",
    "\n",
    "    # Define independent (X) and dependent (y) variables\n",
    "    X = sm.add_constant(reg_df_data[['mkt_beta', 'smb_beta', 'hml_beta']])  \n",
    "    y = reg_df_data['returns']  \n",
    "\n",
    "    # Run the weighted least squares (WLS) regression\n",
    "    model = sm.OLS(y, X, missing='drop')\n",
    "    results = model.fit()\n",
    "\n",
    "    # Extract coefficients, t-stats, and p-values\n",
    "    params = results.params\n",
    "\n",
    "    # Store results in separate lists\n",
    "    betas_list.append(pd.Series(params, name=date)) \n",
    "\n",
    "# Convert lists to DataFrames\n",
    "history_betas_df = pd.DataFrame(betas_list)\n",
    "\n",
    "# Set the index as the dates\n",
    "history_betas_df.index = common_dates"
   ],
   "execution_count": 77,
   "outputs": []
  },
  {
   "cell_type": "code",
   "id": "eadb27b4-1efe-4082-89cd-270a28b34a1c",
   "metadata": {
    "ExecuteTime": {
     "end_time": "2025-06-01T22:22:17.632818Z",
     "start_time": "2025-06-01T22:22:17.606832Z"
    }
   },
   "source": [
    "# Check the DataFrames\n",
    "history_betas_df"
   ],
   "execution_count": 78,
   "outputs": []
  },
  {
   "cell_type": "code",
   "id": "21cb0f2a-920f-4a59-b1c6-44d477a7f0b6",
   "metadata": {
    "ExecuteTime": {
     "end_time": "2025-06-01T22:22:21.973940Z",
     "start_time": "2025-06-01T22:22:21.641287Z"
    }
   },
   "source": [
    "# Create the Plot\n",
    "plt.figure(figsize=(10, 6))\n",
    "plt.plot(history_betas_df['mkt_beta'].cumsum(), label='Market Beta Returns', alpha=0.7)\n",
    "plt.plot(history_betas_df['smb_beta'].cumsum(), label='SMB Beta Returns', alpha=0.7)\n",
    "plt.plot(history_betas_df['hml_beta'].cumsum(), label='HML Beta Returns', alpha=0.7)\n",
    "\n",
    "# Config\n",
    "plt.title('Factor Returns Time Series')\n",
    "plt.xlabel('Time')\n",
    "plt.ylabel('Returns')\n",
    "plt.legend()\n",
    "\n",
    "# Show\n",
    "plt.show()"
   ],
   "execution_count": 79,
   "outputs": []
  },
  {
   "cell_type": "code",
   "id": "75911991-acba-41c5-90d0-cc4bd221c65a",
   "metadata": {
    "ExecuteTime": {
     "end_time": "2025-06-01T22:22:52.595736Z",
     "start_time": "2025-06-01T22:22:52.299776Z"
    }
   },
   "source": [
    "# Create the Plot\n",
    "plt.figure(figsize=(10, 6))\n",
    "plt.plot(history_betas_df['mkt_beta'].cumsum(), label='Regression Market Beta Returns', alpha=0.7)\n",
    "plt.plot(premiums_df['mkt_premium'].cumsum(), label='Calculated Market Beta Returns', alpha=0.7)\n",
    "\n",
    "# Config\n",
    "plt.title('Returns Time Series')\n",
    "plt.xlabel('Time')\n",
    "plt.ylabel('Returns')\n",
    "plt.legend()\n",
    "\n",
    "# Show\n",
    "plt.show()"
   ],
   "execution_count": 80,
   "outputs": []
  },
  {
   "cell_type": "code",
   "id": "79e84d17-70ff-4ce5-997c-477c74d700f7",
   "metadata": {
    "ExecuteTime": {
     "end_time": "2025-06-01T22:24:51.406265Z",
     "start_time": "2025-06-01T22:24:51.078668Z"
    }
   },
   "source": [
    "# Create the Plot\n",
    "plt.figure(figsize=(10, 6))\n",
    "plt.plot(history_betas_df['smb_beta'].cumsum(), label='Regression SMB Beta Returns', alpha=0.7)\n",
    "plt.plot(premiums_df['smb_premium'].cumsum(), label='Calculated SMB Beta Returns', alpha=0.7)\n",
    "\n",
    "# Config\n",
    "plt.title('Returns Time Series')\n",
    "plt.xlabel('Time')\n",
    "plt.ylabel('Returns')\n",
    "plt.legend()\n",
    "\n",
    "# Show\n",
    "plt.show()"
   ],
   "execution_count": 81,
   "outputs": []
  },
  {
   "cell_type": "code",
   "id": "7e8ab6d6-fe11-44f5-9d32-297356bdead4",
   "metadata": {
    "ExecuteTime": {
     "end_time": "2025-06-01T22:25:06.136095Z",
     "start_time": "2025-06-01T22:25:05.814667Z"
    }
   },
   "source": [
    "# Create the Plot\n",
    "plt.figure(figsize=(10, 6))\n",
    "plt.plot(history_betas_df['hml_beta'].cumsum(), label='Regression HML Beta Returns', alpha=0.7)\n",
    "plt.plot(premiums_df['hml_premium'].cumsum(), label='Calculated HML Beta Returns', alpha=0.7)\n",
    "\n",
    "# Config\n",
    "plt.title('Returns Time Series')\n",
    "plt.xlabel('Time')\n",
    "plt.ylabel('Returns')\n",
    "plt.legend()\n",
    "\n",
    "# Show\n",
    "plt.show()"
   ],
   "execution_count": 82,
   "outputs": []
  },
  {
   "cell_type": "code",
   "id": "6803e81f-6138-41d5-bd61-26114fee099a",
   "metadata": {
    "ExecuteTime": {
     "end_time": "2025-06-01T22:25:54.240655Z",
     "start_time": "2025-06-01T22:25:54.224547Z"
    }
   },
   "source": [
    "# Lets test the significance of these coefficients\n",
    "def newey_west_std(errors, lag=4):\n",
    "    \"\"\"\n",
    "    Computes Newey-West standard errors for a time series.\n",
    "    \n",
    "    Parameters:\n",
    "    errors: Pandas Series or NumPy array of residuals (gamma estimates)\n",
    "    lag: Maximum number of lags to consider (default: 4)\n",
    "    \n",
    "    Returns:\n",
    "    Newey-West adjusted standard error\n",
    "    \"\"\"\n",
    "    T = len(errors)\n",
    "    gamma_var = errors.var()  # Start with variance of the series\n",
    "    \n",
    "    for l in range(1, lag + 1):\n",
    "        weight = 1 - (l / (lag + 1))\n",
    "        autocov = np.cov(errors[:-l], errors[l:])[0, 1]  # Autocovariance at lag l\n",
    "        gamma_var += 2 * weight * autocov  # Newey-West adjustment\n",
    "\n",
    "    return np.sqrt(gamma_var / T)  # Standard error\n",
    "\n",
    "def fama_macbeth_significance_test(gamma_series, lag=4):\n",
    "    \"\"\"\n",
    "    Performs statistical significance tests for Fama-MacBeth risk premia.\n",
    "\n",
    "    Parameters:\n",
    "    gamma_series: DataFrame where each column contains estimated gammas over time.\n",
    "    lag: Lags for Newey-West standard errors (default: 4).\n",
    "\n",
    "    Returns:\n",
    "    DataFrame with mean gamma, standard error, t-statistics, and p-values.\n",
    "    \"\"\"\n",
    "    gamma_means = gamma_series.mean()\n",
    "\n",
    "    # Compute Newey-West adjusted standard errors\n",
    "    gamma_std = gamma_series.apply(newey_west_std, lag=lag)\n",
    "\n",
    "    # Compute t-statistics\n",
    "    t_stats = gamma_means / gamma_std\n",
    "\n",
    "    # Compute p-values\n",
    "    p_values = 2 * (1 - stats.t.cdf(abs(t_stats), df=len(gamma_series) - 1))\n",
    "\n",
    "    # Create results DataFrame\n",
    "    results = pd.DataFrame({\n",
    "        'Mean Gamma': gamma_means,\n",
    "        'Std Error': gamma_std,\n",
    "        't-stat': t_stats,\n",
    "        'p-value': p_values\n",
    "    })\n",
    "\n",
    "    return results\n"
   ],
   "execution_count": 83,
   "outputs": []
  },
  {
   "cell_type": "code",
   "id": "321b3fa9-a9f9-493f-96e4-a3717d54cf73",
   "metadata": {
    "ExecuteTime": {
     "end_time": "2025-06-01T22:25:55.073502Z",
     "start_time": "2025-06-01T22:25:55.042606Z"
    }
   },
   "source": [
    "# Now the Results\n",
    "\n",
    "results = fama_macbeth_significance_test(history_betas_df[['mkt_beta',\t'smb_beta',\t'hml_beta']])\n",
    "\n",
    "results"
   ],
   "execution_count": 84,
   "outputs": []
  },
  {
   "metadata": {},
   "cell_type": "code",
   "execution_count": null,
   "source": "",
   "id": "b6be2baeab4c6bc0",
   "outputs": []
  }
 ],
 "metadata": {
  "kernelspec": {
   "display_name": "Python 3 (ipykernel)",
   "language": "python",
   "name": "python3"
  },
  "language_info": {
   "codemirror_mode": {
    "name": "ipython",
    "version": 3
   },
   "file_extension": ".py",
   "mimetype": "text/x-python",
   "name": "python",
   "nbconvert_exporter": "python",
   "pygments_lexer": "ipython3",
   "version": "3.11.7"
  }
 },
 "nbformat": 4,
 "nbformat_minor": 5
}
