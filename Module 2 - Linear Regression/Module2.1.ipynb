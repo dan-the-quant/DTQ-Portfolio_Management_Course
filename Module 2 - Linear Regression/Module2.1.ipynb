{
 "cells": [
  {
   "cell_type": "markdown",
   "id": "1c3378b8-888f-4b63-9823-65d4f621c3f6",
   "metadata": {},
   "source": [
    "# Simple Linear Regression #\n",
    "\n",
    "### Treasury Bonds Holdins vs US Dollar Index ###"
   ]
  },
  {
   "cell_type": "code",
   "id": "94c0637e-12ee-4df4-ac17-5b1bd4cf1f1d",
   "metadata": {
    "ExecuteTime": {
     "end_time": "2025-04-16T03:51:53.636581Z",
     "start_time": "2025-04-16T03:51:51.063432Z"
    }
   },
   "source": [
    "# Import Libraries\n",
    "\n",
    "# Data Management\n",
    "import pandas as pd\n",
    "import numpy as np\n",
    "\n",
    "# Statistics\n",
    "import statsmodels.api as sm \n",
    "import matplotlib.pyplot as plt\n",
    "\n",
    "# Get Data\n",
    "from fredapi import Fred\n",
    "\n",
    "# Pretty Notation\n",
    "from IPython.display import display, Math"
   ],
   "execution_count": 1,
   "outputs": []
  },
  {
   "cell_type": "code",
   "id": "d8664dc0-c8e2-4e20-a0e5-c3e23b55f95f",
   "metadata": {
    "ExecuteTime": {
     "end_time": "2025-04-16T03:51:53.643254Z",
     "start_time": "2025-04-16T03:51:53.638331Z"
    }
   },
   "source": [
    "# Data Collection Function from FRED\n",
    "def get_fred_data(symbol: str) -> pd.DataFrame:\n",
    "    \n",
    "    fred_key = '0174cb93931388a2bf305663e4117fd3'\n",
    "\n",
    "    fred = Fred(api_key = fred_key)\n",
    "    \n",
    "    df = fred.get_series(symbol)\n",
    "    \n",
    "    return df"
   ],
   "execution_count": 2,
   "outputs": []
  },
  {
   "cell_type": "code",
   "id": "b21410c1-4c26-4802-96df-a3c42a318ea0",
   "metadata": {
    "ExecuteTime": {
     "end_time": "2025-04-16T03:51:54.593611Z",
     "start_time": "2025-04-16T03:51:53.644776Z"
    }
   },
   "source": [
    "# Data for Y (Memorandum Items: Custody Holdings: Marketable U.S. Treasury Securities: Wednesday Level)\n",
    "y = get_fred_data('WMTSECL1')\n",
    "\n",
    "# Creating Time Index\n",
    "y.index = pd.to_datetime(y.index)\n",
    "\n",
    "print(y)"
   ],
   "execution_count": 3,
   "outputs": []
  },
  {
   "cell_type": "code",
   "id": "14d378c4-9a3b-4e80-b4f9-21ee9afc2244",
   "metadata": {
    "ExecuteTime": {
     "end_time": "2025-04-16T03:51:55.276798Z",
     "start_time": "2025-04-16T03:51:54.594218Z"
    }
   },
   "source": [
    "# Data for Explanatory Variables (Nominal Broad U.S. Dollar Index)\n",
    "x = get_fred_data('DTWEXBGS')\n",
    "\n",
    "# Time Index\n",
    "x.index = pd.to_datetime(x.index)\n",
    "\n",
    "print(x)"
   ],
   "execution_count": 4,
   "outputs": []
  },
  {
   "cell_type": "code",
   "id": "15a8a653-1578-4ee3-a5f1-03a4dfc0a14f",
   "metadata": {
    "ExecuteTime": {
     "end_time": "2025-04-16T03:55:07.013168Z",
     "start_time": "2025-04-16T03:55:07.000889Z"
    }
   },
   "source": [
    "# Create the Data for Lineal Regression\n",
    "ols_df = pd.DataFrame({'x': x, 'y': y})\n",
    "\n",
    "# Eliminate 0s\n",
    "ols_df = ols_df[(ols_df['x'] > 0) & (ols_df['y'] > 0)]\n",
    "\n",
    "# Cut the Sample\n",
    "ols_df = ols_df[\"2018-01-01\":]\n",
    "\n",
    "ols_df"
   ],
   "execution_count": 33,
   "outputs": []
  },
  {
   "cell_type": "code",
   "id": "26c9e18e-8b06-4bec-a2d6-134a3b395d3c",
   "metadata": {
    "scrolled": true,
    "ExecuteTime": {
     "end_time": "2025-04-16T03:55:07.303398Z",
     "start_time": "2025-04-16T03:55:07.291199Z"
    }
   },
   "source": [
    "# We use Natural Log to calculate better betas\n",
    "log_ols_df = np.log(ols_df)\n",
    "\n",
    "# Drop NaNs\n",
    "log_ols_df = log_ols_df.dropna()\n",
    "\n",
    "# Set Index as a Date Item\n",
    "log_ols_df.index = pd.to_datetime(log_ols_df.index)\n",
    "\n",
    "log_ols_df"
   ],
   "execution_count": 34,
   "outputs": []
  },
  {
   "cell_type": "code",
   "id": "46d8f5d3-b63b-4c41-8bed-ab415c86b590",
   "metadata": {
    "ExecuteTime": {
     "end_time": "2025-04-16T03:58:06.976665Z",
     "start_time": "2025-04-16T03:58:06.757728Z"
    }
   },
   "source": [
    "\"\"\"\n",
    "By Plotting the Variables we might understand the relations among them\n",
    "\"\"\"\n",
    "\n",
    "# Create Figure\n",
    "fig, ax1 = plt.subplots(dpi = 300)\n",
    "\n",
    "# Holdings of Treasury Bonds Plot\n",
    "log_ols_df['y'].plot(color = 'blue', ax = ax1)\n",
    "ax1.set_xlabel('Date')\n",
    "ax1.set_ylabel(\n",
    "    'Holdings of Treasury Bonds', \n",
    "    color='blue'\n",
    "    )\n",
    "\n",
    "# US Dollar Index Plot\n",
    "ax2 = ax1.twinx()\n",
    "\n",
    "log_ols_df['x'].plot(color = 'red', ax = ax2)\n",
    "ax2.set_ylabel(\n",
    "    'US Dollar Index', \n",
    "    color='red'\n",
    "    )\n",
    "\n",
    "plt.show()"
   ],
   "execution_count": 42,
   "outputs": []
  },
  {
   "cell_type": "code",
   "id": "f053db2a-82da-4680-bd1b-7fe752a9ca0b",
   "metadata": {
    "ExecuteTime": {
     "end_time": "2025-04-16T03:58:46.631788Z",
     "start_time": "2025-04-16T03:58:46.626072Z"
    }
   },
   "source": [
    "# Correlation Coefficient\n",
    "\n",
    "display(Math(r\"\\rho=\\frac{Cov(x,y)}{\\sigma_x\\sigma_y}\"))\n",
    "\n",
    "correlation = log_ols_df['y'].corr(log_ols_df['x'])\n",
    "\n",
    "print(f\"\\nPearson Correlation Coefficient: {correlation}\")"
   ],
   "execution_count": 43,
   "outputs": []
  },
  {
   "cell_type": "code",
   "id": "1b8689dd-973d-42ce-b748-9f04787b0662",
   "metadata": {
    "ExecuteTime": {
     "end_time": "2025-04-16T03:58:52.961933Z",
     "start_time": "2025-04-16T03:58:52.599680Z"
    }
   },
   "source": [
    "fig, ax1 = plt.subplots(dpi = 600)\n",
    "\n",
    "plt.scatter(log_ols_df['x'], log_ols_df['y'])\n",
    "plt.ylabel('Custody Holdings Rate')\n",
    "plt.xlabel('Nominal Broad U.S. Dollar Index')\n",
    "\n",
    "plt.show()"
   ],
   "execution_count": 44,
   "outputs": []
  },
  {
   "cell_type": "code",
   "id": "7cf67c05-6148-4035-a233-08134e933546",
   "metadata": {
    "ExecuteTime": {
     "end_time": "2025-04-16T03:59:01.724698Z",
     "start_time": "2025-04-16T03:59:01.659811Z"
    }
   },
   "source": [
    "# Create a Box Plot to identify Outliers\n",
    "\n",
    "plt.boxplot(log_ols_df['y'], vert=True, patch_artist=True)  \n",
    "\n",
    "# Config\n",
    "plt.title(\"Custody Holdings: Marketable U.S. Treasury Securities Boxplot\")\n",
    "plt.ylabel(\"Values\")\n",
    "plt.xticks([1], [\"Data\"]) \n",
    "\n",
    "plt.show()"
   ],
   "execution_count": 45,
   "outputs": []
  },
  {
   "cell_type": "code",
   "id": "b932ddc1-48af-463f-b120-deb7714e20a1",
   "metadata": {
    "ExecuteTime": {
     "end_time": "2025-04-16T03:59:06.335016Z",
     "start_time": "2025-04-16T03:59:06.269670Z"
    }
   },
   "source": [
    "# Create a Box Plot to identify Outliers\n",
    "\n",
    "plt.boxplot(log_ols_df['x'], vert=True, patch_artist=True)  \n",
    "\n",
    "# Config\n",
    "plt.title(\"Nominal Broad U.S. Dollar Index Boxplot\")\n",
    "plt.ylabel(\"Values\")\n",
    "plt.xticks([1], [\"Data\"]) \n",
    "\n",
    "plt.show()"
   ],
   "execution_count": 46,
   "outputs": []
  },
  {
   "cell_type": "code",
   "id": "15110c93-609e-4cd2-ae22-a02782eed4f0",
   "metadata": {
    "ExecuteTime": {
     "end_time": "2025-04-16T03:59:36.852606Z",
     "start_time": "2025-04-16T03:59:36.839654Z"
    }
   },
   "source": [
    "# Let us eliminate those values on the Unemployment Rate Growth Rate that exceeds 3 Standard Deviations\n",
    "\n",
    "inferior_limit = log_ols_df['y'].mean() - 3 * log_ols_df['y'].std()\n",
    "superior_limit = log_ols_df['y'].mean() + 3 * log_ols_df['y'].std()\n",
    "\n",
    "# Filter outliers\n",
    "ols_df_filtered = log_ols_df[(log_ols_df[\"y\"] >= inferior_limit) & (log_ols_df[\"y\"] <= superior_limit)]\n",
    "\n",
    "ols_df_filtered"
   ],
   "execution_count": 47,
   "outputs": []
  },
  {
   "cell_type": "code",
   "id": "fd2920cc-6013-45a0-853e-0d00ee7be009",
   "metadata": {
    "ExecuteTime": {
     "end_time": "2025-04-16T04:00:17.635139Z",
     "start_time": "2025-04-16T04:00:17.627239Z"
    }
   },
   "source": [
    "\"\"\"\n",
    "In a Linear Regression Model it is fundamental to have a Constant Value\n",
    "This can be expressed as a Vertical Vector of 1's'\n",
    "\"\"\"\n",
    "\n",
    "ols_df_filtered = sm.add_constant(ols_df_filtered)\n",
    "\n",
    "ols_df_filtered"
   ],
   "execution_count": 48,
   "outputs": []
  },
  {
   "cell_type": "code",
   "id": "77fc2c6e-a36e-492b-90be-3c59c4fb3d8b",
   "metadata": {
    "ExecuteTime": {
     "end_time": "2025-04-16T03:51:56.466748Z",
     "start_time": "2025-04-16T03:51:56.461984Z"
    }
   },
   "source": [
    "# The Simple Linear Regression Model Equation\n",
    "\n",
    "display(Math(r\"y=\\beta_0+\\beta_1x+\\varepsilon\"))"
   ],
   "execution_count": 14,
   "outputs": []
  },
  {
   "cell_type": "code",
   "id": "de35c7e7-0943-499d-9b75-3fffb03e1104",
   "metadata": {
    "ExecuteTime": {
     "end_time": "2025-04-16T03:51:56.473065Z",
     "start_time": "2025-04-16T03:51:56.466748Z"
    }
   },
   "source": [
    "display(Math(r\"\\hat{\\beta_0}=\\bar{y}-\\hat{\\beta_1}\\bar{x}\"))\n",
    "\n",
    "display(Math(r\"\\hat{\\beta_1}=\\frac{\\sum{xy}-\\bar{x}\\bar{y}}{\\sum{x^2}-\\bar{x}^2}=\\frac{Cov(x,y)}{Var(x)}\"))"
   ],
   "execution_count": 15,
   "outputs": []
  },
  {
   "cell_type": "code",
   "id": "b6916a52-d86e-4132-be67-79f4c8e16a37",
   "metadata": {
    "ExecuteTime": {
     "end_time": "2025-04-16T04:00:44.417365Z",
     "start_time": "2025-04-16T04:00:44.411450Z"
    }
   },
   "source": [
    "# Obtaining Variance and Covariance\n",
    "\n",
    "covariance = ols_df_filtered['y'].cov(ols_df_filtered['x'])\n",
    "variance = ols_df_filtered['x'].var()\n",
    "\n",
    "print(f\"Covariance: {covariance}\")\n",
    "print(f\"Variance: {variance}\")"
   ],
   "execution_count": 50,
   "outputs": []
  },
  {
   "cell_type": "code",
   "id": "7b23f235-0dd2-4151-a35c-04a2c7b0f44e",
   "metadata": {
    "ExecuteTime": {
     "end_time": "2025-04-16T04:01:04.374427Z",
     "start_time": "2025-04-16T04:01:04.369727Z"
    }
   },
   "source": [
    "# Obtaining Slope Coefficient\n",
    "slope = covariance/variance\n",
    "\n",
    "print(f\"The beta coefficient is: {slope}\")"
   ],
   "execution_count": 51,
   "outputs": []
  },
  {
   "cell_type": "code",
   "id": "2cd18b25-db1b-4968-a2b3-31a3a21f012d",
   "metadata": {
    "ExecuteTime": {
     "end_time": "2025-04-16T04:01:46.599797Z",
     "start_time": "2025-04-16T04:01:46.589445Z"
    }
   },
   "source": [
    "# Obtaining Intercept Coefficient\n",
    "\n",
    "intercept = ols_df_filtered['y'].mean() - slope*ols_df_filtered['x'].mean()\n",
    "\n",
    "print(f\"The alpha coefficient is: {intercept}\")"
   ],
   "execution_count": 52,
   "outputs": []
  },
  {
   "cell_type": "code",
   "id": "0ed938bf-aa98-48e6-aaa5-d9efd03ef59d",
   "metadata": {
    "ExecuteTime": {
     "end_time": "2025-04-16T04:02:21.585175Z",
     "start_time": "2025-04-16T04:02:21.575637Z"
    }
   },
   "source": [
    "# Obtaining Fitted Values and Residuals\n",
    "\n",
    "ols_df_filtered['y_hat'] = intercept + slope*ols_df_filtered['x']\n",
    "ols_df_filtered['residuals'] = ols_df_filtered['y'] - ols_df_filtered['y_hat']\n",
    "\n",
    "ols_df_filtered"
   ],
   "execution_count": 53,
   "outputs": []
  },
  {
   "cell_type": "code",
   "id": "6237cac8-731a-422a-a3b6-10ebc8d4328f",
   "metadata": {
    "ExecuteTime": {
     "end_time": "2025-04-16T04:03:45.128133Z",
     "start_time": "2025-04-16T04:03:45.007526Z"
    }
   },
   "source": [
    "# Create Comparative Plot\n",
    "plt.figure(figsize=(10, 6))\n",
    "plt.plot(ols_df_filtered['y'], label='Real Holdings Values', color='blue', alpha=0.7)\n",
    "plt.plot(ols_df_filtered['y_hat'], label='Fitted Holdings Values', color='green', alpha=0.7)\n",
    "\n",
    "# Config\n",
    "plt.title('Time Series')\n",
    "plt.xlabel('Time')\n",
    "plt.ylabel('Treasury Bonds Holdings')\n",
    "plt.legend()\n",
    "\n",
    "# Show\n",
    "plt.show()"
   ],
   "execution_count": 54,
   "outputs": []
  },
  {
   "cell_type": "code",
   "id": "49024b4b-f525-45af-8f5a-ec889b9bcdbd",
   "metadata": {
    "ExecuteTime": {
     "end_time": "2025-04-16T04:04:11.530532Z",
     "start_time": "2025-04-16T04:04:11.409740Z"
    }
   },
   "source": [
    "# Plot Residuals\n",
    "plt.figure(figsize=(10, 6))\n",
    "plt.plot(ols_df_filtered['residuals'], label='Regression Residuals', color='red', alpha=0.7)\n",
    "\n",
    "# Config\n",
    "plt.title('Time Series')\n",
    "plt.xlabel('Time Index')\n",
    "plt.ylabel('Residuals')\n",
    "plt.legend()\n",
    "\n",
    "# Show\n",
    "plt.show()"
   ],
   "execution_count": 55,
   "outputs": []
  },
  {
   "cell_type": "code",
   "id": "0868a3c7-f7cd-4ef1-8b1e-27009cd6027a",
   "metadata": {
    "ExecuteTime": {
     "end_time": "2025-04-16T04:04:21.605549Z",
     "start_time": "2025-04-16T04:04:21.599839Z"
    }
   },
   "source": [
    "# The Residuals Mean can give us information about the bias of the coefficients\n",
    "\n",
    "print(f\"Residuals Mean: {ols_df_filtered['residuals'].mean().round(3)}\")"
   ],
   "execution_count": 56,
   "outputs": []
  },
  {
   "cell_type": "code",
   "id": "db274fa6-48c1-4260-8daa-a61831afa208",
   "metadata": {
    "ExecuteTime": {
     "end_time": "2025-04-16T04:05:47.939662Z",
     "start_time": "2025-04-16T04:05:47.926516Z"
    }
   },
   "source": [
    "# Obtain R-Squared\n",
    "\n",
    "display(Math(r\"R^2=\\frac{Var(\\hat{y})}{Var(y)}\"))\n",
    "\n",
    "print(\"\\n\")\n",
    "print(f\"Fitted Values Variance: {ols_df_filtered['y_hat'].var()}\")\n",
    "print(f\"Real Values Variance: {ols_df_filtered['y'].var()}\")"
   ],
   "execution_count": 58,
   "outputs": []
  },
  {
   "cell_type": "code",
   "id": "caf7e187-6e01-435e-87ef-b92482da03d5",
   "metadata": {
    "ExecuteTime": {
     "end_time": "2025-04-16T04:05:48.651708Z",
     "start_time": "2025-04-16T04:05:48.644842Z"
    }
   },
   "source": [
    "# Then the R-Squared Coefficient\n",
    "\n",
    "r2 = ols_df_filtered['y_hat'].var()/ols_df_filtered['y'].var()\n",
    "\n",
    "print(f\"The R-Squared Coefficient is: {r2}\")"
   ],
   "execution_count": 59,
   "outputs": []
  },
  {
   "cell_type": "code",
   "id": "d4a2d428-e0fd-4f7e-bf9f-4f401ff24eff",
   "metadata": {
    "ExecuteTime": {
     "end_time": "2025-04-16T04:05:49.158688Z",
     "start_time": "2025-04-16T04:05:49.150791Z"
    }
   },
   "source": [
    "# The Betas Standard Errors\n",
    "\n",
    "display(Math(r\"Var(\\hat{\\beta_0})=\\sigma^2(\\frac{1}{n}+\\frac{\\bar{x}^2}{(n-1)Var(x)})\"))\n",
    "display(Math(r\"Var(\\hat{\\beta_1})=\\frac{\\sigma^2}{nVar(x)}\"))"
   ],
   "execution_count": 60,
   "outputs": []
  },
  {
   "cell_type": "code",
   "id": "79daca8f-3610-4f55-af11-b14cf93f72af",
   "metadata": {
    "ExecuteTime": {
     "end_time": "2025-04-16T04:05:49.609912Z",
     "start_time": "2025-04-16T04:05:49.604578Z"
    }
   },
   "source": [
    "# Let us calculate the Slope Standard Deviation\n",
    "\n",
    "residuals_var = ols_df_filtered['residuals'].var(ddof=1)\n",
    "x_var = ols_df_filtered['x'].var()\n",
    "n = len(ols_df_filtered)\n",
    "\n",
    "print(f\"Residuals Variance: {residuals_var}\")\n",
    "print(f\"Independent Variable Variance: {x_var}\")"
   ],
   "execution_count": 61,
   "outputs": []
  },
  {
   "cell_type": "code",
   "id": "6ef20328-cd92-48b4-a4f9-92f91c9f4690",
   "metadata": {
    "ExecuteTime": {
     "end_time": "2025-04-16T04:05:50.069746Z",
     "start_time": "2025-04-16T04:05:50.059668Z"
    }
   },
   "source": [
    "slope_std = np.sqrt(residuals_var)/np.sqrt(n*x_var)\n",
    "\n",
    "print(f\"Slope Coefficient Standard Deviation: {slope_std}\")"
   ],
   "execution_count": 62,
   "outputs": []
  },
  {
   "cell_type": "code",
   "id": "70b3f005-52aa-46a8-ba4b-91f8884ae177",
   "metadata": {
    "ExecuteTime": {
     "end_time": "2025-04-16T04:05:50.511561Z",
     "start_time": "2025-04-16T04:05:50.506529Z"
    }
   },
   "source": [
    "intercept_var = residuals_var * (1/n + ols_df_filtered['x'].mean()**2 / ((n - 1) * x_var))\n",
    "intercept_std = np.sqrt(intercept_var)\n",
    "\n",
    "print(f\"Intercept Coefficient Standard Deviation: {intercept_std}\")"
   ],
   "execution_count": 63,
   "outputs": []
  },
  {
   "cell_type": "code",
   "id": "e942871f-ef0f-4dcc-9030-7235a49966c8",
   "metadata": {
    "ExecuteTime": {
     "end_time": "2025-04-16T04:05:51.606415Z",
     "start_time": "2025-04-16T04:05:51.602816Z"
    }
   },
   "source": [
    "# Create the t values\n",
    "\n",
    "display(Math(r\"t=\\frac{\\beta}{sse(\\beta)}\"))"
   ],
   "execution_count": 64,
   "outputs": []
  },
  {
   "cell_type": "code",
   "id": "9259588c-c672-4f60-968d-5bf9f9e9fa94",
   "metadata": {
    "ExecuteTime": {
     "end_time": "2025-04-16T04:05:52.246504Z",
     "start_time": "2025-04-16T04:05:52.241699Z"
    }
   },
   "source": [
    "# Calculate the t values\n",
    "\n",
    "slope_t = slope/slope_std\n",
    "intercept_t = intercept/intercept_std\n",
    "\n",
    "if abs(slope_t) > 2:\n",
    "    print(f\"The t-value of {slope_t} shows evidence of statistical significance for the slope coefficient\")\n",
    "else:\n",
    "    print(f\"The t-value of {slope_t} shows no evidence of statistical significance for the slope coefficient\")\n",
    "\n",
    "if abs(intercept_t) > 2:\n",
    "    print(f\"The t-value of {intercept_t} shows evidence of statistical significance for the intercept coefficient\")\n",
    "else:\n",
    "    print(f\"The t-value of {intercept_t} shows no evidence of statistical significance for the intercept coefficient\")"
   ],
   "execution_count": 65,
   "outputs": []
  },
  {
   "cell_type": "code",
   "id": "83b53b18-0a51-4efc-8138-7a14ae2c8681",
   "metadata": {
    "ExecuteTime": {
     "end_time": "2025-04-16T04:05:53.183741Z",
     "start_time": "2025-04-16T04:05:53.169403Z"
    }
   },
   "source": [
    "#Model specification\n",
    "model = sm.OLS(\n",
    "    ols_df_filtered['y'], \n",
    "    sm.add_constant(ols_df_filtered['x'])\n",
    "    )   \n",
    "     \n",
    "#the results of the model\n",
    "results = model.fit() \n",
    "    \n",
    "#The Parameters\n",
    "Beta2 = results.params  \n",
    "\n",
    "#here we check the summary\n",
    "print(results.summary())       \n"
   ],
   "execution_count": 66,
   "outputs": []
  },
  {
   "cell_type": "code",
   "id": "875737c8-ed9a-4623-b825-64b52bb256f5",
   "metadata": {
    "ExecuteTime": {
     "end_time": "2025-04-16T03:51:56.867174Z",
     "start_time": "2025-04-16T03:51:56.864489Z"
    }
   },
   "source": [],
   "execution_count": 31,
   "outputs": []
  }
 ],
 "metadata": {
  "kernelspec": {
   "display_name": "Python 3 (ipykernel)",
   "language": "python",
   "name": "python3"
  },
  "language_info": {
   "codemirror_mode": {
    "name": "ipython",
    "version": 3
   },
   "file_extension": ".py",
   "mimetype": "text/x-python",
   "name": "python",
   "nbconvert_exporter": "python",
   "pygments_lexer": "ipython3",
   "version": "3.11.7"
  }
 },
 "nbformat": 4,
 "nbformat_minor": 5
}
