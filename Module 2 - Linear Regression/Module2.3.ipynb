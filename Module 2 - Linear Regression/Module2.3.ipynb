{
 "cells": [
  {
   "cell_type": "markdown",
   "id": "5e78ee47-9479-4622-91e8-c3dfda2de9fb",
   "metadata": {},
   "source": [
    "# Constrained Linear Regression Model #\n",
    "\n",
    "### The CAPM decomposition ####"
   ]
  },
  {
   "cell_type": "code",
   "id": "310b9c6f-ceff-4ea6-937e-f9b9202f6a3f",
   "metadata": {
    "ExecuteTime": {
     "end_time": "2025-04-19T01:07:14.855574Z",
     "start_time": "2025-04-19T01:07:13.548015Z"
    }
   },
   "source": [
    "# Import Libraries\n",
    "\n",
    "# Data Management\n",
    "import pandas as pd\n",
    "import numpy as np\n",
    "\n",
    "#  Statistics\n",
    "import statsmodels.api as sm \n",
    "from scipy.stats import t\n",
    "from scipy.stats import f\n",
    "from scipy.stats import chi2\n",
    "\n",
    "# Handle Files\n",
    "import sys\n",
    "import os\n",
    "\n",
    "# Import Local Functions\n",
    "sys.path.append(os.path.abspath(\"../source\"))\n",
    "from functions import get_fred_data\n",
    "from functions import import_financial_data\n",
    "\n",
    "# Pretty Notation\n",
    "from IPython.display import display, Math"
   ],
   "outputs": [],
   "execution_count": 1
  },
  {
   "metadata": {
    "ExecuteTime": {
     "end_time": "2025-04-19T01:07:14.863035Z",
     "start_time": "2025-04-19T01:07:14.855574Z"
    }
   },
   "cell_type": "code",
   "source": [
    "# The CAPM Decomposition\n",
    "\n",
    "display(Math(r\"r_{stock} = rfr + \\beta\\left(r_{mkt}-rfr\\right) + \\varepsilon\"))\n",
    "display(Math(r\"r_{stock} = \\left(1-\\beta\\right)rfr + \\beta\\left(r_{mkt}\\right) + \\varepsilon\"))"
   ],
   "id": "c15d96833ba54cc1",
   "outputs": [
    {
     "data": {
      "text/plain": [
       "<IPython.core.display.Math object>"
      ],
      "text/latex": "$\\displaystyle r_{stock} = rfr + \\beta\\left(r_{mkt}-rfr\\right) + \\varepsilon$"
     },
     "metadata": {},
     "output_type": "display_data"
    },
    {
     "data": {
      "text/plain": [
       "<IPython.core.display.Math object>"
      ],
      "text/latex": "$\\displaystyle r_{stock} = \\left(1-\\beta\\right)rfr + \\beta\\left(r_{mkt}\\right) + \\varepsilon$"
     },
     "metadata": {},
     "output_type": "display_data"
    }
   ],
   "execution_count": 2
  },
  {
   "cell_type": "code",
   "id": "39824854-7948-48fe-a0e1-e20e72dd44c2",
   "metadata": {
    "ExecuteTime": {
     "end_time": "2025-04-19T01:07:14.903377Z",
     "start_time": "2025-04-19T01:07:14.863035Z"
    }
   },
   "source": [
    "# Data for Y\n",
    "stock = import_financial_data('AMZN')\n",
    "\n",
    "y = stock['adj_close'].pct_change().dropna()\n",
    "\n",
    "y"
   ],
   "outputs": [
    {
     "data": {
      "text/plain": [
       "Date\n",
       "2015-01-05   -0.020517\n",
       "2015-01-06   -0.022833\n",
       "2015-01-07    0.010600\n",
       "2015-01-08    0.006836\n",
       "2015-01-09   -0.011749\n",
       "                ...   \n",
       "2024-10-22    0.003332\n",
       "2024-10-23   -0.026305\n",
       "2024-10-24    0.009041\n",
       "2024-10-25    0.007780\n",
       "2024-10-28    0.002981\n",
       "Name: adj_close, Length: 2471, dtype: float64"
      ]
     },
     "execution_count": 3,
     "metadata": {},
     "output_type": "execute_result"
    }
   ],
   "execution_count": 3
  },
  {
   "metadata": {
    "ExecuteTime": {
     "end_time": "2025-04-19T01:07:14.921566Z",
     "start_time": "2025-04-19T01:07:14.904390Z"
    }
   },
   "cell_type": "code",
   "source": [
    "# Call the sp500\n",
    "data_sp500 = pd.read_csv(r'..\\additional_data\\sp500.csv')\n",
    "data_sp500.set_index('Date', inplace=True)\n",
    "data_sp500.index = pd.to_datetime(data_sp500.index)\n",
    "data_sp500 = data_sp500.pct_change().dropna()\n",
    "\n",
    "data_sp500"
   ],
   "id": "f25ffea05ef0e8d2",
   "outputs": [
    {
     "data": {
      "text/plain": [
       "              sp_500\n",
       "Date                \n",
       "2015-01-05 -0.018278\n",
       "2015-01-06 -0.008893\n",
       "2015-01-07  0.011630\n",
       "2015-01-08  0.017888\n",
       "2015-01-09 -0.008404\n",
       "...              ...\n",
       "2024-12-24  0.011043\n",
       "2024-12-26 -0.000406\n",
       "2024-12-27 -0.011056\n",
       "2024-12-30 -0.010702\n",
       "2024-12-31 -0.004285\n",
       "\n",
       "[2515 rows x 1 columns]"
      ],
      "text/html": [
       "<div>\n",
       "<style scoped>\n",
       "    .dataframe tbody tr th:only-of-type {\n",
       "        vertical-align: middle;\n",
       "    }\n",
       "\n",
       "    .dataframe tbody tr th {\n",
       "        vertical-align: top;\n",
       "    }\n",
       "\n",
       "    .dataframe thead th {\n",
       "        text-align: right;\n",
       "    }\n",
       "</style>\n",
       "<table border=\"1\" class=\"dataframe\">\n",
       "  <thead>\n",
       "    <tr style=\"text-align: right;\">\n",
       "      <th></th>\n",
       "      <th>sp_500</th>\n",
       "    </tr>\n",
       "    <tr>\n",
       "      <th>Date</th>\n",
       "      <th></th>\n",
       "    </tr>\n",
       "  </thead>\n",
       "  <tbody>\n",
       "    <tr>\n",
       "      <th>2015-01-05</th>\n",
       "      <td>-0.018278</td>\n",
       "    </tr>\n",
       "    <tr>\n",
       "      <th>2015-01-06</th>\n",
       "      <td>-0.008893</td>\n",
       "    </tr>\n",
       "    <tr>\n",
       "      <th>2015-01-07</th>\n",
       "      <td>0.011630</td>\n",
       "    </tr>\n",
       "    <tr>\n",
       "      <th>2015-01-08</th>\n",
       "      <td>0.017888</td>\n",
       "    </tr>\n",
       "    <tr>\n",
       "      <th>2015-01-09</th>\n",
       "      <td>-0.008404</td>\n",
       "    </tr>\n",
       "    <tr>\n",
       "      <th>...</th>\n",
       "      <td>...</td>\n",
       "    </tr>\n",
       "    <tr>\n",
       "      <th>2024-12-24</th>\n",
       "      <td>0.011043</td>\n",
       "    </tr>\n",
       "    <tr>\n",
       "      <th>2024-12-26</th>\n",
       "      <td>-0.000406</td>\n",
       "    </tr>\n",
       "    <tr>\n",
       "      <th>2024-12-27</th>\n",
       "      <td>-0.011056</td>\n",
       "    </tr>\n",
       "    <tr>\n",
       "      <th>2024-12-30</th>\n",
       "      <td>-0.010702</td>\n",
       "    </tr>\n",
       "    <tr>\n",
       "      <th>2024-12-31</th>\n",
       "      <td>-0.004285</td>\n",
       "    </tr>\n",
       "  </tbody>\n",
       "</table>\n",
       "<p>2515 rows × 1 columns</p>\n",
       "</div>"
      ]
     },
     "execution_count": 4,
     "metadata": {},
     "output_type": "execute_result"
    }
   ],
   "execution_count": 4
  },
  {
   "metadata": {
    "ExecuteTime": {
     "end_time": "2025-04-19T01:07:16.440601Z",
     "start_time": "2025-04-19T01:07:14.924316Z"
    }
   },
   "cell_type": "code",
   "source": [
    "# Call the Risk Free Rate\n",
    "key = '0174cb93931388a2bf305663e4117fd3'\n",
    "data_rfr = get_fred_data('DGS2', key)\n",
    "data_rfr.dropna(inplace=True)\n",
    "data_rfr.name = 'rfr'\n",
    "data_rfr = data_rfr.loc['2015':]\n",
    "\n",
    "data_rfr"
   ],
   "id": "4bbc7bb78774e5bb",
   "outputs": [
    {
     "data": {
      "text/plain": [
       "2015-01-02    0.66\n",
       "2015-01-05    0.68\n",
       "2015-01-06    0.65\n",
       "2015-01-07    0.62\n",
       "2015-01-08    0.62\n",
       "              ... \n",
       "2025-04-11    3.96\n",
       "2025-04-14    3.84\n",
       "2025-04-15    3.84\n",
       "2025-04-16    3.77\n",
       "2025-04-17    3.81\n",
       "Name: rfr, Length: 2575, dtype: float64"
      ]
     },
     "execution_count": 5,
     "metadata": {},
     "output_type": "execute_result"
    }
   ],
   "execution_count": 5
  },
  {
   "metadata": {
    "ExecuteTime": {
     "end_time": "2025-04-19T01:07:16.448016Z",
     "start_time": "2025-04-19T01:07:16.440601Z"
    }
   },
   "cell_type": "code",
   "source": [
    "daily_rfr = (((1 + (data_rfr.div(100)))**(1/360)) - 1)\n",
    "daily_rfr.dropna(inplace=True)\n",
    "\n",
    "daily_rfr"
   ],
   "id": "d4d31984f88e685a",
   "outputs": [
    {
     "data": {
      "text/plain": [
       "2015-01-02    0.000018\n",
       "2015-01-05    0.000019\n",
       "2015-01-06    0.000018\n",
       "2015-01-07    0.000017\n",
       "2015-01-08    0.000017\n",
       "                ...   \n",
       "2025-04-11    0.000108\n",
       "2025-04-14    0.000105\n",
       "2025-04-15    0.000105\n",
       "2025-04-16    0.000103\n",
       "2025-04-17    0.000104\n",
       "Name: rfr, Length: 2575, dtype: float64"
      ]
     },
     "execution_count": 6,
     "metadata": {},
     "output_type": "execute_result"
    }
   ],
   "execution_count": 6
  },
  {
   "metadata": {
    "ExecuteTime": {
     "end_time": "2025-04-19T01:07:16.460752Z",
     "start_time": "2025-04-19T01:07:16.448016Z"
    }
   },
   "cell_type": "code",
   "source": [
    "# Create the X Matrix\n",
    "x = pd.DataFrame(index = y.index)\n",
    "\n",
    "# Variables\n",
    "x['daily_rfr'] = daily_rfr\n",
    "x['mkt_returns'] = data_sp500\n",
    "\n",
    "# Forward Fill\n",
    "x = x.ffill()\n",
    "\n",
    "x"
   ],
   "id": "2f455c3955ad0d5c",
   "outputs": [
    {
     "data": {
      "text/plain": [
       "            daily_rfr  mkt_returns\n",
       "Date                              \n",
       "2015-01-05   0.000019    -0.018278\n",
       "2015-01-06   0.000018    -0.008893\n",
       "2015-01-07   0.000017     0.011630\n",
       "2015-01-08   0.000017     0.017888\n",
       "2015-01-09   0.000016    -0.008404\n",
       "...               ...          ...\n",
       "2024-10-22   0.000110    -0.000475\n",
       "2024-10-23   0.000111    -0.009191\n",
       "2024-10-24   0.000111     0.002146\n",
       "2024-10-25   0.000112    -0.000299\n",
       "2024-10-28   0.000112     0.002651\n",
       "\n",
       "[2471 rows x 2 columns]"
      ],
      "text/html": [
       "<div>\n",
       "<style scoped>\n",
       "    .dataframe tbody tr th:only-of-type {\n",
       "        vertical-align: middle;\n",
       "    }\n",
       "\n",
       "    .dataframe tbody tr th {\n",
       "        vertical-align: top;\n",
       "    }\n",
       "\n",
       "    .dataframe thead th {\n",
       "        text-align: right;\n",
       "    }\n",
       "</style>\n",
       "<table border=\"1\" class=\"dataframe\">\n",
       "  <thead>\n",
       "    <tr style=\"text-align: right;\">\n",
       "      <th></th>\n",
       "      <th>daily_rfr</th>\n",
       "      <th>mkt_returns</th>\n",
       "    </tr>\n",
       "    <tr>\n",
       "      <th>Date</th>\n",
       "      <th></th>\n",
       "      <th></th>\n",
       "    </tr>\n",
       "  </thead>\n",
       "  <tbody>\n",
       "    <tr>\n",
       "      <th>2015-01-05</th>\n",
       "      <td>0.000019</td>\n",
       "      <td>-0.018278</td>\n",
       "    </tr>\n",
       "    <tr>\n",
       "      <th>2015-01-06</th>\n",
       "      <td>0.000018</td>\n",
       "      <td>-0.008893</td>\n",
       "    </tr>\n",
       "    <tr>\n",
       "      <th>2015-01-07</th>\n",
       "      <td>0.000017</td>\n",
       "      <td>0.011630</td>\n",
       "    </tr>\n",
       "    <tr>\n",
       "      <th>2015-01-08</th>\n",
       "      <td>0.000017</td>\n",
       "      <td>0.017888</td>\n",
       "    </tr>\n",
       "    <tr>\n",
       "      <th>2015-01-09</th>\n",
       "      <td>0.000016</td>\n",
       "      <td>-0.008404</td>\n",
       "    </tr>\n",
       "    <tr>\n",
       "      <th>...</th>\n",
       "      <td>...</td>\n",
       "      <td>...</td>\n",
       "    </tr>\n",
       "    <tr>\n",
       "      <th>2024-10-22</th>\n",
       "      <td>0.000110</td>\n",
       "      <td>-0.000475</td>\n",
       "    </tr>\n",
       "    <tr>\n",
       "      <th>2024-10-23</th>\n",
       "      <td>0.000111</td>\n",
       "      <td>-0.009191</td>\n",
       "    </tr>\n",
       "    <tr>\n",
       "      <th>2024-10-24</th>\n",
       "      <td>0.000111</td>\n",
       "      <td>0.002146</td>\n",
       "    </tr>\n",
       "    <tr>\n",
       "      <th>2024-10-25</th>\n",
       "      <td>0.000112</td>\n",
       "      <td>-0.000299</td>\n",
       "    </tr>\n",
       "    <tr>\n",
       "      <th>2024-10-28</th>\n",
       "      <td>0.000112</td>\n",
       "      <td>0.002651</td>\n",
       "    </tr>\n",
       "  </tbody>\n",
       "</table>\n",
       "<p>2471 rows × 2 columns</p>\n",
       "</div>"
      ]
     },
     "execution_count": 7,
     "metadata": {},
     "output_type": "execute_result"
    }
   ],
   "execution_count": 7
  },
  {
   "cell_type": "code",
   "id": "27996cd9-daf1-4a50-ba81-98fb3d38f41f",
   "metadata": {
    "ExecuteTime": {
     "end_time": "2025-04-19T01:07:16.468775Z",
     "start_time": "2025-04-19T01:07:16.460752Z"
    }
   },
   "source": [
    "# Let us check the correlations\n",
    "\n",
    "correlation = pd.concat([y, x], axis = 1).corr()\n",
    "\n",
    "correlation"
   ],
   "outputs": [
    {
     "data": {
      "text/plain": [
       "             adj_close  daily_rfr  mkt_returns\n",
       "adj_close     1.000000  -0.019391     0.624150\n",
       "daily_rfr    -0.019391   1.000000    -0.004452\n",
       "mkt_returns   0.624150  -0.004452     1.000000"
      ],
      "text/html": [
       "<div>\n",
       "<style scoped>\n",
       "    .dataframe tbody tr th:only-of-type {\n",
       "        vertical-align: middle;\n",
       "    }\n",
       "\n",
       "    .dataframe tbody tr th {\n",
       "        vertical-align: top;\n",
       "    }\n",
       "\n",
       "    .dataframe thead th {\n",
       "        text-align: right;\n",
       "    }\n",
       "</style>\n",
       "<table border=\"1\" class=\"dataframe\">\n",
       "  <thead>\n",
       "    <tr style=\"text-align: right;\">\n",
       "      <th></th>\n",
       "      <th>adj_close</th>\n",
       "      <th>daily_rfr</th>\n",
       "      <th>mkt_returns</th>\n",
       "    </tr>\n",
       "  </thead>\n",
       "  <tbody>\n",
       "    <tr>\n",
       "      <th>adj_close</th>\n",
       "      <td>1.000000</td>\n",
       "      <td>-0.019391</td>\n",
       "      <td>0.624150</td>\n",
       "    </tr>\n",
       "    <tr>\n",
       "      <th>daily_rfr</th>\n",
       "      <td>-0.019391</td>\n",
       "      <td>1.000000</td>\n",
       "      <td>-0.004452</td>\n",
       "    </tr>\n",
       "    <tr>\n",
       "      <th>mkt_returns</th>\n",
       "      <td>0.624150</td>\n",
       "      <td>-0.004452</td>\n",
       "      <td>1.000000</td>\n",
       "    </tr>\n",
       "  </tbody>\n",
       "</table>\n",
       "</div>"
      ]
     },
     "execution_count": 8,
     "metadata": {},
     "output_type": "execute_result"
    }
   ],
   "execution_count": 8
  },
  {
   "cell_type": "code",
   "id": "2fdc5fb6-99cb-4b64-b346-ebe0ea52a511",
   "metadata": {
    "ExecuteTime": {
     "end_time": "2025-04-19T01:07:16.474827Z",
     "start_time": "2025-04-19T01:07:16.468775Z"
    }
   },
   "source": [
    "# The matrix\n",
    "\n",
    "x = sm.add_constant(x)\n",
    "\n",
    "Y_Vector = y.dropna()\n",
    "Information_Matrix = x.dropna()"
   ],
   "outputs": [],
   "execution_count": 9
  },
  {
   "metadata": {
    "ExecuteTime": {
     "end_time": "2025-04-19T01:07:16.480759Z",
     "start_time": "2025-04-19T01:07:16.474827Z"
    }
   },
   "cell_type": "code",
   "source": [
    "print(Y_Vector.shape)\n",
    "print(Information_Matrix.shape)"
   ],
   "id": "3cc80b2fb6436e16",
   "outputs": [
    {
     "name": "stdout",
     "output_type": "stream",
     "text": [
      "(2471,)\n",
      "(2471, 3)\n"
     ]
    }
   ],
   "execution_count": 10
  },
  {
   "cell_type": "code",
   "id": "dc2d04b3-5eb0-459f-ab41-d0277d832965",
   "metadata": {
    "ExecuteTime": {
     "end_time": "2025-04-19T01:07:16.513513Z",
     "start_time": "2025-04-19T01:07:16.482071Z"
    }
   },
   "source": [
    "#Model specification\n",
    "model = sm.OLS(\n",
    "    Y_Vector, \n",
    "    Information_Matrix,\n",
    "    missing='drop'\n",
    "    )   \n",
    "     \n",
    "#the results of the model\n",
    "results = model.fit() \n",
    "    \n",
    "#The Parameters\n",
    "R2 = results.rsquared  \n",
    "\n",
    "#here we check the summary\n",
    "print(results.summary())   "
   ],
   "outputs": [
    {
     "name": "stdout",
     "output_type": "stream",
     "text": [
      "                            OLS Regression Results                            \n",
      "==============================================================================\n",
      "Dep. Variable:              adj_close   R-squared:                       0.390\n",
      "Model:                            OLS   Adj. R-squared:                  0.389\n",
      "Method:                 Least Squares   F-statistic:                     788.4\n",
      "Date:                Fri, 18 Apr 2025   Prob (F-statistic):          1.73e-265\n",
      "Time:                        19:07:16   Log-Likelihood:                 6691.9\n",
      "No. Observations:                2471   AIC:                        -1.338e+04\n",
      "Df Residuals:                    2468   BIC:                        -1.336e+04\n",
      "Df Model:                           2                                         \n",
      "Covariance Type:            nonrobust                                         \n",
      "===============================================================================\n",
      "                  coef    std err          t      P>|t|      [0.025      0.975]\n",
      "-------------------------------------------------------------------------------\n",
      "const           0.0011      0.001      2.108      0.035     7.7e-05       0.002\n",
      "daily_rfr      -8.1270      7.692     -1.057      0.291     -23.211       6.957\n",
      "mkt_returns     1.1435      0.029     39.690      0.000       1.087       1.200\n",
      "==============================================================================\n",
      "Omnibus:                      920.292   Durbin-Watson:                   1.974\n",
      "Prob(Omnibus):                  0.000   Jarque-Bera (JB):            21238.186\n",
      "Skew:                           1.215   Prob(JB):                         0.00\n",
      "Kurtosis:                      17.155   Cond. No.                     2.37e+04\n",
      "==============================================================================\n",
      "\n",
      "Notes:\n",
      "[1] Standard Errors assume that the covariance matrix of the errors is correctly specified.\n",
      "[2] The condition number is large, 2.37e+04. This might indicate that there are\n",
      "strong multicollinearity or other numerical problems.\n"
     ]
    }
   ],
   "execution_count": 11
  },
  {
   "cell_type": "code",
   "id": "5f9e95b5-b1fd-42c9-bd6c-b84544c4c893",
   "metadata": {
    "ExecuteTime": {
     "end_time": "2025-04-19T01:07:16.518735Z",
     "start_time": "2025-04-19T01:07:16.514524Z"
    }
   },
   "source": [
    "# Let us calculate the betas and the penalization\n",
    "Information_Matrix_T = Information_Matrix.transpose()\n",
    "\n",
    "# Information Matrix Squared\n",
    "A = Information_Matrix_T.dot(Information_Matrix)\n",
    "\n",
    "# X*Y\n",
    "b = Information_Matrix_T.dot(Y_Vector)"
   ],
   "outputs": [],
   "execution_count": 12
  },
  {
   "metadata": {
    "ExecuteTime": {
     "end_time": "2025-04-19T01:07:16.524902Z",
     "start_time": "2025-04-19T01:07:16.518735Z"
    }
   },
   "cell_type": "code",
   "source": [
    "# The Constrained OLS implies a monotonic transformation\n",
    "\n",
    "display(Math(r\"\\beta=(X^⊤X)^{-1}(X^⊤Y)-P\"))\n",
    "display(Math(r\"P=\\frac{R^⊤(X^⊤X)^{-1}(X^⊤Y)-q}{R^⊤(X^⊤X)^{-1}R}(X^⊤X)^{-1}R\"))"
   ],
   "id": "e5805ba1-5eda-40fa-a050-0ec040621d65",
   "outputs": [
    {
     "data": {
      "text/plain": [
       "<IPython.core.display.Math object>"
      ],
      "text/latex": "$\\displaystyle \\beta=(X^⊤X)^{-1}(X^⊤Y)-P$"
     },
     "metadata": {},
     "output_type": "display_data"
    },
    {
     "data": {
      "text/plain": [
       "<IPython.core.display.Math object>"
      ],
      "text/latex": "$\\displaystyle P=\\frac{R^⊤(X^⊤X)^{-1}(X^⊤Y)-q}{R^⊤(X^⊤X)^{-1}R}(X^⊤X)^{-1}R$"
     },
     "metadata": {},
     "output_type": "display_data"
    }
   ],
   "execution_count": 13
  },
  {
   "cell_type": "code",
   "id": "8e4df75e-708f-4d67-8315-02f8f73e5912",
   "metadata": {
    "ExecuteTime": {
     "end_time": "2025-04-19T01:07:16.529224Z",
     "start_time": "2025-04-19T01:07:16.524902Z"
    }
   },
   "source": [
    "# Calculate the penalization components\n",
    "\n",
    "n = len(Y_Vector)\n",
    "k = len(Information_Matrix.columns)\n",
    "\n",
    "iota = np.ones(k).transpose()\n",
    "iota[0] = 0\n",
    "iota_T = iota.transpose()\n",
    "A_inv = np.linalg.inv(A)"
   ],
   "outputs": [],
   "execution_count": 14
  },
  {
   "cell_type": "code",
   "id": "5659230e-ed3d-49e6-87c6-1e2ca6b6d598",
   "metadata": {
    "ExecuteTime": {
     "end_time": "2025-04-19T01:07:16.535436Z",
     "start_time": "2025-04-19T01:07:16.529224Z"
    }
   },
   "source": [
    "# The Penalization\n",
    "\n",
    "P = (((iota_T @ A_inv @ b) - 1)/(iota_T @ A_inv @ iota)) * (A_inv @ iota)\n",
    "\n",
    "print(P)"
   ],
   "outputs": [
    {
     "name": "stdout",
     "output_type": "stream",
     "text": [
      "[ 4.28100191e-04 -7.98329571e+00 -2.45110245e-04]\n"
     ]
    }
   ],
   "execution_count": 15
  },
  {
   "cell_type": "code",
   "id": "f4a8c27d-f9e5-480f-9e80-a0e2669a17f2",
   "metadata": {
    "ExecuteTime": {
     "end_time": "2025-04-19T01:07:16.539346Z",
     "start_time": "2025-04-19T01:07:16.535436Z"
    }
   },
   "source": [
    "# Now Obtain the betas \n",
    "\n",
    "betas = (A_inv @ b)\n",
    "\n",
    "print(betas)"
   ],
   "outputs": [
    {
     "name": "stdout",
     "output_type": "stream",
     "text": [
      "[ 1.10669434e-03 -8.12704536e+00  1.14350454e+00]\n"
     ]
    }
   ],
   "execution_count": 16
  },
  {
   "cell_type": "code",
   "id": "14fd26d7-a158-477b-9f58-c08aa24db708",
   "metadata": {
    "ExecuteTime": {
     "end_time": "2025-04-19T01:07:16.543697Z",
     "start_time": "2025-04-19T01:07:16.539346Z"
    }
   },
   "source": [
    "# Now the adjusted betas\n",
    "\n",
    "betas_adj = betas - P\n",
    "\n",
    "betas_adj"
   ],
   "outputs": [
    {
     "data": {
      "text/plain": [
       "array([ 6.78594144e-04, -1.43749648e-01,  1.14374965e+00])"
      ]
     },
     "execution_count": 17,
     "metadata": {},
     "output_type": "execute_result"
    }
   ],
   "execution_count": 17
  },
  {
   "cell_type": "code",
   "id": "c5403817-1688-4506-bba2-93c7cacfe980",
   "metadata": {
    "ExecuteTime": {
     "end_time": "2025-04-19T01:07:16.549351Z",
     "start_time": "2025-04-19T01:07:16.544709Z"
    }
   },
   "source": [
    "# Obtain the fitted values\n",
    "\n",
    "y_fitted = Information_Matrix @ betas_adj\n",
    "y_fitted.name = 'fitted_values'\n",
    "\n",
    "y_fitted"
   ],
   "outputs": [
    {
     "data": {
      "text/plain": [
       "Date\n",
       "2015-01-05   -0.020230\n",
       "2015-01-06   -0.009496\n",
       "2015-01-07    0.013978\n",
       "2015-01-08    0.021136\n",
       "2015-01-09   -0.008936\n",
       "                ...   \n",
       "2024-10-22    0.000120\n",
       "2024-10-23   -0.009850\n",
       "2024-10-24    0.003117\n",
       "2024-10-25    0.000320\n",
       "2024-10-28    0.003695\n",
       "Name: fitted_values, Length: 2471, dtype: float64"
      ]
     },
     "execution_count": 18,
     "metadata": {},
     "output_type": "execute_result"
    }
   ],
   "execution_count": 18
  },
  {
   "cell_type": "code",
   "id": "ea205f1f-42a5-4c78-8701-73b3eec8b9e0",
   "metadata": {
    "ExecuteTime": {
     "end_time": "2025-04-19T01:07:16.554537Z",
     "start_time": "2025-04-19T01:07:16.549351Z"
    }
   },
   "source": [
    "# Obtain the errors\n",
    "\n",
    "residuals = y - y_fitted\n",
    "residuals.name = 'residuals'\n",
    "\n",
    "residuals"
   ],
   "outputs": [
    {
     "data": {
      "text/plain": [
       "Date\n",
       "2015-01-05   -0.000288\n",
       "2015-01-06   -0.013337\n",
       "2015-01-07   -0.003378\n",
       "2015-01-08   -0.014300\n",
       "2015-01-09   -0.002813\n",
       "                ...   \n",
       "2024-10-22    0.003212\n",
       "2024-10-23   -0.016455\n",
       "2024-10-24    0.005924\n",
       "2024-10-25    0.007460\n",
       "2024-10-28   -0.000714\n",
       "Name: residuals, Length: 2471, dtype: float64"
      ]
     },
     "execution_count": 19,
     "metadata": {},
     "output_type": "execute_result"
    }
   ],
   "execution_count": 19
  },
  {
   "cell_type": "code",
   "id": "78ec0388-4bb6-4521-bc35-fc6c0f04c038",
   "metadata": {
    "ExecuteTime": {
     "end_time": "2025-04-19T01:07:16.559680Z",
     "start_time": "2025-04-19T01:07:16.554537Z"
    }
   },
   "source": [
    "# Calculate the R-Squared\n",
    "\n",
    "# RSS\n",
    "SSR_restr = np.sum((Y_Vector - y_fitted)**2)\n",
    "\n",
    "#TSS\n",
    "SST = np.sum((Y_Vector - np.mean(Y_Vector))**2)\n",
    "\n",
    "# R_Squared\n",
    "R2_restr = 1 - (SSR_restr / SST)\n",
    "\n",
    "print(f\"The R2 of the unconstrained regression: {R2}\")\n",
    "print(f\"The R2 of the constrained regression: {R2_restr}\")"
   ],
   "outputs": [
    {
     "name": "stdout",
     "output_type": "stream",
     "text": [
      "The R2 of the unconstrained regression: 0.38983898269772455\n",
      "The R2 of the constrained regression: 0.3895726971511132\n"
     ]
    }
   ],
   "execution_count": 20
  },
  {
   "cell_type": "code",
   "id": "76de5bfa-76ea-4b0b-a516-38a0a4e50fa9",
   "metadata": {
    "ExecuteTime": {
     "end_time": "2025-04-19T01:07:16.569383Z",
     "start_time": "2025-04-19T01:07:16.559680Z"
    }
   },
   "source": [
    "# Calculate Significance of the Constrained OLS\n",
    "\n",
    "Residuals_Variance = SSR_restr/(n - k)\n",
    "\n",
    "Covariance_Matrix = (Residuals_Variance)*A_inv\n",
    "\n",
    "Beta_Standards_Errors = np.sqrt(Covariance_Matrix.diagonal())\n",
    "\n",
    "T_Values = betas_adj/Beta_Standards_Errors\n",
    "\n",
    "Beta_Lower_Limit = betas_adj - 1.96*Beta_Standards_Errors\n",
    "Beta_Upper_Limit = betas_adj + 1.96*Beta_Standards_Errors\n",
    "\n",
    "Proof_DF = pd.DataFrame(\n",
    "    {\n",
    "     \"Betas\": betas_adj,\n",
    "     \"Std\": Beta_Standards_Errors,\n",
    "     \"T_Values\": T_Values, \n",
    "     \"Beta_Inferior_Limit\": Beta_Lower_Limit, \n",
    "     \"Beta_Superior_Limit\": Beta_Upper_Limit\n",
    "     }\n",
    "    )\n",
    "\n",
    "Proof_DF[\"p-values\"] = 2*(t.sf(\n",
    "    abs(Proof_DF.T_Values), \n",
    "    n-k,\n",
    "    ).round(3)\n",
    "    )\n",
    "\n",
    "Proof_DF"
   ],
   "outputs": [
    {
     "data": {
      "text/plain": [
       "      Betas       Std   T_Values  Beta_Inferior_Limit  Beta_Superior_Limit  \\\n",
       "0  0.000679  0.000525   1.292058            -0.000351             0.001708   \n",
       "1 -0.143750  7.694065  -0.018683           -15.224117            14.936618   \n",
       "2  1.143750  0.028817  39.690062             1.087268             1.200231   \n",
       "\n",
       "   p-values  \n",
       "0     0.196  \n",
       "1     0.986  \n",
       "2     0.000  "
      ],
      "text/html": [
       "<div>\n",
       "<style scoped>\n",
       "    .dataframe tbody tr th:only-of-type {\n",
       "        vertical-align: middle;\n",
       "    }\n",
       "\n",
       "    .dataframe tbody tr th {\n",
       "        vertical-align: top;\n",
       "    }\n",
       "\n",
       "    .dataframe thead th {\n",
       "        text-align: right;\n",
       "    }\n",
       "</style>\n",
       "<table border=\"1\" class=\"dataframe\">\n",
       "  <thead>\n",
       "    <tr style=\"text-align: right;\">\n",
       "      <th></th>\n",
       "      <th>Betas</th>\n",
       "      <th>Std</th>\n",
       "      <th>T_Values</th>\n",
       "      <th>Beta_Inferior_Limit</th>\n",
       "      <th>Beta_Superior_Limit</th>\n",
       "      <th>p-values</th>\n",
       "    </tr>\n",
       "  </thead>\n",
       "  <tbody>\n",
       "    <tr>\n",
       "      <th>0</th>\n",
       "      <td>0.000679</td>\n",
       "      <td>0.000525</td>\n",
       "      <td>1.292058</td>\n",
       "      <td>-0.000351</td>\n",
       "      <td>0.001708</td>\n",
       "      <td>0.196</td>\n",
       "    </tr>\n",
       "    <tr>\n",
       "      <th>1</th>\n",
       "      <td>-0.143750</td>\n",
       "      <td>7.694065</td>\n",
       "      <td>-0.018683</td>\n",
       "      <td>-15.224117</td>\n",
       "      <td>14.936618</td>\n",
       "      <td>0.986</td>\n",
       "    </tr>\n",
       "    <tr>\n",
       "      <th>2</th>\n",
       "      <td>1.143750</td>\n",
       "      <td>0.028817</td>\n",
       "      <td>39.690062</td>\n",
       "      <td>1.087268</td>\n",
       "      <td>1.200231</td>\n",
       "      <td>0.000</td>\n",
       "    </tr>\n",
       "  </tbody>\n",
       "</table>\n",
       "</div>"
      ]
     },
     "execution_count": 21,
     "metadata": {},
     "output_type": "execute_result"
    }
   ],
   "execution_count": 21
  },
  {
   "cell_type": "code",
   "id": "9a11f75b-1256-4679-a970-c6e2fbe0792e",
   "metadata": {
    "ExecuteTime": {
     "end_time": "2025-04-19T01:07:16.573701Z",
     "start_time": "2025-04-19T01:07:16.569383Z"
    }
   },
   "source": [
    "display(Math(r\"F=\\frac{\\left(SSR_{const}-SSR_{OLS}\\right)/m}{SSR_{ols}/n-k}\"))"
   ],
   "outputs": [
    {
     "data": {
      "text/plain": [
       "<IPython.core.display.Math object>"
      ],
      "text/latex": "$\\displaystyle F=\\frac{\\left(SSR_{const}-SSR_{OLS}\\right)/m}{SSR_{ols}/n-k}$"
     },
     "metadata": {},
     "output_type": "display_data"
    }
   ],
   "execution_count": 22
  },
  {
   "cell_type": "code",
   "id": "b61be5b1-ac8f-40e9-a2e1-0a7737a2ae06",
   "metadata": {
    "ExecuteTime": {
     "end_time": "2025-04-19T01:07:16.578517Z",
     "start_time": "2025-04-19T01:07:16.574710Z"
    }
   },
   "source": [
    "# Test of validity of the constraints\n",
    "\n",
    "# Obtain the OLS RSS\n",
    "residuals_ols = results.resid\n",
    "SSR_ols = np.sum(residuals_ols ** 2)\n",
    "\n",
    "# Calculate the F-Stat\n",
    "\n",
    "# Number of restrictions\n",
    "m = 1  \n",
    "\n",
    "# F-statistic\n",
    "F_stat = ((SSR_restr - SSR_ols) / m) / (SSR_ols / (n - k))\n",
    "\n",
    "F_stat"
   ],
   "outputs": [
    {
     "data": {
      "text/plain": [
       "1.077080820309646"
      ]
     },
     "execution_count": 23,
     "metadata": {},
     "output_type": "execute_result"
    }
   ],
   "execution_count": 23
  },
  {
   "cell_type": "code",
   "id": "84cf5532-e069-4bcc-83ec-8075dc802582",
   "metadata": {
    "ExecuteTime": {
     "end_time": "2025-04-19T01:07:16.582754Z",
     "start_time": "2025-04-19T01:07:16.579531Z"
    }
   },
   "source": [
    "# The p-value\n",
    "\n",
    "p_value = 1 - f.cdf(F_stat, m, n - k)\n",
    "\n",
    "print(\"p-value:\", p_value)\n",
    "\n",
    "# Conclusion\n",
    "if p_value < 0.05:\n",
    "    print(\"Reject the null hypothesis: The constraint is NOT valid.\")\n",
    "else:\n",
    "    print(\"Fail to reject the null: The constraint is valid.\")"
   ],
   "outputs": [
    {
     "name": "stdout",
     "output_type": "stream",
     "text": [
      "p-value: 0.29945318297819434\n",
      "Fail to reject the null: The constraint is valid.\n"
     ]
    }
   ],
   "execution_count": 24
  },
  {
   "cell_type": "code",
   "id": "2b2d7ab3-5772-41a0-835b-97ca562b8d48",
   "metadata": {
    "ExecuteTime": {
     "end_time": "2025-04-19T01:07:16.589322Z",
     "start_time": "2025-04-19T01:07:16.582754Z"
    }
   },
   "source": [
    "# Let us make the Wald Test\n",
    "\n",
    "# Define the Restrictions R and q\n",
    "\n",
    "R = np.array([[0, 1, 1]])  \n",
    "q = np.array([[1]])\n",
    "\n",
    "# get the variances of the OLS betas\n",
    "var_beta_hat = results.cov_params()\n",
    "\n",
    "var_beta_hat"
   ],
   "outputs": [
    {
     "data": {
      "text/plain": [
       "                    const  daily_rfr   mkt_returns\n",
       "const        2.757192e-07  -0.003173 -4.553023e-07\n",
       "daily_rfr   -3.172710e-03  59.172815  9.867478e-04\n",
       "mkt_returns -4.553023e-07   0.000987  8.300589e-04"
      ],
      "text/html": [
       "<div>\n",
       "<style scoped>\n",
       "    .dataframe tbody tr th:only-of-type {\n",
       "        vertical-align: middle;\n",
       "    }\n",
       "\n",
       "    .dataframe tbody tr th {\n",
       "        vertical-align: top;\n",
       "    }\n",
       "\n",
       "    .dataframe thead th {\n",
       "        text-align: right;\n",
       "    }\n",
       "</style>\n",
       "<table border=\"1\" class=\"dataframe\">\n",
       "  <thead>\n",
       "    <tr style=\"text-align: right;\">\n",
       "      <th></th>\n",
       "      <th>const</th>\n",
       "      <th>daily_rfr</th>\n",
       "      <th>mkt_returns</th>\n",
       "    </tr>\n",
       "  </thead>\n",
       "  <tbody>\n",
       "    <tr>\n",
       "      <th>const</th>\n",
       "      <td>2.757192e-07</td>\n",
       "      <td>-0.003173</td>\n",
       "      <td>-4.553023e-07</td>\n",
       "    </tr>\n",
       "    <tr>\n",
       "      <th>daily_rfr</th>\n",
       "      <td>-3.172710e-03</td>\n",
       "      <td>59.172815</td>\n",
       "      <td>9.867478e-04</td>\n",
       "    </tr>\n",
       "    <tr>\n",
       "      <th>mkt_returns</th>\n",
       "      <td>-4.553023e-07</td>\n",
       "      <td>0.000987</td>\n",
       "      <td>8.300589e-04</td>\n",
       "    </tr>\n",
       "  </tbody>\n",
       "</table>\n",
       "</div>"
      ]
     },
     "execution_count": 25,
     "metadata": {},
     "output_type": "execute_result"
    }
   ],
   "execution_count": 25
  },
  {
   "cell_type": "code",
   "id": "d62c9ccd-13bd-40ab-aa2d-14707fb94d7f",
   "metadata": {
    "ExecuteTime": {
     "end_time": "2025-04-19T01:07:16.595071Z",
     "start_time": "2025-04-19T01:07:16.589322Z"
    }
   },
   "source": [
    "# Compute Wald statistic\n",
    "diff = R@betas - q  # (m x 1)\n",
    "middle = R @ var_beta_hat @ R.T  # (m x m), scalar here since m=1\n",
    "\n",
    "# Wald statistic (scalar)\n",
    "W = diff.T @ np.linalg.inv(middle) @ diff\n",
    "print(\"Wald statistic:\", W)"
   ],
   "outputs": [
    {
     "name": "stdout",
     "output_type": "stream",
     "text": [
      "Wald statistic: [[1.07708082]]\n"
     ]
    }
   ],
   "execution_count": 26
  },
  {
   "cell_type": "code",
   "id": "04e021fa-acc2-467a-8045-b23ece028dee",
   "metadata": {
    "ExecuteTime": {
     "end_time": "2025-04-19T01:07:16.600722Z",
     "start_time": "2025-04-19T01:07:16.595071Z"
    }
   },
   "source": [
    "# p-value from Chi-squared distribution with m degrees of freedom\n",
    "m = R.shape[0]  # Number of restrictions\n",
    "p_value = 1 - chi2.cdf(W, df=m)\n",
    "\n",
    "print(\"p-value:\", p_value[0][0])\n",
    "\n",
    "# Conclusion\n",
    "if p_value < 0.05:\n",
    "    print(\"Reject the null hypothesis: The constraint is NOT valid.\")\n",
    "else:\n",
    "    print(\"Fail to reject the null hypothesis: The constraint is valid.\")"
   ],
   "outputs": [
    {
     "name": "stdout",
     "output_type": "stream",
     "text": [
      "p-value: 0.29935151544362903\n",
      "Fail to reject the null hypothesis: The constraint is valid.\n"
     ]
    }
   ],
   "execution_count": 27
  },
  {
   "metadata": {},
   "cell_type": "markdown",
   "source": "The restrictions are not valid just because the stock is practically uncorrelated with the risk-free rate. We cannot just choose the treasury bond rate to use as the risk-free rate.",
   "id": "991d148d875c9a6"
  },
  {
   "metadata": {},
   "cell_type": "markdown",
   "source": "### Calculate the RFR ###",
   "id": "e0b726727a843cdf"
  },
  {
   "metadata": {
    "ExecuteTime": {
     "end_time": "2025-04-19T01:13:33.674666Z",
     "start_time": "2025-04-19T01:13:33.654570Z"
    }
   },
   "cell_type": "code",
   "source": [
    "# Calculate a Model without the risk free rate\n",
    "\n",
    "X_alt = x['mkt_returns'].dropna()\n",
    "\n",
    "model_alt = sm.OLS(Y_Vector, sm.add_constant(X_alt), missing='drop')\n",
    "\n",
    "results = model_alt.fit()\n",
    "\n",
    "print(results.summary())"
   ],
   "id": "3b24b1a0a54b2a98",
   "outputs": [
    {
     "name": "stdout",
     "output_type": "stream",
     "text": [
      "                            OLS Regression Results                            \n",
      "==============================================================================\n",
      "Dep. Variable:              adj_close   R-squared:                       0.390\n",
      "Model:                            OLS   Adj. R-squared:                  0.389\n",
      "Method:                 Least Squares   F-statistic:                     1576.\n",
      "Date:                Fri, 18 Apr 2025   Prob (F-statistic):          6.08e-267\n",
      "Time:                        19:13:33   Log-Likelihood:                 6691.4\n",
      "No. Observations:                2471   AIC:                        -1.338e+04\n",
      "Df Residuals:                    2469   BIC:                        -1.337e+04\n",
      "Df Model:                           1                                         \n",
      "Covariance Type:            nonrobust                                         \n",
      "===============================================================================\n",
      "                  coef    std err          t      P>|t|      [0.025      0.975]\n",
      "-------------------------------------------------------------------------------\n",
      "const           0.0007      0.000      2.065      0.039    3.37e-05       0.001\n",
      "mkt_returns     1.1436      0.029     39.694      0.000       1.087       1.200\n",
      "==============================================================================\n",
      "Omnibus:                      922.984   Durbin-Watson:                   1.973\n",
      "Prob(Omnibus):                  0.000   Jarque-Bera (JB):            21411.509\n",
      "Skew:                           1.219   Prob(JB):                         0.00\n",
      "Kurtosis:                      17.213   Cond. No.                         88.7\n",
      "==============================================================================\n",
      "\n",
      "Notes:\n",
      "[1] Standard Errors assume that the covariance matrix of the errors is correctly specified.\n"
     ]
    }
   ],
   "execution_count": 30
  },
  {
   "metadata": {
    "ExecuteTime": {
     "end_time": "2025-04-19T01:14:59.611954Z",
     "start_time": "2025-04-19T01:14:59.606853Z"
    }
   },
   "cell_type": "code",
   "source": [
    "# Calculate the beta\n",
    "\n",
    "regression_alpha = results.params.iloc[0]\n",
    "regression_beta = results.params.iloc[1]\n",
    "\n",
    "print(f'Regression Alpha: {regression_alpha}')\n",
    "print(f'Regression Beta: {regression_beta}')"
   ],
   "id": "db1d35453a3b5c86",
   "outputs": [
    {
     "name": "stdout",
     "output_type": "stream",
     "text": [
      "Regression Alpha: 0.0006709409079134515\n",
      "Regression Beta: 1.1436400617129185\n"
     ]
    }
   ],
   "execution_count": 32
  },
  {
   "metadata": {
    "ExecuteTime": {
     "end_time": "2025-04-19T01:16:12.996836Z",
     "start_time": "2025-04-19T01:16:12.989208Z"
    }
   },
   "cell_type": "code",
   "source": [
    "# Real Risk Free Rate\n",
    "\n",
    "real_rfr = regression_alpha/(1-regression_beta)\n",
    "\n",
    "real_rfr * 100"
   ],
   "id": "4bc6c8b7caaf4c37",
   "outputs": [
    {
     "data": {
      "text/plain": [
       "-0.4670987327020266"
      ]
     },
     "execution_count": 36,
     "metadata": {},
     "output_type": "execute_result"
    }
   ],
   "execution_count": 36
  },
  {
   "metadata": {},
   "cell_type": "code",
   "outputs": [],
   "execution_count": null,
   "source": "",
   "id": "36a0c6da82fb49df"
  }
 ],
 "metadata": {
  "kernelspec": {
   "display_name": "Python 3 (ipykernel)",
   "language": "python",
   "name": "python3"
  },
  "language_info": {
   "codemirror_mode": {
    "name": "ipython",
    "version": 3
   },
   "file_extension": ".py",
   "mimetype": "text/x-python",
   "name": "python",
   "nbconvert_exporter": "python",
   "pygments_lexer": "ipython3",
   "version": "3.11.7"
  }
 },
 "nbformat": 4,
 "nbformat_minor": 5
}
