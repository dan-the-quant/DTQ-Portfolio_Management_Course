{
 "cells": [
  {
   "cell_type": "markdown",
   "id": "5e78ee47-9479-4622-91e8-c3dfda2de9fb",
   "metadata": {},
   "source": [
    "# Constrained Linear Regression Model #\n",
    "\n",
    "### The CAPM decomposition ####"
   ]
  },
  {
   "cell_type": "code",
   "id": "310b9c6f-ceff-4ea6-937e-f9b9202f6a3f",
   "metadata": {
    "ExecuteTime": {
     "end_time": "2025-04-19T01:07:14.855574Z",
     "start_time": "2025-04-19T01:07:13.548015Z"
    }
   },
   "source": [
    "# Import Libraries\n",
    "\n",
    "# Data Management\n",
    "import pandas as pd\n",
    "import numpy as np\n",
    "\n",
    "#  Statistics\n",
    "import statsmodels.api as sm \n",
    "from scipy.stats import t\n",
    "from scipy.stats import f\n",
    "from scipy.stats import chi2\n",
    "\n",
    "# Handle Files\n",
    "import sys\n",
    "import os\n",
    "\n",
    "# Import Local Functions\n",
    "sys.path.append(os.path.abspath(\"../source\"))\n",
    "from functions import get_fred_data\n",
    "from functions import import_financial_data\n",
    "\n",
    "# Pretty Notation\n",
    "from IPython.display import display, Math"
   ],
   "execution_count": 1,
   "outputs": []
  },
  {
   "metadata": {
    "ExecuteTime": {
     "end_time": "2025-04-19T01:07:14.863035Z",
     "start_time": "2025-04-19T01:07:14.855574Z"
    }
   },
   "cell_type": "code",
   "source": [
    "# The CAPM Decomposition\n",
    "\n",
    "display(Math(r\"r_{stock} = rfr + \\beta\\left(r_{mkt}-rfr\\right) + \\varepsilon\"))\n",
    "display(Math(r\"r_{stock} = \\left(1-\\beta\\right)rfr + \\beta\\left(r_{mkt}\\right) + \\varepsilon\"))"
   ],
   "id": "c15d96833ba54cc1",
   "execution_count": 2,
   "outputs": []
  },
  {
   "cell_type": "code",
   "id": "39824854-7948-48fe-a0e1-e20e72dd44c2",
   "metadata": {
    "ExecuteTime": {
     "end_time": "2025-04-19T01:07:14.903377Z",
     "start_time": "2025-04-19T01:07:14.863035Z"
    }
   },
   "source": [
    "# Data for Y\n",
    "stock = import_financial_data('AMZN')\n",
    "\n",
    "y = stock['adj_close'].pct_change().dropna()\n",
    "\n",
    "y"
   ],
   "execution_count": 3,
   "outputs": []
  },
  {
   "metadata": {
    "ExecuteTime": {
     "end_time": "2025-04-19T01:07:14.921566Z",
     "start_time": "2025-04-19T01:07:14.904390Z"
    }
   },
   "cell_type": "code",
   "source": [
    "# Call the sp500\n",
    "data_sp500 = pd.read_csv(r'..\\additional_data\\sp500.csv')\n",
    "data_sp500.set_index('Date', inplace=True)\n",
    "data_sp500.index = pd.to_datetime(data_sp500.index)\n",
    "data_sp500 = data_sp500.pct_change().dropna()\n",
    "\n",
    "data_sp500"
   ],
   "id": "f25ffea05ef0e8d2",
   "execution_count": 4,
   "outputs": []
  },
  {
   "metadata": {
    "ExecuteTime": {
     "end_time": "2025-04-19T01:07:16.440601Z",
     "start_time": "2025-04-19T01:07:14.924316Z"
    }
   },
   "cell_type": "code",
   "source": [
    "# Call the Risk Free Rate\n",
    "key = '0174cb93931388a2bf305663e4117fd3'\n",
    "data_rfr = get_fred_data('DGS2', key)\n",
    "data_rfr.dropna(inplace=True)\n",
    "data_rfr.name = 'rfr'\n",
    "data_rfr = data_rfr.loc['2015':]\n",
    "\n",
    "data_rfr"
   ],
   "id": "4bbc7bb78774e5bb",
   "execution_count": 5,
   "outputs": []
  },
  {
   "metadata": {
    "ExecuteTime": {
     "end_time": "2025-04-19T01:07:16.448016Z",
     "start_time": "2025-04-19T01:07:16.440601Z"
    }
   },
   "cell_type": "code",
   "source": [
    "daily_rfr = (((1 + (data_rfr.div(100)))**(1/360)) - 1)\n",
    "daily_rfr.dropna(inplace=True)\n",
    "\n",
    "daily_rfr"
   ],
   "id": "d4d31984f88e685a",
   "execution_count": 6,
   "outputs": []
  },
  {
   "metadata": {
    "ExecuteTime": {
     "end_time": "2025-04-19T01:07:16.460752Z",
     "start_time": "2025-04-19T01:07:16.448016Z"
    }
   },
   "cell_type": "code",
   "source": [
    "# Create the X Matrix\n",
    "x = pd.DataFrame(index = y.index)\n",
    "\n",
    "# Variables\n",
    "x['daily_rfr'] = daily_rfr\n",
    "x['mkt_returns'] = data_sp500\n",
    "\n",
    "# Forward Fill\n",
    "x = x.ffill()\n",
    "\n",
    "x"
   ],
   "id": "2f455c3955ad0d5c",
   "execution_count": 7,
   "outputs": []
  },
  {
   "cell_type": "code",
   "id": "27996cd9-daf1-4a50-ba81-98fb3d38f41f",
   "metadata": {
    "ExecuteTime": {
     "end_time": "2025-04-19T01:07:16.468775Z",
     "start_time": "2025-04-19T01:07:16.460752Z"
    }
   },
   "source": [
    "# Let us check the correlations\n",
    "\n",
    "correlation = pd.concat([y, x], axis = 1).corr()\n",
    "\n",
    "correlation"
   ],
   "execution_count": 8,
   "outputs": []
  },
  {
   "cell_type": "code",
   "id": "2fdc5fb6-99cb-4b64-b346-ebe0ea52a511",
   "metadata": {
    "ExecuteTime": {
     "end_time": "2025-04-19T01:07:16.474827Z",
     "start_time": "2025-04-19T01:07:16.468775Z"
    }
   },
   "source": [
    "# The matrix\n",
    "\n",
    "x = sm.add_constant(x)\n",
    "\n",
    "Y_Vector = y.dropna()\n",
    "Information_Matrix = x.dropna()"
   ],
   "execution_count": 9,
   "outputs": []
  },
  {
   "metadata": {
    "ExecuteTime": {
     "end_time": "2025-04-19T01:07:16.480759Z",
     "start_time": "2025-04-19T01:07:16.474827Z"
    }
   },
   "cell_type": "code",
   "source": [
    "print(Y_Vector.shape)\n",
    "print(Information_Matrix.shape)"
   ],
   "id": "3cc80b2fb6436e16",
   "execution_count": 10,
   "outputs": []
  },
  {
   "cell_type": "code",
   "id": "dc2d04b3-5eb0-459f-ab41-d0277d832965",
   "metadata": {
    "ExecuteTime": {
     "end_time": "2025-04-19T01:07:16.513513Z",
     "start_time": "2025-04-19T01:07:16.482071Z"
    }
   },
   "source": [
    "#Model specification\n",
    "model = sm.OLS(\n",
    "    Y_Vector, \n",
    "    Information_Matrix,\n",
    "    missing='drop'\n",
    "    )   \n",
    "     \n",
    "#the results of the model\n",
    "results = model.fit() \n",
    "    \n",
    "#The Parameters\n",
    "R2 = results.rsquared  \n",
    "\n",
    "#here we check the summary\n",
    "print(results.summary())   "
   ],
   "execution_count": 11,
   "outputs": []
  },
  {
   "cell_type": "code",
   "id": "5f9e95b5-b1fd-42c9-bd6c-b84544c4c893",
   "metadata": {
    "ExecuteTime": {
     "end_time": "2025-04-19T01:07:16.518735Z",
     "start_time": "2025-04-19T01:07:16.514524Z"
    }
   },
   "source": [
    "# Let us calculate the betas and the penalization\n",
    "Information_Matrix_T = Information_Matrix.transpose()\n",
    "\n",
    "# Information Matrix Squared\n",
    "A = Information_Matrix_T.dot(Information_Matrix)\n",
    "\n",
    "# X*Y\n",
    "b = Information_Matrix_T.dot(Y_Vector)"
   ],
   "execution_count": 12,
   "outputs": []
  },
  {
   "metadata": {
    "ExecuteTime": {
     "end_time": "2025-04-19T01:07:16.524902Z",
     "start_time": "2025-04-19T01:07:16.518735Z"
    }
   },
   "cell_type": "code",
   "source": [
    "# The Constrained OLS implies a monotonic transformation\n",
    "\n",
    "display(Math(r\"\\beta=(X^⊤X)^{-1}(X^⊤Y)-P\"))\n",
    "display(Math(r\"P=\\frac{R^⊤(X^⊤X)^{-1}(X^⊤Y)-q}{R^⊤(X^⊤X)^{-1}R}(X^⊤X)^{-1}R\"))"
   ],
   "id": "e5805ba1-5eda-40fa-a050-0ec040621d65",
   "execution_count": 13,
   "outputs": []
  },
  {
   "cell_type": "code",
   "id": "8e4df75e-708f-4d67-8315-02f8f73e5912",
   "metadata": {
    "ExecuteTime": {
     "end_time": "2025-04-19T01:07:16.529224Z",
     "start_time": "2025-04-19T01:07:16.524902Z"
    }
   },
   "source": [
    "# Calculate the penalization components\n",
    "\n",
    "n = len(Y_Vector)\n",
    "k = len(Information_Matrix.columns)\n",
    "\n",
    "iota = np.ones(k).transpose()\n",
    "iota[0] = 0\n",
    "iota_T = iota.transpose()\n",
    "A_inv = np.linalg.inv(A)"
   ],
   "execution_count": 14,
   "outputs": []
  },
  {
   "cell_type": "code",
   "id": "5659230e-ed3d-49e6-87c6-1e2ca6b6d598",
   "metadata": {
    "ExecuteTime": {
     "end_time": "2025-04-19T01:07:16.535436Z",
     "start_time": "2025-04-19T01:07:16.529224Z"
    }
   },
   "source": [
    "# The Penalization\n",
    "\n",
    "P = (((iota_T @ A_inv @ b) - 1)/(iota_T @ A_inv @ iota)) * (A_inv @ iota)\n",
    "\n",
    "print(P)"
   ],
   "execution_count": 15,
   "outputs": []
  },
  {
   "cell_type": "code",
   "id": "f4a8c27d-f9e5-480f-9e80-a0e2669a17f2",
   "metadata": {
    "ExecuteTime": {
     "end_time": "2025-04-19T01:07:16.539346Z",
     "start_time": "2025-04-19T01:07:16.535436Z"
    }
   },
   "source": [
    "# Now Obtain the betas \n",
    "\n",
    "betas = (A_inv @ b)\n",
    "\n",
    "print(betas)"
   ],
   "execution_count": 16,
   "outputs": []
  },
  {
   "cell_type": "code",
   "id": "14fd26d7-a158-477b-9f58-c08aa24db708",
   "metadata": {
    "ExecuteTime": {
     "end_time": "2025-04-19T01:07:16.543697Z",
     "start_time": "2025-04-19T01:07:16.539346Z"
    }
   },
   "source": [
    "# Now the adjusted betas\n",
    "\n",
    "betas_adj = betas - P\n",
    "\n",
    "betas_adj"
   ],
   "execution_count": 17,
   "outputs": []
  },
  {
   "cell_type": "code",
   "id": "c5403817-1688-4506-bba2-93c7cacfe980",
   "metadata": {
    "ExecuteTime": {
     "end_time": "2025-04-19T01:07:16.549351Z",
     "start_time": "2025-04-19T01:07:16.544709Z"
    }
   },
   "source": [
    "# Obtain the fitted values\n",
    "\n",
    "y_fitted = Information_Matrix @ betas_adj\n",
    "y_fitted.name = 'fitted_values'\n",
    "\n",
    "y_fitted"
   ],
   "execution_count": 18,
   "outputs": []
  },
  {
   "cell_type": "code",
   "id": "ea205f1f-42a5-4c78-8701-73b3eec8b9e0",
   "metadata": {
    "ExecuteTime": {
     "end_time": "2025-04-19T01:07:16.554537Z",
     "start_time": "2025-04-19T01:07:16.549351Z"
    }
   },
   "source": [
    "# Obtain the errors\n",
    "\n",
    "residuals = y - y_fitted\n",
    "residuals.name = 'residuals'\n",
    "\n",
    "residuals"
   ],
   "execution_count": 19,
   "outputs": []
  },
  {
   "cell_type": "code",
   "id": "78ec0388-4bb6-4521-bc35-fc6c0f04c038",
   "metadata": {
    "ExecuteTime": {
     "end_time": "2025-04-19T01:07:16.559680Z",
     "start_time": "2025-04-19T01:07:16.554537Z"
    }
   },
   "source": [
    "# Calculate the R-Squared\n",
    "\n",
    "# RSS\n",
    "SSR_restr = np.sum((Y_Vector - y_fitted)**2)\n",
    "\n",
    "#TSS\n",
    "SST = np.sum((Y_Vector - np.mean(Y_Vector))**2)\n",
    "\n",
    "# R_Squared\n",
    "R2_restr = 1 - (SSR_restr / SST)\n",
    "\n",
    "print(f\"The R2 of the unconstrained regression: {R2}\")\n",
    "print(f\"The R2 of the constrained regression: {R2_restr}\")"
   ],
   "execution_count": 20,
   "outputs": []
  },
  {
   "cell_type": "code",
   "id": "76de5bfa-76ea-4b0b-a516-38a0a4e50fa9",
   "metadata": {
    "ExecuteTime": {
     "end_time": "2025-04-19T01:07:16.569383Z",
     "start_time": "2025-04-19T01:07:16.559680Z"
    }
   },
   "source": [
    "# Calculate Significance of the Constrained OLS\n",
    "\n",
    "Residuals_Variance = SSR_restr/(n - k)\n",
    "\n",
    "Covariance_Matrix = (Residuals_Variance)*A_inv\n",
    "\n",
    "Beta_Standards_Errors = np.sqrt(Covariance_Matrix.diagonal())\n",
    "\n",
    "T_Values = betas_adj/Beta_Standards_Errors\n",
    "\n",
    "Beta_Lower_Limit = betas_adj - 1.96*Beta_Standards_Errors\n",
    "Beta_Upper_Limit = betas_adj + 1.96*Beta_Standards_Errors\n",
    "\n",
    "Proof_DF = pd.DataFrame(\n",
    "    {\n",
    "     \"Betas\": betas_adj,\n",
    "     \"Std\": Beta_Standards_Errors,\n",
    "     \"T_Values\": T_Values, \n",
    "     \"Beta_Inferior_Limit\": Beta_Lower_Limit, \n",
    "     \"Beta_Superior_Limit\": Beta_Upper_Limit\n",
    "     }\n",
    "    )\n",
    "\n",
    "Proof_DF[\"p-values\"] = 2*(t.sf(\n",
    "    abs(Proof_DF.T_Values), \n",
    "    n-k,\n",
    "    ).round(3)\n",
    "    )\n",
    "\n",
    "Proof_DF"
   ],
   "execution_count": 21,
   "outputs": []
  },
  {
   "cell_type": "code",
   "id": "9a11f75b-1256-4679-a970-c6e2fbe0792e",
   "metadata": {
    "ExecuteTime": {
     "end_time": "2025-04-19T01:07:16.573701Z",
     "start_time": "2025-04-19T01:07:16.569383Z"
    }
   },
   "source": [
    "display(Math(r\"F=\\frac{\\left(SSR_{const}-SSR_{OLS}\\right)/m}{SSR_{ols}/n-k}\"))"
   ],
   "execution_count": 22,
   "outputs": []
  },
  {
   "cell_type": "code",
   "id": "b61be5b1-ac8f-40e9-a2e1-0a7737a2ae06",
   "metadata": {
    "ExecuteTime": {
     "end_time": "2025-04-19T01:07:16.578517Z",
     "start_time": "2025-04-19T01:07:16.574710Z"
    }
   },
   "source": [
    "# Test of validity of the constraints\n",
    "\n",
    "# Obtain the OLS RSS\n",
    "residuals_ols = results.resid\n",
    "SSR_ols = np.sum(residuals_ols ** 2)\n",
    "\n",
    "# Calculate the F-Stat\n",
    "\n",
    "# Number of restrictions\n",
    "m = 1  \n",
    "\n",
    "# F-statistic\n",
    "F_stat = ((SSR_restr - SSR_ols) / m) / (SSR_ols / (n - k))\n",
    "\n",
    "F_stat"
   ],
   "execution_count": 23,
   "outputs": []
  },
  {
   "cell_type": "code",
   "id": "84cf5532-e069-4bcc-83ec-8075dc802582",
   "metadata": {
    "ExecuteTime": {
     "end_time": "2025-04-19T01:07:16.582754Z",
     "start_time": "2025-04-19T01:07:16.579531Z"
    }
   },
   "source": [
    "# The p-value\n",
    "\n",
    "p_value = 1 - f.cdf(F_stat, m, n - k)\n",
    "\n",
    "print(\"p-value:\", p_value)\n",
    "\n",
    "# Conclusion\n",
    "if p_value < 0.05:\n",
    "    print(\"Reject the null hypothesis: The constraint is NOT valid.\")\n",
    "else:\n",
    "    print(\"Fail to reject the null: The constraint is valid.\")"
   ],
   "execution_count": 24,
   "outputs": []
  },
  {
   "cell_type": "code",
   "id": "2b2d7ab3-5772-41a0-835b-97ca562b8d48",
   "metadata": {
    "ExecuteTime": {
     "end_time": "2025-04-19T01:07:16.589322Z",
     "start_time": "2025-04-19T01:07:16.582754Z"
    }
   },
   "source": [
    "# Let us make the Wald Test\n",
    "\n",
    "# Define the Restrictions R and q\n",
    "\n",
    "R = np.array([[0, 1, 1]])  \n",
    "q = np.array([[1]])\n",
    "\n",
    "# get the variances of the OLS betas\n",
    "var_beta_hat = results.cov_params()\n",
    "\n",
    "var_beta_hat"
   ],
   "execution_count": 25,
   "outputs": []
  },
  {
   "cell_type": "code",
   "id": "d62c9ccd-13bd-40ab-aa2d-14707fb94d7f",
   "metadata": {
    "ExecuteTime": {
     "end_time": "2025-04-19T01:07:16.595071Z",
     "start_time": "2025-04-19T01:07:16.589322Z"
    }
   },
   "source": [
    "# Compute Wald statistic\n",
    "diff = R@betas - q  # (m x 1)\n",
    "middle = R @ var_beta_hat @ R.T  # (m x m), scalar here since m=1\n",
    "\n",
    "# Wald statistic (scalar)\n",
    "W = diff.T @ np.linalg.inv(middle) @ diff\n",
    "print(\"Wald statistic:\", W)"
   ],
   "execution_count": 26,
   "outputs": []
  },
  {
   "cell_type": "code",
   "id": "04e021fa-acc2-467a-8045-b23ece028dee",
   "metadata": {
    "ExecuteTime": {
     "end_time": "2025-04-19T01:07:16.600722Z",
     "start_time": "2025-04-19T01:07:16.595071Z"
    }
   },
   "source": [
    "# p-value from Chi-squared distribution with m degrees of freedom\n",
    "m = R.shape[0]  # Number of restrictions\n",
    "p_value = 1 - chi2.cdf(W, df=m)\n",
    "\n",
    "print(\"p-value:\", p_value[0][0])\n",
    "\n",
    "# Conclusion\n",
    "if p_value < 0.05:\n",
    "    print(\"Reject the null hypothesis: The constraint is NOT valid.\")\n",
    "else:\n",
    "    print(\"Fail to reject the null hypothesis: The constraint is valid.\")"
   ],
   "execution_count": 27,
   "outputs": []
  },
  {
   "metadata": {},
   "cell_type": "markdown",
   "source": "The restrictions are not valid just because the stock is practically uncorrelated with the risk-free rate. We cannot just choose the treasury bond rate to use as the risk-free rate.",
   "id": "991d148d875c9a6"
  },
  {
   "metadata": {},
   "cell_type": "markdown",
   "source": "### Calculate the RFR ###",
   "id": "e0b726727a843cdf"
  },
  {
   "metadata": {
    "ExecuteTime": {
     "end_time": "2025-04-19T01:13:33.674666Z",
     "start_time": "2025-04-19T01:13:33.654570Z"
    }
   },
   "cell_type": "code",
   "source": [
    "# Calculate a Model without the risk free rate\n",
    "\n",
    "X_alt = x['mkt_returns'].dropna()\n",
    "\n",
    "model_alt = sm.OLS(Y_Vector, sm.add_constant(X_alt), missing='drop')\n",
    "\n",
    "results = model_alt.fit()\n",
    "\n",
    "print(results.summary())"
   ],
   "id": "3b24b1a0a54b2a98",
   "execution_count": 30,
   "outputs": []
  },
  {
   "metadata": {
    "ExecuteTime": {
     "end_time": "2025-04-19T01:14:59.611954Z",
     "start_time": "2025-04-19T01:14:59.606853Z"
    }
   },
   "cell_type": "code",
   "source": [
    "# Calculate the beta\n",
    "\n",
    "regression_alpha = results.params.iloc[0]\n",
    "regression_beta = results.params.iloc[1]\n",
    "\n",
    "print(f'Regression Alpha: {regression_alpha}')\n",
    "print(f'Regression Beta: {regression_beta}')"
   ],
   "id": "db1d35453a3b5c86",
   "execution_count": 32,
   "outputs": []
  },
  {
   "metadata": {
    "ExecuteTime": {
     "end_time": "2025-04-19T01:16:12.996836Z",
     "start_time": "2025-04-19T01:16:12.989208Z"
    }
   },
   "cell_type": "code",
   "source": [
    "# Real Risk Free Rate\n",
    "\n",
    "real_rfr = regression_alpha/(1-regression_beta)\n",
    "\n",
    "real_rfr * 100"
   ],
   "id": "4bc6c8b7caaf4c37",
   "execution_count": 36,
   "outputs": []
  },
  {
   "metadata": {},
   "cell_type": "code",
   "execution_count": null,
   "source": "",
   "id": "36a0c6da82fb49df",
   "outputs": []
  }
 ],
 "metadata": {
  "kernelspec": {
   "display_name": "Python 3 (ipykernel)",
   "language": "python",
   "name": "python3"
  },
  "language_info": {
   "codemirror_mode": {
    "name": "ipython",
    "version": 3
   },
   "file_extension": ".py",
   "mimetype": "text/x-python",
   "name": "python",
   "nbconvert_exporter": "python",
   "pygments_lexer": "ipython3",
   "version": "3.11.7"
  }
 },
 "nbformat": 4,
 "nbformat_minor": 5
}
