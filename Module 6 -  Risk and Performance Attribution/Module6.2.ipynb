{
 "cells": [
  {
   "metadata": {},
   "cell_type": "markdown",
   "source": "# Performance Attribution #",
   "id": "9782c69d7482f6f1"
  },
  {
   "metadata": {
    "ExecuteTime": {
     "end_time": "2025-06-03T16:50:06.445070Z",
     "start_time": "2025-06-03T16:50:01.717005Z"
    }
   },
   "cell_type": "code",
   "source": [
    "# Import Libraries\n",
    "\n",
    "# Data Management\n",
    "import pandas as pd\n",
    "import numpy as np\n",
    "\n",
    "# Plots\n",
    "import matplotlib.pyplot as plt\n",
    "\n",
    "# Handle Files\n",
    "import sys\n",
    "import os\n",
    "\n",
    "# Import Local Functions\n",
    "sys.path.append(os.path.abspath(\"../source\"))\n",
    "from functions import import_daily_financial_data\n",
    "from factors_toolkit import FamaFrenchFactors"
   ],
   "id": "fcf38331fe7aedf1",
   "outputs": [],
   "execution_count": 1
  },
  {
   "metadata": {
    "ExecuteTime": {
     "end_time": "2025-06-03T16:50:06.507503Z",
     "start_time": "2025-06-03T16:50:06.450111Z"
    }
   },
   "cell_type": "code",
   "source": [
    "# Now import the premiums\n",
    "premiums_df = pd.read_csv(r'..\\additional_data\\famafrench_premiums.csv')\n",
    "premiums_df.set_index('Date', inplace=True)\n",
    "premiums_df.index = pd.to_datetime(premiums_df.index)\n",
    "premiums_df.columns = ['mkt_premium', 'smb_premium', 'hml_premium', 'risk_free_rate']\n",
    "premiums_df = premiums_df.div(100)\n",
    "\n",
    "premiums_df"
   ],
   "id": "a99c0d533da232b3",
   "outputs": [
    {
     "data": {
      "text/plain": [
       "            mkt_premium  smb_premium  hml_premium  risk_free_rate\n",
       "Date                                                             \n",
       "2015-01-02      -0.0012      -0.0059       0.0012         0.00000\n",
       "2015-01-05      -0.0184       0.0033      -0.0068         0.00000\n",
       "2015-01-06      -0.0103      -0.0080      -0.0029         0.00000\n",
       "2015-01-07       0.0119       0.0020      -0.0067         0.00000\n",
       "2015-01-08       0.0181      -0.0012      -0.0029         0.00000\n",
       "...                 ...          ...          ...             ...\n",
       "2025-03-25       0.0012      -0.0094       0.0005         0.00016\n",
       "2025-03-26      -0.0122      -0.0048       0.0152         0.00016\n",
       "2025-03-27      -0.0042       0.0019       0.0030         0.00016\n",
       "2025-03-28      -0.0207      -0.0048       0.0040         0.00016\n",
       "2025-03-31       0.0040      -0.0108       0.0037         0.00016\n",
       "\n",
       "[2576 rows x 4 columns]"
      ],
      "text/html": [
       "<div>\n",
       "<style scoped>\n",
       "    .dataframe tbody tr th:only-of-type {\n",
       "        vertical-align: middle;\n",
       "    }\n",
       "\n",
       "    .dataframe tbody tr th {\n",
       "        vertical-align: top;\n",
       "    }\n",
       "\n",
       "    .dataframe thead th {\n",
       "        text-align: right;\n",
       "    }\n",
       "</style>\n",
       "<table border=\"1\" class=\"dataframe\">\n",
       "  <thead>\n",
       "    <tr style=\"text-align: right;\">\n",
       "      <th></th>\n",
       "      <th>mkt_premium</th>\n",
       "      <th>smb_premium</th>\n",
       "      <th>hml_premium</th>\n",
       "      <th>risk_free_rate</th>\n",
       "    </tr>\n",
       "    <tr>\n",
       "      <th>Date</th>\n",
       "      <th></th>\n",
       "      <th></th>\n",
       "      <th></th>\n",
       "      <th></th>\n",
       "    </tr>\n",
       "  </thead>\n",
       "  <tbody>\n",
       "    <tr>\n",
       "      <th>2015-01-02</th>\n",
       "      <td>-0.0012</td>\n",
       "      <td>-0.0059</td>\n",
       "      <td>0.0012</td>\n",
       "      <td>0.00000</td>\n",
       "    </tr>\n",
       "    <tr>\n",
       "      <th>2015-01-05</th>\n",
       "      <td>-0.0184</td>\n",
       "      <td>0.0033</td>\n",
       "      <td>-0.0068</td>\n",
       "      <td>0.00000</td>\n",
       "    </tr>\n",
       "    <tr>\n",
       "      <th>2015-01-06</th>\n",
       "      <td>-0.0103</td>\n",
       "      <td>-0.0080</td>\n",
       "      <td>-0.0029</td>\n",
       "      <td>0.00000</td>\n",
       "    </tr>\n",
       "    <tr>\n",
       "      <th>2015-01-07</th>\n",
       "      <td>0.0119</td>\n",
       "      <td>0.0020</td>\n",
       "      <td>-0.0067</td>\n",
       "      <td>0.00000</td>\n",
       "    </tr>\n",
       "    <tr>\n",
       "      <th>2015-01-08</th>\n",
       "      <td>0.0181</td>\n",
       "      <td>-0.0012</td>\n",
       "      <td>-0.0029</td>\n",
       "      <td>0.00000</td>\n",
       "    </tr>\n",
       "    <tr>\n",
       "      <th>...</th>\n",
       "      <td>...</td>\n",
       "      <td>...</td>\n",
       "      <td>...</td>\n",
       "      <td>...</td>\n",
       "    </tr>\n",
       "    <tr>\n",
       "      <th>2025-03-25</th>\n",
       "      <td>0.0012</td>\n",
       "      <td>-0.0094</td>\n",
       "      <td>0.0005</td>\n",
       "      <td>0.00016</td>\n",
       "    </tr>\n",
       "    <tr>\n",
       "      <th>2025-03-26</th>\n",
       "      <td>-0.0122</td>\n",
       "      <td>-0.0048</td>\n",
       "      <td>0.0152</td>\n",
       "      <td>0.00016</td>\n",
       "    </tr>\n",
       "    <tr>\n",
       "      <th>2025-03-27</th>\n",
       "      <td>-0.0042</td>\n",
       "      <td>0.0019</td>\n",
       "      <td>0.0030</td>\n",
       "      <td>0.00016</td>\n",
       "    </tr>\n",
       "    <tr>\n",
       "      <th>2025-03-28</th>\n",
       "      <td>-0.0207</td>\n",
       "      <td>-0.0048</td>\n",
       "      <td>0.0040</td>\n",
       "      <td>0.00016</td>\n",
       "    </tr>\n",
       "    <tr>\n",
       "      <th>2025-03-31</th>\n",
       "      <td>0.0040</td>\n",
       "      <td>-0.0108</td>\n",
       "      <td>0.0037</td>\n",
       "      <td>0.00016</td>\n",
       "    </tr>\n",
       "  </tbody>\n",
       "</table>\n",
       "<p>2576 rows × 4 columns</p>\n",
       "</div>"
      ]
     },
     "execution_count": 2,
     "metadata": {},
     "output_type": "execute_result"
    }
   ],
   "execution_count": 2
  },
  {
   "metadata": {
    "ExecuteTime": {
     "end_time": "2025-06-03T16:50:06.527100Z",
     "start_time": "2025-06-03T16:50:06.507503Z"
    }
   },
   "cell_type": "code",
   "source": [
    "# And we can import the betas\n",
    "ff_betas = pd.read_csv(r'..\\additional_data\\famafrench_betas.csv')\n",
    "ff_betas.rename(columns={'Unnamed: 0': 'stocks'}, inplace=True)\n",
    "ff_betas.set_index('stocks', inplace=True)\n",
    "\n",
    "ff_betas"
   ],
   "id": "fdb38843a8c60b5b",
   "outputs": [
    {
     "data": {
      "text/plain": [
       "        mkt_beta  smb_beta  hml_beta\n",
       "stocks                              \n",
       "A       0.955686  0.079807 -0.134990\n",
       "AAPL    1.161827 -0.290220 -0.378872\n",
       "ABBV    0.616293 -0.301336  0.108055\n",
       "ABT     0.786172 -0.290043 -0.130577\n",
       "ADBE    1.253717 -0.235385 -0.681084\n",
       "...          ...       ...       ...\n",
       "XYL     1.039345  0.146356  0.256511\n",
       "YUM     0.760846 -0.183805  0.146926\n",
       "ZBH     0.830569  0.124457  0.241640\n",
       "ZBRA    1.267471  0.503546 -0.076601\n",
       "ZTS     0.883050 -0.084087 -0.222327\n",
       "\n",
       "[399 rows x 3 columns]"
      ],
      "text/html": [
       "<div>\n",
       "<style scoped>\n",
       "    .dataframe tbody tr th:only-of-type {\n",
       "        vertical-align: middle;\n",
       "    }\n",
       "\n",
       "    .dataframe tbody tr th {\n",
       "        vertical-align: top;\n",
       "    }\n",
       "\n",
       "    .dataframe thead th {\n",
       "        text-align: right;\n",
       "    }\n",
       "</style>\n",
       "<table border=\"1\" class=\"dataframe\">\n",
       "  <thead>\n",
       "    <tr style=\"text-align: right;\">\n",
       "      <th></th>\n",
       "      <th>mkt_beta</th>\n",
       "      <th>smb_beta</th>\n",
       "      <th>hml_beta</th>\n",
       "    </tr>\n",
       "    <tr>\n",
       "      <th>stocks</th>\n",
       "      <th></th>\n",
       "      <th></th>\n",
       "      <th></th>\n",
       "    </tr>\n",
       "  </thead>\n",
       "  <tbody>\n",
       "    <tr>\n",
       "      <th>A</th>\n",
       "      <td>0.955686</td>\n",
       "      <td>0.079807</td>\n",
       "      <td>-0.134990</td>\n",
       "    </tr>\n",
       "    <tr>\n",
       "      <th>AAPL</th>\n",
       "      <td>1.161827</td>\n",
       "      <td>-0.290220</td>\n",
       "      <td>-0.378872</td>\n",
       "    </tr>\n",
       "    <tr>\n",
       "      <th>ABBV</th>\n",
       "      <td>0.616293</td>\n",
       "      <td>-0.301336</td>\n",
       "      <td>0.108055</td>\n",
       "    </tr>\n",
       "    <tr>\n",
       "      <th>ABT</th>\n",
       "      <td>0.786172</td>\n",
       "      <td>-0.290043</td>\n",
       "      <td>-0.130577</td>\n",
       "    </tr>\n",
       "    <tr>\n",
       "      <th>ADBE</th>\n",
       "      <td>1.253717</td>\n",
       "      <td>-0.235385</td>\n",
       "      <td>-0.681084</td>\n",
       "    </tr>\n",
       "    <tr>\n",
       "      <th>...</th>\n",
       "      <td>...</td>\n",
       "      <td>...</td>\n",
       "      <td>...</td>\n",
       "    </tr>\n",
       "    <tr>\n",
       "      <th>XYL</th>\n",
       "      <td>1.039345</td>\n",
       "      <td>0.146356</td>\n",
       "      <td>0.256511</td>\n",
       "    </tr>\n",
       "    <tr>\n",
       "      <th>YUM</th>\n",
       "      <td>0.760846</td>\n",
       "      <td>-0.183805</td>\n",
       "      <td>0.146926</td>\n",
       "    </tr>\n",
       "    <tr>\n",
       "      <th>ZBH</th>\n",
       "      <td>0.830569</td>\n",
       "      <td>0.124457</td>\n",
       "      <td>0.241640</td>\n",
       "    </tr>\n",
       "    <tr>\n",
       "      <th>ZBRA</th>\n",
       "      <td>1.267471</td>\n",
       "      <td>0.503546</td>\n",
       "      <td>-0.076601</td>\n",
       "    </tr>\n",
       "    <tr>\n",
       "      <th>ZTS</th>\n",
       "      <td>0.883050</td>\n",
       "      <td>-0.084087</td>\n",
       "      <td>-0.222327</td>\n",
       "    </tr>\n",
       "  </tbody>\n",
       "</table>\n",
       "<p>399 rows × 3 columns</p>\n",
       "</div>"
      ]
     },
     "execution_count": 3,
     "metadata": {},
     "output_type": "execute_result"
    }
   ],
   "execution_count": 3
  },
  {
   "metadata": {},
   "cell_type": "markdown",
   "source": "### Fama and French Attribution ###",
   "id": "1fba8dab8d978f36"
  },
  {
   "metadata": {
    "ExecuteTime": {
     "end_time": "2025-06-03T16:50:07.680468Z",
     "start_time": "2025-06-03T16:50:06.527100Z"
    }
   },
   "cell_type": "code",
   "source": [
    "# Import Stock Data\n",
    "ticker = 'MSFT'\n",
    "\n",
    "# Import Data\n",
    "data_stock = import_daily_financial_data(\n",
    "    ticker=ticker, \n",
    "    start_date='2015-01-01', \n",
    "    end_date='2025-01-01', \n",
    "    returns=True\n",
    ")\n",
    "\n",
    "data_stock"
   ],
   "id": "f1f99c22d27bb19c",
   "outputs": [
    {
     "name": "stderr",
     "output_type": "stream",
     "text": [
      "[*********************100%***********************]  1 of 1 completed\n"
     ]
    },
    {
     "data": {
      "text/plain": [
       "Price            close        high         low        open    volume   returns\n",
       "Date                                                                          \n",
       "2015-01-05   39.630886   39.973046   39.562452   39.665100  39673900 -0.009238\n",
       "2015-01-06   39.049202   39.990145   38.955107   39.673647  36447900 -0.014786\n",
       "2015-01-07   39.545349   39.742092   38.912352   39.331498  29114100  0.012626\n",
       "2015-01-08   40.708679   40.845544   39.964479   39.990140  29645200  0.028993\n",
       "2015-01-09   40.366520   40.905425   40.118455   40.725791  23944200 -0.008441\n",
       "...                ...         ...         ...         ...       ...       ...\n",
       "2024-12-24  437.647400  437.916385  432.527101  432.985331   7164500  0.009330\n",
       "2024-12-26  436.432068  439.251246  434.957756  437.398354   8194200 -0.002781\n",
       "2024-12-27  428.881104  433.553144  424.717120  432.935523  18117700 -0.017453\n",
       "2024-12-30  423.202911  425.912495  420.284140  424.428211  13158700 -0.013328\n",
       "2024-12-31  419.885681  425.095662  419.048902  424.468070  13246500 -0.007869\n",
       "\n",
       "[2515 rows x 6 columns]"
      ],
      "text/html": [
       "<div>\n",
       "<style scoped>\n",
       "    .dataframe tbody tr th:only-of-type {\n",
       "        vertical-align: middle;\n",
       "    }\n",
       "\n",
       "    .dataframe tbody tr th {\n",
       "        vertical-align: top;\n",
       "    }\n",
       "\n",
       "    .dataframe thead th {\n",
       "        text-align: right;\n",
       "    }\n",
       "</style>\n",
       "<table border=\"1\" class=\"dataframe\">\n",
       "  <thead>\n",
       "    <tr style=\"text-align: right;\">\n",
       "      <th>Price</th>\n",
       "      <th>close</th>\n",
       "      <th>high</th>\n",
       "      <th>low</th>\n",
       "      <th>open</th>\n",
       "      <th>volume</th>\n",
       "      <th>returns</th>\n",
       "    </tr>\n",
       "    <tr>\n",
       "      <th>Date</th>\n",
       "      <th></th>\n",
       "      <th></th>\n",
       "      <th></th>\n",
       "      <th></th>\n",
       "      <th></th>\n",
       "      <th></th>\n",
       "    </tr>\n",
       "  </thead>\n",
       "  <tbody>\n",
       "    <tr>\n",
       "      <th>2015-01-05</th>\n",
       "      <td>39.630886</td>\n",
       "      <td>39.973046</td>\n",
       "      <td>39.562452</td>\n",
       "      <td>39.665100</td>\n",
       "      <td>39673900</td>\n",
       "      <td>-0.009238</td>\n",
       "    </tr>\n",
       "    <tr>\n",
       "      <th>2015-01-06</th>\n",
       "      <td>39.049202</td>\n",
       "      <td>39.990145</td>\n",
       "      <td>38.955107</td>\n",
       "      <td>39.673647</td>\n",
       "      <td>36447900</td>\n",
       "      <td>-0.014786</td>\n",
       "    </tr>\n",
       "    <tr>\n",
       "      <th>2015-01-07</th>\n",
       "      <td>39.545349</td>\n",
       "      <td>39.742092</td>\n",
       "      <td>38.912352</td>\n",
       "      <td>39.331498</td>\n",
       "      <td>29114100</td>\n",
       "      <td>0.012626</td>\n",
       "    </tr>\n",
       "    <tr>\n",
       "      <th>2015-01-08</th>\n",
       "      <td>40.708679</td>\n",
       "      <td>40.845544</td>\n",
       "      <td>39.964479</td>\n",
       "      <td>39.990140</td>\n",
       "      <td>29645200</td>\n",
       "      <td>0.028993</td>\n",
       "    </tr>\n",
       "    <tr>\n",
       "      <th>2015-01-09</th>\n",
       "      <td>40.366520</td>\n",
       "      <td>40.905425</td>\n",
       "      <td>40.118455</td>\n",
       "      <td>40.725791</td>\n",
       "      <td>23944200</td>\n",
       "      <td>-0.008441</td>\n",
       "    </tr>\n",
       "    <tr>\n",
       "      <th>...</th>\n",
       "      <td>...</td>\n",
       "      <td>...</td>\n",
       "      <td>...</td>\n",
       "      <td>...</td>\n",
       "      <td>...</td>\n",
       "      <td>...</td>\n",
       "    </tr>\n",
       "    <tr>\n",
       "      <th>2024-12-24</th>\n",
       "      <td>437.647400</td>\n",
       "      <td>437.916385</td>\n",
       "      <td>432.527101</td>\n",
       "      <td>432.985331</td>\n",
       "      <td>7164500</td>\n",
       "      <td>0.009330</td>\n",
       "    </tr>\n",
       "    <tr>\n",
       "      <th>2024-12-26</th>\n",
       "      <td>436.432068</td>\n",
       "      <td>439.251246</td>\n",
       "      <td>434.957756</td>\n",
       "      <td>437.398354</td>\n",
       "      <td>8194200</td>\n",
       "      <td>-0.002781</td>\n",
       "    </tr>\n",
       "    <tr>\n",
       "      <th>2024-12-27</th>\n",
       "      <td>428.881104</td>\n",
       "      <td>433.553144</td>\n",
       "      <td>424.717120</td>\n",
       "      <td>432.935523</td>\n",
       "      <td>18117700</td>\n",
       "      <td>-0.017453</td>\n",
       "    </tr>\n",
       "    <tr>\n",
       "      <th>2024-12-30</th>\n",
       "      <td>423.202911</td>\n",
       "      <td>425.912495</td>\n",
       "      <td>420.284140</td>\n",
       "      <td>424.428211</td>\n",
       "      <td>13158700</td>\n",
       "      <td>-0.013328</td>\n",
       "    </tr>\n",
       "    <tr>\n",
       "      <th>2024-12-31</th>\n",
       "      <td>419.885681</td>\n",
       "      <td>425.095662</td>\n",
       "      <td>419.048902</td>\n",
       "      <td>424.468070</td>\n",
       "      <td>13246500</td>\n",
       "      <td>-0.007869</td>\n",
       "    </tr>\n",
       "  </tbody>\n",
       "</table>\n",
       "<p>2515 rows × 6 columns</p>\n",
       "</div>"
      ]
     },
     "execution_count": 4,
     "metadata": {},
     "output_type": "execute_result"
    }
   ],
   "execution_count": 4
  },
  {
   "metadata": {
    "ExecuteTime": {
     "end_time": "2025-06-03T16:50:08.075608Z",
     "start_time": "2025-06-03T16:50:07.682507Z"
    }
   },
   "cell_type": "code",
   "source": [
    "# Create Plot\n",
    "plt.figure(figsize=(10, 6))\n",
    "plt.plot(data_stock['returns'].cumsum(), label=f'{ticker} Returns', alpha=1)\n",
    "\n",
    "# Config\n",
    "plt.title('Cumulative Returns Time Series')\n",
    "plt.xlabel('Time')\n",
    "plt.ylabel('Returns')\n",
    "plt.legend()\n",
    "plt.grid()\n",
    "\n",
    "# Show\n",
    "plt.show()"
   ],
   "id": "7708af38744bb9f8",
   "outputs": [
    {
     "data": {
      "text/plain": [
       "<Figure size 1000x600 with 1 Axes>"
      ],
      "image/png": "[encoded data removed]"
     },
     "metadata": {},
     "output_type": "display_data"
    }
   ],
   "execution_count": 5
  },
  {
   "metadata": {
    "ExecuteTime": {
     "end_time": "2025-06-03T16:50:08.085701Z",
     "start_time": "2025-06-03T16:50:08.075608Z"
    }
   },
   "cell_type": "code",
   "source": [
    "# Now let us calculate the returns according to the beta\n",
    "mkt_contribution = ff_betas.loc[ticker]['mkt_beta'] * premiums_df['mkt_premium']\n",
    "mkt_contribution.name = 'mkt_contribution'\n",
    "\n",
    "# For Size\n",
    "size_contribution = ff_betas.loc[ticker]['smb_beta'] * premiums_df['smb_premium']\n",
    "size_contribution.name = 'size_contribution'\n",
    "\n",
    "# For Value\n",
    "value_contribution = ff_betas.loc[ticker]['hml_beta'] * premiums_df['hml_premium']\n",
    "value_contribution.name = 'value_contribution'"
   ],
   "id": "9602494380afe8c8",
   "outputs": [],
   "execution_count": 6
  },
  {
   "metadata": {
    "ExecuteTime": {
     "end_time": "2025-06-03T16:50:08.101465Z",
     "start_time": "2025-06-03T16:50:08.089057Z"
    }
   },
   "cell_type": "code",
   "source": [
    "# And to calculate the residuals we just have to take the difference\n",
    "residual_returns = data_stock['returns'] - (mkt_contribution + size_contribution + value_contribution)"
   ],
   "id": "f52e1511e37ab15b",
   "outputs": [],
   "execution_count": 7
  },
  {
   "metadata": {
    "ExecuteTime": {
     "end_time": "2025-06-03T16:50:08.474163Z",
     "start_time": "2025-06-03T16:50:08.105803Z"
    }
   },
   "cell_type": "code",
   "source": [
    "# Create Plot\n",
    "plt.figure(figsize=(10, 6))\n",
    "plt.plot(data_stock['returns'].cumsum(), label=f'{ticker} Returns', alpha=1)\n",
    "plt.plot(mkt_contribution.cumsum(), label='Market Factor', alpha=1)\n",
    "plt.plot(size_contribution.cumsum(), label='Size Factor', alpha=1)\n",
    "plt.plot(value_contribution.cumsum(), label='Value Factor', alpha=1)\n",
    "plt.plot(residual_returns.cumsum(), label='Residual Returns', alpha=1)\n",
    "\n",
    "# Config\n",
    "plt.title('Attribution Time Series')\n",
    "plt.xlabel('Time')\n",
    "plt.ylabel('Returns')\n",
    "plt.legend()\n",
    "plt.grid()\n",
    "\n",
    "# Show\n",
    "plt.show() "
   ],
   "id": "abe74cc7510741b6",
   "outputs": [
    {
     "data": {
      "text/plain": [
       "<Figure size 1000x600 with 1 Axes>"
      ],
      "image/png": "[encoded data removed]"
     },
     "metadata": {},
     "output_type": "display_data"
    }
   ],
   "execution_count": 8
  },
  {
   "metadata": {},
   "cell_type": "markdown",
   "source": "### Brinson-Fachley Model ###",
   "id": "ce35eca05e4abbb9"
  },
  {
   "metadata": {
    "ExecuteTime": {
     "end_time": "2025-06-03T16:50:09.154722Z",
     "start_time": "2025-06-03T16:50:08.477546Z"
    }
   },
   "cell_type": "code",
   "source": [
    "# We have to obtain data for our benchmark\n",
    "\n",
    "# iShares U.S. Technology ETF\n",
    "data_bench = import_daily_financial_data(\n",
    "    ticker='IWY', \n",
    "    start_date='2015-01-01', \n",
    "    end_date='2025-01-01', \n",
    "    returns=True\n",
    ")\n",
    "\n",
    "data_bench"
   ],
   "id": "24646813b2aa63ad",
   "outputs": [
    {
     "name": "stderr",
     "output_type": "stream",
     "text": [
      "[*********************100%***********************]  1 of 1 completed\n"
     ]
    },
    {
     "data": {
      "text/plain": [
       "Price            close        high         low        open  volume   returns\n",
       "Date                                                                        \n",
       "2015-01-05   44.562851   45.174781   44.481860   45.174781   26600 -0.016821\n",
       "2015-01-06   44.148903   44.742834   44.049914   44.652843   20700 -0.009332\n",
       "2015-01-07   44.715828   44.751825   44.445860   44.652836   11700  0.012759\n",
       "2015-01-08   45.543743   45.597735   45.147787   45.174786   15600  0.018346\n",
       "2015-01-09   45.201775   45.714715   45.030796   45.714715   26900 -0.007537\n",
       "...                ...         ...         ...         ...     ...       ...\n",
       "2024-12-24  243.761948  243.761948  241.094882  241.184780  140800  0.013657\n",
       "2024-12-26  243.322418  243.991680  241.864031  243.042727  281300 -0.001805\n",
       "2024-12-27  239.776321  241.874021  237.598723  241.684227  233400 -0.014681\n",
       "2024-12-30  236.879517  238.637578  235.321233  236.280170  231000 -0.012155\n",
       "2024-12-31  235.011566  237.628683  234.292356  237.418907  286100 -0.007917\n",
       "\n",
       "[2515 rows x 6 columns]"
      ],
      "text/html": [
       "<div>\n",
       "<style scoped>\n",
       "    .dataframe tbody tr th:only-of-type {\n",
       "        vertical-align: middle;\n",
       "    }\n",
       "\n",
       "    .dataframe tbody tr th {\n",
       "        vertical-align: top;\n",
       "    }\n",
       "\n",
       "    .dataframe thead th {\n",
       "        text-align: right;\n",
       "    }\n",
       "</style>\n",
       "<table border=\"1\" class=\"dataframe\">\n",
       "  <thead>\n",
       "    <tr style=\"text-align: right;\">\n",
       "      <th>Price</th>\n",
       "      <th>close</th>\n",
       "      <th>high</th>\n",
       "      <th>low</th>\n",
       "      <th>open</th>\n",
       "      <th>volume</th>\n",
       "      <th>returns</th>\n",
       "    </tr>\n",
       "    <tr>\n",
       "      <th>Date</th>\n",
       "      <th></th>\n",
       "      <th></th>\n",
       "      <th></th>\n",
       "      <th></th>\n",
       "      <th></th>\n",
       "      <th></th>\n",
       "    </tr>\n",
       "  </thead>\n",
       "  <tbody>\n",
       "    <tr>\n",
       "      <th>2015-01-05</th>\n",
       "      <td>44.562851</td>\n",
       "      <td>45.174781</td>\n",
       "      <td>44.481860</td>\n",
       "      <td>45.174781</td>\n",
       "      <td>26600</td>\n",
       "      <td>-0.016821</td>\n",
       "    </tr>\n",
       "    <tr>\n",
       "      <th>2015-01-06</th>\n",
       "      <td>44.148903</td>\n",
       "      <td>44.742834</td>\n",
       "      <td>44.049914</td>\n",
       "      <td>44.652843</td>\n",
       "      <td>20700</td>\n",
       "      <td>-0.009332</td>\n",
       "    </tr>\n",
       "    <tr>\n",
       "      <th>2015-01-07</th>\n",
       "      <td>44.715828</td>\n",
       "      <td>44.751825</td>\n",
       "      <td>44.445860</td>\n",
       "      <td>44.652836</td>\n",
       "      <td>11700</td>\n",
       "      <td>0.012759</td>\n",
       "    </tr>\n",
       "    <tr>\n",
       "      <th>2015-01-08</th>\n",
       "      <td>45.543743</td>\n",
       "      <td>45.597735</td>\n",
       "      <td>45.147787</td>\n",
       "      <td>45.174786</td>\n",
       "      <td>15600</td>\n",
       "      <td>0.018346</td>\n",
       "    </tr>\n",
       "    <tr>\n",
       "      <th>2015-01-09</th>\n",
       "      <td>45.201775</td>\n",
       "      <td>45.714715</td>\n",
       "      <td>45.030796</td>\n",
       "      <td>45.714715</td>\n",
       "      <td>26900</td>\n",
       "      <td>-0.007537</td>\n",
       "    </tr>\n",
       "    <tr>\n",
       "      <th>...</th>\n",
       "      <td>...</td>\n",
       "      <td>...</td>\n",
       "      <td>...</td>\n",
       "      <td>...</td>\n",
       "      <td>...</td>\n",
       "      <td>...</td>\n",
       "    </tr>\n",
       "    <tr>\n",
       "      <th>2024-12-24</th>\n",
       "      <td>243.761948</td>\n",
       "      <td>243.761948</td>\n",
       "      <td>241.094882</td>\n",
       "      <td>241.184780</td>\n",
       "      <td>140800</td>\n",
       "      <td>0.013657</td>\n",
       "    </tr>\n",
       "    <tr>\n",
       "      <th>2024-12-26</th>\n",
       "      <td>243.322418</td>\n",
       "      <td>243.991680</td>\n",
       "      <td>241.864031</td>\n",
       "      <td>243.042727</td>\n",
       "      <td>281300</td>\n",
       "      <td>-0.001805</td>\n",
       "    </tr>\n",
       "    <tr>\n",
       "      <th>2024-12-27</th>\n",
       "      <td>239.776321</td>\n",
       "      <td>241.874021</td>\n",
       "      <td>237.598723</td>\n",
       "      <td>241.684227</td>\n",
       "      <td>233400</td>\n",
       "      <td>-0.014681</td>\n",
       "    </tr>\n",
       "    <tr>\n",
       "      <th>2024-12-30</th>\n",
       "      <td>236.879517</td>\n",
       "      <td>238.637578</td>\n",
       "      <td>235.321233</td>\n",
       "      <td>236.280170</td>\n",
       "      <td>231000</td>\n",
       "      <td>-0.012155</td>\n",
       "    </tr>\n",
       "    <tr>\n",
       "      <th>2024-12-31</th>\n",
       "      <td>235.011566</td>\n",
       "      <td>237.628683</td>\n",
       "      <td>234.292356</td>\n",
       "      <td>237.418907</td>\n",
       "      <td>286100</td>\n",
       "      <td>-0.007917</td>\n",
       "    </tr>\n",
       "  </tbody>\n",
       "</table>\n",
       "<p>2515 rows × 6 columns</p>\n",
       "</div>"
      ]
     },
     "execution_count": 9,
     "metadata": {},
     "output_type": "execute_result"
    }
   ],
   "execution_count": 9
  },
  {
   "metadata": {
    "ExecuteTime": {
     "end_time": "2025-06-03T16:58:48.028244Z",
     "start_time": "2025-06-03T16:58:48.003315Z"
    }
   },
   "cell_type": "code",
   "source": [
    "# Now calculate the betas\n",
    "bench_premium = data_bench['returns'] - premiums_df['risk_free_rate']\n",
    "\n",
    "# Check if the Function Works\n",
    "parameters = FamaFrenchFactors(\n",
    "    bench_premium,\n",
    "    premiums_df['mkt_premium'],\n",
    "    premiums_df['smb_premium'],\n",
    "    premiums_df['hml_premium'],\n",
    ")\n",
    "\n",
    "parameters"
   ],
   "id": "14523c61bb7b1dd8",
   "outputs": [
    {
     "data": {
      "text/plain": [
       "{'alpha': 3.934727950808859e-05,\n",
       " 'mkt_beta': 1.0759610461988445,\n",
       " 'smb_beta': -0.20119068734087817,\n",
       " 'hml_beta': -0.3282017615265266}"
      ]
     },
     "execution_count": 35,
     "metadata": {},
     "output_type": "execute_result"
    }
   ],
   "execution_count": 35
  },
  {
   "metadata": {
    "ExecuteTime": {
     "end_time": "2025-06-03T16:53:49.603431Z",
     "start_time": "2025-06-03T16:53:49.581616Z"
    }
   },
   "cell_type": "code",
   "source": [
    "# Create the Parameters Series\n",
    "bench_parameters = pd.DataFrame([parameters]).T\n",
    "bench_parameters.columns = ['parameters'] \n",
    "bench_parameters = bench_parameters['parameters']\n",
    "\n",
    "bench_parameters"
   ],
   "id": "7bee513caf1a56a3",
   "outputs": [
    {
     "data": {
      "text/plain": [
       "alpha       0.000039\n",
       "mkt_beta    1.075961\n",
       "smb_beta   -0.201191\n",
       "hml_beta   -0.328202\n",
       "Name: parameters, dtype: float64"
      ]
     },
     "execution_count": 29,
     "metadata": {},
     "output_type": "execute_result"
    }
   ],
   "execution_count": 29
  },
  {
   "metadata": {
    "ExecuteTime": {
     "end_time": "2025-06-03T17:05:34.808305Z",
     "start_time": "2025-06-03T17:05:34.511456Z"
    }
   },
   "cell_type": "code",
   "source": [
    "# Import returns \n",
    "returns_df = pd.read_csv(r'..\\additional_data\\stocks_returns.csv')\n",
    "returns_df.rename(columns={'Unnamed: 0': 'Date'}, inplace=True)\n",
    "returns_df.set_index('Date', inplace=True)\n",
    "returns_df.index = pd.to_datetime(returns_df.index)"
   ],
   "id": "f28f4b684a930511",
   "outputs": [],
   "execution_count": 51
  },
  {
   "metadata": {
    "ExecuteTime": {
     "end_time": "2025-06-03T17:05:44.269415Z",
     "start_time": "2025-06-03T17:05:44.260446Z"
    }
   },
   "cell_type": "code",
   "source": [
    "# Again select a ticker\n",
    "ticker = 'MSFT'\n",
    "\n",
    "stock_returns = returns_df[ticker]"
   ],
   "id": "4a114dae63a221a8",
   "outputs": [],
   "execution_count": 53
  },
  {
   "metadata": {
    "ExecuteTime": {
     "end_time": "2025-06-03T16:59:50.178163Z",
     "start_time": "2025-06-03T16:59:50.152904Z"
    }
   },
   "cell_type": "code",
   "source": [
    "# Now calculate the betas\n",
    "stock_premium = stock_returns - premiums_df['risk_free_rate']\n",
    "\n",
    "# Check if the Function Works\n",
    "s_parameters = FamaFrenchFactors(\n",
    "    stock_premium,\n",
    "    premiums_df['mkt_premium'],\n",
    "    premiums_df['smb_premium'],\n",
    "    premiums_df['hml_premium'],\n",
    ")\n",
    "\n",
    "# Create the Parameters Series\n",
    "stock_parameters = pd.DataFrame([s_parameters]).T\n",
    "stock_parameters.columns = ['parameters'] \n",
    "stock_parameters = stock_parameters['parameters']\n",
    "\n",
    "stock_parameters"
   ],
   "id": "dc2dcc1a8189a54e",
   "outputs": [
    {
     "data": {
      "text/plain": [
       "alpha       0.000136\n",
       "mkt_beta    1.189764\n",
       "smb_beta   -0.436823\n",
       "hml_beta   -0.458828\n",
       "Name: parameters, dtype: float64"
      ]
     },
     "execution_count": 36,
     "metadata": {},
     "output_type": "execute_result"
    }
   ],
   "execution_count": 36
  },
  {
   "metadata": {},
   "cell_type": "markdown",
   "source": "### Calculate the Effects ###",
   "id": "bccddc2dfe38f036"
  },
  {
   "metadata": {
    "ExecuteTime": {
     "end_time": "2025-06-03T17:01:29.301830Z",
     "start_time": "2025-06-03T17:01:29.293607Z"
    }
   },
   "cell_type": "code",
   "source": [
    "# Calculate the Brinson-Fachler Allocation Effect\n",
    "allocation_effect = (stock_parameters - bench_parameters) * data_bench['returns'].mean()\n",
    "allocation_effect.name = 'allocation_effect'\n",
    "\n",
    "allocation_effect.round(6)"
   ],
   "id": "a3198ce6236e232",
   "outputs": [
    {
     "data": {
      "text/plain": [
       "alpha       0.000000\n",
       "mkt_beta    0.000074\n",
       "smb_beta   -0.000154\n",
       "hml_beta   -0.000085\n",
       "Name: allocation_effect, dtype: float64"
      ]
     },
     "execution_count": 39,
     "metadata": {},
     "output_type": "execute_result"
    }
   ],
   "execution_count": 39
  },
  {
   "metadata": {
    "ExecuteTime": {
     "end_time": "2025-06-03T17:02:13.653842Z",
     "start_time": "2025-06-03T17:02:13.641278Z"
    }
   },
   "cell_type": "code",
   "source": [
    "# Calculate the Brinson-Fachler Selection Effect\n",
    "selection_effect = bench_parameters * (stock_returns.mean() - data_bench['returns'].mean())\n",
    "selection_effect.name = 'selection_effect'\n",
    "\n",
    "selection_effect.round(6)"
   ],
   "id": "31e9b1b575f10f37",
   "outputs": [
    {
     "data": {
      "text/plain": [
       "alpha       0.000000\n",
       "mkt_beta    0.000302\n",
       "smb_beta   -0.000056\n",
       "hml_beta   -0.000092\n",
       "Name: selection_effect, dtype: float64"
      ]
     },
     "execution_count": 41,
     "metadata": {},
     "output_type": "execute_result"
    }
   ],
   "execution_count": 41
  },
  {
   "metadata": {
    "ExecuteTime": {
     "end_time": "2025-06-03T17:02:48.079274Z",
     "start_time": "2025-06-03T17:02:48.067779Z"
    }
   },
   "cell_type": "code",
   "source": [
    "# Calculate the Brinson-Fachler Intersection Effect\n",
    "interaction_effect = (stock_parameters - bench_parameters) * (stock_returns.mean() - data_bench['returns'].mean())\n",
    "interaction_effect.name = 'interaction_effect'\n",
    "\n",
    "interaction_effect.round(6)"
   ],
   "id": "44778d3c259070ff",
   "outputs": [
    {
     "data": {
      "text/plain": [
       "alpha       0.000000\n",
       "mkt_beta    0.000032\n",
       "smb_beta   -0.000066\n",
       "hml_beta   -0.000037\n",
       "Name: interaction_effect, dtype: float64"
      ]
     },
     "execution_count": 43,
     "metadata": {},
     "output_type": "execute_result"
    }
   ],
   "execution_count": 43
  },
  {
   "metadata": {
    "ExecuteTime": {
     "end_time": "2025-06-03T17:03:01.694509Z",
     "start_time": "2025-06-03T17:03:01.680320Z"
    }
   },
   "cell_type": "code",
   "source": [
    "# Calculate the Total Effect\n",
    "bf_total_attribution = (\n",
    "        allocation_effect + \n",
    "        selection_effect +\n",
    "        interaction_effect\n",
    ")\n",
    "\n",
    "bf_total_attribution.name = 'bf_total_attribution'\n",
    "\n",
    "bf_total_attribution.round(6)"
   ],
   "id": "360cde30f27388a8",
   "outputs": [
    {
     "data": {
      "text/plain": [
       "alpha       0.000000\n",
       "mkt_beta    0.000408\n",
       "smb_beta   -0.000277\n",
       "hml_beta   -0.000214\n",
       "Name: bf_total_attribution, dtype: float64"
      ]
     },
     "execution_count": 45,
     "metadata": {},
     "output_type": "execute_result"
    }
   ],
   "execution_count": 45
  },
  {
   "metadata": {
    "ExecuteTime": {
     "end_time": "2025-06-03T17:03:14.512245Z",
     "start_time": "2025-06-03T17:03:14.494816Z"
    }
   },
   "cell_type": "code",
   "source": [
    "# Show\n",
    "brinson_fachler_df = pd.DataFrame({\n",
    "    'allocation': allocation_effect,\n",
    "    'selection': selection_effect,\n",
    "    'interaction': interaction_effect,\n",
    "    'total': bf_total_attribution\n",
    "})\n",
    "\n",
    "brinson_fachler_df.round(6)"
   ],
   "id": "c55afff5a182c293",
   "outputs": [
    {
     "data": {
      "text/plain": [
       "          allocation  selection  interaction     total\n",
       "alpha       0.000000   0.000000     0.000000  0.000000\n",
       "mkt_beta    0.000074   0.000302     0.000032  0.000408\n",
       "smb_beta   -0.000154  -0.000056    -0.000066 -0.000277\n",
       "hml_beta   -0.000085  -0.000092    -0.000037 -0.000214"
      ],
      "text/html": [
       "<div>\n",
       "<style scoped>\n",
       "    .dataframe tbody tr th:only-of-type {\n",
       "        vertical-align: middle;\n",
       "    }\n",
       "\n",
       "    .dataframe tbody tr th {\n",
       "        vertical-align: top;\n",
       "    }\n",
       "\n",
       "    .dataframe thead th {\n",
       "        text-align: right;\n",
       "    }\n",
       "</style>\n",
       "<table border=\"1\" class=\"dataframe\">\n",
       "  <thead>\n",
       "    <tr style=\"text-align: right;\">\n",
       "      <th></th>\n",
       "      <th>allocation</th>\n",
       "      <th>selection</th>\n",
       "      <th>interaction</th>\n",
       "      <th>total</th>\n",
       "    </tr>\n",
       "  </thead>\n",
       "  <tbody>\n",
       "    <tr>\n",
       "      <th>alpha</th>\n",
       "      <td>0.000000</td>\n",
       "      <td>0.000000</td>\n",
       "      <td>0.000000</td>\n",
       "      <td>0.000000</td>\n",
       "    </tr>\n",
       "    <tr>\n",
       "      <th>mkt_beta</th>\n",
       "      <td>0.000074</td>\n",
       "      <td>0.000302</td>\n",
       "      <td>0.000032</td>\n",
       "      <td>0.000408</td>\n",
       "    </tr>\n",
       "    <tr>\n",
       "      <th>smb_beta</th>\n",
       "      <td>-0.000154</td>\n",
       "      <td>-0.000056</td>\n",
       "      <td>-0.000066</td>\n",
       "      <td>-0.000277</td>\n",
       "    </tr>\n",
       "    <tr>\n",
       "      <th>hml_beta</th>\n",
       "      <td>-0.000085</td>\n",
       "      <td>-0.000092</td>\n",
       "      <td>-0.000037</td>\n",
       "      <td>-0.000214</td>\n",
       "    </tr>\n",
       "  </tbody>\n",
       "</table>\n",
       "</div>"
      ]
     },
     "execution_count": 46,
     "metadata": {},
     "output_type": "execute_result"
    }
   ],
   "execution_count": 46
  },
  {
   "metadata": {
    "ExecuteTime": {
     "end_time": "2025-06-03T17:03:25.872391Z",
     "start_time": "2025-06-03T17:03:25.860315Z"
    }
   },
   "cell_type": "code",
   "source": "brinson_fachler_df.sum().round(6)",
   "id": "63aa2bb5b0761452",
   "outputs": [
    {
     "data": {
      "text/plain": [
       "allocation    -0.000165\n",
       "selection      0.000153\n",
       "interaction   -0.000071\n",
       "total         -0.000083\n",
       "dtype: float64"
      ]
     },
     "execution_count": 47,
     "metadata": {},
     "output_type": "execute_result"
    }
   ],
   "execution_count": 47
  },
  {
   "metadata": {
    "ExecuteTime": {
     "end_time": "2025-06-03T17:04:25.639974Z",
     "start_time": "2025-06-03T17:04:25.617974Z"
    }
   },
   "cell_type": "code",
   "source": [
    "# Divide the DataFrame by the Excess Return\n",
    "norm_brinson_fachler_df = (brinson_fachler_df/brinson_fachler_df['total'].sum()) * 100\n",
    "\n",
    "norm_brinson_fachler_df"
   ],
   "id": "f16a45b30e0a15c",
   "outputs": [
    {
     "data": {
      "text/plain": [
       "          allocation   selection  interaction       total\n",
       "alpha      -0.076771   -0.013350    -0.032894   -0.123015\n",
       "mkt_beta  -90.117562 -365.066667   -38.612544 -493.796773\n",
       "smb_beta  186.591206   68.262707    79.948468  334.802381\n",
       "hml_beta  103.439908  111.356748    44.320750  259.117407"
      ],
      "text/html": [
       "<div>\n",
       "<style scoped>\n",
       "    .dataframe tbody tr th:only-of-type {\n",
       "        vertical-align: middle;\n",
       "    }\n",
       "\n",
       "    .dataframe tbody tr th {\n",
       "        vertical-align: top;\n",
       "    }\n",
       "\n",
       "    .dataframe thead th {\n",
       "        text-align: right;\n",
       "    }\n",
       "</style>\n",
       "<table border=\"1\" class=\"dataframe\">\n",
       "  <thead>\n",
       "    <tr style=\"text-align: right;\">\n",
       "      <th></th>\n",
       "      <th>allocation</th>\n",
       "      <th>selection</th>\n",
       "      <th>interaction</th>\n",
       "      <th>total</th>\n",
       "    </tr>\n",
       "  </thead>\n",
       "  <tbody>\n",
       "    <tr>\n",
       "      <th>alpha</th>\n",
       "      <td>-0.076771</td>\n",
       "      <td>-0.013350</td>\n",
       "      <td>-0.032894</td>\n",
       "      <td>-0.123015</td>\n",
       "    </tr>\n",
       "    <tr>\n",
       "      <th>mkt_beta</th>\n",
       "      <td>-90.117562</td>\n",
       "      <td>-365.066667</td>\n",
       "      <td>-38.612544</td>\n",
       "      <td>-493.796773</td>\n",
       "    </tr>\n",
       "    <tr>\n",
       "      <th>smb_beta</th>\n",
       "      <td>186.591206</td>\n",
       "      <td>68.262707</td>\n",
       "      <td>79.948468</td>\n",
       "      <td>334.802381</td>\n",
       "    </tr>\n",
       "    <tr>\n",
       "      <th>hml_beta</th>\n",
       "      <td>103.439908</td>\n",
       "      <td>111.356748</td>\n",
       "      <td>44.320750</td>\n",
       "      <td>259.117407</td>\n",
       "    </tr>\n",
       "  </tbody>\n",
       "</table>\n",
       "</div>"
      ]
     },
     "execution_count": 49,
     "metadata": {},
     "output_type": "execute_result"
    }
   ],
   "execution_count": 49
  },
  {
   "metadata": {
    "ExecuteTime": {
     "end_time": "2025-06-03T17:04:34.685933Z",
     "start_time": "2025-06-03T17:04:34.672597Z"
    }
   },
   "cell_type": "code",
   "source": "norm_brinson_fachler_df.sum().round(2)",
   "id": "c690606c1123d0d9",
   "outputs": [
    {
     "data": {
      "text/plain": [
       "allocation     199.84\n",
       "selection     -185.46\n",
       "interaction     85.62\n",
       "total          100.00\n",
       "dtype: float64"
      ]
     },
     "execution_count": 50,
     "metadata": {},
     "output_type": "execute_result"
    }
   ],
   "execution_count": 50
  },
  {
   "metadata": {},
   "cell_type": "code",
   "outputs": [],
   "execution_count": null,
   "source": "",
   "id": "b114b65e99746591"
  }
 ],
 "metadata": {
  "kernelspec": {
   "display_name": "Python 3",
   "language": "python",
   "name": "python3"
  },
  "language_info": {
   "codemirror_mode": {
    "name": "ipython",
    "version": 2
   },
   "file_extension": ".py",
   "mimetype": "text/x-python",
   "name": "python",
   "nbconvert_exporter": "python",
   "pygments_lexer": "ipython2",
   "version": "2.7.6"
  }
 },
 "nbformat": 4,
 "nbformat_minor": 5
}
