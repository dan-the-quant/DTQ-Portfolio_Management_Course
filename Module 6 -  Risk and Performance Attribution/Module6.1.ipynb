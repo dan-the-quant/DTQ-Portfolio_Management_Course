{
 "cells": [
  {
   "metadata": {},
   "cell_type": "markdown",
   "source": "# The Brinson-Fachler Model #",
   "id": "df459061cb06683c"
  },
  {
   "metadata": {
    "ExecuteTime": {
     "end_time": "2025-06-03T04:51:28.385273Z",
     "start_time": "2025-06-03T04:51:28.380041Z"
    }
   },
   "cell_type": "code",
   "source": [
    "# Import Libraries\n",
    "\n",
    "# Data Management\n",
    "import pandas as pd\n",
    "import numpy as np\n",
    "\n",
    "# Plots\n",
    "import matplotlib.pyplot as plt\n",
    "\n",
    "# Statistics\n",
    "import statsmodels.api as sm\n",
    "from scipy.stats import norm\n",
    "\n",
    "# Handle Files\n",
    "import sys\n",
    "import os\n",
    "\n",
    "# Import Local Functions\n",
    "sys.path.append(os.path.abspath(\"../source\"))\n",
    "from functions import import_daily_financial_data\n",
    "from portfolios_toolkit import markowitz_weights"
   ],
   "id": "initial_id",
   "outputs": [],
   "execution_count": 573
  },
  {
   "metadata": {},
   "cell_type": "markdown",
   "source": "### Building a Portfolio ###",
   "id": "6f533cf52687c534"
  },
  {
   "metadata": {
    "ExecuteTime": {
     "end_time": "2025-06-03T04:01:07.009002Z",
     "start_time": "2025-06-03T04:01:06.710088Z"
    }
   },
   "cell_type": "code",
   "source": [
    "# Import the Returns Data\n",
    "returns_df = pd.read_csv(r'..\\additional_data\\stocks_returns.csv')\n",
    "returns_df.rename(columns={'Unnamed: 0': 'Date'}, inplace=True)\n",
    "returns_df.set_index('Date', inplace=True)\n",
    "returns_df.index = pd.to_datetime(returns_df.index)\n",
    "\n",
    "returns_df"
   ],
   "id": "ef1d272a39d216ae",
   "outputs": [
    {
     "data": {
      "text/plain": [
       "                   A      AAPL      ABBV       ABT      ADBE       ADI  \\\n",
       "Date                                                                     \n",
       "2015-01-05 -0.018915 -0.028576 -0.018998  0.000222 -0.004989 -0.018352   \n",
       "2015-01-06 -0.015700  0.000094 -0.004962 -0.011421 -0.020350 -0.023753   \n",
       "2015-01-07  0.013184  0.013925  0.039621  0.008076  0.008190  0.010462   \n",
       "2015-01-08  0.029534  0.037702  0.010404  0.020345  0.025135  0.017501   \n",
       "2015-01-09 -0.007364  0.001072 -0.027736 -0.010563 -0.014922 -0.000731   \n",
       "...              ...       ...       ...       ...       ...       ...   \n",
       "2024-12-24  0.011083  0.011413  0.008985  0.003929  0.002683  0.014782   \n",
       "2024-12-26 -0.001986  0.003171 -0.004454  0.004434  0.004944 -0.000138   \n",
       "2024-12-27 -0.002137 -0.013331 -0.006663 -0.002432 -0.008208 -0.004919   \n",
       "2024-12-30 -0.008298 -0.013352 -0.010220 -0.019229 -0.001524 -0.020627   \n",
       "2024-12-31  0.001251 -0.007083  0.008477  0.002744 -0.002515 -0.000471   \n",
       "\n",
       "                 ADM       ADP      ADSK       AEE  ...       WST        WY  \\\n",
       "Date                                                ...                       \n",
       "2015-01-05 -0.035215 -0.000721 -0.014722 -0.010052  ... -0.013900  0.000000   \n",
       "2015-01-06 -0.019911 -0.008324 -0.019973 -0.011709  ... -0.017255 -0.001108   \n",
       "2015-01-07  0.014920  0.008685 -0.002089  0.007747  ...  0.016088  0.003045   \n",
       "2015-01-08 -0.014717  0.022681  0.024446  0.003522  ...  0.019467  0.010722   \n",
       "2015-01-09 -0.008566 -0.007188 -0.009054 -0.011270  ... -0.011519 -0.001368   \n",
       "...              ...       ...       ...       ...  ...       ...       ...   \n",
       "2024-12-24  0.004355  0.007822  0.012494  0.013291  ...  0.009663  0.006390   \n",
       "2024-12-26 -0.000395  0.002594 -0.003159 -0.002203  ...  0.001981 -0.003190   \n",
       "2024-12-27 -0.000593 -0.003539 -0.008999 -0.006305  ... -0.000630 -0.006410   \n",
       "2024-12-30 -0.010134 -0.010897 -0.000202 -0.005564  ... -0.013292 -0.003579   \n",
       "2024-12-31  0.008947 -0.000819 -0.006609 -0.005370  ... -0.003839  0.009279   \n",
       "\n",
       "                WYNN       XEL       XOM       XYL       YUM       ZBH  \\\n",
       "Date                                                                     \n",
       "2015-01-05 -0.017166 -0.011416 -0.027743 -0.064259 -0.020527  0.036625   \n",
       "2015-01-06 -0.021562  0.005306 -0.005330 -0.005898 -0.012351 -0.008513   \n",
       "2015-01-07  0.028945  0.008598  0.010081  0.007857  0.032601  0.024566   \n",
       "2015-01-08  0.011959  0.011532  0.016508  0.007517  0.017270  0.010561   \n",
       "2015-01-09  0.012422 -0.012361 -0.001411 -0.019043 -0.001768 -0.014529   \n",
       "...              ...       ...       ...       ...       ...       ...   \n",
       "2024-12-24  0.007575  0.007210  0.000940  0.005432  0.008480  0.004484   \n",
       "2024-12-26  0.005952 -0.000440  0.000845  0.002705  0.007380 -0.000466   \n",
       "2024-12-27 -0.007079 -0.000587 -0.000094 -0.007966 -0.005678 -0.003549   \n",
       "2024-12-30 -0.032666 -0.008104 -0.006785 -0.010693 -0.012726 -0.011602   \n",
       "2024-12-31  0.003837 -0.001036  0.016969 -0.002238  0.004782  0.002180   \n",
       "\n",
       "                ZBRA       ZTS  \n",
       "Date                            \n",
       "2015-01-05 -0.014177 -0.006022  \n",
       "2015-01-06 -0.007231 -0.009804  \n",
       "2015-01-07  0.025146  0.020432  \n",
       "2015-01-08  0.021134  0.015282  \n",
       "2015-01-09  0.014508  0.001583  \n",
       "...              ...       ...  \n",
       "2024-12-24  0.012187  0.002553  \n",
       "2024-12-26  0.003559  0.004966  \n",
       "2024-12-27 -0.019799 -0.005574  \n",
       "2024-12-30 -0.013507 -0.014442  \n",
       "2024-12-31  0.006155  0.004244  \n",
       "\n",
       "[2515 rows x 399 columns]"
      ],
      "text/html": [
       "<div>\n",
       "<style scoped>\n",
       "    .dataframe tbody tr th:only-of-type {\n",
       "        vertical-align: middle;\n",
       "    }\n",
       "\n",
       "    .dataframe tbody tr th {\n",
       "        vertical-align: top;\n",
       "    }\n",
       "\n",
       "    .dataframe thead th {\n",
       "        text-align: right;\n",
       "    }\n",
       "</style>\n",
       "<table border=\"1\" class=\"dataframe\">\n",
       "  <thead>\n",
       "    <tr style=\"text-align: right;\">\n",
       "      <th></th>\n",
       "      <th>A</th>\n",
       "      <th>AAPL</th>\n",
       "      <th>ABBV</th>\n",
       "      <th>ABT</th>\n",
       "      <th>ADBE</th>\n",
       "      <th>ADI</th>\n",
       "      <th>ADM</th>\n",
       "      <th>ADP</th>\n",
       "      <th>ADSK</th>\n",
       "      <th>AEE</th>\n",
       "      <th>...</th>\n",
       "      <th>WST</th>\n",
       "      <th>WY</th>\n",
       "      <th>WYNN</th>\n",
       "      <th>XEL</th>\n",
       "      <th>XOM</th>\n",
       "      <th>XYL</th>\n",
       "      <th>YUM</th>\n",
       "      <th>ZBH</th>\n",
       "      <th>ZBRA</th>\n",
       "      <th>ZTS</th>\n",
       "    </tr>\n",
       "    <tr>\n",
       "      <th>Date</th>\n",
       "      <th></th>\n",
       "      <th></th>\n",
       "      <th></th>\n",
       "      <th></th>\n",
       "      <th></th>\n",
       "      <th></th>\n",
       "      <th></th>\n",
       "      <th></th>\n",
       "      <th></th>\n",
       "      <th></th>\n",
       "      <th></th>\n",
       "      <th></th>\n",
       "      <th></th>\n",
       "      <th></th>\n",
       "      <th></th>\n",
       "      <th></th>\n",
       "      <th></th>\n",
       "      <th></th>\n",
       "      <th></th>\n",
       "      <th></th>\n",
       "      <th></th>\n",
       "    </tr>\n",
       "  </thead>\n",
       "  <tbody>\n",
       "    <tr>\n",
       "      <th>2015-01-05</th>\n",
       "      <td>-0.018915</td>\n",
       "      <td>-0.028576</td>\n",
       "      <td>-0.018998</td>\n",
       "      <td>0.000222</td>\n",
       "      <td>-0.004989</td>\n",
       "      <td>-0.018352</td>\n",
       "      <td>-0.035215</td>\n",
       "      <td>-0.000721</td>\n",
       "      <td>-0.014722</td>\n",
       "      <td>-0.010052</td>\n",
       "      <td>...</td>\n",
       "      <td>-0.013900</td>\n",
       "      <td>0.000000</td>\n",
       "      <td>-0.017166</td>\n",
       "      <td>-0.011416</td>\n",
       "      <td>-0.027743</td>\n",
       "      <td>-0.064259</td>\n",
       "      <td>-0.020527</td>\n",
       "      <td>0.036625</td>\n",
       "      <td>-0.014177</td>\n",
       "      <td>-0.006022</td>\n",
       "    </tr>\n",
       "    <tr>\n",
       "      <th>2015-01-06</th>\n",
       "      <td>-0.015700</td>\n",
       "      <td>0.000094</td>\n",
       "      <td>-0.004962</td>\n",
       "      <td>-0.011421</td>\n",
       "      <td>-0.020350</td>\n",
       "      <td>-0.023753</td>\n",
       "      <td>-0.019911</td>\n",
       "      <td>-0.008324</td>\n",
       "      <td>-0.019973</td>\n",
       "      <td>-0.011709</td>\n",
       "      <td>...</td>\n",
       "      <td>-0.017255</td>\n",
       "      <td>-0.001108</td>\n",
       "      <td>-0.021562</td>\n",
       "      <td>0.005306</td>\n",
       "      <td>-0.005330</td>\n",
       "      <td>-0.005898</td>\n",
       "      <td>-0.012351</td>\n",
       "      <td>-0.008513</td>\n",
       "      <td>-0.007231</td>\n",
       "      <td>-0.009804</td>\n",
       "    </tr>\n",
       "    <tr>\n",
       "      <th>2015-01-07</th>\n",
       "      <td>0.013184</td>\n",
       "      <td>0.013925</td>\n",
       "      <td>0.039621</td>\n",
       "      <td>0.008076</td>\n",
       "      <td>0.008190</td>\n",
       "      <td>0.010462</td>\n",
       "      <td>0.014920</td>\n",
       "      <td>0.008685</td>\n",
       "      <td>-0.002089</td>\n",
       "      <td>0.007747</td>\n",
       "      <td>...</td>\n",
       "      <td>0.016088</td>\n",
       "      <td>0.003045</td>\n",
       "      <td>0.028945</td>\n",
       "      <td>0.008598</td>\n",
       "      <td>0.010081</td>\n",
       "      <td>0.007857</td>\n",
       "      <td>0.032601</td>\n",
       "      <td>0.024566</td>\n",
       "      <td>0.025146</td>\n",
       "      <td>0.020432</td>\n",
       "    </tr>\n",
       "    <tr>\n",
       "      <th>2015-01-08</th>\n",
       "      <td>0.029534</td>\n",
       "      <td>0.037702</td>\n",
       "      <td>0.010404</td>\n",
       "      <td>0.020345</td>\n",
       "      <td>0.025135</td>\n",
       "      <td>0.017501</td>\n",
       "      <td>-0.014717</td>\n",
       "      <td>0.022681</td>\n",
       "      <td>0.024446</td>\n",
       "      <td>0.003522</td>\n",
       "      <td>...</td>\n",
       "      <td>0.019467</td>\n",
       "      <td>0.010722</td>\n",
       "      <td>0.011959</td>\n",
       "      <td>0.011532</td>\n",
       "      <td>0.016508</td>\n",
       "      <td>0.007517</td>\n",
       "      <td>0.017270</td>\n",
       "      <td>0.010561</td>\n",
       "      <td>0.021134</td>\n",
       "      <td>0.015282</td>\n",
       "    </tr>\n",
       "    <tr>\n",
       "      <th>2015-01-09</th>\n",
       "      <td>-0.007364</td>\n",
       "      <td>0.001072</td>\n",
       "      <td>-0.027736</td>\n",
       "      <td>-0.010563</td>\n",
       "      <td>-0.014922</td>\n",
       "      <td>-0.000731</td>\n",
       "      <td>-0.008566</td>\n",
       "      <td>-0.007188</td>\n",
       "      <td>-0.009054</td>\n",
       "      <td>-0.011270</td>\n",
       "      <td>...</td>\n",
       "      <td>-0.011519</td>\n",
       "      <td>-0.001368</td>\n",
       "      <td>0.012422</td>\n",
       "      <td>-0.012361</td>\n",
       "      <td>-0.001411</td>\n",
       "      <td>-0.019043</td>\n",
       "      <td>-0.001768</td>\n",
       "      <td>-0.014529</td>\n",
       "      <td>0.014508</td>\n",
       "      <td>0.001583</td>\n",
       "    </tr>\n",
       "    <tr>\n",
       "      <th>...</th>\n",
       "      <td>...</td>\n",
       "      <td>...</td>\n",
       "      <td>...</td>\n",
       "      <td>...</td>\n",
       "      <td>...</td>\n",
       "      <td>...</td>\n",
       "      <td>...</td>\n",
       "      <td>...</td>\n",
       "      <td>...</td>\n",
       "      <td>...</td>\n",
       "      <td>...</td>\n",
       "      <td>...</td>\n",
       "      <td>...</td>\n",
       "      <td>...</td>\n",
       "      <td>...</td>\n",
       "      <td>...</td>\n",
       "      <td>...</td>\n",
       "      <td>...</td>\n",
       "      <td>...</td>\n",
       "      <td>...</td>\n",
       "      <td>...</td>\n",
       "    </tr>\n",
       "    <tr>\n",
       "      <th>2024-12-24</th>\n",
       "      <td>0.011083</td>\n",
       "      <td>0.011413</td>\n",
       "      <td>0.008985</td>\n",
       "      <td>0.003929</td>\n",
       "      <td>0.002683</td>\n",
       "      <td>0.014782</td>\n",
       "      <td>0.004355</td>\n",
       "      <td>0.007822</td>\n",
       "      <td>0.012494</td>\n",
       "      <td>0.013291</td>\n",
       "      <td>...</td>\n",
       "      <td>0.009663</td>\n",
       "      <td>0.006390</td>\n",
       "      <td>0.007575</td>\n",
       "      <td>0.007210</td>\n",
       "      <td>0.000940</td>\n",
       "      <td>0.005432</td>\n",
       "      <td>0.008480</td>\n",
       "      <td>0.004484</td>\n",
       "      <td>0.012187</td>\n",
       "      <td>0.002553</td>\n",
       "    </tr>\n",
       "    <tr>\n",
       "      <th>2024-12-26</th>\n",
       "      <td>-0.001986</td>\n",
       "      <td>0.003171</td>\n",
       "      <td>-0.004454</td>\n",
       "      <td>0.004434</td>\n",
       "      <td>0.004944</td>\n",
       "      <td>-0.000138</td>\n",
       "      <td>-0.000395</td>\n",
       "      <td>0.002594</td>\n",
       "      <td>-0.003159</td>\n",
       "      <td>-0.002203</td>\n",
       "      <td>...</td>\n",
       "      <td>0.001981</td>\n",
       "      <td>-0.003190</td>\n",
       "      <td>0.005952</td>\n",
       "      <td>-0.000440</td>\n",
       "      <td>0.000845</td>\n",
       "      <td>0.002705</td>\n",
       "      <td>0.007380</td>\n",
       "      <td>-0.000466</td>\n",
       "      <td>0.003559</td>\n",
       "      <td>0.004966</td>\n",
       "    </tr>\n",
       "    <tr>\n",
       "      <th>2024-12-27</th>\n",
       "      <td>-0.002137</td>\n",
       "      <td>-0.013331</td>\n",
       "      <td>-0.006663</td>\n",
       "      <td>-0.002432</td>\n",
       "      <td>-0.008208</td>\n",
       "      <td>-0.004919</td>\n",
       "      <td>-0.000593</td>\n",
       "      <td>-0.003539</td>\n",
       "      <td>-0.008999</td>\n",
       "      <td>-0.006305</td>\n",
       "      <td>...</td>\n",
       "      <td>-0.000630</td>\n",
       "      <td>-0.006410</td>\n",
       "      <td>-0.007079</td>\n",
       "      <td>-0.000587</td>\n",
       "      <td>-0.000094</td>\n",
       "      <td>-0.007966</td>\n",
       "      <td>-0.005678</td>\n",
       "      <td>-0.003549</td>\n",
       "      <td>-0.019799</td>\n",
       "      <td>-0.005574</td>\n",
       "    </tr>\n",
       "    <tr>\n",
       "      <th>2024-12-30</th>\n",
       "      <td>-0.008298</td>\n",
       "      <td>-0.013352</td>\n",
       "      <td>-0.010220</td>\n",
       "      <td>-0.019229</td>\n",
       "      <td>-0.001524</td>\n",
       "      <td>-0.020627</td>\n",
       "      <td>-0.010134</td>\n",
       "      <td>-0.010897</td>\n",
       "      <td>-0.000202</td>\n",
       "      <td>-0.005564</td>\n",
       "      <td>...</td>\n",
       "      <td>-0.013292</td>\n",
       "      <td>-0.003579</td>\n",
       "      <td>-0.032666</td>\n",
       "      <td>-0.008104</td>\n",
       "      <td>-0.006785</td>\n",
       "      <td>-0.010693</td>\n",
       "      <td>-0.012726</td>\n",
       "      <td>-0.011602</td>\n",
       "      <td>-0.013507</td>\n",
       "      <td>-0.014442</td>\n",
       "    </tr>\n",
       "    <tr>\n",
       "      <th>2024-12-31</th>\n",
       "      <td>0.001251</td>\n",
       "      <td>-0.007083</td>\n",
       "      <td>0.008477</td>\n",
       "      <td>0.002744</td>\n",
       "      <td>-0.002515</td>\n",
       "      <td>-0.000471</td>\n",
       "      <td>0.008947</td>\n",
       "      <td>-0.000819</td>\n",
       "      <td>-0.006609</td>\n",
       "      <td>-0.005370</td>\n",
       "      <td>...</td>\n",
       "      <td>-0.003839</td>\n",
       "      <td>0.009279</td>\n",
       "      <td>0.003837</td>\n",
       "      <td>-0.001036</td>\n",
       "      <td>0.016969</td>\n",
       "      <td>-0.002238</td>\n",
       "      <td>0.004782</td>\n",
       "      <td>0.002180</td>\n",
       "      <td>0.006155</td>\n",
       "      <td>0.004244</td>\n",
       "    </tr>\n",
       "  </tbody>\n",
       "</table>\n",
       "<p>2515 rows × 399 columns</p>\n",
       "</div>"
      ]
     },
     "execution_count": 444,
     "metadata": {},
     "output_type": "execute_result"
    }
   ],
   "execution_count": 444
  },
  {
   "metadata": {
    "ExecuteTime": {
     "end_time": "2025-06-03T04:01:07.185654Z",
     "start_time": "2025-06-03T04:01:07.167624Z"
    }
   },
   "cell_type": "code",
   "source": [
    "# Make the portfolio DataFrame\n",
    "portfolio_holdings_df = returns_df[['AAPL', 'AMZN', 'META', 'MSFT', 'NVDA']]\n",
    "portfolio_holdings_df = portfolio_holdings_df\n",
    "\n",
    "portfolio_holdings_df"
   ],
   "id": "13c4aeda52a68138",
   "outputs": [
    {
     "data": {
      "text/plain": [
       "                AAPL      AMZN      META      MSFT      NVDA\n",
       "Date                                                        \n",
       "2015-01-05 -0.028576 -0.020731 -0.016191 -0.009238 -0.017035\n",
       "2015-01-06  0.000094 -0.023098 -0.013565 -0.014786 -0.030788\n",
       "2015-01-07  0.013925  0.010544  0.000000  0.012625 -0.002609\n",
       "2015-01-08  0.037702  0.006813  0.026309  0.028994  0.036927\n",
       "2015-01-09  0.001072 -0.011818 -0.005644 -0.008441  0.004020\n",
       "...              ...       ...       ...       ...       ...\n",
       "2024-12-24  0.011413  0.017573  0.013084  0.009330  0.003930\n",
       "2024-12-26  0.003171 -0.008770 -0.007266 -0.002781 -0.002070\n",
       "2024-12-27 -0.013331 -0.014641 -0.005884 -0.017453 -0.021088\n",
       "2024-12-30 -0.013352 -0.011010 -0.014391 -0.013328  0.003497\n",
       "2024-12-31 -0.007083 -0.008668 -0.009739 -0.007869 -0.023550\n",
       "\n",
       "[2515 rows x 5 columns]"
      ],
      "text/html": [
       "<div>\n",
       "<style scoped>\n",
       "    .dataframe tbody tr th:only-of-type {\n",
       "        vertical-align: middle;\n",
       "    }\n",
       "\n",
       "    .dataframe tbody tr th {\n",
       "        vertical-align: top;\n",
       "    }\n",
       "\n",
       "    .dataframe thead th {\n",
       "        text-align: right;\n",
       "    }\n",
       "</style>\n",
       "<table border=\"1\" class=\"dataframe\">\n",
       "  <thead>\n",
       "    <tr style=\"text-align: right;\">\n",
       "      <th></th>\n",
       "      <th>AAPL</th>\n",
       "      <th>AMZN</th>\n",
       "      <th>META</th>\n",
       "      <th>MSFT</th>\n",
       "      <th>NVDA</th>\n",
       "    </tr>\n",
       "    <tr>\n",
       "      <th>Date</th>\n",
       "      <th></th>\n",
       "      <th></th>\n",
       "      <th></th>\n",
       "      <th></th>\n",
       "      <th></th>\n",
       "    </tr>\n",
       "  </thead>\n",
       "  <tbody>\n",
       "    <tr>\n",
       "      <th>2015-01-05</th>\n",
       "      <td>-0.028576</td>\n",
       "      <td>-0.020731</td>\n",
       "      <td>-0.016191</td>\n",
       "      <td>-0.009238</td>\n",
       "      <td>-0.017035</td>\n",
       "    </tr>\n",
       "    <tr>\n",
       "      <th>2015-01-06</th>\n",
       "      <td>0.000094</td>\n",
       "      <td>-0.023098</td>\n",
       "      <td>-0.013565</td>\n",
       "      <td>-0.014786</td>\n",
       "      <td>-0.030788</td>\n",
       "    </tr>\n",
       "    <tr>\n",
       "      <th>2015-01-07</th>\n",
       "      <td>0.013925</td>\n",
       "      <td>0.010544</td>\n",
       "      <td>0.000000</td>\n",
       "      <td>0.012625</td>\n",
       "      <td>-0.002609</td>\n",
       "    </tr>\n",
       "    <tr>\n",
       "      <th>2015-01-08</th>\n",
       "      <td>0.037702</td>\n",
       "      <td>0.006813</td>\n",
       "      <td>0.026309</td>\n",
       "      <td>0.028994</td>\n",
       "      <td>0.036927</td>\n",
       "    </tr>\n",
       "    <tr>\n",
       "      <th>2015-01-09</th>\n",
       "      <td>0.001072</td>\n",
       "      <td>-0.011818</td>\n",
       "      <td>-0.005644</td>\n",
       "      <td>-0.008441</td>\n",
       "      <td>0.004020</td>\n",
       "    </tr>\n",
       "    <tr>\n",
       "      <th>...</th>\n",
       "      <td>...</td>\n",
       "      <td>...</td>\n",
       "      <td>...</td>\n",
       "      <td>...</td>\n",
       "      <td>...</td>\n",
       "    </tr>\n",
       "    <tr>\n",
       "      <th>2024-12-24</th>\n",
       "      <td>0.011413</td>\n",
       "      <td>0.017573</td>\n",
       "      <td>0.013084</td>\n",
       "      <td>0.009330</td>\n",
       "      <td>0.003930</td>\n",
       "    </tr>\n",
       "    <tr>\n",
       "      <th>2024-12-26</th>\n",
       "      <td>0.003171</td>\n",
       "      <td>-0.008770</td>\n",
       "      <td>-0.007266</td>\n",
       "      <td>-0.002781</td>\n",
       "      <td>-0.002070</td>\n",
       "    </tr>\n",
       "    <tr>\n",
       "      <th>2024-12-27</th>\n",
       "      <td>-0.013331</td>\n",
       "      <td>-0.014641</td>\n",
       "      <td>-0.005884</td>\n",
       "      <td>-0.017453</td>\n",
       "      <td>-0.021088</td>\n",
       "    </tr>\n",
       "    <tr>\n",
       "      <th>2024-12-30</th>\n",
       "      <td>-0.013352</td>\n",
       "      <td>-0.011010</td>\n",
       "      <td>-0.014391</td>\n",
       "      <td>-0.013328</td>\n",
       "      <td>0.003497</td>\n",
       "    </tr>\n",
       "    <tr>\n",
       "      <th>2024-12-31</th>\n",
       "      <td>-0.007083</td>\n",
       "      <td>-0.008668</td>\n",
       "      <td>-0.009739</td>\n",
       "      <td>-0.007869</td>\n",
       "      <td>-0.023550</td>\n",
       "    </tr>\n",
       "  </tbody>\n",
       "</table>\n",
       "<p>2515 rows × 5 columns</p>\n",
       "</div>"
      ]
     },
     "execution_count": 445,
     "metadata": {},
     "output_type": "execute_result"
    }
   ],
   "execution_count": 445
  },
  {
   "metadata": {
    "ExecuteTime": {
     "end_time": "2025-06-03T04:01:07.594576Z",
     "start_time": "2025-06-03T04:01:07.587069Z"
    }
   },
   "cell_type": "code",
   "source": [
    "# Portfolio's Expected Returns\n",
    "expected_returns = portfolio_holdings_df.mean()\n",
    "\n",
    "expected_returns"
   ],
   "id": "6e61d73470728d9e",
   "outputs": [
    {
     "data": {
      "text/plain": [
       "AAPL    0.000927\n",
       "AMZN    0.001056\n",
       "META    0.000801\n",
       "MSFT    0.000935\n",
       "NVDA    0.002238\n",
       "dtype: float64"
      ]
     },
     "execution_count": 446,
     "metadata": {},
     "output_type": "execute_result"
    }
   ],
   "execution_count": 446
  },
  {
   "metadata": {
    "ExecuteTime": {
     "end_time": "2025-06-03T04:01:09.755835Z",
     "start_time": "2025-06-03T04:01:09.734671Z"
    }
   },
   "cell_type": "code",
   "source": [
    "# Covariance Matrix\n",
    "covariance_matrix = portfolio_holdings_df.cov()\n",
    "\n",
    "covariance_matrix"
   ],
   "id": "e66de58987385b56",
   "outputs": [
    {
     "data": {
      "text/plain": [
       "          AAPL      AMZN      META      MSFT      NVDA\n",
       "AAPL  0.000322  0.000205  0.000224  0.000210  0.000298\n",
       "AMZN  0.000205  0.000423  0.000290  0.000232  0.000324\n",
       "META  0.000224  0.000290  0.000569  0.000237  0.000349\n",
       "MSFT  0.000210  0.000232  0.000237  0.000292  0.000316\n",
       "NVDA  0.000298  0.000324  0.000349  0.000316  0.000923"
      ],
      "text/html": [
       "<div>\n",
       "<style scoped>\n",
       "    .dataframe tbody tr th:only-of-type {\n",
       "        vertical-align: middle;\n",
       "    }\n",
       "\n",
       "    .dataframe tbody tr th {\n",
       "        vertical-align: top;\n",
       "    }\n",
       "\n",
       "    .dataframe thead th {\n",
       "        text-align: right;\n",
       "    }\n",
       "</style>\n",
       "<table border=\"1\" class=\"dataframe\">\n",
       "  <thead>\n",
       "    <tr style=\"text-align: right;\">\n",
       "      <th></th>\n",
       "      <th>AAPL</th>\n",
       "      <th>AMZN</th>\n",
       "      <th>META</th>\n",
       "      <th>MSFT</th>\n",
       "      <th>NVDA</th>\n",
       "    </tr>\n",
       "  </thead>\n",
       "  <tbody>\n",
       "    <tr>\n",
       "      <th>AAPL</th>\n",
       "      <td>0.000322</td>\n",
       "      <td>0.000205</td>\n",
       "      <td>0.000224</td>\n",
       "      <td>0.000210</td>\n",
       "      <td>0.000298</td>\n",
       "    </tr>\n",
       "    <tr>\n",
       "      <th>AMZN</th>\n",
       "      <td>0.000205</td>\n",
       "      <td>0.000423</td>\n",
       "      <td>0.000290</td>\n",
       "      <td>0.000232</td>\n",
       "      <td>0.000324</td>\n",
       "    </tr>\n",
       "    <tr>\n",
       "      <th>META</th>\n",
       "      <td>0.000224</td>\n",
       "      <td>0.000290</td>\n",
       "      <td>0.000569</td>\n",
       "      <td>0.000237</td>\n",
       "      <td>0.000349</td>\n",
       "    </tr>\n",
       "    <tr>\n",
       "      <th>MSFT</th>\n",
       "      <td>0.000210</td>\n",
       "      <td>0.000232</td>\n",
       "      <td>0.000237</td>\n",
       "      <td>0.000292</td>\n",
       "      <td>0.000316</td>\n",
       "    </tr>\n",
       "    <tr>\n",
       "      <th>NVDA</th>\n",
       "      <td>0.000298</td>\n",
       "      <td>0.000324</td>\n",
       "      <td>0.000349</td>\n",
       "      <td>0.000316</td>\n",
       "      <td>0.000923</td>\n",
       "    </tr>\n",
       "  </tbody>\n",
       "</table>\n",
       "</div>"
      ]
     },
     "execution_count": 447,
     "metadata": {},
     "output_type": "execute_result"
    }
   ],
   "execution_count": 447
  },
  {
   "metadata": {
    "ExecuteTime": {
     "end_time": "2025-06-03T04:48:36.723965Z",
     "start_time": "2025-06-03T04:48:36.720485Z"
    }
   },
   "cell_type": "code",
   "source": [
    "# Obtain Weights\n",
    "p_weights = markowitz_weights(\n",
    "    expected_returns, \n",
    "    covariance_matrix,\n",
    "    0.0015\n",
    ")"
   ],
   "id": "e1160f3b50ea8901",
   "outputs": [],
   "execution_count": 555
  },
  {
   "metadata": {
    "ExecuteTime": {
     "end_time": "2025-06-03T04:48:37.152853Z",
     "start_time": "2025-06-03T04:48:37.144245Z"
    }
   },
   "cell_type": "code",
   "source": [
    "# Create a Portfolio Weights DF\n",
    "portfolio_weights = pd.Series(\n",
    "    p_weights,\n",
    "    index = portfolio_holdings_df.columns,\n",
    "    name = 'weights'\n",
    ")\n",
    "\n",
    "portfolio_weights"
   ],
   "id": "5e19cc1d7f85cc98",
   "outputs": [
    {
     "data": {
      "text/plain": [
       "AAPL    0.265401\n",
       "AMZN    0.237189\n",
       "META   -0.138590\n",
       "MSFT    0.236767\n",
       "NVDA    0.399233\n",
       "Name: weights, dtype: float64"
      ]
     },
     "execution_count": 556,
     "metadata": {},
     "output_type": "execute_result"
    }
   ],
   "execution_count": 556
  },
  {
   "metadata": {
    "ExecuteTime": {
     "end_time": "2025-06-03T04:48:37.799933Z",
     "start_time": "2025-06-03T04:48:37.795554Z"
    }
   },
   "cell_type": "code",
   "source": [
    "# Portfolio Returns\n",
    "portfolio_returns = portfolio_holdings_df @ p_weights\n",
    "portfolio_returns.name = 'portfolio_returns'\n",
    "\n",
    "portfolio_returns"
   ],
   "id": "707d65c56e952d28",
   "outputs": [
    {
     "data": {
      "text/plain": [
       "Date\n",
       "2015-01-05   -0.019245\n",
       "2015-01-06   -0.019366\n",
       "2015-01-07    0.008144\n",
       "2015-01-08    0.029583\n",
       "2015-01-09   -0.002130\n",
       "                ...   \n",
       "2024-12-24    0.009162\n",
       "2024-12-26   -0.001717\n",
       "2024-12-27   -0.018747\n",
       "2024-12-30   -0.005920\n",
       "2024-12-31   -0.013851\n",
       "Name: portfolio_returns, Length: 2515, dtype: float64"
      ]
     },
     "execution_count": 557,
     "metadata": {},
     "output_type": "execute_result"
    }
   ],
   "execution_count": 557
  },
  {
   "metadata": {
    "ExecuteTime": {
     "end_time": "2025-06-03T04:48:38.986745Z",
     "start_time": "2025-06-03T04:48:38.829562Z"
    }
   },
   "cell_type": "code",
   "source": [
    "# Create Plot\n",
    "plt.figure(figsize=(10, 6))\n",
    "plt.plot(portfolio_holdings_df.cumsum(), label=portfolio_holdings_df.columns, alpha=1)\n",
    "plt.plot(portfolio_returns.cumsum(), label='Portfolio', alpha=1)\n",
    "\n",
    "# Config\n",
    "plt.title('Returns Time Series')\n",
    "plt.xlabel('Time')\n",
    "plt.ylabel('Returns')\n",
    "plt.legend()\n",
    "plt.grid()\n",
    "\n",
    "# Show\n",
    "plt.show() "
   ],
   "id": "1708c832a8a2a365",
   "outputs": [
    {
     "data": {
      "text/plain": [
       "<Figure size 1000x600 with 1 Axes>"
      ],
      "image/png": "[encoded data removed]"
     },
     "metadata": {},
     "output_type": "display_data"
    }
   ],
   "execution_count": 558
  },
  {
   "metadata": {},
   "cell_type": "markdown",
   "source": "### Obtaining a Benchmark ###",
   "id": "41fb88059908ba33"
  },
  {
   "metadata": {
    "ExecuteTime": {
     "end_time": "2025-06-03T05:00:14.034340Z",
     "start_time": "2025-06-03T05:00:13.989326Z"
    }
   },
   "cell_type": "code",
   "source": [
    "# Download Benchmark Data\n",
    "benchmark_data = import_daily_financial_data(\n",
    "        ticker='IWY', \n",
    "        start_date='2015-01-01', \n",
    "        end_date='2025-01-01', \n",
    "        returns=True\n",
    "    )\n",
    "\n",
    "# Returns\n",
    "benchmark_returns = benchmark_data['returns']\n",
    "\n",
    "benchmark_returns"
   ],
   "id": "fcef53badb88b5ee",
   "outputs": [
    {
     "name": "stderr",
     "output_type": "stream",
     "text": [
      "[*********************100%***********************]  1 of 1 completed\n"
     ]
    },
    {
     "data": {
      "text/plain": [
       "Date\n",
       "2015-01-05   -0.016821\n",
       "2015-01-06   -0.009332\n",
       "2015-01-07    0.012760\n",
       "2015-01-08    0.018345\n",
       "2015-01-09   -0.007537\n",
       "                ...   \n",
       "2024-12-24    0.013657\n",
       "2024-12-26   -0.001805\n",
       "2024-12-27   -0.014681\n",
       "2024-12-30   -0.012155\n",
       "2024-12-31   -0.007917\n",
       "Name: returns, Length: 2515, dtype: float64"
      ]
     },
     "execution_count": 623,
     "metadata": {},
     "output_type": "execute_result"
    }
   ],
   "execution_count": 623
  },
  {
   "metadata": {
    "ExecuteTime": {
     "end_time": "2025-06-03T05:00:14.274285Z",
     "start_time": "2025-06-03T05:00:14.263842Z"
    }
   },
   "cell_type": "code",
   "source": [
    "# Get the returns of each stock of our portfolio but in the IWY\n",
    "iwy_weights = pd.Series(\n",
    "    [9.65, 6.66, 4.34, 11.28, 10.47],\n",
    "    index = portfolio_holdings_df.columns,\n",
    "    name = 'weights'\n",
    ")\n",
    "\n",
    "#iwy_weights = iwy_weights/iwy_weights.sum()\n",
    "iwy_weights = iwy_weights/100\n",
    "iwy_weights"
   ],
   "id": "b02816ce728e9f86",
   "outputs": [
    {
     "data": {
      "text/plain": [
       "AAPL    0.0965\n",
       "AMZN    0.0666\n",
       "META    0.0434\n",
       "MSFT    0.1128\n",
       "NVDA    0.1047\n",
       "Name: weights, dtype: float64"
      ]
     },
     "execution_count": 624,
     "metadata": {},
     "output_type": "execute_result"
    }
   ],
   "execution_count": 624
  },
  {
   "metadata": {
    "ExecuteTime": {
     "end_time": "2025-06-03T05:00:14.703184Z",
     "start_time": "2025-06-03T05:00:14.699917Z"
    }
   },
   "cell_type": "code",
   "source": [
    "# Build the Benchmark Returns\n",
    "#benchmark_returns = portfolio_holdings_df @ iwy_weights\n",
    "#benchmark_returns.name = 'benchmark_returns'\n",
    "\n",
    "# benchmark_returns"
   ],
   "id": "b37f9d79390da16d",
   "outputs": [],
   "execution_count": 625
  },
  {
   "metadata": {
    "ExecuteTime": {
     "end_time": "2025-06-03T05:00:15.296456Z",
     "start_time": "2025-06-03T05:00:15.142503Z"
    }
   },
   "cell_type": "code",
   "source": [
    "# Create Plot\n",
    "plt.figure(figsize=(10, 6))\n",
    "plt.plot(benchmark_returns.cumsum(), label='Benchmark', alpha=1)\n",
    "plt.plot(portfolio_returns.cumsum(), label='Portfolio', alpha=1)\n",
    "\n",
    "# Config\n",
    "plt.title('Returns Time Series')\n",
    "plt.xlabel('Time')\n",
    "plt.ylabel('Returns')\n",
    "plt.legend()\n",
    "plt.grid()\n",
    "\n",
    "# Show\n",
    "plt.show() "
   ],
   "id": "c948b4a8a014fba3",
   "outputs": [
    {
     "data": {
      "text/plain": [
       "<Figure size 1000x600 with 1 Axes>"
      ],
      "image/png": "[encoded data removed]"
     },
     "metadata": {},
     "output_type": "display_data"
    }
   ],
   "execution_count": 626
  },
  {
   "metadata": {
    "ExecuteTime": {
     "end_time": "2025-06-03T05:00:15.765751Z",
     "start_time": "2025-06-03T05:00:15.762033Z"
    }
   },
   "cell_type": "code",
   "source": [
    "# Calculate the Mean Returns\n",
    "portfolio_mean_returns = portfolio_returns.mean()\n",
    "benchmark_mean_returns = benchmark_returns.mean()\n",
    "\n",
    "print(portfolio_mean_returns)\n",
    "print(benchmark_mean_returns)"
   ],
   "id": "1403b685a9696dd5",
   "outputs": [
    {
     "name": "stdout",
     "output_type": "stream",
     "text": [
      "0.0015000000000000002\n",
      "0.0006544385957966103\n"
     ]
    }
   ],
   "execution_count": 627
  },
  {
   "metadata": {
    "ExecuteTime": {
     "end_time": "2025-06-03T05:00:16.241080Z",
     "start_time": "2025-06-03T05:00:16.235700Z"
    }
   },
   "cell_type": "code",
   "source": [
    "# Calculate the Excess Returns\n",
    "excess_returns = portfolio_mean_returns - benchmark_mean_returns\n",
    "\n",
    "excess_returns"
   ],
   "id": "42667421be7b27f7",
   "outputs": [
    {
     "data": {
      "text/plain": [
       "0.0008455614042033899"
      ]
     },
     "execution_count": 628,
     "metadata": {},
     "output_type": "execute_result"
    }
   ],
   "execution_count": 628
  },
  {
   "metadata": {},
   "cell_type": "markdown",
   "source": "### Brinson-Fachler Model ###",
   "id": "34246583c6ae468d"
  },
  {
   "metadata": {
    "ExecuteTime": {
     "end_time": "2025-06-03T05:00:17.003947Z",
     "start_time": "2025-06-03T05:00:16.998928Z"
    }
   },
   "cell_type": "code",
   "source": [
    "# Calculate the Brinson-Fachler Allocation Effect\n",
    "allocation_effect = (portfolio_weights - iwy_weights) * benchmark_mean_returns\n",
    "allocation_effect.name = 'allocation_effect'\n",
    "\n",
    "allocation_effect"
   ],
   "id": "b8f2de0cef5b7cd4",
   "outputs": [
    {
     "data": {
      "text/plain": [
       "AAPL    0.000111\n",
       "AMZN    0.000112\n",
       "META   -0.000119\n",
       "MSFT    0.000081\n",
       "NVDA    0.000193\n",
       "Name: allocation_effect, dtype: float64"
      ]
     },
     "execution_count": 629,
     "metadata": {},
     "output_type": "execute_result"
    }
   ],
   "execution_count": 629
  },
  {
   "metadata": {
    "ExecuteTime": {
     "end_time": "2025-06-03T05:00:17.469856Z",
     "start_time": "2025-06-03T05:00:17.463810Z"
    }
   },
   "cell_type": "code",
   "source": [
    "# Calculate the Brinson-Fachler Selection Effect\n",
    "selection_effect = iwy_weights * (expected_returns - benchmark_mean_returns)\n",
    "selection_effect.name = 'selection_effect'\n",
    "\n",
    "selection_effect"
   ],
   "id": "7b71611f755f35d8",
   "outputs": [
    {
     "data": {
      "text/plain": [
       "AAPL    0.000026\n",
       "AMZN    0.000027\n",
       "META    0.000006\n",
       "MSFT    0.000032\n",
       "NVDA    0.000166\n",
       "Name: selection_effect, dtype: float64"
      ]
     },
     "execution_count": 630,
     "metadata": {},
     "output_type": "execute_result"
    }
   ],
   "execution_count": 630
  },
  {
   "metadata": {
    "ExecuteTime": {
     "end_time": "2025-06-03T05:00:17.943463Z",
     "start_time": "2025-06-03T05:00:17.938043Z"
    }
   },
   "cell_type": "code",
   "source": [
    "# Calculate the Brinson-Fachler Intersection Effect\n",
    "interaction_effect = (portfolio_weights - iwy_weights) * (expected_returns - benchmark_mean_returns)\n",
    "interaction_effect.name = 'interaction_effect'\n",
    "\n",
    "interaction_effect"
   ],
   "id": "d706ac14c3aa4e9f",
   "outputs": [
    {
     "data": {
      "text/plain": [
       "AAPL    0.000046\n",
       "AMZN    0.000068\n",
       "META   -0.000027\n",
       "MSFT    0.000035\n",
       "NVDA    0.000466\n",
       "Name: interaction_effect, dtype: float64"
      ]
     },
     "execution_count": 631,
     "metadata": {},
     "output_type": "execute_result"
    }
   ],
   "execution_count": 631
  },
  {
   "metadata": {
    "ExecuteTime": {
     "end_time": "2025-06-03T05:00:18.475698Z",
     "start_time": "2025-06-03T05:00:18.469770Z"
    }
   },
   "cell_type": "code",
   "source": [
    "# Calculate the Total Effect\n",
    "bf_total_attribution = (\n",
    "        allocation_effect + \n",
    "        selection_effect +\n",
    "        interaction_effect\n",
    ")\n",
    "\n",
    "bf_total_attribution.name = 'bf_total_attribution'\n",
    "\n",
    "bf_total_attribution"
   ],
   "id": "6bdf3608167549a1",
   "outputs": [
    {
     "data": {
      "text/plain": [
       "AAPL    0.000183\n",
       "AMZN    0.000207\n",
       "META   -0.000139\n",
       "MSFT    0.000148\n",
       "NVDA    0.000825\n",
       "Name: bf_total_attribution, dtype: float64"
      ]
     },
     "execution_count": 632,
     "metadata": {},
     "output_type": "execute_result"
    }
   ],
   "execution_count": 632
  },
  {
   "metadata": {
    "ExecuteTime": {
     "end_time": "2025-06-03T05:00:19.022002Z",
     "start_time": "2025-06-03T05:00:19.013464Z"
    }
   },
   "cell_type": "code",
   "source": [
    "# Show\n",
    "brinson_fachler_df = pd.DataFrame({\n",
    "    'allocation': allocation_effect,\n",
    "    'selection': selection_effect,\n",
    "    'interaction': interaction_effect,\n",
    "    'total': bf_total_attribution\n",
    "})\n",
    "\n",
    "brinson_fachler_df"
   ],
   "id": "fbffb5afe39d1e95",
   "outputs": [
    {
     "data": {
      "text/plain": [
       "      allocation  selection  interaction     total\n",
       "AAPL    0.000111   0.000026     0.000046  0.000183\n",
       "AMZN    0.000112   0.000027     0.000068  0.000207\n",
       "META   -0.000119   0.000006    -0.000027 -0.000139\n",
       "MSFT    0.000081   0.000032     0.000035  0.000148\n",
       "NVDA    0.000193   0.000166     0.000466  0.000825"
      ],
      "text/html": [
       "<div>\n",
       "<style scoped>\n",
       "    .dataframe tbody tr th:only-of-type {\n",
       "        vertical-align: middle;\n",
       "    }\n",
       "\n",
       "    .dataframe tbody tr th {\n",
       "        vertical-align: top;\n",
       "    }\n",
       "\n",
       "    .dataframe thead th {\n",
       "        text-align: right;\n",
       "    }\n",
       "</style>\n",
       "<table border=\"1\" class=\"dataframe\">\n",
       "  <thead>\n",
       "    <tr style=\"text-align: right;\">\n",
       "      <th></th>\n",
       "      <th>allocation</th>\n",
       "      <th>selection</th>\n",
       "      <th>interaction</th>\n",
       "      <th>total</th>\n",
       "    </tr>\n",
       "  </thead>\n",
       "  <tbody>\n",
       "    <tr>\n",
       "      <th>AAPL</th>\n",
       "      <td>0.000111</td>\n",
       "      <td>0.000026</td>\n",
       "      <td>0.000046</td>\n",
       "      <td>0.000183</td>\n",
       "    </tr>\n",
       "    <tr>\n",
       "      <th>AMZN</th>\n",
       "      <td>0.000112</td>\n",
       "      <td>0.000027</td>\n",
       "      <td>0.000068</td>\n",
       "      <td>0.000207</td>\n",
       "    </tr>\n",
       "    <tr>\n",
       "      <th>META</th>\n",
       "      <td>-0.000119</td>\n",
       "      <td>0.000006</td>\n",
       "      <td>-0.000027</td>\n",
       "      <td>-0.000139</td>\n",
       "    </tr>\n",
       "    <tr>\n",
       "      <th>MSFT</th>\n",
       "      <td>0.000081</td>\n",
       "      <td>0.000032</td>\n",
       "      <td>0.000035</td>\n",
       "      <td>0.000148</td>\n",
       "    </tr>\n",
       "    <tr>\n",
       "      <th>NVDA</th>\n",
       "      <td>0.000193</td>\n",
       "      <td>0.000166</td>\n",
       "      <td>0.000466</td>\n",
       "      <td>0.000825</td>\n",
       "    </tr>\n",
       "  </tbody>\n",
       "</table>\n",
       "</div>"
      ]
     },
     "execution_count": 633,
     "metadata": {},
     "output_type": "execute_result"
    }
   ],
   "execution_count": 633
  },
  {
   "metadata": {
    "ExecuteTime": {
     "end_time": "2025-06-03T05:00:19.529159Z",
     "start_time": "2025-06-03T05:00:19.523996Z"
    }
   },
   "cell_type": "code",
   "source": "brinson_fachler_df.sum().round(6)",
   "id": "e0fb244609eb8ca3",
   "outputs": [
    {
     "data": {
      "text/plain": [
       "allocation     0.000377\n",
       "selection      0.000257\n",
       "interaction    0.000589\n",
       "total          0.001223\n",
       "dtype: float64"
      ]
     },
     "execution_count": 634,
     "metadata": {},
     "output_type": "execute_result"
    }
   ],
   "execution_count": 634
  },
  {
   "metadata": {
    "ExecuteTime": {
     "end_time": "2025-06-03T05:00:20.481247Z",
     "start_time": "2025-06-03T05:00:20.475371Z"
    }
   },
   "cell_type": "code",
   "source": [
    "# Divide the DataFrame by the Excess Return\n",
    "norm_brinson_fachler_df = (brinson_fachler_df/brinson_fachler_df['total'].sum()) * 100\n",
    "\n",
    "norm_brinson_fachler_df"
   ],
   "id": "3133e8ba1d3579e2",
   "outputs": [
    {
     "data": {
      "text/plain": [
       "      allocation  selection  interaction      total\n",
       "AAPL    9.041625   2.149337     3.761925  14.952887\n",
       "AMZN    9.131960   2.185355     5.597552  16.914867\n",
       "META   -9.742279   0.519340    -2.177754 -11.400693\n",
       "MSFT    6.636185   2.587271     2.843398  12.066854\n",
       "NVDA   15.766952  13.558242    38.140890  67.466085"
      ],
      "text/html": [
       "<div>\n",
       "<style scoped>\n",
       "    .dataframe tbody tr th:only-of-type {\n",
       "        vertical-align: middle;\n",
       "    }\n",
       "\n",
       "    .dataframe tbody tr th {\n",
       "        vertical-align: top;\n",
       "    }\n",
       "\n",
       "    .dataframe thead th {\n",
       "        text-align: right;\n",
       "    }\n",
       "</style>\n",
       "<table border=\"1\" class=\"dataframe\">\n",
       "  <thead>\n",
       "    <tr style=\"text-align: right;\">\n",
       "      <th></th>\n",
       "      <th>allocation</th>\n",
       "      <th>selection</th>\n",
       "      <th>interaction</th>\n",
       "      <th>total</th>\n",
       "    </tr>\n",
       "  </thead>\n",
       "  <tbody>\n",
       "    <tr>\n",
       "      <th>AAPL</th>\n",
       "      <td>9.041625</td>\n",
       "      <td>2.149337</td>\n",
       "      <td>3.761925</td>\n",
       "      <td>14.952887</td>\n",
       "    </tr>\n",
       "    <tr>\n",
       "      <th>AMZN</th>\n",
       "      <td>9.131960</td>\n",
       "      <td>2.185355</td>\n",
       "      <td>5.597552</td>\n",
       "      <td>16.914867</td>\n",
       "    </tr>\n",
       "    <tr>\n",
       "      <th>META</th>\n",
       "      <td>-9.742279</td>\n",
       "      <td>0.519340</td>\n",
       "      <td>-2.177754</td>\n",
       "      <td>-11.400693</td>\n",
       "    </tr>\n",
       "    <tr>\n",
       "      <th>MSFT</th>\n",
       "      <td>6.636185</td>\n",
       "      <td>2.587271</td>\n",
       "      <td>2.843398</td>\n",
       "      <td>12.066854</td>\n",
       "    </tr>\n",
       "    <tr>\n",
       "      <th>NVDA</th>\n",
       "      <td>15.766952</td>\n",
       "      <td>13.558242</td>\n",
       "      <td>38.140890</td>\n",
       "      <td>67.466085</td>\n",
       "    </tr>\n",
       "  </tbody>\n",
       "</table>\n",
       "</div>"
      ]
     },
     "execution_count": 635,
     "metadata": {},
     "output_type": "execute_result"
    }
   ],
   "execution_count": 635
  },
  {
   "metadata": {
    "ExecuteTime": {
     "end_time": "2025-06-03T05:00:21.215680Z",
     "start_time": "2025-06-03T05:00:21.210304Z"
    }
   },
   "cell_type": "code",
   "source": "norm_brinson_fachler_df.sum().round(2)",
   "id": "7422451aba8f973a",
   "outputs": [
    {
     "data": {
      "text/plain": [
       "allocation      30.83\n",
       "selection       21.00\n",
       "interaction     48.17\n",
       "total          100.00\n",
       "dtype: float64"
      ]
     },
     "execution_count": 636,
     "metadata": {},
     "output_type": "execute_result"
    }
   ],
   "execution_count": 636
  },
  {
   "metadata": {
    "ExecuteTime": {
     "end_time": "2025-06-03T05:01:29.087658Z",
     "start_time": "2025-06-03T05:01:28.988634Z"
    }
   },
   "cell_type": "code",
   "source": [
    "# Plotting individual attribution effects per asset\n",
    "fig, ax = plt.subplots()\n",
    "\n",
    "bar_width = 0.2\n",
    "x = np.arange(len(norm_brinson_fachler_df))\n",
    "\n",
    "# Plot each component\n",
    "ax.bar(x - bar_width, norm_brinson_fachler_df[\"allocation\"], width=bar_width, label=\"Allocation\")\n",
    "ax.bar(x, norm_brinson_fachler_df[\"selection\"], width=bar_width, label=\"Selection\")\n",
    "ax.bar(x + bar_width, norm_brinson_fachler_df[\"interaction\"], width=bar_width, label=\"Interaction\")\n",
    "\n",
    "# Formatting\n",
    "ax.set_xticks(x)\n",
    "ax.set_xticklabels(norm_brinson_fachler_df.index)\n",
    "ax.set_ylabel(\"Attribution Effect (bps)\")\n",
    "ax.set_title(\"Brinson-Fachler Attribution by Asset\")\n",
    "ax.legend()\n",
    "ax.axhline(0, color=\"gray\", linewidth=0.8)\n",
    "\n",
    "plt.tight_layout()\n",
    "plt.show()"
   ],
   "id": "9571ad9b74789aa9",
   "outputs": [
    {
     "data": {
      "text/plain": [
       "<Figure size 640x480 with 1 Axes>"
      ],
      "image/png": "[encoded data removed]"
     },
     "metadata": {},
     "output_type": "display_data"
    }
   ],
   "execution_count": 638
  },
  {
   "metadata": {},
   "cell_type": "code",
   "outputs": [],
   "execution_count": null,
   "source": "",
   "id": "6ac6b328d07371e8"
  }
 ],
 "metadata": {
  "kernelspec": {
   "display_name": "Python 3",
   "language": "python",
   "name": "python3"
  },
  "language_info": {
   "codemirror_mode": {
    "name": "ipython",
    "version": 2
   },
   "file_extension": ".py",
   "mimetype": "text/x-python",
   "name": "python",
   "nbconvert_exporter": "python",
   "pygments_lexer": "ipython2",
   "version": "2.7.6"
  }
 },
 "nbformat": 4,
 "nbformat_minor": 5
}
