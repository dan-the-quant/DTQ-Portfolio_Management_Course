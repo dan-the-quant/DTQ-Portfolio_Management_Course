{
 "cells": [
  {
   "metadata": {},
   "cell_type": "markdown",
   "source": "# The Brinson-Fachler Model #",
   "id": "df459061cb06683c"
  },
  {
   "metadata": {
    "ExecuteTime": {
     "end_time": "2025-06-09T08:16:43.445118Z",
     "start_time": "2025-06-09T08:16:38.813531Z"
    }
   },
   "cell_type": "code",
   "source": [
    "# Import Libraries\n",
    "\n",
    "# Data Management\n",
    "import pandas as pd\n",
    "import numpy as np\n",
    "\n",
    "# Plots\n",
    "import matplotlib.pyplot as plt\n",
    "\n",
    "# Statistics\n",
    "import statsmodels.api as sm\n",
    "from scipy.stats import norm\n",
    "\n",
    "# Handle Files\n",
    "import sys\n",
    "import os\n",
    "\n",
    "# Import Local Functions\n",
    "sys.path.append(os.path.abspath(\"../source\"))\n",
    "from functions import import_daily_financial_data\n",
    "from portfolios_toolkit import markowitz_weights"
   ],
   "id": "initial_id",
   "outputs": [],
   "execution_count": 1
  },
  {
   "metadata": {},
   "cell_type": "markdown",
   "source": "### Building a Portfolio ###",
   "id": "6f533cf52687c534"
  },
  {
   "metadata": {
    "ExecuteTime": {
     "end_time": "2025-06-09T08:16:43.646190Z",
     "start_time": "2025-06-09T08:16:43.445118Z"
    }
   },
   "cell_type": "code",
   "source": [
    "# Import the Returns Data\n",
    "returns_df = pd.read_csv(r'..\\additional_data\\stocks_returns.csv')\n",
    "returns_df.rename(columns={'Unnamed: 0': 'Date'}, inplace=True)\n",
    "returns_df.set_index('Date', inplace=True)\n",
    "returns_df.index = pd.to_datetime(returns_df.index)\n",
    "\n",
    "returns_df"
   ],
   "id": "ef1d272a39d216ae",
   "outputs": [
    {
     "data": {
      "text/plain": [
       "                   A      AAPL      ABBV       ABT      ADBE       ADI  \\\n",
       "Date                                                                     \n",
       "2015-01-05 -0.018915 -0.028576 -0.018998  0.000222 -0.004989 -0.018352   \n",
       "2015-01-06 -0.015700  0.000094 -0.004962 -0.011421 -0.020350 -0.023753   \n",
       "2015-01-07  0.013184  0.013925  0.039621  0.008076  0.008190  0.010462   \n",
       "2015-01-08  0.029534  0.037702  0.010404  0.020345  0.025135  0.017501   \n",
       "2015-01-09 -0.007364  0.001072 -0.027736 -0.010563 -0.014922 -0.000731   \n",
       "...              ...       ...       ...       ...       ...       ...   \n",
       "2024-12-24  0.011083  0.011413  0.008985  0.003929  0.002683  0.014782   \n",
       "2024-12-26 -0.001986  0.003171 -0.004454  0.004434  0.004944 -0.000138   \n",
       "2024-12-27 -0.002137 -0.013331 -0.006663 -0.002432 -0.008208 -0.004919   \n",
       "2024-12-30 -0.008298 -0.013352 -0.010220 -0.019229 -0.001524 -0.020627   \n",
       "2024-12-31  0.001251 -0.007083  0.008477  0.002744 -0.002515 -0.000471   \n",
       "\n",
       "                 ADM       ADP      ADSK       AEE  ...       WST        WY  \\\n",
       "Date                                                ...                       \n",
       "2015-01-05 -0.035215 -0.000721 -0.014722 -0.010052  ... -0.013900  0.000000   \n",
       "2015-01-06 -0.019911 -0.008324 -0.019973 -0.011709  ... -0.017255 -0.001108   \n",
       "2015-01-07  0.014920  0.008685 -0.002089  0.007747  ...  0.016088  0.003045   \n",
       "2015-01-08 -0.014717  0.022681  0.024446  0.003522  ...  0.019467  0.010722   \n",
       "2015-01-09 -0.008566 -0.007188 -0.009054 -0.011270  ... -0.011519 -0.001368   \n",
       "...              ...       ...       ...       ...  ...       ...       ...   \n",
       "2024-12-24  0.004355  0.007822  0.012494  0.013291  ...  0.009663  0.006390   \n",
       "2024-12-26 -0.000395  0.002594 -0.003159 -0.002203  ...  0.001981 -0.003190   \n",
       "2024-12-27 -0.000593 -0.003539 -0.008999 -0.006305  ... -0.000630 -0.006410   \n",
       "2024-12-30 -0.010134 -0.010897 -0.000202 -0.005564  ... -0.013292 -0.003579   \n",
       "2024-12-31  0.008947 -0.000819 -0.006609 -0.005370  ... -0.003839  0.009279   \n",
       "\n",
       "                WYNN       XEL       XOM       XYL       YUM       ZBH  \\\n",
       "Date                                                                     \n",
       "2015-01-05 -0.017166 -0.011416 -0.027743 -0.064259 -0.020527  0.036625   \n",
       "2015-01-06 -0.021562  0.005306 -0.005330 -0.005898 -0.012351 -0.008513   \n",
       "2015-01-07  0.028945  0.008598  0.010081  0.007857  0.032601  0.024566   \n",
       "2015-01-08  0.011959  0.011532  0.016508  0.007517  0.017270  0.010561   \n",
       "2015-01-09  0.012422 -0.012361 -0.001411 -0.019043 -0.001768 -0.014529   \n",
       "...              ...       ...       ...       ...       ...       ...   \n",
       "2024-12-24  0.007575  0.007210  0.000940  0.005432  0.008480  0.004484   \n",
       "2024-12-26  0.005952 -0.000440  0.000845  0.002705  0.007380 -0.000466   \n",
       "2024-12-27 -0.007079 -0.000587 -0.000094 -0.007966 -0.005678 -0.003549   \n",
       "2024-12-30 -0.032666 -0.008104 -0.006785 -0.010693 -0.012726 -0.011602   \n",
       "2024-12-31  0.003837 -0.001036  0.016969 -0.002238  0.004782  0.002180   \n",
       "\n",
       "                ZBRA       ZTS  \n",
       "Date                            \n",
       "2015-01-05 -0.014177 -0.006022  \n",
       "2015-01-06 -0.007231 -0.009804  \n",
       "2015-01-07  0.025146  0.020432  \n",
       "2015-01-08  0.021134  0.015282  \n",
       "2015-01-09  0.014508  0.001583  \n",
       "...              ...       ...  \n",
       "2024-12-24  0.012187  0.002553  \n",
       "2024-12-26  0.003559  0.004966  \n",
       "2024-12-27 -0.019799 -0.005574  \n",
       "2024-12-30 -0.013507 -0.014442  \n",
       "2024-12-31  0.006155  0.004244  \n",
       "\n",
       "[2515 rows x 399 columns]"
      ],
      "text/html": [
       "<div>\n",
       "<style scoped>\n",
       "    .dataframe tbody tr th:only-of-type {\n",
       "        vertical-align: middle;\n",
       "    }\n",
       "\n",
       "    .dataframe tbody tr th {\n",
       "        vertical-align: top;\n",
       "    }\n",
       "\n",
       "    .dataframe thead th {\n",
       "        text-align: right;\n",
       "    }\n",
       "</style>\n",
       "<table border=\"1\" class=\"dataframe\">\n",
       "  <thead>\n",
       "    <tr style=\"text-align: right;\">\n",
       "      <th></th>\n",
       "      <th>A</th>\n",
       "      <th>AAPL</th>\n",
       "      <th>ABBV</th>\n",
       "      <th>ABT</th>\n",
       "      <th>ADBE</th>\n",
       "      <th>ADI</th>\n",
       "      <th>ADM</th>\n",
       "      <th>ADP</th>\n",
       "      <th>ADSK</th>\n",
       "      <th>AEE</th>\n",
       "      <th>...</th>\n",
       "      <th>WST</th>\n",
       "      <th>WY</th>\n",
       "      <th>WYNN</th>\n",
       "      <th>XEL</th>\n",
       "      <th>XOM</th>\n",
       "      <th>XYL</th>\n",
       "      <th>YUM</th>\n",
       "      <th>ZBH</th>\n",
       "      <th>ZBRA</th>\n",
       "      <th>ZTS</th>\n",
       "    </tr>\n",
       "    <tr>\n",
       "      <th>Date</th>\n",
       "      <th></th>\n",
       "      <th></th>\n",
       "      <th></th>\n",
       "      <th></th>\n",
       "      <th></th>\n",
       "      <th></th>\n",
       "      <th></th>\n",
       "      <th></th>\n",
       "      <th></th>\n",
       "      <th></th>\n",
       "      <th></th>\n",
       "      <th></th>\n",
       "      <th></th>\n",
       "      <th></th>\n",
       "      <th></th>\n",
       "      <th></th>\n",
       "      <th></th>\n",
       "      <th></th>\n",
       "      <th></th>\n",
       "      <th></th>\n",
       "      <th></th>\n",
       "    </tr>\n",
       "  </thead>\n",
       "  <tbody>\n",
       "    <tr>\n",
       "      <th>2015-01-05</th>\n",
       "      <td>-0.018915</td>\n",
       "      <td>-0.028576</td>\n",
       "      <td>-0.018998</td>\n",
       "      <td>0.000222</td>\n",
       "      <td>-0.004989</td>\n",
       "      <td>-0.018352</td>\n",
       "      <td>-0.035215</td>\n",
       "      <td>-0.000721</td>\n",
       "      <td>-0.014722</td>\n",
       "      <td>-0.010052</td>\n",
       "      <td>...</td>\n",
       "      <td>-0.013900</td>\n",
       "      <td>0.000000</td>\n",
       "      <td>-0.017166</td>\n",
       "      <td>-0.011416</td>\n",
       "      <td>-0.027743</td>\n",
       "      <td>-0.064259</td>\n",
       "      <td>-0.020527</td>\n",
       "      <td>0.036625</td>\n",
       "      <td>-0.014177</td>\n",
       "      <td>-0.006022</td>\n",
       "    </tr>\n",
       "    <tr>\n",
       "      <th>2015-01-06</th>\n",
       "      <td>-0.015700</td>\n",
       "      <td>0.000094</td>\n",
       "      <td>-0.004962</td>\n",
       "      <td>-0.011421</td>\n",
       "      <td>-0.020350</td>\n",
       "      <td>-0.023753</td>\n",
       "      <td>-0.019911</td>\n",
       "      <td>-0.008324</td>\n",
       "      <td>-0.019973</td>\n",
       "      <td>-0.011709</td>\n",
       "      <td>...</td>\n",
       "      <td>-0.017255</td>\n",
       "      <td>-0.001108</td>\n",
       "      <td>-0.021562</td>\n",
       "      <td>0.005306</td>\n",
       "      <td>-0.005330</td>\n",
       "      <td>-0.005898</td>\n",
       "      <td>-0.012351</td>\n",
       "      <td>-0.008513</td>\n",
       "      <td>-0.007231</td>\n",
       "      <td>-0.009804</td>\n",
       "    </tr>\n",
       "    <tr>\n",
       "      <th>2015-01-07</th>\n",
       "      <td>0.013184</td>\n",
       "      <td>0.013925</td>\n",
       "      <td>0.039621</td>\n",
       "      <td>0.008076</td>\n",
       "      <td>0.008190</td>\n",
       "      <td>0.010462</td>\n",
       "      <td>0.014920</td>\n",
       "      <td>0.008685</td>\n",
       "      <td>-0.002089</td>\n",
       "      <td>0.007747</td>\n",
       "      <td>...</td>\n",
       "      <td>0.016088</td>\n",
       "      <td>0.003045</td>\n",
       "      <td>0.028945</td>\n",
       "      <td>0.008598</td>\n",
       "      <td>0.010081</td>\n",
       "      <td>0.007857</td>\n",
       "      <td>0.032601</td>\n",
       "      <td>0.024566</td>\n",
       "      <td>0.025146</td>\n",
       "      <td>0.020432</td>\n",
       "    </tr>\n",
       "    <tr>\n",
       "      <th>2015-01-08</th>\n",
       "      <td>0.029534</td>\n",
       "      <td>0.037702</td>\n",
       "      <td>0.010404</td>\n",
       "      <td>0.020345</td>\n",
       "      <td>0.025135</td>\n",
       "      <td>0.017501</td>\n",
       "      <td>-0.014717</td>\n",
       "      <td>0.022681</td>\n",
       "      <td>0.024446</td>\n",
       "      <td>0.003522</td>\n",
       "      <td>...</td>\n",
       "      <td>0.019467</td>\n",
       "      <td>0.010722</td>\n",
       "      <td>0.011959</td>\n",
       "      <td>0.011532</td>\n",
       "      <td>0.016508</td>\n",
       "      <td>0.007517</td>\n",
       "      <td>0.017270</td>\n",
       "      <td>0.010561</td>\n",
       "      <td>0.021134</td>\n",
       "      <td>0.015282</td>\n",
       "    </tr>\n",
       "    <tr>\n",
       "      <th>2015-01-09</th>\n",
       "      <td>-0.007364</td>\n",
       "      <td>0.001072</td>\n",
       "      <td>-0.027736</td>\n",
       "      <td>-0.010563</td>\n",
       "      <td>-0.014922</td>\n",
       "      <td>-0.000731</td>\n",
       "      <td>-0.008566</td>\n",
       "      <td>-0.007188</td>\n",
       "      <td>-0.009054</td>\n",
       "      <td>-0.011270</td>\n",
       "      <td>...</td>\n",
       "      <td>-0.011519</td>\n",
       "      <td>-0.001368</td>\n",
       "      <td>0.012422</td>\n",
       "      <td>-0.012361</td>\n",
       "      <td>-0.001411</td>\n",
       "      <td>-0.019043</td>\n",
       "      <td>-0.001768</td>\n",
       "      <td>-0.014529</td>\n",
       "      <td>0.014508</td>\n",
       "      <td>0.001583</td>\n",
       "    </tr>\n",
       "    <tr>\n",
       "      <th>...</th>\n",
       "      <td>...</td>\n",
       "      <td>...</td>\n",
       "      <td>...</td>\n",
       "      <td>...</td>\n",
       "      <td>...</td>\n",
       "      <td>...</td>\n",
       "      <td>...</td>\n",
       "      <td>...</td>\n",
       "      <td>...</td>\n",
       "      <td>...</td>\n",
       "      <td>...</td>\n",
       "      <td>...</td>\n",
       "      <td>...</td>\n",
       "      <td>...</td>\n",
       "      <td>...</td>\n",
       "      <td>...</td>\n",
       "      <td>...</td>\n",
       "      <td>...</td>\n",
       "      <td>...</td>\n",
       "      <td>...</td>\n",
       "      <td>...</td>\n",
       "    </tr>\n",
       "    <tr>\n",
       "      <th>2024-12-24</th>\n",
       "      <td>0.011083</td>\n",
       "      <td>0.011413</td>\n",
       "      <td>0.008985</td>\n",
       "      <td>0.003929</td>\n",
       "      <td>0.002683</td>\n",
       "      <td>0.014782</td>\n",
       "      <td>0.004355</td>\n",
       "      <td>0.007822</td>\n",
       "      <td>0.012494</td>\n",
       "      <td>0.013291</td>\n",
       "      <td>...</td>\n",
       "      <td>0.009663</td>\n",
       "      <td>0.006390</td>\n",
       "      <td>0.007575</td>\n",
       "      <td>0.007210</td>\n",
       "      <td>0.000940</td>\n",
       "      <td>0.005432</td>\n",
       "      <td>0.008480</td>\n",
       "      <td>0.004484</td>\n",
       "      <td>0.012187</td>\n",
       "      <td>0.002553</td>\n",
       "    </tr>\n",
       "    <tr>\n",
       "      <th>2024-12-26</th>\n",
       "      <td>-0.001986</td>\n",
       "      <td>0.003171</td>\n",
       "      <td>-0.004454</td>\n",
       "      <td>0.004434</td>\n",
       "      <td>0.004944</td>\n",
       "      <td>-0.000138</td>\n",
       "      <td>-0.000395</td>\n",
       "      <td>0.002594</td>\n",
       "      <td>-0.003159</td>\n",
       "      <td>-0.002203</td>\n",
       "      <td>...</td>\n",
       "      <td>0.001981</td>\n",
       "      <td>-0.003190</td>\n",
       "      <td>0.005952</td>\n",
       "      <td>-0.000440</td>\n",
       "      <td>0.000845</td>\n",
       "      <td>0.002705</td>\n",
       "      <td>0.007380</td>\n",
       "      <td>-0.000466</td>\n",
       "      <td>0.003559</td>\n",
       "      <td>0.004966</td>\n",
       "    </tr>\n",
       "    <tr>\n",
       "      <th>2024-12-27</th>\n",
       "      <td>-0.002137</td>\n",
       "      <td>-0.013331</td>\n",
       "      <td>-0.006663</td>\n",
       "      <td>-0.002432</td>\n",
       "      <td>-0.008208</td>\n",
       "      <td>-0.004919</td>\n",
       "      <td>-0.000593</td>\n",
       "      <td>-0.003539</td>\n",
       "      <td>-0.008999</td>\n",
       "      <td>-0.006305</td>\n",
       "      <td>...</td>\n",
       "      <td>-0.000630</td>\n",
       "      <td>-0.006410</td>\n",
       "      <td>-0.007079</td>\n",
       "      <td>-0.000587</td>\n",
       "      <td>-0.000094</td>\n",
       "      <td>-0.007966</td>\n",
       "      <td>-0.005678</td>\n",
       "      <td>-0.003549</td>\n",
       "      <td>-0.019799</td>\n",
       "      <td>-0.005574</td>\n",
       "    </tr>\n",
       "    <tr>\n",
       "      <th>2024-12-30</th>\n",
       "      <td>-0.008298</td>\n",
       "      <td>-0.013352</td>\n",
       "      <td>-0.010220</td>\n",
       "      <td>-0.019229</td>\n",
       "      <td>-0.001524</td>\n",
       "      <td>-0.020627</td>\n",
       "      <td>-0.010134</td>\n",
       "      <td>-0.010897</td>\n",
       "      <td>-0.000202</td>\n",
       "      <td>-0.005564</td>\n",
       "      <td>...</td>\n",
       "      <td>-0.013292</td>\n",
       "      <td>-0.003579</td>\n",
       "      <td>-0.032666</td>\n",
       "      <td>-0.008104</td>\n",
       "      <td>-0.006785</td>\n",
       "      <td>-0.010693</td>\n",
       "      <td>-0.012726</td>\n",
       "      <td>-0.011602</td>\n",
       "      <td>-0.013507</td>\n",
       "      <td>-0.014442</td>\n",
       "    </tr>\n",
       "    <tr>\n",
       "      <th>2024-12-31</th>\n",
       "      <td>0.001251</td>\n",
       "      <td>-0.007083</td>\n",
       "      <td>0.008477</td>\n",
       "      <td>0.002744</td>\n",
       "      <td>-0.002515</td>\n",
       "      <td>-0.000471</td>\n",
       "      <td>0.008947</td>\n",
       "      <td>-0.000819</td>\n",
       "      <td>-0.006609</td>\n",
       "      <td>-0.005370</td>\n",
       "      <td>...</td>\n",
       "      <td>-0.003839</td>\n",
       "      <td>0.009279</td>\n",
       "      <td>0.003837</td>\n",
       "      <td>-0.001036</td>\n",
       "      <td>0.016969</td>\n",
       "      <td>-0.002238</td>\n",
       "      <td>0.004782</td>\n",
       "      <td>0.002180</td>\n",
       "      <td>0.006155</td>\n",
       "      <td>0.004244</td>\n",
       "    </tr>\n",
       "  </tbody>\n",
       "</table>\n",
       "<p>2515 rows × 399 columns</p>\n",
       "</div>"
      ]
     },
     "execution_count": 2,
     "metadata": {},
     "output_type": "execute_result"
    }
   ],
   "execution_count": 2
  },
  {
   "metadata": {
    "ExecuteTime": {
     "end_time": "2025-06-09T08:16:43.658851Z",
     "start_time": "2025-06-09T08:16:43.646190Z"
    }
   },
   "cell_type": "code",
   "source": [
    "# Make the portfolio DataFrame\n",
    "portfolio_holdings_df = returns_df[['AAPL', 'AMZN', 'META', 'MSFT', 'NVDA']]\n",
    "portfolio_holdings_df = portfolio_holdings_df\n",
    "\n",
    "portfolio_holdings_df"
   ],
   "id": "13c4aeda52a68138",
   "outputs": [
    {
     "data": {
      "text/plain": [
       "                AAPL      AMZN      META      MSFT      NVDA\n",
       "Date                                                        \n",
       "2015-01-05 -0.028576 -0.020731 -0.016191 -0.009238 -0.017035\n",
       "2015-01-06  0.000094 -0.023098 -0.013565 -0.014786 -0.030788\n",
       "2015-01-07  0.013925  0.010544  0.000000  0.012625 -0.002609\n",
       "2015-01-08  0.037702  0.006813  0.026309  0.028994  0.036927\n",
       "2015-01-09  0.001072 -0.011818 -0.005644 -0.008441  0.004020\n",
       "...              ...       ...       ...       ...       ...\n",
       "2024-12-24  0.011413  0.017573  0.013084  0.009330  0.003930\n",
       "2024-12-26  0.003171 -0.008770 -0.007266 -0.002781 -0.002070\n",
       "2024-12-27 -0.013331 -0.014641 -0.005884 -0.017453 -0.021088\n",
       "2024-12-30 -0.013352 -0.011010 -0.014391 -0.013328  0.003497\n",
       "2024-12-31 -0.007083 -0.008668 -0.009739 -0.007869 -0.023550\n",
       "\n",
       "[2515 rows x 5 columns]"
      ],
      "text/html": [
       "<div>\n",
       "<style scoped>\n",
       "    .dataframe tbody tr th:only-of-type {\n",
       "        vertical-align: middle;\n",
       "    }\n",
       "\n",
       "    .dataframe tbody tr th {\n",
       "        vertical-align: top;\n",
       "    }\n",
       "\n",
       "    .dataframe thead th {\n",
       "        text-align: right;\n",
       "    }\n",
       "</style>\n",
       "<table border=\"1\" class=\"dataframe\">\n",
       "  <thead>\n",
       "    <tr style=\"text-align: right;\">\n",
       "      <th></th>\n",
       "      <th>AAPL</th>\n",
       "      <th>AMZN</th>\n",
       "      <th>META</th>\n",
       "      <th>MSFT</th>\n",
       "      <th>NVDA</th>\n",
       "    </tr>\n",
       "    <tr>\n",
       "      <th>Date</th>\n",
       "      <th></th>\n",
       "      <th></th>\n",
       "      <th></th>\n",
       "      <th></th>\n",
       "      <th></th>\n",
       "    </tr>\n",
       "  </thead>\n",
       "  <tbody>\n",
       "    <tr>\n",
       "      <th>2015-01-05</th>\n",
       "      <td>-0.028576</td>\n",
       "      <td>-0.020731</td>\n",
       "      <td>-0.016191</td>\n",
       "      <td>-0.009238</td>\n",
       "      <td>-0.017035</td>\n",
       "    </tr>\n",
       "    <tr>\n",
       "      <th>2015-01-06</th>\n",
       "      <td>0.000094</td>\n",
       "      <td>-0.023098</td>\n",
       "      <td>-0.013565</td>\n",
       "      <td>-0.014786</td>\n",
       "      <td>-0.030788</td>\n",
       "    </tr>\n",
       "    <tr>\n",
       "      <th>2015-01-07</th>\n",
       "      <td>0.013925</td>\n",
       "      <td>0.010544</td>\n",
       "      <td>0.000000</td>\n",
       "      <td>0.012625</td>\n",
       "      <td>-0.002609</td>\n",
       "    </tr>\n",
       "    <tr>\n",
       "      <th>2015-01-08</th>\n",
       "      <td>0.037702</td>\n",
       "      <td>0.006813</td>\n",
       "      <td>0.026309</td>\n",
       "      <td>0.028994</td>\n",
       "      <td>0.036927</td>\n",
       "    </tr>\n",
       "    <tr>\n",
       "      <th>2015-01-09</th>\n",
       "      <td>0.001072</td>\n",
       "      <td>-0.011818</td>\n",
       "      <td>-0.005644</td>\n",
       "      <td>-0.008441</td>\n",
       "      <td>0.004020</td>\n",
       "    </tr>\n",
       "    <tr>\n",
       "      <th>...</th>\n",
       "      <td>...</td>\n",
       "      <td>...</td>\n",
       "      <td>...</td>\n",
       "      <td>...</td>\n",
       "      <td>...</td>\n",
       "    </tr>\n",
       "    <tr>\n",
       "      <th>2024-12-24</th>\n",
       "      <td>0.011413</td>\n",
       "      <td>0.017573</td>\n",
       "      <td>0.013084</td>\n",
       "      <td>0.009330</td>\n",
       "      <td>0.003930</td>\n",
       "    </tr>\n",
       "    <tr>\n",
       "      <th>2024-12-26</th>\n",
       "      <td>0.003171</td>\n",
       "      <td>-0.008770</td>\n",
       "      <td>-0.007266</td>\n",
       "      <td>-0.002781</td>\n",
       "      <td>-0.002070</td>\n",
       "    </tr>\n",
       "    <tr>\n",
       "      <th>2024-12-27</th>\n",
       "      <td>-0.013331</td>\n",
       "      <td>-0.014641</td>\n",
       "      <td>-0.005884</td>\n",
       "      <td>-0.017453</td>\n",
       "      <td>-0.021088</td>\n",
       "    </tr>\n",
       "    <tr>\n",
       "      <th>2024-12-30</th>\n",
       "      <td>-0.013352</td>\n",
       "      <td>-0.011010</td>\n",
       "      <td>-0.014391</td>\n",
       "      <td>-0.013328</td>\n",
       "      <td>0.003497</td>\n",
       "    </tr>\n",
       "    <tr>\n",
       "      <th>2024-12-31</th>\n",
       "      <td>-0.007083</td>\n",
       "      <td>-0.008668</td>\n",
       "      <td>-0.009739</td>\n",
       "      <td>-0.007869</td>\n",
       "      <td>-0.023550</td>\n",
       "    </tr>\n",
       "  </tbody>\n",
       "</table>\n",
       "<p>2515 rows × 5 columns</p>\n",
       "</div>"
      ]
     },
     "execution_count": 3,
     "metadata": {},
     "output_type": "execute_result"
    }
   ],
   "execution_count": 3
  },
  {
   "metadata": {
    "ExecuteTime": {
     "end_time": "2025-06-09T08:16:43.668250Z",
     "start_time": "2025-06-09T08:16:43.661025Z"
    }
   },
   "cell_type": "code",
   "source": [
    "# Portfolio's Expected Returns\n",
    "expected_returns = portfolio_holdings_df.mean()\n",
    "\n",
    "expected_returns"
   ],
   "id": "6e61d73470728d9e",
   "outputs": [
    {
     "data": {
      "text/plain": [
       "AAPL    0.000927\n",
       "AMZN    0.001056\n",
       "META    0.000801\n",
       "MSFT    0.000935\n",
       "NVDA    0.002238\n",
       "dtype: float64"
      ]
     },
     "execution_count": 4,
     "metadata": {},
     "output_type": "execute_result"
    }
   ],
   "execution_count": 4
  },
  {
   "metadata": {
    "ExecuteTime": {
     "end_time": "2025-06-09T08:16:43.850673Z",
     "start_time": "2025-06-09T08:16:43.668250Z"
    }
   },
   "cell_type": "code",
   "source": [
    "# Covariance Matrix\n",
    "covariance_matrix = portfolio_holdings_df.cov()\n",
    "\n",
    "covariance_matrix"
   ],
   "id": "e66de58987385b56",
   "outputs": [
    {
     "data": {
      "text/plain": [
       "          AAPL      AMZN      META      MSFT      NVDA\n",
       "AAPL  0.000322  0.000205  0.000224  0.000210  0.000298\n",
       "AMZN  0.000205  0.000423  0.000290  0.000232  0.000324\n",
       "META  0.000224  0.000290  0.000569  0.000237  0.000349\n",
       "MSFT  0.000210  0.000232  0.000237  0.000292  0.000316\n",
       "NVDA  0.000298  0.000324  0.000349  0.000316  0.000923"
      ],
      "text/html": [
       "<div>\n",
       "<style scoped>\n",
       "    .dataframe tbody tr th:only-of-type {\n",
       "        vertical-align: middle;\n",
       "    }\n",
       "\n",
       "    .dataframe tbody tr th {\n",
       "        vertical-align: top;\n",
       "    }\n",
       "\n",
       "    .dataframe thead th {\n",
       "        text-align: right;\n",
       "    }\n",
       "</style>\n",
       "<table border=\"1\" class=\"dataframe\">\n",
       "  <thead>\n",
       "    <tr style=\"text-align: right;\">\n",
       "      <th></th>\n",
       "      <th>AAPL</th>\n",
       "      <th>AMZN</th>\n",
       "      <th>META</th>\n",
       "      <th>MSFT</th>\n",
       "      <th>NVDA</th>\n",
       "    </tr>\n",
       "  </thead>\n",
       "  <tbody>\n",
       "    <tr>\n",
       "      <th>AAPL</th>\n",
       "      <td>0.000322</td>\n",
       "      <td>0.000205</td>\n",
       "      <td>0.000224</td>\n",
       "      <td>0.000210</td>\n",
       "      <td>0.000298</td>\n",
       "    </tr>\n",
       "    <tr>\n",
       "      <th>AMZN</th>\n",
       "      <td>0.000205</td>\n",
       "      <td>0.000423</td>\n",
       "      <td>0.000290</td>\n",
       "      <td>0.000232</td>\n",
       "      <td>0.000324</td>\n",
       "    </tr>\n",
       "    <tr>\n",
       "      <th>META</th>\n",
       "      <td>0.000224</td>\n",
       "      <td>0.000290</td>\n",
       "      <td>0.000569</td>\n",
       "      <td>0.000237</td>\n",
       "      <td>0.000349</td>\n",
       "    </tr>\n",
       "    <tr>\n",
       "      <th>MSFT</th>\n",
       "      <td>0.000210</td>\n",
       "      <td>0.000232</td>\n",
       "      <td>0.000237</td>\n",
       "      <td>0.000292</td>\n",
       "      <td>0.000316</td>\n",
       "    </tr>\n",
       "    <tr>\n",
       "      <th>NVDA</th>\n",
       "      <td>0.000298</td>\n",
       "      <td>0.000324</td>\n",
       "      <td>0.000349</td>\n",
       "      <td>0.000316</td>\n",
       "      <td>0.000923</td>\n",
       "    </tr>\n",
       "  </tbody>\n",
       "</table>\n",
       "</div>"
      ]
     },
     "execution_count": 5,
     "metadata": {},
     "output_type": "execute_result"
    }
   ],
   "execution_count": 5
  },
  {
   "metadata": {
    "ExecuteTime": {
     "end_time": "2025-06-09T08:16:43.862767Z",
     "start_time": "2025-06-09T08:16:43.850673Z"
    }
   },
   "cell_type": "code",
   "source": [
    "# Obtain Weights\n",
    "p_weights = markowitz_weights(\n",
    "    expected_returns, \n",
    "    covariance_matrix,\n",
    "    0.0015\n",
    ")"
   ],
   "id": "e1160f3b50ea8901",
   "outputs": [],
   "execution_count": 6
  },
  {
   "metadata": {
    "ExecuteTime": {
     "end_time": "2025-06-09T08:16:43.867719Z",
     "start_time": "2025-06-09T08:16:43.862767Z"
    }
   },
   "cell_type": "code",
   "source": [
    "# Create a Portfolio Weights DF\n",
    "portfolio_weights = pd.Series(\n",
    "    p_weights,\n",
    "    index = portfolio_holdings_df.columns,\n",
    "    name = 'weights'\n",
    ")\n",
    "\n",
    "portfolio_weights"
   ],
   "id": "5e19cc1d7f85cc98",
   "outputs": [
    {
     "data": {
      "text/plain": [
       "AAPL    0.265401\n",
       "AMZN    0.237189\n",
       "META   -0.138590\n",
       "MSFT    0.236767\n",
       "NVDA    0.399233\n",
       "Name: weights, dtype: float64"
      ]
     },
     "execution_count": 7,
     "metadata": {},
     "output_type": "execute_result"
    }
   ],
   "execution_count": 7
  },
  {
   "metadata": {
    "ExecuteTime": {
     "end_time": "2025-06-09T08:16:43.872958Z",
     "start_time": "2025-06-09T08:16:43.867719Z"
    }
   },
   "cell_type": "code",
   "source": [
    "# Portfolio Returns\n",
    "portfolio_returns = portfolio_holdings_df @ p_weights\n",
    "portfolio_returns.name = 'portfolio_returns'\n",
    "\n",
    "portfolio_returns"
   ],
   "id": "707d65c56e952d28",
   "outputs": [
    {
     "data": {
      "text/plain": [
       "Date\n",
       "2015-01-05   -0.019245\n",
       "2015-01-06   -0.019366\n",
       "2015-01-07    0.008144\n",
       "2015-01-08    0.029583\n",
       "2015-01-09   -0.002130\n",
       "                ...   \n",
       "2024-12-24    0.009162\n",
       "2024-12-26   -0.001717\n",
       "2024-12-27   -0.018747\n",
       "2024-12-30   -0.005920\n",
       "2024-12-31   -0.013851\n",
       "Name: portfolio_returns, Length: 2515, dtype: float64"
      ]
     },
     "execution_count": 8,
     "metadata": {},
     "output_type": "execute_result"
    }
   ],
   "execution_count": 8
  },
  {
   "metadata": {
    "ExecuteTime": {
     "end_time": "2025-06-09T08:16:44.277676Z",
     "start_time": "2025-06-09T08:16:43.873971Z"
    }
   },
   "cell_type": "code",
   "source": [
    "# Create Plot\n",
    "plt.figure(figsize=(10, 6))\n",
    "plt.plot(portfolio_holdings_df.cumsum(), label=portfolio_holdings_df.columns, alpha=1)\n",
    "plt.plot(portfolio_returns.cumsum(), label='Portfolio', alpha=1)\n",
    "\n",
    "# Config\n",
    "plt.title('Returns Time Series')\n",
    "plt.xlabel('Time')\n",
    "plt.ylabel('Returns')\n",
    "plt.legend()\n",
    "plt.grid()\n",
    "\n",
    "# Show\n",
    "plt.show() "
   ],
   "id": "1708c832a8a2a365",
   "outputs": [
    {
     "data": {
      "text/plain": [
       "<Figure size 1000x600 with 1 Axes>"
      ],
      "image/png": "[encoded data removed]"
     },
     "metadata": {},
     "output_type": "display_data"
    }
   ],
   "execution_count": 9
  },
  {
   "metadata": {},
   "cell_type": "markdown",
   "source": "### Obtaining a Benchmark: Using a Hypothetical Portfolio ###",
   "id": "41fb88059908ba33"
  },
  {
   "metadata": {
    "ExecuteTime": {
     "end_time": "2025-06-09T08:16:44.284018Z",
     "start_time": "2025-06-09T08:16:44.277676Z"
    }
   },
   "cell_type": "code",
   "source": [
    "# Get the returns of each stock of our portfolio but in the IWY\n",
    "iwy_weights = pd.Series(\n",
    "    [9.65, 6.66, 4.34, 11.28, 10.47],\n",
    "    index = portfolio_holdings_df.columns,\n",
    "    name = 'weights'\n",
    ")\n",
    "\n",
    "iwy_weights = iwy_weights/100\n",
    "\n",
    "# Normalized\n",
    "norm_iwy_weights = iwy_weights/iwy_weights.sum()\n",
    "\n",
    "norm_iwy_weights"
   ],
   "id": "b02816ce728e9f86",
   "outputs": [
    {
     "data": {
      "text/plain": [
       "AAPL    0.227594\n",
       "AMZN    0.157075\n",
       "META    0.102358\n",
       "MSFT    0.266038\n",
       "NVDA    0.246934\n",
       "Name: weights, dtype: float64"
      ]
     },
     "execution_count": 10,
     "metadata": {},
     "output_type": "execute_result"
    }
   ],
   "execution_count": 10
  },
  {
   "metadata": {
    "ExecuteTime": {
     "end_time": "2025-06-09T08:16:44.291141Z",
     "start_time": "2025-06-09T08:16:44.284018Z"
    }
   },
   "cell_type": "code",
   "source": [
    "# Build the Benchmark Returns\n",
    "benchmark_returns = portfolio_holdings_df @ norm_iwy_weights\n",
    "benchmark_returns.name = 'benchmark_returns'\n",
    "\n",
    "benchmark_returns"
   ],
   "id": "b37f9d79390da16d",
   "outputs": [
    {
     "data": {
      "text/plain": [
       "Date\n",
       "2015-01-05   -0.018082\n",
       "2015-01-06   -0.016531\n",
       "2015-01-07    0.007540\n",
       "2015-01-08    0.029176\n",
       "2015-01-09   -0.003443\n",
       "                ...   \n",
       "2024-12-24    0.010150\n",
       "2024-12-26   -0.002651\n",
       "2024-12-27   -0.015787\n",
       "2024-12-30   -0.008923\n",
       "2024-12-31   -0.011879\n",
       "Name: benchmark_returns, Length: 2515, dtype: float64"
      ]
     },
     "execution_count": 11,
     "metadata": {},
     "output_type": "execute_result"
    }
   ],
   "execution_count": 11
  },
  {
   "metadata": {
    "ExecuteTime": {
     "end_time": "2025-06-09T08:16:47.574638Z",
     "start_time": "2025-06-09T08:16:47.366543Z"
    }
   },
   "cell_type": "code",
   "source": [
    "# Create Plot\n",
    "plt.figure(figsize=(10, 6))\n",
    "plt.plot(benchmark_returns.cumsum(), label='Benchmark', alpha=1)\n",
    "plt.plot(portfolio_returns.cumsum(), label='Portfolio', alpha=1)\n",
    "\n",
    "# Config\n",
    "plt.title('Returns Time Series')\n",
    "plt.xlabel('Time')\n",
    "plt.ylabel('Returns')\n",
    "plt.legend()\n",
    "plt.grid()\n",
    "\n",
    "# Show\n",
    "plt.show() "
   ],
   "id": "c948b4a8a014fba3",
   "outputs": [
    {
     "data": {
      "text/plain": [
       "<Figure size 1000x600 with 1 Axes>"
      ],
      "image/png": "[encoded data removed]"
     },
     "metadata": {},
     "output_type": "display_data"
    }
   ],
   "execution_count": 12
  },
  {
   "metadata": {
    "ExecuteTime": {
     "end_time": "2025-06-09T08:16:48.358977Z",
     "start_time": "2025-06-09T08:16:48.352929Z"
    }
   },
   "cell_type": "code",
   "source": [
    "# Calculate the Mean Returns\n",
    "portfolio_total_returns = portfolio_returns.cumsum().iloc[-1]\n",
    "benchmark_total_returns = benchmark_returns.cumsum().iloc[-1]\n",
    "\n",
    "print(portfolio_total_returns)\n",
    "print(benchmark_total_returns)"
   ],
   "id": "1403b685a9696dd5",
   "outputs": [
    {
     "name": "stdout",
     "output_type": "stream",
     "text": [
      "3.7725000000000004\n",
      "3.168693528843234\n"
     ]
    }
   ],
   "execution_count": 13
  },
  {
   "metadata": {
    "ExecuteTime": {
     "end_time": "2025-06-09T08:16:49.212404Z",
     "start_time": "2025-06-09T08:16:49.197259Z"
    }
   },
   "cell_type": "code",
   "source": [
    "# Calculate the Excess Returns\n",
    "excess_returns = portfolio_total_returns - benchmark_total_returns\n",
    "\n",
    "excess_returns"
   ],
   "id": "42667421be7b27f7",
   "outputs": [
    {
     "data": {
      "text/plain": [
       "0.6038064711567666"
      ]
     },
     "execution_count": 14,
     "metadata": {},
     "output_type": "execute_result"
    }
   ],
   "execution_count": 14
  },
  {
   "metadata": {
    "ExecuteTime": {
     "end_time": "2025-06-09T08:23:06.665336Z",
     "start_time": "2025-06-09T08:23:06.655563Z"
    }
   },
   "cell_type": "code",
   "source": [
    "# Calculate the Brinson-Fachler Allocation Effect\n",
    "allocation_effect = (portfolio_weights - norm_iwy_weights) * (portfolio_holdings_df.cumsum().iloc[-1] - benchmark_total_returns)\n",
    "allocation_effect.name = 'allocation_effect'\n",
    "\n",
    "allocation_effect"
   ],
   "id": "b8f2de0cef5b7cd4",
   "outputs": [
    {
     "data": {
      "text/plain": [
       "AAPL   -0.031681\n",
       "AMZN   -0.041170\n",
       "META    0.278261\n",
       "MSFT    0.023931\n",
       "NVDA    0.374465\n",
       "Name: allocation_effect, dtype: float64"
      ]
     },
     "execution_count": 27,
     "metadata": {},
     "output_type": "execute_result"
    }
   ],
   "execution_count": 27
  },
  {
   "metadata": {
    "ExecuteTime": {
     "end_time": "2025-06-09T08:23:07.434881Z",
     "start_time": "2025-06-09T08:23:07.414554Z"
    }
   },
   "cell_type": "code",
   "source": [
    "# Calculate the Brinson-Fachler Selection Effect\n",
    "selection_effect = norm_iwy_weights * (portfolio_holdings_df.cumsum().iloc[-1] - portfolio_holdings_df.cumsum().iloc[-1])\n",
    "selection_effect.name = 'selection_effect'\n",
    "\n",
    "selection_effect"
   ],
   "id": "7b71611f755f35d8",
   "outputs": [
    {
     "data": {
      "text/plain": [
       "AAPL    0.0\n",
       "AMZN    0.0\n",
       "META    0.0\n",
       "MSFT    0.0\n",
       "NVDA    0.0\n",
       "Name: selection_effect, dtype: float64"
      ]
     },
     "execution_count": 28,
     "metadata": {},
     "output_type": "execute_result"
    }
   ],
   "execution_count": 28
  },
  {
   "metadata": {
    "ExecuteTime": {
     "end_time": "2025-06-09T08:23:08.188500Z",
     "start_time": "2025-06-09T08:23:08.176941Z"
    }
   },
   "cell_type": "code",
   "source": [
    "# Calculate the Brinson-Fachler Intersection Effect\n",
    "interaction_effect = (portfolio_weights - norm_iwy_weights) * (portfolio_holdings_df.cumsum().iloc[-1] - portfolio_holdings_df.cumsum().iloc[-1])\n",
    "interaction_effect.name = 'interaction_effect'\n",
    "\n",
    "interaction_effect"
   ],
   "id": "d706ac14c3aa4e9f",
   "outputs": [
    {
     "data": {
      "text/plain": [
       "AAPL    0.0\n",
       "AMZN    0.0\n",
       "META   -0.0\n",
       "MSFT   -0.0\n",
       "NVDA    0.0\n",
       "Name: interaction_effect, dtype: float64"
      ]
     },
     "execution_count": 29,
     "metadata": {},
     "output_type": "execute_result"
    }
   ],
   "execution_count": 29
  },
  {
   "metadata": {
    "ExecuteTime": {
     "end_time": "2025-06-09T08:23:08.852515Z",
     "start_time": "2025-06-09T08:23:08.843725Z"
    }
   },
   "cell_type": "code",
   "source": [
    "# Calculate the Total Effect\n",
    "bf_total_attribution = (\n",
    "        allocation_effect + \n",
    "        selection_effect +\n",
    "        interaction_effect\n",
    ")\n",
    "\n",
    "bf_total_attribution.name = 'bf_total_attribution'\n",
    "\n",
    "bf_total_attribution"
   ],
   "id": "6bdf3608167549a1",
   "outputs": [
    {
     "data": {
      "text/plain": [
       "AAPL   -0.031681\n",
       "AMZN   -0.041170\n",
       "META    0.278261\n",
       "MSFT    0.023931\n",
       "NVDA    0.374465\n",
       "Name: bf_total_attribution, dtype: float64"
      ]
     },
     "execution_count": 30,
     "metadata": {},
     "output_type": "execute_result"
    }
   ],
   "execution_count": 30
  },
  {
   "metadata": {
    "ExecuteTime": {
     "end_time": "2025-06-09T08:23:10.724637Z",
     "start_time": "2025-06-09T08:23:10.706542Z"
    }
   },
   "cell_type": "code",
   "source": [
    "# Show\n",
    "brinson_fachler_df = pd.DataFrame({\n",
    "    'allocation': allocation_effect,\n",
    "    'selection': selection_effect,\n",
    "    'interaction': interaction_effect,\n",
    "    'total': bf_total_attribution\n",
    "})\n",
    "\n",
    "brinson_fachler_df"
   ],
   "id": "fbffb5afe39d1e95",
   "outputs": [
    {
     "data": {
      "text/plain": [
       "      allocation  selection  interaction     total\n",
       "AAPL   -0.031681        0.0          0.0 -0.031681\n",
       "AMZN   -0.041170        0.0          0.0 -0.041170\n",
       "META    0.278261        0.0         -0.0  0.278261\n",
       "MSFT    0.023931        0.0         -0.0  0.023931\n",
       "NVDA    0.374465        0.0          0.0  0.374465"
      ],
      "text/html": [
       "<div>\n",
       "<style scoped>\n",
       "    .dataframe tbody tr th:only-of-type {\n",
       "        vertical-align: middle;\n",
       "    }\n",
       "\n",
       "    .dataframe tbody tr th {\n",
       "        vertical-align: top;\n",
       "    }\n",
       "\n",
       "    .dataframe thead th {\n",
       "        text-align: right;\n",
       "    }\n",
       "</style>\n",
       "<table border=\"1\" class=\"dataframe\">\n",
       "  <thead>\n",
       "    <tr style=\"text-align: right;\">\n",
       "      <th></th>\n",
       "      <th>allocation</th>\n",
       "      <th>selection</th>\n",
       "      <th>interaction</th>\n",
       "      <th>total</th>\n",
       "    </tr>\n",
       "  </thead>\n",
       "  <tbody>\n",
       "    <tr>\n",
       "      <th>AAPL</th>\n",
       "      <td>-0.031681</td>\n",
       "      <td>0.0</td>\n",
       "      <td>0.0</td>\n",
       "      <td>-0.031681</td>\n",
       "    </tr>\n",
       "    <tr>\n",
       "      <th>AMZN</th>\n",
       "      <td>-0.041170</td>\n",
       "      <td>0.0</td>\n",
       "      <td>0.0</td>\n",
       "      <td>-0.041170</td>\n",
       "    </tr>\n",
       "    <tr>\n",
       "      <th>META</th>\n",
       "      <td>0.278261</td>\n",
       "      <td>0.0</td>\n",
       "      <td>-0.0</td>\n",
       "      <td>0.278261</td>\n",
       "    </tr>\n",
       "    <tr>\n",
       "      <th>MSFT</th>\n",
       "      <td>0.023931</td>\n",
       "      <td>0.0</td>\n",
       "      <td>-0.0</td>\n",
       "      <td>0.023931</td>\n",
       "    </tr>\n",
       "    <tr>\n",
       "      <th>NVDA</th>\n",
       "      <td>0.374465</td>\n",
       "      <td>0.0</td>\n",
       "      <td>0.0</td>\n",
       "      <td>0.374465</td>\n",
       "    </tr>\n",
       "  </tbody>\n",
       "</table>\n",
       "</div>"
      ]
     },
     "execution_count": 31,
     "metadata": {},
     "output_type": "execute_result"
    }
   ],
   "execution_count": 31
  },
  {
   "metadata": {
    "ExecuteTime": {
     "end_time": "2025-06-09T08:23:12.089831Z",
     "start_time": "2025-06-09T08:23:12.081397Z"
    }
   },
   "cell_type": "code",
   "source": "brinson_fachler_df.sum().round(6)",
   "id": "e0fb244609eb8ca3",
   "outputs": [
    {
     "data": {
      "text/plain": [
       "allocation     0.603806\n",
       "selection      0.000000\n",
       "interaction    0.000000\n",
       "total          0.603806\n",
       "dtype: float64"
      ]
     },
     "execution_count": 32,
     "metadata": {},
     "output_type": "execute_result"
    }
   ],
   "execution_count": 32
  },
  {
   "metadata": {
    "ExecuteTime": {
     "end_time": "2025-06-09T08:23:13.379040Z",
     "start_time": "2025-06-09T08:23:13.366116Z"
    }
   },
   "cell_type": "code",
   "source": [
    "# Divide the DataFrame by the Excess Return\n",
    "norm_brinson_fachler_df = (brinson_fachler_df/brinson_fachler_df['total'].sum()) * 100\n",
    "\n",
    "norm_brinson_fachler_df"
   ],
   "id": "3133e8ba1d3579e2",
   "outputs": [
    {
     "data": {
      "text/plain": [
       "      allocation  selection  interaction      total\n",
       "AAPL   -5.246887        0.0          0.0  -5.246887\n",
       "AMZN   -6.818404        0.0          0.0  -6.818404\n",
       "META   46.084507        0.0         -0.0  46.084507\n",
       "MSFT    3.963326        0.0         -0.0   3.963326\n",
       "NVDA   62.017458        0.0          0.0  62.017458"
      ],
      "text/html": [
       "<div>\n",
       "<style scoped>\n",
       "    .dataframe tbody tr th:only-of-type {\n",
       "        vertical-align: middle;\n",
       "    }\n",
       "\n",
       "    .dataframe tbody tr th {\n",
       "        vertical-align: top;\n",
       "    }\n",
       "\n",
       "    .dataframe thead th {\n",
       "        text-align: right;\n",
       "    }\n",
       "</style>\n",
       "<table border=\"1\" class=\"dataframe\">\n",
       "  <thead>\n",
       "    <tr style=\"text-align: right;\">\n",
       "      <th></th>\n",
       "      <th>allocation</th>\n",
       "      <th>selection</th>\n",
       "      <th>interaction</th>\n",
       "      <th>total</th>\n",
       "    </tr>\n",
       "  </thead>\n",
       "  <tbody>\n",
       "    <tr>\n",
       "      <th>AAPL</th>\n",
       "      <td>-5.246887</td>\n",
       "      <td>0.0</td>\n",
       "      <td>0.0</td>\n",
       "      <td>-5.246887</td>\n",
       "    </tr>\n",
       "    <tr>\n",
       "      <th>AMZN</th>\n",
       "      <td>-6.818404</td>\n",
       "      <td>0.0</td>\n",
       "      <td>0.0</td>\n",
       "      <td>-6.818404</td>\n",
       "    </tr>\n",
       "    <tr>\n",
       "      <th>META</th>\n",
       "      <td>46.084507</td>\n",
       "      <td>0.0</td>\n",
       "      <td>-0.0</td>\n",
       "      <td>46.084507</td>\n",
       "    </tr>\n",
       "    <tr>\n",
       "      <th>MSFT</th>\n",
       "      <td>3.963326</td>\n",
       "      <td>0.0</td>\n",
       "      <td>-0.0</td>\n",
       "      <td>3.963326</td>\n",
       "    </tr>\n",
       "    <tr>\n",
       "      <th>NVDA</th>\n",
       "      <td>62.017458</td>\n",
       "      <td>0.0</td>\n",
       "      <td>0.0</td>\n",
       "      <td>62.017458</td>\n",
       "    </tr>\n",
       "  </tbody>\n",
       "</table>\n",
       "</div>"
      ]
     },
     "execution_count": 33,
     "metadata": {},
     "output_type": "execute_result"
    }
   ],
   "execution_count": 33
  },
  {
   "metadata": {
    "ExecuteTime": {
     "end_time": "2025-06-09T08:23:14.913094Z",
     "start_time": "2025-06-09T08:23:14.904913Z"
    }
   },
   "cell_type": "code",
   "source": "norm_brinson_fachler_df.sum().round(2)",
   "id": "7422451aba8f973a",
   "outputs": [
    {
     "data": {
      "text/plain": [
       "allocation     100.0\n",
       "selection        0.0\n",
       "interaction      0.0\n",
       "total          100.0\n",
       "dtype: float64"
      ]
     },
     "execution_count": 34,
     "metadata": {},
     "output_type": "execute_result"
    }
   ],
   "execution_count": 34
  },
  {
   "metadata": {
    "ExecuteTime": {
     "end_time": "2025-06-09T08:23:16.284763Z",
     "start_time": "2025-06-09T08:23:16.152359Z"
    }
   },
   "cell_type": "code",
   "source": [
    "# Plotting individual attribution effects per asset\n",
    "fig, ax = plt.subplots()\n",
    "\n",
    "bar_width = 0.2\n",
    "x = np.arange(len(norm_brinson_fachler_df))\n",
    "\n",
    "# Plot each component\n",
    "ax.bar(x - bar_width, norm_brinson_fachler_df[\"allocation\"], width=bar_width, label=\"Allocation\")\n",
    "ax.bar(x, norm_brinson_fachler_df[\"selection\"], width=bar_width, label=\"Selection\")\n",
    "ax.bar(x + bar_width, norm_brinson_fachler_df[\"interaction\"], width=bar_width, label=\"Interaction\")\n",
    "\n",
    "# Formatting\n",
    "ax.set_xticks(x)\n",
    "ax.set_xticklabels(norm_brinson_fachler_df.index)\n",
    "ax.set_ylabel(\"Attribution Effect (bps)\")\n",
    "ax.set_title(\"Brinson-Fachler Attribution by Asset\")\n",
    "ax.legend()\n",
    "ax.axhline(0, color=\"gray\", linewidth=0.8)\n",
    "\n",
    "plt.tight_layout()\n",
    "plt.show()"
   ],
   "id": "9571ad9b74789aa9",
   "outputs": [
    {
     "data": {
      "text/plain": [
       "<Figure size 640x480 with 1 Axes>"
      ],
      "image/png": "[encoded data removed]"
     },
     "metadata": {},
     "output_type": "display_data"
    }
   ],
   "execution_count": 35
  },
  {
   "metadata": {},
   "cell_type": "markdown",
   "source": "Since both portfolios (ours and the benchmark) contain the same stocks but with different weights, the allocation effect will explain 100% of the extraordinary returns, while the selection and interaction effects will be 0%.",
   "id": "fc29f617c14c2f4d"
  },
  {
   "metadata": {},
   "cell_type": "markdown",
   "source": "### Sector Example ###",
   "id": "52cbcd9da82a6d95"
  },
  {
   "metadata": {},
   "cell_type": "markdown",
   "source": "First create a portfolio with 3 sectors:",
   "id": "ef3435fe36701aa0"
  },
  {
   "metadata": {
    "ExecuteTime": {
     "end_time": "2025-06-09T09:08:26.887831Z",
     "start_time": "2025-06-09T09:08:26.873043Z"
    }
   },
   "cell_type": "code",
   "source": [
    "portfolio_stocks = [\n",
    "    \"META\",         # Communication\n",
    "    \"GOOG\",         # Communication\n",
    "    \"NFLX\",         # Communication,\n",
    "    \"AMZN\",         # Consumer Discretionary\n",
    "    \"TSLA\",         # Consumer Discretionary\n",
    "    \"HD\",           # Consumer Discretionary\n",
    "    \"MSFT\",         # Information Technology\n",
    "    \"NVDA\",         # Information Technology\t\n",
    "    \"AAPL\",         # Information Technology\t\n",
    "]"
   ],
   "id": "2c52c6c6bcc21b81",
   "outputs": [],
   "execution_count": 79
  },
  {
   "metadata": {
    "ExecuteTime": {
     "end_time": "2025-06-09T09:14:17.981864Z",
     "start_time": "2025-06-09T09:14:17.965230Z"
    }
   },
   "cell_type": "code",
   "source": [
    "holdings_returns = returns_df.loc['2020':][portfolio_stocks]\n",
    "\n",
    "holdings_returns"
   ],
   "id": "51f85ae0d0c0facd",
   "outputs": [
    {
     "data": {
      "text/plain": [
       "                META      GOOG      NFLX      AMZN      TSLA        HD  \\\n",
       "Date                                                                     \n",
       "2020-01-02  0.021831  0.022446  0.019101  0.026789  0.028119  0.005844   \n",
       "2020-01-03 -0.005305 -0.004919 -0.011926 -0.012213  0.029203 -0.003329   \n",
       "2020-01-06  0.018658  0.024358  0.030014  0.014776  0.019072  0.004694   \n",
       "2020-01-07  0.002161 -0.000624 -0.015242  0.002089  0.038067 -0.006568   \n",
       "2020-01-08  0.010087  0.007850  0.025404 -0.007839  0.048033  0.014854   \n",
       "...              ...       ...       ...       ...       ...       ...   \n",
       "2024-12-24  0.013084  0.008029  0.022425  0.017573  0.070991  0.009359   \n",
       "2024-12-26 -0.007266 -0.002382 -0.008598 -0.008770 -0.017787 -0.002528   \n",
       "2024-12-27 -0.005884 -0.015647 -0.018115 -0.014641 -0.050745 -0.005787   \n",
       "2024-12-30 -0.014391 -0.006982 -0.007876 -0.011010 -0.033569 -0.008769   \n",
       "2024-12-31 -0.009739 -0.011746 -0.010169 -0.008668 -0.033050 -0.001130   \n",
       "\n",
       "                MSFT      NVDA      AAPL  \n",
       "Date                                      \n",
       "2020-01-02  0.018347  0.019402  0.022560  \n",
       "2020-01-03 -0.012530 -0.016135 -0.009770  \n",
       "2020-01-06  0.002582  0.004185  0.007937  \n",
       "2020-01-07 -0.009159  0.012034 -0.004714  \n",
       "2020-01-08  0.015803  0.001874  0.015958  \n",
       "...              ...       ...       ...  \n",
       "2024-12-24  0.009330  0.003930  0.011413  \n",
       "2024-12-26 -0.002781 -0.002070  0.003171  \n",
       "2024-12-27 -0.017453 -0.021088 -0.013331  \n",
       "2024-12-30 -0.013328  0.003497 -0.013352  \n",
       "2024-12-31 -0.007869 -0.023550 -0.007083  \n",
       "\n",
       "[1258 rows x 9 columns]"
      ],
      "text/html": [
       "<div>\n",
       "<style scoped>\n",
       "    .dataframe tbody tr th:only-of-type {\n",
       "        vertical-align: middle;\n",
       "    }\n",
       "\n",
       "    .dataframe tbody tr th {\n",
       "        vertical-align: top;\n",
       "    }\n",
       "\n",
       "    .dataframe thead th {\n",
       "        text-align: right;\n",
       "    }\n",
       "</style>\n",
       "<table border=\"1\" class=\"dataframe\">\n",
       "  <thead>\n",
       "    <tr style=\"text-align: right;\">\n",
       "      <th></th>\n",
       "      <th>META</th>\n",
       "      <th>GOOG</th>\n",
       "      <th>NFLX</th>\n",
       "      <th>AMZN</th>\n",
       "      <th>TSLA</th>\n",
       "      <th>HD</th>\n",
       "      <th>MSFT</th>\n",
       "      <th>NVDA</th>\n",
       "      <th>AAPL</th>\n",
       "    </tr>\n",
       "    <tr>\n",
       "      <th>Date</th>\n",
       "      <th></th>\n",
       "      <th></th>\n",
       "      <th></th>\n",
       "      <th></th>\n",
       "      <th></th>\n",
       "      <th></th>\n",
       "      <th></th>\n",
       "      <th></th>\n",
       "      <th></th>\n",
       "    </tr>\n",
       "  </thead>\n",
       "  <tbody>\n",
       "    <tr>\n",
       "      <th>2020-01-02</th>\n",
       "      <td>0.021831</td>\n",
       "      <td>0.022446</td>\n",
       "      <td>0.019101</td>\n",
       "      <td>0.026789</td>\n",
       "      <td>0.028119</td>\n",
       "      <td>0.005844</td>\n",
       "      <td>0.018347</td>\n",
       "      <td>0.019402</td>\n",
       "      <td>0.022560</td>\n",
       "    </tr>\n",
       "    <tr>\n",
       "      <th>2020-01-03</th>\n",
       "      <td>-0.005305</td>\n",
       "      <td>-0.004919</td>\n",
       "      <td>-0.011926</td>\n",
       "      <td>-0.012213</td>\n",
       "      <td>0.029203</td>\n",
       "      <td>-0.003329</td>\n",
       "      <td>-0.012530</td>\n",
       "      <td>-0.016135</td>\n",
       "      <td>-0.009770</td>\n",
       "    </tr>\n",
       "    <tr>\n",
       "      <th>2020-01-06</th>\n",
       "      <td>0.018658</td>\n",
       "      <td>0.024358</td>\n",
       "      <td>0.030014</td>\n",
       "      <td>0.014776</td>\n",
       "      <td>0.019072</td>\n",
       "      <td>0.004694</td>\n",
       "      <td>0.002582</td>\n",
       "      <td>0.004185</td>\n",
       "      <td>0.007937</td>\n",
       "    </tr>\n",
       "    <tr>\n",
       "      <th>2020-01-07</th>\n",
       "      <td>0.002161</td>\n",
       "      <td>-0.000624</td>\n",
       "      <td>-0.015242</td>\n",
       "      <td>0.002089</td>\n",
       "      <td>0.038067</td>\n",
       "      <td>-0.006568</td>\n",
       "      <td>-0.009159</td>\n",
       "      <td>0.012034</td>\n",
       "      <td>-0.004714</td>\n",
       "    </tr>\n",
       "    <tr>\n",
       "      <th>2020-01-08</th>\n",
       "      <td>0.010087</td>\n",
       "      <td>0.007850</td>\n",
       "      <td>0.025404</td>\n",
       "      <td>-0.007839</td>\n",
       "      <td>0.048033</td>\n",
       "      <td>0.014854</td>\n",
       "      <td>0.015803</td>\n",
       "      <td>0.001874</td>\n",
       "      <td>0.015958</td>\n",
       "    </tr>\n",
       "    <tr>\n",
       "      <th>...</th>\n",
       "      <td>...</td>\n",
       "      <td>...</td>\n",
       "      <td>...</td>\n",
       "      <td>...</td>\n",
       "      <td>...</td>\n",
       "      <td>...</td>\n",
       "      <td>...</td>\n",
       "      <td>...</td>\n",
       "      <td>...</td>\n",
       "    </tr>\n",
       "    <tr>\n",
       "      <th>2024-12-24</th>\n",
       "      <td>0.013084</td>\n",
       "      <td>0.008029</td>\n",
       "      <td>0.022425</td>\n",
       "      <td>0.017573</td>\n",
       "      <td>0.070991</td>\n",
       "      <td>0.009359</td>\n",
       "      <td>0.009330</td>\n",
       "      <td>0.003930</td>\n",
       "      <td>0.011413</td>\n",
       "    </tr>\n",
       "    <tr>\n",
       "      <th>2024-12-26</th>\n",
       "      <td>-0.007266</td>\n",
       "      <td>-0.002382</td>\n",
       "      <td>-0.008598</td>\n",
       "      <td>-0.008770</td>\n",
       "      <td>-0.017787</td>\n",
       "      <td>-0.002528</td>\n",
       "      <td>-0.002781</td>\n",
       "      <td>-0.002070</td>\n",
       "      <td>0.003171</td>\n",
       "    </tr>\n",
       "    <tr>\n",
       "      <th>2024-12-27</th>\n",
       "      <td>-0.005884</td>\n",
       "      <td>-0.015647</td>\n",
       "      <td>-0.018115</td>\n",
       "      <td>-0.014641</td>\n",
       "      <td>-0.050745</td>\n",
       "      <td>-0.005787</td>\n",
       "      <td>-0.017453</td>\n",
       "      <td>-0.021088</td>\n",
       "      <td>-0.013331</td>\n",
       "    </tr>\n",
       "    <tr>\n",
       "      <th>2024-12-30</th>\n",
       "      <td>-0.014391</td>\n",
       "      <td>-0.006982</td>\n",
       "      <td>-0.007876</td>\n",
       "      <td>-0.011010</td>\n",
       "      <td>-0.033569</td>\n",
       "      <td>-0.008769</td>\n",
       "      <td>-0.013328</td>\n",
       "      <td>0.003497</td>\n",
       "      <td>-0.013352</td>\n",
       "    </tr>\n",
       "    <tr>\n",
       "      <th>2024-12-31</th>\n",
       "      <td>-0.009739</td>\n",
       "      <td>-0.011746</td>\n",
       "      <td>-0.010169</td>\n",
       "      <td>-0.008668</td>\n",
       "      <td>-0.033050</td>\n",
       "      <td>-0.001130</td>\n",
       "      <td>-0.007869</td>\n",
       "      <td>-0.023550</td>\n",
       "      <td>-0.007083</td>\n",
       "    </tr>\n",
       "  </tbody>\n",
       "</table>\n",
       "<p>1258 rows × 9 columns</p>\n",
       "</div>"
      ]
     },
     "execution_count": 103,
     "metadata": {},
     "output_type": "execute_result"
    }
   ],
   "execution_count": 103
  },
  {
   "metadata": {
    "ExecuteTime": {
     "end_time": "2025-06-09T09:14:19.512087Z",
     "start_time": "2025-06-09T09:14:19.496454Z"
    }
   },
   "cell_type": "code",
   "source": [
    "holdings_total_returns = holdings_returns.cumsum().iloc[-1]\n",
    "holdings_total_returns.name = 'total_returns'\n",
    "\n",
    "holdings_total_returns"
   ],
   "id": "b74bfcb1fc5e50a6",
   "outputs": [
    {
     "data": {
      "text/plain": [
       "META    1.052067\n",
       "GOOG    1.050458\n",
       "NFLX    1.013288\n",
       "AMZN    0.864811\n",
       "TSLA    2.672798\n",
       "HD      0.697804\n",
       "MSFT    1.027615\n",
       "NVDA    3.132203\n",
       "AAPL    1.258038\n",
       "Name: total_returns, dtype: float64"
      ]
     },
     "execution_count": 104,
     "metadata": {},
     "output_type": "execute_result"
    }
   ],
   "execution_count": 104
  },
  {
   "metadata": {
    "ExecuteTime": {
     "end_time": "2025-06-09T09:14:20.930921Z",
     "start_time": "2025-06-09T09:14:20.923406Z"
    }
   },
   "cell_type": "code",
   "source": [
    "# Components\n",
    "holdings_mean_returns = holdings_returns.mean()\n",
    "holdings_covariance_matrix = holdings_returns.cov()\n",
    "\n",
    "# Obtain Weights\n",
    "p_weights = markowitz_weights(\n",
    "    holdings_mean_returns, \n",
    "    holdings_covariance_matrix,\n",
    "    0.0012\n",
    ")\n",
    "\n",
    "p_weights"
   ],
   "id": "770dc48cc921e9e7",
   "outputs": [
    {
     "data": {
      "text/plain": [
       "array([-0.10159582,  0.23200702,  0.03745044, -0.02890295,  0.04827094,\n",
       "        0.30021879,  0.00299201,  0.20125612,  0.30830345])"
      ]
     },
     "execution_count": 105,
     "metadata": {},
     "output_type": "execute_result"
    }
   ],
   "execution_count": 105
  },
  {
   "metadata": {
    "ExecuteTime": {
     "end_time": "2025-06-09T09:14:22.832188Z",
     "start_time": "2025-06-09T09:14:22.822493Z"
    }
   },
   "cell_type": "code",
   "source": [
    "# Create a Portfolio Weights DF\n",
    "portfolio_weights = pd.Series(\n",
    "    p_weights,\n",
    "    index = holdings_returns.columns,\n",
    "    name = 'weights'\n",
    ")\n",
    "\n",
    "portfolio_weights"
   ],
   "id": "ee543b06a30a89fc",
   "outputs": [
    {
     "data": {
      "text/plain": [
       "META   -0.101596\n",
       "GOOG    0.232007\n",
       "NFLX    0.037450\n",
       "AMZN   -0.028903\n",
       "TSLA    0.048271\n",
       "HD      0.300219\n",
       "MSFT    0.002992\n",
       "NVDA    0.201256\n",
       "AAPL    0.308303\n",
       "Name: weights, dtype: float64"
      ]
     },
     "execution_count": 106,
     "metadata": {},
     "output_type": "execute_result"
    }
   ],
   "execution_count": 106
  },
  {
   "metadata": {
    "ExecuteTime": {
     "end_time": "2025-06-09T09:14:28.036477Z",
     "start_time": "2025-06-09T09:14:28.029651Z"
    }
   },
   "cell_type": "code",
   "source": [
    "# Map stocks\n",
    "stock_to_sector = {\n",
    "    \"META\": \"Communication\",\n",
    "    \"GOOG\": \"Communication\",\n",
    "    \"NFLX\": \"Communication\",\n",
    "    \"AMZN\": \"Consumer Discretionary\",\n",
    "    \"TSLA\": \"Consumer Discretionary\",\n",
    "    \"HD\": \"Consumer Discretionary\",\n",
    "    \"MSFT\": \"Information Technology\",\n",
    "    \"NVDA\": \"Information Technology\",\n",
    "    \"AAPL\": \"Information Technology\"\n",
    "}"
   ],
   "id": "d34edba0f12b4124",
   "outputs": [],
   "execution_count": 107
  },
  {
   "metadata": {
    "ExecuteTime": {
     "end_time": "2025-06-09T09:14:28.774073Z",
     "start_time": "2025-06-09T09:14:28.756877Z"
    }
   },
   "cell_type": "code",
   "source": [
    "# Create a DF\n",
    "\n",
    "df_temp = pd.DataFrame({\n",
    "    'Sector': pd.Series(stock_to_sector),\n",
    "    'Weight': portfolio_weights,\n",
    "    'Return': holdings_total_returns\n",
    "})\n",
    "\n",
    "df_temp"
   ],
   "id": "f00c7f165b156a8d",
   "outputs": [
    {
     "data": {
      "text/plain": [
       "                      Sector    Weight    Return\n",
       "META           Communication -0.101596  1.052067\n",
       "GOOG           Communication  0.232007  1.050458\n",
       "NFLX           Communication  0.037450  1.013288\n",
       "AMZN  Consumer Discretionary -0.028903  0.864811\n",
       "TSLA  Consumer Discretionary  0.048271  2.672798\n",
       "HD    Consumer Discretionary  0.300219  0.697804\n",
       "MSFT  Information Technology  0.002992  1.027615\n",
       "NVDA  Information Technology  0.201256  3.132203\n",
       "AAPL  Information Technology  0.308303  1.258038"
      ],
      "text/html": [
       "<div>\n",
       "<style scoped>\n",
       "    .dataframe tbody tr th:only-of-type {\n",
       "        vertical-align: middle;\n",
       "    }\n",
       "\n",
       "    .dataframe tbody tr th {\n",
       "        vertical-align: top;\n",
       "    }\n",
       "\n",
       "    .dataframe thead th {\n",
       "        text-align: right;\n",
       "    }\n",
       "</style>\n",
       "<table border=\"1\" class=\"dataframe\">\n",
       "  <thead>\n",
       "    <tr style=\"text-align: right;\">\n",
       "      <th></th>\n",
       "      <th>Sector</th>\n",
       "      <th>Weight</th>\n",
       "      <th>Return</th>\n",
       "    </tr>\n",
       "  </thead>\n",
       "  <tbody>\n",
       "    <tr>\n",
       "      <th>META</th>\n",
       "      <td>Communication</td>\n",
       "      <td>-0.101596</td>\n",
       "      <td>1.052067</td>\n",
       "    </tr>\n",
       "    <tr>\n",
       "      <th>GOOG</th>\n",
       "      <td>Communication</td>\n",
       "      <td>0.232007</td>\n",
       "      <td>1.050458</td>\n",
       "    </tr>\n",
       "    <tr>\n",
       "      <th>NFLX</th>\n",
       "      <td>Communication</td>\n",
       "      <td>0.037450</td>\n",
       "      <td>1.013288</td>\n",
       "    </tr>\n",
       "    <tr>\n",
       "      <th>AMZN</th>\n",
       "      <td>Consumer Discretionary</td>\n",
       "      <td>-0.028903</td>\n",
       "      <td>0.864811</td>\n",
       "    </tr>\n",
       "    <tr>\n",
       "      <th>TSLA</th>\n",
       "      <td>Consumer Discretionary</td>\n",
       "      <td>0.048271</td>\n",
       "      <td>2.672798</td>\n",
       "    </tr>\n",
       "    <tr>\n",
       "      <th>HD</th>\n",
       "      <td>Consumer Discretionary</td>\n",
       "      <td>0.300219</td>\n",
       "      <td>0.697804</td>\n",
       "    </tr>\n",
       "    <tr>\n",
       "      <th>MSFT</th>\n",
       "      <td>Information Technology</td>\n",
       "      <td>0.002992</td>\n",
       "      <td>1.027615</td>\n",
       "    </tr>\n",
       "    <tr>\n",
       "      <th>NVDA</th>\n",
       "      <td>Information Technology</td>\n",
       "      <td>0.201256</td>\n",
       "      <td>3.132203</td>\n",
       "    </tr>\n",
       "    <tr>\n",
       "      <th>AAPL</th>\n",
       "      <td>Information Technology</td>\n",
       "      <td>0.308303</td>\n",
       "      <td>1.258038</td>\n",
       "    </tr>\n",
       "  </tbody>\n",
       "</table>\n",
       "</div>"
      ]
     },
     "execution_count": 108,
     "metadata": {},
     "output_type": "execute_result"
    }
   ],
   "execution_count": 108
  },
  {
   "metadata": {
    "ExecuteTime": {
     "end_time": "2025-06-09T09:14:30.015430Z",
     "start_time": "2025-06-09T09:14:30.003835Z"
    }
   },
   "cell_type": "code",
   "source": [
    "# Calculate weight for each sector:\n",
    "\n",
    "sector_weights = df_temp.groupby('Sector')['Weight'].sum()\n",
    "\n",
    "sector_weights"
   ],
   "id": "84f91c4cd3d2b307",
   "outputs": [
    {
     "data": {
      "text/plain": [
       "Sector\n",
       "Communication             0.167862\n",
       "Consumer Discretionary    0.319587\n",
       "Information Technology    0.512552\n",
       "Name: Weight, dtype: float64"
      ]
     },
     "execution_count": 109,
     "metadata": {},
     "output_type": "execute_result"
    }
   ],
   "execution_count": 109
  },
  {
   "metadata": {
    "ExecuteTime": {
     "end_time": "2025-06-09T09:14:30.989352Z",
     "start_time": "2025-06-09T09:14:30.976804Z"
    }
   },
   "cell_type": "code",
   "source": [
    "# Calculate returns for each sector\n",
    "def weighted_return(group):\n",
    "    return (group['Weight'] * group['Return']).sum() / group['Weight'].sum()"
   ],
   "id": "c9061bb597148ca2",
   "outputs": [],
   "execution_count": 110
  },
  {
   "metadata": {
    "ExecuteTime": {
     "end_time": "2025-06-09T09:14:31.746553Z",
     "start_time": "2025-06-09T09:14:31.720994Z"
    }
   },
   "cell_type": "code",
   "source": [
    "sector_returns = df_temp.groupby('Sector').apply(weighted_return)\n",
    "sector_returns.name = 'sector_returns'\n",
    "\n",
    "sector_returns"
   ],
   "id": "c06fe13a122d23fe",
   "outputs": [
    {
     "data": {
      "text/plain": [
       "Sector\n",
       "Communication             1.041191\n",
       "Consumer Discretionary    0.981007\n",
       "Information Technology    1.992594\n",
       "Name: sector_returns, dtype: float64"
      ]
     },
     "execution_count": 111,
     "metadata": {},
     "output_type": "execute_result"
    }
   ],
   "execution_count": 111
  },
  {
   "metadata": {
    "ExecuteTime": {
     "end_time": "2025-06-09T09:14:39.106799Z",
     "start_time": "2025-06-09T09:14:39.096446Z"
    }
   },
   "cell_type": "code",
   "source": [
    "benchmark_weights = pd.Series(\n",
    "    [0.0967, 0.1034, 0.3209],\n",
    "    index = sector_weights.index,\n",
    "    name = 'benchmark_weights'\n",
    ")\n",
    "\n",
    "benchmark_weights"
   ],
   "id": "a8131f95efcca8cc",
   "outputs": [
    {
     "data": {
      "text/plain": [
       "Sector\n",
       "Communication             0.0967\n",
       "Consumer Discretionary    0.1034\n",
       "Information Technology    0.3209\n",
       "Name: benchmark_weights, dtype: float64"
      ]
     },
     "execution_count": 112,
     "metadata": {},
     "output_type": "execute_result"
    }
   ],
   "execution_count": 112
  },
  {
   "metadata": {
    "ExecuteTime": {
     "end_time": "2025-06-09T09:14:50.712598Z",
     "start_time": "2025-06-09T09:14:49.281535Z"
    }
   },
   "cell_type": "code",
   "source": [
    "# Import ETF data to approximate sector returns\n",
    "tickers = [\n",
    "    'XLC',          # Communication ETF\n",
    "    'XLY',          # Consumer Discretionary ETF\n",
    "    'XLK'           # Information Technology ETF\n",
    "]      \n",
    "\n",
    "# DataFrame to store everything\n",
    "etfs_returns = pd.DataFrame()\n",
    "\n",
    "for ticker in tickers:\n",
    "    df_stock = import_daily_financial_data(\n",
    "        ticker=ticker, \n",
    "        start_date='2020-01-01', \n",
    "        end_date='2025-01-01', \n",
    "        returns=True\n",
    "    )\n",
    "    \n",
    "    returns = df_stock['returns'].rename(ticker)\n",
    "    \n",
    "    etfs_returns = pd.concat([etfs_returns, returns], axis=1)\n",
    "    \n",
    "    print(f'Data Ready for {ticker}')"
   ],
   "id": "e8a4309211020057",
   "outputs": [
    {
     "name": "stderr",
     "output_type": "stream",
     "text": [
      "[*********************100%***********************]  1 of 1 completed\n"
     ]
    },
    {
     "name": "stdout",
     "output_type": "stream",
     "text": [
      "Data Ready for XLC\n"
     ]
    },
    {
     "name": "stderr",
     "output_type": "stream",
     "text": [
      "[*********************100%***********************]  1 of 1 completed\n"
     ]
    },
    {
     "name": "stdout",
     "output_type": "stream",
     "text": [
      "Data Ready for XLY\n"
     ]
    },
    {
     "name": "stderr",
     "output_type": "stream",
     "text": [
      "[*********************100%***********************]  1 of 1 completed"
     ]
    },
    {
     "name": "stdout",
     "output_type": "stream",
     "text": [
      "Data Ready for XLK\n"
     ]
    },
    {
     "name": "stderr",
     "output_type": "stream",
     "text": [
      "\n"
     ]
    }
   ],
   "execution_count": 114
  },
  {
   "metadata": {
    "ExecuteTime": {
     "end_time": "2025-06-09T09:17:36.181941Z",
     "start_time": "2025-06-09T09:17:36.170101Z"
    }
   },
   "cell_type": "code",
   "source": [
    "# Total Returns\n",
    "etfs_total_returns = etfs_returns.cumsum().iloc[-1]\n",
    "etfs_total_returns.name = 'etfs_total_returns'\n",
    "etfs_total_returns.index = benchmark_weights.index\n",
    "\n",
    "etfs_total_returns"
   ],
   "id": "850cceee374037e7",
   "outputs": [
    {
     "data": {
      "text/plain": [
       "Sector\n",
       "Communication             0.624624\n",
       "Consumer Discretionary    0.612511\n",
       "Information Technology    0.957523\n",
       "Name: etfs_total_returns, dtype: float64"
      ]
     },
     "execution_count": 120,
     "metadata": {},
     "output_type": "execute_result"
    }
   ],
   "execution_count": 120
  },
  {
   "metadata": {
    "ExecuteTime": {
     "end_time": "2025-06-09T09:27:38.782284Z",
     "start_time": "2025-06-09T09:27:38.771028Z"
    }
   },
   "cell_type": "code",
   "source": [
    "# Create a DataFrame to see all the data\n",
    "bf_data = pd.DataFrame(\n",
    "    index=benchmark_weights.index,\n",
    ")\n",
    "\n",
    "bf_data"
   ],
   "id": "a61efab86d51ed2d",
   "outputs": [
    {
     "data": {
      "text/plain": [
       "Empty DataFrame\n",
       "Columns: []\n",
       "Index: [Communication, Consumer Discretionary, Information Technology]"
      ],
      "text/html": [
       "<div>\n",
       "<style scoped>\n",
       "    .dataframe tbody tr th:only-of-type {\n",
       "        vertical-align: middle;\n",
       "    }\n",
       "\n",
       "    .dataframe tbody tr th {\n",
       "        vertical-align: top;\n",
       "    }\n",
       "\n",
       "    .dataframe thead th {\n",
       "        text-align: right;\n",
       "    }\n",
       "</style>\n",
       "<table border=\"1\" class=\"dataframe\">\n",
       "  <thead>\n",
       "    <tr style=\"text-align: right;\">\n",
       "      <th></th>\n",
       "    </tr>\n",
       "    <tr>\n",
       "      <th>Sector</th>\n",
       "    </tr>\n",
       "  </thead>\n",
       "  <tbody>\n",
       "    <tr>\n",
       "      <th>Communication</th>\n",
       "    </tr>\n",
       "    <tr>\n",
       "      <th>Consumer Discretionary</th>\n",
       "    </tr>\n",
       "    <tr>\n",
       "      <th>Information Technology</th>\n",
       "    </tr>\n",
       "  </tbody>\n",
       "</table>\n",
       "</div>"
      ]
     },
     "execution_count": 134,
     "metadata": {},
     "output_type": "execute_result"
    }
   ],
   "execution_count": 134
  },
  {
   "metadata": {
    "ExecuteTime": {
     "end_time": "2025-06-09T09:27:39.070706Z",
     "start_time": "2025-06-09T09:27:39.057724Z"
    }
   },
   "cell_type": "code",
   "source": [
    "# Add columns\n",
    "bf_data['portfolio_weights'] = sector_weights\n",
    "bf_data['portfolio_returns'] = sector_returns\n",
    "bf_data['benchmark_weights'] = benchmark_weights\n",
    "bf_data['benchmark_returns'] = etfs_total_returns\n",
    "\n",
    "bf_data"
   ],
   "id": "342f283b349d4fa6",
   "outputs": [
    {
     "data": {
      "text/plain": [
       "                        portfolio_weights  portfolio_returns  \\\n",
       "Sector                                                         \n",
       "Communication                    0.167862           1.041191   \n",
       "Consumer Discretionary           0.319587           0.981007   \n",
       "Information Technology           0.512552           1.992594   \n",
       "\n",
       "                        benchmark_weights  benchmark_returns  \n",
       "Sector                                                        \n",
       "Communication                      0.0967           0.624624  \n",
       "Consumer Discretionary             0.1034           0.612511  \n",
       "Information Technology             0.3209           0.957523  "
      ],
      "text/html": [
       "<div>\n",
       "<style scoped>\n",
       "    .dataframe tbody tr th:only-of-type {\n",
       "        vertical-align: middle;\n",
       "    }\n",
       "\n",
       "    .dataframe tbody tr th {\n",
       "        vertical-align: top;\n",
       "    }\n",
       "\n",
       "    .dataframe thead th {\n",
       "        text-align: right;\n",
       "    }\n",
       "</style>\n",
       "<table border=\"1\" class=\"dataframe\">\n",
       "  <thead>\n",
       "    <tr style=\"text-align: right;\">\n",
       "      <th></th>\n",
       "      <th>portfolio_weights</th>\n",
       "      <th>portfolio_returns</th>\n",
       "      <th>benchmark_weights</th>\n",
       "      <th>benchmark_returns</th>\n",
       "    </tr>\n",
       "    <tr>\n",
       "      <th>Sector</th>\n",
       "      <th></th>\n",
       "      <th></th>\n",
       "      <th></th>\n",
       "      <th></th>\n",
       "    </tr>\n",
       "  </thead>\n",
       "  <tbody>\n",
       "    <tr>\n",
       "      <th>Communication</th>\n",
       "      <td>0.167862</td>\n",
       "      <td>1.041191</td>\n",
       "      <td>0.0967</td>\n",
       "      <td>0.624624</td>\n",
       "    </tr>\n",
       "    <tr>\n",
       "      <th>Consumer Discretionary</th>\n",
       "      <td>0.319587</td>\n",
       "      <td>0.981007</td>\n",
       "      <td>0.1034</td>\n",
       "      <td>0.612511</td>\n",
       "    </tr>\n",
       "    <tr>\n",
       "      <th>Information Technology</th>\n",
       "      <td>0.512552</td>\n",
       "      <td>1.992594</td>\n",
       "      <td>0.3209</td>\n",
       "      <td>0.957523</td>\n",
       "    </tr>\n",
       "  </tbody>\n",
       "</table>\n",
       "</div>"
      ]
     },
     "execution_count": 135,
     "metadata": {},
     "output_type": "execute_result"
    }
   ],
   "execution_count": 135
  },
  {
   "metadata": {
    "ExecuteTime": {
     "end_time": "2025-06-09T09:27:39.469719Z",
     "start_time": "2025-06-09T09:27:39.410219Z"
    }
   },
   "cell_type": "code",
   "source": [
    "# and of course we need the benchmark\n",
    "\n",
    "sp500_returns = import_daily_financial_data(\n",
    "        ticker='^GSPC', \n",
    "        start_date='2020-01-01', \n",
    "        end_date='2025-01-01', \n",
    "        returns=True\n",
    "    )\n",
    "\n",
    "sp500_returns = sp500_returns['returns']"
   ],
   "id": "a85afa40be08ccc2",
   "outputs": [
    {
     "name": "stderr",
     "output_type": "stream",
     "text": [
      "[*********************100%***********************]  1 of 1 completed\n"
     ]
    }
   ],
   "execution_count": 136
  },
  {
   "metadata": {
    "ExecuteTime": {
     "end_time": "2025-06-09T09:27:39.812346Z",
     "start_time": "2025-06-09T09:27:39.804372Z"
    }
   },
   "cell_type": "code",
   "source": [
    "# And the benchmark returns\n",
    "benchmark_total_returns = sp500_returns.cumsum().iloc[-1]\n",
    "\n",
    "benchmark_total_returns"
   ],
   "id": "aad800d796ae435c",
   "outputs": [
    {
     "data": {
      "text/plain": [
       "0.5907664158747497"
      ]
     },
     "execution_count": 137,
     "metadata": {},
     "output_type": "execute_result"
    }
   ],
   "execution_count": 137
  },
  {
   "metadata": {},
   "cell_type": "markdown",
   "source": "Now we can calculate the effects",
   "id": "5a9d0943c761ad0d"
  },
  {
   "metadata": {
    "ExecuteTime": {
     "end_time": "2025-06-09T09:29:33.439202Z",
     "start_time": "2025-06-09T09:29:33.430100Z"
    }
   },
   "cell_type": "code",
   "source": [
    "# Weights difference\n",
    "bf_data['weights_diff'] = bf_data['portfolio_weights'] - bf_data['benchmark_weights']\n",
    "bf_data['returns_diff'] = bf_data['portfolio_returns'] - bf_data['benchmark_returns']\n",
    "\n",
    "bf_data"
   ],
   "id": "978bd5a184e5bf79",
   "outputs": [
    {
     "data": {
      "text/plain": [
       "                        portfolio_weights  portfolio_returns  \\\n",
       "Sector                                                         \n",
       "Communication                    0.167862           1.041191   \n",
       "Consumer Discretionary           0.319587           0.981007   \n",
       "Information Technology           0.512552           1.992594   \n",
       "\n",
       "                        benchmark_weights  benchmark_returns  weights_diff  \\\n",
       "Sector                                                                       \n",
       "Communication                      0.0967           0.624624      0.071162   \n",
       "Consumer Discretionary             0.1034           0.612511      0.216187   \n",
       "Information Technology             0.3209           0.957523      0.191652   \n",
       "\n",
       "                        returns_diff  \n",
       "Sector                                \n",
       "Communication               0.416566  \n",
       "Consumer Discretionary      0.368496  \n",
       "Information Technology      1.035071  "
      ],
      "text/html": [
       "<div>\n",
       "<style scoped>\n",
       "    .dataframe tbody tr th:only-of-type {\n",
       "        vertical-align: middle;\n",
       "    }\n",
       "\n",
       "    .dataframe tbody tr th {\n",
       "        vertical-align: top;\n",
       "    }\n",
       "\n",
       "    .dataframe thead th {\n",
       "        text-align: right;\n",
       "    }\n",
       "</style>\n",
       "<table border=\"1\" class=\"dataframe\">\n",
       "  <thead>\n",
       "    <tr style=\"text-align: right;\">\n",
       "      <th></th>\n",
       "      <th>portfolio_weights</th>\n",
       "      <th>portfolio_returns</th>\n",
       "      <th>benchmark_weights</th>\n",
       "      <th>benchmark_returns</th>\n",
       "      <th>weights_diff</th>\n",
       "      <th>returns_diff</th>\n",
       "    </tr>\n",
       "    <tr>\n",
       "      <th>Sector</th>\n",
       "      <th></th>\n",
       "      <th></th>\n",
       "      <th></th>\n",
       "      <th></th>\n",
       "      <th></th>\n",
       "      <th></th>\n",
       "    </tr>\n",
       "  </thead>\n",
       "  <tbody>\n",
       "    <tr>\n",
       "      <th>Communication</th>\n",
       "      <td>0.167862</td>\n",
       "      <td>1.041191</td>\n",
       "      <td>0.0967</td>\n",
       "      <td>0.624624</td>\n",
       "      <td>0.071162</td>\n",
       "      <td>0.416566</td>\n",
       "    </tr>\n",
       "    <tr>\n",
       "      <th>Consumer Discretionary</th>\n",
       "      <td>0.319587</td>\n",
       "      <td>0.981007</td>\n",
       "      <td>0.1034</td>\n",
       "      <td>0.612511</td>\n",
       "      <td>0.216187</td>\n",
       "      <td>0.368496</td>\n",
       "    </tr>\n",
       "    <tr>\n",
       "      <th>Information Technology</th>\n",
       "      <td>0.512552</td>\n",
       "      <td>1.992594</td>\n",
       "      <td>0.3209</td>\n",
       "      <td>0.957523</td>\n",
       "      <td>0.191652</td>\n",
       "      <td>1.035071</td>\n",
       "    </tr>\n",
       "  </tbody>\n",
       "</table>\n",
       "</div>"
      ]
     },
     "execution_count": 141,
     "metadata": {},
     "output_type": "execute_result"
    }
   ],
   "execution_count": 141
  },
  {
   "metadata": {
    "ExecuteTime": {
     "end_time": "2025-06-09T09:27:43.962640Z",
     "start_time": "2025-06-09T09:27:43.956393Z"
    }
   },
   "cell_type": "code",
   "source": [
    "# Calculate the Brinson-Fachler Allocation Effect\n",
    "allocation_effect = bf_data['weights_diff'] * (bf_data['benchmark_returns'] - benchmark_total_returns)\n",
    "allocation_effect.name = 'allocation_effect'\n",
    "\n",
    "allocation_effect"
   ],
   "id": "45ad070799300d73",
   "outputs": [
    {
     "data": {
      "text/plain": [
       "Sector\n",
       "Communication             0.002409\n",
       "Consumer Discretionary    0.004701\n",
       "Information Technology    0.070289\n",
       "Name: allocation_effect, dtype: float64"
      ]
     },
     "execution_count": 139,
     "metadata": {},
     "output_type": "execute_result"
    }
   ],
   "execution_count": 139
  },
  {
   "metadata": {
    "ExecuteTime": {
     "end_time": "2025-06-09T09:29:46.677228Z",
     "start_time": "2025-06-09T09:29:46.656170Z"
    }
   },
   "cell_type": "code",
   "source": [
    "# Calculate the Brinson-Fachler Allocation Effect\n",
    "selection_effect = bf_data['benchmark_weights'] * bf_data['returns_diff']\n",
    "selection_effect.name = 'selection_effect'\n",
    "\n",
    "selection_effect"
   ],
   "id": "a2d16acd9f2fb4e9",
   "outputs": [
    {
     "data": {
      "text/plain": [
       "Sector\n",
       "Communication             0.040282\n",
       "Consumer Discretionary    0.038102\n",
       "Information Technology    0.332154\n",
       "Name: selection_effect, dtype: float64"
      ]
     },
     "execution_count": 142,
     "metadata": {},
     "output_type": "execute_result"
    }
   ],
   "execution_count": 142
  },
  {
   "metadata": {
    "ExecuteTime": {
     "end_time": "2025-06-09T09:29:54.126253Z",
     "start_time": "2025-06-09T09:29:54.112364Z"
    }
   },
   "cell_type": "code",
   "source": [
    "# Calculate the Brinson-Fachler Intersection Effect\n",
    "interaction_effect = bf_data['weights_diff'] * bf_data['returns_diff']\n",
    "interaction_effect.name = 'interaction_effect'\n",
    "\n",
    "interaction_effect"
   ],
   "id": "ad4068e0f9731657",
   "outputs": [
    {
     "data": {
      "text/plain": [
       "Sector\n",
       "Communication             0.029644\n",
       "Consumer Discretionary    0.079664\n",
       "Information Technology    0.198373\n",
       "Name: interaction_effect, dtype: float64"
      ]
     },
     "execution_count": 143,
     "metadata": {},
     "output_type": "execute_result"
    }
   ],
   "execution_count": 143
  },
  {
   "metadata": {
    "ExecuteTime": {
     "end_time": "2025-06-09T09:30:29.557363Z",
     "start_time": "2025-06-09T09:30:29.550078Z"
    }
   },
   "cell_type": "code",
   "source": [
    "# Calculate the Total Effect\n",
    "bf_total_attribution = (\n",
    "        allocation_effect + \n",
    "        selection_effect +\n",
    "        interaction_effect\n",
    ")\n",
    "\n",
    "bf_total_attribution.name = 'bf_total_attribution'\n",
    "\n",
    "bf_total_attribution"
   ],
   "id": "7b0143af673429a3",
   "outputs": [
    {
     "data": {
      "text/plain": [
       "Sector\n",
       "Communication             0.072335\n",
       "Consumer Discretionary    0.122467\n",
       "Information Technology    0.600817\n",
       "Name: bf_total_attribution, dtype: float64"
      ]
     },
     "execution_count": 144,
     "metadata": {},
     "output_type": "execute_result"
    }
   ],
   "execution_count": 144
  },
  {
   "metadata": {
    "ExecuteTime": {
     "end_time": "2025-06-09T09:30:50.787460Z",
     "start_time": "2025-06-09T09:30:50.763973Z"
    }
   },
   "cell_type": "code",
   "source": [
    "# Show\n",
    "brinson_fachler_df = pd.DataFrame({\n",
    "    'allocation': allocation_effect,\n",
    "    'selection': selection_effect,\n",
    "    'interaction': interaction_effect,\n",
    "    'total': bf_total_attribution\n",
    "})\n",
    "\n",
    "brinson_fachler_df"
   ],
   "id": "2943b3858a306ca3",
   "outputs": [
    {
     "data": {
      "text/plain": [
       "                        allocation  selection  interaction     total\n",
       "Sector                                                              \n",
       "Communication             0.002409   0.040282     0.029644  0.072335\n",
       "Consumer Discretionary    0.004701   0.038102     0.079664  0.122467\n",
       "Information Technology    0.070289   0.332154     0.198373  0.600817"
      ],
      "text/html": [
       "<div>\n",
       "<style scoped>\n",
       "    .dataframe tbody tr th:only-of-type {\n",
       "        vertical-align: middle;\n",
       "    }\n",
       "\n",
       "    .dataframe tbody tr th {\n",
       "        vertical-align: top;\n",
       "    }\n",
       "\n",
       "    .dataframe thead th {\n",
       "        text-align: right;\n",
       "    }\n",
       "</style>\n",
       "<table border=\"1\" class=\"dataframe\">\n",
       "  <thead>\n",
       "    <tr style=\"text-align: right;\">\n",
       "      <th></th>\n",
       "      <th>allocation</th>\n",
       "      <th>selection</th>\n",
       "      <th>interaction</th>\n",
       "      <th>total</th>\n",
       "    </tr>\n",
       "    <tr>\n",
       "      <th>Sector</th>\n",
       "      <th></th>\n",
       "      <th></th>\n",
       "      <th></th>\n",
       "      <th></th>\n",
       "    </tr>\n",
       "  </thead>\n",
       "  <tbody>\n",
       "    <tr>\n",
       "      <th>Communication</th>\n",
       "      <td>0.002409</td>\n",
       "      <td>0.040282</td>\n",
       "      <td>0.029644</td>\n",
       "      <td>0.072335</td>\n",
       "    </tr>\n",
       "    <tr>\n",
       "      <th>Consumer Discretionary</th>\n",
       "      <td>0.004701</td>\n",
       "      <td>0.038102</td>\n",
       "      <td>0.079664</td>\n",
       "      <td>0.122467</td>\n",
       "    </tr>\n",
       "    <tr>\n",
       "      <th>Information Technology</th>\n",
       "      <td>0.070289</td>\n",
       "      <td>0.332154</td>\n",
       "      <td>0.198373</td>\n",
       "      <td>0.600817</td>\n",
       "    </tr>\n",
       "  </tbody>\n",
       "</table>\n",
       "</div>"
      ]
     },
     "execution_count": 145,
     "metadata": {},
     "output_type": "execute_result"
    }
   ],
   "execution_count": 145
  },
  {
   "metadata": {
    "ExecuteTime": {
     "end_time": "2025-06-09T09:31:08.845908Z",
     "start_time": "2025-06-09T09:31:08.830384Z"
    }
   },
   "cell_type": "code",
   "source": [
    "# Divide the DataFrame by the Excess Return\n",
    "norm_brinson_fachler_df = (brinson_fachler_df/brinson_fachler_df['total'].sum()) * 100\n",
    "\n",
    "norm_brinson_fachler_df"
   ],
   "id": "8e1562ae02f4e93c",
   "outputs": [
    {
     "data": {
      "text/plain": [
       "                        allocation  selection  interaction      total\n",
       "Sector                                                               \n",
       "Communication             0.302831   5.062972     3.725846   9.091649\n",
       "Consumer Discretionary    0.590843   4.789032    10.012819  15.392695\n",
       "Information Technology    8.834559  41.747923    24.933174  75.515656"
      ],
      "text/html": [
       "<div>\n",
       "<style scoped>\n",
       "    .dataframe tbody tr th:only-of-type {\n",
       "        vertical-align: middle;\n",
       "    }\n",
       "\n",
       "    .dataframe tbody tr th {\n",
       "        vertical-align: top;\n",
       "    }\n",
       "\n",
       "    .dataframe thead th {\n",
       "        text-align: right;\n",
       "    }\n",
       "</style>\n",
       "<table border=\"1\" class=\"dataframe\">\n",
       "  <thead>\n",
       "    <tr style=\"text-align: right;\">\n",
       "      <th></th>\n",
       "      <th>allocation</th>\n",
       "      <th>selection</th>\n",
       "      <th>interaction</th>\n",
       "      <th>total</th>\n",
       "    </tr>\n",
       "    <tr>\n",
       "      <th>Sector</th>\n",
       "      <th></th>\n",
       "      <th></th>\n",
       "      <th></th>\n",
       "      <th></th>\n",
       "    </tr>\n",
       "  </thead>\n",
       "  <tbody>\n",
       "    <tr>\n",
       "      <th>Communication</th>\n",
       "      <td>0.302831</td>\n",
       "      <td>5.062972</td>\n",
       "      <td>3.725846</td>\n",
       "      <td>9.091649</td>\n",
       "    </tr>\n",
       "    <tr>\n",
       "      <th>Consumer Discretionary</th>\n",
       "      <td>0.590843</td>\n",
       "      <td>4.789032</td>\n",
       "      <td>10.012819</td>\n",
       "      <td>15.392695</td>\n",
       "    </tr>\n",
       "    <tr>\n",
       "      <th>Information Technology</th>\n",
       "      <td>8.834559</td>\n",
       "      <td>41.747923</td>\n",
       "      <td>24.933174</td>\n",
       "      <td>75.515656</td>\n",
       "    </tr>\n",
       "  </tbody>\n",
       "</table>\n",
       "</div>"
      ]
     },
     "execution_count": 146,
     "metadata": {},
     "output_type": "execute_result"
    }
   ],
   "execution_count": 146
  },
  {
   "metadata": {
    "ExecuteTime": {
     "end_time": "2025-06-09T09:31:19.492688Z",
     "start_time": "2025-06-09T09:31:19.478246Z"
    }
   },
   "cell_type": "code",
   "source": "norm_brinson_fachler_df.sum().round(3)",
   "id": "83b485961afdd24a",
   "outputs": [
    {
     "data": {
      "text/plain": [
       "allocation       9.728\n",
       "selection       51.600\n",
       "interaction     38.672\n",
       "total          100.000\n",
       "dtype: float64"
      ]
     },
     "execution_count": 149,
     "metadata": {},
     "output_type": "execute_result"
    }
   ],
   "execution_count": 149
  },
  {
   "metadata": {},
   "cell_type": "code",
   "outputs": [],
   "execution_count": null,
   "source": "",
   "id": "2836df93c33b9da6"
  }
 ],
 "metadata": {
  "kernelspec": {
   "display_name": "Python 3",
   "language": "python",
   "name": "python3"
  },
  "language_info": {
   "codemirror_mode": {
    "name": "ipython",
    "version": 2
   },
   "file_extension": ".py",
   "mimetype": "text/x-python",
   "name": "python",
   "nbconvert_exporter": "python",
   "pygments_lexer": "ipython2",
   "version": "2.7.6"
  }
 },
 "nbformat": 4,
 "nbformat_minor": 5
}
