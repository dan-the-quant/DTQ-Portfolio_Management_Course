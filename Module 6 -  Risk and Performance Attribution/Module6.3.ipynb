{
 "cells": [
  {
   "metadata": {},
   "cell_type": "markdown",
   "source": "# Risk Attribution: Menchero Methodology ###",
   "id": "4667c30ca4a608c1"
  },
  {
   "metadata": {
    "ExecuteTime": {
     "end_time": "2025-06-18T01:29:13.578472Z",
     "start_time": "2025-06-18T01:29:11.806366Z"
    }
   },
   "cell_type": "code",
   "source": [
    "# Import Libraries\n",
    "\n",
    "# Data Management\n",
    "import pandas as pd\n",
    "import numpy as np\n",
    "\n",
    "# Plots\n",
    "import matplotlib.pyplot as plt\n",
    "\n",
    "# Statistics\n",
    "import statsmodels.api as sm\n",
    "from scipy.stats import norm\n",
    "\n",
    "# Handle Files\n",
    "import sys\n",
    "import os\n",
    "\n",
    "# Import Local Functions\n",
    "sys.path.append(os.path.abspath(\"../source\"))\n",
    "from factors_toolkit import FamaFrenchFactors\n",
    "from portfolios_toolkit import markowitz_weights\n",
    "from portfolios_toolkit import portfolio_variance"
   ],
   "id": "initial_id",
   "outputs": [],
   "execution_count": 1
  },
  {
   "metadata": {},
   "cell_type": "markdown",
   "source": "### Building a Portfolio ###",
   "id": "e4aacd51332c7cc2"
  },
  {
   "metadata": {
    "ExecuteTime": {
     "end_time": "2025-06-18T01:29:13.841311Z",
     "start_time": "2025-06-18T01:29:13.578472Z"
    }
   },
   "cell_type": "code",
   "source": [
    "# Import the Returns Data\n",
    "returns_df = pd.read_csv(r'..\\additional_data\\stocks_returns.csv')\n",
    "returns_df.rename(columns={'Unnamed: 0': 'Date'}, inplace=True)\n",
    "returns_df.set_index('Date', inplace=True)\n",
    "returns_df.index = pd.to_datetime(returns_df.index)\n",
    "\n",
    "returns_df"
   ],
   "id": "5f6f394e2d476369",
   "outputs": [
    {
     "data": {
      "text/plain": [
       "                   A      AAPL      ABBV       ABT      ADBE       ADI  \\\n",
       "Date                                                                     \n",
       "2015-01-05 -0.018915 -0.028576 -0.018998  0.000222 -0.004989 -0.018352   \n",
       "2015-01-06 -0.015700  0.000094 -0.004962 -0.011421 -0.020350 -0.023753   \n",
       "2015-01-07  0.013184  0.013925  0.039621  0.008076  0.008190  0.010462   \n",
       "2015-01-08  0.029534  0.037702  0.010404  0.020345  0.025135  0.017501   \n",
       "2015-01-09 -0.007364  0.001072 -0.027736 -0.010563 -0.014922 -0.000731   \n",
       "...              ...       ...       ...       ...       ...       ...   \n",
       "2024-12-24  0.011083  0.011413  0.008985  0.003929  0.002683  0.014782   \n",
       "2024-12-26 -0.001986  0.003171 -0.004454  0.004434  0.004944 -0.000138   \n",
       "2024-12-27 -0.002137 -0.013331 -0.006663 -0.002432 -0.008208 -0.004919   \n",
       "2024-12-30 -0.008298 -0.013352 -0.010220 -0.019229 -0.001524 -0.020627   \n",
       "2024-12-31  0.001251 -0.007083  0.008477  0.002744 -0.002515 -0.000471   \n",
       "\n",
       "                 ADM       ADP      ADSK       AEE  ...       WST        WY  \\\n",
       "Date                                                ...                       \n",
       "2015-01-05 -0.035215 -0.000721 -0.014722 -0.010052  ... -0.013900  0.000000   \n",
       "2015-01-06 -0.019911 -0.008324 -0.019973 -0.011709  ... -0.017255 -0.001108   \n",
       "2015-01-07  0.014920  0.008685 -0.002089  0.007747  ...  0.016088  0.003045   \n",
       "2015-01-08 -0.014717  0.022681  0.024446  0.003522  ...  0.019467  0.010722   \n",
       "2015-01-09 -0.008566 -0.007188 -0.009054 -0.011270  ... -0.011519 -0.001368   \n",
       "...              ...       ...       ...       ...  ...       ...       ...   \n",
       "2024-12-24  0.004355  0.007822  0.012494  0.013291  ...  0.009663  0.006390   \n",
       "2024-12-26 -0.000395  0.002594 -0.003159 -0.002203  ...  0.001981 -0.003190   \n",
       "2024-12-27 -0.000593 -0.003539 -0.008999 -0.006305  ... -0.000630 -0.006410   \n",
       "2024-12-30 -0.010134 -0.010897 -0.000202 -0.005564  ... -0.013292 -0.003579   \n",
       "2024-12-31  0.008947 -0.000819 -0.006609 -0.005370  ... -0.003839  0.009279   \n",
       "\n",
       "                WYNN       XEL       XOM       XYL       YUM       ZBH  \\\n",
       "Date                                                                     \n",
       "2015-01-05 -0.017166 -0.011416 -0.027743 -0.064259 -0.020527  0.036625   \n",
       "2015-01-06 -0.021562  0.005306 -0.005330 -0.005898 -0.012351 -0.008513   \n",
       "2015-01-07  0.028945  0.008598  0.010081  0.007857  0.032601  0.024566   \n",
       "2015-01-08  0.011959  0.011532  0.016508  0.007517  0.017270  0.010561   \n",
       "2015-01-09  0.012422 -0.012361 -0.001411 -0.019043 -0.001768 -0.014529   \n",
       "...              ...       ...       ...       ...       ...       ...   \n",
       "2024-12-24  0.007575  0.007210  0.000940  0.005432  0.008480  0.004484   \n",
       "2024-12-26  0.005952 -0.000440  0.000845  0.002705  0.007380 -0.000466   \n",
       "2024-12-27 -0.007079 -0.000587 -0.000094 -0.007966 -0.005678 -0.003549   \n",
       "2024-12-30 -0.032666 -0.008104 -0.006785 -0.010693 -0.012726 -0.011602   \n",
       "2024-12-31  0.003837 -0.001036  0.016969 -0.002238  0.004782  0.002180   \n",
       "\n",
       "                ZBRA       ZTS  \n",
       "Date                            \n",
       "2015-01-05 -0.014177 -0.006022  \n",
       "2015-01-06 -0.007231 -0.009804  \n",
       "2015-01-07  0.025146  0.020432  \n",
       "2015-01-08  0.021134  0.015282  \n",
       "2015-01-09  0.014508  0.001583  \n",
       "...              ...       ...  \n",
       "2024-12-24  0.012187  0.002553  \n",
       "2024-12-26  0.003559  0.004966  \n",
       "2024-12-27 -0.019799 -0.005574  \n",
       "2024-12-30 -0.013507 -0.014442  \n",
       "2024-12-31  0.006155  0.004244  \n",
       "\n",
       "[2515 rows x 399 columns]"
      ],
      "text/html": [
       "<div>\n",
       "<style scoped>\n",
       "    .dataframe tbody tr th:only-of-type {\n",
       "        vertical-align: middle;\n",
       "    }\n",
       "\n",
       "    .dataframe tbody tr th {\n",
       "        vertical-align: top;\n",
       "    }\n",
       "\n",
       "    .dataframe thead th {\n",
       "        text-align: right;\n",
       "    }\n",
       "</style>\n",
       "<table border=\"1\" class=\"dataframe\">\n",
       "  <thead>\n",
       "    <tr style=\"text-align: right;\">\n",
       "      <th></th>\n",
       "      <th>A</th>\n",
       "      <th>AAPL</th>\n",
       "      <th>ABBV</th>\n",
       "      <th>ABT</th>\n",
       "      <th>ADBE</th>\n",
       "      <th>ADI</th>\n",
       "      <th>ADM</th>\n",
       "      <th>ADP</th>\n",
       "      <th>ADSK</th>\n",
       "      <th>AEE</th>\n",
       "      <th>...</th>\n",
       "      <th>WST</th>\n",
       "      <th>WY</th>\n",
       "      <th>WYNN</th>\n",
       "      <th>XEL</th>\n",
       "      <th>XOM</th>\n",
       "      <th>XYL</th>\n",
       "      <th>YUM</th>\n",
       "      <th>ZBH</th>\n",
       "      <th>ZBRA</th>\n",
       "      <th>ZTS</th>\n",
       "    </tr>\n",
       "    <tr>\n",
       "      <th>Date</th>\n",
       "      <th></th>\n",
       "      <th></th>\n",
       "      <th></th>\n",
       "      <th></th>\n",
       "      <th></th>\n",
       "      <th></th>\n",
       "      <th></th>\n",
       "      <th></th>\n",
       "      <th></th>\n",
       "      <th></th>\n",
       "      <th></th>\n",
       "      <th></th>\n",
       "      <th></th>\n",
       "      <th></th>\n",
       "      <th></th>\n",
       "      <th></th>\n",
       "      <th></th>\n",
       "      <th></th>\n",
       "      <th></th>\n",
       "      <th></th>\n",
       "      <th></th>\n",
       "    </tr>\n",
       "  </thead>\n",
       "  <tbody>\n",
       "    <tr>\n",
       "      <th>2015-01-05</th>\n",
       "      <td>-0.018915</td>\n",
       "      <td>-0.028576</td>\n",
       "      <td>-0.018998</td>\n",
       "      <td>0.000222</td>\n",
       "      <td>-0.004989</td>\n",
       "      <td>-0.018352</td>\n",
       "      <td>-0.035215</td>\n",
       "      <td>-0.000721</td>\n",
       "      <td>-0.014722</td>\n",
       "      <td>-0.010052</td>\n",
       "      <td>...</td>\n",
       "      <td>-0.013900</td>\n",
       "      <td>0.000000</td>\n",
       "      <td>-0.017166</td>\n",
       "      <td>-0.011416</td>\n",
       "      <td>-0.027743</td>\n",
       "      <td>-0.064259</td>\n",
       "      <td>-0.020527</td>\n",
       "      <td>0.036625</td>\n",
       "      <td>-0.014177</td>\n",
       "      <td>-0.006022</td>\n",
       "    </tr>\n",
       "    <tr>\n",
       "      <th>2015-01-06</th>\n",
       "      <td>-0.015700</td>\n",
       "      <td>0.000094</td>\n",
       "      <td>-0.004962</td>\n",
       "      <td>-0.011421</td>\n",
       "      <td>-0.020350</td>\n",
       "      <td>-0.023753</td>\n",
       "      <td>-0.019911</td>\n",
       "      <td>-0.008324</td>\n",
       "      <td>-0.019973</td>\n",
       "      <td>-0.011709</td>\n",
       "      <td>...</td>\n",
       "      <td>-0.017255</td>\n",
       "      <td>-0.001108</td>\n",
       "      <td>-0.021562</td>\n",
       "      <td>0.005306</td>\n",
       "      <td>-0.005330</td>\n",
       "      <td>-0.005898</td>\n",
       "      <td>-0.012351</td>\n",
       "      <td>-0.008513</td>\n",
       "      <td>-0.007231</td>\n",
       "      <td>-0.009804</td>\n",
       "    </tr>\n",
       "    <tr>\n",
       "      <th>2015-01-07</th>\n",
       "      <td>0.013184</td>\n",
       "      <td>0.013925</td>\n",
       "      <td>0.039621</td>\n",
       "      <td>0.008076</td>\n",
       "      <td>0.008190</td>\n",
       "      <td>0.010462</td>\n",
       "      <td>0.014920</td>\n",
       "      <td>0.008685</td>\n",
       "      <td>-0.002089</td>\n",
       "      <td>0.007747</td>\n",
       "      <td>...</td>\n",
       "      <td>0.016088</td>\n",
       "      <td>0.003045</td>\n",
       "      <td>0.028945</td>\n",
       "      <td>0.008598</td>\n",
       "      <td>0.010081</td>\n",
       "      <td>0.007857</td>\n",
       "      <td>0.032601</td>\n",
       "      <td>0.024566</td>\n",
       "      <td>0.025146</td>\n",
       "      <td>0.020432</td>\n",
       "    </tr>\n",
       "    <tr>\n",
       "      <th>2015-01-08</th>\n",
       "      <td>0.029534</td>\n",
       "      <td>0.037702</td>\n",
       "      <td>0.010404</td>\n",
       "      <td>0.020345</td>\n",
       "      <td>0.025135</td>\n",
       "      <td>0.017501</td>\n",
       "      <td>-0.014717</td>\n",
       "      <td>0.022681</td>\n",
       "      <td>0.024446</td>\n",
       "      <td>0.003522</td>\n",
       "      <td>...</td>\n",
       "      <td>0.019467</td>\n",
       "      <td>0.010722</td>\n",
       "      <td>0.011959</td>\n",
       "      <td>0.011532</td>\n",
       "      <td>0.016508</td>\n",
       "      <td>0.007517</td>\n",
       "      <td>0.017270</td>\n",
       "      <td>0.010561</td>\n",
       "      <td>0.021134</td>\n",
       "      <td>0.015282</td>\n",
       "    </tr>\n",
       "    <tr>\n",
       "      <th>2015-01-09</th>\n",
       "      <td>-0.007364</td>\n",
       "      <td>0.001072</td>\n",
       "      <td>-0.027736</td>\n",
       "      <td>-0.010563</td>\n",
       "      <td>-0.014922</td>\n",
       "      <td>-0.000731</td>\n",
       "      <td>-0.008566</td>\n",
       "      <td>-0.007188</td>\n",
       "      <td>-0.009054</td>\n",
       "      <td>-0.011270</td>\n",
       "      <td>...</td>\n",
       "      <td>-0.011519</td>\n",
       "      <td>-0.001368</td>\n",
       "      <td>0.012422</td>\n",
       "      <td>-0.012361</td>\n",
       "      <td>-0.001411</td>\n",
       "      <td>-0.019043</td>\n",
       "      <td>-0.001768</td>\n",
       "      <td>-0.014529</td>\n",
       "      <td>0.014508</td>\n",
       "      <td>0.001583</td>\n",
       "    </tr>\n",
       "    <tr>\n",
       "      <th>...</th>\n",
       "      <td>...</td>\n",
       "      <td>...</td>\n",
       "      <td>...</td>\n",
       "      <td>...</td>\n",
       "      <td>...</td>\n",
       "      <td>...</td>\n",
       "      <td>...</td>\n",
       "      <td>...</td>\n",
       "      <td>...</td>\n",
       "      <td>...</td>\n",
       "      <td>...</td>\n",
       "      <td>...</td>\n",
       "      <td>...</td>\n",
       "      <td>...</td>\n",
       "      <td>...</td>\n",
       "      <td>...</td>\n",
       "      <td>...</td>\n",
       "      <td>...</td>\n",
       "      <td>...</td>\n",
       "      <td>...</td>\n",
       "      <td>...</td>\n",
       "    </tr>\n",
       "    <tr>\n",
       "      <th>2024-12-24</th>\n",
       "      <td>0.011083</td>\n",
       "      <td>0.011413</td>\n",
       "      <td>0.008985</td>\n",
       "      <td>0.003929</td>\n",
       "      <td>0.002683</td>\n",
       "      <td>0.014782</td>\n",
       "      <td>0.004355</td>\n",
       "      <td>0.007822</td>\n",
       "      <td>0.012494</td>\n",
       "      <td>0.013291</td>\n",
       "      <td>...</td>\n",
       "      <td>0.009663</td>\n",
       "      <td>0.006390</td>\n",
       "      <td>0.007575</td>\n",
       "      <td>0.007210</td>\n",
       "      <td>0.000940</td>\n",
       "      <td>0.005432</td>\n",
       "      <td>0.008480</td>\n",
       "      <td>0.004484</td>\n",
       "      <td>0.012187</td>\n",
       "      <td>0.002553</td>\n",
       "    </tr>\n",
       "    <tr>\n",
       "      <th>2024-12-26</th>\n",
       "      <td>-0.001986</td>\n",
       "      <td>0.003171</td>\n",
       "      <td>-0.004454</td>\n",
       "      <td>0.004434</td>\n",
       "      <td>0.004944</td>\n",
       "      <td>-0.000138</td>\n",
       "      <td>-0.000395</td>\n",
       "      <td>0.002594</td>\n",
       "      <td>-0.003159</td>\n",
       "      <td>-0.002203</td>\n",
       "      <td>...</td>\n",
       "      <td>0.001981</td>\n",
       "      <td>-0.003190</td>\n",
       "      <td>0.005952</td>\n",
       "      <td>-0.000440</td>\n",
       "      <td>0.000845</td>\n",
       "      <td>0.002705</td>\n",
       "      <td>0.007380</td>\n",
       "      <td>-0.000466</td>\n",
       "      <td>0.003559</td>\n",
       "      <td>0.004966</td>\n",
       "    </tr>\n",
       "    <tr>\n",
       "      <th>2024-12-27</th>\n",
       "      <td>-0.002137</td>\n",
       "      <td>-0.013331</td>\n",
       "      <td>-0.006663</td>\n",
       "      <td>-0.002432</td>\n",
       "      <td>-0.008208</td>\n",
       "      <td>-0.004919</td>\n",
       "      <td>-0.000593</td>\n",
       "      <td>-0.003539</td>\n",
       "      <td>-0.008999</td>\n",
       "      <td>-0.006305</td>\n",
       "      <td>...</td>\n",
       "      <td>-0.000630</td>\n",
       "      <td>-0.006410</td>\n",
       "      <td>-0.007079</td>\n",
       "      <td>-0.000587</td>\n",
       "      <td>-0.000094</td>\n",
       "      <td>-0.007966</td>\n",
       "      <td>-0.005678</td>\n",
       "      <td>-0.003549</td>\n",
       "      <td>-0.019799</td>\n",
       "      <td>-0.005574</td>\n",
       "    </tr>\n",
       "    <tr>\n",
       "      <th>2024-12-30</th>\n",
       "      <td>-0.008298</td>\n",
       "      <td>-0.013352</td>\n",
       "      <td>-0.010220</td>\n",
       "      <td>-0.019229</td>\n",
       "      <td>-0.001524</td>\n",
       "      <td>-0.020627</td>\n",
       "      <td>-0.010134</td>\n",
       "      <td>-0.010897</td>\n",
       "      <td>-0.000202</td>\n",
       "      <td>-0.005564</td>\n",
       "      <td>...</td>\n",
       "      <td>-0.013292</td>\n",
       "      <td>-0.003579</td>\n",
       "      <td>-0.032666</td>\n",
       "      <td>-0.008104</td>\n",
       "      <td>-0.006785</td>\n",
       "      <td>-0.010693</td>\n",
       "      <td>-0.012726</td>\n",
       "      <td>-0.011602</td>\n",
       "      <td>-0.013507</td>\n",
       "      <td>-0.014442</td>\n",
       "    </tr>\n",
       "    <tr>\n",
       "      <th>2024-12-31</th>\n",
       "      <td>0.001251</td>\n",
       "      <td>-0.007083</td>\n",
       "      <td>0.008477</td>\n",
       "      <td>0.002744</td>\n",
       "      <td>-0.002515</td>\n",
       "      <td>-0.000471</td>\n",
       "      <td>0.008947</td>\n",
       "      <td>-0.000819</td>\n",
       "      <td>-0.006609</td>\n",
       "      <td>-0.005370</td>\n",
       "      <td>...</td>\n",
       "      <td>-0.003839</td>\n",
       "      <td>0.009279</td>\n",
       "      <td>0.003837</td>\n",
       "      <td>-0.001036</td>\n",
       "      <td>0.016969</td>\n",
       "      <td>-0.002238</td>\n",
       "      <td>0.004782</td>\n",
       "      <td>0.002180</td>\n",
       "      <td>0.006155</td>\n",
       "      <td>0.004244</td>\n",
       "    </tr>\n",
       "  </tbody>\n",
       "</table>\n",
       "<p>2515 rows × 399 columns</p>\n",
       "</div>"
      ]
     },
     "execution_count": 2,
     "metadata": {},
     "output_type": "execute_result"
    }
   ],
   "execution_count": 2
  },
  {
   "metadata": {
    "ExecuteTime": {
     "end_time": "2025-06-18T01:29:13.857157Z",
     "start_time": "2025-06-18T01:29:13.841311Z"
    }
   },
   "cell_type": "code",
   "source": [
    "# Make the portfolio DataFrame\n",
    "portfolio_holdings_df = returns_df[['AAPL', 'AMZN', 'META', 'MSFT', 'NVDA', 'GOOG']]\n",
    "portfolio_holdings_df = portfolio_holdings_df\n",
    "\n",
    "portfolio_holdings_df"
   ],
   "id": "87a05abbaf9cf29a",
   "outputs": [
    {
     "data": {
      "text/plain": [
       "                AAPL      AMZN      META      MSFT      NVDA      GOOG\n",
       "Date                                                                  \n",
       "2015-01-05 -0.028576 -0.020731 -0.016191 -0.009238 -0.017035 -0.021066\n",
       "2015-01-06  0.000094 -0.023098 -0.013565 -0.014786 -0.030788 -0.023450\n",
       "2015-01-07  0.013925  0.010544  0.000000  0.012625 -0.002609 -0.001715\n",
       "2015-01-08  0.037702  0.006813  0.026309  0.028994  0.036927  0.003148\n",
       "2015-01-09  0.001072 -0.011818 -0.005644 -0.008441  0.004020 -0.013035\n",
       "...              ...       ...       ...       ...       ...       ...\n",
       "2024-12-24  0.011413  0.017573  0.013084  0.009330  0.003930  0.008029\n",
       "2024-12-26  0.003171 -0.008770 -0.007266 -0.002781 -0.002070 -0.002382\n",
       "2024-12-27 -0.013331 -0.014641 -0.005884 -0.017453 -0.021088 -0.015647\n",
       "2024-12-30 -0.013352 -0.011010 -0.014391 -0.013328  0.003497 -0.006982\n",
       "2024-12-31 -0.007083 -0.008668 -0.009739 -0.007869 -0.023550 -0.011746\n",
       "\n",
       "[2515 rows x 6 columns]"
      ],
      "text/html": [
       "<div>\n",
       "<style scoped>\n",
       "    .dataframe tbody tr th:only-of-type {\n",
       "        vertical-align: middle;\n",
       "    }\n",
       "\n",
       "    .dataframe tbody tr th {\n",
       "        vertical-align: top;\n",
       "    }\n",
       "\n",
       "    .dataframe thead th {\n",
       "        text-align: right;\n",
       "    }\n",
       "</style>\n",
       "<table border=\"1\" class=\"dataframe\">\n",
       "  <thead>\n",
       "    <tr style=\"text-align: right;\">\n",
       "      <th></th>\n",
       "      <th>AAPL</th>\n",
       "      <th>AMZN</th>\n",
       "      <th>META</th>\n",
       "      <th>MSFT</th>\n",
       "      <th>NVDA</th>\n",
       "      <th>GOOG</th>\n",
       "    </tr>\n",
       "    <tr>\n",
       "      <th>Date</th>\n",
       "      <th></th>\n",
       "      <th></th>\n",
       "      <th></th>\n",
       "      <th></th>\n",
       "      <th></th>\n",
       "      <th></th>\n",
       "    </tr>\n",
       "  </thead>\n",
       "  <tbody>\n",
       "    <tr>\n",
       "      <th>2015-01-05</th>\n",
       "      <td>-0.028576</td>\n",
       "      <td>-0.020731</td>\n",
       "      <td>-0.016191</td>\n",
       "      <td>-0.009238</td>\n",
       "      <td>-0.017035</td>\n",
       "      <td>-0.021066</td>\n",
       "    </tr>\n",
       "    <tr>\n",
       "      <th>2015-01-06</th>\n",
       "      <td>0.000094</td>\n",
       "      <td>-0.023098</td>\n",
       "      <td>-0.013565</td>\n",
       "      <td>-0.014786</td>\n",
       "      <td>-0.030788</td>\n",
       "      <td>-0.023450</td>\n",
       "    </tr>\n",
       "    <tr>\n",
       "      <th>2015-01-07</th>\n",
       "      <td>0.013925</td>\n",
       "      <td>0.010544</td>\n",
       "      <td>0.000000</td>\n",
       "      <td>0.012625</td>\n",
       "      <td>-0.002609</td>\n",
       "      <td>-0.001715</td>\n",
       "    </tr>\n",
       "    <tr>\n",
       "      <th>2015-01-08</th>\n",
       "      <td>0.037702</td>\n",
       "      <td>0.006813</td>\n",
       "      <td>0.026309</td>\n",
       "      <td>0.028994</td>\n",
       "      <td>0.036927</td>\n",
       "      <td>0.003148</td>\n",
       "    </tr>\n",
       "    <tr>\n",
       "      <th>2015-01-09</th>\n",
       "      <td>0.001072</td>\n",
       "      <td>-0.011818</td>\n",
       "      <td>-0.005644</td>\n",
       "      <td>-0.008441</td>\n",
       "      <td>0.004020</td>\n",
       "      <td>-0.013035</td>\n",
       "    </tr>\n",
       "    <tr>\n",
       "      <th>...</th>\n",
       "      <td>...</td>\n",
       "      <td>...</td>\n",
       "      <td>...</td>\n",
       "      <td>...</td>\n",
       "      <td>...</td>\n",
       "      <td>...</td>\n",
       "    </tr>\n",
       "    <tr>\n",
       "      <th>2024-12-24</th>\n",
       "      <td>0.011413</td>\n",
       "      <td>0.017573</td>\n",
       "      <td>0.013084</td>\n",
       "      <td>0.009330</td>\n",
       "      <td>0.003930</td>\n",
       "      <td>0.008029</td>\n",
       "    </tr>\n",
       "    <tr>\n",
       "      <th>2024-12-26</th>\n",
       "      <td>0.003171</td>\n",
       "      <td>-0.008770</td>\n",
       "      <td>-0.007266</td>\n",
       "      <td>-0.002781</td>\n",
       "      <td>-0.002070</td>\n",
       "      <td>-0.002382</td>\n",
       "    </tr>\n",
       "    <tr>\n",
       "      <th>2024-12-27</th>\n",
       "      <td>-0.013331</td>\n",
       "      <td>-0.014641</td>\n",
       "      <td>-0.005884</td>\n",
       "      <td>-0.017453</td>\n",
       "      <td>-0.021088</td>\n",
       "      <td>-0.015647</td>\n",
       "    </tr>\n",
       "    <tr>\n",
       "      <th>2024-12-30</th>\n",
       "      <td>-0.013352</td>\n",
       "      <td>-0.011010</td>\n",
       "      <td>-0.014391</td>\n",
       "      <td>-0.013328</td>\n",
       "      <td>0.003497</td>\n",
       "      <td>-0.006982</td>\n",
       "    </tr>\n",
       "    <tr>\n",
       "      <th>2024-12-31</th>\n",
       "      <td>-0.007083</td>\n",
       "      <td>-0.008668</td>\n",
       "      <td>-0.009739</td>\n",
       "      <td>-0.007869</td>\n",
       "      <td>-0.023550</td>\n",
       "      <td>-0.011746</td>\n",
       "    </tr>\n",
       "  </tbody>\n",
       "</table>\n",
       "<p>2515 rows × 6 columns</p>\n",
       "</div>"
      ]
     },
     "execution_count": 3,
     "metadata": {},
     "output_type": "execute_result"
    }
   ],
   "execution_count": 3
  },
  {
   "metadata": {
    "ExecuteTime": {
     "end_time": "2025-06-18T01:29:13.906227Z",
     "start_time": "2025-06-18T01:29:13.857157Z"
    }
   },
   "cell_type": "code",
   "source": [
    "# Portfolio's Returns and Variances\n",
    "expected_returns = portfolio_holdings_df.mean()\n",
    "covariance_matrix = portfolio_holdings_df.cov()"
   ],
   "id": "2d079b90542364b5",
   "outputs": [],
   "execution_count": 4
  },
  {
   "metadata": {
    "ExecuteTime": {
     "end_time": "2025-06-18T01:29:13.913427Z",
     "start_time": "2025-06-18T01:29:13.906227Z"
    }
   },
   "cell_type": "code",
   "source": [
    "# Obtain Weights\n",
    "p_weights = markowitz_weights(\n",
    "    expected_returns, \n",
    "    covariance_matrix,\n",
    "    0.0015\n",
    ")\n",
    "\n",
    "p_weights"
   ],
   "id": "42e50484ed53fb83",
   "outputs": [
    {
     "data": {
      "text/plain": [
       "array([ 0.2608526 ,  0.23302447, -0.14342388,  0.2254734 ,  0.4015833 ,\n",
       "        0.0224901 ])"
      ]
     },
     "execution_count": 5,
     "metadata": {},
     "output_type": "execute_result"
    }
   ],
   "execution_count": 5
  },
  {
   "metadata": {
    "ExecuteTime": {
     "end_time": "2025-06-18T01:29:13.922893Z",
     "start_time": "2025-06-18T01:29:13.913427Z"
    }
   },
   "cell_type": "code",
   "source": [
    "# Create a Portfolio Weights DF\n",
    "portfolio_weights = pd.Series(\n",
    "    p_weights,\n",
    "    index = portfolio_holdings_df.columns,\n",
    "    name = 'weights'\n",
    ")\n",
    "\n",
    "portfolio_weights"
   ],
   "id": "9214ad9d3325ca91",
   "outputs": [
    {
     "data": {
      "text/plain": [
       "AAPL    0.260853\n",
       "AMZN    0.233024\n",
       "META   -0.143424\n",
       "MSFT    0.225473\n",
       "NVDA    0.401583\n",
       "GOOG    0.022490\n",
       "Name: weights, dtype: float64"
      ]
     },
     "execution_count": 6,
     "metadata": {},
     "output_type": "execute_result"
    }
   ],
   "execution_count": 6
  },
  {
   "metadata": {
    "ExecuteTime": {
     "end_time": "2025-06-18T01:29:13.929734Z",
     "start_time": "2025-06-18T01:29:13.922893Z"
    }
   },
   "cell_type": "code",
   "source": [
    "# Portfolios Variance\n",
    "p_variance = portfolio_variance(p_weights, portfolio_holdings_df)\n",
    "\n",
    "p_variance"
   ],
   "id": "1c31c20482e8c943",
   "outputs": [
    {
     "data": {
      "text/plain": [
       "0.0003936124972502737"
      ]
     },
     "execution_count": 7,
     "metadata": {},
     "output_type": "execute_result"
    }
   ],
   "execution_count": 7
  },
  {
   "metadata": {
    "ExecuteTime": {
     "end_time": "2025-06-18T01:29:13.934467Z",
     "start_time": "2025-06-18T01:29:13.929734Z"
    }
   },
   "cell_type": "code",
   "source": [
    "# Portfolio Returns\n",
    "portfolio_returns = portfolio_holdings_df @ p_weights\n",
    "portfolio_returns.name = 'portfolio_returns'"
   ],
   "id": "b1f2274f640f98ca",
   "outputs": [],
   "execution_count": 8
  },
  {
   "metadata": {
    "ExecuteTime": {
     "end_time": "2025-06-18T01:29:13.940858Z",
     "start_time": "2025-06-18T01:29:13.934467Z"
    }
   },
   "cell_type": "code",
   "source": [
    "# Holdings Standard Deviations\n",
    "holdings_stds = portfolio_holdings_df.std()\n",
    "\n",
    "holdings_stds"
   ],
   "id": "5968b0958e8350b1",
   "outputs": [
    {
     "data": {
      "text/plain": [
       "AAPL    0.017931\n",
       "AMZN    0.020573\n",
       "META    0.023847\n",
       "MSFT    0.017091\n",
       "NVDA    0.030376\n",
       "GOOG    0.017919\n",
       "dtype: float64"
      ]
     },
     "execution_count": 9,
     "metadata": {},
     "output_type": "execute_result"
    }
   ],
   "execution_count": 9
  },
  {
   "metadata": {
    "ExecuteTime": {
     "end_time": "2025-06-18T01:29:13.950476Z",
     "start_time": "2025-06-18T01:29:13.940858Z"
    }
   },
   "cell_type": "code",
   "source": [
    "# Holding's correlations with the portfolio\n",
    "corr_with_portfolio = portfolio_holdings_df.corrwith(portfolio_returns)\n",
    "\n",
    "corr_with_portfolio"
   ],
   "id": "f0038e4170c172f5",
   "outputs": [
    {
     "data": {
      "text/plain": [
       "AAPL    0.761401\n",
       "AMZN    0.731215\n",
       "META    0.515509\n",
       "MSFT    0.803982\n",
       "NVDA    0.915161\n",
       "GOOG    0.679956\n",
       "dtype: float64"
      ]
     },
     "execution_count": 10,
     "metadata": {},
     "output_type": "execute_result"
    }
   ],
   "execution_count": 10
  },
  {
   "metadata": {
    "ExecuteTime": {
     "end_time": "2025-06-18T01:29:13.957598Z",
     "start_time": "2025-06-18T01:29:13.950476Z"
    }
   },
   "cell_type": "code",
   "source": [
    "# Now obtain the x-sigma-rho\n",
    "RC = portfolio_weights * holdings_stds * corr_with_portfolio\n",
    "RC.name = 'risk_contribution'\n",
    "\n",
    "RC"
   ],
   "id": "2c654b771ea5d11f",
   "outputs": [
    {
     "data": {
      "text/plain": [
       "AAPL    0.003561\n",
       "AMZN    0.003506\n",
       "META   -0.001763\n",
       "MSFT    0.003098\n",
       "NVDA    0.011164\n",
       "GOOG    0.000274\n",
       "Name: risk_contribution, dtype: float64"
      ]
     },
     "execution_count": 11,
     "metadata": {},
     "output_type": "execute_result"
    }
   ],
   "execution_count": 11
  },
  {
   "metadata": {
    "ExecuteTime": {
     "end_time": "2025-06-18T01:29:14.294414Z",
     "start_time": "2025-06-18T01:29:14.289128Z"
    }
   },
   "cell_type": "code",
   "source": [
    "# In percentage\n",
    "RC_percent = (RC / np.sqrt(p_variance)) * 100\n",
    "\n",
    "RC_percent"
   ],
   "id": "fd34491240ed5b3a",
   "outputs": [
    {
     "data": {
      "text/plain": [
       "AAPL    17.951079\n",
       "AMZN    17.669328\n",
       "META    -8.887002\n",
       "MSFT    15.615930\n",
       "NVDA    56.269497\n",
       "GOOG     1.381168\n",
       "Name: risk_contribution, dtype: float64"
      ]
     },
     "execution_count": 12,
     "metadata": {},
     "output_type": "execute_result"
    }
   ],
   "execution_count": 12
  },
  {
   "metadata": {
    "ExecuteTime": {
     "end_time": "2025-06-18T01:29:14.829646Z",
     "start_time": "2025-06-18T01:29:14.716797Z"
    }
   },
   "cell_type": "code",
   "source": [
    "# Create Plot\n",
    "plt.figure(figsize=(10, 6))\n",
    "RC_percent.plot(kind='bar', label='Risk Contribution')\n",
    "\n",
    "# Config\n",
    "plt.title('Percentage Risk Contribution')\n",
    "plt.xlabel('Stock')\n",
    "plt.ylabel('Percentage')\n",
    "plt.legend()\n",
    "plt.grid()\n",
    "\n",
    "# Show\n",
    "plt.show() "
   ],
   "id": "9fba8076c5e9b071",
   "outputs": [
    {
     "data": {
      "text/plain": [
       "<Figure size 1000x600 with 1 Axes>"
      ],
      "image/png": "[encoded data removed]"
     },
     "metadata": {},
     "output_type": "display_data"
    }
   ],
   "execution_count": 13
  },
  {
   "metadata": {},
   "cell_type": "markdown",
   "source": "### Now Using Factor ###",
   "id": "34f1838a0b9d7462"
  },
  {
   "metadata": {
    "ExecuteTime": {
     "end_time": "2025-06-18T01:29:15.632819Z",
     "start_time": "2025-06-18T01:29:15.619399Z"
    }
   },
   "cell_type": "code",
   "source": [
    "# Now import the premiums\n",
    "premiums_df = pd.read_csv(r'..\\additional_data\\famafrench_premiums.csv')\n",
    "premiums_df.set_index('Date', inplace=True)\n",
    "premiums_df.index = pd.to_datetime(premiums_df.index)\n",
    "premiums_df.columns = ['mkt_premium', 'smb_premium', 'hml_premium', 'risk_free_rate']\n",
    "premiums_df = premiums_df.div(100)\n",
    "\n",
    "premiums_df"
   ],
   "id": "af9bef5273bb174a",
   "outputs": [
    {
     "data": {
      "text/plain": [
       "            mkt_premium  smb_premium  hml_premium  risk_free_rate\n",
       "Date                                                             \n",
       "2015-01-02      -0.0012      -0.0059       0.0012         0.00000\n",
       "2015-01-05      -0.0184       0.0033      -0.0068         0.00000\n",
       "2015-01-06      -0.0103      -0.0080      -0.0029         0.00000\n",
       "2015-01-07       0.0119       0.0020      -0.0067         0.00000\n",
       "2015-01-08       0.0181      -0.0012      -0.0029         0.00000\n",
       "...                 ...          ...          ...             ...\n",
       "2025-03-25       0.0012      -0.0094       0.0005         0.00016\n",
       "2025-03-26      -0.0122      -0.0048       0.0152         0.00016\n",
       "2025-03-27      -0.0042       0.0019       0.0030         0.00016\n",
       "2025-03-28      -0.0207      -0.0048       0.0040         0.00016\n",
       "2025-03-31       0.0040      -0.0108       0.0037         0.00016\n",
       "\n",
       "[2576 rows x 4 columns]"
      ],
      "text/html": [
       "<div>\n",
       "<style scoped>\n",
       "    .dataframe tbody tr th:only-of-type {\n",
       "        vertical-align: middle;\n",
       "    }\n",
       "\n",
       "    .dataframe tbody tr th {\n",
       "        vertical-align: top;\n",
       "    }\n",
       "\n",
       "    .dataframe thead th {\n",
       "        text-align: right;\n",
       "    }\n",
       "</style>\n",
       "<table border=\"1\" class=\"dataframe\">\n",
       "  <thead>\n",
       "    <tr style=\"text-align: right;\">\n",
       "      <th></th>\n",
       "      <th>mkt_premium</th>\n",
       "      <th>smb_premium</th>\n",
       "      <th>hml_premium</th>\n",
       "      <th>risk_free_rate</th>\n",
       "    </tr>\n",
       "    <tr>\n",
       "      <th>Date</th>\n",
       "      <th></th>\n",
       "      <th></th>\n",
       "      <th></th>\n",
       "      <th></th>\n",
       "    </tr>\n",
       "  </thead>\n",
       "  <tbody>\n",
       "    <tr>\n",
       "      <th>2015-01-02</th>\n",
       "      <td>-0.0012</td>\n",
       "      <td>-0.0059</td>\n",
       "      <td>0.0012</td>\n",
       "      <td>0.00000</td>\n",
       "    </tr>\n",
       "    <tr>\n",
       "      <th>2015-01-05</th>\n",
       "      <td>-0.0184</td>\n",
       "      <td>0.0033</td>\n",
       "      <td>-0.0068</td>\n",
       "      <td>0.00000</td>\n",
       "    </tr>\n",
       "    <tr>\n",
       "      <th>2015-01-06</th>\n",
       "      <td>-0.0103</td>\n",
       "      <td>-0.0080</td>\n",
       "      <td>-0.0029</td>\n",
       "      <td>0.00000</td>\n",
       "    </tr>\n",
       "    <tr>\n",
       "      <th>2015-01-07</th>\n",
       "      <td>0.0119</td>\n",
       "      <td>0.0020</td>\n",
       "      <td>-0.0067</td>\n",
       "      <td>0.00000</td>\n",
       "    </tr>\n",
       "    <tr>\n",
       "      <th>2015-01-08</th>\n",
       "      <td>0.0181</td>\n",
       "      <td>-0.0012</td>\n",
       "      <td>-0.0029</td>\n",
       "      <td>0.00000</td>\n",
       "    </tr>\n",
       "    <tr>\n",
       "      <th>...</th>\n",
       "      <td>...</td>\n",
       "      <td>...</td>\n",
       "      <td>...</td>\n",
       "      <td>...</td>\n",
       "    </tr>\n",
       "    <tr>\n",
       "      <th>2025-03-25</th>\n",
       "      <td>0.0012</td>\n",
       "      <td>-0.0094</td>\n",
       "      <td>0.0005</td>\n",
       "      <td>0.00016</td>\n",
       "    </tr>\n",
       "    <tr>\n",
       "      <th>2025-03-26</th>\n",
       "      <td>-0.0122</td>\n",
       "      <td>-0.0048</td>\n",
       "      <td>0.0152</td>\n",
       "      <td>0.00016</td>\n",
       "    </tr>\n",
       "    <tr>\n",
       "      <th>2025-03-27</th>\n",
       "      <td>-0.0042</td>\n",
       "      <td>0.0019</td>\n",
       "      <td>0.0030</td>\n",
       "      <td>0.00016</td>\n",
       "    </tr>\n",
       "    <tr>\n",
       "      <th>2025-03-28</th>\n",
       "      <td>-0.0207</td>\n",
       "      <td>-0.0048</td>\n",
       "      <td>0.0040</td>\n",
       "      <td>0.00016</td>\n",
       "    </tr>\n",
       "    <tr>\n",
       "      <th>2025-03-31</th>\n",
       "      <td>0.0040</td>\n",
       "      <td>-0.0108</td>\n",
       "      <td>0.0037</td>\n",
       "      <td>0.00016</td>\n",
       "    </tr>\n",
       "  </tbody>\n",
       "</table>\n",
       "<p>2576 rows × 4 columns</p>\n",
       "</div>"
      ]
     },
     "execution_count": 14,
     "metadata": {},
     "output_type": "execute_result"
    }
   ],
   "execution_count": 14
  },
  {
   "metadata": {
    "ExecuteTime": {
     "end_time": "2025-06-18T01:29:15.691268Z",
     "start_time": "2025-06-18T01:29:15.680007Z"
    }
   },
   "cell_type": "code",
   "source": [
    "# Now calculate the betas\n",
    "portfolio_premium = portfolio_returns - premiums_df['risk_free_rate']\n",
    "\n",
    "# Check if the Function Works\n",
    "parameters = FamaFrenchFactors(\n",
    "    portfolio_premium,\n",
    "    premiums_df['mkt_premium'],\n",
    "    premiums_df['smb_premium'],\n",
    "    premiums_df['hml_premium'],\n",
    ")\n",
    "\n",
    "parameters"
   ],
   "id": "a3dd703c44bc0ef4",
   "outputs": [
    {
     "data": {
      "text/plain": [
       "{'alpha': 0.0006317886617478294,\n",
       " 'mkt_beta': 1.380451669625633,\n",
       " 'smb_beta': -0.23745562281398613,\n",
       " 'hml_beta': -0.6714191223332574}"
      ]
     },
     "execution_count": 15,
     "metadata": {},
     "output_type": "execute_result"
    }
   ],
   "execution_count": 15
  },
  {
   "metadata": {
    "ExecuteTime": {
     "end_time": "2025-06-18T01:29:15.881086Z",
     "start_time": "2025-06-18T01:29:15.871871Z"
    }
   },
   "cell_type": "code",
   "source": [
    "# Create the Parameters Series\n",
    "portfolio_parameters = pd.DataFrame([parameters])\n",
    "portfolio_parameters.columns = ['const', 'mkt_premium', 'smb_premium', 'hml_premium']\n",
    "portfolio_parameters = portfolio_parameters.T\n",
    "portfolio_parameters.columns = ['parameters']\n",
    "portfolio_parameters = portfolio_parameters['parameters']\n",
    "portfolio_parameters = portfolio_parameters.iloc[1:]\n",
    "\n",
    "portfolio_parameters"
   ],
   "id": "e73f01dfff5e17ba",
   "outputs": [
    {
     "data": {
      "text/plain": [
       "mkt_premium    1.380452\n",
       "smb_premium   -0.237456\n",
       "hml_premium   -0.671419\n",
       "Name: parameters, dtype: float64"
      ]
     },
     "execution_count": 16,
     "metadata": {},
     "output_type": "execute_result"
    }
   ],
   "execution_count": 16
  },
  {
   "metadata": {
    "ExecuteTime": {
     "end_time": "2025-06-18T01:29:16.240966Z",
     "start_time": "2025-06-18T01:29:16.234075Z"
    }
   },
   "cell_type": "code",
   "source": [
    "# Get the standard deviations of the premiums\n",
    "premiums_std = premiums_df[['mkt_premium', 'smb_premium', 'hml_premium']].std()\n",
    "premiums_std.name = 'premium_std'\n",
    "\n",
    "premiums_std"
   ],
   "id": "37f85cd9b0400548",
   "outputs": [
    {
     "data": {
      "text/plain": [
       "mkt_premium    0.011491\n",
       "smb_premium    0.006552\n",
       "hml_premium    0.009020\n",
       "Name: premium_std, dtype: float64"
      ]
     },
     "execution_count": 17,
     "metadata": {},
     "output_type": "execute_result"
    }
   ],
   "execution_count": 17
  },
  {
   "metadata": {
    "ExecuteTime": {
     "end_time": "2025-06-18T01:29:16.726578Z",
     "start_time": "2025-06-18T01:29:16.716422Z"
    }
   },
   "cell_type": "code",
   "source": [
    "# Holding's correlations with the portfolio\n",
    "factors_corr_with_portfolio = premiums_df[['mkt_premium', 'smb_premium', 'hml_premium']].corrwith(portfolio_returns)\n",
    "\n",
    "factors_corr_with_portfolio"
   ],
   "id": "8e3152fc985d2e82",
   "outputs": [
    {
     "data": {
      "text/plain": [
       "mkt_premium    0.795104\n",
       "smb_premium    0.101011\n",
       "hml_premium   -0.355209\n",
       "dtype: float64"
      ]
     },
     "execution_count": 18,
     "metadata": {},
     "output_type": "execute_result"
    }
   ],
   "execution_count": 18
  },
  {
   "metadata": {
    "ExecuteTime": {
     "end_time": "2025-06-18T01:29:17.572487Z",
     "start_time": "2025-06-18T01:29:17.552732Z"
    }
   },
   "cell_type": "code",
   "source": [
    "# Now obtain the x-sigma-rho\n",
    "RC = portfolio_parameters * premiums_std * factors_corr_with_portfolio\n",
    "RC.name = 'risk_contribution'\n",
    "\n",
    "RC"
   ],
   "id": "8b2a375ba03eb232",
   "outputs": [
    {
     "data": {
      "text/plain": [
       "mkt_premium    0.012612\n",
       "smb_premium   -0.000157\n",
       "hml_premium    0.002151\n",
       "Name: risk_contribution, dtype: float64"
      ]
     },
     "execution_count": 19,
     "metadata": {},
     "output_type": "execute_result"
    }
   ],
   "execution_count": 19
  },
  {
   "metadata": {
    "ExecuteTime": {
     "end_time": "2025-06-18T01:29:18.336196Z",
     "start_time": "2025-06-18T01:29:18.330062Z"
    }
   },
   "cell_type": "code",
   "source": [
    "# In percentage\n",
    "RC_percent = (RC / np.sqrt(p_variance)) * 100\n",
    "\n",
    "RC_percent"
   ],
   "id": "489e7b4be90dfc3f",
   "outputs": [
    {
     "data": {
      "text/plain": [
       "mkt_premium    63.570569\n",
       "smb_premium    -0.792068\n",
       "hml_premium    10.842613\n",
       "Name: risk_contribution, dtype: float64"
      ]
     },
     "execution_count": 20,
     "metadata": {},
     "output_type": "execute_result"
    }
   ],
   "execution_count": 20
  },
  {
   "metadata": {
    "ExecuteTime": {
     "end_time": "2025-06-18T01:29:18.874976Z",
     "start_time": "2025-06-18T01:29:18.866182Z"
    }
   },
   "cell_type": "code",
   "source": [
    "# Idiosyncratic Risk\n",
    "idio_risk = 100 - RC_percent.sum()\n",
    "idio_risk"
   ],
   "id": "81a0f00b9d0e362c",
   "outputs": [
    {
     "data": {
      "text/plain": [
       "26.378886238852758"
      ]
     },
     "execution_count": 21,
     "metadata": {},
     "output_type": "execute_result"
    }
   ],
   "execution_count": 21
  },
  {
   "metadata": {},
   "cell_type": "code",
   "execution_count": null,
   "source": "",
   "id": "f4746e00fb038c04",
   "outputs": []
  }
 ],
 "metadata": {
  "kernelspec": {
   "display_name": "Python 3",
   "language": "python",
   "name": "python3"
  },
  "language_info": {
   "codemirror_mode": {
    "name": "ipython",
    "version": 2
   },
   "file_extension": ".py",
   "mimetype": "text/x-python",
   "name": "python",
   "nbconvert_exporter": "python",
   "pygments_lexer": "ipython2",
   "version": "2.7.6"
  }
 },
 "nbformat": 4,
 "nbformat_minor": 5
}
