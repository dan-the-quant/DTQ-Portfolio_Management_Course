{
 "cells": [
  {
   "cell_type": "markdown",
   "id": "c64d7451-b410-4675-896b-979996f980fd",
   "metadata": {},
   "source": [
    "# Fama-MacBeth Regression #\n",
    "\n",
    "### Size, Value and Beta ###"
   ]
  },
  {
   "cell_type": "code",
   "id": "ad744288-e299-4dd0-8d67-c7fbdd91ecb3",
   "metadata": {
    "ExecuteTime": {
     "end_time": "2025-04-22T17:20:01.596208Z",
     "start_time": "2025-04-22T17:20:01.568365Z"
    }
   },
   "source": [
    "# Import Libraries\n",
    "\n",
    "# Data Management\n",
    "import pandas as pd\n",
    "import numpy as np\n",
    "\n",
    "# Plots\n",
    "import matplotlib.pyplot as plt\n",
    "\n",
    "# Statistics\n",
    "from scipy import stats\n",
    "import statsmodels.api as sm\n",
    "\n",
    "# Handle Files\n",
    "import sys\n",
    "import os\n",
    "\n",
    "# Import Local Functions\n",
    "sys.path.append(os.path.abspath(\"../source\"))\n",
    "from functions import import_stock_universe\n",
    "from capm_toolkit import wexp\n",
    "from capm_toolkit import compute_daily_returns\n",
    "from capm_toolkit import compute_excess_returns\n",
    "from capm_toolkit import capm_regression"
   ],
   "execution_count": 10,
   "outputs": []
  },
  {
   "cell_type": "code",
   "id": "f92a72a1-3b54-4e29-8ccf-a02396909126",
   "metadata": {
    "ExecuteTime": {
     "end_time": "2025-04-22T17:20:19.926344Z",
     "start_time": "2025-04-22T17:20:02.653433Z"
    }
   },
   "source": [
    "# Dictionary to store the DataFrames\n",
    "folder_path = r\"..\\stocks\"\n",
    "\n",
    "dataframes = import_stock_universe(\n",
    "    folder_path,\n",
    "    ['Adjusted_close', 'Company Market Cap'],\n",
    "    ['adj_close', 'mkt_cap'],\n",
    ")"
   ],
   "execution_count": 11,
   "outputs": []
  },
  {
   "cell_type": "code",
   "id": "23cb89f7-5ce7-43bf-91b9-52979e00a5a8",
   "metadata": {
    "ExecuteTime": {
     "end_time": "2025-04-22T17:20:22.576733Z",
     "start_time": "2025-04-22T17:20:22.539988Z"
    }
   },
   "source": [
    "# Get the important data for the Risk Free Rate\n",
    "\n",
    "rfr = pd.read_csv(r\"..\\additional_data\\rfr.csv\")\n",
    "rfr = rfr.set_index('Date')\n",
    "rfr.index = pd.to_datetime(rfr.index, dayfirst=True)\n",
    "\n",
    "# Get the important data for the S&P500\n",
    "\n",
    "sp500 = pd.read_csv(r\"..\\additional_data\\sp500.csv\")\n",
    "sp500 = sp500.set_index('Date')\n",
    "sp500.index = pd.to_datetime(sp500.index)"
   ],
   "execution_count": 12,
   "outputs": []
  },
  {
   "cell_type": "code",
   "id": "05c10ff5-84ba-4a01-9b05-55fc4661f061",
   "metadata": {
    "ExecuteTime": {
     "end_time": "2025-04-22T17:20:26.285978Z",
     "start_time": "2025-04-22T17:20:26.268285Z"
    }
   },
   "source": [
    "# Get the important data for the Betas\n",
    "\n",
    "ff_betas = pd.read_csv(r\"..\\additional_data\\famafrench_betas.csv\")\n",
    "ff_betas = ff_betas.rename(columns={'Unnamed: 0': 'ticker'})\n",
    "ff_betas.set_index('ticker', inplace = True)\n",
    "\n",
    "ff_betas"
   ],
   "execution_count": 13,
   "outputs": []
  },
  {
   "cell_type": "code",
   "id": "bb7318c4-4385-44a7-a00d-a398f84ea052",
   "metadata": {
    "ExecuteTime": {
     "end_time": "2025-04-22T17:21:24.799080Z",
     "start_time": "2025-04-22T17:21:24.713120Z"
    }
   },
   "source": [
    "# Create a DataFrame\n",
    "mkt_cap_dict = {}\n",
    "\n",
    "# Create the loop\n",
    "for ticker, df in dataframes.items():\n",
    "    \n",
    "    mkt_cap_dict[ticker] = df['mkt_cap'].bfill()\n",
    "\n",
    "mkt_cap_df = pd.DataFrame.from_dict(mkt_cap_dict)\n",
    "mkt_cap_df = mkt_cap_df.bfill()\n",
    "\n",
    "mkt_cap_df"
   ],
   "execution_count": 15,
   "outputs": []
  },
  {
   "cell_type": "code",
   "id": "e4d9e6e3-3dc3-4597-8ad7-0dbc06ad0a27",
   "metadata": {
    "ExecuteTime": {
     "end_time": "2025-04-22T17:21:34.538303Z",
     "start_time": "2025-04-22T17:21:33.832976Z"
    }
   },
   "source": [
    "# Let us obtain the betas of each stock\n",
    "\n",
    "returns_dic = {}\n",
    "\n",
    "for ticker, df in dataframes.items():\n",
    "    \n",
    "    returns_dic[ticker] = df['adj_close'].pct_change(1)\n",
    "\n",
    "returns_df = pd.DataFrame.from_dict(returns_dic)\n",
    "returns_df = returns_df.apply(lambda x: x.fillna(x.mean()), axis=0)\n",
    "\n",
    "returns_df"
   ],
   "execution_count": 16,
   "outputs": []
  },
  {
   "cell_type": "code",
   "id": "f90adc05-9fdc-4bca-9ae2-ceb6406353d1",
   "metadata": {
    "ExecuteTime": {
     "end_time": "2025-04-22T17:25:29.523781Z",
     "start_time": "2025-04-22T17:25:29.503089Z"
    }
   },
   "source": [
    "# Intersect Dates\n",
    "common_dates = returns_df.index.intersection(mkt_cap_df.index)\n",
    "\n",
    "# Filter for common dates\n",
    "mkt_cap_df = mkt_cap_df.loc[common_dates]\n",
    "returns_df = returns_df.loc[common_dates]\n",
    "\n",
    "# And Filter columns\n",
    "mkt_cap_df = mkt_cap_df[ff_betas.index]\n",
    "returns_df = returns_df[ff_betas.index]"
   ],
   "execution_count": 20,
   "outputs": []
  },
  {
   "metadata": {
    "ExecuteTime": {
     "end_time": "2025-04-22T17:25:29.772253Z",
     "start_time": "2025-04-22T17:25:29.765520Z"
    }
   },
   "cell_type": "code",
   "source": [
    "print(mkt_cap_df.shape)\n",
    "print(returns_df.shape)"
   ],
   "id": "321a547dbae6fd35",
   "execution_count": 21,
   "outputs": []
  },
  {
   "cell_type": "code",
   "id": "6e30b5d3-355b-4af6-be4e-9940e5850c3e",
   "metadata": {
    "ExecuteTime": {
     "end_time": "2025-04-22T17:25:56.255053Z",
     "start_time": "2025-04-22T17:25:32.273423Z"
    }
   },
   "source": [
    "# Initialize lists to store results\n",
    "betas_list = []\n",
    "\n",
    "# Loop over each available date in the returns DataFrame\n",
    "for date in common_dates:\n",
    "    # Cross-section of market caps, returns, and betas for that specific date\n",
    "    weights = np.sqrt(mkt_cap_df.loc[date])\n",
    "    weights = weights / weights.sum()\n",
    "\n",
    "    rets = pd.DataFrame([returns_df.loc[date]], index=['returns']).transpose()\n",
    "    \n",
    "    # Merge returns with characteristics\n",
    "    reg_df_data = pd.concat([rets, ff_betas], axis=1).dropna()\n",
    "\n",
    "    # Define independent (X) and dependent (y) variables\n",
    "    X = sm.add_constant(reg_df_data[['mkt_beta', 'smb_beta', 'hml_beta']])  \n",
    "    y = reg_df_data['returns']  \n",
    "\n",
    "    # Run the weighted least squares (WLS) regression\n",
    "    model = sm.WLS(y, X, missing='drop', weights=weights)\n",
    "    results = model.fit()\n",
    "\n",
    "    # Extract coefficients, t-stats, and p-values\n",
    "    params = results.params\n",
    "\n",
    "    # Store results in separate lists\n",
    "    betas_list.append(pd.Series(params, name=date)) \n",
    "\n",
    "# Convert lists to DataFrames\n",
    "history_betas_df = pd.DataFrame(betas_list)\n",
    "\n",
    "# Set the index as the dates\n",
    "history_betas_df.index = common_dates\n"
   ],
   "execution_count": 22,
   "outputs": []
  },
  {
   "cell_type": "code",
   "id": "eadb27b4-1efe-4082-89cd-270a28b34a1c",
   "metadata": {
    "ExecuteTime": {
     "end_time": "2025-04-22T17:26:06.956848Z",
     "start_time": "2025-04-22T17:26:06.938608Z"
    }
   },
   "source": [
    "# Check the DataFrames\n",
    "\n",
    "history_betas_df"
   ],
   "execution_count": 23,
   "outputs": []
  },
  {
   "cell_type": "code",
   "id": "21cb0f2a-920f-4a59-b1c6-44d477a7f0b6",
   "metadata": {
    "ExecuteTime": {
     "end_time": "2025-04-22T17:26:19.261328Z",
     "start_time": "2025-04-22T17:26:19.027995Z"
    }
   },
   "source": [
    "# Create the Plot\n",
    "plt.figure(figsize=(10, 6))\n",
    "plt.plot(history_betas_df['mkt_beta'].cumsum(), label='Market Beta Returns', alpha=0.7)\n",
    "plt.plot(history_betas_df['smb_beta'].cumsum(), label='SMB Beta Returns', alpha=0.7)\n",
    "plt.plot(history_betas_df['hml_beta'].cumsum(), label='HML Beta Returns', alpha=0.7)\n",
    "\n",
    "# Config\n",
    "plt.title('Factor Returns Time Series')\n",
    "plt.xlabel('Time')\n",
    "plt.ylabel('Returns')\n",
    "plt.legend()\n",
    "\n",
    "# Show\n",
    "plt.show()"
   ],
   "execution_count": 24,
   "outputs": []
  },
  {
   "cell_type": "code",
   "id": "5d63870a-ac22-4f77-97fe-a90a05456eaa",
   "metadata": {
    "ExecuteTime": {
     "end_time": "2025-04-22T17:26:48.425133Z",
     "start_time": "2025-04-22T17:26:48.411301Z"
    }
   },
   "source": [
    "# Get the data for the SMB Premium\n",
    "SMB = pd.read_csv(r\"..\\additional_data\\famafrench_smb.csv\")\n",
    "SMB = SMB.set_index('Date')\n",
    "SMB.index = pd.to_datetime(SMB.index)\n",
    "\n",
    "# Get the data for the HML Premium\n",
    "HML = pd.read_csv(r\"..\\additional_data\\famafrench_hml.csv\")\n",
    "HML = HML.set_index('Date')\n",
    "HML.index = pd.to_datetime(HML.index)"
   ],
   "execution_count": 26,
   "outputs": []
  },
  {
   "cell_type": "code",
   "id": "75911991-acba-41c5-90d0-cc4bd221c65a",
   "metadata": {
    "ExecuteTime": {
     "end_time": "2025-04-22T17:27:36.080627Z",
     "start_time": "2025-04-22T17:27:35.919835Z"
    }
   },
   "source": [
    "# Create the Plot\n",
    "daily_rfr = compute_daily_returns(rfr['risk_free_rate'])\n",
    "market_excess_returns = compute_excess_returns(sp500['sp_500'], rfr['risk_free_rate'])\n",
    "\n",
    "plt.figure(figsize=(10, 6))\n",
    "plt.plot(history_betas_df['mkt_beta'].cumsum(), label='Regression Market Beta Returns', alpha=0.7)\n",
    "plt.plot(market_excess_returns.cumsum(), label='Calculated Market Beta Returns', alpha=0.7)\n",
    "\n",
    "# Config\n",
    "plt.title('Returns Time Series')\n",
    "plt.xlabel('Time')\n",
    "plt.ylabel('Returns')\n",
    "plt.legend()\n",
    "\n",
    "# Show\n",
    "plt.show()"
   ],
   "execution_count": 28,
   "outputs": []
  },
  {
   "cell_type": "code",
   "id": "79e84d17-70ff-4ce5-997c-477c74d700f7",
   "metadata": {
    "ExecuteTime": {
     "end_time": "2025-04-22T17:27:42.814232Z",
     "start_time": "2025-04-22T17:27:42.609849Z"
    }
   },
   "source": [
    "# Create the Plot\n",
    "plt.figure(figsize=(10, 6))\n",
    "plt.plot(history_betas_df['smb_beta'].cumsum(), label='Regression SMB Beta Returns', alpha=0.7)\n",
    "plt.plot(SMB.cumsum(), label='Calculated SMB Beta Returns', alpha=0.7)\n",
    "\n",
    "# Config\n",
    "plt.title('Returns Time Series')\n",
    "plt.xlabel('Time')\n",
    "plt.ylabel('Returns')\n",
    "plt.legend()\n",
    "\n",
    "# Show\n",
    "plt.show()"
   ],
   "execution_count": 29,
   "outputs": []
  },
  {
   "cell_type": "code",
   "id": "7e8ab6d6-fe11-44f5-9d32-297356bdead4",
   "metadata": {
    "ExecuteTime": {
     "end_time": "2025-04-22T17:27:58.887981Z",
     "start_time": "2025-04-22T17:27:58.677961Z"
    }
   },
   "source": [
    "# Create the Plot\n",
    "plt.figure(figsize=(10, 6))\n",
    "plt.plot(history_betas_df['hml_beta'].cumsum(), label='Regression HML Beta Returns', alpha=0.7)\n",
    "plt.plot(HML.cumsum(), label='Calculated HML Beta Returns', alpha=0.7)\n",
    "\n",
    "# Config\n",
    "plt.title('Returns Time Series')\n",
    "plt.xlabel('Time')\n",
    "plt.ylabel('Returns')\n",
    "plt.legend()\n",
    "\n",
    "# Show\n",
    "plt.show()"
   ],
   "execution_count": 30,
   "outputs": []
  },
  {
   "cell_type": "code",
   "id": "6803e81f-6138-41d5-bd61-26114fee099a",
   "metadata": {
    "ExecuteTime": {
     "end_time": "2025-04-22T17:30:19.606853Z",
     "start_time": "2025-04-22T17:30:19.598098Z"
    }
   },
   "source": [
    "# Lets test the significance of these coefficients\n",
    "def newey_west_std(errors, lag=4):\n",
    "    \"\"\"\n",
    "    Computes Newey-West standard errors for a time series.\n",
    "    \n",
    "    Parameters:\n",
    "    errors: Pandas Series or NumPy array of residuals (gamma estimates)\n",
    "    lag: Maximum number of lags to consider (default: 4)\n",
    "    \n",
    "    Returns:\n",
    "    Newey-West adjusted standard error\n",
    "    \"\"\"\n",
    "    T = len(errors)\n",
    "    gamma_var = errors.var()  # Start with variance of the series\n",
    "    \n",
    "    for l in range(1, lag + 1):\n",
    "        weight = 1 - (l / (lag + 1))\n",
    "        autocov = np.cov(errors[:-l], errors[l:])[0, 1]  # Autocovariance at lag l\n",
    "        gamma_var += 2 * weight * autocov  # Newey-West adjustment\n",
    "\n",
    "    return np.sqrt(gamma_var / T)  # Standard error\n",
    "\n",
    "def fama_macbeth_significance_test(gamma_series, lag=4):\n",
    "    \"\"\"\n",
    "    Performs statistical significance tests for Fama-MacBeth risk premia.\n",
    "\n",
    "    Parameters:\n",
    "    gamma_series: DataFrame where each column contains estimated gammas over time.\n",
    "    lag: Lags for Newey-West standard errors (default: 4).\n",
    "\n",
    "    Returns:\n",
    "    DataFrame with mean gamma, standard error, t-statistics, and p-values.\n",
    "    \"\"\"\n",
    "    gamma_means = gamma_series.mean()\n",
    "\n",
    "    # Compute Newey-West adjusted standard errors\n",
    "    gamma_std = gamma_series.apply(newey_west_std, lag=lag)\n",
    "\n",
    "    # Compute t-statistics\n",
    "    t_stats = gamma_means / gamma_std\n",
    "\n",
    "    # Compute p-values\n",
    "    p_values = 2 * (1 - stats.t.cdf(abs(t_stats), df=len(gamma_series) - 1))\n",
    "\n",
    "    # Create results DataFrame\n",
    "    results = pd.DataFrame({\n",
    "        'Mean Gamma': gamma_means,\n",
    "        'Std Error': gamma_std,\n",
    "        't-stat': t_stats,\n",
    "        'p-value': p_values\n",
    "    })\n",
    "\n",
    "    return results\n"
   ],
   "execution_count": 31,
   "outputs": []
  },
  {
   "cell_type": "code",
   "id": "321b3fa9-a9f9-493f-96e4-a3717d54cf73",
   "metadata": {
    "ExecuteTime": {
     "end_time": "2025-04-22T17:30:26.223835Z",
     "start_time": "2025-04-22T17:30:26.199736Z"
    }
   },
   "source": [
    "# Now the Results\n",
    "\n",
    "results = fama_macbeth_significance_test(history_betas_df[['mkt_beta',\t'smb_beta',\t'hml_beta']])\n",
    "\n",
    "results"
   ],
   "execution_count": 33,
   "outputs": []
  }
 ],
 "metadata": {
  "kernelspec": {
   "display_name": "Python 3 (ipykernel)",
   "language": "python",
   "name": "python3"
  },
  "language_info": {
   "codemirror_mode": {
    "name": "ipython",
    "version": 3
   },
   "file_extension": ".py",
   "mimetype": "text/x-python",
   "name": "python",
   "nbconvert_exporter": "python",
   "pygments_lexer": "ipython3",
   "version": "3.11.7"
  }
 },
 "nbformat": 4,
 "nbformat_minor": 5
}
