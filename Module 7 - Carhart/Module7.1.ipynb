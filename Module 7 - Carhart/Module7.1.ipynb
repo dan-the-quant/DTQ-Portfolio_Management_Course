{
 "cells": [
  {
   "cell_type": "markdown",
   "id": "199116d8-14cd-46ae-b0fe-a5f7456b786f",
   "metadata": {},
   "source": [
    "# The Cahart Four Factor Model #"
   ]
  },
  {
   "cell_type": "markdown",
   "id": "7292a964-2ba8-40e7-bfd6-8afa63759f5d",
   "metadata": {},
   "source": [
    "### Using Relative Strenght to approach Momentum ###"
   ]
  },
  {
   "cell_type": "code",
   "id": "9079c91e-252e-4ceb-9f17-658b6308c8ee",
   "metadata": {
    "ExecuteTime": {
     "end_time": "2025-04-22T17:46:09.088067Z",
     "start_time": "2025-04-22T17:46:09.079907Z"
    }
   },
   "source": [
    "# Import Libraries\n",
    "\n",
    "# Data Management\n",
    "import pandas as pd\n",
    "import numpy as np\n",
    "\n",
    "# Plots\n",
    "import matplotlib.pyplot as plt\n",
    "\n",
    "# Handle Files\n",
    "import sys\n",
    "import os\n",
    "\n",
    "# Import Local Functions\n",
    "sys.path.append(os.path.abspath(\"../source\"))\n",
    "from functions import import_stock_universe\n",
    "from capm_toolkit import compute_daily_returns\n",
    "from capm_toolkit import compute_excess_returns\n",
    "from capm_toolkit import capm_regression\n",
    "from portfolios_toolkit import calculate_analytics"
   ],
   "execution_count": 4,
   "outputs": []
  },
  {
   "cell_type": "code",
   "id": "4ffc4758-71f3-46cc-98ed-f1004f67c880",
   "metadata": {
    "ExecuteTime": {
     "end_time": "2025-04-22T17:46:45.690020Z",
     "start_time": "2025-04-22T17:46:45.480859Z"
    }
   },
   "source": [
    "# Get the important data for the Risk Free Rate\n",
    "rfr = pd.read_csv(r\"..\\additional_data\\rfr.csv\")\n",
    "rfr = rfr.set_index('Date')\n",
    "rfr.index = pd.to_datetime(rfr.index, dayfirst=True)\n",
    "\n",
    "# Get the important data for the S&P500\n",
    "sp500 = pd.read_csv(r\"..\\additional_data\\sp500.csv\")\n",
    "sp500 = sp500.set_index('Date')\n",
    "sp500.index = pd.to_datetime(sp500.index)\n",
    "\n",
    "# Get the data for the Stocks' Betas\n",
    "betas_df = pd.read_csv(r\"..\\additional_data\\capm_hbetas.csv\")\n",
    "betas_df = betas_df.set_index('date')\n",
    "betas_df.index = pd.to_datetime(betas_df.index)"
   ],
   "execution_count": 8,
   "outputs": []
  },
  {
   "cell_type": "code",
   "id": "567dc7b0-12a4-4466-a6cd-df8f0b0bb65f",
   "metadata": {
    "ExecuteTime": {
     "end_time": "2025-04-22T17:46:04.560491Z",
     "start_time": "2025-04-22T17:45:50.261624Z"
    }
   },
   "source": [
    "# Dictionary to store the DataFrames\n",
    "folder_path = r\"..\\stocks\"\n",
    "\n",
    "dataframes = import_stock_universe(\n",
    "    folder_path,\n",
    "    ['Adjusted_close', 'Company Market Cap'],\n",
    "    ['adj_close', 'mkt_cap'],\n",
    ")"
   ],
   "execution_count": 3,
   "outputs": []
  },
  {
   "cell_type": "code",
   "id": "b62d833d-80cd-447b-b0f8-f08a4337e234",
   "metadata": {
    "ExecuteTime": {
     "end_time": "2025-04-22T17:49:06.274980Z",
     "start_time": "2025-04-22T17:49:06.053801Z"
    }
   },
   "source": [
    "# Create a whole new dataframe that contains all the stocks betas\n",
    "rets_series = []\n",
    "\n",
    "for stock, df in dataframes.items():\n",
    "    series = df['adj_close'].pct_change(1).rename(stock)  \n",
    "    series = series.iloc[1:]\n",
    "    rets_series.append(series)\n",
    "\n",
    "# Concat\n",
    "returns_df = pd.concat(rets_series, axis=1)\n",
    "returns_df = returns_df.apply(lambda x: x.fillna(x.mean()), axis=0)\n",
    "\n",
    "# Drop nans\n",
    "returns_df.dropna(inplace = True)\n",
    "\n",
    "returns_df"
   ],
   "execution_count": 9,
   "outputs": []
  },
  {
   "cell_type": "code",
   "id": "eff2372f-3c6c-4976-80eb-650db35ec678",
   "metadata": {
    "ExecuteTime": {
     "end_time": "2025-04-22T17:49:08.845003Z",
     "start_time": "2025-04-22T17:49:08.749703Z"
    }
   },
   "source": [
    "# Create a whole new dataframe that contains all the stocks betas\n",
    "mktcap_series = []\n",
    "\n",
    "for stock, df in dataframes.items():\n",
    "    series = df['mkt_cap'].rename(stock)  \n",
    "    mktcap_series.append(series)\n",
    "\n",
    "# Concat\n",
    "mktcap_df = pd.concat(mktcap_series, axis=1)\n",
    "\n",
    "# Apply Logs and EMA (maybe)\n",
    "mktcap_df = np.log(mktcap_df)\n",
    "mktcap_df = mktcap_df.ewm(span=5, adjust = False).mean()\n",
    "mktcap_df = mktcap_df.bfill()\n",
    "mktcap_df"
   ],
   "execution_count": 10,
   "outputs": []
  },
  {
   "cell_type": "code",
   "id": "b5d7960d-cdfe-4ae1-b731-866e4523d513",
   "metadata": {
    "ExecuteTime": {
     "end_time": "2025-04-22T18:11:38.780541Z",
     "start_time": "2025-04-22T18:11:38.770276Z"
    }
   },
   "source": [
    "# Create the Weights function\n",
    "def wexp(N, half_life):\n",
    "    c = np.log(0.5)/half_life\n",
    "    n = np.array(range(N))\n",
    "    w = np.exp(c*n)\n",
    "    return np.flip(w/np.sum(w))\n",
    "\n",
    "def n_days_nonmiss(returns, tiny_ret=1e-6):\n",
    "    ix_ret_tiny = np.abs(returns) <= tiny_ret\n",
    "    return np.sum(~ix_ret_tiny, axis=0)\n",
    "\n",
    "def calc_rstr(returns, half_life=126, min_obs=100, tiny_ret=1e-6):\n",
    "    rstr = np.log(1.+returns)\n",
    "    if half_life == 0:\n",
    "        weights = np.ones_like(rstr)\n",
    "    else:\n",
    "        weights = len(returns) * np.asmatrix(wexp(len(returns),half_life)).T\n",
    "    rstr = np.sum(rstr * weights)\n",
    "    idx = n_days_nonmiss(returns) < min_obs\n",
    "    rstr.where(~idx, other=np.nan, inplace=True)\n",
    "    df = pd.Series(rstr)\n",
    "    df.name = returns.index[-1]\n",
    "    return df\n",
    "\n",
    "def rolling_calc_rstr(\n",
    "        returns,\n",
    "        window_size=252,\n",
    "        half_life=126,\n",
    "        min_obs=100\n",
    "):\n",
    "    rolling_results = []\n",
    "    range_to_iter = range(len(returns) - window_size + 1)\n",
    "    for i in range_to_iter:\n",
    "        window_returns = returns.iloc[i:i + window_size]\n",
    "        rs_i = calc_rstr(\n",
    "            returns=window_returns,\n",
    "            half_life=half_life,\n",
    "            min_obs=min_obs\n",
    "        )\n",
    "\n",
    "        rolling_results.append(rs_i)\n",
    "\n",
    "    return pd.concat(rolling_results, axis=1)\n"
   ],
   "execution_count": 11,
   "outputs": []
  },
  {
   "cell_type": "code",
   "id": "f4997b53-b1d8-469d-8be5-ebb1c00f9248",
   "metadata": {
    "ExecuteTime": {
     "end_time": "2025-04-22T18:11:45.323840Z",
     "start_time": "2025-04-22T18:11:39.462624Z"
    }
   },
   "source": [
    "# Create a whole new dataframe that contains all the stocks betas\n",
    "relative_strenght_long = rolling_calc_rstr(\n",
    "    returns_df,\n",
    "    window_size=252,\n",
    "    half_life=126\n",
    ").T\n",
    "\n",
    "relative_strenght_short = rolling_calc_rstr(\n",
    "    returns_df,\n",
    "    window_size=28,\n",
    "    half_life=14,\n",
    "    min_obs=13\n",
    ").T"
   ],
   "execution_count": 12,
   "outputs": []
  },
  {
   "cell_type": "code",
   "id": "a82f7fd5-18e2-42f2-a5ee-176bdf451625",
   "metadata": {
    "ExecuteTime": {
     "end_time": "2025-04-22T18:11:47.664783Z",
     "start_time": "2025-04-22T18:11:47.642987Z"
    }
   },
   "source": [
    "relative_strenght = (relative_strenght_long - relative_strenght_short).dropna()\n",
    "\n",
    "relative_strenght"
   ],
   "execution_count": 13,
   "outputs": []
  },
  {
   "cell_type": "code",
   "id": "ca9527ef-d1be-4d59-8074-9145a7345370",
   "metadata": {
    "ExecuteTime": {
     "end_time": "2025-04-22T18:12:31.995265Z",
     "start_time": "2025-04-22T18:12:31.830306Z"
    }
   },
   "source": [
    "# Create Plot\n",
    "\n",
    "tickers = ['NVDA', 'MSFT', 'GOOG', 'AAPL', 'AMZN']\n",
    "\n",
    "plt.figure(figsize=(10, 6))\n",
    "plt.plot(relative_strenght[tickers], label=tickers, alpha=1)\n",
    "plt.axhline(y=0, color='black', linestyle='dashed')\n",
    "\n",
    "# Config\n",
    "plt.title('Relative Strength Time Series')\n",
    "plt.xlabel('Time')\n",
    "plt.ylabel('Relative Strength')\n",
    "plt.legend()\n",
    "plt.grid()\n",
    "\n",
    "# Show\n",
    "plt.show()"
   ],
   "execution_count": 15,
   "outputs": []
  },
  {
   "cell_type": "code",
   "execution_count": 125,
   "id": "50c58321-d36a-4139-ab74-e971387461cc",
   "metadata": {},
   "source": [
    "# Store the Data\n",
    "\n",
    "# relative_strenght.to_csv(r\"..\\additional_data\\momentum.csv\")"
   ],
   "outputs": []
  },
  {
   "cell_type": "markdown",
   "id": "80688ffa-ceb0-420c-9cb9-6546fc92be5d",
   "metadata": {},
   "source": [
    "### Calculate the Momentum Portfolios ###"
   ]
  },
  {
   "cell_type": "code",
   "id": "892ce189-3b63-423c-b0bd-48185fa89110",
   "metadata": {
    "ExecuteTime": {
     "end_time": "2025-04-22T18:15:36.227848Z",
     "start_time": "2025-04-22T18:15:36.215868Z"
    }
   },
   "source": [
    "# Define the Decomposition Function\n",
    "def momentum_decomposition(\n",
    "    target_df, \n",
    "    mktcap_df, \n",
    "    momentum_df\n",
    "):\n",
    "    # Common Indexes\n",
    "    common_index = target_df.index.intersection(momentum_df.index).intersection(mktcap_df.index)\n",
    "    \n",
    "    # Reindex\n",
    "    target_df = target_df.loc[common_index]\n",
    "    mktcap_df = mktcap_df.loc[common_index]\n",
    "    momentum_df = momentum_df.loc[common_index]\n",
    "\n",
    "    # Initialize lists to store portfolio returns\n",
    "    winner_list, neutral_list, loser_list = [], [], []\n",
    "    \n",
    "    # Get unique quarters\n",
    "    months = sorted(set([date.to_period('M') for date in common_index]))\n",
    "    \n",
    "    # Dictionary to store quarterly classifications and weights\n",
    "    monthly_classifications = {}\n",
    "\n",
    "    for month in months:\n",
    "        # Select only the last available date of the quarter\n",
    "        month_dates = [date for date in common_index if date.to_period('M') == month]\n",
    "        rebalance_date = month_dates[-1]  # Last day of the quarter\n",
    "        \n",
    "        # Momentum Factor for rebalance date\n",
    "        momentum_factor_df = pd.DataFrame([momentum_df.loc[rebalance_date]], index=['mom']).T.dropna()\n",
    "        \n",
    "        # Classify stocks into Low, Neutral, and High based on quantiles\n",
    "        lower = momentum_factor_df['mom'].quantile(0.3)\n",
    "        upper = momentum_factor_df['mom'].quantile(0.7)\n",
    "\n",
    "        momentum_factor_df['momentum_class'] = 'neutral'\n",
    "        momentum_factor_df.loc[momentum_factor_df['mom'] <= lower, 'momentum_class'] = 'loser'\n",
    "        momentum_factor_df.loc[momentum_factor_df['mom'] >= upper, 'momentum_class'] = 'winner'\n",
    "        \n",
    "        # Market cap data\n",
    "        market_caps_df = pd.DataFrame([mktcap_df.loc[rebalance_date]], index=['mkt_cap']).T\n",
    "        \n",
    "        # Assign market caps to value classes\n",
    "        loser_mktcap_df = market_caps_df.loc[momentum_factor_df[momentum_factor_df['momentum_class'] == 'loser'].index]\n",
    "        neutral_mktcap_df = market_caps_df.loc[momentum_factor_df[momentum_factor_df['momentum_class'] == 'neutral'].index]\n",
    "        winner_mktcap_df = market_caps_df.loc[momentum_factor_df[momentum_factor_df['momentum_class'] == 'winner'].index]\n",
    "        \n",
    "        # Compute weights\n",
    "        loser_weights = loser_mktcap_df['mkt_cap'] / loser_mktcap_df['mkt_cap'].sum()\n",
    "        neutral_weights = neutral_mktcap_df['mkt_cap'] / neutral_mktcap_df['mkt_cap'].sum()\n",
    "        winner_weights = winner_mktcap_df['mkt_cap'] / winner_mktcap_df['mkt_cap'].sum()\n",
    "        \n",
    "        # Store classifications and weights\n",
    "        monthly_classifications[month] = {\n",
    "            \"loser\": loser_weights,\n",
    "            \"neutral\": neutral_weights,\n",
    "            \"winner\": winner_weights\n",
    "        }\n",
    "    \n",
    "    # Iterate over all available dates to compute daily returns\n",
    "    for date in common_index:\n",
    "        month_key = date.to_period('M')  # Get quarter of the current date\n",
    "        \n",
    "        if month_key in monthly_classifications:\n",
    "            # Retrieve stored classification and weights\n",
    "            loser_weights = monthly_classifications[month_key][\"loser\"]\n",
    "            neutral_weights = monthly_classifications[month_key][\"neutral\"]\n",
    "            winner_weights = monthly_classifications[month_key][\"winner\"]\n",
    "            \n",
    "            # Retrieve daily returns\n",
    "            target = pd.DataFrame([target_df.loc[date]], index=['returns']).T\n",
    "            \n",
    "            loser_returns = target.reindex(loser_weights.index).dropna()\n",
    "            neutral_returns = target.reindex(neutral_weights.index).dropna()\n",
    "            winner_returns = target.reindex(winner_weights.index).dropna()\n",
    "            \n",
    "            # Compute portfolio returns\n",
    "            loser_result = loser_weights.reindex(loser_returns.index).T @ loser_returns\n",
    "            neutral_result = neutral_weights.reindex(neutral_returns.index).T @ neutral_returns\n",
    "            winner_result = winner_weights.reindex(winner_returns.index).T @ winner_returns\n",
    "            \n",
    "            # Store results\n",
    "            loser_list.append(loser_result.values[0] if not loser_result.empty else None)\n",
    "            neutral_list.append(neutral_result.values[0] if not neutral_result.empty else None)\n",
    "            winner_list.append(winner_result.values[0] if not winner_result.empty else None)\n",
    "\n",
    "    # Create final DataFrame\n",
    "    momentum_portfolios = pd.DataFrame({\n",
    "        'winner': winner_list,\n",
    "        'neutral': neutral_list,\n",
    "        'loser': loser_list\n",
    "    }, index=common_index)\n",
    "    \n",
    "    return momentum_portfolios"
   ],
   "execution_count": 16,
   "outputs": []
  },
  {
   "cell_type": "code",
   "id": "af49a3f0-47fe-47cd-8b4f-ecc1b0bfbfb8",
   "metadata": {
    "ExecuteTime": {
     "end_time": "2025-04-22T18:15:43.915301Z",
     "start_time": "2025-04-22T18:15:36.984292Z"
    }
   },
   "source": [
    "# Create DataFrames\n",
    "\n",
    "momentum_portfolios_returns = momentum_decomposition(returns_df, mktcap_df, relative_strenght)\n",
    "\n",
    "momentum_portfolios_returns"
   ],
   "execution_count": 17,
   "outputs": []
  },
  {
   "metadata": {
    "ExecuteTime": {
     "end_time": "2025-04-22T18:16:09.087321Z",
     "start_time": "2025-04-22T18:16:09.075710Z"
    }
   },
   "cell_type": "code",
   "source": [
    "# Calculate the Analytics\n",
    "mom_portfolios_analytics = calculate_analytics(momentum_portfolios_returns)\n",
    "\n",
    "mom_portfolios_analytics"
   ],
   "id": "f5c62d2d8f88474b",
   "execution_count": 18,
   "outputs": []
  },
  {
   "cell_type": "code",
   "id": "cc6e58de-9b58-400d-b028-91070e72e241",
   "metadata": {
    "ExecuteTime": {
     "end_time": "2025-04-22T18:16:57.993786Z",
     "start_time": "2025-04-22T18:16:57.460889Z"
    }
   },
   "source": [
    "# Create Plot\n",
    "\n",
    "plt.figure(figsize=(10, 6))\n",
    "plt.plot(momentum_portfolios_returns.cumsum(), label=momentum_portfolios_returns.columns, alpha=1)\n",
    "\n",
    "# Config\n",
    "plt.title('Cumulative Returns (Momentum Adjusted) Time Series')\n",
    "plt.xlabel('Time')\n",
    "plt.ylabel('Returns')\n",
    "plt.legend()\n",
    "plt.grid()\n",
    "\n",
    "# Show\n",
    "plt.show()"
   ],
   "execution_count": 19,
   "outputs": []
  },
  {
   "cell_type": "code",
   "id": "4ac4c597-b4a8-4131-9f94-572dca4e7445",
   "metadata": {
    "ExecuteTime": {
     "end_time": "2025-04-22T18:17:08.400406Z",
     "start_time": "2025-04-22T18:17:01.262323Z"
    }
   },
   "source": [
    "# Create DataFrames\n",
    "\n",
    "momentum_portfolios_betas = momentum_decomposition(betas_df, mktcap_df, relative_strenght)\n",
    "\n",
    "momentum_portfolios_betas"
   ],
   "execution_count": 20,
   "outputs": []
  },
  {
   "cell_type": "code",
   "id": "577ee268-bb57-493a-a434-ba75bb47874b",
   "metadata": {
    "ExecuteTime": {
     "end_time": "2025-04-22T18:17:08.620621Z",
     "start_time": "2025-04-22T18:17:08.400406Z"
    }
   },
   "source": [
    "# Create Plot\n",
    "plt.figure(figsize=(10, 6))\n",
    "plt.plot(momentum_portfolios_betas.ewm(span=21, adjust = False).mean(), label=momentum_portfolios_betas.columns, alpha=1)\n",
    "plt.axhline(y=1, color='black', linestyle='dashed')\n",
    "\n",
    "# Config\n",
    "plt.title('Betas (Size Adjusted) Time Series')\n",
    "plt.xlabel('Time')\n",
    "plt.ylabel('Betas')\n",
    "plt.legend()\n",
    "plt.grid()\n",
    "\n",
    "# Show\n",
    "plt.show()"
   ],
   "execution_count": 21,
   "outputs": []
  },
  {
   "cell_type": "code",
   "id": "a79a3e44-071f-4467-906b-7d69a5db7d7e",
   "metadata": {
    "ExecuteTime": {
     "end_time": "2025-04-22T18:17:30.402291Z",
     "start_time": "2025-04-22T18:17:30.392267Z"
    }
   },
   "source": [
    "# Create the data\n",
    "daily_rfr = compute_daily_returns(rfr['risk_free_rate'])\n",
    "market_excess_returns = compute_excess_returns(sp500['sp_500'], rfr['risk_free_rate'])"
   ],
   "execution_count": 22,
   "outputs": []
  },
  {
   "cell_type": "code",
   "id": "03c45eda-6994-4b33-a4ac-625b5c1c9699",
   "metadata": {
    "ExecuteTime": {
     "end_time": "2025-04-22T18:17:30.835786Z",
     "start_time": "2025-04-22T18:17:30.822294Z"
    }
   },
   "source": [
    "# Create the regression dataframe\n",
    "momentum_regression_df = pd.DataFrame(index = momentum_portfolios_returns.index)\n",
    "\n",
    "momentum_regression_df['winners_excess_returns'] = momentum_portfolios_returns['winner'] - daily_rfr\n",
    "momentum_regression_df['losers_excess_returns'] = momentum_portfolios_returns['loser'] - daily_rfr\n",
    "momentum_regression_df['market_excess_returns'] = market_excess_returns\n",
    "momentum_regression_df.dropna(inplace = True)\n",
    "\n",
    "momentum_regression_df"
   ],
   "execution_count": 23,
   "outputs": []
  },
  {
   "cell_type": "code",
   "id": "ad7c7be3-3b0b-43ca-bb9a-4a1b23cae8b1",
   "metadata": {
    "ExecuteTime": {
     "end_time": "2025-04-22T18:18:17.567139Z",
     "start_time": "2025-04-22T18:18:17.552322Z"
    }
   },
   "source": [
    "# Calculate the Beta for the Winner Portfolio\n",
    "\n",
    "y = momentum_regression_df['winners_excess_returns']\n",
    "x = momentum_regression_df['market_excess_returns']\n",
    "\n",
    "# Calculate Weights\n",
    "window = len(y)\n",
    "\n",
    "#Model specification\n",
    "results = capm_regression(\n",
    "    y,\n",
    "    x,\n",
    "    window,\n",
    "    True\n",
    ")\n",
    "    \n",
    "#here we check the summary\n",
    "print(results.summary())"
   ],
   "execution_count": 24,
   "outputs": []
  },
  {
   "cell_type": "code",
   "id": "621079ea-f466-4e92-ba84-470c4257f918",
   "metadata": {
    "ExecuteTime": {
     "end_time": "2025-04-22T18:18:37.428853Z",
     "start_time": "2025-04-22T18:18:37.412108Z"
    }
   },
   "source": [
    "# Calculate the Beta for the Loser Portfolio\n",
    "\n",
    "y = momentum_regression_df['losers_excess_returns']\n",
    "x = momentum_regression_df['market_excess_returns']\n",
    "\n",
    "# Calculate Weights\n",
    "window = len(y)\n",
    "\n",
    "#Model specification\n",
    "results = capm_regression(\n",
    "    y,\n",
    "    x,\n",
    "    window,\n",
    "    True\n",
    ")\n",
    "    \n",
    "#here we check the summary\n",
    "print(results.summary())"
   ],
   "execution_count": 25,
   "outputs": []
  },
  {
   "cell_type": "code",
   "id": "277a473c-e5fb-4e9e-890c-e3f3ba6f7d26",
   "metadata": {
    "ExecuteTime": {
     "end_time": "2025-04-22T18:18:44.589773Z",
     "start_time": "2025-04-22T18:18:44.583434Z"
    }
   },
   "source": [
    "# Calculate the WML Premium\n",
    "momentum_regression_df['WML'] = momentum_portfolios_returns['winner'] - momentum_portfolios_returns['loser']"
   ],
   "execution_count": 26,
   "outputs": []
  },
  {
   "cell_type": "code",
   "id": "29d18059-601a-4033-a94f-cd0d5d99e217",
   "metadata": {
    "ExecuteTime": {
     "end_time": "2025-04-22T18:18:45.782588Z",
     "start_time": "2025-04-22T18:18:45.651937Z"
    }
   },
   "source": [
    "plt.figure(figsize=(10, 6))\n",
    "plt.plot(momentum_regression_df['WML'].cumsum(), label='WML Premium', color = 'salmon', alpha=1)\n",
    "\n",
    "# Config\n",
    "plt.title('WML Returns Time Series')\n",
    "plt.xlabel('Time')\n",
    "plt.ylabel('Returns')\n",
    "plt.legend()\n",
    "plt.grid()\n",
    "\n",
    "# Show\n",
    "plt.show()"
   ],
   "execution_count": 27,
   "outputs": []
  },
  {
   "cell_type": "code",
   "id": "266cdcdd-95f9-4a44-89f0-ed2a8eb3a9f2",
   "metadata": {
    "ExecuteTime": {
     "end_time": "2025-04-22T18:18:53.383384Z",
     "start_time": "2025-04-22T18:18:53.378266Z"
    }
   },
   "source": [
    "# Check the Correlation with the Market\n",
    "\n",
    "momentum_regression_df['WML'].corr(momentum_regression_df['market_excess_returns'])"
   ],
   "execution_count": 28,
   "outputs": []
  },
  {
   "cell_type": "code",
   "id": "c310a26c-6738-4e73-a297-0b1532ab8f3e",
   "metadata": {
    "ExecuteTime": {
     "end_time": "2025-04-22T18:19:04.917553Z",
     "start_time": "2025-04-22T18:19:04.906414Z"
    }
   },
   "source": [
    "# Calculate the Beta for the WML premium\n",
    "\n",
    "y = momentum_regression_df['WML']\n",
    "x = momentum_regression_df['market_excess_returns']\n",
    "\n",
    "# Calculate Weights\n",
    "window = len(y)\n",
    "\n",
    "#Model specification\n",
    "results = capm_regression(\n",
    "    y,\n",
    "    x,\n",
    "    window,\n",
    "    True\n",
    ")\n",
    "    \n",
    "#here we check the summary\n",
    "print(results.summary())"
   ],
   "execution_count": 29,
   "outputs": []
  },
  {
   "cell_type": "code",
   "id": "ed6b834d-2d33-4dc5-b77d-bf413e911e2f",
   "metadata": {
    "ExecuteTime": {
     "end_time": "2025-04-22T18:58:52.823310Z",
     "start_time": "2025-04-22T18:58:52.814460Z"
    }
   },
   "source": [
    "# Store the Premium\n",
    "momentum_regression_df.index.name = \"Date\"\n",
    "momentum_regression_df['WML'].to_csv(r\"..\\additional_data\\carhart_wml.csv\")"
   ],
   "execution_count": 32,
   "outputs": []
  },
  {
   "metadata": {},
   "cell_type": "code",
   "execution_count": null,
   "source": "",
   "id": "f9d76702f2ffd515",
   "outputs": []
  }
 ],
 "metadata": {
  "kernelspec": {
   "display_name": "Python 3 (ipykernel)",
   "language": "python",
   "name": "python3"
  },
  "language_info": {
   "codemirror_mode": {
    "name": "ipython",
    "version": 3
   },
   "file_extension": ".py",
   "mimetype": "text/x-python",
   "name": "python",
   "nbconvert_exporter": "python",
   "pygments_lexer": "ipython3",
   "version": "3.11.7"
  }
 },
 "nbformat": 4,
 "nbformat_minor": 5
}
