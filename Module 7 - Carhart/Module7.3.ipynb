{
 "cells": [
  {
   "cell_type": "markdown",
   "id": "26a578bf-3123-4684-a21c-39b122b96ee6",
   "metadata": {},
   "source": [
    "# Cahart Factor Model #"
   ]
  },
  {
   "cell_type": "markdown",
   "id": "f0e7f4d1-8683-49ec-a254-d9e053be79ed",
   "metadata": {},
   "source": [
    "### The Model Specification ###"
   ]
  },
  {
   "cell_type": "code",
   "execution_count": 3,
   "id": "61043932-62cc-4cd3-ab67-5091c3cbde26",
   "metadata": {},
   "source": [
    "# Import Libraries\n",
    "\n",
    "# Data Management\n",
    "import pandas as pd\n",
    "import numpy as np\n",
    "\n",
    "# Plots\n",
    "import matplotlib.pyplot as plt\n",
    "\n",
    "# Statistics\n",
    "import statsmodels.api as sm\n",
    "from statsmodels.stats.outliers_influence import variance_inflation_factor\n",
    "from scipy.stats import norm\n",
    "\n",
    "# Manipulate Files\n",
    "import os\n",
    "\n",
    "# Pretty Notation\n",
    "from IPython.display import display, Math"
   ],
   "outputs": []
  },
  {
   "cell_type": "code",
   "execution_count": 4,
   "id": "d23854d2-bc51-4bd0-b270-c001bdd8c262",
   "metadata": {},
   "source": [
    "# Create the Weights function\n",
    "def wexp(N, half_life):\n",
    "    c = np.log(0.5)/half_life\n",
    "    n = np.array(range(N))\n",
    "    w = np.exp(c*n)\n",
    "    return np.flip(w/np.sum(w))"
   ],
   "outputs": []
  },
  {
   "cell_type": "code",
   "execution_count": 5,
   "id": "cb96cc2c-1830-4d9b-8acf-5f05d040e46c",
   "metadata": {},
   "source": [
    "def import_financial_data(\n",
    "    ticker: str\n",
    "):\n",
    "\n",
    "    # Check the ticker for Upper Cases\n",
    "    ticker = ticker if ticker.isupper() else ticker.upper()\n",
    "\n",
    "    # Import data\n",
    "    df = pd.read_csv(rf\"..\\stocks\\{ticker}.csv\")\n",
    "\n",
    "    # Set the Index\n",
    "    df = df.set_index('Date')\n",
    "    df.index = pd.to_datetime(df.index)\n",
    "\n",
    "    df_useful_data = df[['Open Price', 'High Price', 'Low Price', 'Close Price', 'Adjusted_close']]\n",
    "\n",
    "    df_useful_data = df_useful_data.rename(columns={\n",
    "        \"Open Price\":\"open\",\n",
    "        \"High Price\":\"high\",\n",
    "        \"Low Price\":\"low\",\n",
    "        \"Close Price\":\"close\",\n",
    "        \"Adjusted_close\":\"adjusted_close\",\n",
    "    })\n",
    "\n",
    "    # Drop NaN's\n",
    "    df_useful_data.dropna(inplace = True)\n",
    "\n",
    "    return df_useful_data.loc[\"2015-01-01\":]"
   ],
   "outputs": []
  },
  {
   "cell_type": "code",
   "execution_count": 6,
   "id": "7f81ffe7-9fc0-44c0-9ea0-b5421c987c4e",
   "metadata": {},
   "source": [
    "# Get Data from Stock\n",
    "\n",
    "ticker = 'META'\n",
    "\n",
    "stock_price = import_financial_data(ticker)\n",
    "stock_returns = stock_price['adjusted_close'].pct_change(1).dropna()\n",
    "\n",
    "stock_returns"
   ],
   "outputs": []
  },
  {
   "cell_type": "code",
   "execution_count": 7,
   "id": "50f0fc5c-07b6-4c30-8f2d-a59b35732a14",
   "metadata": {},
   "source": [
    "# Get the important data for the Risk Free Rate\n",
    "rfr = pd.read_csv(r\"..\\additional_data\\rfr.csv\")\n",
    "rfr = rfr.set_index('Date')\n",
    "rfr.index = pd.to_datetime(rfr.index, dayfirst=True)\n",
    "\n",
    "# Get the important data for the S&P500\n",
    "sp500 = pd.read_csv(r\"..\\additional_data\\sp500.csv\")\n",
    "sp500 = sp500.set_index('Date')\n",
    "sp500.index = pd.to_datetime(sp500.index)\n",
    "\n",
    "# Get the data for the SMB Premium\n",
    "SMB = pd.read_csv(r\"..\\additional_data\\SMB.csv\")\n",
    "SMB = SMB.set_index('Date')\n",
    "SMB.index = pd.to_datetime(SMB.index)\n",
    "\n",
    "# Get the data for the HML Premium\n",
    "HML = pd.read_csv(r\"..\\additional_data\\HML.csv\")\n",
    "HML = HML.set_index('Date')\n",
    "HML.index = pd.to_datetime(HML.index)\n",
    "\n",
    "# Get the data for the WML Premium\n",
    "WML = pd.read_csv(r\"..\\additional_data\\WML.csv\")\n",
    "WML = WML.rename(columns={'Unnamed: 0':'Date'})\n",
    "WML = WML.set_index('Date')\n",
    "WML.index = pd.to_datetime(WML.index)\n",
    "\n",
    "# Get the data for the HML Premium\n",
    "AMD = pd.read_csv(r\"..\\additional_data\\AMD.csv\")\n",
    "AMD = AMD.rename(columns={'Unnamed: 0':'Date'})\n",
    "AMD = AMD.set_index('Date')\n",
    "AMD.index = pd.to_datetime(AMD.index)"
   ],
   "outputs": []
  },
  {
   "cell_type": "code",
   "execution_count": 8,
   "id": "82a22caa-3d27-4350-824b-ccf85aca81dc",
   "metadata": {},
   "source": [
    "# Create the data\n",
    "daily_rfr = (((1 + (rfr['risk_free_rate'].div(100)))**(1/360)) - 1)\n",
    "benchmark_returns = sp500['sp_500'].pct_change(1)\n",
    "\n",
    "# Create the Excess Returns\n",
    "market_excess_returns = benchmark_returns - daily_rfr\n",
    "stock_excess_returns = stock_returns - daily_rfr"
   ],
   "outputs": []
  },
  {
   "cell_type": "code",
   "execution_count": 9,
   "id": "1ef969c7-e575-4fe8-9c2a-d196766dce56",
   "metadata": {},
   "source": [
    "# Create the regression dataframe\n",
    "regression_df = pd.DataFrame(index = stock_excess_returns.index)\n",
    "\n",
    "regression_df['stock_excess_returns'] = stock_excess_returns\n",
    "regression_df['MKT'] = market_excess_returns\n",
    "regression_df['SMB'] = SMB\n",
    "regression_df['HML'] = HML\n",
    "regression_df['WML'] = WML\n",
    "regression_df['AMD'] = AMD\n",
    "regression_df.dropna(inplace = True)\n",
    "\n",
    "regression_df"
   ],
   "outputs": []
  },
  {
   "cell_type": "code",
   "execution_count": 17,
   "id": "6fef4fc5-2f23-4ce4-819d-66d58cecbdf7",
   "metadata": {},
   "source": [
    "# Create the Y Vector\n",
    "y = regression_df['stock_excess_returns']\n",
    "\n",
    "# Create the X Matrix\n",
    "x = regression_df[['MKT', 'SMB', 'HML', 'WML', 'AMD']]"
   ],
   "outputs": []
  },
  {
   "cell_type": "code",
   "execution_count": 19,
   "id": "9be9b0fa-d70e-4f14-9845-ccfeff52a022",
   "metadata": {},
   "source": [
    "# Correlations\n",
    "\n",
    "x.corr()"
   ],
   "outputs": []
  },
  {
   "cell_type": "code",
   "execution_count": 21,
   "id": "19913992-44f6-4782-8f3f-3ded62f8453c",
   "metadata": {},
   "source": [
    "# Calculate Weights\n",
    "window = len(y)\n",
    "weights = window * wexp(window, window/2)\n",
    "\n",
    "#Model specification\n",
    "model = sm.WLS(\n",
    "    y, \n",
    "    sm.add_constant(x),\n",
    "    missing='drop',\n",
    "    weights=weights,\n",
    "    )   \n",
    "     \n",
    "#the results of the model\n",
    "results = model.fit() \n",
    "    \n",
    "#here we check the summary\n",
    "print(results.summary())"
   ],
   "outputs": []
  },
  {
   "cell_type": "markdown",
   "id": "eb724f2b-108e-4991-8c17-d780fdc3e70d",
   "metadata": {},
   "source": [
    "### Checking for Collinearity ###"
   ]
  },
  {
   "cell_type": "code",
   "execution_count": 23,
   "id": "752a2d1d-6c14-4e95-a101-fa0c8635bdb3",
   "metadata": {},
   "source": [
    "vif_data = pd.DataFrame()\n",
    "vif_data['vars'] = x.columns\n",
    "vif_data['VIF'] = [variance_inflation_factor(x.values, i) for i in range(x.shape[1])]\n",
    "\n",
    "vif_data"
   ],
   "outputs": []
  },
  {
   "cell_type": "code",
   "execution_count": 25,
   "id": "d43662d0-63bb-46ee-a2bd-5d1996a48763",
   "metadata": {},
   "source": [
    "r_squared_df = pd.DataFrame()\n",
    "r_squared_df['vars'] = x.columns\n",
    "\n",
    "r_squared_df['r_squared'] = 1 - (1 / vif_data['VIF'])\n",
    "\n",
    "r_squared_df"
   ],
   "outputs": []
  },
  {
   "cell_type": "markdown",
   "id": "9cbd1efa-9b85-4e91-8d21-28e0a634f6f5",
   "metadata": {},
   "source": [
    "Econometricians can tolerate VIF stats lower than 5, so we are going to use these 5 factors."
   ]
  },
  {
   "cell_type": "markdown",
   "id": "6751bd9b-c3e7-43a3-b58c-df2cb159ca72",
   "metadata": {},
   "source": [
    "### Orthogonalization ###"
   ]
  },
  {
   "cell_type": "code",
   "execution_count": 45,
   "id": "bf8b9fc5-d89a-49eb-a471-6b3ddef04bc0",
   "metadata": {},
   "source": [
    "# Calculate Weights\n",
    "window = len(y)\n",
    "weights = window * wexp(window, window/2)\n",
    "\n",
    "#Model specification\n",
    "model_mktvsamd = sm.WLS(\n",
    "    regression_df['MKT'], \n",
    "    regression_df['AMD'],\n",
    "    missing='drop',\n",
    "    weights=weights,\n",
    "    )   \n",
    "     \n",
    "#the results of the model\n",
    "results_mktvsamd = model_mktvsamd.fit() \n",
    "    \n",
    "#here we check the summary\n",
    "print(results_mktvsamd.summary())"
   ],
   "outputs": []
  },
  {
   "cell_type": "code",
   "execution_count": 61,
   "id": "b385c242-e094-4689-8b71-4f1085829b95",
   "metadata": {},
   "source": [
    "# Obtaining the Real MKT Premium\n",
    "\n",
    "OMKT = results_mktvsamd.resid\n",
    "regression_df['OMKT'] = OMKT\n",
    "\n",
    "# Create Plot\n",
    "plt.figure(figsize=(10, 6))\n",
    "plt.plot(regression_df['MKT'].cumsum(), label='Non-Orthogonalized MKT', alpha=1)\n",
    "plt.plot(regression_df['OMKT'].cumsum(), label='Orthogonalized MKT', alpha=1)\n",
    "plt.plot(regression_df['AMD'].cumsum(), label='AMD Premium', alpha=1)\n",
    "\n",
    "# Config\n",
    "plt.title('Premium Time Series')\n",
    "plt.xlabel('Time')\n",
    "plt.ylabel('Returns')\n",
    "plt.legend()\n",
    "plt.grid()\n",
    "\n",
    "# Show\n",
    "plt.show()"
   ],
   "outputs": []
  },
  {
   "cell_type": "code",
   "execution_count": 57,
   "id": "7afb8076-efdb-475a-9839-f03623561ec6",
   "metadata": {},
   "source": [
    "# Create the X Matrix\n",
    "x_alt = regression_df[['OMKT', 'SMB', 'HML', 'WML', 'AMD']]\n",
    "\n",
    "x_alt.corr()"
   ],
   "outputs": []
  },
  {
   "cell_type": "code",
   "execution_count": 59,
   "id": "74661eee-58ed-49e3-ae39-079d30cdf678",
   "metadata": {},
   "source": [
    "# Calculate Weights\n",
    "window = len(y)\n",
    "weights = window * wexp(window, window/2)\n",
    "\n",
    "#Model specification\n",
    "model = sm.WLS(\n",
    "    y, \n",
    "    sm.add_constant(x_alt),\n",
    "    missing='drop',\n",
    "    weights=weights,\n",
    "    )   \n",
    "     \n",
    "#the results of the model\n",
    "results = model.fit() \n",
    "    \n",
    "#here we check the summary\n",
    "print(results.summary())"
   ],
   "outputs": []
  },
  {
   "cell_type": "code",
   "execution_count": 69,
   "id": "72b4f6e6-5049-412d-97d9-f1e4350fd6db",
   "metadata": {},
   "source": [
    "vif_data_alt = pd.DataFrame()\n",
    "vif_data_alt['vars'] = x_alt.columns\n",
    "vif_data_alt['VIF'] = [variance_inflation_factor(x_alt.values, i) for i in range(x_alt.shape[1])]\n",
    "\n",
    "vif_data_alt"
   ],
   "outputs": []
  },
  {
   "cell_type": "markdown",
   "id": "3a3c493e-9dff-4a06-84d0-6a5b4cb183cc",
   "metadata": {},
   "source": [
    "### Obtaining the Coefficients for a single stock ###"
   ]
  },
  {
   "cell_type": "code",
   "execution_count": 83,
   "id": "477ef605-9abf-4502-b86c-a04e9c6847c4",
   "metadata": {},
   "source": [
    "# Define the Function\n",
    "def CarhartFactors(\n",
    "    stock_returns: pd.Series, \n",
    "    market_returns: pd.Series = OMKT, \n",
    "    small_minus_big_series: pd.Series = SMB,\n",
    "    high_minus_low_series: pd.Series = HML,\n",
    "    winners_minus_losers_series: pd.Series = WML,\n",
    "    aggressive_minus_defensive_series: pd.Series = AMD,\n",
    "    window: int = 252\n",
    ") -> pd.DataFrame:\n",
    "    \n",
    "    # Asegurar el mismo índice\n",
    "    common_index = stock_returns.index \\\n",
    "        .intersection(market_returns.index) \\\n",
    "        .intersection(small_minus_big_series.index) \\\n",
    "        .intersection(high_minus_low_series.index) \\\n",
    "        .intersection(winners_minus_losers_series.index) \\\n",
    "        .intersection(aggressive_minus_defensive_series.index)\n",
    "    \n",
    "    stock_returns = stock_returns.loc[common_index]\n",
    "    market_returns = market_returns.loc[common_index]\n",
    "    small_minus_big_series = small_minus_big_series.loc[common_index]\n",
    "    high_minus_low_series = high_minus_low_series.loc[common_index]\n",
    "    winners_minus_losers_series = winners_minus_losers_series.loc[common_index]\n",
    "    aggressive_minus_defensive_series = aggressive_minus_defensive_series.loc[common_index]\n",
    "    \n",
    "    # Crear matriz X\n",
    "    X_all = pd.concat([\n",
    "        market_returns,\n",
    "        small_minus_big_series,\n",
    "        high_minus_low_series,\n",
    "        winners_minus_losers_series,\n",
    "        aggressive_minus_defensive_series\n",
    "    ], axis=1)\n",
    "    \n",
    "    # Inicializar dataframe para betas\n",
    "    betas = pd.DataFrame(index=stock_returns.index, columns=[\"mkt_beta\", \"smb_beta\", \"hml_beta\", \"wml_beta\", \"amd_beta\"], dtype=float)\n",
    "    \n",
    "    for i in range(window, len(stock_returns)):\n",
    "        y_window = stock_returns.iloc[i-window:i]\n",
    "        X_window = X_all.iloc[i-window:i]\n",
    "        \n",
    "        if y_window.isna().any() or X_window.isna().any().any():\n",
    "            continue\n",
    "\n",
    "        weights = window * wexp(window, window/2)\n",
    "        X_window = sm.add_constant(X_window)\n",
    "        model = sm.WLS(y_window, X_window, weights=weights, missing='drop').fit()\n",
    "        params = model.params\n",
    "\n",
    "        # Store the betas\n",
    "        mkt_beta = params.iloc[1]\n",
    "        smb_beta = params.iloc[2]\n",
    "        hml_beta = params.iloc[3]\n",
    "        wml_beta = params.iloc[4]\n",
    "        amd_beta = params.iloc[5]\n",
    "        \n",
    "        betas.iloc[i] = [\n",
    "            mkt_beta,\n",
    "            smb_beta,\n",
    "            hml_beta,\n",
    "            wml_beta,\n",
    "            amd_beta\n",
    "        ]\n",
    "        \n",
    "    return betas"
   ],
   "outputs": []
  },
  {
   "cell_type": "code",
   "execution_count": 85,
   "id": "674bf230-6c2c-4813-9168-dd521c2b86ba",
   "metadata": {},
   "source": [
    "# Check if the Fuction Works (Remember the Stock we are using)\n",
    "\n",
    "parameters = CarhartFactors(\n",
    "    regression_df['stock_excess_returns'],\n",
    ").dropna()\n",
    "\n",
    "parameters"
   ],
   "outputs": []
  },
  {
   "cell_type": "code",
   "execution_count": 86,
   "id": "84d6879c-caa7-44b7-814a-d4da5933c4aa",
   "metadata": {},
   "source": [
    "# Create Plot\n",
    "\n",
    "plt.figure(figsize=(10, 6))\n",
    "plt.plot(parameters.ewm(span=21, adjust = False).mean(), label=parameters.columns, alpha=1)\n",
    "\n",
    "# Config\n",
    "plt.title(f'{ticker} Betas Time Series')\n",
    "plt.xlabel('Time')\n",
    "plt.ylabel('Betas')\n",
    "plt.legend()\n",
    "plt.grid()\n",
    "\n",
    "# Show\n",
    "plt.show()"
   ],
   "outputs": []
  },
  {
   "cell_type": "markdown",
   "id": "95c17eec-be18-4f18-8802-4338a2edd636",
   "metadata": {},
   "source": [
    "### Obtaining the Coefficients for all the Stocks ###"
   ]
  },
  {
   "cell_type": "code",
   "execution_count": 73,
   "id": "215942da-4029-4db0-a428-f15a58725acd",
   "metadata": {},
   "source": [
    "# Dictionary to store the DataFrames\n",
    "folder_path = r\"..\\stocks\"\n",
    "\n",
    "dataframes = {} \n",
    "\n",
    "# List all files in the folder\n",
    "for file in os.listdir(folder_path):\n",
    "    if file.endswith(\".csv\"):\n",
    "        # Full path to the file\n",
    "        file_path = os.path.join(folder_path, file)\n",
    "        \n",
    "        # Read the Excel file\n",
    "        df = pd.read_csv(file_path)\n",
    "        df = df.set_index(\"Date\")\n",
    "        df.index = pd.to_datetime(df.index)\n",
    "\n",
    "        df = df['Adjusted_close']\n",
    "\n",
    "        df = df.rename(\"adj_close\")\n",
    "        \n",
    "        # Fill nans\n",
    "        df = df.interpolate(method='time')\n",
    "\n",
    "        df = df.loc['2015-01-01':]\n",
    "\n",
    "        df.dropna(inplace=True)\n",
    "        \n",
    "        if len(df) >= 2000:\n",
    "            # File name without extension\n",
    "            file_name = os.path.splitext(file)[0]\n",
    "            \n",
    "            # Guardar en el diccionario\n",
    "            dataframes[file_name] = df\n",
    "            print(f\"File loaded: {file_name} ({len(df)} rows)\")\n",
    "        else:\n",
    "            print(f\"File skipped (less than 2000 rows after cleaning): {file}\")\n",
    "\n",
    "print(f\"\\nTotal files loaded: {len(dataframes)}\")\n",
    "print(\"Files loaded:\", list(dataframes.keys()))"
   ],
   "outputs": []
  },
  {
   "cell_type": "code",
   "execution_count": 75,
   "id": "8ab58bc3-5325-4e23-b325-7c6552538a85",
   "metadata": {},
   "source": [
    "# Create a whole new dataframe that contains all the stocks betas\n",
    "\n",
    "rets_series = []\n",
    "\n",
    "for stock, df in dataframes.items():\n",
    "    series = df.pct_change(1).rename(stock)  \n",
    "    series = series.iloc[1:]\n",
    "    rets_series.append(series)\n",
    "\n",
    "# Concat\n",
    "returns_df = pd.concat(rets_series, axis=1)\n",
    "returns_df = returns_df.apply(lambda x: x.fillna(x.mean()), axis=0)\n",
    "returns_df = returns_df.sub(daily_rfr, axis=0)\n",
    "\n",
    "returns_df.dropna(inplace = True)\n",
    "\n",
    "returns_df"
   ],
   "outputs": []
  },
  {
   "cell_type": "code",
   "execution_count": 77,
   "id": "504850ee-eb8c-4b5b-9247-5de844fc16e9",
   "metadata": {},
   "source": [
    "# Create Dicts\n",
    "betas_mkt_dict = {}\n",
    "betas_smb_dict = {}\n",
    "betas_hml_dict = {}\n",
    "betas_wml_dict = {}\n",
    "betas_amd_dict = {}\n",
    "\n",
    "# Loop\n",
    "for ticker, df in dataframes.items():\n",
    "    stock_returns = returns_df[ticker]\n",
    "\n",
    "    # Calculate betas\n",
    "    parameters = CarhartFactors(stock_returns)\n",
    "\n",
    "    # Store\n",
    "    betas_mkt_dict[ticker] = parameters['mkt_beta']\n",
    "    betas_smb_dict[ticker] = parameters['smb_beta']\n",
    "    betas_hml_dict[ticker] = parameters['hml_beta']\n",
    "    betas_wml_dict[ticker] = parameters['wml_beta']\n",
    "    betas_amd_dict[ticker] = parameters['amd_beta']\n",
    "\n",
    "    print(f'{ticker} is ready.')\n",
    "\n",
    "# Create the DataFrames\n",
    "betas_mkt = pd.concat(betas_mkt_dict, axis=1)\n",
    "betas_smb = pd.concat(betas_smb_dict, axis=1)\n",
    "betas_hml = pd.concat(betas_hml_dict, axis=1)\n",
    "betas_wml = pd.concat(betas_wml_dict, axis=1)\n",
    "betas_amd = pd.concat(betas_amd_dict, axis=1)"
   ],
   "outputs": []
  },
  {
   "cell_type": "code",
   "execution_count": 89,
   "id": "1931f74f-f107-486d-b6ad-9bfb9b60ba48",
   "metadata": {},
   "source": [
    "# See Market Betas\n",
    "betas_mkt.dropna(inplace = True)\n",
    "\n",
    "betas_mkt"
   ],
   "outputs": []
  },
  {
   "cell_type": "code",
   "execution_count": 91,
   "id": "e6945d35-1356-4e7a-9efd-875732f832c9",
   "metadata": {},
   "source": [
    "# See SMB Betas\n",
    "betas_smb.dropna(inplace = True)\n",
    "\n",
    "betas_smb"
   ],
   "outputs": []
  },
  {
   "cell_type": "code",
   "execution_count": 93,
   "id": "b6cb0cbe-cc79-48e2-ab66-3b34d5a82e83",
   "metadata": {},
   "source": [
    "# See HML Betas\n",
    "betas_hml.dropna(inplace = True)\n",
    "\n",
    "betas_hml"
   ],
   "outputs": []
  },
  {
   "cell_type": "code",
   "execution_count": 95,
   "id": "75587588-8f4a-4a3c-8ced-dd591241704c",
   "metadata": {},
   "source": [
    "# See WML Betas\n",
    "\n",
    "betas_wml.dropna(inplace = True)\n",
    "\n",
    "betas_wml"
   ],
   "outputs": []
  },
  {
   "cell_type": "code",
   "execution_count": 97,
   "id": "5fc99a48-98d2-466c-bf9e-34d88293053d",
   "metadata": {},
   "source": [
    "# See AMD Betas\n",
    "betas_amd.dropna(inplace = True)\n",
    "\n",
    "betas_amd"
   ],
   "outputs": []
  },
  {
   "cell_type": "code",
   "execution_count": 99,
   "id": "0521697f-d8c8-40d3-b404-1be6c3b99c67",
   "metadata": {},
   "source": [
    "# Save\n",
    "\n",
    "betas_mkt.to_csv(r'..\\additional_data\\carhart_mkt_betas.csv')\n",
    "betas_smb.to_csv(r'..\\additional_data\\carhart_smb_betas.csv')\n",
    "betas_hml.to_csv(r'..\\additional_data\\carhart_hml_betas.csv')\n",
    "betas_wml.to_csv(r'..\\additional_data\\carhart_wml_betas.csv')\n",
    "betas_amd.to_csv(r'..\\additional_data\\carhart_amd_betas.csv')"
   ],
   "outputs": []
  },
  {
   "cell_type": "code",
   "execution_count": null,
   "id": "f126711b-ee41-45e3-823d-c593b5cc3280",
   "metadata": {},
   "source": [],
   "outputs": []
  }
 ],
 "metadata": {
  "kernelspec": {
   "display_name": "Python 3 (ipykernel)",
   "language": "python",
   "name": "python3"
  },
  "language_info": {
   "codemirror_mode": {
    "name": "ipython",
    "version": 3
   },
   "file_extension": ".py",
   "mimetype": "text/x-python",
   "name": "python",
   "nbconvert_exporter": "python",
   "pygments_lexer": "ipython3",
   "version": "3.11.7"
  }
 },
 "nbformat": 4,
 "nbformat_minor": 5
}
