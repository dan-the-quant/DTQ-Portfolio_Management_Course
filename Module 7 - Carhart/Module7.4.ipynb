{
 "cells": [
  {
   "cell_type": "markdown",
   "id": "9c68538b-78c3-4122-bdb4-76ee5c29f6c4",
   "metadata": {},
   "source": [
    "# Fama-MacBeth Regression #\n",
    "\n",
    "### Market, Size, Value, Momentum and Beta ###"
   ]
  },
  {
   "cell_type": "code",
   "id": "adaeccdb-13e7-4a58-ab99-0206cc322c7d",
   "metadata": {
    "ExecuteTime": {
     "end_time": "2025-04-22T20:21:11.045031Z",
     "start_time": "2025-04-22T20:21:11.039510Z"
    }
   },
   "source": [
    "# Import Libraries\n",
    "\n",
    "# Data Management\n",
    "import pandas as pd\n",
    "import numpy as np\n",
    "\n",
    "# Plots\n",
    "import matplotlib.pyplot as plt\n",
    "\n",
    "# Statistics\n",
    "import statsmodels.api as sm\n",
    "\n",
    "# Handle Files\n",
    "import sys\n",
    "import os\n",
    "\n",
    "# Import Local Functions\n",
    "sys.path.append(os.path.abspath(\"../source\"))\n",
    "from functions import import_stock_universe\n",
    "from factors_toolkit import fama_macbeth_significance_test"
   ],
   "execution_count": 19,
   "outputs": []
  },
  {
   "cell_type": "code",
   "id": "52b0635c-f03a-4568-9506-ab5a442f1ebe",
   "metadata": {
    "ExecuteTime": {
     "end_time": "2025-04-22T20:17:05.487367Z",
     "start_time": "2025-04-22T20:17:05.464267Z"
    }
   },
   "source": [
    "# Get the important data for the Risk Free Rate\n",
    "rfr = pd.read_csv(r\"..\\additional_data\\rfr.csv\")\n",
    "rfr = rfr.set_index('Date')\n",
    "rfr.index = pd.to_datetime(rfr.index, dayfirst=True)\n",
    "\n",
    "# Get the important data for the S&P500\n",
    "sp500 = pd.read_csv(r\"..\\additional_data\\sp500.csv\")\n",
    "sp500 = sp500.set_index('Date')\n",
    "sp500.index = pd.to_datetime(sp500.index)"
   ],
   "execution_count": 6,
   "outputs": []
  },
  {
   "cell_type": "code",
   "id": "41eb431c-6bab-496d-9ae9-a205bd4f06b5",
   "metadata": {
    "ExecuteTime": {
     "end_time": "2025-04-22T20:17:07.989465Z",
     "start_time": "2025-04-22T20:17:07.372375Z"
    }
   },
   "source": [
    "# Get the important data for the Betas\n",
    "\n",
    "# Market Betas\n",
    "carhart_mkt_betas = pd.read_csv(r\"..\\additional_data\\carhart_market_betas.csv\")\n",
    "carhart_mkt_betas.set_index('Date', inplace = True)\n",
    "carhart_mkt_betas.index = pd.to_datetime(carhart_mkt_betas.index)\n",
    "\n",
    "# SMB Betas\n",
    "carhart_smb_betas = pd.read_csv(r\"..\\additional_data\\carhart_size_betas.csv\")\n",
    "carhart_smb_betas.set_index('Date', inplace = True)\n",
    "carhart_smb_betas.index = pd.to_datetime(carhart_smb_betas.index)\n",
    "\n",
    "# HML Betas\n",
    "carhart_hml_betas = pd.read_csv(r\"..\\additional_data\\carhart_value_betas.csv\")\n",
    "carhart_hml_betas.set_index('Date', inplace = True)\n",
    "carhart_hml_betas.index = pd.to_datetime(carhart_hml_betas.index)\n",
    "\n",
    "# WML Betas\n",
    "carhart_wml_betas = pd.read_csv(r\"..\\additional_data\\carhart_mom_betas.csv\")\n",
    "carhart_wml_betas.set_index('Date', inplace = True)\n",
    "carhart_wml_betas.index = pd.to_datetime(carhart_wml_betas.index)\n",
    "\n",
    "# AMD Betas\n",
    "carhart_bab_betas = pd.read_csv(r\"..\\additional_data\\carhart_beta_betas.csv\")\n",
    "carhart_bab_betas.set_index('Date', inplace = True)\n",
    "carhart_bab_betas.index = pd.to_datetime(carhart_bab_betas.index)"
   ],
   "execution_count": 7,
   "outputs": []
  },
  {
   "cell_type": "code",
   "id": "e6e7afc4-f460-4730-81da-bdc74c5ffcd4",
   "metadata": {
    "ExecuteTime": {
     "end_time": "2025-04-22T20:17:20.794114Z",
     "start_time": "2025-04-22T20:17:09.680942Z"
    }
   },
   "source": [
    "# Dictionary to store the DataFrames\n",
    "folder_path = r\"..\\stocks\"\n",
    "\n",
    "dataframes = import_stock_universe(\n",
    "    folder_path,\n",
    "    ['Adjusted_close', 'Company Market Cap'],\n",
    "    ['adj_close', 'mkt_cap'],\n",
    ")"
   ],
   "execution_count": 8,
   "outputs": []
  },
  {
   "cell_type": "code",
   "id": "58788207-f9c5-4d73-abc3-9e73e1d3b216",
   "metadata": {
    "ExecuteTime": {
     "end_time": "2025-04-22T20:17:23.774363Z",
     "start_time": "2025-04-22T20:17:23.682407Z"
    }
   },
   "source": [
    "# Create a whole new dataframe that contains all the stocks betas\n",
    "mktcap_series = []\n",
    "\n",
    "for stock, df in dataframes.items():\n",
    "    series = df['mkt_cap'].rename(stock)  \n",
    "    mktcap_series.append(series)\n",
    "\n",
    "# Concat\n",
    "mktcap_df = pd.concat(mktcap_series, axis=1)\n",
    "\n",
    "# Apply Logs and EMA (maybe)\n",
    "mktcap_df = np.log(mktcap_df)\n",
    "mktcap_df = mktcap_df.ewm(span=5, adjust = False).mean()\n",
    "mktcap_df = mktcap_df.bfill()\n",
    "mktcap_df"
   ],
   "execution_count": 9,
   "outputs": []
  },
  {
   "cell_type": "code",
   "id": "9fbf597e-5295-4ec2-90ab-2d4bdde445c7",
   "metadata": {
    "ExecuteTime": {
     "end_time": "2025-04-22T20:17:26.369714Z",
     "start_time": "2025-04-22T20:17:26.125804Z"
    }
   },
   "source": [
    "# Create a whole new dataframe that contains all the stocks betas\n",
    "rets_series = []\n",
    "\n",
    "for stock, df in dataframes.items():\n",
    "    series = df['adj_close'].pct_change(1).rename(stock)  \n",
    "    series = series.iloc[1:]\n",
    "    rets_series.append(series)\n",
    "\n",
    "# Concat\n",
    "returns_df = pd.concat(rets_series, axis=1)\n",
    "returns_df = returns_df.apply(lambda x: x.fillna(x.mean()), axis=0)\n",
    "\n",
    "# Drop nans\n",
    "returns_df.dropna(inplace = True)\n",
    "\n",
    "returns_df"
   ],
   "execution_count": 10,
   "outputs": []
  },
  {
   "cell_type": "code",
   "id": "52fc4540-315b-4df4-8bd6-6dcd493ebfeb",
   "metadata": {
    "ExecuteTime": {
     "end_time": "2025-04-22T20:20:29.499731Z",
     "start_time": "2025-04-22T20:20:29.471308Z"
    }
   },
   "source": [
    "# Intersect Dates\n",
    "common_dates = returns_df.index.intersection(carhart_mkt_betas.index)\n",
    "\n",
    "# Filter for common dates\n",
    "mkt_cap_df = mktcap_df.loc[common_dates]\n",
    "returns_df = returns_df.loc[common_dates]\n",
    "carhart_mkt_betas = carhart_mkt_betas.loc[common_dates]\n",
    "carhart_smb_betas = carhart_smb_betas.loc[common_dates]\n",
    "carhart_hml_betas = carhart_hml_betas.loc[common_dates]\n",
    "carhart_wml_betas = carhart_wml_betas.loc[common_dates]\n",
    "carhart_bab_betas = carhart_bab_betas.loc[common_dates]\n",
    "\n",
    "# Filter common stocks\n",
    "mkt_cap_df = mkt_cap_df[carhart_mkt_betas.columns]\n",
    "returns_df = returns_df[carhart_mkt_betas.columns]"
   ],
   "execution_count": 16,
   "outputs": []
  },
  {
   "metadata": {
    "ExecuteTime": {
     "end_time": "2025-04-22T20:20:30.454368Z",
     "start_time": "2025-04-22T20:20:30.449508Z"
    }
   },
   "cell_type": "code",
   "source": [
    "print(mkt_cap_df.shape)\n",
    "print(returns_df.shape)\n",
    "print(carhart_mkt_betas.shape)\n",
    "print(carhart_smb_betas.shape)\n",
    "print(carhart_hml_betas.shape)\n",
    "print(carhart_wml_betas.shape)\n",
    "print(carhart_bab_betas.shape)"
   ],
   "id": "58d4b03fb6e09541",
   "execution_count": 17,
   "outputs": []
  },
  {
   "cell_type": "code",
   "id": "fed9d2a2-9272-4336-ac20-b50dd493114f",
   "metadata": {
    "ExecuteTime": {
     "end_time": "2025-04-22T20:20:53.996365Z",
     "start_time": "2025-04-22T20:20:32.289263Z"
    }
   },
   "source": [
    "# Initialize lists to store results\n",
    "betas_list = []\n",
    "\n",
    "# Loop over each available date in the returns DataFrame\n",
    "for date in common_dates:\n",
    "    # Cross-section of market caps, returns, and betas for that specific date\n",
    "    weights = np.sqrt(mkt_cap_df.loc[date])\n",
    "    weights = weights / weights.sum()\n",
    "\n",
    "    # Returns\n",
    "    rets = pd.DataFrame([returns_df.loc[date]], index=['returns']).transpose()\n",
    "\n",
    "    # The Model Betas\n",
    "    mkt = pd.DataFrame([carhart_mkt_betas.loc[date]], index=['mkt']).transpose()\n",
    "    smb = pd.DataFrame([carhart_smb_betas.loc[date]], index=['smb']).transpose()\n",
    "    hml = pd.DataFrame([carhart_hml_betas.loc[date]], index=['hml']).transpose()\n",
    "    wml = pd.DataFrame([carhart_wml_betas.loc[date]], index=['wml']).transpose()\n",
    "    amd = pd.DataFrame([carhart_bab_betas.loc[date]], index=['bab']).transpose()\n",
    "    \n",
    "    # Merge returns with characteristics\n",
    "    reg_df_data = pd.concat([rets, mkt, smb, hml, wml, amd], axis=1).dropna()\n",
    "\n",
    "    # Define independent (X) and dependent (y) variables\n",
    "    X = sm.add_constant(reg_df_data[['mkt', 'smb', 'hml', 'wml', 'bab']])  \n",
    "    y = reg_df_data['returns']  \n",
    "\n",
    "    # Run the weighted least squares (WLS) regression\n",
    "    model = sm.WLS(y, X, missing='drop', weights=weights)\n",
    "    results = model.fit()\n",
    "\n",
    "    # Extract coefficients and p-values\n",
    "    params = results.params\n",
    "    \n",
    "    # Store results\n",
    "    betas_list.append(pd.Series(params, name=date))\n",
    "\n",
    "# Convert lists to DataFrames\n",
    "history_betas_df = pd.DataFrame(betas_list)\n",
    "\n",
    "# Set the index as the dates\n",
    "history_betas_df.index = common_dates"
   ],
   "execution_count": 18,
   "outputs": []
  },
  {
   "cell_type": "code",
   "id": "4664befa-fe00-431b-bf8a-7a403c77bcc9",
   "metadata": {
    "ExecuteTime": {
     "end_time": "2025-04-22T20:21:20.269338Z",
     "start_time": "2025-04-22T20:21:20.259921Z"
    }
   },
   "source": [
    "# Check the DataFrames\n",
    "\n",
    "history_betas_df"
   ],
   "execution_count": 20,
   "outputs": []
  },
  {
   "cell_type": "code",
   "id": "e6e8b930-fb41-4dea-b9d1-c2333787b899",
   "metadata": {
    "ExecuteTime": {
     "end_time": "2025-04-22T20:21:21.280144Z",
     "start_time": "2025-04-22T20:21:21.088384Z"
    }
   },
   "source": [
    "# Create the Plot\n",
    "plt.figure(figsize=(10, 6))\n",
    "plt.plot(history_betas_df['mkt'].cumsum(), label='Market Beta Returns', alpha=0.7)\n",
    "plt.plot(history_betas_df['smb'].cumsum(), label='SMB Beta Returns', alpha=0.7)\n",
    "plt.plot(history_betas_df['hml'].cumsum(), label='HML Beta Returns', alpha=0.7)\n",
    "plt.plot(history_betas_df['wml'].cumsum(), label='WML Beta Returns', alpha=0.7)\n",
    "plt.plot(history_betas_df['bab'].cumsum(), label='BAB Beta Returns', alpha=0.7)\n",
    "plt.axhline(y=0, color='black', linestyle='dashed')\n",
    "\n",
    "# Config\n",
    "plt.title('Factor Returns Time Series')\n",
    "plt.xlabel('Time')\n",
    "plt.ylabel('Returns')\n",
    "plt.legend()\n",
    "\n",
    "# Show\n",
    "plt.show()"
   ],
   "execution_count": 21,
   "outputs": []
  },
  {
   "cell_type": "code",
   "id": "d05083f4-fcf2-4f2e-a2b8-d9c732081aaf",
   "metadata": {
    "ExecuteTime": {
     "end_time": "2025-04-22T20:21:41.672293Z",
     "start_time": "2025-04-22T20:21:41.658165Z"
    }
   },
   "source": [
    "# Now the Results\n",
    "\n",
    "results = fama_macbeth_significance_test(history_betas_df[['mkt', 'smb', 'hml', 'wml', 'bab']])\n",
    "\n",
    "results"
   ],
   "execution_count": 22,
   "outputs": []
  },
  {
   "cell_type": "code",
   "execution_count": null,
   "id": "7741d4e6-0fe4-4184-8aba-2f26771b00fe",
   "metadata": {},
   "source": [],
   "outputs": []
  }
 ],
 "metadata": {
  "kernelspec": {
   "display_name": "Python 3 (ipykernel)",
   "language": "python",
   "name": "python3"
  },
  "language_info": {
   "codemirror_mode": {
    "name": "ipython",
    "version": 3
   },
   "file_extension": ".py",
   "mimetype": "text/x-python",
   "name": "python",
   "nbconvert_exporter": "python",
   "pygments_lexer": "ipython3",
   "version": "3.11.7"
  }
 },
 "nbformat": 4,
 "nbformat_minor": 5
}
