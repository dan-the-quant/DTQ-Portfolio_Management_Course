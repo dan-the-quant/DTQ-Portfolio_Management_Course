{
 "cells": [
  {
   "cell_type": "markdown",
   "id": "07e51906-b4a4-4b2b-a36a-ee5c41986064",
   "metadata": {},
   "source": [
    "# Calculating a Zero Beta Portfolio #\n",
    "\n",
    "### First Approach: Five Stocks ###"
   ]
  },
  {
   "cell_type": "code",
   "execution_count": 2,
   "id": "0bb32f4a-1028-45dc-a6e7-1a007a0c0f2c",
   "metadata": {},
   "source": [
    "# Import Libraries\n",
    "\n",
    "# Data Management\n",
    "import pandas as pd\n",
    "import numpy as np\n",
    "\n",
    "# Plots\n",
    "import matplotlib.pyplot as plt\n",
    "\n",
    "# Statistics\n",
    "import statsmodels.api as sm\n",
    "\n",
    "# Pretty Notation\n",
    "from IPython.display import display, Math"
   ],
   "outputs": []
  },
  {
   "cell_type": "code",
   "execution_count": 3,
   "id": "5a500275-fe52-4328-aa02-772f9206043a",
   "metadata": {},
   "source": [
    "def import_financial_data(\n",
    "    ticker: str\n",
    "):\n",
    "\n",
    "    # Check the ticker for Upper Cases\n",
    "    ticker = ticker if ticker.isupper() else ticker.upper()\n",
    "\n",
    "    # Import data\n",
    "    df = pd.read_csv(rf\"..\\stocks\\{ticker}.csv\")\n",
    "\n",
    "    # Set the Index\n",
    "    df = df.set_index('Date')\n",
    "    df.index = pd.to_datetime(df.index)\n",
    "\n",
    "    df_useful_data = df[['Open Price', 'High Price', 'Low Price', 'Close Price', 'Adjusted_close']]\n",
    "\n",
    "    df_useful_data = df_useful_data.rename(columns={\n",
    "        \"Open Price\":\"open\",\n",
    "        \"High Price\":\"high\",\n",
    "        \"Low Price\":\"low\",\n",
    "        \"Close Price\":\"close\",\n",
    "        \"Adjusted_close\":\"adjusted_close\",\n",
    "    })\n",
    "\n",
    "    # Drop NaN's\n",
    "    df_useful_data.dropna(inplace = True)\n",
    "\n",
    "    return df_useful_data.loc[\"2015-01-01\":]"
   ],
   "outputs": []
  },
  {
   "cell_type": "code",
   "execution_count": 4,
   "id": "a5b44b48-e1fd-45cb-8ace-91b9ac8d69c1",
   "metadata": {},
   "source": [
    "# Get the important data for the Risk Free Rate\n",
    "\n",
    "rfr = pd.read_csv(rf\"..\\additional_data\\rfr.csv\")\n",
    "rfr = rfr.set_index('Date')\n",
    "rfr.index = pd.to_datetime(rfr.index, dayfirst=True)\n",
    "rfr.dropna(inplace = True)\n",
    "\n",
    "rfr"
   ],
   "outputs": []
  },
  {
   "cell_type": "code",
   "execution_count": 5,
   "id": "4db29888-e8ce-4c10-ba7a-136dc1a3f16e",
   "metadata": {},
   "source": [
    "# Get the important data for the S&P500\n",
    "\n",
    "sp500 = pd.read_csv(rf\"..\\additional_data\\sp500.csv\")\n",
    "sp500 = sp500.set_index('Date')\n",
    "sp500.index = pd.to_datetime(sp500.index)\n",
    "\n",
    "sp500"
   ],
   "outputs": []
  },
  {
   "cell_type": "code",
   "execution_count": 6,
   "id": "bf325e20-b026-4fe8-9a99-dd9914e730e2",
   "metadata": {},
   "source": [
    "# Get the important data for the S&P500\n",
    "\n",
    "betas_df = pd.read_csv(rf\"..\\additional_data\\betas.csv\")\n",
    "betas_df = betas_df.set_index('Date')\n",
    "betas_df.index = pd.to_datetime(betas_df.index)\n",
    "\n",
    "betas_df"
   ],
   "outputs": []
  },
  {
   "cell_type": "code",
   "execution_count": 7,
   "id": "955bf08c-0177-47db-83a1-980da2d751cd",
   "metadata": {},
   "source": [
    "# Import Data\n",
    "\n",
    "# Apple Data\n",
    "df_1 = import_financial_data('AAPL')\n",
    "\n",
    "# Amazon Data\n",
    "df_2 = import_financial_data('AMZN')\n",
    "\n",
    "# Meta Data\n",
    "df_3 = import_financial_data('META')\n",
    "\n",
    "# Microsoft Data\n",
    "df_4 = import_financial_data('MSFT')\n",
    "\n",
    "# Nvidia Data\n",
    "df_5 = import_financial_data('NVDA')\n"
   ],
   "outputs": []
  },
  {
   "cell_type": "code",
   "execution_count": 8,
   "id": "2f5a3daa-626a-4817-b852-0a39cc94e74d",
   "metadata": {},
   "source": [
    "# Let us calculate the Betas for some stocks\n",
    "\n",
    "# Apple\n",
    "apple_beta = betas_df['AAPL']\n",
    "\n",
    "# Amazon\n",
    "amazon_beta = betas_df['AMZN']\n",
    "\n",
    "# META\n",
    "meta_beta = betas_df['META']\n",
    "\n",
    "# Microsoft\n",
    "microsoft_beta = betas_df['MSFT']\n",
    "\n",
    "# NVDIA\n",
    "nvdia_beta = betas_df['NVDA']"
   ],
   "outputs": []
  },
  {
   "cell_type": "code",
   "execution_count": 9,
   "id": "e53c7e71-104a-47a9-b591-40f2cbba3d7c",
   "metadata": {},
   "source": [
    "# Create Plot\n",
    "\n",
    "plt.figure(figsize=(10, 6))\n",
    "plt.plot(apple_beta, label='Apple Beta', color='blue', alpha=0.7)\n",
    "plt.plot(amazon_beta, label='Amazon Beta', color='red', alpha=0.7)\n",
    "plt.plot(meta_beta, label='META Beta', color='green', alpha=0.7)\n",
    "plt.plot(microsoft_beta, label='Microsoft Beta', color='orange', alpha=0.7)\n",
    "plt.plot(nvdia_beta, label='NVDIA Beta', color='purple', alpha=0.7)\n",
    "plt.axhline(y=1, color='black', linestyle='dashed')\n",
    "\n",
    "# Config\n",
    "plt.title('Beta Time Series')\n",
    "plt.xlabel('Time')\n",
    "plt.ylabel('Beta')\n",
    "plt.legend()\n",
    "\n",
    "# Show\n",
    "plt.show()"
   ],
   "outputs": []
  },
  {
   "cell_type": "code",
   "execution_count": 10,
   "id": "657631b3-eb5c-441c-9c3e-e6436dc6d9fb",
   "metadata": {},
   "source": [
    "# Let us find an unsensible portfolio to the market\n",
    "\n",
    "data_portfolio = pd.DataFrame()\n",
    "\n",
    "data_portfolio['AAPL'] = df_1['adjusted_close']\n",
    "data_portfolio['AMZN'] = df_2['adjusted_close']\n",
    "data_portfolio['META'] = df_3['adjusted_close']\n",
    "data_portfolio['MSFT'] = df_4['adjusted_close']\n",
    "data_portfolio['NVDA'] = df_5['adjusted_close']\n",
    "\n",
    "data_portfolio = data_portfolio.dropna()\n",
    "\n",
    "data_portfolio = data_portfolio.loc['2016-01-01':]\n",
    "\n",
    "data_portfolio"
   ],
   "outputs": []
  },
  {
   "cell_type": "code",
   "execution_count": 11,
   "id": "cf6d357d-b619-4063-adf9-3b80ce853a39",
   "metadata": {},
   "source": [
    "# Returns\n",
    "\n",
    "df_returns = data_portfolio.pct_change(1).dropna().mul(100)\n",
    "\n",
    "df_returns"
   ],
   "outputs": []
  },
  {
   "cell_type": "code",
   "execution_count": 12,
   "id": "7d8353bd-a551-4171-8f7f-74d8a8d92f86",
   "metadata": {},
   "source": [
    "# Common Index\n",
    "\n",
    "common_index = df_returns.index.intersection(betas_df.index)  # Common DATE\n",
    "df_returns = df_returns.reindex(common_index)\n",
    "betas_df = betas_df.reindex(common_index)"
   ],
   "outputs": []
  },
  {
   "cell_type": "code",
   "execution_count": 13,
   "id": "995291b5-b8eb-4d94-a4d7-ad07ed949ec8",
   "metadata": {},
   "source": [
    "# We have to find the mean expected returns\n",
    "\n",
    "expected_returns = df_returns.mean()\n",
    "\n",
    "expected_returns"
   ],
   "outputs": []
  },
  {
   "cell_type": "code",
   "execution_count": 14,
   "id": "d76c2ebb-7ee2-45ea-896d-a03d8e21d410",
   "metadata": {},
   "source": [
    "# We have to also find the standard deviations\n",
    "\n",
    "volat = df_returns.dropna().std()\n",
    "\n",
    "volat"
   ],
   "outputs": []
  },
  {
   "cell_type": "code",
   "execution_count": 15,
   "id": "72ed69ee-03ca-40cc-83eb-a0a01a2fef98",
   "metadata": {},
   "source": [
    "# Also we have to find the covariance matrix\n",
    "\n",
    "cov_matrix = df_returns.dropna().cov()\n",
    "\n",
    "cov_matrix"
   ],
   "outputs": []
  },
  {
   "cell_type": "code",
   "execution_count": 16,
   "id": "7434cc00-0cb7-4a8d-80cd-376bb793a061",
   "metadata": {},
   "source": [
    "# We need also to find the mean betas of the stocks\n",
    "\n",
    "sample_beta_df = pd.DataFrame()\n",
    "\n",
    "sample_beta_df['AAPL'] = apple_beta\n",
    "sample_beta_df['AMZN'] = amazon_beta\n",
    "sample_beta_df['META'] = meta_beta\n",
    "sample_beta_df['MSFT'] = microsoft_beta\n",
    "sample_beta_df['NVDA'] = nvdia_beta\n",
    "\n",
    "mean_betas = sample_beta_df.mean()\n",
    "\n",
    "mean_betas"
   ],
   "outputs": []
  },
  {
   "cell_type": "code",
   "execution_count": 17,
   "id": "1d654467-7e7a-42f6-a041-a4f77afafef4",
   "metadata": {},
   "source": [
    "# Which is the form of the portfolio weights if we want a zero-beta portfolio\n",
    "\n",
    "display(Math(r\"\\omega=\\left(\\frac{D}{DC-E^2}\\right)\\Sigma^{-1}\\iota+\\left(\\frac{E}{DC-E^2}\\right)\\Sigma^{-1}\\beta\"))\n",
    "display(Math(r\"C = \\iota^⊤\\Sigma^{-1}\\iota\"))\n",
    "display(Math(r\"D = \\beta^⊤\\Sigma^{-1}\\beta\"))\n",
    "display(Math(r\"E = \\beta^⊤\\Sigma^{-1}\\iota\"))\n",
    "display(Math(r\"\\Delta = DC-E^2\"))"
   ],
   "outputs": []
  },
  {
   "cell_type": "code",
   "execution_count": 18,
   "id": "6d0db8ba-d4f4-4a48-91c8-4898803dfa3f",
   "metadata": {},
   "source": [
    "# So let us obtain the components\n",
    "\n",
    "beta = mean_betas.values.flatten().reshape(-1, 1)\n",
    "Sigma = cov_matrix.values\n",
    "\n",
    "lambda_ = 1e-6  # Tikhonov Regularization\n",
    "Sigma_inv = np.linalg.inv(Sigma + lambda_ * np.eye(Sigma.shape[0]))\n",
    "\n",
    "iota = np.ones((5, 1))"
   ],
   "outputs": []
  },
  {
   "cell_type": "code",
   "execution_count": 19,
   "id": "56b40b16-7939-4a56-8316-fa922a23019b",
   "metadata": {},
   "source": [
    "# And now obtain the coefficients of the Efficient Frontier\n",
    "\n",
    "C = np.dot(np.dot(iota.T, Sigma_inv), iota)\n",
    "D = np.dot(np.dot(beta.T, Sigma_inv), beta)\n",
    "E = np.dot(np.dot(beta.T, Sigma_inv), iota)\n",
    "Delta = (D*C - E*E)\n",
    "\n",
    "print(f\"This is C: {C}\")\n",
    "print(f\"This is D: {D}\")\n",
    "print(f\"This is E: {E}\")\n",
    "print(f\"This is Delta: {Delta}\")"
   ],
   "outputs": []
  },
  {
   "cell_type": "code",
   "execution_count": 20,
   "id": "c536eb9d-2a78-4843-8b38-c57154de830a",
   "metadata": {},
   "source": [
    "# Now the weights\n",
    "\n",
    "beta_weights = ((D/Delta)*(Sigma_inv @ iota)) - ((E/Delta)*(Sigma_inv @ beta))\n",
    "\n",
    "beta_weights"
   ],
   "outputs": []
  },
  {
   "cell_type": "code",
   "execution_count": 21,
   "id": "6801b2e9-ddde-456c-b832-e0467147a8d0",
   "metadata": {},
   "source": [
    "# Create the portfolio\n",
    "\n",
    "df_returns[\"zero_beta\"] = df_returns.iloc[:, :5] @ beta_weights\n",
    "\n",
    "df_returns"
   ],
   "outputs": []
  },
  {
   "cell_type": "code",
   "execution_count": 22,
   "id": "44a4e232-532e-4839-be5a-530c1abe82a6",
   "metadata": {},
   "source": [
    "df_returns[\"risk_free_rate\"] = (((1 + (rfr.div(100)))**(1/360)) - 1).mul(100)\n",
    "df_returns['market_returns'] = sp500.pct_change(1).mul(100)\n",
    "\n",
    "df_returns"
   ],
   "outputs": []
  },
  {
   "cell_type": "code",
   "execution_count": 23,
   "id": "99dae5a8-71c8-4807-a9d2-562750ccd354",
   "metadata": {},
   "source": [
    "# Create the excess returns\n",
    "\n",
    "df_returns['portfolio_excess'] = df_returns['zero_beta'] - df_returns['risk_free_rate']\n",
    "df_returns['market_excess'] = df_returns['market_returns'] - df_returns['risk_free_rate']\n",
    "\n",
    "df_returns"
   ],
   "outputs": []
  },
  {
   "cell_type": "code",
   "execution_count": 24,
   "id": "031d815b-5246-44cf-9af4-8e8ff3e22802",
   "metadata": {},
   "source": [
    "# Calculate the beta with the weights\n",
    "\n",
    "zero_beta_alt = mean_betas.transpose().dot(beta_weights)\n",
    "\n",
    "print(zero_beta_alt.round(4))"
   ],
   "outputs": []
  },
  {
   "cell_type": "code",
   "execution_count": 25,
   "id": "fa00af94-f499-4588-bdaa-20a318fcf143",
   "metadata": {},
   "source": [
    "def calculate_analytics(df_returns, risk_free_rate=0.0):\n",
    "    # Trading Days in one Year\n",
    "    ann_factor = 252  \n",
    "    \n",
    "    # Annualized Returns\n",
    "    annualized_return = df_returns.mean() * ann_factor\n",
    "    \n",
    "    # Annualized Volatility\n",
    "    annualized_std = df_returns.std() * np.sqrt(ann_factor)\n",
    "    \n",
    "    # Sharpe Ratio\n",
    "    sharpe_ratio = (annualized_return - risk_free_rate) / annualized_std\n",
    "    \n",
    "    # Max Drawdown\n",
    "    cumulative_returns = (1 + df_returns.div(100)).cumprod()\n",
    "    rolling_max = cumulative_returns.cummax()\n",
    "    drawdown = (cumulative_returns / rolling_max) - 1\n",
    "    max_drawdown = drawdown.min()\n",
    "\n",
    "    # VaR at 95%\n",
    "    var_95 = df_returns.quantile(0.05)\n",
    "\n",
    "    # Create DF\n",
    "    summary_df = pd.DataFrame({\n",
    "        \"Annualized Returns\": annualized_return,\n",
    "        \"Annualized Volatility\": annualized_std,\n",
    "        \"Sharpe Ratio\": sharpe_ratio,\n",
    "        \"Max Drawdown\": max_drawdown,\n",
    "        \"VaR 95%\": var_95\n",
    "    })\n",
    "    \n",
    "    return summary_df"
   ],
   "outputs": []
  },
  {
   "cell_type": "code",
   "execution_count": 26,
   "id": "8f0e0b3c-ac5b-4fef-b2c4-89e3354c6403",
   "metadata": {},
   "source": [
    "# Create a DataFrame\n",
    "\n",
    "tickers = [\"AAPL\", \"AMZN\", \"META\", \"MSFT\", \"NVDA\", \"zero_beta\"]\n",
    "\n",
    "df_portfolios = df_returns[tickers]\n",
    "\n",
    "df_portfolios"
   ],
   "outputs": []
  },
  {
   "cell_type": "code",
   "execution_count": 27,
   "id": "e68b2402-407e-4224-953f-76e731a5f049",
   "metadata": {},
   "source": [
    "# And the Table\n",
    "\n",
    "analytics_table = calculate_analytics(df_portfolios)\n",
    "\n",
    "analytics_table"
   ],
   "outputs": []
  },
  {
   "cell_type": "code",
   "execution_count": 28,
   "id": "8a87c744-642a-41bb-aa4e-6590b0b35a22",
   "metadata": {},
   "source": [
    "# Time Series Graphs\n",
    "plt.figure(figsize=(10, 6))\n",
    "plt.plot(df_returns['AAPL'].cumsum(), label='APPL Price', color='blue', alpha=0.7)\n",
    "plt.plot(df_returns['AMZN'].cumsum(), label='AMZN Price', color='green', alpha=0.7)\n",
    "plt.plot(df_returns['META'].cumsum(), label='META Price', color='red', alpha=0.7)\n",
    "plt.plot(df_returns['MSFT'].cumsum(), label='MSFT Price', color='orange', alpha=0.7)\n",
    "plt.plot(df_returns['NVDA'].cumsum(), label='NVDA Portfolio', color='purple', alpha=0.7)\n",
    "plt.plot(df_returns['zero_beta'].cumsum(), label='Zero Beta Portfolio', color='black', alpha=1)\n",
    "\n",
    "# Config\n",
    "plt.title('Cumulative Returns Time Series')\n",
    "plt.xlabel('Time Index')\n",
    "plt.ylabel('Cumulative Returns')\n",
    "plt.legend()\n",
    "\n",
    "# Show\n",
    "plt.grid(True)\n",
    "plt.show()"
   ],
   "outputs": []
  },
  {
   "cell_type": "code",
   "execution_count": 29,
   "id": "f7ef70e4-9e63-4f6b-aff2-c5232e49e29b",
   "metadata": {},
   "source": [
    "# Create Figure\n",
    "fig, ax1 = plt.subplots(dpi = 300)\n",
    "\n",
    "# SP500 Returns\n",
    "sp500['sp_500'].pct_change(1).mul(100).cumsum().plot(color = 'blue', ax = ax1)\n",
    "ax1.set_xlabel('Date')\n",
    "ax1.set_ylabel(\n",
    "    'SP500 Returns', \n",
    "    color='blue'\n",
    "    )\n",
    "\n",
    "# Zero Beta Portfolio Returns\n",
    "ax2 = ax1.twinx()\n",
    "\n",
    "df_returns['zero_beta'].cumsum().plot(color = 'red', ax = ax2)\n",
    "ax2.set_ylabel(\n",
    "    'Zero Beta Portfolio Returns', \n",
    "    color='red'\n",
    "    )\n",
    "\n",
    "plt.show()"
   ],
   "outputs": []
  },
  {
   "cell_type": "code",
   "execution_count": 30,
   "id": "663b218a-51dc-440b-9853-333f26a0a2c2",
   "metadata": {},
   "source": [
    "# Create the Weights function\n",
    "def wexp(N, half_life):\n",
    "    c = np.log(0.5)/half_life\n",
    "    n = np.array(range(N))\n",
    "    w = np.exp(c*n)\n",
    "    return np.flip(w/np.sum(w))"
   ],
   "outputs": []
  },
  {
   "cell_type": "code",
   "execution_count": 31,
   "id": "45fc2b63-2414-4270-b3b6-b298705cc5ec",
   "metadata": {},
   "source": [
    "# Calculate the beta\n",
    "\n",
    "window = len(df_returns)\n",
    "weights = window * wexp(window, window/2)\n",
    "\n",
    "#Model specification\n",
    "model = sm.WLS(\n",
    "    df_returns['portfolio_excess'], \n",
    "    sm.add_constant(df_returns['market_excess']),\n",
    "    weights = weights,\n",
    "    missing='drop'\n",
    "    )   \n",
    "     \n",
    "#the results of the model\n",
    "results = model.fit() \n",
    "    \n",
    "#here we check the summary\n",
    "print(results.summary())       "
   ],
   "outputs": []
  },
  {
   "cell_type": "code",
   "execution_count": null,
   "id": "06c9bfaf-082c-4785-942c-bd5a2fa02faf",
   "metadata": {},
   "source": [],
   "outputs": []
  }
 ],
 "metadata": {
  "kernelspec": {
   "display_name": "Python 3 (ipykernel)",
   "language": "python",
   "name": "python3"
  },
  "language_info": {
   "codemirror_mode": {
    "name": "ipython",
    "version": 3
   },
   "file_extension": ".py",
   "mimetype": "text/x-python",
   "name": "python",
   "nbconvert_exporter": "python",
   "pygments_lexer": "ipython3",
   "version": "3.11.7"
  }
 },
 "nbformat": 4,
 "nbformat_minor": 5
}
