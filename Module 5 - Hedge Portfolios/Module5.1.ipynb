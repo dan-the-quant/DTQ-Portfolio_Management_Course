{
 "cells": [
  {
   "cell_type": "markdown",
   "id": "07e51906-b4a4-4b2b-a36a-ee5c41986064",
   "metadata": {},
   "source": [
    "# Calculating a Zero Beta Portfolio #\n",
    "\n",
    "### First Approach: Five Stocks ###"
   ]
  },
  {
   "cell_type": "code",
   "id": "0bb32f4a-1028-45dc-a6e7-1a007a0c0f2c",
   "metadata": {
    "ExecuteTime": {
     "end_time": "2025-04-18T06:23:35.166811Z",
     "start_time": "2025-04-18T06:23:35.163189Z"
    }
   },
   "source": [
    "# Import Libraries\n",
    "\n",
    "# Data Management\n",
    "import pandas as pd\n",
    "import numpy as np\n",
    "\n",
    "# Plots\n",
    "import matplotlib.pyplot as plt\n",
    "\n",
    "# Handle Files\n",
    "import sys\n",
    "import os\n",
    "\n",
    "# Import Local Functions\n",
    "sys.path.append(os.path.abspath(\"../source\"))\n",
    "from functions import import_financial_data\n",
    "from capm_toolkit import compute_daily_returns\n",
    "from capm_toolkit import compute_excess_returns\n",
    "from capm_toolkit import capm_regression\n",
    "\n",
    "# Pretty Notation\n",
    "from IPython.display import display, Math"
   ],
   "execution_count": 61,
   "outputs": []
  },
  {
   "cell_type": "code",
   "id": "a5b44b48-e1fd-45cb-8ace-91b9ac8d69c1",
   "metadata": {
    "ExecuteTime": {
     "end_time": "2025-04-18T06:20:36.381211Z",
     "start_time": "2025-04-18T06:20:36.367159Z"
    }
   },
   "source": [
    "# Get the important data for the Risk Free Rate\n",
    "\n",
    "rfr = pd.read_csv(rf\"..\\additional_data\\rfr.csv\")\n",
    "rfr = rfr.set_index('Date')\n",
    "rfr.index = pd.to_datetime(rfr.index, dayfirst=True)\n",
    "rfr.dropna(inplace = True)\n",
    "\n",
    "rfr"
   ],
   "execution_count": 52,
   "outputs": []
  },
  {
   "cell_type": "code",
   "id": "4db29888-e8ce-4c10-ba7a-136dc1a3f16e",
   "metadata": {
    "ExecuteTime": {
     "end_time": "2025-04-18T06:20:09.575878Z",
     "start_time": "2025-04-18T06:20:09.568703Z"
    }
   },
   "source": [
    "# Get the important data for the S&P500\n",
    "\n",
    "sp500 = pd.read_csv(rf\"..\\additional_data\\sp500.csv\")\n",
    "sp500 = sp500.set_index('Date')\n",
    "sp500.index = pd.to_datetime(sp500.index)"
   ],
   "execution_count": 34,
   "outputs": []
  },
  {
   "cell_type": "code",
   "id": "bf325e20-b026-4fe8-9a99-dd9914e730e2",
   "metadata": {
    "ExecuteTime": {
     "end_time": "2025-04-18T06:20:10.009715Z",
     "start_time": "2025-04-18T06:20:09.877234Z"
    }
   },
   "source": [
    "# Get the important data for the S&P500\n",
    "\n",
    "betas_df = pd.read_csv(rf\"..\\additional_data\\capm_hbetas.csv\")\n",
    "betas_df = betas_df.set_index('date')\n",
    "betas_df.index = pd.to_datetime(betas_df.index)"
   ],
   "execution_count": 35,
   "outputs": []
  },
  {
   "cell_type": "code",
   "id": "955bf08c-0177-47db-83a1-980da2d751cd",
   "metadata": {
    "ExecuteTime": {
     "end_time": "2025-04-18T06:20:10.339219Z",
     "start_time": "2025-04-18T06:20:10.207206Z"
    }
   },
   "source": [
    "# Import Data\n",
    "\n",
    "# Apple Data\n",
    "df_1 = import_financial_data('AAPL')\n",
    "\n",
    "# Amazon Data\n",
    "df_2 = import_financial_data('AMZN')\n",
    "\n",
    "# Meta Data\n",
    "df_3 = import_financial_data('META')\n",
    "\n",
    "# Microsoft Data\n",
    "df_4 = import_financial_data('MSFT')\n",
    "\n",
    "# Nvidia Data\n",
    "df_5 = import_financial_data('NVDA')\n"
   ],
   "execution_count": 36,
   "outputs": []
  },
  {
   "cell_type": "code",
   "id": "2f5a3daa-626a-4817-b852-0a39cc94e74d",
   "metadata": {
    "ExecuteTime": {
     "end_time": "2025-04-18T06:20:10.688428Z",
     "start_time": "2025-04-18T06:20:10.682086Z"
    }
   },
   "source": [
    "# Let us calculate the Betas for some stocks\n",
    "\n",
    "# Apple\n",
    "apple_beta = betas_df['AAPL']\n",
    "\n",
    "# Amazon\n",
    "amazon_beta = betas_df['AMZN']\n",
    "\n",
    "# META\n",
    "meta_beta = betas_df['META']\n",
    "\n",
    "# Microsoft\n",
    "microsoft_beta = betas_df['MSFT']\n",
    "\n",
    "# Nvidia\n",
    "nvdia_beta = betas_df['NVDA']"
   ],
   "execution_count": 37,
   "outputs": []
  },
  {
   "cell_type": "code",
   "id": "e53c7e71-104a-47a9-b591-40f2cbba3d7c",
   "metadata": {
    "ExecuteTime": {
     "end_time": "2025-04-18T06:20:11.197957Z",
     "start_time": "2025-04-18T06:20:11.026905Z"
    }
   },
   "source": [
    "# Create Plot\n",
    "\n",
    "plt.figure(figsize=(10, 6))\n",
    "plt.plot(apple_beta, label='Apple Beta', color='blue', alpha=0.7)\n",
    "plt.plot(amazon_beta, label='Amazon Beta', color='red', alpha=0.7)\n",
    "plt.plot(meta_beta, label='META Beta', color='green', alpha=0.7)\n",
    "plt.plot(microsoft_beta, label='Microsoft Beta', color='orange', alpha=0.7)\n",
    "plt.plot(nvdia_beta, label='NVDIA Beta', color='purple', alpha=0.7)\n",
    "plt.axhline(y=1, color='black', linestyle='dashed')\n",
    "\n",
    "# Config\n",
    "plt.title('Beta Time Series')\n",
    "plt.xlabel('Time')\n",
    "plt.ylabel('Beta')\n",
    "plt.legend()\n",
    "\n",
    "# Show\n",
    "plt.show()"
   ],
   "execution_count": 38,
   "outputs": []
  },
  {
   "cell_type": "code",
   "id": "657631b3-eb5c-441c-9c3e-e6436dc6d9fb",
   "metadata": {
    "ExecuteTime": {
     "end_time": "2025-04-18T06:20:12.122142Z",
     "start_time": "2025-04-18T06:20:12.107130Z"
    }
   },
   "source": [
    "# Let us find an insensible portfolio to the market\n",
    "\n",
    "data_portfolio = pd.DataFrame()\n",
    "\n",
    "data_portfolio['AAPL'] = df_1['adj_close']\n",
    "data_portfolio['AMZN'] = df_2['adj_close']\n",
    "data_portfolio['META'] = df_3['adj_close']\n",
    "data_portfolio['MSFT'] = df_4['adj_close']\n",
    "data_portfolio['NVDA'] = df_5['adj_close']\n",
    "\n",
    "data_portfolio = data_portfolio.dropna()\n",
    "\n",
    "data_portfolio = data_portfolio.loc['2016-01-01':]\n",
    "\n",
    "data_portfolio"
   ],
   "execution_count": 39,
   "outputs": []
  },
  {
   "cell_type": "code",
   "id": "cf6d357d-b619-4063-adf9-3b80ce853a39",
   "metadata": {
    "ExecuteTime": {
     "end_time": "2025-04-18T06:20:12.794637Z",
     "start_time": "2025-04-18T06:20:12.779024Z"
    }
   },
   "source": [
    "# Returns\n",
    "\n",
    "df_returns = data_portfolio.pct_change(1).dropna()\n",
    "\n",
    "df_returns"
   ],
   "execution_count": 40,
   "outputs": []
  },
  {
   "cell_type": "code",
   "id": "7d8353bd-a551-4171-8f7f-74d8a8d92f86",
   "metadata": {
    "ExecuteTime": {
     "end_time": "2025-04-18T06:20:13.703574Z",
     "start_time": "2025-04-18T06:20:13.696982Z"
    }
   },
   "source": [
    "# Common Index\n",
    "\n",
    "common_index = df_returns.index.intersection(betas_df.index)  # Common DATE\n",
    "df_returns = df_returns.reindex(common_index)\n",
    "betas_df = betas_df.reindex(common_index)"
   ],
   "execution_count": 41,
   "outputs": []
  },
  {
   "cell_type": "code",
   "id": "995291b5-b8eb-4d94-a4d7-ad07ed949ec8",
   "metadata": {
    "ExecuteTime": {
     "end_time": "2025-04-18T06:20:14.605832Z",
     "start_time": "2025-04-18T06:20:14.598531Z"
    }
   },
   "source": [
    "# We have to find the mean expected returns\n",
    "\n",
    "expected_returns = df_returns.mean()\n",
    "\n",
    "expected_returns"
   ],
   "execution_count": 42,
   "outputs": []
  },
  {
   "cell_type": "code",
   "id": "d76c2ebb-7ee2-45ea-896d-a03d8e21d410",
   "metadata": {
    "ExecuteTime": {
     "end_time": "2025-04-18T06:20:15.333166Z",
     "start_time": "2025-04-18T06:20:15.327339Z"
    }
   },
   "source": [
    "# We have to also find the standard deviations\n",
    "\n",
    "volat = df_returns.dropna().std()\n",
    "\n",
    "volat"
   ],
   "execution_count": 43,
   "outputs": []
  },
  {
   "cell_type": "code",
   "id": "72ed69ee-03ca-40cc-83eb-a0a01a2fef98",
   "metadata": {
    "ExecuteTime": {
     "end_time": "2025-04-18T06:20:16.084318Z",
     "start_time": "2025-04-18T06:20:16.076902Z"
    }
   },
   "source": [
    "# Also we have to find the covariance matrix\n",
    "\n",
    "cov_matrix = df_returns.dropna().cov()\n",
    "\n",
    "cov_matrix"
   ],
   "execution_count": 44,
   "outputs": []
  },
  {
   "cell_type": "code",
   "id": "7434cc00-0cb7-4a8d-80cd-376bb793a061",
   "metadata": {
    "ExecuteTime": {
     "end_time": "2025-04-18T06:20:16.850731Z",
     "start_time": "2025-04-18T06:20:16.840977Z"
    }
   },
   "source": [
    "# We need also to find the mean betas of the stocks\n",
    "\n",
    "sample_beta_df = pd.DataFrame()\n",
    "\n",
    "sample_beta_df['AAPL'] = apple_beta\n",
    "sample_beta_df['AMZN'] = amazon_beta\n",
    "sample_beta_df['META'] = meta_beta\n",
    "sample_beta_df['MSFT'] = microsoft_beta\n",
    "sample_beta_df['NVDA'] = nvdia_beta\n",
    "\n",
    "mean_betas = sample_beta_df.mean()\n",
    "\n",
    "mean_betas"
   ],
   "execution_count": 45,
   "outputs": []
  },
  {
   "cell_type": "code",
   "id": "1d654467-7e7a-42f6-a041-a4f77afafef4",
   "metadata": {
    "ExecuteTime": {
     "end_time": "2025-04-18T06:20:17.662064Z",
     "start_time": "2025-04-18T06:20:17.650725Z"
    }
   },
   "source": [
    "# Which is the form of the portfolio weights if we want a zero-beta portfolio\n",
    "\n",
    "display(Math(r\"\\omega=\\left(\\frac{D}{DC-E^2}\\right)\\Sigma^{-1}\\iota+\\left(\\frac{E}{DC-E^2}\\right)\\Sigma^{-1}\\beta\"))\n",
    "display(Math(r\"C = \\iota^⊤\\Sigma^{-1}\\iota\"))\n",
    "display(Math(r\"D = \\beta^⊤\\Sigma^{-1}\\beta\"))\n",
    "display(Math(r\"E = \\beta^⊤\\Sigma^{-1}\\iota\"))\n",
    "display(Math(r\"\\Delta = DC-E^2\"))"
   ],
   "execution_count": 46,
   "outputs": []
  },
  {
   "cell_type": "code",
   "id": "6d0db8ba-d4f4-4a48-91c8-4898803dfa3f",
   "metadata": {
    "ExecuteTime": {
     "end_time": "2025-04-18T06:20:18.177294Z",
     "start_time": "2025-04-18T06:20:18.172285Z"
    }
   },
   "source": [
    "# So let us obtain the components\n",
    "\n",
    "beta = mean_betas.values.flatten().reshape(-1, 1)\n",
    "Sigma = cov_matrix.values\n",
    "\n",
    "lambda_ = 1e-6  # Tikhonov Regularization\n",
    "Sigma_inv = np.linalg.inv(Sigma + lambda_ * np.eye(Sigma.shape[0]))\n",
    "\n",
    "iota = np.ones((5, 1))"
   ],
   "execution_count": 47,
   "outputs": []
  },
  {
   "cell_type": "code",
   "id": "56b40b16-7939-4a56-8316-fa922a23019b",
   "metadata": {
    "ExecuteTime": {
     "end_time": "2025-04-18T06:20:18.542002Z",
     "start_time": "2025-04-18T06:20:18.536911Z"
    }
   },
   "source": [
    "# And now obtain the coefficients of the Efficient Frontier\n",
    "\n",
    "C = np.dot(np.dot(iota.T, Sigma_inv), iota)\n",
    "D = np.dot(np.dot(beta.T, Sigma_inv), beta)\n",
    "E = np.dot(np.dot(beta.T, Sigma_inv), iota)\n",
    "Delta = (D*C - E*E)\n",
    "\n",
    "print(f\"This is C: {C[0][0]}\")\n",
    "print(f\"This is D: {D[0][0]}\")\n",
    "print(f\"This is E: {E[0][0]}\")\n",
    "print(f\"This is Delta: {Delta[0][0]}\")"
   ],
   "execution_count": 48,
   "outputs": []
  },
  {
   "cell_type": "code",
   "id": "c536eb9d-2a78-4843-8b38-c57154de830a",
   "metadata": {
    "ExecuteTime": {
     "end_time": "2025-04-18T06:20:19.369222Z",
     "start_time": "2025-04-18T06:20:19.362039Z"
    }
   },
   "source": [
    "# Now the weights\n",
    "\n",
    "beta_weights = ((D/Delta)*(Sigma_inv @ iota)) - ((E/Delta)*(Sigma_inv @ beta))\n",
    "\n",
    "beta_weights"
   ],
   "execution_count": 49,
   "outputs": []
  },
  {
   "cell_type": "code",
   "id": "6801b2e9-ddde-456c-b832-e0467147a8d0",
   "metadata": {
    "ExecuteTime": {
     "end_time": "2025-04-18T06:20:20.195030Z",
     "start_time": "2025-04-18T06:20:20.182354Z"
    }
   },
   "source": [
    "# Create the portfolio\n",
    "\n",
    "df_returns[\"zero_beta\"] = df_returns.iloc[:, :5] @ beta_weights\n",
    "\n",
    "df_returns"
   ],
   "execution_count": 50,
   "outputs": []
  },
  {
   "cell_type": "code",
   "id": "99dae5a8-71c8-4807-a9d2-562750ccd354",
   "metadata": {
    "ExecuteTime": {
     "end_time": "2025-04-18T06:21:22.640529Z",
     "start_time": "2025-04-18T06:21:22.626406Z"
    }
   },
   "source": [
    "# Create the excess returns\n",
    "df_returns['daily_risk_free_rate'] = compute_daily_returns(rfr['risk_free_rate'])\n",
    "df_returns['portfolio_excess'] = df_returns['zero_beta'] - df_returns['daily_risk_free_rate']\n",
    "df_returns['market_excess'] = compute_excess_returns(sp500['sp_500'], rfr['risk_free_rate'])\n",
    "\n",
    "df_returns"
   ],
   "execution_count": 53,
   "outputs": []
  },
  {
   "cell_type": "code",
   "id": "031d815b-5246-44cf-9af4-8e8ff3e22802",
   "metadata": {
    "ExecuteTime": {
     "end_time": "2025-04-18T06:21:28.973795Z",
     "start_time": "2025-04-18T06:21:28.969908Z"
    }
   },
   "source": [
    "# Calculate the beta with the weights\n",
    "\n",
    "zero_beta_alt = mean_betas.transpose().dot(beta_weights)\n",
    "\n",
    "print(zero_beta_alt.round(4))"
   ],
   "execution_count": 54,
   "outputs": []
  },
  {
   "cell_type": "code",
   "id": "fa00af94-f499-4588-bdaa-20a318fcf143",
   "metadata": {
    "ExecuteTime": {
     "end_time": "2025-04-18T06:21:33.385064Z",
     "start_time": "2025-04-18T06:21:33.379111Z"
    }
   },
   "source": [
    "def calculate_analytics(df_returns, risk_free_rate=0.0):\n",
    "    # Trading Days in one Year\n",
    "    ann_factor = 252  \n",
    "    \n",
    "    # Annualized Returns\n",
    "    annualized_return = df_returns.mean() * ann_factor\n",
    "    \n",
    "    # Annualized Volatility\n",
    "    annualized_std = df_returns.std() * np.sqrt(ann_factor)\n",
    "    \n",
    "    # Sharpe Ratio\n",
    "    sharpe_ratio = (annualized_return - risk_free_rate) / annualized_std\n",
    "    \n",
    "    # Max Drawdown\n",
    "    cumulative_returns = (1 + df_returns.div(100)).cumprod()\n",
    "    rolling_max = cumulative_returns.cummax()\n",
    "    drawdown = (cumulative_returns / rolling_max) - 1\n",
    "    max_drawdown = drawdown.min()\n",
    "\n",
    "    # VaR at 95%\n",
    "    var_95 = df_returns.quantile(0.05)\n",
    "\n",
    "    # Create DF\n",
    "    summary_df = pd.DataFrame({\n",
    "        \"Annualized Returns\": annualized_return,\n",
    "        \"Annualized Volatility\": annualized_std,\n",
    "        \"Sharpe Ratio\": sharpe_ratio,\n",
    "        \"Max Drawdown\": max_drawdown,\n",
    "        \"VaR 95%\": var_95\n",
    "    })\n",
    "    \n",
    "    return summary_df"
   ],
   "execution_count": 55,
   "outputs": []
  },
  {
   "cell_type": "code",
   "id": "8f0e0b3c-ac5b-4fef-b2c4-89e3354c6403",
   "metadata": {
    "ExecuteTime": {
     "end_time": "2025-04-18T06:21:34.320056Z",
     "start_time": "2025-04-18T06:21:34.306984Z"
    }
   },
   "source": [
    "# Create a DataFrame\n",
    "\n",
    "tickers = [\"AAPL\", \"AMZN\", \"META\", \"MSFT\", \"NVDA\", \"zero_beta\"]\n",
    "\n",
    "df_portfolios = df_returns[tickers]\n",
    "\n",
    "df_portfolios"
   ],
   "execution_count": 56,
   "outputs": []
  },
  {
   "cell_type": "code",
   "id": "e68b2402-407e-4224-953f-76e731a5f049",
   "metadata": {
    "ExecuteTime": {
     "end_time": "2025-04-18T06:21:35.832891Z",
     "start_time": "2025-04-18T06:21:35.819173Z"
    }
   },
   "source": [
    "# And the Table\n",
    "\n",
    "analytics_table = calculate_analytics(df_portfolios)\n",
    "\n",
    "analytics_table"
   ],
   "execution_count": 57,
   "outputs": []
  },
  {
   "cell_type": "code",
   "id": "8a87c744-642a-41bb-aa4e-6590b0b35a22",
   "metadata": {
    "ExecuteTime": {
     "end_time": "2025-04-18T06:21:38.023429Z",
     "start_time": "2025-04-18T06:21:37.861287Z"
    }
   },
   "source": [
    "# Time Series Graphs\n",
    "plt.figure(figsize=(10, 6))\n",
    "plt.plot(df_returns['AAPL'].cumsum(), label='APPL Price', color='blue', alpha=0.7)\n",
    "plt.plot(df_returns['AMZN'].cumsum(), label='AMZN Price', color='green', alpha=0.7)\n",
    "plt.plot(df_returns['META'].cumsum(), label='META Price', color='red', alpha=0.7)\n",
    "plt.plot(df_returns['MSFT'].cumsum(), label='MSFT Price', color='orange', alpha=0.7)\n",
    "plt.plot(df_returns['NVDA'].cumsum(), label='NVDA Portfolio', color='purple', alpha=0.7)\n",
    "plt.plot(df_returns['zero_beta'].cumsum(), label='Zero Beta Portfolio', color='black', alpha=1)\n",
    "\n",
    "# Config\n",
    "plt.title('Cumulative Returns Time Series')\n",
    "plt.xlabel('Time Index')\n",
    "plt.ylabel('Cumulative Returns')\n",
    "plt.legend()\n",
    "\n",
    "# Show\n",
    "plt.grid(True)\n",
    "plt.show()"
   ],
   "execution_count": 58,
   "outputs": []
  },
  {
   "cell_type": "code",
   "id": "f7ef70e4-9e63-4f6b-aff2-c5232e49e29b",
   "metadata": {
    "ExecuteTime": {
     "end_time": "2025-04-18T06:21:39.890800Z",
     "start_time": "2025-04-18T06:21:39.632170Z"
    }
   },
   "source": [
    "# Create Figure\n",
    "fig, ax1 = plt.subplots(dpi = 300)\n",
    "\n",
    "# SP500 Returns\n",
    "sp500['sp_500'].pct_change(1).mul(100).cumsum().plot(color = 'blue', ax = ax1)\n",
    "ax1.set_xlabel('Date')\n",
    "ax1.set_ylabel(\n",
    "    'SP500 Returns', \n",
    "    color='blue'\n",
    "    )\n",
    "\n",
    "# Zero Beta Portfolio Returns\n",
    "ax2 = ax1.twinx()\n",
    "\n",
    "df_returns['zero_beta'].cumsum().plot(color = 'red', ax = ax2)\n",
    "ax2.set_ylabel(\n",
    "    'Zero Beta Portfolio Returns', \n",
    "    color='red'\n",
    "    )\n",
    "\n",
    "plt.show()"
   ],
   "execution_count": 59,
   "outputs": []
  },
  {
   "cell_type": "code",
   "id": "45fc2b63-2414-4270-b3b6-b298705cc5ec",
   "metadata": {
    "ExecuteTime": {
     "end_time": "2025-04-18T06:27:49.441904Z",
     "start_time": "2025-04-18T06:27:49.430379Z"
    }
   },
   "source": [
    "# Calculate the beta\n",
    "\n",
    "window = len(df_returns)\n",
    "\n",
    "#Model specification\n",
    "results = capm_regression(\n",
    "    df_returns['portfolio_excess'],\n",
    "    df_returns['market_excess'],\n",
    "    window,\n",
    "    True\n",
    ")\n",
    "    \n",
    "#here we check the summary\n",
    "print(results.summary())       "
   ],
   "execution_count": 68,
   "outputs": []
  },
  {
   "cell_type": "code",
   "execution_count": null,
   "id": "06c9bfaf-082c-4785-942c-bd5a2fa02faf",
   "metadata": {},
   "source": [],
   "outputs": []
  }
 ],
 "metadata": {
  "kernelspec": {
   "display_name": "Python 3 (ipykernel)",
   "language": "python",
   "name": "python3"
  },
  "language_info": {
   "codemirror_mode": {
    "name": "ipython",
    "version": 3
   },
   "file_extension": ".py",
   "mimetype": "text/x-python",
   "name": "python",
   "nbconvert_exporter": "python",
   "pygments_lexer": "ipython3",
   "version": "3.11.7"
  }
 },
 "nbformat": 4,
 "nbformat_minor": 5
}
