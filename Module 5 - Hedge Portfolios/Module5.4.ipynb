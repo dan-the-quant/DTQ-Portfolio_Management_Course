{
 "cells": [
  {
   "cell_type": "markdown",
   "id": "96b56ebb-4959-4bb0-be39-410bfedca7cd",
   "metadata": {},
   "source": [
    "# Calculating Dollar-Neutral Portfolio #\n",
    "\n",
    "### Quarterly (63 days) Rebalancing ###"
   ]
  },
  {
   "cell_type": "code",
   "id": "057afd9c-95d1-47ef-ae80-c712e8d0b6c8",
   "metadata": {
    "ExecuteTime": {
     "end_time": "2025-04-21T21:39:28.541286Z",
     "start_time": "2025-04-21T21:39:27.114962Z"
    }
   },
   "source": [
    "# Import Libraries\n",
    "\n",
    "# Data Management\n",
    "import pandas as pd\n",
    "import numpy as np\n",
    "\n",
    "# Plots\n",
    "import matplotlib.pyplot as plt\n",
    "\n",
    "# Statistics\n",
    "import statsmodels.api as sm\n",
    "\n",
    "# Handle Files\n",
    "import sys\n",
    "import os\n",
    "\n",
    "# Import Local Functions\n",
    "sys.path.append(os.path.abspath(\"../source\"))\n",
    "from functions import import_stock_universe\n",
    "from capm_toolkit import wexp\n",
    "from capm_toolkit import compute_daily_returns\n",
    "from capm_toolkit import capm_regression\n"
   ],
   "execution_count": 2,
   "outputs": []
  },
  {
   "cell_type": "code",
   "id": "f883cf84-b85b-4af5-bc7e-9762f27d6b84",
   "metadata": {
    "ExecuteTime": {
     "end_time": "2025-04-21T21:39:28.565107Z",
     "start_time": "2025-04-21T21:39:28.541286Z"
    }
   },
   "source": [
    "# Get the important data for the Risk Free Rate\n",
    "rfr = pd.read_csv(r\"..\\additional_data\\rfr.csv\")\n",
    "rfr = rfr.set_index('Date')\n",
    "rfr.index = pd.to_datetime(rfr.index, dayfirst=True)\n",
    "rfr.dropna(inplace = True)\n",
    "\n",
    "# Get the important data for the S&P500\n",
    "sp500 = pd.read_csv(rf\"..\\additional_data\\sp500.csv\")\n",
    "sp500 = sp500.set_index('Date')\n",
    "sp500.index = pd.to_datetime(sp500.index)"
   ],
   "execution_count": 3,
   "outputs": []
  },
  {
   "metadata": {
    "ExecuteTime": {
     "end_time": "2025-04-21T21:39:45.694982Z",
     "start_time": "2025-04-21T21:39:30.345801Z"
    }
   },
   "cell_type": "code",
   "source": [
    "# Dictionary to store the DataFrames\n",
    "folder_path = r\"..\\stocks\"\n",
    "\n",
    "dataframes = import_stock_universe(\n",
    "    folder_path,\n",
    "    ['Adjusted_close'],\n",
    "    ['adj_close']\n",
    ")"
   ],
   "id": "f777e91a5914ca0",
   "execution_count": 4,
   "outputs": []
  },
  {
   "cell_type": "code",
   "id": "a3d232a8-9f37-4a7a-9856-6ecf383cafc5",
   "metadata": {
    "ExecuteTime": {
     "end_time": "2025-04-21T21:40:07.166644Z",
     "start_time": "2025-04-21T21:40:06.962091Z"
    }
   },
   "source": [
    "# Create the Returns DataFrame\n",
    "returns_dict = {}\n",
    "\n",
    "# Create the Loop to Obtain the Betas\n",
    "for ticker in dataframes.keys():\n",
    "    df = dataframes[ticker]['adj_close'].pct_change(1).dropna()\n",
    "    returns_dict[ticker] = df\n",
    "\n",
    "# Create the DataFrame\n",
    "df_returns = pd.DataFrame.from_dict(returns_dict)\n",
    "df_returns = df_returns.apply(lambda x: x.fillna(x.mean()), axis=0)\n",
    "\n",
    "df_returns"
   ],
   "execution_count": 6,
   "outputs": []
  },
  {
   "cell_type": "code",
   "id": "5a301efa-ecc6-4ceb-ad3b-3caf08e019d2",
   "metadata": {
    "ExecuteTime": {
     "end_time": "2025-04-21T21:40:13.673953Z",
     "start_time": "2025-04-21T21:40:12.893495Z"
    }
   },
   "source": [
    "# Calculate the Correlations Matrix\n",
    "corr_matrix = df_returns.corr().values  \n",
    "\n",
    "# Obtain Eigenvalues\n",
    "eigenvalues, _ = np.linalg.eigh(corr_matrix)\n",
    "\n",
    "# Identify how much Eigenvalues are small (high colineality)\n",
    "threshold = 1e-4  # Adjust\n",
    "num_redundant = sum(eigenvalues < threshold)\n",
    "\n",
    "print(f\"Number of highly colineal variables: {num_redundant}\")"
   ],
   "execution_count": 7,
   "outputs": []
  },
  {
   "cell_type": "code",
   "id": "36197bb7-4001-417e-bea5-43626380b717",
   "metadata": {
    "ExecuteTime": {
     "end_time": "2025-04-21T21:40:46.799408Z",
     "start_time": "2025-04-21T21:40:46.790321Z"
    }
   },
   "source": [
    "# Let us Calculate the Weights (alternative function for Sum(w) = 0)\n",
    "def rolling_weights(\n",
    "    returns,\n",
    "    desired_returns,\n",
    "    window=252, \n",
    "    rebalance_freq=63\n",
    "):\n",
    "\n",
    "    # Lists to Store Things\n",
    "    weights_list = []\n",
    "    dates = []\n",
    "\n",
    "    for i in range(window, len(returns), rebalance_freq):\n",
    "        past_returns = returns.iloc[i-window:i]  # Rolling Window\n",
    "        \n",
    "        # Mean and Covariance\n",
    "        mu = past_returns.mean()\n",
    "        Sigma = past_returns.cov()\n",
    "\n",
    "        # Inverse\n",
    "        lambda_ = 1e-6  # Tikhonov Regularization\n",
    "        Sigma_inv = np.linalg.inv(Sigma + lambda_ * np.eye(Sigma.shape[0]))\n",
    "        \n",
    "        # Sigma_inv = np.linalg.inv(Sigma)\n",
    "\n",
    "        # Ones\n",
    "        iota = np.ones(len(mu))\n",
    "\n",
    "        # Markowitz Components\n",
    "        A = mu @ Sigma_inv @ mu\n",
    "        B = mu @ Sigma_inv @ iota\n",
    "        C = iota @ Sigma_inv @ iota\n",
    "        D = (A * C) - (B ** 2)\n",
    "\n",
    "        w = ((desired_returns * C) / D) * (Sigma_inv @ mu) - \\\n",
    "            ((desired_returns * B) / D) * (Sigma_inv @ iota)\n",
    "\n",
    "        # Save weights and dates\n",
    "        weights_list.append(w)\n",
    "        dates.append(returns.index[i])\n",
    "\n",
    "    # Create the DataFrame\n",
    "    weights_df = pd.DataFrame(weights_list, index=dates, columns=returns.columns)\n",
    "\n",
    "    # Expand the DataFrame\n",
    "    weights_df = weights_df.reindex(returns.index, method='ffill')\n",
    "\n",
    "    return weights_df.dropna()"
   ],
   "execution_count": 8,
   "outputs": []
  },
  {
   "cell_type": "code",
   "id": "0250a70c-b5bd-4b8d-a418-caac5c156d5b",
   "metadata": {
    "ExecuteTime": {
     "end_time": "2025-04-21T21:40:49.269360Z",
     "start_time": "2025-04-21T21:40:48.643382Z"
    }
   },
   "source": [
    "# Obtain the Weights\n",
    "\n",
    "benchmark_mean_returns = sp500.pct_change().mean()\n",
    "benchmark_mean_returns = benchmark_mean_returns.iloc[0]\n",
    "\n",
    "dnp_weights = rolling_weights(df_returns, benchmark_mean_returns)\n",
    "\n",
    "dnp_weights"
   ],
   "execution_count": 9,
   "outputs": []
  },
  {
   "cell_type": "code",
   "id": "3f8fa393-c214-40c1-8627-6aae03034936",
   "metadata": {
    "ExecuteTime": {
     "end_time": "2025-04-21T21:41:22.613208Z",
     "start_time": "2025-04-21T21:41:22.559726Z"
    }
   },
   "source": [
    "# Calculate the DNP\n",
    "\n",
    "dnp_returns = ((df_returns * dnp_weights).dropna()).sum(axis = 1)\n",
    "dnp_returns.name = 'DNP'\n",
    "\n",
    "dnp_returns"
   ],
   "execution_count": 10,
   "outputs": []
  },
  {
   "cell_type": "code",
   "id": "41c23e9d-4b95-494d-b504-74de65bd7d86",
   "metadata": {
    "ExecuteTime": {
     "end_time": "2025-04-21T21:41:32.590845Z",
     "start_time": "2025-04-21T21:41:32.441398Z"
    }
   },
   "source": [
    "# Create Plot\n",
    "\n",
    "plt.figure(figsize=(10, 6))\n",
    "plt.plot(dnp_returns.cumsum(), label='DNP Returns', alpha=0.7)\n",
    "plt.axhline(y=0, color='black', linestyle='dashed')\n",
    "\n",
    "# Config\n",
    "plt.title('DNP Returns Time Series')\n",
    "plt.xlabel('Time')\n",
    "plt.ylabel('Returns')\n",
    "plt.legend()\n",
    "\n",
    "# Show\n",
    "plt.show()"
   ],
   "execution_count": 12,
   "outputs": []
  },
  {
   "cell_type": "code",
   "id": "c249c9fa-27c6-4a70-993f-d3450210c56c",
   "metadata": {
    "ExecuteTime": {
     "end_time": "2025-04-21T21:42:06.996098Z",
     "start_time": "2025-04-21T21:42:06.985224Z"
    }
   },
   "source": [
    "# Calculate the beta\n",
    "risk_free_daily = compute_daily_returns(rfr['risk_free_rate'])\n",
    "\n",
    "df_regression = pd.DataFrame()\n",
    "df_regression['y'] = dnp_returns - risk_free_daily\n",
    "df_regression['x'] = sp500['sp_500'].pct_change(1) - risk_free_daily\n",
    "df_regression.dropna(inplace = True)\n",
    "\n",
    "df_regression"
   ],
   "execution_count": 13,
   "outputs": []
  },
  {
   "cell_type": "code",
   "id": "3ca1085b-f297-4b96-87d5-cd0293a2606b",
   "metadata": {
    "ExecuteTime": {
     "end_time": "2025-04-21T21:42:20.890610Z",
     "start_time": "2025-04-21T21:42:20.740714Z"
    }
   },
   "source": [
    "# Create Plot\n",
    "\n",
    "plt.figure(figsize=(10, 6))\n",
    "plt.plot(df_regression['y'].cumsum(), label='Dollar-Neutral Portfolio Returns', color='red', alpha=0.7)\n",
    "plt.plot(df_regression['x'].cumsum(), label='Benchmark Returns', color='blue', alpha=0.7)\n",
    "\n",
    "# Config\n",
    "plt.title('Returns Time Series')\n",
    "plt.xlabel('Time')\n",
    "plt.ylabel('Returns')\n",
    "plt.legend()\n",
    "\n",
    "# Show\n",
    "plt.show()"
   ],
   "execution_count": 15,
   "outputs": []
  },
  {
   "cell_type": "code",
   "id": "6891efca-b766-4a95-9451-8f6356033ed4",
   "metadata": {
    "ExecuteTime": {
     "end_time": "2025-04-21T21:42:26.262767Z",
     "start_time": "2025-04-21T21:42:25.954269Z"
    }
   },
   "source": [
    "# Create Figure\n",
    "fig, ax1 = plt.subplots(dpi = 300)\n",
    "\n",
    "# Market Returns Plot\n",
    "df_regression['x'].cumsum().plot(color = 'blue', ax = ax1, alpha=0.7)\n",
    "ax1.set_xlabel('Date')\n",
    "ax1.set_ylabel(\n",
    "    'Market Returns', \n",
    "    color='blue'\n",
    "    )\n",
    "\n",
    "# ZBP Returns Plot\n",
    "ax2 = ax1.twinx()\n",
    "\n",
    "df_regression['y'].cumsum().plot(color = 'red', ax = ax2, alpha=0.7)\n",
    "ax2.set_ylabel(\n",
    "    'Neutral Portfolio Returns', \n",
    "    color='red'\n",
    "    )\n",
    "\n",
    "plt.title('Beta vs Beta Time Series')\n",
    "plt.show()"
   ],
   "execution_count": 16,
   "outputs": []
  },
  {
   "cell_type": "code",
   "id": "c2667bc8-45be-461e-8a39-f7e329f3789f",
   "metadata": {
    "ExecuteTime": {
     "end_time": "2025-04-21T21:42:30.549800Z",
     "start_time": "2025-04-21T21:42:30.536849Z"
    }
   },
   "source": [
    "# Correlation between market and our hedge portfolio\n",
    "\n",
    "df_regression.corr()"
   ],
   "execution_count": 17,
   "outputs": []
  },
  {
   "cell_type": "code",
   "id": "c555115e-024a-4d9f-a7af-63ee07a59c59",
   "metadata": {
    "ExecuteTime": {
     "end_time": "2025-04-21T21:43:32.435108Z",
     "start_time": "2025-04-21T21:43:32.416633Z"
    }
   },
   "source": [
    "#Model specification\n",
    "window = len(df_regression)\n",
    "\n",
    "results = capm_regression(\n",
    "    df_regression['y'],\n",
    "    df_regression['x'],\n",
    "    window,\n",
    "    True\n",
    ")\n",
    "    \n",
    "#here we check the summary\n",
    "print(results.summary()) "
   ],
   "execution_count": 18,
   "outputs": []
  },
  {
   "cell_type": "code",
   "id": "d66fad5d-56b9-44ce-ac8c-2762d6100e9d",
   "metadata": {
    "ExecuteTime": {
     "end_time": "2025-04-21T21:43:58.535148Z",
     "start_time": "2025-04-21T21:43:56.579113Z"
    }
   },
   "source": [
    "# Set rolling window size\n",
    "window = 252\n",
    "weights = window * wexp(window, window/2)\n",
    "\n",
    "y = df_regression['y']\n",
    "x = sm.add_constant(df_regression['x'])\n",
    "\n",
    "# Lists to store rolling coefficients\n",
    "params = []\n",
    "index = []\n",
    "lower_bounds = []\n",
    "upper_bounds = []\n",
    "\n",
    "# Rolling regression\n",
    "for i in range(window, len(df_regression)):\n",
    "    Y_window = y.iloc[i - window:i]\n",
    "    X_window = x.iloc[i - window:i]\n",
    "\n",
    "    # Fit WLS model\n",
    "    model = sm.WLS(Y_window, X_window, missing='drop', weights=weights).fit()\n",
    "\n",
    "    # Store coefficients (const, X1, X2)\n",
    "    params.append(model.params.values)\n",
    "    index.append(df_regression.index[i])  # Use the last date of the window\n",
    "\n",
    "    # Store lower and upper bounds of 95% confidence intervals\n",
    "    ci = model.conf_int(alpha=0.05)  # 95% CI\n",
    "    lower_bounds.append(ci.iloc[:, 0].values)  # First column: lower bound\n",
    "    upper_bounds.append(ci.iloc[:, 1].values)  # Second column: upper bound\n"
   ],
   "execution_count": 19,
   "outputs": []
  },
  {
   "cell_type": "code",
   "id": "7eb06d5f-2327-47b1-995e-6f0d4b172489",
   "metadata": {
    "ExecuteTime": {
     "end_time": "2025-04-21T21:44:02.225703Z",
     "start_time": "2025-04-21T21:44:02.187003Z"
    }
   },
   "source": [
    "# Convert list of coefficients to DataFrame\n",
    "parameters_df = pd.DataFrame(params, columns=x.columns, index=index)\n",
    "lower_df = pd.DataFrame(lower_bounds, columns=[f'{col}_lower' for col in x.columns], index=index)\n",
    "upper_df = pd.DataFrame(upper_bounds, columns=[f'{col}_upper' for col in x.columns], index=index)\n"
   ],
   "execution_count": 20,
   "outputs": []
  },
  {
   "cell_type": "code",
   "id": "d05c157f-fc6c-497c-b761-13b5bcba9287",
   "metadata": {
    "ExecuteTime": {
     "end_time": "2025-04-21T21:44:03.229765Z",
     "start_time": "2025-04-21T21:44:03.017375Z"
    }
   },
   "source": [
    "# Create Plot\n",
    "\n",
    "plt.figure(figsize=(10, 6))\n",
    "plt.plot(parameters_df['x'], label='Market Beta', color='black', alpha=0.7)\n",
    "plt.fill_between(upper_df.index, lower_df['x_lower'], upper_df['x_upper'], color='yellow', alpha=0.2, label='95% CI')\n",
    "plt.axhline(y=0, color='black', linestyle='dashed')\n",
    "\n",
    "# Config\n",
    "plt.title('Market Beta Time Series')\n",
    "plt.xlabel('Time')\n",
    "plt.ylabel('Betas')\n",
    "plt.legend()\n",
    "\n",
    "# Show\n",
    "plt.show()"
   ],
   "execution_count": 21,
   "outputs": []
  },
  {
   "cell_type": "code",
   "execution_count": null,
   "id": "4f92002c-5102-4229-bce3-2f261093e22f",
   "metadata": {},
   "source": [],
   "outputs": []
  }
 ],
 "metadata": {
  "kernelspec": {
   "display_name": "Python 3 (ipykernel)",
   "language": "python",
   "name": "python3"
  },
  "language_info": {
   "codemirror_mode": {
    "name": "ipython",
    "version": 3
   },
   "file_extension": ".py",
   "mimetype": "text/x-python",
   "name": "python",
   "nbconvert_exporter": "python",
   "pygments_lexer": "ipython3",
   "version": "3.11.7"
  }
 },
 "nbformat": 4,
 "nbformat_minor": 5
}
