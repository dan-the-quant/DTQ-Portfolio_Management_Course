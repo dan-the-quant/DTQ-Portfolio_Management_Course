{
 "cells": [
  {
   "cell_type": "markdown",
   "id": "d04a682b-12fa-420b-9d3c-29d2d47af40b",
   "metadata": {},
   "source": [
    "# Building a Beta Zero Portfolio #"
   ]
  },
  {
   "cell_type": "code",
   "id": "5fbdb44d-cd08-4ec6-9110-88a8a3ff2c18",
   "metadata": {
    "ExecuteTime": {
     "end_time": "2025-04-19T01:01:00.503496Z",
     "start_time": "2025-04-19T01:00:58.476823Z"
    }
   },
   "source": [
    "# Import Libraries\n",
    "\n",
    "# Data Management\n",
    "import pandas as pd\n",
    "import numpy as np\n",
    "\n",
    "# Plots\n",
    "import matplotlib.pyplot as plt\n",
    "\n",
    "# Statistics\n",
    "import statsmodels.api as sm\n",
    "\n",
    "# Handle Files\n",
    "import sys\n",
    "import os\n",
    "\n",
    "# Import Local Functions\n",
    "sys.path.append(os.path.abspath(\"../source\"))\n",
    "from functions import import_stock_universe\n",
    "from capm_toolkit import compute_daily_returns\n",
    "from capm_toolkit import compute_excess_returns\n",
    "from capm_toolkit import capm_regression\n",
    "from portfolios_toolkit import zero_beta_weights\n"
   ],
   "execution_count": 2,
   "outputs": []
  },
  {
   "cell_type": "code",
   "id": "8c647eb6-519c-44b7-b8fe-d17415894d9d",
   "metadata": {
    "ExecuteTime": {
     "end_time": "2025-04-19T01:01:00.524544Z",
     "start_time": "2025-04-19T01:01:00.503496Z"
    }
   },
   "source": [
    "# Get the important data for the Risk Free Rate\n",
    "\n",
    "rfr = pd.read_csv(r\"..\\additional_data\\rfr.csv\")\n",
    "rfr = rfr.set_index('Date')\n",
    "rfr.index = pd.to_datetime(rfr.index, dayfirst=True)\n",
    "rfr.dropna(inplace = True)\n",
    "\n",
    "# Get the important data for the S&P500\n",
    "\n",
    "sp500 = pd.read_csv(rf\"..\\additional_data\\sp500.csv\")\n",
    "sp500 = sp500.set_index('Date')\n",
    "sp500.index = pd.to_datetime(sp500.index)"
   ],
   "execution_count": 3,
   "outputs": []
  },
  {
   "cell_type": "code",
   "id": "8f94a66b-1fdf-429b-ad61-317309f58ad5",
   "metadata": {
    "ExecuteTime": {
     "end_time": "2025-04-19T01:01:11.757464Z",
     "start_time": "2025-04-19T01:01:00.524544Z"
    }
   },
   "source": [
    "# Dictionary to store the DataFrames\n",
    "folder_path = r\"..\\stocks\"\n",
    "\n",
    "dataframes = import_stock_universe(\n",
    "    folder_path,\n",
    "    ['Adjusted_close'],\n",
    "    ['adj_close']\n",
    ")"
   ],
   "execution_count": 4,
   "outputs": []
  },
  {
   "metadata": {
    "ExecuteTime": {
     "end_time": "2025-04-19T01:01:12.065134Z",
     "start_time": "2025-04-19T01:01:11.757464Z"
    }
   },
   "cell_type": "code",
   "source": "dataframes",
   "id": "c851627db815a94e",
   "execution_count": 5,
   "outputs": []
  },
  {
   "metadata": {
    "ExecuteTime": {
     "end_time": "2025-04-19T01:01:12.249409Z",
     "start_time": "2025-04-19T01:01:12.066648Z"
    }
   },
   "cell_type": "code",
   "source": [
    "returns_dict = {}\n",
    "\n",
    "# Create the Loop to Obtain the Betas\n",
    "for ticker in dataframes.keys():\n",
    "    df = dataframes[ticker]['adj_close'].pct_change(1).dropna()\n",
    "    returns_dict[ticker] = df\n",
    "\n",
    "# Create the DataFrame\n",
    "df_returns = pd.DataFrame.from_dict(returns_dict)\n",
    "df_returns = df_returns.apply(lambda x: x.fillna(x.mean()), axis=0)\n",
    "\n",
    "df_returns"
   ],
   "id": "410c9881876301e8",
   "execution_count": 6,
   "outputs": []
  },
  {
   "metadata": {
    "ExecuteTime": {
     "end_time": "2025-04-19T01:01:12.595406Z",
     "start_time": "2025-04-19T01:01:12.249409Z"
    }
   },
   "cell_type": "code",
   "source": [
    "# Create the Returns DataFrame\n",
    "excess_returns_dict = {}\n",
    "\n",
    "# Create the Loop to Obtain the Betas\n",
    "for ticker in dataframes.keys():\n",
    "    df = compute_excess_returns(dataframes[ticker]['adj_close'], rfr['risk_free_rate'])\n",
    "    excess_returns_dict[ticker] = df\n",
    "\n",
    "# Create the DataFrame\n",
    "df_excess_returns = pd.DataFrame.from_dict(excess_returns_dict)\n",
    "df_excess_returns = df_excess_returns.apply(lambda x: x.fillna(x.mean()), axis=0)\n",
    "\n",
    "df_excess_returns"
   ],
   "id": "a72ced9b-b9e6-4a73-a134-f59cd3b81650",
   "execution_count": 7,
   "outputs": []
  },
  {
   "cell_type": "markdown",
   "id": "dece22bd-f73b-4ab5-800f-6a26e00d416d",
   "metadata": {},
   "source": [
    "## Using Historical Beta (No Rebalacing) ##"
   ]
  },
  {
   "cell_type": "code",
   "id": "ef9304df-fb01-4996-a65b-e13a99bfe66d",
   "metadata": {
    "ExecuteTime": {
     "end_time": "2025-04-19T01:01:13.281428Z",
     "start_time": "2025-04-19T01:01:12.596432Z"
    }
   },
   "source": [
    "# Calculate the Correlations Matrix\n",
    "corr_matrix = df_returns.corr().values  \n",
    "\n",
    "# Obtain Eigenvalues\n",
    "eigenvalues, _ = np.linalg.eigh(corr_matrix)\n",
    "\n",
    "# Identify how much Eigenvalues are small (high collinearity)\n",
    "threshold = 1e-4  # Adjust\n",
    "num_redundant = sum(eigenvalues < threshold)\n",
    "\n",
    "print(f\"Number of highly collinear variables: {num_redundant}\")"
   ],
   "execution_count": 8,
   "outputs": []
  },
  {
   "cell_type": "code",
   "id": "f7fd129a-3f70-4c0c-8d75-8a19daf2b0e7",
   "metadata": {
    "ExecuteTime": {
     "end_time": "2025-04-19T01:01:13.288788Z",
     "start_time": "2025-04-19T01:01:13.281428Z"
    }
   },
   "source": [
    "# Create useful series\n",
    "market_excess_returns = compute_excess_returns(sp500['sp_500'], rfr['risk_free_rate'])\n",
    "\n",
    "market_excess_returns"
   ],
   "execution_count": 9,
   "outputs": []
  },
  {
   "cell_type": "code",
   "id": "5ba7ea5f-36a5-4cea-8604-a1a03968b353",
   "metadata": {
    "ExecuteTime": {
     "end_time": "2025-04-19T01:01:13.301875Z",
     "start_time": "2025-04-19T01:01:13.288788Z"
    }
   },
   "source": [
    "# Common Index\n",
    "\n",
    "common_index = df_excess_returns.index.intersection(market_excess_returns.index)\n",
    "df_excess_returns, market_excess_returns = df_excess_returns.loc[common_index], market_excess_returns.loc[common_index]\n",
    "df_returns = df_returns.loc[common_index]"
   ],
   "execution_count": 10,
   "outputs": []
  },
  {
   "metadata": {
    "ExecuteTime": {
     "end_time": "2025-04-19T01:01:13.306661Z",
     "start_time": "2025-04-19T01:01:13.301875Z"
    }
   },
   "cell_type": "code",
   "source": "risk_free_daily = compute_daily_returns(rfr['risk_free_rate']).loc[common_index]",
   "id": "9c5afe4a51176e9c",
   "execution_count": 11,
   "outputs": []
  },
  {
   "cell_type": "code",
   "id": "8b8c512d-004e-4890-b095-b231e7dab5c3",
   "metadata": {
    "ExecuteTime": {
     "end_time": "2025-04-19T01:01:13.760685Z",
     "start_time": "2025-04-19T01:01:13.306661Z"
    }
   },
   "source": [
    "# Create the Returns DataFrame\n",
    "betas_dict = {}\n",
    "\n",
    "# Window\n",
    "window = len(common_index)\n",
    "\n",
    "# Create the Loop to Obtain the Betas\n",
    "for ticker in df_returns.columns:\n",
    "    results = capm_regression(\n",
    "        df_excess_returns[ticker], \n",
    "        market_excess_returns,\n",
    "        window,\n",
    "        True\n",
    "    )\n",
    "\n",
    "    # Extract Betas\n",
    "    beta = results.params.iloc[1]\n",
    "    \n",
    "    # Store Betas\n",
    "    betas_dict[ticker] = beta\n",
    "\n",
    "# Create the Series\n",
    "betas_series = pd.Series(betas_dict)\n",
    "betas_series.name = 'beta'\n",
    "\n",
    "betas_series"
   ],
   "execution_count": 12,
   "outputs": []
  },
  {
   "cell_type": "code",
   "id": "4a0b9b49-e4bc-4e65-bbba-87fdad4df2b6",
   "metadata": {
    "ExecuteTime": {
     "end_time": "2025-04-19T01:01:13.782175Z",
     "start_time": "2025-04-19T01:01:13.760685Z"
    }
   },
   "source": [
    "# Covariance Matrix\n",
    "\n",
    "cov_matrix = df_returns.cov()\n",
    "\n",
    "cov_matrix\n",
    "    "
   ],
   "execution_count": 13,
   "outputs": []
  },
  {
   "metadata": {
    "ExecuteTime": {
     "end_time": "2025-04-19T01:04:16.534518Z",
     "start_time": "2025-04-19T01:04:16.516570Z"
    }
   },
   "cell_type": "code",
   "source": [
    "# Obtain the weights\n",
    "zbp_weights = zero_beta_weights(betas_series, cov_matrix)\n",
    "zbp_weights = pd.Series(zbp_weights, index = betas_series.index)\n",
    "zbp_weights.name = 'zbp_weights'\n",
    "\n",
    "zbp_weights"
   ],
   "id": "57119c65-6525-4983-8ef2-b6cac7f8c564",
   "execution_count": 15,
   "outputs": []
  },
  {
   "metadata": {
    "ExecuteTime": {
     "end_time": "2025-04-19T01:04:20.524590Z",
     "start_time": "2025-04-19T01:04:20.516919Z"
    }
   },
   "cell_type": "code",
   "source": [
    "print(zbp_weights.shape)\n",
    "print(df_returns.shape)"
   ],
   "id": "834a1a3ce5c31b83",
   "execution_count": 16,
   "outputs": []
  },
  {
   "metadata": {
    "ExecuteTime": {
     "end_time": "2025-04-19T01:04:28.708807Z",
     "start_time": "2025-04-19T01:04:28.696555Z"
    }
   },
   "cell_type": "code",
   "source": [
    "# Obtain the portfolio w^T*Returns\n",
    "zbp_returns = df_returns.values @ zbp_weights.T\n",
    "zbp_returns = pd.Series(zbp_returns.flatten(), index = common_index, name = 'zbp_returns')\n",
    "\n",
    "zbp_returns"
   ],
   "id": "f9a75dc05f702f6f",
   "execution_count": 17,
   "outputs": []
  },
  {
   "cell_type": "code",
   "id": "de5dd1a5-3f9b-408e-a7a0-3315f7a198bf",
   "metadata": {
    "ExecuteTime": {
     "end_time": "2025-04-19T01:04:35.550915Z",
     "start_time": "2025-04-19T01:04:35.542266Z"
    }
   },
   "source": [
    "# Calculate the beta\n",
    "\n",
    "df_regression = pd.DataFrame()\n",
    "df_regression['y'] = zbp_returns - risk_free_daily\n",
    "df_regression['x'] = market_excess_returns\n",
    "df_regression.dropna(inplace = True)\n",
    "df_regression = df_regression.mul(100)\n",
    "\n",
    "df_regression"
   ],
   "execution_count": 18,
   "outputs": []
  },
  {
   "cell_type": "code",
   "id": "769d1e58-a6a2-4c55-9151-62f2328004b9",
   "metadata": {
    "ExecuteTime": {
     "end_time": "2025-04-19T01:04:36.138140Z",
     "start_time": "2025-04-19T01:04:35.977727Z"
    }
   },
   "source": [
    "# Create Plot\n",
    "\n",
    "plt.figure(figsize=(10, 6))\n",
    "plt.plot(df_regression['y'].cumsum(), label='Zero-Beta Portfolio Returns', color='red', alpha=0.7)\n",
    "plt.plot(df_regression['x'].cumsum(), label='Benchmark Returns', color='blue', alpha=0.7)\n",
    "\n",
    "# Config\n",
    "plt.title('ZBP vs Benchmark Returns Time Series')\n",
    "plt.xlabel('Time')\n",
    "plt.ylabel('Returns')\n",
    "plt.legend()\n",
    "\n",
    "# Show\n",
    "plt.show()"
   ],
   "execution_count": 19,
   "outputs": []
  },
  {
   "cell_type": "code",
   "id": "dee61f0f-6aaf-4fde-b3a0-1aab73672eb2",
   "metadata": {
    "ExecuteTime": {
     "end_time": "2025-04-19T01:04:37.255981Z",
     "start_time": "2025-04-19T01:04:36.986617Z"
    }
   },
   "source": [
    "# Create Figure\n",
    "fig, ax1 = plt.subplots(dpi = 300)\n",
    "\n",
    "# Market Returns Plot\n",
    "df_regression['x'].cumsum().plot(color = 'blue', ax = ax1, alpha=0.5)\n",
    "ax1.set_xlabel('Date')\n",
    "ax1.set_ylabel(\n",
    "    'Market Returns', \n",
    "    color='blue'\n",
    "    )\n",
    "\n",
    "# ZBP Returns Plot\n",
    "ax2 = ax1.twinx()\n",
    "\n",
    "df_regression['y'].cumsum().plot(color = 'red', ax = ax2, alpha=0.8)\n",
    "ax2.set_ylabel(\n",
    "    'Hedge Portfolio Returns', \n",
    "    color='red'\n",
    "    )\n",
    "\n",
    "plt.title('Returns vs Returns Time Series')\n",
    "plt.show()"
   ],
   "execution_count": 20,
   "outputs": []
  },
  {
   "cell_type": "code",
   "id": "74cb9510-c1d8-4ac5-b0ac-697244849fba",
   "metadata": {
    "ExecuteTime": {
     "end_time": "2025-04-19T01:04:37.992658Z",
     "start_time": "2025-04-19T01:04:37.986618Z"
    }
   },
   "source": [
    "# Correlation between market and our hedge portfolio\n",
    "\n",
    "df_regression.corr()"
   ],
   "execution_count": 21,
   "outputs": []
  },
  {
   "cell_type": "code",
   "id": "b9e09437-6513-47a0-8343-6ca1c5be6792",
   "metadata": {
    "ExecuteTime": {
     "end_time": "2025-04-19T01:04:38.762369Z",
     "start_time": "2025-04-19T01:04:38.746545Z"
    }
   },
   "source": [
    "#Model specification\n",
    "window = len(df_regression)\n",
    "\n",
    "#the results of the model\n",
    "results = capm_regression(\n",
    "    df_regression['y'],\n",
    "    df_regression['x'],\n",
    "    window,\n",
    "    True\n",
    ")\n",
    "    \n",
    "#here we check the summary\n",
    "print(results.summary()) "
   ],
   "execution_count": 22,
   "outputs": []
  },
  {
   "cell_type": "code",
   "id": "4796d046-7f91-48d1-a91d-10455d075db8",
   "metadata": {
    "ExecuteTime": {
     "end_time": "2025-04-18T22:29:36.275339Z",
     "start_time": "2025-04-18T22:29:31.726564Z"
    }
   },
   "source": [
    "# Set rolling window size\n",
    "window = 252\n",
    "\n",
    "y = df_regression['y']\n",
    "x = sm.add_constant(df_regression['x'])\n",
    "\n",
    "# Lists to store rolling coefficients\n",
    "params = []\n",
    "index = []\n",
    "lower_bounds = []\n",
    "upper_bounds = []\n",
    "\n",
    "# Rolling regression\n",
    "for i in range(window, len(df_regression)):\n",
    "    Y_window = y.iloc[i - window:i]\n",
    "    X_window = x.iloc[i - window:i]\n",
    "\n",
    "    # Fit WLS model\n",
    "    model = capm_regression(\n",
    "        Y_window,\n",
    "        X_window,\n",
    "        window,\n",
    "        True,\n",
    "    )\n",
    "\n",
    "    # Store coefficients (const, X1, X2)\n",
    "    params.append(model.params.values)\n",
    "    index.append(df_regression.index[i])  # Use the last date of the window\n",
    "\n",
    "    # Store lower and upper bounds of 95% confidence intervals\n",
    "    ci = model.conf_int(alpha=0.05)  # 95% CI\n",
    "    lower_bounds.append(ci.iloc[:, 0].values)  # First column: lower bound\n",
    "    upper_bounds.append(ci.iloc[:, 1].values)  # Second column: upper bound\n"
   ],
   "execution_count": 58,
   "outputs": []
  },
  {
   "cell_type": "code",
   "id": "5fa0815e-fba6-421d-89b7-47b28f150849",
   "metadata": {
    "ExecuteTime": {
     "end_time": "2025-04-18T22:29:36.334987Z",
     "start_time": "2025-04-18T22:29:36.304164Z"
    }
   },
   "source": [
    "# Convert list of coefficients to DataFrame\n",
    "parameters_df = pd.DataFrame(params, columns=x.columns, index=index)\n",
    "\n",
    "# Lower bounds DataFrame\n",
    "lower_df = pd.DataFrame(lower_bounds, columns=[f'{col}_lower' for col in x.columns], index=index)\n",
    "\n",
    "# Upper bounds DataFrame\n",
    "upper_df = pd.DataFrame(upper_bounds, columns=[f'{col}_upper' for col in x.columns], index=index)\n"
   ],
   "execution_count": 59,
   "outputs": []
  },
  {
   "cell_type": "code",
   "id": "c4d92299-06be-45e4-96f0-b5f4e6d08748",
   "metadata": {
    "ExecuteTime": {
     "end_time": "2025-04-18T22:29:39.841838Z",
     "start_time": "2025-04-18T22:29:39.505685Z"
    }
   },
   "source": [
    "# Create Plot\n",
    "\n",
    "plt.figure(figsize=(10, 6))\n",
    "plt.plot(parameters_df['x'], label='Market Beta', color='black', alpha=0.7)\n",
    "plt.fill_between(upper_df.index, lower_df['x_lower'], upper_df['x_upper'], color='skyblue', alpha=0.2, label='95% CI')\n",
    "plt.axhline(y=0, color='black', linestyle='dashed')\n",
    "\n",
    "# Config\n",
    "plt.title('Market Beta Time Series')\n",
    "plt.xlabel('Time')\n",
    "plt.ylabel('Betas')\n",
    "plt.legend()\n",
    "plt.grid()\n",
    "\n",
    "# Show\n",
    "plt.show()"
   ],
   "execution_count": 60,
   "outputs": []
  },
  {
   "cell_type": "code",
   "id": "a9a248c5-d4df-45b8-bf46-dc5b44eea54a",
   "metadata": {
    "ExecuteTime": {
     "end_time": "2025-04-18T23:06:42.769878Z",
     "start_time": "2025-04-18T23:06:42.737807Z"
    }
   },
   "source": [
    "# Store the Zero Beta Portfolio\n",
    "\n",
    "zbp_returns.name = 'zero_beta_portfolio'\n",
    "zbp_returns.to_csv(r\"..\\additional_data\\zero_beta_portfolio.csv\", header=True)"
   ],
   "execution_count": 61,
   "outputs": []
  },
  {
   "cell_type": "markdown",
   "id": "57ab3ed1-5813-417f-a64f-d7c47b6f3cbf",
   "metadata": {},
   "source": [
    "Why we are not concerned about look-ahead bias?\n",
    "\n",
    "In this analysis, we are not designing a tradable investment strategy, but rather constructing a theoretical portfolio to explore the structure of systematic and non-systematic risk. By using historical betas relative to a benchmark, we create a market-neutral portfolio—orthogonal to market risk—as a way to isolate potential sources of return that are not explained by the CAPM beta. Since the portfolio is not intended for ex-ante forecasting or backtesting purposes, but rather as a risk decomposition tool, the presence of look-ahead bias does not invalidate its use in this context."
   ]
  }
 ],
 "metadata": {
  "kernelspec": {
   "display_name": "Python 3 (ipykernel)",
   "language": "python",
   "name": "python3"
  },
  "language_info": {
   "codemirror_mode": {
    "name": "ipython",
    "version": 3
   },
   "file_extension": ".py",
   "mimetype": "text/x-python",
   "name": "python",
   "nbconvert_exporter": "python",
   "pygments_lexer": "ipython3",
   "version": "3.11.7"
  }
 },
 "nbformat": 4,
 "nbformat_minor": 5
}
