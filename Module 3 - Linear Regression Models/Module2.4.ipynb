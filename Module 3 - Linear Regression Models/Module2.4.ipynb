{
 "cells": [
  {
   "cell_type": "markdown",
   "id": "4ef6f761-f7db-4b7a-be83-be463d8eb05e",
   "metadata": {},
   "source": [
    "# Weighted Least Squares Regression #\n",
    "\n",
    "### Generalized Least Squares ###"
   ]
  },
  {
   "cell_type": "code",
   "id": "158ab4e1-6995-4f2e-8cc6-f54b09da8a2b",
   "metadata": {
    "ExecuteTime": {
     "end_time": "2025-04-16T07:10:11.321407Z",
     "start_time": "2025-04-16T07:10:11.310355Z"
    }
   },
   "source": [
    "# Import Libraries\n",
    "\n",
    "# Data Management\n",
    "import pandas as pd\n",
    "import numpy as np\n",
    "\n",
    "# Statistics\n",
    "import statsmodels.api as sm \n",
    "import matplotlib.pyplot as plt\n",
    "from statsmodels.stats.diagnostic import het_breuschpagan\n",
    "\n",
    "# Handle Files\n",
    "import sys\n",
    "import os\n",
    "\n",
    "# Import Local Functions\n",
    "sys.path.append(os.path.abspath(\"../source\"))\n",
    "from functions import import_financial_data\n",
    "\n",
    "# Pretty Notation\n",
    "from IPython.display import display, Math"
   ],
   "execution_count": 51,
   "outputs": []
  },
  {
   "cell_type": "code",
   "id": "90f4ea7f-7d56-423e-8f61-46d2afaee955",
   "metadata": {
    "ExecuteTime": {
     "end_time": "2025-04-16T05:41:24.096470Z",
     "start_time": "2025-04-16T05:41:24.063348Z"
    }
   },
   "source": [
    "# Data for Y\n",
    "data_y = import_financial_data('AMZN')\n",
    "\n",
    "y = np.log(data_y['adj_close'])\n",
    "\n",
    "y"
   ],
   "execution_count": 23,
   "outputs": []
  },
  {
   "cell_type": "code",
   "id": "0c0f2fe5-20ce-4dcf-ae49-4530dd65be35",
   "metadata": {
    "ExecuteTime": {
     "end_time": "2025-04-16T05:42:06.093518Z",
     "start_time": "2025-04-16T05:42:06.059690Z"
    }
   },
   "source": [
    "# Data for Explanatory Variables\n",
    "data_x = import_financial_data('WMT')\n",
    "\n",
    "x = np.log(data_x['adj_close'])\n",
    "\n",
    "x"
   ],
   "execution_count": 25,
   "outputs": []
  },
  {
   "metadata": {
    "ExecuteTime": {
     "end_time": "2025-04-16T05:42:06.367073Z",
     "start_time": "2025-04-16T05:42:06.348071Z"
    }
   },
   "cell_type": "code",
   "source": [
    "# Call the sp500\n",
    "data_sp500 = pd.read_csv(r'..\\additional_data\\sp500.csv')\n",
    "data_sp500.set_index('Date', inplace=True)\n",
    "data_sp500.index = pd.to_datetime(data_sp500.index)\n",
    "\n",
    "data_sp500"
   ],
   "id": "dbf007b809d20c7",
   "execution_count": 26,
   "outputs": []
  },
  {
   "cell_type": "code",
   "id": "dba40cbd-227b-4389-9766-ac461e14facd",
   "metadata": {
    "ExecuteTime": {
     "end_time": "2025-04-16T05:42:10.910373Z",
     "start_time": "2025-04-16T05:42:10.889170Z"
    }
   },
   "source": [
    "# Create the Data for Lineal Regression\n",
    "ols_df = pd.DataFrame(index = y.index)\n",
    "ols_df['AMZN'] = y\n",
    "ols_df['WMT'] = x\n",
    "ols_df['SP500'] = np.log(data_sp500['SP500'])\n",
    "\n",
    "# Drop NaNs\n",
    "ols_df = ols_df.dropna()\n",
    "\n",
    "# Date time\n",
    "ols_df.index = pd.to_datetime(ols_df.index)\n",
    "\n",
    "# Add constant\n",
    "ols_df = sm.add_constant(ols_df)\n",
    "\n",
    "ols_df"
   ],
   "execution_count": 27,
   "outputs": []
  },
  {
   "cell_type": "code",
   "id": "7c092bae-5f70-43ff-800c-cd180a38cf48",
   "metadata": {
    "ExecuteTime": {
     "end_time": "2025-04-16T05:42:44.478732Z",
     "start_time": "2025-04-16T05:42:44.243779Z"
    }
   },
   "source": [
    "# Create Figure\n",
    "fig, ax1 = plt.subplots(dpi = 300)\n",
    "\n",
    "# AMZN Price\n",
    "ols_df['AMZN'].plot(color = 'blue', ax = ax1)\n",
    "ax1.set_xlabel('Date')\n",
    "ax1.set_ylabel(\n",
    "    'AMZN Price', \n",
    "    color='blue'\n",
    "    )\n",
    "\n",
    "# WMT Price\n",
    "ax2 = ax1.twinx()\n",
    "\n",
    "ols_df['WMT'].plot(color = 'red', ax = ax2)\n",
    "ax2.set_ylabel(\n",
    "    'WMT Price', \n",
    "    color='red'\n",
    "    )\n",
    "\n",
    "plt.show()"
   ],
   "execution_count": 29,
   "outputs": []
  },
  {
   "cell_type": "code",
   "id": "71ec944c-ad04-44d2-a6d7-6333c5ca76a9",
   "metadata": {
    "ExecuteTime": {
     "end_time": "2025-04-16T05:42:59.544928Z",
     "start_time": "2025-04-16T05:42:59.528301Z"
    }
   },
   "source": [
    "#Model specification\n",
    "model = sm.OLS(\n",
    "    ols_df['AMZN'], \n",
    "    ols_df[['const', 'WMT', 'SP500']]\n",
    "    )   \n",
    "     \n",
    "#the results of the model\n",
    "results = model.fit() \n",
    "    \n",
    "#The Parameters\n",
    "betas = results.params  \n",
    "\n",
    "#here we check the summary\n",
    "print(results.summary())    "
   ],
   "execution_count": 30,
   "outputs": []
  },
  {
   "cell_type": "code",
   "id": "d216c609-ea54-438f-96ea-8af44e61518d",
   "metadata": {
    "ExecuteTime": {
     "end_time": "2025-04-16T05:43:13.896252Z",
     "start_time": "2025-04-16T05:43:13.707872Z"
    }
   },
   "source": [
    "# Check the residuals \n",
    "\n",
    "residuals = results.resid\n",
    "\n",
    "# Create Figure\n",
    "fig, ax1 = plt.subplots(dpi = 300)\n",
    "\n",
    "# Residuals Rate Plot\n",
    "residuals.plot(color = 'blue', ax = ax1)\n",
    "ax1.set_xlabel('Date')\n",
    "ax1.set_ylabel(\n",
    "    'Residuals', \n",
    "    color='blue'\n",
    "    )\n",
    "\n",
    "plt.show()"
   ],
   "execution_count": 31,
   "outputs": []
  },
  {
   "cell_type": "code",
   "id": "a8d647f8-7292-4b0c-b659-3f1b982a9e39",
   "metadata": {
    "ExecuteTime": {
     "end_time": "2025-04-16T05:43:24.107902Z",
     "start_time": "2025-04-16T05:43:24.097745Z"
    }
   },
   "source": [
    "# Let us check some important things\n",
    "\n",
    "print(f\"The Residuals Mean is: {residuals.mean().round(3)}\")\n",
    "print(f\"The Residuals Variance is: {residuals.var()}\")"
   ],
   "execution_count": 32,
   "outputs": []
  },
  {
   "cell_type": "code",
   "id": "03ad3975-9340-42df-a8a4-d0f69d16aa00",
   "metadata": {
    "ExecuteTime": {
     "end_time": "2025-04-16T05:43:26.379716Z",
     "start_time": "2025-04-16T05:43:26.372121Z"
    }
   },
   "source": [
    "# Test for Heteroskedasticity (null: homoskedasticity)\n",
    "\n",
    "bp_test = het_breuschpagan(\n",
    "    residuals, \n",
    "    sm.add_constant(ols_df[['WMT', 'SP500']])\n",
    ")\n",
    "\n",
    "labels = ['LM statistic', 'p-value', 'F-statistic', 'F p-value']\n",
    "print(dict(zip(labels, bp_test)))"
   ],
   "execution_count": 33,
   "outputs": []
  },
  {
   "cell_type": "code",
   "id": "7a549f81-9dc6-446c-a31b-1edb2e52a765",
   "metadata": {
    "ExecuteTime": {
     "end_time": "2025-04-16T05:43:53.874526Z",
     "start_time": "2025-04-16T05:43:53.865928Z"
    }
   },
   "source": [
    "# Omega\n",
    "\n",
    "Omega = np.diag(residuals**2)\n",
    "\n",
    "Omega"
   ],
   "execution_count": 35,
   "outputs": []
  },
  {
   "cell_type": "code",
   "id": "66cde0fe-82ea-46cf-a4da-1759bde7cb7a",
   "metadata": {
    "ExecuteTime": {
     "end_time": "2025-04-16T05:45:27.969145Z",
     "start_time": "2025-04-16T05:45:27.955540Z"
    }
   },
   "source": [
    "# The weighted least squares formula\n",
    "\n",
    "display(Math(r\"\\beta_{gls}=(X^⊤WX)^{-1}(X^⊤WY)\"))\n",
    "\n",
    "# In this case\n",
    "\n",
    "display(Math(r\"\\Omega^{-1}=W\"))"
   ],
   "execution_count": 36,
   "outputs": []
  },
  {
   "cell_type": "code",
   "id": "28fa39d0-b960-46c2-8825-0270ab49ffbb",
   "metadata": {
    "ExecuteTime": {
     "end_time": "2025-04-16T05:46:01.076033Z",
     "start_time": "2025-04-16T05:46:00.827127Z"
    }
   },
   "source": [
    "# If we want to replicate it we have to create the matrix\n",
    "\n",
    "# Y Vector\n",
    "Y_Vector = ols_df[\"AMZN\"].to_numpy()\n",
    "\n",
    "# X matrix\n",
    "Information_Matrix = ols_df[['const', 'WMT', 'SP500']].to_numpy()\n",
    "\n",
    "# Weights\n",
    "\n",
    "W = np.linalg.inv(Omega)\n",
    "\n",
    "W.round(4)"
   ],
   "execution_count": 38,
   "outputs": []
  },
  {
   "cell_type": "code",
   "id": "aceee150-c568-4e17-995f-a69115b22bac",
   "metadata": {
    "ExecuteTime": {
     "end_time": "2025-04-16T05:46:13.352624Z",
     "start_time": "2025-04-16T05:46:13.342549Z"
    }
   },
   "source": [
    "# Calculate the Weighted Data\n",
    "\n",
    "Weighted_X = W.dot(Information_Matrix)\n",
    "Weighted_Y = W.dot(Y_Vector)"
   ],
   "execution_count": 39,
   "outputs": []
  },
  {
   "cell_type": "code",
   "id": "67fa5ea0-cb18-4df6-b298-fc5b6cf82d29",
   "metadata": {
    "ExecuteTime": {
     "end_time": "2025-04-16T05:46:18.331059Z",
     "start_time": "2025-04-16T05:46:18.326639Z"
    }
   },
   "source": [
    "# Calculate the components\n",
    "\n",
    "Information_Matrix_T = Information_Matrix.transpose()\n",
    "\n",
    "X_Weighted_Var = Information_Matrix_T.dot(Weighted_X)\n",
    "X_Y_Weighted_Covar = Information_Matrix_T.dot(Weighted_Y)\n",
    "\n",
    "X_Weighted_Var_Inv = np.linalg.inv(X_Weighted_Var)"
   ],
   "execution_count": 40,
   "outputs": []
  },
  {
   "cell_type": "code",
   "id": "b9f09fa0-f1ee-47f9-8ab2-9f039b01d2e0",
   "metadata": {
    "ExecuteTime": {
     "end_time": "2025-04-16T05:46:26.365620Z",
     "start_time": "2025-04-16T05:46:26.360491Z"
    }
   },
   "source": [
    "# The betas\n",
    "\n",
    "betas_gls = X_Weighted_Var_Inv.dot(X_Y_Weighted_Covar)\n",
    "\n",
    "betas_gls.round(4)"
   ],
   "execution_count": 41,
   "outputs": []
  },
  {
   "cell_type": "code",
   "id": "61e0d6f9-4b94-436e-8afe-80f6cff5fe69",
   "metadata": {
    "ExecuteTime": {
     "end_time": "2025-04-16T05:46:56.700414Z",
     "start_time": "2025-04-16T05:46:56.512557Z"
    }
   },
   "source": [
    "# GLS\n",
    "\n",
    "gls_model = sm.GLS(\n",
    "    ols_df['AMZN'], \n",
    "    sm.add_constant(ols_df[['WMT', 'SP500']]),\n",
    "    sigma=Omega\n",
    ")\n",
    "\n",
    "#the results of the model\n",
    "gls_results = gls_model.fit()\n",
    "\n",
    "#here we check the summary\n",
    "print(gls_results.summary())    "
   ],
   "execution_count": 44,
   "outputs": []
  },
  {
   "cell_type": "code",
   "id": "b9ca6c78-b5c3-4521-8b4c-b3599ccc2292",
   "metadata": {
    "ExecuteTime": {
     "end_time": "2025-04-16T05:47:16.205130Z",
     "start_time": "2025-04-16T05:47:16.022591Z"
    }
   },
   "source": [
    "# Check the residuals \n",
    "\n",
    "residuals_gls = gls_results.resid\n",
    "\n",
    "# Create Figure\n",
    "fig, ax1 = plt.subplots(dpi = 300)\n",
    "\n",
    "# Residuals Rate Plot\n",
    "residuals_gls.plot(color = 'blue', ax = ax1)\n",
    "ax1.set_xlabel('Date')\n",
    "ax1.set_ylabel(\n",
    "    'Residuals', \n",
    "    color='blue'\n",
    "    )\n",
    "\n",
    "plt.show()"
   ],
   "execution_count": 45,
   "outputs": []
  },
  {
   "cell_type": "code",
   "id": "42ace7b7-1037-4fe7-8182-7c2712a134a1",
   "metadata": {
    "ExecuteTime": {
     "end_time": "2025-04-16T05:47:20.385681Z",
     "start_time": "2025-04-16T05:47:20.372371Z"
    }
   },
   "source": [
    "# Calculate the Sums of Squares\n",
    "\n",
    "# First the Weighted Mean\n",
    "y_w_mean = np.sum(W.diagonal() * y) / np.sum(W)\n",
    "\n",
    "# The Fitted Values\n",
    "y_hat_gls = gls_results.fittedvalues"
   ],
   "execution_count": 46,
   "outputs": []
  },
  {
   "cell_type": "code",
   "id": "6180c42d-a894-4e6d-b749-08ee44e8ce79",
   "metadata": {
    "ExecuteTime": {
     "end_time": "2025-04-16T05:47:21.001031Z",
     "start_time": "2025-04-16T05:47:20.992177Z"
    }
   },
   "source": [
    "# Calculate the Total Sum of Squares\n",
    "\n",
    "SST_wls = np.sum(W.diagonal() * (y - y_w_mean)**2)\n",
    "\n",
    "SST_wls"
   ],
   "execution_count": 47,
   "outputs": []
  },
  {
   "cell_type": "code",
   "id": "1d22d721-9c0e-429e-b2e4-6ea75174cf6d",
   "metadata": {
    "ExecuteTime": {
     "end_time": "2025-04-16T05:47:22.095829Z",
     "start_time": "2025-04-16T05:47:22.082776Z"
    }
   },
   "source": [
    "# Calculate the Residual Sum of Squares\n",
    "\n",
    "SSR_wls = np.sum(W.diagonal() * (y - y_hat_gls)**2)\n",
    "\n",
    "SSR_wls"
   ],
   "execution_count": 48,
   "outputs": []
  },
  {
   "cell_type": "code",
   "id": "393a4a65-7fa0-4905-8b79-4e1476ea9606",
   "metadata": {
    "ExecuteTime": {
     "end_time": "2025-04-16T05:47:22.990060Z",
     "start_time": "2025-04-16T05:47:22.982505Z"
    }
   },
   "source": [
    "# Calculate the R-Squared\n",
    "\n",
    "R_Squared_GLS = 1 - (SSR_wls/SST_wls)\n",
    "\n",
    "R_Squared_GLS"
   ],
   "execution_count": 49,
   "outputs": []
  },
  {
   "metadata": {
    "ExecuteTime": {
     "end_time": "2025-04-16T05:47:56.333725Z",
     "start_time": "2025-04-16T05:47:56.326423Z"
    }
   },
   "cell_type": "code",
   "source": [
    "# Test for Heteroskedasticity (null: homoskedasticity)\n",
    "\n",
    "bp_test = het_breuschpagan(\n",
    "    residuals_gls, \n",
    "    sm.add_constant(ols_df[['WMT', 'SP500']])\n",
    ")\n",
    "\n",
    "labels = ['LM statistic', 'p-value', 'F-statistic', 'F p-value']\n",
    "print(dict(zip(labels, bp_test)))"
   ],
   "id": "bf59b38edb849e8e",
   "execution_count": 50,
   "outputs": []
  },
  {
   "metadata": {},
   "cell_type": "markdown",
   "source": [
    "Why didn’t we eliminate heteroskedasticity?\n",
    "\n",
    "Even though we applied GLS to correct for heteroskedasticity, it may still persist if the variables in the regression are non-stationary. This is one of the reasons why we use returns instead of prices when modeling financial data — returns tend to be stationary and reduce the presence of structural heteroskedasticity."
   ],
   "id": "2a04e45707c20d1"
  },
  {
   "metadata": {},
   "cell_type": "code",
   "execution_count": null,
   "source": "",
   "id": "5183d40d4ac7ce89",
   "outputs": []
  }
 ],
 "metadata": {
  "kernelspec": {
   "display_name": "Python 3 (ipykernel)",
   "language": "python",
   "name": "python3"
  },
  "language_info": {
   "codemirror_mode": {
    "name": "ipython",
    "version": 3
   },
   "file_extension": ".py",
   "mimetype": "text/x-python",
   "name": "python",
   "nbconvert_exporter": "python",
   "pygments_lexer": "ipython3",
   "version": "3.11.7"
  }
 },
 "nbformat": 4,
 "nbformat_minor": 5
}
