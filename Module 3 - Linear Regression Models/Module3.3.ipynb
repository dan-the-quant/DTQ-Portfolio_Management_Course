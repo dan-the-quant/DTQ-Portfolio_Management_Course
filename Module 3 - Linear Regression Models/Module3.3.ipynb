{
 "cells": [
  {
   "metadata": {},
   "cell_type": "markdown",
   "source": "# Regression Diagnosis #",
   "id": "f8f6b287bbe4b3b4"
  },
  {
   "metadata": {
    "ExecuteTime": {
     "end_time": "2025-04-16T20:02:24.931214Z",
     "start_time": "2025-04-16T20:02:24.926709Z"
    }
   },
   "cell_type": "code",
   "source": [
    "# Import Libraries\n",
    "\n",
    "# Data Management\n",
    "import pandas as pd\n",
    "import numpy as np\n",
    "\n",
    "# Visualization\n",
    "import matplotlib.pyplot as plt\n",
    "\n",
    "# Statistics\n",
    "import statsmodels.api as sm \n",
    "from statsmodels.stats.diagnostic import het_breuschpagan\n",
    "from statsmodels.stats.diagnostic import het_white\n",
    "from statsmodels.stats.diagnostic import het_goldfeldquandt\n",
    "from statsmodels.stats.diagnostic import acorr_breusch_godfrey\n",
    "from statsmodels.stats.diagnostic import linear_reset\n",
    "from statsmodels.stats.stattools import jarque_bera\n",
    "from statsmodels.stats.stattools import durbin_watson\n",
    "from scipy.stats import anderson\n",
    "from scipy.stats import norm\n",
    "\n",
    "# Handle Files\n",
    "import sys\n",
    "import os\n",
    "\n",
    "# Import Local Functions\n",
    "sys.path.append(os.path.abspath(\"../source\"))\n",
    "from functions import get_fred_data"
   ],
   "id": "895c6fcab29cc31f",
   "execution_count": 89,
   "outputs": []
  },
  {
   "metadata": {
    "ExecuteTime": {
     "end_time": "2025-04-16T20:02:24.952559Z",
     "start_time": "2025-04-16T20:02:24.948843Z"
    }
   },
   "cell_type": "code",
   "source": [
    "# key\n",
    "key = '0174cb93931388a2bf305663e4117fd3'"
   ],
   "id": "8a20a901f19a4803",
   "execution_count": 90,
   "outputs": []
  },
  {
   "metadata": {
    "ExecuteTime": {
     "end_time": "2025-04-16T20:02:25.760837Z",
     "start_time": "2025-04-16T20:02:25.004689Z"
    }
   },
   "cell_type": "code",
   "source": [
    "# Data for Y (Memorandum Items: Custody Holdings: Marketable U.S. Treasury Securities: Wednesday Level)\n",
    "y_data = get_fred_data('WMTSECL1', key)\n",
    "\n",
    "# Creating Time Index\n",
    "y_data.index = pd.to_datetime(y_data.index)\n",
    "y_data.name = 'holdings'\n",
    "\n",
    "y_data"
   ],
   "id": "f99265e1f3376daf",
   "execution_count": 91,
   "outputs": []
  },
  {
   "metadata": {
    "ExecuteTime": {
     "end_time": "2025-04-16T20:02:26.665038Z",
     "start_time": "2025-04-16T20:02:25.760837Z"
    }
   },
   "cell_type": "code",
   "source": [
    "# Data for Explanatory Variables (Nominal Broad U.S. Dollar Index)\n",
    "x_data = get_fred_data('DTWEXBGS', key)\n",
    "\n",
    "# Time Index\n",
    "x_data.index = pd.to_datetime(x_data.index)\n",
    "x_data.name = 'dollar_index'\n",
    "\n",
    "x_data"
   ],
   "id": "27d114d537efcebd",
   "execution_count": 92,
   "outputs": []
  },
  {
   "metadata": {
    "ExecuteTime": {
     "end_time": "2025-04-16T20:02:26.676214Z",
     "start_time": "2025-04-16T20:02:26.666681Z"
    }
   },
   "cell_type": "code",
   "source": [
    "# Create the Data for Lineal Regression\n",
    "ols_df = pd.DataFrame({'x': x_data, 'y': y_data})\n",
    "\n",
    "# Eliminate 0s\n",
    "ols_df = ols_df[(ols_df['x'] > 0) & (ols_df['y'] > 0)]\n",
    "\n",
    "# Cut the Sample\n",
    "ols_df = ols_df[\"2018-01-01\":]\n",
    "\n",
    "ols_df"
   ],
   "id": "c13fe4d934d17874",
   "execution_count": 93,
   "outputs": []
  },
  {
   "metadata": {
    "ExecuteTime": {
     "end_time": "2025-04-16T20:02:26.684649Z",
     "start_time": "2025-04-16T20:02:26.676214Z"
    }
   },
   "cell_type": "code",
   "source": [
    "# We use Natural Log to calculate better betas\n",
    "log_ols_df = np.log(ols_df)\n",
    "\n",
    "# Drop NaNs\n",
    "log_ols_df = log_ols_df.dropna()\n",
    "\n",
    "# Set Index as a Date Item\n",
    "log_ols_df.index = pd.to_datetime(log_ols_df.index)\n",
    "\n",
    "log_ols_df"
   ],
   "id": "76b3acb57c3abaa8",
   "execution_count": 94,
   "outputs": []
  },
  {
   "metadata": {
    "ExecuteTime": {
     "end_time": "2025-04-16T20:02:26.695689Z",
     "start_time": "2025-04-16T20:02:26.684649Z"
    }
   },
   "cell_type": "code",
   "source": [
    "#Model specification\n",
    "X_Matrix = sm.add_constant(log_ols_df[['x']])\n",
    "X_Matrix = X_Matrix.values\n",
    "Y_Vector = log_ols_df['y'].values\n",
    "\n",
    "model = sm.OLS(\n",
    "    Y_Vector, \n",
    "    X_Matrix\n",
    "    )   \n",
    "     \n",
    "#the results of the model\n",
    "results = model.fit() \n",
    "\n",
    "#here we check the summary\n",
    "print(results.summary())     "
   ],
   "id": "be149e6e0cb8fdd8",
   "execution_count": 95,
   "outputs": []
  },
  {
   "metadata": {
    "ExecuteTime": {
     "end_time": "2025-04-16T20:02:26.702109Z",
     "start_time": "2025-04-16T20:02:26.695689Z"
    }
   },
   "cell_type": "code",
   "source": [
    "# Create the Residuals Series\n",
    "residuals = results.resid\n",
    "\n",
    "residuals = pd.Series(residuals, index = log_ols_df.index)\n",
    "residuals.name = 'residuals'\n",
    "\n",
    "residuals"
   ],
   "id": "f54de5dceac6a582",
   "execution_count": 96,
   "outputs": []
  },
  {
   "metadata": {
    "ExecuteTime": {
     "end_time": "2025-04-16T20:02:26.707954Z",
     "start_time": "2025-04-16T20:02:26.702109Z"
    }
   },
   "cell_type": "code",
   "source": [
    "# Breusch Pagan Test for Heteroskedasticity (null: homoskedasticity)\n",
    "\n",
    "bp_test = het_breuschpagan(\n",
    "    residuals, \n",
    "    sm.add_constant(log_ols_df['x'])\n",
    ")\n",
    "\n",
    "labels = ['LM statistic', 'p-value', 'F-statistic', 'F p-value']\n",
    "print(dict(zip(labels, bp_test)))"
   ],
   "id": "866634259f71df49",
   "execution_count": 97,
   "outputs": []
  },
  {
   "metadata": {
    "ExecuteTime": {
     "end_time": "2025-04-16T20:02:26.714063Z",
     "start_time": "2025-04-16T20:02:26.707954Z"
    }
   },
   "cell_type": "code",
   "source": [
    "# White Test for Heteroskedasticity (null: homoskedasticity)\n",
    "\n",
    "white_test = het_white(\n",
    "    residuals, \n",
    "    sm.add_constant(log_ols_df['x'])\n",
    ")\n",
    "\n",
    "# Results\n",
    "labels = ['Test Statistic', 'Test p-value', 'F-Statistic', 'F-Test p-value']\n",
    "for name, value in zip(labels, white_test):\n",
    "    print(f'{name}: {value:.4f}')"
   ],
   "id": "b351bf32f312f359",
   "execution_count": 98,
   "outputs": []
  },
  {
   "metadata": {
    "ExecuteTime": {
     "end_time": "2025-04-16T20:02:26.719520Z",
     "start_time": "2025-04-16T20:02:26.714063Z"
    }
   },
   "cell_type": "code",
   "source": [
    "# Goldfeld-Quandt Test for Heteroskedasticity (null: homoskedasticity)\n",
    "\n",
    "gq_test = het_goldfeldquandt(\n",
    "    residuals, \n",
    "    sm.add_constant(log_ols_df['x'])\n",
    ")\n",
    "\n",
    "# Results\n",
    "labels = ['F statistic', 'p-value', 'Alternative hypothesis']\n",
    "for name, value in zip(labels, gq_test):\n",
    "    print(f'{name}: {value}')"
   ],
   "id": "e8b945cc521c1053",
   "execution_count": 99,
   "outputs": []
  },
  {
   "metadata": {
    "ExecuteTime": {
     "end_time": "2025-04-16T20:02:26.724725Z",
     "start_time": "2025-04-16T20:02:26.719520Z"
    }
   },
   "cell_type": "code",
   "source": [
    "# Jarque Bera Test for Normality of Residuals (null: Normality)\n",
    "\n",
    "jb_test = jarque_bera(residuals)\n",
    "\n",
    "# Results\n",
    "labels = ['JB statistic', 'p-value', 'skewness', 'kurtosis']\n",
    "for name, value in zip(labels, jb_test):\n",
    "    print(f'{name}: {value:.4f}')"
   ],
   "id": "8a82c4614168d47a",
   "execution_count": 100,
   "outputs": []
  },
  {
   "metadata": {
    "ExecuteTime": {
     "end_time": "2025-04-16T20:02:26.729939Z",
     "start_time": "2025-04-16T20:02:26.724725Z"
    }
   },
   "cell_type": "code",
   "source": [
    "# Anderson Darling Test for Normality of Residuals (null: Normality)\n",
    "\n",
    "ad_test = anderson(residuals, dist='norm')\n",
    "\n",
    "# Results\n",
    "print(f\"Statistic: {ad_test.statistic:.4f}\")\n",
    "print(\"Critical values:\", ad_test.critical_values)\n",
    "print(\"Significance levels:\", ad_test.significance_level)"
   ],
   "id": "ba425f2beff309b7",
   "execution_count": 101,
   "outputs": []
  },
  {
   "metadata": {
    "ExecuteTime": {
     "end_time": "2025-04-16T20:02:26.856215Z",
     "start_time": "2025-04-16T20:02:26.729939Z"
    }
   },
   "cell_type": "code",
   "source": [
    "# Plot the Residuals Histogram\n",
    "\n",
    "mu = residuals.mean()\n",
    "sigma = residuals.std()\n",
    "median = residuals.median()\n",
    "\n",
    "# Create Histogram\n",
    "plt.figure(figsize=(10, 6))\n",
    "plt.hist(residuals, bins=30, density=True, color='orange', alpha=0.5, edgecolor='black', label='Residuals')\n",
    "\n",
    "# Generate the Values of the Normal Distribution\n",
    "x = np.linspace(residuals.min(), residuals.max(), 100)\n",
    "y = norm.pdf(x, mu, sigma)\n",
    "\n",
    "# Graph the Real Normal Distribution\n",
    "plt.plot(x, y, color='black', linestyle='solid', linewidth=2, label='Normal Distribution')\n",
    "\n",
    "# Reference Lines\n",
    "plt.axvline(x=mu, color='black', linestyle='dashed', label='Mean')\n",
    "plt.axvline(x=median, color='red', linestyle='dashed', label='Median')\n",
    "plt.axvline(x=mu + sigma, color='grey', linestyle='dashed')\n",
    "plt.axvline(x=mu - sigma, color='grey', linestyle='dashed')\n",
    "\n",
    "# Config\n",
    "plt.title('Residuals Histogram with Normal Distribution')\n",
    "plt.xlabel('Residuals')\n",
    "plt.ylabel('Density')\n",
    "\n",
    "# Legends and Grid\n",
    "plt.legend()\n",
    "plt.grid(True)\n",
    "\n",
    "# Show\n",
    "plt.show()"
   ],
   "id": "9b1fc018e434d6e2",
   "execution_count": 102,
   "outputs": []
  },
  {
   "metadata": {
    "ExecuteTime": {
     "end_time": "2025-04-16T20:02:26.859931Z",
     "start_time": "2025-04-16T20:02:26.856215Z"
    }
   },
   "cell_type": "code",
   "source": [
    "# Durbin Watson Test for First-Order Autocorrelation\n",
    "\n",
    "# Calculate the Statistic\n",
    "dw = durbin_watson(residuals)\n",
    "\n",
    "print(f'Durbin-Watson statistic: {dw:.4f}')"
   ],
   "id": "d17e33e085183dbc",
   "execution_count": 103,
   "outputs": []
  },
  {
   "metadata": {
    "ExecuteTime": {
     "end_time": "2025-04-16T20:02:26.867858Z",
     "start_time": "2025-04-16T20:02:26.859931Z"
    }
   },
   "cell_type": "code",
   "source": [
    "# Breusch-Godfrey Test for Autocorrelation (null: No Autocorrelation)\n",
    "bg_test = acorr_breusch_godfrey(results, nlags=4) # we can adjust the lags\n",
    "\n",
    "# Results\n",
    "labels = ['LM Statistic', 'LM p-value', 'F Statistic', 'F p-value']\n",
    "for name, value in zip(labels, bg_test):\n",
    "    print(f'{name}: {value:.4f}')"
   ],
   "id": "19074a5f93ac1fc5",
   "execution_count": 104,
   "outputs": []
  },
  {
   "metadata": {
    "ExecuteTime": {
     "end_time": "2025-04-16T20:02:27.291445Z",
     "start_time": "2025-04-16T20:02:26.867858Z"
    }
   },
   "cell_type": "code",
   "source": [
    "# Plot Residuals vs Fitted Values\n",
    "\n",
    "y_fit = results.fittedvalues\n",
    "y_fit = pd.DataFrame(y_fit, index=log_ols_df.index)\n",
    "y_fit.name = 'fitted_values'\n",
    "\n",
    "fig, ax1 = plt.subplots(dpi = 600)\n",
    "\n",
    "plt.scatter(residuals, y_fit)\n",
    "plt.ylabel('Fitted Values')\n",
    "plt.xlabel('Residuals')\n",
    "\n",
    "plt.show()"
   ],
   "id": "2a343d6b2115317b",
   "execution_count": 105,
   "outputs": []
  },
  {
   "metadata": {
    "ExecuteTime": {
     "end_time": "2025-04-16T20:05:14.138462Z",
     "start_time": "2025-04-16T20:05:14.131264Z"
    }
   },
   "cell_type": "code",
   "source": [
    "# Ramsey Test for Linearity (null: lineal model)\n",
    "\n",
    "# Statistic\n",
    "reset_test = linear_reset(results, power=2, use_f=True)\n",
    "\n",
    "print(f\"RESET F-statistic: {reset_test.fvalue:.4f}\")\n",
    "print(f\"p-value: {reset_test.pvalue:.4f}\")"
   ],
   "id": "be2cbef4a86d3b54",
   "execution_count": 113,
   "outputs": []
  },
  {
   "metadata": {
    "ExecuteTime": {
     "end_time": "2025-04-16T20:05:15.180043Z",
     "start_time": "2025-04-16T20:05:15.164577Z"
    }
   },
   "cell_type": "code",
   "source": [
    "# Ramsey Test for Linearity (null: lineal model)\n",
    "\n",
    "# Statistic\n",
    "reset_test = linear_reset(results, power=3, use_f=True)\n",
    "\n",
    "print(f\"RESET F-statistic: {reset_test.fvalue:.4f}\")\n",
    "print(f\"p-value: {reset_test.pvalue:.4f}\")"
   ],
   "id": "f24974a017030b1f",
   "execution_count": 114,
   "outputs": []
  },
  {
   "metadata": {},
   "cell_type": "code",
   "execution_count": null,
   "source": "",
   "id": "6bc71fd149c9ca41",
   "outputs": []
  }
 ],
 "metadata": {
  "kernelspec": {
   "display_name": "Python 3",
   "language": "python",
   "name": "python3"
  },
  "language_info": {
   "codemirror_mode": {
    "name": "ipython",
    "version": 2
   },
   "file_extension": ".py",
   "mimetype": "text/x-python",
   "name": "python",
   "nbconvert_exporter": "python",
   "pygments_lexer": "ipython2",
   "version": "2.7.6"
  }
 },
 "nbformat": 4,
 "nbformat_minor": 5
}
