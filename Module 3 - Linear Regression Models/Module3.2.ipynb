{
 "cells": [
  {
   "cell_type": "markdown",
   "id": "131517a1-31ad-4ecb-9e2a-7f0ca31092e3",
   "metadata": {},
   "source": [
    "# Multiple Linear Regression Model #\n",
    "\n",
    "### Time Series Regression Explaining Stock's Returns ###"
   ]
  },
  {
   "cell_type": "code",
   "id": "2e9a19c4-d098-4a1e-8b09-24ea27c5810c",
   "metadata": {
    "ExecuteTime": {
     "end_time": "2025-04-16T04:36:14.792740Z",
     "start_time": "2025-04-16T04:36:14.789783Z"
    }
   },
   "source": [
    "# Import Libraries\n",
    "\n",
    "# Data Management\n",
    "import pandas as pd\n",
    "import numpy as np\n",
    "\n",
    "# Visuals\n",
    "import seaborn as sns\n",
    "import matplotlib.pyplot as plt\n",
    "\n",
    "# Statistics\n",
    "import statsmodels.api as sm \n",
    "from statsmodels.stats.outliers_influence import variance_inflation_factor\n",
    "from scipy.stats import t\n",
    "\n",
    "# Pretty Notation\n",
    "from IPython.display import display, Math"
   ],
   "execution_count": 145,
   "outputs": []
  },
  {
   "cell_type": "code",
   "id": "263d8c7c-b4ef-435e-9b7d-6001aec2de40",
   "metadata": {
    "ExecuteTime": {
     "end_time": "2025-04-16T04:36:14.910817Z",
     "start_time": "2025-04-16T04:36:14.907526Z"
    }
   },
   "source": [
    "# The Matrix Form of the OLS Linear Regression Model\n",
    "\n",
    "display(Math(r\"Y = X\\beta+\\varepsilon\"))"
   ],
   "execution_count": 146,
   "outputs": []
  },
  {
   "cell_type": "code",
   "id": "44477eb6-a89e-4ef7-ab75-a9ae2f55fd95",
   "metadata": {
    "ExecuteTime": {
     "end_time": "2025-04-16T04:36:15.023795Z",
     "start_time": "2025-04-16T04:36:15.012596Z"
    }
   },
   "source": [
    "# Data S&P500\n",
    "\n",
    "sp500 = pd.read_csv(rf\"..\\additional_data\\sp500.csv\")\n",
    "sp500.set_index('Date', inplace = True)\n",
    "sp500.index = pd.to_datetime(sp500.index)\n",
    "sp500.dropna(inplace = True)\n",
    "\n",
    "# Cut the sample\n",
    "sp500 = sp500.loc['2015-01-01':]\n",
    "\n",
    "sp500"
   ],
   "execution_count": 147,
   "outputs": []
  },
  {
   "cell_type": "code",
   "id": "81759c72-b8ab-4293-ac90-d3fece67baeb",
   "metadata": {
    "ExecuteTime": {
     "end_time": "2025-04-16T04:36:15.112356Z",
     "start_time": "2025-04-16T04:36:15.066516Z"
    }
   },
   "source": [
    "# Call the stock's data\n",
    "\n",
    "data_stock = pd.read_csv(rf\"..\\stocks\\AMZN.csv\")\n",
    "data_stock.set_index('Date', inplace = True)\n",
    "data_stock.index = pd.to_datetime(data_stock.index)\n",
    "data_stock.dropna(inplace = True)\n",
    "\n",
    "# Cut the sample\n",
    "data_stock = data_stock.loc['2015-01-01':]\n",
    "\n",
    "data_stock"
   ],
   "execution_count": 148,
   "outputs": []
  },
  {
   "cell_type": "code",
   "id": "1dff8388-fb7a-4f5e-a681-eb5f0cd17a60",
   "metadata": {
    "ExecuteTime": {
     "end_time": "2025-04-16T04:36:15.145966Z",
     "start_time": "2025-04-16T04:36:15.133517Z"
    }
   },
   "source": [
    "# Create the Data we will need\n",
    "\n",
    "data_regression = pd.DataFrame(index=data_stock.index)\n",
    "\n",
    "# Now safely add new columns\n",
    "data_regression['returns'] = data_stock['Adjusted_close'].pct_change(1).mul(100)\n",
    "data_regression['mkt_returns'] = sp500.pct_change(1).mul(100)\n",
    "data_regression['log_mktcap'] = np.log(data_stock['Company Market Cap'])\n",
    "data_regression['annualized_volat'] = data_regression['returns'].rolling(window=252).std() * np.sqrt(252)\n",
    "data_regression['ptb'] = data_stock['Price_to_Book']\n",
    "\n",
    "# Drop nans\n",
    "data_regression.dropna(inplace = True)\n",
    "\n",
    "data_regression"
   ],
   "execution_count": 149,
   "outputs": []
  },
  {
   "cell_type": "code",
   "id": "d369072f-66cf-49ba-8c71-541401e751a1",
   "metadata": {
    "ExecuteTime": {
     "end_time": "2025-04-16T04:36:17.567334Z",
     "start_time": "2025-04-16T04:36:15.253529Z"
    }
   },
   "source": [
    "fig, axs = plt.subplots(2, 2, figsize=(12, 8), dpi=600, sharex=True)  # 2 filas, 2 columnas\n",
    "\n",
    "# First Graph\n",
    "data_regression['returns'].cumsum().plot(ax=axs[0, 0], color='blue', label='Stock Price')\n",
    "axs[0, 0].set_title('Price')\n",
    "axs[0, 0].legend()\n",
    "\n",
    "# Second Graph\n",
    "data_regression['log_mktcap'].plot(ax=axs[0, 1], color='orange', label='Log Market Cap')\n",
    "axs[0, 1].set_title('Log Market Cap')\n",
    "axs[0, 1].legend()\n",
    "\n",
    "# Third Graph\n",
    "data_regression['annualized_volat'].plot(ax=axs[1, 0], color='green', label='Anualized Rolling Volatility')\n",
    "axs[1, 0].set_title('Volatility')\n",
    "axs[1, 0].legend()\n",
    "\n",
    "# Fourth\n",
    "data_regression['ptb'].plot(ax=axs[1, 1], color='red', label='Price to Book')\n",
    "axs[1, 1].set_title('Price to Book')\n",
    "axs[1, 1].legend()\n",
    "\n",
    "# Show\n",
    "plt.tight_layout()\n",
    "plt.show()"
   ],
   "execution_count": 150,
   "outputs": []
  },
  {
   "cell_type": "code",
   "id": "1850136a-8745-4d0a-9f68-117ae948378e",
   "metadata": {
    "ExecuteTime": {
     "end_time": "2025-04-16T04:36:17.579900Z",
     "start_time": "2025-04-16T04:36:17.569370Z"
    }
   },
   "source": [
    "# Correlation Matrix\n",
    "\n",
    "data_regression.corr()"
   ],
   "execution_count": 151,
   "outputs": []
  },
  {
   "cell_type": "code",
   "id": "4e78d9db-c6b8-4402-85df-ddd3e074ba5d",
   "metadata": {
    "ExecuteTime": {
     "end_time": "2025-04-16T04:36:19.749179Z",
     "start_time": "2025-04-16T04:36:17.580927Z"
    }
   },
   "source": [
    "\n",
    "# Setup subplots\n",
    "fig, axs = plt.subplots(2, 2, figsize=(12, 8), dpi=600)\n",
    "\n",
    "# Variables to plot against 'returns'\n",
    "variables = ['mkt_returns', 'log_mktcap', 'annualized_volat', 'ptb']\n",
    "titles = ['Market Returns', 'Log Market Cap', 'Annualized Volatility', 'Price to Book']\n",
    "colors = ['orange', 'green', 'red', 'purple']\n",
    "\n",
    "# Create scatter plots\n",
    "for i, (var, title, color) in enumerate(zip(variables, titles, colors)):\n",
    "    row, col = divmod(i, 2)\n",
    "    axs[row, col].scatter(data_regression[var], data_regression['returns'], alpha=0.5, color=color)\n",
    "    axs[row, col].set_title(f'Returns vs {title}')\n",
    "    axs[row, col].set_xlabel(title)\n",
    "    axs[row, col].set_ylabel('Returns')\n",
    "\n",
    "# Layout and show\n",
    "plt.tight_layout()\n",
    "plt.show()"
   ],
   "execution_count": 152,
   "outputs": []
  },
  {
   "cell_type": "code",
   "id": "54f08d6b-d47e-49ec-8a86-700b8b7db683",
   "metadata": {
    "ExecuteTime": {
     "end_time": "2025-04-16T04:36:19.761157Z",
     "start_time": "2025-04-16T04:36:19.750736Z"
    }
   },
   "source": [
    "filtered_data = data_regression[(np.abs(data_regression - data_regression.mean()) <= 3 * data_regression.std())]\n",
    "\n",
    "filtered_data.dropna(inplace = True)\n",
    "\n",
    "filtered_data"
   ],
   "execution_count": 153,
   "outputs": []
  },
  {
   "cell_type": "code",
   "id": "3dd0b7d3-56ab-40a0-be86-db9cd3d1aad4",
   "metadata": {},
   "source": [
    "# The Correlation Matrix\n",
    "\n",
    "filtered_data.corr()"
   ],
   "execution_count": 154,
   "outputs": []
  },
  {
   "cell_type": "code",
   "id": "80d5efb9-c54b-4c8f-88f6-0ba5a0140516",
   "metadata": {},
   "source": [
    "# Create the Y Vector\n",
    "\n",
    "Y_Vector = filtered_data[\"returns\"]\n",
    "\n",
    "Y_Vector"
   ],
   "execution_count": 155,
   "outputs": []
  },
  {
   "cell_type": "code",
   "id": "437b3a7a-577c-4d74-beff-93e0cce80dca",
   "metadata": {
    "ExecuteTime": {
     "end_time": "2025-04-16T04:36:19.787509Z",
     "start_time": "2025-04-16T04:36:19.775912Z"
    }
   },
   "source": [
    "# Create the Information Matrix\n",
    "# Remember to add a constant\n",
    "filtered_data['squared_volat'] = filtered_data['annualized_volat'].mul(filtered_data['annualized_volat'])\n",
    "\n",
    "Information_Matrix = filtered_data.copy().drop('returns', axis=1)\n",
    "Information_Matrix = sm.add_constant(Information_Matrix)\n",
    "\n",
    "Information_Matrix"
   ],
   "execution_count": 156,
   "outputs": []
  },
  {
   "cell_type": "code",
   "id": "957cca10-20d3-457b-bf7e-7b5369de7fa2",
   "metadata": {
    "ExecuteTime": {
     "end_time": "2025-04-16T04:36:19.792723Z",
     "start_time": "2025-04-16T04:36:19.788591Z"
    }
   },
   "source": [
    "# For estimating the coefficients with the OLS we need to assess the non-perfect collinearity condition with the matrix rank\n",
    "\n",
    "Rank = np.linalg.matrix_rank(Information_Matrix)\n",
    "\n",
    "# Since we are estimating four betas, the rank must be the number of columns in the Information Matrix\n",
    "\n",
    "if Rank == 6:\n",
    "    print(f\"Matrix Rank is {Rank}; there is no evidence of Perfect Multicollinearity.\")\n",
    "else:\n",
    "    print(f\"Matrix Rank is {Rank}; there is evidence of Perfect Multicollinearity between two or more variables.\")"
   ],
   "execution_count": 157,
   "outputs": []
  },
  {
   "cell_type": "code",
   "id": "03e090d1-e611-45cc-bf2a-c2e226b48203",
   "metadata": {
    "ExecuteTime": {
     "end_time": "2025-04-16T04:36:19.797178Z",
     "start_time": "2025-04-16T04:36:19.793736Z"
    }
   },
   "source": [
    "# The beta calculation in the Matrix Form\n",
    "\n",
    "display(Math(r\"\\beta=(X^⊤X)^{-1}(X^⊤Y)\"))\n",
    "\n",
    "# The vector of betas is a kx1 vector containing the coefficients of the regression model, where k is the number of parameters to estimate"
   ],
   "execution_count": 158,
   "outputs": []
  },
  {
   "cell_type": "code",
   "id": "9ce69794-3493-4bac-b175-74be52e57dd4",
   "metadata": {
    "ExecuteTime": {
     "end_time": "2025-04-16T04:36:19.810263Z",
     "start_time": "2025-04-16T04:36:19.798200Z"
    }
   },
   "source": [
    "# Transpose of the Information Matrix\n",
    "\n",
    "Information_Matrix_T = Information_Matrix.transpose()\n",
    "\n",
    "Information_Matrix_T"
   ],
   "execution_count": 159,
   "outputs": []
  },
  {
   "cell_type": "code",
   "id": "5094677c-6516-46c7-a663-8c599ce2548a",
   "metadata": {
    "ExecuteTime": {
     "end_time": "2025-04-16T04:36:19.818318Z",
     "start_time": "2025-04-16T04:36:19.811291Z"
    }
   },
   "source": [
    "# Now we have to calculate the (X^⊤X)^{-1}, first the square of the Information Matrix\n",
    "\n",
    "Information_Matrix_Square = Information_Matrix_T.dot(Information_Matrix)\n",
    "\n",
    "# We could also use the command Information_Matrix_T @ Information_Matrix\n",
    "\n",
    "Information_Matrix_Square"
   ],
   "execution_count": 160,
   "outputs": []
  },
  {
   "cell_type": "code",
   "id": "344fa411-1897-49c6-be6b-1be512a32f1e",
   "metadata": {
    "ExecuteTime": {
     "end_time": "2025-04-16T04:36:19.822878Z",
     "start_time": "2025-04-16T04:36:19.818318Z"
    }
   },
   "source": [
    "# The reason we needed to know the rank of the information matrix is because, only full rank matrix can be invertible\n",
    "# Then we can calculate the Matrix Determinant, if it is different from zero, we can calculate the OLS coefficients\n",
    "\n",
    "Information_Matrix_Square_Determinant = np.linalg.det(Information_Matrix_Square)\n",
    "\n",
    "if Information_Matrix_Square_Determinant != 0:\n",
    "    print(f\"The Determinant of the Squared Information Matrix is {Information_Matrix_Square_Determinant} and different from zero\")\n",
    "else:\n",
    "    print(\"Matrix NOT invertible\")"
   ],
   "execution_count": 161,
   "outputs": []
  },
  {
   "cell_type": "code",
   "id": "e96d523d-d6e2-4de0-bda9-2bb086af598b",
   "metadata": {
    "ExecuteTime": {
     "end_time": "2025-04-16T04:36:19.827420Z",
     "start_time": "2025-04-16T04:36:19.823391Z"
    }
   },
   "source": [
    "# Now we have to obtain the Inverse Matrix\n",
    "\n",
    "X_Variance_Matrix_Inverse = np.linalg.inv(Information_Matrix_Square)\n",
    "\n",
    "X_Variance_Matrix_Inverse"
   ],
   "execution_count": 162,
   "outputs": []
  },
  {
   "cell_type": "code",
   "id": "ef8bcfec-c27a-4cc5-a96b-e76c9bc1355e",
   "metadata": {
    "ExecuteTime": {
     "end_time": "2025-04-16T04:36:19.835543Z",
     "start_time": "2025-04-16T04:36:19.830525Z"
    }
   },
   "source": [
    "# Now we have to obtain (X^⊤Y)\n",
    "\n",
    "Y_Covariance_X = Information_Matrix_T.dot(Y_Vector)\n",
    "\n",
    "Y_Covariance_X"
   ],
   "execution_count": 163,
   "outputs": []
  },
  {
   "cell_type": "code",
   "id": "d924de0c-b0c1-4837-b533-ea97d6b91b6f",
   "metadata": {
    "ExecuteTime": {
     "end_time": "2025-04-16T04:36:19.841138Z",
     "start_time": "2025-04-16T04:36:19.836122Z"
    }
   },
   "source": [
    "# Now we can calculate the Betas\n",
    "\n",
    "Beta = X_Variance_Matrix_Inverse.dot(Y_Covariance_X)\n",
    "\n",
    "Beta_DF = pd.DataFrame(Beta, index = Information_Matrix.columns)\n",
    "Beta_DF"
   ],
   "execution_count": 164,
   "outputs": []
  },
  {
   "cell_type": "code",
   "id": "97af9aef-8e07-464d-bf3e-92d284cf6c59",
   "metadata": {
    "ExecuteTime": {
     "end_time": "2025-04-16T04:36:19.846245Z",
     "start_time": "2025-04-16T04:36:19.841138Z"
    }
   },
   "source": [
    "# Now we can obtain the fitted values\n",
    "\n",
    "Y_Hat = Information_Matrix.dot(Beta)\n",
    "\n",
    "Y_Hat"
   ],
   "execution_count": 165,
   "outputs": []
  },
  {
   "cell_type": "code",
   "id": "73ed91a4-ec56-4fd4-9779-2d37a8c3c2f6",
   "metadata": {
    "ExecuteTime": {
     "end_time": "2025-04-16T04:36:20.384898Z",
     "start_time": "2025-04-16T04:36:19.847255Z"
    }
   },
   "source": [
    "fig, ax1 = plt.subplots(dpi = 600)\n",
    "\n",
    "filtered_data['expected_returns'] = Y_Hat\n",
    "\n",
    "filtered_data['returns'].cumsum().plot(label = 'Observed')\n",
    "filtered_data['expected_returns'].cumsum().plot(label = 'Fitted')\n",
    "plt.legend()\n",
    "plt.title('Observed vs Fitted')\n",
    "\n",
    "plt.show()"
   ],
   "execution_count": 166,
   "outputs": []
  },
  {
   "cell_type": "code",
   "id": "9fc929b1-6fcd-4f59-84f5-8d16d3383a90",
   "metadata": {
    "ExecuteTime": {
     "end_time": "2025-04-16T04:36:20.397018Z",
     "start_time": "2025-04-16T04:36:20.386218Z"
    }
   },
   "source": [
    "# We can obtain the Hat Matrix which is a matrix used to transform the real values into the fitted values\n",
    "\n",
    "Some_Matrix = Information_Matrix.dot(X_Variance_Matrix_Inverse)\n",
    "Hat_Matrix = Some_Matrix.to_numpy() @ Information_Matrix_T.to_numpy()\n",
    "\n",
    "Hat_Matrix"
   ],
   "execution_count": 167,
   "outputs": []
  },
  {
   "cell_type": "code",
   "id": "880c4eb6-a0af-497f-a25e-0f13977a3a66",
   "metadata": {
    "ExecuteTime": {
     "end_time": "2025-04-16T04:36:20.401757Z",
     "start_time": "2025-04-16T04:36:20.398037Z"
    }
   },
   "source": [
    "print(Information_Matrix.shape)\n",
    "print(X_Variance_Matrix_Inverse.shape)\n",
    "print(Some_Matrix.shape)\n",
    "print(Information_Matrix_T.shape)"
   ],
   "execution_count": 168,
   "outputs": []
  },
  {
   "cell_type": "code",
   "id": "29027a80-7b9b-4b87-b7be-6fdf45c32dd6",
   "metadata": {
    "ExecuteTime": {
     "end_time": "2025-04-16T04:36:20.408575Z",
     "start_time": "2025-04-16T04:36:20.402766Z"
    }
   },
   "source": [
    "# Let us check if this is true\n",
    "Y_Hat_2 = Hat_Matrix.dot(Y_Vector)\n",
    "\n",
    "Y_Hat_2"
   ],
   "execution_count": 169,
   "outputs": []
  },
  {
   "cell_type": "code",
   "id": "01202208-2ae1-4344-a1d9-2a871039942e",
   "metadata": {
    "ExecuteTime": {
     "end_time": "2025-04-16T04:36:20.482452Z",
     "start_time": "2025-04-16T04:36:20.409589Z"
    }
   },
   "source": [
    "# Hat Matrix is Symmetric and Idempotent\n",
    "\n",
    "Hat_Matrix_Square = (Hat_Matrix.transpose()).dot(Hat_Matrix)\n",
    "\n",
    "if Hat_Matrix.all() == Hat_Matrix_Square.all():\n",
    "    print(\"It is indeed idempotent\")\n",
    "else:\n",
    "    print(\"Wrong!\")"
   ],
   "execution_count": 170,
   "outputs": []
  },
  {
   "cell_type": "code",
   "id": "b69d4632-192f-447f-b1b5-521170a58c95",
   "metadata": {
    "ExecuteTime": {
     "end_time": "2025-04-16T04:36:20.512334Z",
     "start_time": "2025-04-16T04:36:20.483463Z"
    }
   },
   "source": [
    "# We can calculate the residuals using the Hat Matrix\n",
    "\n",
    "Identity_Matrix = np.identity(len(Y_Vector))\n",
    "Residuals_Vector = (Identity_Matrix - Hat_Matrix).dot(Y_Vector)\n",
    "\n",
    "print(f\"The Residuals Mean is: {Residuals_Vector.mean().round(3)}\")\n",
    "print(f\"The Residuals Variance is: {Residuals_Vector.var()}\")"
   ],
   "execution_count": 171,
   "outputs": []
  },
  {
   "metadata": {
    "ExecuteTime": {
     "end_time": "2025-04-16T04:36:20.523661Z",
     "start_time": "2025-04-16T04:36:20.513347Z"
    }
   },
   "cell_type": "code",
   "source": [
    "# Residual Returns\n",
    "filtered_data['residuals'] = Residuals_Vector\n",
    "\n",
    "filtered_data"
   ],
   "id": "e504e2e97ffd0154",
   "execution_count": 172,
   "outputs": []
  },
  {
   "metadata": {
    "ExecuteTime": {
     "end_time": "2025-04-16T04:36:21.058065Z",
     "start_time": "2025-04-16T04:36:20.524672Z"
    }
   },
   "cell_type": "code",
   "source": [
    "# Plot\n",
    "fig, ax1 = plt.subplots(dpi = 600)\n",
    "filtered_data['residuals'].cumsum().plot()\n",
    "plt.title('Residual Returns Time Series')\n",
    "plt.show()"
   ],
   "id": "80b8e13b-3147-4eaf-8b00-f6fcb807ae56",
   "execution_count": 173,
   "outputs": []
  },
  {
   "cell_type": "code",
   "id": "48ced054-37a6-465c-8c91-1d6111fcc231",
   "metadata": {
    "ExecuteTime": {
     "end_time": "2025-04-16T04:36:21.064117Z",
     "start_time": "2025-04-16T04:36:21.059603Z"
    }
   },
   "source": [
    "# The OLS Assumptions establish that the covariates and the residuals must be uncorrelated\n",
    "\n",
    "Intercorrelation_Vector = Information_Matrix_T.dot(Residuals_Vector)\n",
    "\n",
    "print(Intercorrelation_Vector.round(5))"
   ],
   "execution_count": 174,
   "outputs": []
  },
  {
   "cell_type": "code",
   "id": "c400bd35-5b00-454b-b929-fa7e9baf8caf",
   "metadata": {
    "ExecuteTime": {
     "end_time": "2025-04-16T04:36:21.070770Z",
     "start_time": "2025-04-16T04:36:21.065129Z"
    }
   },
   "source": [
    "# We can use this to calculate the Bias of the Beta coefficients\n",
    "\n",
    "display(Math(r\"S=(X^⊤X)^{-1}(X^⊤\\varepsilon)\"))\n",
    "\n",
    "Bias = X_Variance_Matrix_Inverse.dot(Intercorrelation_Vector)\n",
    "\n",
    "print(\"\"\"\n",
    "Biases are very close to zero.\n",
    "\"\"\")\n",
    "print(Bias)"
   ],
   "execution_count": 175,
   "outputs": []
  },
  {
   "cell_type": "code",
   "id": "ed7d44e4-7f09-411e-897c-037615470045",
   "metadata": {
    "ExecuteTime": {
     "end_time": "2025-04-16T04:36:21.081815Z",
     "start_time": "2025-04-16T04:36:21.071277Z"
    }
   },
   "source": [
    "# Now we want to calculate the sum of squares\n",
    "\n",
    "display(Math(r\"RSS=\\varepsilon^⊤\\varepsilon=Y^⊤Y-\\beta^⊤X^⊤Y\"))\n",
    "display(Math(r\"ESS=\\beta^⊤X^⊤Y-\\bar{Y}^2\"))\n",
    "display(Math(r\"TSS=Y^⊤Y-\\bar{Y}^2\"))"
   ],
   "execution_count": 176,
   "outputs": []
  },
  {
   "cell_type": "code",
   "id": "9b11334f-0f60-4f9c-a0fe-247a6ec1f9dd",
   "metadata": {
    "ExecuteTime": {
     "end_time": "2025-04-16T04:36:21.087540Z",
     "start_time": "2025-04-16T04:36:21.082666Z"
    }
   },
   "source": [
    "RSS = (Residuals_Vector.transpose()).dot(Residuals_Vector)\n",
    "ESS = (Beta.transpose()).dot(Y_Covariance_X) - (sum(Y_Vector)**2)/len(Y_Vector)\n",
    "TSS = (Y_Vector.transpose()).dot(Y_Vector) - (sum(Y_Vector)**2)/len(Y_Vector)\n",
    "\n",
    "print(f\"The Residuals Sum of Squares is: {RSS}\")\n",
    "print(f\"The Estimation Sum of Squares is: {ESS}\")\n",
    "print(f\"The Total Sum of Squares is: {TSS}\")"
   ],
   "execution_count": 177,
   "outputs": []
  },
  {
   "cell_type": "code",
   "id": "3d37126d-0ac4-418e-984d-7362e6c14067",
   "metadata": {
    "ExecuteTime": {
     "end_time": "2025-04-16T04:36:21.092275Z",
     "start_time": "2025-04-16T04:36:21.088548Z"
    }
   },
   "source": [
    "# We can calculate the R-Squared Coefficient\n",
    "\n",
    "R_Squared = ESS/TSS\n",
    "\n",
    "print(f\"The R-Squared Coefficient is: {R_Squared}\")"
   ],
   "execution_count": 178,
   "outputs": []
  },
  {
   "cell_type": "code",
   "id": "4c910ad7-7c55-4c3d-ad4f-652797864c9d",
   "metadata": {
    "ExecuteTime": {
     "end_time": "2025-04-16T04:36:21.097577Z",
     "start_time": "2025-04-16T04:36:21.093283Z"
    }
   },
   "source": [
    "# Now calculate the Residuals Variance with n - k degrees of freedom (adjusted to the sample)\n",
    "\n",
    "Residuals_Variance = RSS/(len(Y_Vector) - Hat_Matrix.trace())\n",
    "\n",
    "print(f\"The Residuals Variance is: {Residuals_Variance}\")"
   ],
   "execution_count": 179,
   "outputs": []
  },
  {
   "cell_type": "code",
   "id": "819dfa8c-de2b-4cef-beb3-a0cc0443c81a",
   "metadata": {
    "ExecuteTime": {
     "end_time": "2025-04-16T04:36:21.103755Z",
     "start_time": "2025-04-16T04:36:21.098588Z"
    }
   },
   "source": [
    "# We use the Residuals Variance to calculate the covariances between all the beta coefficients\n",
    "\n",
    "display(Math(r\"C=\\frac{\\varepsilon^⊤\\varepsilon}{n-k}(X^⊤X)^{-1}\"))"
   ],
   "execution_count": 180,
   "outputs": []
  },
  {
   "cell_type": "code",
   "id": "e4337497-629c-4cac-8ff8-31f5219bd0ed",
   "metadata": {
    "ExecuteTime": {
     "end_time": "2025-04-16T04:36:21.110134Z",
     "start_time": "2025-04-16T04:36:21.104773Z"
    }
   },
   "source": [
    "# The Diagonal of the Covariance Matrix contains the standard errors of the beta coefficients\n",
    "\n",
    "Covariance_Matrix = (Residuals_Variance)*X_Variance_Matrix_Inverse\n",
    "\n",
    "Covariance_Matrix"
   ],
   "execution_count": 181,
   "outputs": []
  },
  {
   "cell_type": "code",
   "id": "ab560017-82f5-4bc4-88a9-f3f3e9992c27",
   "metadata": {
    "ExecuteTime": {
     "end_time": "2025-04-16T04:36:21.116037Z",
     "start_time": "2025-04-16T04:36:21.111162Z"
    }
   },
   "source": [
    "# Take the squared-root\n",
    "\n",
    "Beta_Standards_Errors = np.sqrt(Covariance_Matrix.diagonal())\n",
    "\n",
    "Beta_Standards_Errors"
   ],
   "execution_count": 182,
   "outputs": []
  },
  {
   "cell_type": "code",
   "id": "888604d0-8f9e-4cea-a435-b7ebff10acc1",
   "metadata": {
    "ExecuteTime": {
     "end_time": "2025-04-16T04:36:21.122905Z",
     "start_time": "2025-04-16T04:36:21.117048Z"
    }
   },
   "source": [
    "# Calculate the T-Values\n",
    "\n",
    "T_Values = Beta/Beta_Standards_Errors\n",
    "\n",
    "T_Values"
   ],
   "execution_count": 183,
   "outputs": []
  },
  {
   "cell_type": "code",
   "id": "fc0f45ec-c5ce-41e5-bb6f-382260c9a678",
   "metadata": {
    "ExecuteTime": {
     "end_time": "2025-04-16T04:36:21.129119Z",
     "start_time": "2025-04-16T04:36:21.124915Z"
    }
   },
   "source": [
    "# How much degrees of freedom we have?\n",
    "\n",
    "df = len(Y_Vector) - Hat_Matrix.trace()\n",
    "\n",
    "print(f\"We have {df.round()} degrees of freedom.\")"
   ],
   "execution_count": 184,
   "outputs": []
  },
  {
   "cell_type": "code",
   "id": "ceb876e9-9d54-452b-8f4b-ce327a9e6bb4",
   "metadata": {
    "ExecuteTime": {
     "end_time": "2025-04-16T04:36:21.134815Z",
     "start_time": "2025-04-16T04:36:21.130668Z"
    }
   },
   "source": [
    "# The Hypothesis Testing implies to reject the null hypothesis if the t-values are higher than the critic t-value\n",
    "# For 293 degrees of freedom the critic t-value approaches to 1.96\n",
    "# Then we can calculate the upper and lower limits\n",
    "\n",
    "Beta_Lower_Limit = Beta - 1.96*Beta_Standards_Errors\n",
    "Beta_Upper_Limit = Beta + 1.96*Beta_Standards_Errors\n",
    "\n",
    "print(Beta_Lower_Limit)\n",
    "print(Beta_Upper_Limit)"
   ],
   "execution_count": 185,
   "outputs": []
  },
  {
   "cell_type": "code",
   "id": "f68b353a-19b1-4e69-91c6-66856061d7ff",
   "metadata": {
    "ExecuteTime": {
     "end_time": "2025-04-16T04:36:21.141453Z",
     "start_time": "2025-04-16T04:36:21.135827Z"
    }
   },
   "source": [
    "# We can build a dataframe that contains all the information\n",
    "\n",
    "Proof_DF = pd.DataFrame(\n",
    "    {\n",
    "     \"T_Values\": T_Values, \n",
    "     \"Beta_Inferior_Limit\": Beta_Lower_Limit, \n",
    "     \"Beta_Superior_Limit\": Beta_Upper_Limit\n",
    "     }\n",
    "    )\n",
    "\n",
    "print(Proof_DF)"
   ],
   "execution_count": 186,
   "outputs": []
  },
  {
   "cell_type": "code",
   "id": "d7708079-af32-4be0-9607-f07eabd5b3ab",
   "metadata": {
    "ExecuteTime": {
     "end_time": "2025-04-16T04:36:21.149984Z",
     "start_time": "2025-04-16T04:36:21.142463Z"
    }
   },
   "source": [
    "# Let us obtain the p-values, if these are less than 0.05, we reject the null hypothesis confirming statistically significance\n",
    "\n",
    "Proof_DF[\"p-values\"] = 2*(t.sf(\n",
    "    abs(Proof_DF.T_Values), \n",
    "    len(Y_Vector) - Hat_Matrix.trace()\n",
    "    ).round(3)\n",
    "    )\n",
    "\n",
    "print(Proof_DF)"
   ],
   "execution_count": 187,
   "outputs": []
  },
  {
   "cell_type": "code",
   "id": "728f0813-2ab1-4ecb-9499-24d464818f08",
   "metadata": {
    "ExecuteTime": {
     "end_time": "2025-04-16T04:36:21.155620Z",
     "start_time": "2025-04-16T04:36:21.151Z"
    }
   },
   "source": [
    "\"\"\"\n",
    "The R-Squared is not always the most precise staitstic in a multilinear model\n",
    "The Adjusted R-Squared penalizes the existence of more variables in our model:\n",
    "    \n",
    "    Adjusted R Squared = 1 – [((1 – R2) * (n – 1)) / (n – k)]\n",
    "    \n",
    "\"\"\"\n",
    "\n",
    "R_Squared_Adjusted = (1 - ((1-R_Squared)*(len(Y_Vector) - 1)/(len(Y_Vector) - Hat_Matrix.trace())))\n",
    "\n",
    "print(f\"The Adjusted R-Squared is: {R_Squared_Adjusted.round(5)}\")"
   ],
   "execution_count": 188,
   "outputs": []
  },
  {
   "cell_type": "code",
   "id": "785ec02e-bf50-402b-a786-03598870ee73",
   "metadata": {
    "ExecuteTime": {
     "end_time": "2025-04-16T04:36:21.162096Z",
     "start_time": "2025-04-16T04:36:21.156635Z"
    }
   },
   "source": [
    "\"\"\"\n",
    "The F Statistic  help us to prove Joint Significance.\n",
    "This means taht we are checking if our models as a whole can explain the Y\n",
    "\n",
    "The F statistic is distributed in a F distribution with n - k and\n",
    "k - 1 degrees of freedom.\n",
    "\"\"\"\n",
    "\n",
    "display(Math(r\"F=\\frac{ESS/k-1}{RSS/n-k}\"))\n"
   ],
   "execution_count": 189,
   "outputs": []
  },
  {
   "cell_type": "code",
   "id": "9908ee64-aba3-4696-8a0d-26fff0132f1b",
   "metadata": {
    "ExecuteTime": {
     "end_time": "2025-04-16T04:36:21.170646Z",
     "start_time": "2025-04-16T04:36:21.166620Z"
    }
   },
   "source": [
    "# Calculate the F Stat\n",
    "\n",
    "F_Stat = (ESS/(Hat_Matrix.trace() - 1)) / (RSS/(len(Y_Vector) - Hat_Matrix.trace()))\n",
    "\n",
    "print(f\"The F-Statistic is: {F_Stat}\")"
   ],
   "execution_count": 190,
   "outputs": []
  },
  {
   "cell_type": "code",
   "id": "1dc4a360-ee12-4162-a16b-7c86a84dbbb6",
   "metadata": {
    "ExecuteTime": {
     "end_time": "2025-04-16T04:36:21.184480Z",
     "start_time": "2025-04-16T04:36:21.171663Z"
    }
   },
   "source": [
    "#Model specification\n",
    "model = sm.OLS(\n",
    "    Y_Vector, \n",
    "    sm.add_constant(Information_Matrix)\n",
    "    )   \n",
    "     \n",
    "#the results of the model\n",
    "results = model.fit() \n",
    "    \n",
    "#The Parameters\n",
    "Beta2 = results.params  \n",
    "\n",
    "#here we check the summary\n",
    "print(results.summary())       "
   ],
   "execution_count": 191,
   "outputs": []
  },
  {
   "cell_type": "code",
   "id": "db2524c7-8128-457a-ae69-e3c2349b22a3",
   "metadata": {
    "ExecuteTime": {
     "end_time": "2025-04-16T04:36:21.190243Z",
     "start_time": "2025-04-16T04:36:21.185492Z"
    }
   },
   "source": [
    "Beta"
   ],
   "execution_count": 192,
   "outputs": []
  },
  {
   "cell_type": "code",
   "id": "7b7e8d7c-dee4-4fa5-b87b-96fae9741e84",
   "metadata": {
    "ExecuteTime": {
     "end_time": "2025-04-16T04:36:21.208336Z",
     "start_time": "2025-04-16T04:36:21.191249Z"
    }
   },
   "source": [
    "# Calculate the VIF\n",
    "\n",
    "X = Information_Matrix\n",
    "\n",
    "vif_data = pd.DataFrame()\n",
    "vif_data['vars'] = X.columns\n",
    "vif_data['VIF'] = [variance_inflation_factor(X.values, i) for i in range(X.shape[1])]\n",
    "\n",
    "vif_data"
   ],
   "execution_count": 193,
   "outputs": []
  },
  {
   "cell_type": "code",
   "id": "4f9a5de1-305b-4e9e-bd84-d2481b1a48bc",
   "metadata": {
    "ExecuteTime": {
     "end_time": "2025-04-16T04:36:21.217130Z",
     "start_time": "2025-04-16T04:36:21.209353Z"
    }
   },
   "source": [
    "r_squared_df = pd.DataFrame()\n",
    "r_squared_df['vars'] = X.columns\n",
    "\n",
    "r_squared_df['r_squared'] = 1 - (1 / vif_data['VIF'])\n",
    "\n",
    "r_squared_df"
   ],
   "execution_count": 194,
   "outputs": []
  },
  {
   "cell_type": "code",
   "id": "c3255290-4381-42c2-8ecb-a21d00663964",
   "metadata": {
    "ExecuteTime": {
     "end_time": "2025-04-16T04:36:21.232287Z",
     "start_time": "2025-04-16T04:36:21.217130Z"
    }
   },
   "source": [
    "#Model specification\n",
    "model = sm.OLS(\n",
    "    Y_Vector, \n",
    "    sm.add_constant(X.drop(['annualized_volat', 'squared_volat'], axis=1))\n",
    "    )   \n",
    "     \n",
    "#the results of the model\n",
    "results = model.fit() \n",
    "\n",
    "#here we check the summary\n",
    "print(results.summary())   "
   ],
   "execution_count": 195,
   "outputs": []
  },
  {
   "cell_type": "code",
   "id": "44fd448d-9c40-4500-be9b-91b1dcdfa5aa",
   "metadata": {
    "ExecuteTime": {
     "end_time": "2025-04-16T04:36:21.244768Z",
     "start_time": "2025-04-16T04:36:21.233296Z"
    }
   },
   "source": [
    "# Calculate the VIF\n",
    "\n",
    "X = Information_Matrix.drop(['annualized_volat', 'squared_volat'], axis=1)\n",
    "\n",
    "vif_data = pd.DataFrame()\n",
    "vif_data['vars'] = X.columns\n",
    "vif_data['VIF'] = [variance_inflation_factor(X.values, i) for i in range(X.shape[1])]\n",
    "\n",
    "vif_data"
   ],
   "execution_count": 196,
   "outputs": []
  },
  {
   "cell_type": "code",
   "id": "60869e62-799e-4fe0-bd82-2384c21cdc29",
   "metadata": {
    "ExecuteTime": {
     "end_time": "2025-04-16T04:36:21.248605Z",
     "start_time": "2025-04-16T04:36:21.246292Z"
    }
   },
   "source": [],
   "execution_count": 196,
   "outputs": []
  }
 ],
 "metadata": {
  "kernelspec": {
   "display_name": "Python 3 (ipykernel)",
   "language": "python",
   "name": "python3"
  },
  "language_info": {
   "codemirror_mode": {
    "name": "ipython",
    "version": 3
   },
   "file_extension": ".py",
   "mimetype": "text/x-python",
   "name": "python",
   "nbconvert_exporter": "python",
   "pygments_lexer": "ipython3",
   "version": "3.11.7"
  }
 },
 "nbformat": 4,
 "nbformat_minor": 5
}
