{
 "cells": [
  {
   "cell_type": "markdown",
   "id": "c7d399f4-6d32-47d3-a3a0-0da071d8f6a3",
   "metadata": {},
   "source": [
    "# Introduction to Portfolio Theory: Risk Measures #"
   ]
  },
  {
   "cell_type": "code",
   "id": "5cb94cc9-2ee2-4a67-a0be-7a92e7f05b88",
   "metadata": {
    "ExecuteTime": {
     "end_time": "2025-04-16T03:37:38.790017Z",
     "start_time": "2025-04-16T03:37:38.781620Z"
    }
   },
   "source": [
    "# Import Libraries\n",
    "\n",
    "# Data Management\n",
    "import pandas as pd\n",
    "import numpy as np\n",
    "\n",
    "# Statistics\n",
    "from scipy.stats import norm\n",
    "\n",
    "# Import Data\n",
    "import yfinance as yf\n",
    "\n",
    "# Handle Files\n",
    "import sys\n",
    "import os\n",
    "\n",
    "# Import Local Functions\n",
    "sys.path.append(os.path.abspath(\"../source\"))\n",
    "from functions import import_financial_data\n",
    "\n",
    "# Visualization\n",
    "import matplotlib.pyplot as plt"
   ],
   "outputs": [],
   "execution_count": 24
  },
  {
   "cell_type": "code",
   "id": "a3dd4be6-d58b-433b-a3c2-fe4553b16411",
   "metadata": {
    "ExecuteTime": {
     "end_time": "2025-04-16T03:37:38.869653Z",
     "start_time": "2025-04-16T03:37:38.794802Z"
    }
   },
   "source": [
    "# Import Data\n",
    "\n",
    "df_amzn = import_financial_data(\"AMZN\", starting_year='2020')\n",
    "df_nvda = import_financial_data(\"NVDA\", starting_year='2020')\n",
    "df_tsla = import_financial_data(\"TSLA\", starting_year='2020')\n",
    "\n",
    "# Create the data we are going to use\n",
    "data = pd.DataFrame()\n",
    "\n",
    "data['AMZN'] = df_amzn['adj_close']\n",
    "data['NVDA'] = df_nvda['adj_close']\n",
    "data['TSLA'] = df_tsla['adj_close']\n",
    "\n",
    "data"
   ],
   "outputs": [
    {
     "data": {
      "text/plain": [
       "                AMZN       NVDA        TSLA\n",
       "Date                                       \n",
       "2020-01-02   94.9005    5.99775   28.683971\n",
       "2020-01-03   93.7485    5.90175   29.533970\n",
       "2020-01-06   95.1440    5.92650   30.102637\n",
       "2020-01-07   95.3430    5.99825   31.270635\n",
       "2020-01-08   94.5985    6.00950   32.809301\n",
       "...              ...        ...         ...\n",
       "2024-10-22  189.7000  143.59000  217.970000\n",
       "2024-10-23  184.7100  139.56000  213.650000\n",
       "2024-10-24  186.3800  140.41000  260.480000\n",
       "2024-10-25  187.8300  141.54000  269.190000\n",
       "2024-10-28  188.3900  140.52000  262.510000\n",
       "\n",
       "[1214 rows x 3 columns]"
      ],
      "text/html": [
       "<div>\n",
       "<style scoped>\n",
       "    .dataframe tbody tr th:only-of-type {\n",
       "        vertical-align: middle;\n",
       "    }\n",
       "\n",
       "    .dataframe tbody tr th {\n",
       "        vertical-align: top;\n",
       "    }\n",
       "\n",
       "    .dataframe thead th {\n",
       "        text-align: right;\n",
       "    }\n",
       "</style>\n",
       "<table border=\"1\" class=\"dataframe\">\n",
       "  <thead>\n",
       "    <tr style=\"text-align: right;\">\n",
       "      <th></th>\n",
       "      <th>AMZN</th>\n",
       "      <th>NVDA</th>\n",
       "      <th>TSLA</th>\n",
       "    </tr>\n",
       "    <tr>\n",
       "      <th>Date</th>\n",
       "      <th></th>\n",
       "      <th></th>\n",
       "      <th></th>\n",
       "    </tr>\n",
       "  </thead>\n",
       "  <tbody>\n",
       "    <tr>\n",
       "      <th>2020-01-02</th>\n",
       "      <td>94.9005</td>\n",
       "      <td>5.99775</td>\n",
       "      <td>28.683971</td>\n",
       "    </tr>\n",
       "    <tr>\n",
       "      <th>2020-01-03</th>\n",
       "      <td>93.7485</td>\n",
       "      <td>5.90175</td>\n",
       "      <td>29.533970</td>\n",
       "    </tr>\n",
       "    <tr>\n",
       "      <th>2020-01-06</th>\n",
       "      <td>95.1440</td>\n",
       "      <td>5.92650</td>\n",
       "      <td>30.102637</td>\n",
       "    </tr>\n",
       "    <tr>\n",
       "      <th>2020-01-07</th>\n",
       "      <td>95.3430</td>\n",
       "      <td>5.99825</td>\n",
       "      <td>31.270635</td>\n",
       "    </tr>\n",
       "    <tr>\n",
       "      <th>2020-01-08</th>\n",
       "      <td>94.5985</td>\n",
       "      <td>6.00950</td>\n",
       "      <td>32.809301</td>\n",
       "    </tr>\n",
       "    <tr>\n",
       "      <th>...</th>\n",
       "      <td>...</td>\n",
       "      <td>...</td>\n",
       "      <td>...</td>\n",
       "    </tr>\n",
       "    <tr>\n",
       "      <th>2024-10-22</th>\n",
       "      <td>189.7000</td>\n",
       "      <td>143.59000</td>\n",
       "      <td>217.970000</td>\n",
       "    </tr>\n",
       "    <tr>\n",
       "      <th>2024-10-23</th>\n",
       "      <td>184.7100</td>\n",
       "      <td>139.56000</td>\n",
       "      <td>213.650000</td>\n",
       "    </tr>\n",
       "    <tr>\n",
       "      <th>2024-10-24</th>\n",
       "      <td>186.3800</td>\n",
       "      <td>140.41000</td>\n",
       "      <td>260.480000</td>\n",
       "    </tr>\n",
       "    <tr>\n",
       "      <th>2024-10-25</th>\n",
       "      <td>187.8300</td>\n",
       "      <td>141.54000</td>\n",
       "      <td>269.190000</td>\n",
       "    </tr>\n",
       "    <tr>\n",
       "      <th>2024-10-28</th>\n",
       "      <td>188.3900</td>\n",
       "      <td>140.52000</td>\n",
       "      <td>262.510000</td>\n",
       "    </tr>\n",
       "  </tbody>\n",
       "</table>\n",
       "<p>1214 rows × 3 columns</p>\n",
       "</div>"
      ]
     },
     "execution_count": 25,
     "metadata": {},
     "output_type": "execute_result"
    }
   ],
   "execution_count": 25
  },
  {
   "cell_type": "code",
   "id": "0d2c38d1-0c6c-4ef6-9056-d8e8cb5539db",
   "metadata": {
    "ExecuteTime": {
     "end_time": "2025-04-16T03:37:38.877883Z",
     "start_time": "2025-04-16T03:37:38.869653Z"
    }
   },
   "source": [
    "# Calculate Logarithmic Returns\n",
    "\n",
    "log_returns = np.log(data / data.shift(1)).dropna()\n",
    "\n",
    "log_returns"
   ],
   "outputs": [
    {
     "data": {
      "text/plain": [
       "                AMZN      NVDA      TSLA\n",
       "Date                                    \n",
       "2020-01-03 -0.012213 -0.016135  0.029203\n",
       "2020-01-06  0.014776  0.004185  0.019072\n",
       "2020-01-07  0.002089  0.012034  0.038067\n",
       "2020-01-08 -0.007839  0.001874  0.048033\n",
       "2020-01-09  0.004788  0.010923 -0.022189\n",
       "...              ...       ...       ...\n",
       "2024-10-22  0.003327 -0.000835 -0.004029\n",
       "2024-10-23 -0.026657 -0.028467 -0.020018\n",
       "2024-10-24  0.009001  0.006072  0.198187\n",
       "2024-10-25  0.007750  0.008016  0.032891\n",
       "2024-10-28  0.002977 -0.007233 -0.025128\n",
       "\n",
       "[1213 rows x 3 columns]"
      ],
      "text/html": [
       "<div>\n",
       "<style scoped>\n",
       "    .dataframe tbody tr th:only-of-type {\n",
       "        vertical-align: middle;\n",
       "    }\n",
       "\n",
       "    .dataframe tbody tr th {\n",
       "        vertical-align: top;\n",
       "    }\n",
       "\n",
       "    .dataframe thead th {\n",
       "        text-align: right;\n",
       "    }\n",
       "</style>\n",
       "<table border=\"1\" class=\"dataframe\">\n",
       "  <thead>\n",
       "    <tr style=\"text-align: right;\">\n",
       "      <th></th>\n",
       "      <th>AMZN</th>\n",
       "      <th>NVDA</th>\n",
       "      <th>TSLA</th>\n",
       "    </tr>\n",
       "    <tr>\n",
       "      <th>Date</th>\n",
       "      <th></th>\n",
       "      <th></th>\n",
       "      <th></th>\n",
       "    </tr>\n",
       "  </thead>\n",
       "  <tbody>\n",
       "    <tr>\n",
       "      <th>2020-01-03</th>\n",
       "      <td>-0.012213</td>\n",
       "      <td>-0.016135</td>\n",
       "      <td>0.029203</td>\n",
       "    </tr>\n",
       "    <tr>\n",
       "      <th>2020-01-06</th>\n",
       "      <td>0.014776</td>\n",
       "      <td>0.004185</td>\n",
       "      <td>0.019072</td>\n",
       "    </tr>\n",
       "    <tr>\n",
       "      <th>2020-01-07</th>\n",
       "      <td>0.002089</td>\n",
       "      <td>0.012034</td>\n",
       "      <td>0.038067</td>\n",
       "    </tr>\n",
       "    <tr>\n",
       "      <th>2020-01-08</th>\n",
       "      <td>-0.007839</td>\n",
       "      <td>0.001874</td>\n",
       "      <td>0.048033</td>\n",
       "    </tr>\n",
       "    <tr>\n",
       "      <th>2020-01-09</th>\n",
       "      <td>0.004788</td>\n",
       "      <td>0.010923</td>\n",
       "      <td>-0.022189</td>\n",
       "    </tr>\n",
       "    <tr>\n",
       "      <th>...</th>\n",
       "      <td>...</td>\n",
       "      <td>...</td>\n",
       "      <td>...</td>\n",
       "    </tr>\n",
       "    <tr>\n",
       "      <th>2024-10-22</th>\n",
       "      <td>0.003327</td>\n",
       "      <td>-0.000835</td>\n",
       "      <td>-0.004029</td>\n",
       "    </tr>\n",
       "    <tr>\n",
       "      <th>2024-10-23</th>\n",
       "      <td>-0.026657</td>\n",
       "      <td>-0.028467</td>\n",
       "      <td>-0.020018</td>\n",
       "    </tr>\n",
       "    <tr>\n",
       "      <th>2024-10-24</th>\n",
       "      <td>0.009001</td>\n",
       "      <td>0.006072</td>\n",
       "      <td>0.198187</td>\n",
       "    </tr>\n",
       "    <tr>\n",
       "      <th>2024-10-25</th>\n",
       "      <td>0.007750</td>\n",
       "      <td>0.008016</td>\n",
       "      <td>0.032891</td>\n",
       "    </tr>\n",
       "    <tr>\n",
       "      <th>2024-10-28</th>\n",
       "      <td>0.002977</td>\n",
       "      <td>-0.007233</td>\n",
       "      <td>-0.025128</td>\n",
       "    </tr>\n",
       "  </tbody>\n",
       "</table>\n",
       "<p>1213 rows × 3 columns</p>\n",
       "</div>"
      ]
     },
     "execution_count": 26,
     "metadata": {},
     "output_type": "execute_result"
    }
   ],
   "execution_count": 26
  },
  {
   "cell_type": "code",
   "id": "d93a6b3b-c7ca-4fa5-94f9-a75d3d3377f7",
   "metadata": {
    "ExecuteTime": {
     "end_time": "2025-04-16T03:37:38.882476Z",
     "start_time": "2025-04-16T03:37:38.877883Z"
    }
   },
   "source": [
    "# 1. Annualized Volatility (Standard Deviation)\n",
    "\n",
    "volatility = log_returns.std() * np.sqrt(252)\n",
    "\n",
    "print(\"Annualized Volatility:\")\n",
    "print(volatility)"
   ],
   "outputs": [
    {
     "name": "stdout",
     "output_type": "stream",
     "text": [
      "Annualized Volatility:\n",
      "AMZN    0.360775\n",
      "NVDA    0.540347\n",
      "TSLA    0.668595\n",
      "dtype: float64\n"
     ]
    }
   ],
   "execution_count": 27
  },
  {
   "cell_type": "code",
   "id": "21853ec0-bbbf-4cc2-a2de-3709e52613c8",
   "metadata": {
    "ExecuteTime": {
     "end_time": "2025-04-16T03:37:38.887347Z",
     "start_time": "2025-04-16T03:37:38.882476Z"
    }
   },
   "source": [
    "# 1.5 Annualized Variance (Standard Deviation)\n",
    "\n",
    "variance = log_returns.var() * 252\n",
    "\n",
    "print(\"Anualized Variance:\")\n",
    "print(variance)"
   ],
   "outputs": [
    {
     "name": "stdout",
     "output_type": "stream",
     "text": [
      "Anualized Variance:\n",
      "AMZN    0.130158\n",
      "NVDA    0.291975\n",
      "TSLA    0.447019\n",
      "dtype: float64\n"
     ]
    }
   ],
   "execution_count": 28
  },
  {
   "cell_type": "code",
   "id": "08e59b87-3ac0-4d8d-9668-77531d6284d3",
   "metadata": {
    "ExecuteTime": {
     "end_time": "2025-04-16T03:37:38.893745Z",
     "start_time": "2025-04-16T03:37:38.889093Z"
    }
   },
   "source": [
    "# 2. Covariance Matrix\n",
    "covariance = log_returns.cov() * 252  # Anualized\n",
    "\n",
    "print(\"\\nCovariance Matrix:\")\n",
    "print(covariance)"
   ],
   "outputs": [
    {
     "name": "stdout",
     "output_type": "stream",
     "text": [
      "\n",
      "Covariance Matrix:\n",
      "          AMZN      NVDA      TSLA\n",
      "AMZN  0.130158  0.115055  0.105861\n",
      "NVDA  0.115055  0.291975  0.175987\n",
      "TSLA  0.105861  0.175987  0.447019\n"
     ]
    }
   ],
   "execution_count": 29
  },
  {
   "cell_type": "code",
   "id": "22056622-1f06-4aa7-be10-415ee6324166",
   "metadata": {
    "ExecuteTime": {
     "end_time": "2025-04-16T03:37:38.898556Z",
     "start_time": "2025-04-16T03:37:38.893745Z"
    }
   },
   "source": [
    "# 3. Correlations\n",
    "correlations = log_returns.corr()\n",
    "\n",
    "print(\"\\nCorrelation Matrix:\")\n",
    "print(correlations)"
   ],
   "outputs": [
    {
     "name": "stdout",
     "output_type": "stream",
     "text": [
      "\n",
      "Correlation Matrix:\n",
      "          AMZN      NVDA      TSLA\n",
      "AMZN  1.000000  0.590198  0.438869\n",
      "NVDA  0.590198  1.000000  0.487131\n",
      "TSLA  0.438869  0.487131  1.000000\n"
     ]
    }
   ],
   "execution_count": 30
  },
  {
   "cell_type": "code",
   "id": "49280eb0-d021-4e7e-8ad5-ab00df9d3e7d",
   "metadata": {
    "ExecuteTime": {
     "end_time": "2025-04-16T03:37:38.904057Z",
     "start_time": "2025-04-16T03:37:38.898556Z"
    }
   },
   "source": [
    "# 4. Value at Risk\n",
    "\n",
    "confidence_level = 0.95\n",
    "\n",
    "z_score = norm.ppf(1 - confidence_level)\n",
    "\n",
    "VaR_95 = log_returns.mean() + z_score * log_returns.std()\n",
    "VaR_95 = VaR_95 * np.sqrt(252)  # Anualized\n",
    "print(\"\\nAnualized Value at Risk (VaR) at 95% confidence level:\")\n",
    "print(VaR_95)\n"
   ],
   "outputs": [
    {
     "name": "stdout",
     "output_type": "stream",
     "text": [
      "\n",
      "Anualized Value at Risk (VaR) at 95% confidence level:\n",
      "AMZN   -0.584448\n",
      "NVDA   -0.847515\n",
      "TSLA   -1.070767\n",
      "dtype: float64\n"
     ]
    }
   ],
   "execution_count": 31
  },
  {
   "cell_type": "code",
   "id": "ea3afb0a-18f5-455a-a5de-be27d0fc189e",
   "metadata": {
    "ExecuteTime": {
     "end_time": "2025-04-16T03:37:38.928348Z",
     "start_time": "2025-04-16T03:37:38.905068Z"
    }
   },
   "source": [
    "# Download the SPY (benchmark)\n",
    "# S&P500\n",
    "benchmark = yf.download('^GSPC', start='2020-01-01', end='2025-01-01', interval='1d', auto_adjust=True)\n",
    "benchmark.dropna(inplace=True)\n",
    "\n",
    "benchmark"
   ],
   "outputs": [
    {
     "name": "stderr",
     "output_type": "stream",
     "text": [
      "[*********************100%***********************]  1 of 1 completed\n"
     ]
    },
    {
     "data": {
      "text/plain": [
       "Price             Close         High          Low         Open      Volume\n",
       "Ticker            ^GSPC        ^GSPC        ^GSPC        ^GSPC       ^GSPC\n",
       "Date                                                                      \n",
       "2020-01-02  3257.850098  3258.139893  3235.530029  3244.669922  3459930000\n",
       "2020-01-03  3234.850098  3246.149902  3222.340088  3226.360107  3484700000\n",
       "2020-01-06  3246.280029  3246.840088  3214.639893  3217.550049  3702460000\n",
       "2020-01-07  3237.179932  3244.909912  3232.429932  3241.860107  3435910000\n",
       "2020-01-08  3253.050049  3267.070068  3236.669922  3238.590088  3726840000\n",
       "...                 ...          ...          ...          ...         ...\n",
       "2024-12-24  6040.040039  6040.100098  5981.439941  5984.629883  1757720000\n",
       "2024-12-26  6037.589844  6049.750000  6007.370117  6024.970215  2904530000\n",
       "2024-12-27  5970.839844  6006.169922  5932.950195  6006.169922  3159610000\n",
       "2024-12-30  5906.939941  5940.790039  5869.160156  5920.669922  3433250000\n",
       "2024-12-31  5881.629883  5929.740234  5868.859863  5919.740234  3128350000\n",
       "\n",
       "[1258 rows x 5 columns]"
      ],
      "text/html": [
       "<div>\n",
       "<style scoped>\n",
       "    .dataframe tbody tr th:only-of-type {\n",
       "        vertical-align: middle;\n",
       "    }\n",
       "\n",
       "    .dataframe tbody tr th {\n",
       "        vertical-align: top;\n",
       "    }\n",
       "\n",
       "    .dataframe thead tr th {\n",
       "        text-align: left;\n",
       "    }\n",
       "\n",
       "    .dataframe thead tr:last-of-type th {\n",
       "        text-align: right;\n",
       "    }\n",
       "</style>\n",
       "<table border=\"1\" class=\"dataframe\">\n",
       "  <thead>\n",
       "    <tr>\n",
       "      <th>Price</th>\n",
       "      <th>Close</th>\n",
       "      <th>High</th>\n",
       "      <th>Low</th>\n",
       "      <th>Open</th>\n",
       "      <th>Volume</th>\n",
       "    </tr>\n",
       "    <tr>\n",
       "      <th>Ticker</th>\n",
       "      <th>^GSPC</th>\n",
       "      <th>^GSPC</th>\n",
       "      <th>^GSPC</th>\n",
       "      <th>^GSPC</th>\n",
       "      <th>^GSPC</th>\n",
       "    </tr>\n",
       "    <tr>\n",
       "      <th>Date</th>\n",
       "      <th></th>\n",
       "      <th></th>\n",
       "      <th></th>\n",
       "      <th></th>\n",
       "      <th></th>\n",
       "    </tr>\n",
       "  </thead>\n",
       "  <tbody>\n",
       "    <tr>\n",
       "      <th>2020-01-02</th>\n",
       "      <td>3257.850098</td>\n",
       "      <td>3258.139893</td>\n",
       "      <td>3235.530029</td>\n",
       "      <td>3244.669922</td>\n",
       "      <td>3459930000</td>\n",
       "    </tr>\n",
       "    <tr>\n",
       "      <th>2020-01-03</th>\n",
       "      <td>3234.850098</td>\n",
       "      <td>3246.149902</td>\n",
       "      <td>3222.340088</td>\n",
       "      <td>3226.360107</td>\n",
       "      <td>3484700000</td>\n",
       "    </tr>\n",
       "    <tr>\n",
       "      <th>2020-01-06</th>\n",
       "      <td>3246.280029</td>\n",
       "      <td>3246.840088</td>\n",
       "      <td>3214.639893</td>\n",
       "      <td>3217.550049</td>\n",
       "      <td>3702460000</td>\n",
       "    </tr>\n",
       "    <tr>\n",
       "      <th>2020-01-07</th>\n",
       "      <td>3237.179932</td>\n",
       "      <td>3244.909912</td>\n",
       "      <td>3232.429932</td>\n",
       "      <td>3241.860107</td>\n",
       "      <td>3435910000</td>\n",
       "    </tr>\n",
       "    <tr>\n",
       "      <th>2020-01-08</th>\n",
       "      <td>3253.050049</td>\n",
       "      <td>3267.070068</td>\n",
       "      <td>3236.669922</td>\n",
       "      <td>3238.590088</td>\n",
       "      <td>3726840000</td>\n",
       "    </tr>\n",
       "    <tr>\n",
       "      <th>...</th>\n",
       "      <td>...</td>\n",
       "      <td>...</td>\n",
       "      <td>...</td>\n",
       "      <td>...</td>\n",
       "      <td>...</td>\n",
       "    </tr>\n",
       "    <tr>\n",
       "      <th>2024-12-24</th>\n",
       "      <td>6040.040039</td>\n",
       "      <td>6040.100098</td>\n",
       "      <td>5981.439941</td>\n",
       "      <td>5984.629883</td>\n",
       "      <td>1757720000</td>\n",
       "    </tr>\n",
       "    <tr>\n",
       "      <th>2024-12-26</th>\n",
       "      <td>6037.589844</td>\n",
       "      <td>6049.750000</td>\n",
       "      <td>6007.370117</td>\n",
       "      <td>6024.970215</td>\n",
       "      <td>2904530000</td>\n",
       "    </tr>\n",
       "    <tr>\n",
       "      <th>2024-12-27</th>\n",
       "      <td>5970.839844</td>\n",
       "      <td>6006.169922</td>\n",
       "      <td>5932.950195</td>\n",
       "      <td>6006.169922</td>\n",
       "      <td>3159610000</td>\n",
       "    </tr>\n",
       "    <tr>\n",
       "      <th>2024-12-30</th>\n",
       "      <td>5906.939941</td>\n",
       "      <td>5940.790039</td>\n",
       "      <td>5869.160156</td>\n",
       "      <td>5920.669922</td>\n",
       "      <td>3433250000</td>\n",
       "    </tr>\n",
       "    <tr>\n",
       "      <th>2024-12-31</th>\n",
       "      <td>5881.629883</td>\n",
       "      <td>5929.740234</td>\n",
       "      <td>5868.859863</td>\n",
       "      <td>5919.740234</td>\n",
       "      <td>3128350000</td>\n",
       "    </tr>\n",
       "  </tbody>\n",
       "</table>\n",
       "<p>1258 rows × 5 columns</p>\n",
       "</div>"
      ]
     },
     "execution_count": 32,
     "metadata": {},
     "output_type": "execute_result"
    }
   ],
   "execution_count": 32
  },
  {
   "cell_type": "code",
   "id": "5582159d-ff33-4836-8230-18eaa157c591",
   "metadata": {
    "ExecuteTime": {
     "end_time": "2025-04-16T03:37:38.937283Z",
     "start_time": "2025-04-16T03:37:38.928348Z"
    }
   },
   "source": [
    "# Calculate the benchmark returns\n",
    "\n",
    "benchmark_rets = np.log(benchmark['Close'] / benchmark['Close'].shift(1)).dropna()\n",
    "\n",
    "# Reindex\n",
    "benchmark_rets = benchmark_rets.reindex(log_returns.index)\n",
    "\n",
    "benchmark_rets"
   ],
   "outputs": [
    {
     "data": {
      "text/plain": [
       "Ticker         ^GSPC\n",
       "Date                \n",
       "2020-01-03 -0.007085\n",
       "2020-01-06  0.003527\n",
       "2020-01-07 -0.002807\n",
       "2020-01-08  0.004890\n",
       "2020-01-09  0.006633\n",
       "...              ...\n",
       "2024-10-22 -0.000475\n",
       "2024-10-23 -0.009234\n",
       "2024-10-24  0.002143\n",
       "2024-10-25 -0.000299\n",
       "2024-10-28  0.002648\n",
       "\n",
       "[1213 rows x 1 columns]"
      ],
      "text/html": [
       "<div>\n",
       "<style scoped>\n",
       "    .dataframe tbody tr th:only-of-type {\n",
       "        vertical-align: middle;\n",
       "    }\n",
       "\n",
       "    .dataframe tbody tr th {\n",
       "        vertical-align: top;\n",
       "    }\n",
       "\n",
       "    .dataframe thead th {\n",
       "        text-align: right;\n",
       "    }\n",
       "</style>\n",
       "<table border=\"1\" class=\"dataframe\">\n",
       "  <thead>\n",
       "    <tr style=\"text-align: right;\">\n",
       "      <th>Ticker</th>\n",
       "      <th>^GSPC</th>\n",
       "    </tr>\n",
       "    <tr>\n",
       "      <th>Date</th>\n",
       "      <th></th>\n",
       "    </tr>\n",
       "  </thead>\n",
       "  <tbody>\n",
       "    <tr>\n",
       "      <th>2020-01-03</th>\n",
       "      <td>-0.007085</td>\n",
       "    </tr>\n",
       "    <tr>\n",
       "      <th>2020-01-06</th>\n",
       "      <td>0.003527</td>\n",
       "    </tr>\n",
       "    <tr>\n",
       "      <th>2020-01-07</th>\n",
       "      <td>-0.002807</td>\n",
       "    </tr>\n",
       "    <tr>\n",
       "      <th>2020-01-08</th>\n",
       "      <td>0.004890</td>\n",
       "    </tr>\n",
       "    <tr>\n",
       "      <th>2020-01-09</th>\n",
       "      <td>0.006633</td>\n",
       "    </tr>\n",
       "    <tr>\n",
       "      <th>...</th>\n",
       "      <td>...</td>\n",
       "    </tr>\n",
       "    <tr>\n",
       "      <th>2024-10-22</th>\n",
       "      <td>-0.000475</td>\n",
       "    </tr>\n",
       "    <tr>\n",
       "      <th>2024-10-23</th>\n",
       "      <td>-0.009234</td>\n",
       "    </tr>\n",
       "    <tr>\n",
       "      <th>2024-10-24</th>\n",
       "      <td>0.002143</td>\n",
       "    </tr>\n",
       "    <tr>\n",
       "      <th>2024-10-25</th>\n",
       "      <td>-0.000299</td>\n",
       "    </tr>\n",
       "    <tr>\n",
       "      <th>2024-10-28</th>\n",
       "      <td>0.002648</td>\n",
       "    </tr>\n",
       "  </tbody>\n",
       "</table>\n",
       "<p>1213 rows × 1 columns</p>\n",
       "</div>"
      ]
     },
     "execution_count": 33,
     "metadata": {},
     "output_type": "execute_result"
    }
   ],
   "execution_count": 33
  },
  {
   "cell_type": "code",
   "id": "0b9fe374-aa83-4b2f-8972-eae21bbd53e4",
   "metadata": {
    "ExecuteTime": {
     "end_time": "2025-04-16T03:37:38.945194Z",
     "start_time": "2025-04-16T03:37:38.937283Z"
    }
   },
   "source": [
    "# Calculate the Excess Returns\n",
    "\n",
    "excess_return = log_returns.subtract(benchmark_rets.squeeze(), axis=0)\n",
    "\n",
    "excess_return"
   ],
   "outputs": [
    {
     "data": {
      "text/plain": [
       "                AMZN      NVDA      TSLA\n",
       "Date                                    \n",
       "2020-01-03 -0.005128 -0.009051  0.036288\n",
       "2020-01-06  0.011249  0.000658  0.015545\n",
       "2020-01-07  0.004897  0.014841  0.040874\n",
       "2020-01-08 -0.012730 -0.003017  0.043142\n",
       "2020-01-09 -0.001845  0.004290 -0.028823\n",
       "...              ...       ...       ...\n",
       "2024-10-22  0.003802 -0.000360 -0.003554\n",
       "2024-10-23 -0.017423 -0.019234 -0.010784\n",
       "2024-10-24  0.006857  0.003929  0.196043\n",
       "2024-10-25  0.008049  0.008315  0.033191\n",
       "2024-10-28  0.000329 -0.009880 -0.027776\n",
       "\n",
       "[1213 rows x 3 columns]"
      ],
      "text/html": [
       "<div>\n",
       "<style scoped>\n",
       "    .dataframe tbody tr th:only-of-type {\n",
       "        vertical-align: middle;\n",
       "    }\n",
       "\n",
       "    .dataframe tbody tr th {\n",
       "        vertical-align: top;\n",
       "    }\n",
       "\n",
       "    .dataframe thead th {\n",
       "        text-align: right;\n",
       "    }\n",
       "</style>\n",
       "<table border=\"1\" class=\"dataframe\">\n",
       "  <thead>\n",
       "    <tr style=\"text-align: right;\">\n",
       "      <th></th>\n",
       "      <th>AMZN</th>\n",
       "      <th>NVDA</th>\n",
       "      <th>TSLA</th>\n",
       "    </tr>\n",
       "    <tr>\n",
       "      <th>Date</th>\n",
       "      <th></th>\n",
       "      <th></th>\n",
       "      <th></th>\n",
       "    </tr>\n",
       "  </thead>\n",
       "  <tbody>\n",
       "    <tr>\n",
       "      <th>2020-01-03</th>\n",
       "      <td>-0.005128</td>\n",
       "      <td>-0.009051</td>\n",
       "      <td>0.036288</td>\n",
       "    </tr>\n",
       "    <tr>\n",
       "      <th>2020-01-06</th>\n",
       "      <td>0.011249</td>\n",
       "      <td>0.000658</td>\n",
       "      <td>0.015545</td>\n",
       "    </tr>\n",
       "    <tr>\n",
       "      <th>2020-01-07</th>\n",
       "      <td>0.004897</td>\n",
       "      <td>0.014841</td>\n",
       "      <td>0.040874</td>\n",
       "    </tr>\n",
       "    <tr>\n",
       "      <th>2020-01-08</th>\n",
       "      <td>-0.012730</td>\n",
       "      <td>-0.003017</td>\n",
       "      <td>0.043142</td>\n",
       "    </tr>\n",
       "    <tr>\n",
       "      <th>2020-01-09</th>\n",
       "      <td>-0.001845</td>\n",
       "      <td>0.004290</td>\n",
       "      <td>-0.028823</td>\n",
       "    </tr>\n",
       "    <tr>\n",
       "      <th>...</th>\n",
       "      <td>...</td>\n",
       "      <td>...</td>\n",
       "      <td>...</td>\n",
       "    </tr>\n",
       "    <tr>\n",
       "      <th>2024-10-22</th>\n",
       "      <td>0.003802</td>\n",
       "      <td>-0.000360</td>\n",
       "      <td>-0.003554</td>\n",
       "    </tr>\n",
       "    <tr>\n",
       "      <th>2024-10-23</th>\n",
       "      <td>-0.017423</td>\n",
       "      <td>-0.019234</td>\n",
       "      <td>-0.010784</td>\n",
       "    </tr>\n",
       "    <tr>\n",
       "      <th>2024-10-24</th>\n",
       "      <td>0.006857</td>\n",
       "      <td>0.003929</td>\n",
       "      <td>0.196043</td>\n",
       "    </tr>\n",
       "    <tr>\n",
       "      <th>2024-10-25</th>\n",
       "      <td>0.008049</td>\n",
       "      <td>0.008315</td>\n",
       "      <td>0.033191</td>\n",
       "    </tr>\n",
       "    <tr>\n",
       "      <th>2024-10-28</th>\n",
       "      <td>0.000329</td>\n",
       "      <td>-0.009880</td>\n",
       "      <td>-0.027776</td>\n",
       "    </tr>\n",
       "  </tbody>\n",
       "</table>\n",
       "<p>1213 rows × 3 columns</p>\n",
       "</div>"
      ]
     },
     "execution_count": 34,
     "metadata": {},
     "output_type": "execute_result"
    }
   ],
   "execution_count": 34
  },
  {
   "cell_type": "code",
   "id": "735f5078-a2cd-4612-a61f-e43a702be4b2",
   "metadata": {
    "ExecuteTime": {
     "end_time": "2025-04-16T03:37:38.950053Z",
     "start_time": "2025-04-16T03:37:38.945194Z"
    }
   },
   "source": [
    "# Now calculate the Tracking Error (which is the Std of the Excess Returns)\n",
    "\n",
    "tracking_error = excess_return.std() * np.sqrt(252)\n",
    "\n",
    "print(\"\\nTracking Error:\")\n",
    "print(tracking_error)"
   ],
   "outputs": [
    {
     "name": "stdout",
     "output_type": "stream",
     "text": [
      "\n",
      "Tracking Error:\n",
      "AMZN    0.276739\n",
      "NVDA    0.417135\n",
      "TSLA    0.588665\n",
      "dtype: float64\n"
     ]
    }
   ],
   "execution_count": 35
  },
  {
   "cell_type": "code",
   "id": "46c79721-08a2-4e71-87a3-f5df0e90f2aa",
   "metadata": {
    "ExecuteTime": {
     "end_time": "2025-04-16T03:37:39.049559Z",
     "start_time": "2025-04-16T03:37:38.950053Z"
    }
   },
   "source": [
    "#Let us visualize the Risk Measures\n",
    "\n",
    "fig, ax = plt.subplots(figsize=(10, 6))\n",
    "volatility.plot(kind='bar', color='skyblue', label='Volatility (Risk)', alpha=0.5)\n",
    "tracking_error.plot(kind='bar', color='lightgreen', label='Tracking Error', alpha=0.5)\n",
    "VaR_95.plot(kind='bar', color='salmon', label='VaR 95%', alpha=0.7)\n",
    "plt.title('Risk Measures')\n",
    "plt.ylabel('Value')\n",
    "plt.legend()\n",
    "plt.show()"
   ],
   "outputs": [
    {
     "data": {
      "text/plain": [
       "<Figure size 1000x600 with 1 Axes>"
      ],
      "image/png": "[encoded data removed]"
     },
     "metadata": {},
     "output_type": "display_data"
    }
   ],
   "execution_count": 36
  },
  {
   "cell_type": "code",
   "id": "e3d41fd4-bfe8-4115-a215-4839dbc72b05",
   "metadata": {
    "ExecuteTime": {
     "end_time": "2025-04-16T03:37:39.054749Z",
     "start_time": "2025-04-16T03:37:39.049559Z"
    }
   },
   "source": [
    "# Tesla seems more riskier than Amazon\n",
    "\n",
    "mean = log_returns.mean() * 252\n",
    "\n",
    "print(\"Annualized Mean Returns:\")\n",
    "print(mean)"
   ],
   "outputs": [
    {
     "name": "stdout",
     "output_type": "stream",
     "text": [
      "Annualized Mean Returns:\n",
      "AMZN    0.142451\n",
      "NVDA    0.655234\n",
      "TSLA    0.459947\n",
      "dtype: float64\n"
     ]
    }
   ],
   "execution_count": 37
  },
  {
   "cell_type": "code",
   "id": "912079d8-8839-4670-a68b-75a505d02877",
   "metadata": {
    "ExecuteTime": {
     "end_time": "2025-04-16T03:37:39.060727Z",
     "start_time": "2025-04-16T03:37:39.054749Z"
    }
   },
   "source": [
    "# Risk Adjusted Returns\n",
    "\n",
    "eff_ratio = mean/volatility\n",
    "\n",
    "print(\"Risk Adjusted Returns:\")\n",
    "print(eff_ratio)"
   ],
   "outputs": [
    {
     "name": "stdout",
     "output_type": "stream",
     "text": [
      "Risk Adjusted Returns:\n",
      "AMZN    0.394847\n",
      "NVDA    1.212618\n",
      "TSLA    0.687931\n",
      "dtype: float64\n"
     ]
    }
   ],
   "execution_count": 38
  },
  {
   "cell_type": "code",
   "id": "0538ade0-302c-4bc2-be27-519fb7db1662",
   "metadata": {
    "ExecuteTime": {
     "end_time": "2025-04-16T03:37:39.142718Z",
     "start_time": "2025-04-16T03:37:39.061776Z"
    }
   },
   "source": [
    "#Let us visualize\n",
    "\n",
    "fig, ax = plt.subplots(figsize=(10, 6))\n",
    "eff_ratio.plot(kind='bar', color='lightpink', label='Risk Adjusted Returns')\n",
    "ax.axhline(y=1, color='black', linestyle='--')\n",
    "plt.title('Risk Adjusted Returns')\n",
    "plt.ylabel('Value')\n",
    "plt.legend()\n",
    "plt.show()"
   ],
   "outputs": [
    {
     "data": {
      "text/plain": [
       "<Figure size 1000x600 with 1 Axes>"
      ],
      "image/png": "[encoded data removed]"
     },
     "metadata": {},
     "output_type": "display_data"
    }
   ],
   "execution_count": 39
  },
  {
   "cell_type": "code",
   "id": "5513cf4c-f7b6-4506-87e8-91b5a756bf0a",
   "metadata": {
    "ExecuteTime": {
     "end_time": "2025-04-16T03:38:00.481970Z",
     "start_time": "2025-04-16T03:38:00.471554Z"
    }
   },
   "source": [
    "# Calculate the Risk Adjusted Returns of the Benchmark (Risk Aversion Coefficient)\n",
    "\n",
    "mean_bench = benchmark_rets.mean() * 252\n",
    "\n",
    "var_bench = benchmark_rets.var() * 252\n",
    "\n",
    "eff_rate_bench = mean_bench/var_bench\n",
    "\n",
    "eff_rate_bench.values[0]"
   ],
   "outputs": [
    {
     "data": {
      "text/plain": [
       "2.572389830601336"
      ]
     },
     "execution_count": 42,
     "metadata": {},
     "output_type": "execute_result"
    }
   ],
   "execution_count": 42
  },
  {
   "metadata": {},
   "cell_type": "code",
   "outputs": [],
   "execution_count": null,
   "source": "",
   "id": "54026ef494f3d0be"
  }
 ],
 "metadata": {
  "kernelspec": {
   "display_name": "Python 3 (ipykernel)",
   "language": "python",
   "name": "python3"
  },
  "language_info": {
   "codemirror_mode": {
    "name": "ipython",
    "version": 3
   },
   "file_extension": ".py",
   "mimetype": "text/x-python",
   "name": "python",
   "nbconvert_exporter": "python",
   "pygments_lexer": "ipython3",
   "version": "3.11.7"
  }
 },
 "nbformat": 4,
 "nbformat_minor": 5
}
