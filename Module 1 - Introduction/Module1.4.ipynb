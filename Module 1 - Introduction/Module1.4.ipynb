{
 "cells": [
  {
   "cell_type": "markdown",
   "id": "c7d399f4-6d32-47d3-a3a0-0da071d8f6a3",
   "metadata": {},
   "source": [
    "# Introduction to Portfolio Theory: Risk Measures #"
   ]
  },
  {
   "cell_type": "code",
   "id": "5cb94cc9-2ee2-4a67-a0be-7a92e7f05b88",
   "metadata": {
    "ExecuteTime": {
     "end_time": "2025-04-16T03:37:38.790017Z",
     "start_time": "2025-04-16T03:37:38.781620Z"
    }
   },
   "source": [
    "# Import Libraries\n",
    "\n",
    "# Data Management\n",
    "import pandas as pd\n",
    "import numpy as np\n",
    "\n",
    "# Statistics\n",
    "from scipy.stats import norm\n",
    "\n",
    "# Import Data\n",
    "import yfinance as yf\n",
    "\n",
    "# Handle Files\n",
    "import sys\n",
    "import os\n",
    "\n",
    "# Import Local Functions\n",
    "sys.path.append(os.path.abspath(\"../source\"))\n",
    "from functions import import_financial_data\n",
    "\n",
    "# Visualization\n",
    "import matplotlib.pyplot as plt"
   ],
   "execution_count": 24,
   "outputs": []
  },
  {
   "cell_type": "code",
   "id": "a3dd4be6-d58b-433b-a3c2-fe4553b16411",
   "metadata": {
    "ExecuteTime": {
     "end_time": "2025-04-16T03:37:38.869653Z",
     "start_time": "2025-04-16T03:37:38.794802Z"
    }
   },
   "source": [
    "# Import Data\n",
    "\n",
    "df_amzn = import_financial_data(\"AMZN\", starting_year='2020')\n",
    "df_nvda = import_financial_data(\"NVDA\", starting_year='2020')\n",
    "df_tsla = import_financial_data(\"TSLA\", starting_year='2020')\n",
    "\n",
    "# Create the data we are going to use\n",
    "data = pd.DataFrame()\n",
    "\n",
    "data['AMZN'] = df_amzn['adj_close']\n",
    "data['NVDA'] = df_nvda['adj_close']\n",
    "data['TSLA'] = df_tsla['adj_close']\n",
    "\n",
    "data"
   ],
   "execution_count": 25,
   "outputs": []
  },
  {
   "cell_type": "code",
   "id": "0d2c38d1-0c6c-4ef6-9056-d8e8cb5539db",
   "metadata": {
    "ExecuteTime": {
     "end_time": "2025-04-16T03:37:38.877883Z",
     "start_time": "2025-04-16T03:37:38.869653Z"
    }
   },
   "source": [
    "# Calculate Logarithmic Returns\n",
    "\n",
    "log_returns = np.log(data / data.shift(1)).dropna()\n",
    "\n",
    "log_returns"
   ],
   "execution_count": 26,
   "outputs": []
  },
  {
   "cell_type": "code",
   "id": "d93a6b3b-c7ca-4fa5-94f9-a75d3d3377f7",
   "metadata": {
    "ExecuteTime": {
     "end_time": "2025-04-16T03:37:38.882476Z",
     "start_time": "2025-04-16T03:37:38.877883Z"
    }
   },
   "source": [
    "# 1. Annualized Volatility (Standard Deviation)\n",
    "\n",
    "volatility = log_returns.std() * np.sqrt(252)\n",
    "\n",
    "print(\"Annualized Volatility:\")\n",
    "print(volatility)"
   ],
   "execution_count": 27,
   "outputs": []
  },
  {
   "cell_type": "code",
   "id": "21853ec0-bbbf-4cc2-a2de-3709e52613c8",
   "metadata": {
    "ExecuteTime": {
     "end_time": "2025-04-16T03:37:38.887347Z",
     "start_time": "2025-04-16T03:37:38.882476Z"
    }
   },
   "source": [
    "# 1.5 Annualized Variance (Standard Deviation)\n",
    "\n",
    "variance = log_returns.var() * 252\n",
    "\n",
    "print(\"Anualized Variance:\")\n",
    "print(variance)"
   ],
   "execution_count": 28,
   "outputs": []
  },
  {
   "cell_type": "code",
   "id": "08e59b87-3ac0-4d8d-9668-77531d6284d3",
   "metadata": {
    "ExecuteTime": {
     "end_time": "2025-04-16T03:37:38.893745Z",
     "start_time": "2025-04-16T03:37:38.889093Z"
    }
   },
   "source": [
    "# 2. Covariance Matrix\n",
    "covariance = log_returns.cov() * 252  # Anualized\n",
    "\n",
    "print(\"\\nCovariance Matrix:\")\n",
    "print(covariance)"
   ],
   "execution_count": 29,
   "outputs": []
  },
  {
   "cell_type": "code",
   "id": "22056622-1f06-4aa7-be10-415ee6324166",
   "metadata": {
    "ExecuteTime": {
     "end_time": "2025-04-16T03:37:38.898556Z",
     "start_time": "2025-04-16T03:37:38.893745Z"
    }
   },
   "source": [
    "# 3. Correlations\n",
    "correlations = log_returns.corr()\n",
    "\n",
    "print(\"\\nCorrelation Matrix:\")\n",
    "print(correlations)"
   ],
   "execution_count": 30,
   "outputs": []
  },
  {
   "cell_type": "code",
   "id": "49280eb0-d021-4e7e-8ad5-ab00df9d3e7d",
   "metadata": {
    "ExecuteTime": {
     "end_time": "2025-04-16T03:37:38.904057Z",
     "start_time": "2025-04-16T03:37:38.898556Z"
    }
   },
   "source": [
    "# 4. Value at Risk\n",
    "\n",
    "confidence_level = 0.95\n",
    "\n",
    "z_score = norm.ppf(1 - confidence_level)\n",
    "\n",
    "VaR_95 = log_returns.mean() + z_score * log_returns.std()\n",
    "VaR_95 = VaR_95 * np.sqrt(252)  # Anualized\n",
    "print(\"\\nAnualized Value at Risk (VaR) at 95% confidence level:\")\n",
    "print(VaR_95)\n"
   ],
   "execution_count": 31,
   "outputs": []
  },
  {
   "cell_type": "code",
   "id": "ea3afb0a-18f5-455a-a5de-be27d0fc189e",
   "metadata": {
    "ExecuteTime": {
     "end_time": "2025-04-16T03:37:38.928348Z",
     "start_time": "2025-04-16T03:37:38.905068Z"
    }
   },
   "source": [
    "# Download the SPY (benchmark)\n",
    "# S&P500\n",
    "benchmark = yf.download('^GSPC', start='2020-01-01', end='2025-01-01', interval='1d', auto_adjust=True)\n",
    "benchmark.dropna(inplace=True)\n",
    "\n",
    "benchmark"
   ],
   "execution_count": 32,
   "outputs": []
  },
  {
   "cell_type": "code",
   "id": "5582159d-ff33-4836-8230-18eaa157c591",
   "metadata": {
    "ExecuteTime": {
     "end_time": "2025-04-16T03:37:38.937283Z",
     "start_time": "2025-04-16T03:37:38.928348Z"
    }
   },
   "source": [
    "# Calculate the benchmark returns\n",
    "\n",
    "benchmark_rets = np.log(benchmark['Close'] / benchmark['Close'].shift(1)).dropna()\n",
    "\n",
    "# Reindex\n",
    "benchmark_rets = benchmark_rets.reindex(log_returns.index)\n",
    "\n",
    "benchmark_rets"
   ],
   "execution_count": 33,
   "outputs": []
  },
  {
   "cell_type": "code",
   "id": "0b9fe374-aa83-4b2f-8972-eae21bbd53e4",
   "metadata": {
    "ExecuteTime": {
     "end_time": "2025-04-16T03:37:38.945194Z",
     "start_time": "2025-04-16T03:37:38.937283Z"
    }
   },
   "source": [
    "# Calculate the Excess Returns\n",
    "\n",
    "excess_return = log_returns.subtract(benchmark_rets.squeeze(), axis=0)\n",
    "\n",
    "excess_return"
   ],
   "execution_count": 34,
   "outputs": []
  },
  {
   "cell_type": "code",
   "id": "735f5078-a2cd-4612-a61f-e43a702be4b2",
   "metadata": {
    "ExecuteTime": {
     "end_time": "2025-04-16T03:37:38.950053Z",
     "start_time": "2025-04-16T03:37:38.945194Z"
    }
   },
   "source": [
    "# Now calculate the Tracking Error (which is the Std of the Excess Returns)\n",
    "\n",
    "tracking_error = excess_return.std() * np.sqrt(252)\n",
    "\n",
    "print(\"\\nTracking Error:\")\n",
    "print(tracking_error)"
   ],
   "execution_count": 35,
   "outputs": []
  },
  {
   "cell_type": "code",
   "id": "46c79721-08a2-4e71-87a3-f5df0e90f2aa",
   "metadata": {
    "ExecuteTime": {
     "end_time": "2025-04-16T03:37:39.049559Z",
     "start_time": "2025-04-16T03:37:38.950053Z"
    }
   },
   "source": [
    "#Let us visualize the Risk Measures\n",
    "\n",
    "fig, ax = plt.subplots(figsize=(10, 6))\n",
    "volatility.plot(kind='bar', color='skyblue', label='Volatility (Risk)', alpha=0.5)\n",
    "tracking_error.plot(kind='bar', color='lightgreen', label='Tracking Error', alpha=0.5)\n",
    "VaR_95.plot(kind='bar', color='salmon', label='VaR 95%', alpha=0.7)\n",
    "plt.title('Risk Measures')\n",
    "plt.ylabel('Value')\n",
    "plt.legend()\n",
    "plt.show()"
   ],
   "execution_count": 36,
   "outputs": []
  },
  {
   "cell_type": "code",
   "id": "e3d41fd4-bfe8-4115-a215-4839dbc72b05",
   "metadata": {
    "ExecuteTime": {
     "end_time": "2025-04-16T03:37:39.054749Z",
     "start_time": "2025-04-16T03:37:39.049559Z"
    }
   },
   "source": [
    "# Tesla seems more riskier than Amazon\n",
    "\n",
    "mean = log_returns.mean() * 252\n",
    "\n",
    "print(\"Annualized Mean Returns:\")\n",
    "print(mean)"
   ],
   "execution_count": 37,
   "outputs": []
  },
  {
   "cell_type": "code",
   "id": "912079d8-8839-4670-a68b-75a505d02877",
   "metadata": {
    "ExecuteTime": {
     "end_time": "2025-04-16T03:37:39.060727Z",
     "start_time": "2025-04-16T03:37:39.054749Z"
    }
   },
   "source": [
    "# Risk Adjusted Returns\n",
    "\n",
    "eff_ratio = mean/volatility\n",
    "\n",
    "print(\"Risk Adjusted Returns:\")\n",
    "print(eff_ratio)"
   ],
   "execution_count": 38,
   "outputs": []
  },
  {
   "cell_type": "code",
   "id": "0538ade0-302c-4bc2-be27-519fb7db1662",
   "metadata": {
    "ExecuteTime": {
     "end_time": "2025-04-16T03:37:39.142718Z",
     "start_time": "2025-04-16T03:37:39.061776Z"
    }
   },
   "source": [
    "#Let us visualize\n",
    "\n",
    "fig, ax = plt.subplots(figsize=(10, 6))\n",
    "eff_ratio.plot(kind='bar', color='lightpink', label='Risk Adjusted Returns')\n",
    "ax.axhline(y=1, color='black', linestyle='--')\n",
    "plt.title('Risk Adjusted Returns')\n",
    "plt.ylabel('Value')\n",
    "plt.legend()\n",
    "plt.show()"
   ],
   "execution_count": 39,
   "outputs": []
  },
  {
   "cell_type": "code",
   "id": "5513cf4c-f7b6-4506-87e8-91b5a756bf0a",
   "metadata": {
    "ExecuteTime": {
     "end_time": "2025-04-16T03:38:00.481970Z",
     "start_time": "2025-04-16T03:38:00.471554Z"
    }
   },
   "source": [
    "# Calculate the Risk Adjusted Returns of the Benchmark (Risk Aversion Coefficient)\n",
    "\n",
    "mean_bench = benchmark_rets.mean() * 252\n",
    "\n",
    "var_bench = benchmark_rets.var() * 252\n",
    "\n",
    "eff_rate_bench = mean_bench/var_bench\n",
    "\n",
    "eff_rate_bench.values[0]"
   ],
   "execution_count": 42,
   "outputs": []
  },
  {
   "metadata": {},
   "cell_type": "code",
   "execution_count": null,
   "source": "",
   "id": "54026ef494f3d0be",
   "outputs": []
  }
 ],
 "metadata": {
  "kernelspec": {
   "display_name": "Python 3 (ipykernel)",
   "language": "python",
   "name": "python3"
  },
  "language_info": {
   "codemirror_mode": {
    "name": "ipython",
    "version": 3
   },
   "file_extension": ".py",
   "mimetype": "text/x-python",
   "name": "python",
   "nbconvert_exporter": "python",
   "pygments_lexer": "ipython3",
   "version": "3.11.7"
  }
 },
 "nbformat": 4,
 "nbformat_minor": 5
}
