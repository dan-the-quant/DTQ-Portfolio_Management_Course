{
 "cells": [
  {
   "cell_type": "markdown",
   "id": "c7d399f4-6d32-47d3-a3a0-0da071d8f6a3",
   "metadata": {},
   "source": [
    "# Introduction to Portfolio Theory: Risk Measures #"
   ]
  },
  {
   "metadata": {},
   "cell_type": "markdown",
   "source": "After studying benchmarks, Nancy concluded that she was somewhat fortunate to have chosen Nvidia stock as her first investment. Now, she wants to invest in an ETF because she believes it can help her maintain a medium-to-long-term investment strategy, as she is not ready for daily trading. Nancy wants to be more careful when choosing an ETF, so she compares three ETFs (SPY, IWY, and SPXL) and their risks.",
   "id": "5c93bc7cf477a0ba"
  },
  {
   "cell_type": "code",
   "id": "5cb94cc9-2ee2-4a67-a0be-7a92e7f05b88",
   "metadata": {
    "ExecuteTime": {
     "end_time": "2025-06-16T18:37:36.498174Z",
     "start_time": "2025-06-16T18:37:35.184372Z"
    }
   },
   "source": [
    "# Import Libraries\n",
    "\n",
    "# Data Management\n",
    "import pandas as pd\n",
    "import numpy as np\n",
    "\n",
    "# Statistics\n",
    "from scipy.stats import norm\n",
    "\n",
    "# Handle Files\n",
    "import sys\n",
    "import os\n",
    "\n",
    "# Import Local Functions\n",
    "sys.path.append(os.path.abspath(\"../source\"))\n",
    "from data_downloader import get_market_data\n",
    "\n",
    "# Visualization\n",
    "import matplotlib.pyplot as plt"
   ],
   "execution_count": 1,
   "outputs": []
  },
  {
   "metadata": {
    "ExecuteTime": {
     "end_time": "2025-06-16T18:37:38.685685Z",
     "start_time": "2025-06-16T18:37:37.391779Z"
    }
   },
   "cell_type": "code",
   "source": [
    "# Import Data\n",
    "df_1 = get_market_data(\n",
    "    ticker='SPY', \n",
    "    start_date='2015-01-01', \n",
    "    end_date='2025-01-01', \n",
    "    returns=True\n",
    ")\n",
    "\n",
    "df_1"
   ],
   "id": "d1057407427854d2",
   "execution_count": 2,
   "outputs": []
  },
  {
   "cell_type": "code",
   "id": "a3dd4be6-d58b-433b-a3c2-fe4553b16411",
   "metadata": {
    "ExecuteTime": {
     "end_time": "2025-06-16T18:37:49.094707Z",
     "start_time": "2025-06-16T18:37:47.650665Z"
    }
   },
   "source": [
    "# Get more data\n",
    "\n",
    "# Tech ETF\n",
    "df_2 = get_market_data(\n",
    "    ticker='IWY', \n",
    "    start_date='2015-01-01', \n",
    "    end_date='2025-01-01', \n",
    "    returns=True\n",
    ")\n",
    "\n",
    "# SP500 x3\n",
    "df_3 = get_market_data(\n",
    "    ticker='SPXL', \n",
    "    start_date='2015-01-01', \n",
    "    end_date='2025-01-01', \n",
    "    returns=True\n",
    ")"
   ],
   "execution_count": 3,
   "outputs": []
  },
  {
   "metadata": {
    "ExecuteTime": {
     "end_time": "2025-06-16T18:37:57.947948Z",
     "start_time": "2025-06-16T18:37:57.935079Z"
    }
   },
   "cell_type": "code",
   "source": [
    "# Create the data we are going to use\n",
    "data = pd.DataFrame()\n",
    "data['SPY'] = df_1['returns']\n",
    "data['IWY'] = df_2['returns']\n",
    "data['SPXL'] = df_3['returns']\n",
    "\n",
    "data"
   ],
   "id": "320d50b1ab187c64",
   "execution_count": 4,
   "outputs": []
  },
  {
   "cell_type": "code",
   "id": "d93a6b3b-c7ca-4fa5-94f9-a75d3d3377f7",
   "metadata": {
    "ExecuteTime": {
     "end_time": "2025-06-16T18:38:03.819274Z",
     "start_time": "2025-06-16T18:38:03.807935Z"
    }
   },
   "source": [
    "# 1. Annualized Volatility (Standard Deviation)\n",
    "volatility = data.std() * np.sqrt(252)\n",
    "\n",
    "print(\"Annualized Volatility:\\n\")\n",
    "print(volatility)"
   ],
   "execution_count": 5,
   "outputs": []
  },
  {
   "cell_type": "code",
   "id": "21853ec0-bbbf-4cc2-a2de-3709e52613c8",
   "metadata": {
    "ExecuteTime": {
     "end_time": "2025-05-23T21:21:14.727768Z",
     "start_time": "2025-05-23T21:21:14.721964Z"
    }
   },
   "source": [
    "# 1.5 Annualized Variance (Standard Deviation)\n",
    "\n",
    "variance = data.var() * 252\n",
    "\n",
    "print(\"Annualized Variance:\\n\")\n",
    "print(variance)"
   ],
   "execution_count": 38,
   "outputs": []
  },
  {
   "cell_type": "code",
   "id": "08e59b87-3ac0-4d8d-9668-77531d6284d3",
   "metadata": {
    "ExecuteTime": {
     "end_time": "2025-06-16T18:38:10.054732Z",
     "start_time": "2025-06-16T18:38:10.026238Z"
    }
   },
   "source": [
    "# 2. Covariance Matrix\n",
    "covariance = data.cov() * 252  # Annualized\n",
    "\n",
    "print(\"Covariance Matrix:\\n\")\n",
    "print(covariance)"
   ],
   "execution_count": 6,
   "outputs": []
  },
  {
   "cell_type": "code",
   "id": "22056622-1f06-4aa7-be10-415ee6324166",
   "metadata": {
    "ExecuteTime": {
     "end_time": "2025-06-16T18:38:13.687074Z",
     "start_time": "2025-06-16T18:38:13.675301Z"
    }
   },
   "source": [
    "# 3. Correlations\n",
    "correlations = data.corr()\n",
    "\n",
    "print(\"Correlation Matrix:\\n\")\n",
    "print(correlations)"
   ],
   "execution_count": 7,
   "outputs": []
  },
  {
   "cell_type": "code",
   "id": "49280eb0-d021-4e7e-8ad5-ab00df9d3e7d",
   "metadata": {
    "ExecuteTime": {
     "end_time": "2025-06-16T18:38:18.664154Z",
     "start_time": "2025-06-16T18:38:18.649905Z"
    }
   },
   "source": [
    "# 4. Value at Risk\n",
    "confidence_level = 0.95\n",
    "\n",
    "z_score = norm.ppf(1 - confidence_level)\n",
    "\n",
    "VaR_95 = data.mean() + z_score * data.std()\n",
    "VaR_95 = VaR_95 * np.sqrt(252)  # Annualized\n",
    "\n",
    "print(\"Annualized Value at Risk (VaR) at 95% confidence level:\\n\")\n",
    "print(VaR_95)"
   ],
   "execution_count": 8,
   "outputs": []
  },
  {
   "cell_type": "code",
   "id": "ea3afb0a-18f5-455a-a5de-be27d0fc189e",
   "metadata": {
    "ExecuteTime": {
     "end_time": "2025-06-16T18:39:43.180733Z",
     "start_time": "2025-06-16T18:39:43.150150Z"
    }
   },
   "source": [
    "# Download the Benchmark\n",
    "benchmark = pd.read_csv(r'..\\additional_data\\sp500.csv')\n",
    "benchmark.set_index('Date', inplace=True)\n",
    "benchmark.index = pd.to_datetime(benchmark.index)\n",
    "\n",
    "benchmark"
   ],
   "execution_count": 12,
   "outputs": []
  },
  {
   "cell_type": "code",
   "id": "5582159d-ff33-4836-8230-18eaa157c591",
   "metadata": {
    "ExecuteTime": {
     "end_time": "2025-06-16T18:39:43.801011Z",
     "start_time": "2025-06-16T18:39:43.796671Z"
    }
   },
   "source": [
    "# Calculate the benchmark returns\n",
    "benchmark_rets = benchmark['sp_500']"
   ],
   "execution_count": 13,
   "outputs": []
  },
  {
   "cell_type": "code",
   "id": "0b9fe374-aa83-4b2f-8972-eae21bbd53e4",
   "metadata": {
    "ExecuteTime": {
     "end_time": "2025-06-16T18:39:44.557307Z",
     "start_time": "2025-06-16T18:39:44.543194Z"
    }
   },
   "source": [
    "# Calculate the Excess Returns\n",
    "excess_return = data.subtract(benchmark_rets.squeeze(), axis=0)\n",
    "\n",
    "excess_return"
   ],
   "execution_count": 14,
   "outputs": []
  },
  {
   "cell_type": "code",
   "id": "735f5078-a2cd-4612-a61f-e43a702be4b2",
   "metadata": {
    "ExecuteTime": {
     "end_time": "2025-06-16T18:39:46.628352Z",
     "start_time": "2025-06-16T18:39:46.609703Z"
    }
   },
   "source": [
    "# Now calculate the Tracking Error (which is the Std of the Excess Returns)\n",
    "tracking_error = excess_return.std() * np.sqrt(252)\n",
    "\n",
    "print(\"\\nTracking Error:\")\n",
    "print(tracking_error)"
   ],
   "execution_count": 15,
   "outputs": []
  },
  {
   "cell_type": "code",
   "id": "46c79721-08a2-4e71-87a3-f5df0e90f2aa",
   "metadata": {
    "ExecuteTime": {
     "end_time": "2025-06-16T18:39:47.622593Z",
     "start_time": "2025-06-16T18:39:47.406376Z"
    }
   },
   "source": [
    "#Let us visualize the Risk Measures\n",
    "fig, ax = plt.subplots(figsize=(10, 6))\n",
    "volatility.plot(kind='bar', color='skyblue', label='Volatility (Risk)', alpha=0.5)\n",
    "tracking_error.plot(kind='bar', color='lightgreen', label='Tracking Error', alpha=0.5)\n",
    "VaR_95.plot(kind='bar', color='salmon', label='VaR 95%', alpha=0.7)\n",
    "plt.title('Risk Measures')\n",
    "plt.ylabel('Value')\n",
    "plt.legend()\n",
    "plt.show()"
   ],
   "execution_count": 16,
   "outputs": []
  },
  {
   "cell_type": "code",
   "id": "e3d41fd4-bfe8-4115-a215-4839dbc72b05",
   "metadata": {
    "ExecuteTime": {
     "end_time": "2025-06-16T18:40:11.189992Z",
     "start_time": "2025-06-16T18:40:11.177389Z"
    }
   },
   "source": [
    "# Naturally, the SPXL is more risky that the other ETFs\n",
    "mean = data.mean() * 252\n",
    "\n",
    "print(\"Annualized Mean Returns:\")\n",
    "print(mean)"
   ],
   "execution_count": 17,
   "outputs": []
  },
  {
   "cell_type": "code",
   "id": "912079d8-8839-4670-a68b-75a505d02877",
   "metadata": {
    "ExecuteTime": {
     "end_time": "2025-06-16T18:40:11.587878Z",
     "start_time": "2025-06-16T18:40:11.570279Z"
    }
   },
   "source": [
    "# Risk Adjusted Returns\n",
    "eff_ratio = mean/volatility\n",
    "\n",
    "print(\"Risk Adjusted Returns:\")\n",
    "print(eff_ratio)"
   ],
   "execution_count": 18,
   "outputs": []
  },
  {
   "cell_type": "code",
   "id": "0538ade0-302c-4bc2-be27-519fb7db1662",
   "metadata": {
    "ExecuteTime": {
     "end_time": "2025-06-16T18:40:12.338360Z",
     "start_time": "2025-06-16T18:40:12.252977Z"
    }
   },
   "source": [
    "#Let us visualize\n",
    "fig, ax = plt.subplots(figsize=(10, 6))\n",
    "eff_ratio.plot(kind='bar', color='lightpink', label='Risk Adjusted Returns')\n",
    "ax.axhline(y=1, color='black', linestyle='--')\n",
    "plt.title('Risk Adjusted Returns')\n",
    "plt.ylabel('Value')\n",
    "plt.legend()\n",
    "plt.show()"
   ],
   "execution_count": 19,
   "outputs": []
  },
  {
   "cell_type": "code",
   "id": "5513cf4c-f7b6-4506-87e8-91b5a756bf0a",
   "metadata": {
    "ExecuteTime": {
     "end_time": "2025-06-16T18:40:13.326845Z",
     "start_time": "2025-06-16T18:40:13.320472Z"
    }
   },
   "source": [
    "# Calculate the Risk Adjusted Returns of the Benchmark (Risk Aversion Coefficient)\n",
    "\n",
    "mean_bench = benchmark_rets.mean() * 252\n",
    "\n",
    "var_bench = benchmark_rets.var() * 252\n",
    "\n",
    "eff_rate_bench = mean_bench/var_bench\n",
    "\n",
    "eff_rate_bench"
   ],
   "execution_count": 20,
   "outputs": []
  },
  {
   "metadata": {},
   "cell_type": "code",
   "execution_count": null,
   "source": "",
   "id": "54026ef494f3d0be",
   "outputs": []
  }
 ],
 "metadata": {
  "kernelspec": {
   "display_name": "Python 3 (ipykernel)",
   "language": "python",
   "name": "python3"
  },
  "language_info": {
   "codemirror_mode": {
    "name": "ipython",
    "version": 3
   },
   "file_extension": ".py",
   "mimetype": "text/x-python",
   "name": "python",
   "nbconvert_exporter": "python",
   "pygments_lexer": "ipython3",
   "version": "3.11.7"
  }
 },
 "nbformat": 4,
 "nbformat_minor": 5
}
