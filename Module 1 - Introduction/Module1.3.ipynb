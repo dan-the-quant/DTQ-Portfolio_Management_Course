{
 "cells": [
  {
   "cell_type": "markdown",
   "id": "c7d399f4-6d32-47d3-a3a0-0da071d8f6a3",
   "metadata": {},
   "source": [
    "# Introduction to Portfolio Theory: Risk Measures #"
   ]
  },
  {
   "metadata": {},
   "cell_type": "markdown",
   "source": "After studying benchmarks, Nancy concluded that she was somewhat fortunate to have chosen Nvidia stock as her first investment. Now, she wants to invest in an ETF because she believes it can help her maintain a medium-to-long-term investment strategy, as she is not ready for daily trading. Nancy wants to be more careful when choosing an ETF, so she compares three ETFs (SPY, IWY, and SPXL) and their risks.",
   "id": "5c93bc7cf477a0ba"
  },
  {
   "cell_type": "code",
   "id": "5cb94cc9-2ee2-4a67-a0be-7a92e7f05b88",
   "metadata": {
    "ExecuteTime": {
     "end_time": "2025-05-23T21:10:30.558024Z",
     "start_time": "2025-05-23T21:10:30.541449Z"
    }
   },
   "source": [
    "# Import Libraries\n",
    "\n",
    "# Data Management\n",
    "import pandas as pd\n",
    "import numpy as np\n",
    "\n",
    "# Statistics\n",
    "from scipy.stats import norm\n",
    "\n",
    "# Import Data\n",
    "import yfinance as yf\n",
    "\n",
    "# Handle Files\n",
    "import sys\n",
    "import os\n",
    "\n",
    "# Import Local Functions\n",
    "sys.path.append(os.path.abspath(\"../source\"))\n",
    "from functions import import_daily_financial_data\n",
    "\n",
    "# Visualization\n",
    "import matplotlib.pyplot as plt"
   ],
   "outputs": [],
   "execution_count": 2
  },
  {
   "metadata": {
    "ExecuteTime": {
     "end_time": "2025-05-23T21:20:54.518832Z",
     "start_time": "2025-05-23T21:20:54.452502Z"
    }
   },
   "cell_type": "code",
   "source": [
    "# Import Data\n",
    "df_1 = import_daily_financial_data(\n",
    "    ticker='SPY', \n",
    "    start_date='2015-01-01', \n",
    "    end_date='2025-01-01', \n",
    "    returns=True\n",
    ")\n",
    "\n",
    "df_1"
   ],
   "id": "d1057407427854d2",
   "outputs": [
    {
     "name": "stderr",
     "output_type": "stream",
     "text": [
      "[*********************100%***********************]  1 of 1 completed\n"
     ]
    },
    {
     "data": {
      "text/plain": [
       "Price            close        high         low        open     volume  \\\n",
       "Date                                                                    \n",
       "2015-01-05  168.967651  171.187378  168.657731  171.019854  169632600   \n",
       "2015-01-06  167.376114  169.805249  166.571979  169.277535  209151400   \n",
       "2015-01-07  169.461823  169.805256  168.264011  168.716328  125346700   \n",
       "2015-01-08  172.468903  172.686696  170.869031  170.885774  147217800   \n",
       "2015-01-09  171.086884  172.904549  170.467029  172.887793  158567300   \n",
       "...                ...         ...         ...         ...        ...   \n",
       "2024-12-24  599.496582  599.536501  593.684050  594.272307   33160100   \n",
       "2024-12-26  599.536499  600.673034  596.286267  597.701991   41219100   \n",
       "2024-12-27  593.225464  595.987176  588.988210  595.747844   64969300   \n",
       "2024-12-30  586.455811  589.965273  582.657240  586.126844   56578800   \n",
       "2024-12-31  584.322266  588.868587  582.667210  588.140735   57052700   \n",
       "\n",
       "Price        returns  \n",
       "Date                  \n",
       "2015-01-05 -0.018224  \n",
       "2015-01-06 -0.009464  \n",
       "2015-01-07  0.012384  \n",
       "2015-01-08  0.017589  \n",
       "2015-01-09 -0.008045  \n",
       "...              ...  \n",
       "2024-12-24  0.011054  \n",
       "2024-12-26  0.000067  \n",
       "2024-12-27 -0.010582  \n",
       "2024-12-30 -0.011477  \n",
       "2024-12-31 -0.003645  \n",
       "\n",
       "[2515 rows x 6 columns]"
      ],
      "text/html": [
       "<div>\n",
       "<style scoped>\n",
       "    .dataframe tbody tr th:only-of-type {\n",
       "        vertical-align: middle;\n",
       "    }\n",
       "\n",
       "    .dataframe tbody tr th {\n",
       "        vertical-align: top;\n",
       "    }\n",
       "\n",
       "    .dataframe thead th {\n",
       "        text-align: right;\n",
       "    }\n",
       "</style>\n",
       "<table border=\"1\" class=\"dataframe\">\n",
       "  <thead>\n",
       "    <tr style=\"text-align: right;\">\n",
       "      <th>Price</th>\n",
       "      <th>close</th>\n",
       "      <th>high</th>\n",
       "      <th>low</th>\n",
       "      <th>open</th>\n",
       "      <th>volume</th>\n",
       "      <th>returns</th>\n",
       "    </tr>\n",
       "    <tr>\n",
       "      <th>Date</th>\n",
       "      <th></th>\n",
       "      <th></th>\n",
       "      <th></th>\n",
       "      <th></th>\n",
       "      <th></th>\n",
       "      <th></th>\n",
       "    </tr>\n",
       "  </thead>\n",
       "  <tbody>\n",
       "    <tr>\n",
       "      <th>2015-01-05</th>\n",
       "      <td>168.967651</td>\n",
       "      <td>171.187378</td>\n",
       "      <td>168.657731</td>\n",
       "      <td>171.019854</td>\n",
       "      <td>169632600</td>\n",
       "      <td>-0.018224</td>\n",
       "    </tr>\n",
       "    <tr>\n",
       "      <th>2015-01-06</th>\n",
       "      <td>167.376114</td>\n",
       "      <td>169.805249</td>\n",
       "      <td>166.571979</td>\n",
       "      <td>169.277535</td>\n",
       "      <td>209151400</td>\n",
       "      <td>-0.009464</td>\n",
       "    </tr>\n",
       "    <tr>\n",
       "      <th>2015-01-07</th>\n",
       "      <td>169.461823</td>\n",
       "      <td>169.805256</td>\n",
       "      <td>168.264011</td>\n",
       "      <td>168.716328</td>\n",
       "      <td>125346700</td>\n",
       "      <td>0.012384</td>\n",
       "    </tr>\n",
       "    <tr>\n",
       "      <th>2015-01-08</th>\n",
       "      <td>172.468903</td>\n",
       "      <td>172.686696</td>\n",
       "      <td>170.869031</td>\n",
       "      <td>170.885774</td>\n",
       "      <td>147217800</td>\n",
       "      <td>0.017589</td>\n",
       "    </tr>\n",
       "    <tr>\n",
       "      <th>2015-01-09</th>\n",
       "      <td>171.086884</td>\n",
       "      <td>172.904549</td>\n",
       "      <td>170.467029</td>\n",
       "      <td>172.887793</td>\n",
       "      <td>158567300</td>\n",
       "      <td>-0.008045</td>\n",
       "    </tr>\n",
       "    <tr>\n",
       "      <th>...</th>\n",
       "      <td>...</td>\n",
       "      <td>...</td>\n",
       "      <td>...</td>\n",
       "      <td>...</td>\n",
       "      <td>...</td>\n",
       "      <td>...</td>\n",
       "    </tr>\n",
       "    <tr>\n",
       "      <th>2024-12-24</th>\n",
       "      <td>599.496582</td>\n",
       "      <td>599.536501</td>\n",
       "      <td>593.684050</td>\n",
       "      <td>594.272307</td>\n",
       "      <td>33160100</td>\n",
       "      <td>0.011054</td>\n",
       "    </tr>\n",
       "    <tr>\n",
       "      <th>2024-12-26</th>\n",
       "      <td>599.536499</td>\n",
       "      <td>600.673034</td>\n",
       "      <td>596.286267</td>\n",
       "      <td>597.701991</td>\n",
       "      <td>41219100</td>\n",
       "      <td>0.000067</td>\n",
       "    </tr>\n",
       "    <tr>\n",
       "      <th>2024-12-27</th>\n",
       "      <td>593.225464</td>\n",
       "      <td>595.987176</td>\n",
       "      <td>588.988210</td>\n",
       "      <td>595.747844</td>\n",
       "      <td>64969300</td>\n",
       "      <td>-0.010582</td>\n",
       "    </tr>\n",
       "    <tr>\n",
       "      <th>2024-12-30</th>\n",
       "      <td>586.455811</td>\n",
       "      <td>589.965273</td>\n",
       "      <td>582.657240</td>\n",
       "      <td>586.126844</td>\n",
       "      <td>56578800</td>\n",
       "      <td>-0.011477</td>\n",
       "    </tr>\n",
       "    <tr>\n",
       "      <th>2024-12-31</th>\n",
       "      <td>584.322266</td>\n",
       "      <td>588.868587</td>\n",
       "      <td>582.667210</td>\n",
       "      <td>588.140735</td>\n",
       "      <td>57052700</td>\n",
       "      <td>-0.003645</td>\n",
       "    </tr>\n",
       "  </tbody>\n",
       "</table>\n",
       "<p>2515 rows × 6 columns</p>\n",
       "</div>"
      ]
     },
     "execution_count": 33,
     "metadata": {},
     "output_type": "execute_result"
    }
   ],
   "execution_count": 33
  },
  {
   "cell_type": "code",
   "id": "a3dd4be6-d58b-433b-a3c2-fe4553b16411",
   "metadata": {
    "ExecuteTime": {
     "end_time": "2025-05-23T21:21:08.747436Z",
     "start_time": "2025-05-23T21:21:08.642100Z"
    }
   },
   "source": [
    "# Get more data\n",
    "\n",
    "# Tech ETF\n",
    "df_2 = import_daily_financial_data(\n",
    "    ticker='IWY', \n",
    "    start_date='2015-01-01', \n",
    "    end_date='2025-01-01', \n",
    "    returns=True\n",
    ")\n",
    "\n",
    "# SP500 x3\n",
    "df_3 = import_daily_financial_data(\n",
    "    ticker='SPXL', \n",
    "    start_date='2015-01-01', \n",
    "    end_date='2025-01-01', \n",
    "    returns=True\n",
    ")"
   ],
   "outputs": [
    {
     "name": "stderr",
     "output_type": "stream",
     "text": [
      "[*********************100%***********************]  1 of 1 completed\n",
      "[*********************100%***********************]  1 of 1 completed\n"
     ]
    }
   ],
   "execution_count": 35
  },
  {
   "metadata": {
    "ExecuteTime": {
     "end_time": "2025-05-23T21:21:10.731104Z",
     "start_time": "2025-05-23T21:21:10.712520Z"
    }
   },
   "cell_type": "code",
   "source": [
    "# Create the data we are going to use\n",
    "data = pd.DataFrame()\n",
    "\n",
    "data['SPY'] = df_1['returns']\n",
    "data['IWY'] = df_2['returns']\n",
    "data['SPXL'] = df_3['returns']\n",
    "\n",
    "data"
   ],
   "id": "320d50b1ab187c64",
   "outputs": [
    {
     "data": {
      "text/plain": [
       "                 SPY       IWY      SPXL\n",
       "Date                                    \n",
       "2015-01-05 -0.018224 -0.016821 -0.055120\n",
       "2015-01-06 -0.009464 -0.009332 -0.027998\n",
       "2015-01-07  0.012384  0.012760  0.036522\n",
       "2015-01-08  0.017589  0.018346  0.051831\n",
       "2015-01-09 -0.008045 -0.007537 -0.025754\n",
       "...              ...       ...       ...\n",
       "2024-12-24  0.011054  0.013657  0.030746\n",
       "2024-12-26  0.000067 -0.001805  0.000055\n",
       "2024-12-27 -0.010582 -0.014681 -0.032044\n",
       "2024-12-30 -0.011477 -0.012155 -0.035386\n",
       "2024-12-31 -0.003645 -0.007917 -0.012020\n",
       "\n",
       "[2515 rows x 3 columns]"
      ],
      "text/html": [
       "<div>\n",
       "<style scoped>\n",
       "    .dataframe tbody tr th:only-of-type {\n",
       "        vertical-align: middle;\n",
       "    }\n",
       "\n",
       "    .dataframe tbody tr th {\n",
       "        vertical-align: top;\n",
       "    }\n",
       "\n",
       "    .dataframe thead th {\n",
       "        text-align: right;\n",
       "    }\n",
       "</style>\n",
       "<table border=\"1\" class=\"dataframe\">\n",
       "  <thead>\n",
       "    <tr style=\"text-align: right;\">\n",
       "      <th></th>\n",
       "      <th>SPY</th>\n",
       "      <th>IWY</th>\n",
       "      <th>SPXL</th>\n",
       "    </tr>\n",
       "    <tr>\n",
       "      <th>Date</th>\n",
       "      <th></th>\n",
       "      <th></th>\n",
       "      <th></th>\n",
       "    </tr>\n",
       "  </thead>\n",
       "  <tbody>\n",
       "    <tr>\n",
       "      <th>2015-01-05</th>\n",
       "      <td>-0.018224</td>\n",
       "      <td>-0.016821</td>\n",
       "      <td>-0.055120</td>\n",
       "    </tr>\n",
       "    <tr>\n",
       "      <th>2015-01-06</th>\n",
       "      <td>-0.009464</td>\n",
       "      <td>-0.009332</td>\n",
       "      <td>-0.027998</td>\n",
       "    </tr>\n",
       "    <tr>\n",
       "      <th>2015-01-07</th>\n",
       "      <td>0.012384</td>\n",
       "      <td>0.012760</td>\n",
       "      <td>0.036522</td>\n",
       "    </tr>\n",
       "    <tr>\n",
       "      <th>2015-01-08</th>\n",
       "      <td>0.017589</td>\n",
       "      <td>0.018346</td>\n",
       "      <td>0.051831</td>\n",
       "    </tr>\n",
       "    <tr>\n",
       "      <th>2015-01-09</th>\n",
       "      <td>-0.008045</td>\n",
       "      <td>-0.007537</td>\n",
       "      <td>-0.025754</td>\n",
       "    </tr>\n",
       "    <tr>\n",
       "      <th>...</th>\n",
       "      <td>...</td>\n",
       "      <td>...</td>\n",
       "      <td>...</td>\n",
       "    </tr>\n",
       "    <tr>\n",
       "      <th>2024-12-24</th>\n",
       "      <td>0.011054</td>\n",
       "      <td>0.013657</td>\n",
       "      <td>0.030746</td>\n",
       "    </tr>\n",
       "    <tr>\n",
       "      <th>2024-12-26</th>\n",
       "      <td>0.000067</td>\n",
       "      <td>-0.001805</td>\n",
       "      <td>0.000055</td>\n",
       "    </tr>\n",
       "    <tr>\n",
       "      <th>2024-12-27</th>\n",
       "      <td>-0.010582</td>\n",
       "      <td>-0.014681</td>\n",
       "      <td>-0.032044</td>\n",
       "    </tr>\n",
       "    <tr>\n",
       "      <th>2024-12-30</th>\n",
       "      <td>-0.011477</td>\n",
       "      <td>-0.012155</td>\n",
       "      <td>-0.035386</td>\n",
       "    </tr>\n",
       "    <tr>\n",
       "      <th>2024-12-31</th>\n",
       "      <td>-0.003645</td>\n",
       "      <td>-0.007917</td>\n",
       "      <td>-0.012020</td>\n",
       "    </tr>\n",
       "  </tbody>\n",
       "</table>\n",
       "<p>2515 rows × 3 columns</p>\n",
       "</div>"
      ]
     },
     "execution_count": 36,
     "metadata": {},
     "output_type": "execute_result"
    }
   ],
   "execution_count": 36
  },
  {
   "cell_type": "code",
   "id": "d93a6b3b-c7ca-4fa5-94f9-a75d3d3377f7",
   "metadata": {
    "ExecuteTime": {
     "end_time": "2025-05-23T21:21:12.899057Z",
     "start_time": "2025-05-23T21:21:12.883385Z"
    }
   },
   "source": [
    "# 1. Annualized Volatility (Standard Deviation)\n",
    "\n",
    "volatility = data.std() * np.sqrt(252)\n",
    "\n",
    "print(\"Annualized Volatility:\\n\")\n",
    "print(volatility)"
   ],
   "outputs": [
    {
     "name": "stdout",
     "output_type": "stream",
     "text": [
      "Annualized Volatility:\n",
      "\n",
      "SPY     0.176793\n",
      "IWY     0.202666\n",
      "SPXL    0.536495\n",
      "dtype: float64\n"
     ]
    }
   ],
   "execution_count": 37
  },
  {
   "cell_type": "code",
   "id": "21853ec0-bbbf-4cc2-a2de-3709e52613c8",
   "metadata": {
    "ExecuteTime": {
     "end_time": "2025-05-23T21:21:14.727768Z",
     "start_time": "2025-05-23T21:21:14.721964Z"
    }
   },
   "source": [
    "# 1.5 Annualized Variance (Standard Deviation)\n",
    "\n",
    "variance = data.var() * 252\n",
    "\n",
    "print(\"Annualized Variance:\\n\")\n",
    "print(variance)"
   ],
   "outputs": [
    {
     "name": "stdout",
     "output_type": "stream",
     "text": [
      "Annualized Variance:\n",
      "\n",
      "SPY     0.031256\n",
      "IWY     0.041074\n",
      "SPXL    0.287827\n",
      "dtype: float64\n"
     ]
    }
   ],
   "execution_count": 38
  },
  {
   "cell_type": "code",
   "id": "08e59b87-3ac0-4d8d-9668-77531d6284d3",
   "metadata": {
    "ExecuteTime": {
     "end_time": "2025-05-23T21:21:16.538213Z",
     "start_time": "2025-05-23T21:21:16.525973Z"
    }
   },
   "source": [
    "# 2. Covariance Matrix\n",
    "covariance = data.cov() * 252  # Annualized\n",
    "\n",
    "print(\"Covariance Matrix:\\n\")\n",
    "print(covariance)"
   ],
   "outputs": [
    {
     "name": "stdout",
     "output_type": "stream",
     "text": [
      "Covariance Matrix:\n",
      "\n",
      "           SPY       IWY      SPXL\n",
      "SPY   0.031256  0.034056  0.094679\n",
      "IWY   0.034056  0.041074  0.103067\n",
      "SPXL  0.094679  0.103067  0.287827\n"
     ]
    }
   ],
   "execution_count": 39
  },
  {
   "cell_type": "code",
   "id": "22056622-1f06-4aa7-be10-415ee6324166",
   "metadata": {
    "ExecuteTime": {
     "end_time": "2025-05-23T21:21:19.276178Z",
     "start_time": "2025-05-23T21:21:19.267583Z"
    }
   },
   "source": [
    "# 3. Correlations\n",
    "correlations = data.corr()\n",
    "\n",
    "print(\"Correlation Matrix:\\n\")\n",
    "print(correlations)"
   ],
   "outputs": [
    {
     "name": "stdout",
     "output_type": "stream",
     "text": [
      "Correlation Matrix:\n",
      "\n",
      "           SPY       IWY      SPXL\n",
      "SPY   1.000000  0.950480  0.998211\n",
      "IWY   0.950480  1.000000  0.947923\n",
      "SPXL  0.998211  0.947923  1.000000\n"
     ]
    }
   ],
   "execution_count": 40
  },
  {
   "cell_type": "code",
   "id": "49280eb0-d021-4e7e-8ad5-ab00df9d3e7d",
   "metadata": {
    "ExecuteTime": {
     "end_time": "2025-05-23T21:21:20.709407Z",
     "start_time": "2025-05-23T21:21:20.700114Z"
    }
   },
   "source": [
    "# 4. Value at Risk\n",
    "confidence_level = 0.95\n",
    "\n",
    "z_score = norm.ppf(1 - confidence_level)\n",
    "\n",
    "VaR_95 = data.mean() + z_score * data.std()\n",
    "VaR_95 = VaR_95 * np.sqrt(252)  # Annualized\n",
    "\n",
    "print(\"Annualized Value at Risk (VaR) at 95% confidence level:\\n\")\n",
    "print(VaR_95)"
   ],
   "outputs": [
    {
     "name": "stdout",
     "output_type": "stream",
     "text": [
      "Annualized Value at Risk (VaR) at 95% confidence level:\n",
      "\n",
      "SPY    -0.283083\n",
      "IWY    -0.322968\n",
      "SPXL   -0.869034\n",
      "dtype: float64\n"
     ]
    }
   ],
   "execution_count": 41
  },
  {
   "cell_type": "code",
   "id": "ea3afb0a-18f5-455a-a5de-be27d0fc189e",
   "metadata": {
    "ExecuteTime": {
     "end_time": "2025-05-23T21:21:22.114779Z",
     "start_time": "2025-05-23T21:21:22.051544Z"
    }
   },
   "source": [
    "# Download the Benchmark\n",
    "benchmark = import_daily_financial_data(\n",
    "    ticker='^GSPC', \n",
    "    start_date='2015-01-01', \n",
    "    end_date='2025-01-01', \n",
    "    returns=True\n",
    ")\n",
    "\n",
    "benchmark"
   ],
   "outputs": [
    {
     "name": "stderr",
     "output_type": "stream",
     "text": [
      "[*********************100%***********************]  1 of 1 completed\n"
     ]
    },
    {
     "data": {
      "text/plain": [
       "Price             close         high          low         open      volume  \\\n",
       "Date                                                                         \n",
       "2015-01-05  2020.579956  2054.439941  2017.339966  2054.439941  3799120000   \n",
       "2015-01-06  2002.609985  2030.250000  1992.439941  2022.150024  4460110000   \n",
       "2015-01-07  2025.900024  2029.609985  2005.550049  2005.550049  3805480000   \n",
       "2015-01-08  2062.139893  2064.080078  2030.609985  2030.609985  3934010000   \n",
       "2015-01-09  2044.810059  2064.429932  2038.329956  2063.449951  3364140000   \n",
       "...                 ...          ...          ...          ...         ...   \n",
       "2024-12-24  6040.040039  6040.100098  5981.439941  5984.629883  1757720000   \n",
       "2024-12-26  6037.589844  6049.750000  6007.370117  6024.970215  2904530000   \n",
       "2024-12-27  5970.839844  6006.169922  5932.950195  6006.169922  3159610000   \n",
       "2024-12-30  5906.939941  5940.790039  5869.160156  5920.669922  3433250000   \n",
       "2024-12-31  5881.629883  5929.740234  5868.859863  5919.740234  3128350000   \n",
       "\n",
       "Price        returns  \n",
       "Date                  \n",
       "2015-01-05 -0.018447  \n",
       "2015-01-06 -0.008933  \n",
       "2015-01-07  0.011563  \n",
       "2015-01-08  0.017730  \n",
       "2015-01-09 -0.008439  \n",
       "...              ...  \n",
       "2024-12-24  0.010982  \n",
       "2024-12-26 -0.000406  \n",
       "2024-12-27 -0.011117  \n",
       "2024-12-30 -0.010760  \n",
       "2024-12-31 -0.004294  \n",
       "\n",
       "[2515 rows x 6 columns]"
      ],
      "text/html": [
       "<div>\n",
       "<style scoped>\n",
       "    .dataframe tbody tr th:only-of-type {\n",
       "        vertical-align: middle;\n",
       "    }\n",
       "\n",
       "    .dataframe tbody tr th {\n",
       "        vertical-align: top;\n",
       "    }\n",
       "\n",
       "    .dataframe thead th {\n",
       "        text-align: right;\n",
       "    }\n",
       "</style>\n",
       "<table border=\"1\" class=\"dataframe\">\n",
       "  <thead>\n",
       "    <tr style=\"text-align: right;\">\n",
       "      <th>Price</th>\n",
       "      <th>close</th>\n",
       "      <th>high</th>\n",
       "      <th>low</th>\n",
       "      <th>open</th>\n",
       "      <th>volume</th>\n",
       "      <th>returns</th>\n",
       "    </tr>\n",
       "    <tr>\n",
       "      <th>Date</th>\n",
       "      <th></th>\n",
       "      <th></th>\n",
       "      <th></th>\n",
       "      <th></th>\n",
       "      <th></th>\n",
       "      <th></th>\n",
       "    </tr>\n",
       "  </thead>\n",
       "  <tbody>\n",
       "    <tr>\n",
       "      <th>2015-01-05</th>\n",
       "      <td>2020.579956</td>\n",
       "      <td>2054.439941</td>\n",
       "      <td>2017.339966</td>\n",
       "      <td>2054.439941</td>\n",
       "      <td>3799120000</td>\n",
       "      <td>-0.018447</td>\n",
       "    </tr>\n",
       "    <tr>\n",
       "      <th>2015-01-06</th>\n",
       "      <td>2002.609985</td>\n",
       "      <td>2030.250000</td>\n",
       "      <td>1992.439941</td>\n",
       "      <td>2022.150024</td>\n",
       "      <td>4460110000</td>\n",
       "      <td>-0.008933</td>\n",
       "    </tr>\n",
       "    <tr>\n",
       "      <th>2015-01-07</th>\n",
       "      <td>2025.900024</td>\n",
       "      <td>2029.609985</td>\n",
       "      <td>2005.550049</td>\n",
       "      <td>2005.550049</td>\n",
       "      <td>3805480000</td>\n",
       "      <td>0.011563</td>\n",
       "    </tr>\n",
       "    <tr>\n",
       "      <th>2015-01-08</th>\n",
       "      <td>2062.139893</td>\n",
       "      <td>2064.080078</td>\n",
       "      <td>2030.609985</td>\n",
       "      <td>2030.609985</td>\n",
       "      <td>3934010000</td>\n",
       "      <td>0.017730</td>\n",
       "    </tr>\n",
       "    <tr>\n",
       "      <th>2015-01-09</th>\n",
       "      <td>2044.810059</td>\n",
       "      <td>2064.429932</td>\n",
       "      <td>2038.329956</td>\n",
       "      <td>2063.449951</td>\n",
       "      <td>3364140000</td>\n",
       "      <td>-0.008439</td>\n",
       "    </tr>\n",
       "    <tr>\n",
       "      <th>...</th>\n",
       "      <td>...</td>\n",
       "      <td>...</td>\n",
       "      <td>...</td>\n",
       "      <td>...</td>\n",
       "      <td>...</td>\n",
       "      <td>...</td>\n",
       "    </tr>\n",
       "    <tr>\n",
       "      <th>2024-12-24</th>\n",
       "      <td>6040.040039</td>\n",
       "      <td>6040.100098</td>\n",
       "      <td>5981.439941</td>\n",
       "      <td>5984.629883</td>\n",
       "      <td>1757720000</td>\n",
       "      <td>0.010982</td>\n",
       "    </tr>\n",
       "    <tr>\n",
       "      <th>2024-12-26</th>\n",
       "      <td>6037.589844</td>\n",
       "      <td>6049.750000</td>\n",
       "      <td>6007.370117</td>\n",
       "      <td>6024.970215</td>\n",
       "      <td>2904530000</td>\n",
       "      <td>-0.000406</td>\n",
       "    </tr>\n",
       "    <tr>\n",
       "      <th>2024-12-27</th>\n",
       "      <td>5970.839844</td>\n",
       "      <td>6006.169922</td>\n",
       "      <td>5932.950195</td>\n",
       "      <td>6006.169922</td>\n",
       "      <td>3159610000</td>\n",
       "      <td>-0.011117</td>\n",
       "    </tr>\n",
       "    <tr>\n",
       "      <th>2024-12-30</th>\n",
       "      <td>5906.939941</td>\n",
       "      <td>5940.790039</td>\n",
       "      <td>5869.160156</td>\n",
       "      <td>5920.669922</td>\n",
       "      <td>3433250000</td>\n",
       "      <td>-0.010760</td>\n",
       "    </tr>\n",
       "    <tr>\n",
       "      <th>2024-12-31</th>\n",
       "      <td>5881.629883</td>\n",
       "      <td>5929.740234</td>\n",
       "      <td>5868.859863</td>\n",
       "      <td>5919.740234</td>\n",
       "      <td>3128350000</td>\n",
       "      <td>-0.004294</td>\n",
       "    </tr>\n",
       "  </tbody>\n",
       "</table>\n",
       "<p>2515 rows × 6 columns</p>\n",
       "</div>"
      ]
     },
     "execution_count": 42,
     "metadata": {},
     "output_type": "execute_result"
    }
   ],
   "execution_count": 42
  },
  {
   "cell_type": "code",
   "id": "5582159d-ff33-4836-8230-18eaa157c591",
   "metadata": {
    "ExecuteTime": {
     "end_time": "2025-05-23T21:21:23.528282Z",
     "start_time": "2025-05-23T21:21:23.523099Z"
    }
   },
   "source": [
    "# Calculate the benchmark returns\n",
    "benchmark_rets = benchmark['returns']"
   ],
   "outputs": [],
   "execution_count": 43
  },
  {
   "cell_type": "code",
   "id": "0b9fe374-aa83-4b2f-8972-eae21bbd53e4",
   "metadata": {
    "ExecuteTime": {
     "end_time": "2025-05-23T21:21:24.894069Z",
     "start_time": "2025-05-23T21:21:24.878483Z"
    }
   },
   "source": [
    "# Calculate the Excess Returns\n",
    "\n",
    "excess_return = data.subtract(benchmark_rets.squeeze(), axis=0)\n",
    "\n",
    "excess_return"
   ],
   "outputs": [
    {
     "data": {
      "text/plain": [
       "                 SPY       IWY      SPXL\n",
       "Date                                    \n",
       "2015-01-05  0.000223  0.001626 -0.036673\n",
       "2015-01-06 -0.000531 -0.000399 -0.019065\n",
       "2015-01-07  0.000821  0.001197  0.024959\n",
       "2015-01-08 -0.000141  0.000616  0.034101\n",
       "2015-01-09  0.000394  0.000903 -0.017315\n",
       "...              ...       ...       ...\n",
       "2024-12-24  0.000071  0.002675  0.019764\n",
       "2024-12-26  0.000472 -0.001399  0.000460\n",
       "2024-12-27  0.000535 -0.003564 -0.020926\n",
       "2024-12-30 -0.000718 -0.001395 -0.024626\n",
       "2024-12-31  0.000649 -0.003623 -0.007726\n",
       "\n",
       "[2515 rows x 3 columns]"
      ],
      "text/html": [
       "<div>\n",
       "<style scoped>\n",
       "    .dataframe tbody tr th:only-of-type {\n",
       "        vertical-align: middle;\n",
       "    }\n",
       "\n",
       "    .dataframe tbody tr th {\n",
       "        vertical-align: top;\n",
       "    }\n",
       "\n",
       "    .dataframe thead th {\n",
       "        text-align: right;\n",
       "    }\n",
       "</style>\n",
       "<table border=\"1\" class=\"dataframe\">\n",
       "  <thead>\n",
       "    <tr style=\"text-align: right;\">\n",
       "      <th></th>\n",
       "      <th>SPY</th>\n",
       "      <th>IWY</th>\n",
       "      <th>SPXL</th>\n",
       "    </tr>\n",
       "    <tr>\n",
       "      <th>Date</th>\n",
       "      <th></th>\n",
       "      <th></th>\n",
       "      <th></th>\n",
       "    </tr>\n",
       "  </thead>\n",
       "  <tbody>\n",
       "    <tr>\n",
       "      <th>2015-01-05</th>\n",
       "      <td>0.000223</td>\n",
       "      <td>0.001626</td>\n",
       "      <td>-0.036673</td>\n",
       "    </tr>\n",
       "    <tr>\n",
       "      <th>2015-01-06</th>\n",
       "      <td>-0.000531</td>\n",
       "      <td>-0.000399</td>\n",
       "      <td>-0.019065</td>\n",
       "    </tr>\n",
       "    <tr>\n",
       "      <th>2015-01-07</th>\n",
       "      <td>0.000821</td>\n",
       "      <td>0.001197</td>\n",
       "      <td>0.024959</td>\n",
       "    </tr>\n",
       "    <tr>\n",
       "      <th>2015-01-08</th>\n",
       "      <td>-0.000141</td>\n",
       "      <td>0.000616</td>\n",
       "      <td>0.034101</td>\n",
       "    </tr>\n",
       "    <tr>\n",
       "      <th>2015-01-09</th>\n",
       "      <td>0.000394</td>\n",
       "      <td>0.000903</td>\n",
       "      <td>-0.017315</td>\n",
       "    </tr>\n",
       "    <tr>\n",
       "      <th>...</th>\n",
       "      <td>...</td>\n",
       "      <td>...</td>\n",
       "      <td>...</td>\n",
       "    </tr>\n",
       "    <tr>\n",
       "      <th>2024-12-24</th>\n",
       "      <td>0.000071</td>\n",
       "      <td>0.002675</td>\n",
       "      <td>0.019764</td>\n",
       "    </tr>\n",
       "    <tr>\n",
       "      <th>2024-12-26</th>\n",
       "      <td>0.000472</td>\n",
       "      <td>-0.001399</td>\n",
       "      <td>0.000460</td>\n",
       "    </tr>\n",
       "    <tr>\n",
       "      <th>2024-12-27</th>\n",
       "      <td>0.000535</td>\n",
       "      <td>-0.003564</td>\n",
       "      <td>-0.020926</td>\n",
       "    </tr>\n",
       "    <tr>\n",
       "      <th>2024-12-30</th>\n",
       "      <td>-0.000718</td>\n",
       "      <td>-0.001395</td>\n",
       "      <td>-0.024626</td>\n",
       "    </tr>\n",
       "    <tr>\n",
       "      <th>2024-12-31</th>\n",
       "      <td>0.000649</td>\n",
       "      <td>-0.003623</td>\n",
       "      <td>-0.007726</td>\n",
       "    </tr>\n",
       "  </tbody>\n",
       "</table>\n",
       "<p>2515 rows × 3 columns</p>\n",
       "</div>"
      ]
     },
     "execution_count": 44,
     "metadata": {},
     "output_type": "execute_result"
    }
   ],
   "execution_count": 44
  },
  {
   "cell_type": "code",
   "id": "735f5078-a2cd-4612-a61f-e43a702be4b2",
   "metadata": {
    "ExecuteTime": {
     "end_time": "2025-05-23T21:21:26.124426Z",
     "start_time": "2025-05-23T21:21:26.118711Z"
    }
   },
   "source": [
    "# Now calculate the Tracking Error (which is the Std of the Excess Returns)\n",
    "tracking_error = excess_return.std() * np.sqrt(252)\n",
    "\n",
    "print(\"\\nTracking Error:\")\n",
    "print(tracking_error)"
   ],
   "outputs": [
    {
     "name": "stdout",
     "output_type": "stream",
     "text": [
      "\n",
      "Tracking Error:\n",
      "SPY     0.009001\n",
      "IWY     0.064476\n",
      "SPXL    0.358185\n",
      "dtype: float64\n"
     ]
    }
   ],
   "execution_count": 45
  },
  {
   "cell_type": "code",
   "id": "46c79721-08a2-4e71-87a3-f5df0e90f2aa",
   "metadata": {
    "ExecuteTime": {
     "end_time": "2025-05-23T21:21:27.849552Z",
     "start_time": "2025-05-23T21:21:27.688158Z"
    }
   },
   "source": [
    "#Let us visualize the Risk Measures\n",
    "fig, ax = plt.subplots(figsize=(10, 6))\n",
    "volatility.plot(kind='bar', color='skyblue', label='Volatility (Risk)', alpha=0.5)\n",
    "tracking_error.plot(kind='bar', color='lightgreen', label='Tracking Error', alpha=0.5)\n",
    "VaR_95.plot(kind='bar', color='salmon', label='VaR 95%', alpha=0.7)\n",
    "plt.title('Risk Measures')\n",
    "plt.ylabel('Value')\n",
    "plt.legend()\n",
    "plt.show()"
   ],
   "outputs": [
    {
     "data": {
      "text/plain": [
       "<Figure size 1000x600 with 1 Axes>"
      ],
      "image/png": "[encoded data removed]"
     },
     "metadata": {},
     "output_type": "display_data"
    }
   ],
   "execution_count": 46
  },
  {
   "cell_type": "code",
   "id": "e3d41fd4-bfe8-4115-a215-4839dbc72b05",
   "metadata": {
    "ExecuteTime": {
     "end_time": "2025-05-23T21:21:31.648877Z",
     "start_time": "2025-05-23T21:21:31.641674Z"
    }
   },
   "source": [
    "# Naturally, the SPXL is more risky that the other ETFs\n",
    "mean = data.mean() * 252\n",
    "\n",
    "print(\"Annualized Mean Returns:\")\n",
    "print(mean)"
   ],
   "outputs": [
    {
     "name": "stdout",
     "output_type": "stream",
     "text": [
      "Annualized Mean Returns:\n",
      "SPY     0.122495\n",
      "IWY     0.164919\n",
      "SPXL    0.213052\n",
      "dtype: float64\n"
     ]
    }
   ],
   "execution_count": 47
  },
  {
   "cell_type": "code",
   "id": "912079d8-8839-4670-a68b-75a505d02877",
   "metadata": {
    "ExecuteTime": {
     "end_time": "2025-05-23T21:21:32.653296Z",
     "start_time": "2025-05-23T21:21:32.647714Z"
    }
   },
   "source": [
    "# Risk Adjusted Returns\n",
    "eff_ratio = mean/volatility\n",
    "\n",
    "print(\"Risk Adjusted Returns:\")\n",
    "print(eff_ratio)"
   ],
   "outputs": [
    {
     "name": "stdout",
     "output_type": "stream",
     "text": [
      "Risk Adjusted Returns:\n",
      "SPY     0.692871\n",
      "IWY     0.813744\n",
      "SPXL    0.397119\n",
      "dtype: float64\n"
     ]
    }
   ],
   "execution_count": 48
  },
  {
   "cell_type": "code",
   "id": "0538ade0-302c-4bc2-be27-519fb7db1662",
   "metadata": {
    "ExecuteTime": {
     "end_time": "2025-05-23T21:21:34.584842Z",
     "start_time": "2025-05-23T21:21:34.465225Z"
    }
   },
   "source": [
    "#Let us visualize\n",
    "fig, ax = plt.subplots(figsize=(10, 6))\n",
    "eff_ratio.plot(kind='bar', color='lightpink', label='Risk Adjusted Returns')\n",
    "ax.axhline(y=1, color='black', linestyle='--')\n",
    "plt.title('Risk Adjusted Returns')\n",
    "plt.ylabel('Value')\n",
    "plt.legend()\n",
    "plt.show()"
   ],
   "outputs": [
    {
     "data": {
      "text/plain": [
       "<Figure size 1000x600 with 1 Axes>"
      ],
      "image/png": "[encoded data removed]"
     },
     "metadata": {},
     "output_type": "display_data"
    }
   ],
   "execution_count": 49
  },
  {
   "cell_type": "code",
   "id": "5513cf4c-f7b6-4506-87e8-91b5a756bf0a",
   "metadata": {
    "ExecuteTime": {
     "end_time": "2025-05-23T21:21:36.093621Z",
     "start_time": "2025-05-23T21:21:36.085657Z"
    }
   },
   "source": [
    "# Calculate the Risk Adjusted Returns of the Benchmark (Risk Aversion Coefficient)\n",
    "\n",
    "mean_bench = benchmark_rets.mean() * 252\n",
    "\n",
    "var_bench = benchmark_rets.var() * 252\n",
    "\n",
    "eff_rate_bench = mean_bench/var_bench\n",
    "\n",
    "eff_rate_bench"
   ],
   "outputs": [
    {
     "data": {
      "text/plain": [
       "3.287196304710965"
      ]
     },
     "execution_count": 50,
     "metadata": {},
     "output_type": "execute_result"
    }
   ],
   "execution_count": 50
  },
  {
   "metadata": {},
   "cell_type": "code",
   "execution_count": null,
   "source": "",
   "id": "54026ef494f3d0be",
   "outputs": []
  }
 ],
 "metadata": {
  "kernelspec": {
   "display_name": "Python 3 (ipykernel)",
   "language": "python",
   "name": "python3"
  },
  "language_info": {
   "codemirror_mode": {
    "name": "ipython",
    "version": 3
   },
   "file_extension": ".py",
   "mimetype": "text/x-python",
   "name": "python",
   "nbconvert_exporter": "python",
   "pygments_lexer": "ipython3",
   "version": "3.11.7"
  }
 },
 "nbformat": 4,
 "nbformat_minor": 5
}
