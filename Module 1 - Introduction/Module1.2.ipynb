{
 "cells": [
  {
   "cell_type": "markdown",
   "id": "db1cfafe-e2aa-4cbc-b2a8-f68418475f19",
   "metadata": {},
   "source": [
    "# Introduction to Portfolio Theory: Benchmark #"
   ]
  },
  {
   "metadata": {},
   "cell_type": "markdown",
   "source": [
    "Our dear friend Nancy is now happy because, fortunately, we were in the universe where she chose Nvidia for her first investment in 2018. But now she is questioning herself: “Did I choose the best investment from all the possible investments?” She goes to Thomas again, and he recommends that she look for a benchmark to compare her Nvidia investment against the market.\n",
    "\n",
    "Now she is confused again: What is a benchmark, then? And how can she select the proper one?"
   ],
   "id": "e5b8151634ec6741"
  },
  {
   "cell_type": "code",
   "id": "b4f85370-d3e5-4b7d-acae-18e0f32b0f31",
   "metadata": {
    "ExecuteTime": {
     "end_time": "2025-06-16T18:35:17.878495Z",
     "start_time": "2025-06-16T18:35:16.499540Z"
    }
   },
   "source": [
    "# Import Libraries\n",
    "\n",
    "# Data Management\n",
    "import pandas as pd\n",
    "import numpy as np\n",
    "\n",
    "# Statistics\n",
    "from scipy.stats import skew, kurtosis\n",
    "from scipy.stats import jarque_bera\n",
    "from scipy.stats import probplot\n",
    "from scipy.stats import norm\n",
    "\n",
    "# Visualization\n",
    "import matplotlib.pyplot as plt\n",
    "\n",
    "# Handle Files\n",
    "import sys\n",
    "import os\n",
    "\n",
    "# Import Local Functions\n",
    "sys.path.append(os.path.abspath(\"../source\"))\n",
    "from data_downloader import get_market_data"
   ],
   "execution_count": 1,
   "outputs": []
  },
  {
   "cell_type": "code",
   "id": "a22691ef-5d8f-40f5-ad97-643da5e15d78",
   "metadata": {
    "ExecuteTime": {
     "end_time": "2025-06-16T18:35:25.053678Z",
     "start_time": "2025-06-16T18:35:19.798048Z"
    }
   },
   "source": [
    "# Call the data for different benchmarks\n",
    "\n",
    "# S&P500\n",
    "data_sp500 = get_market_data('^GSPC', '2015-01-01', '2025-01-01')\n",
    "\n",
    "# Dow Jones\n",
    "data_dj = get_market_data('^DJI', '2015-01-01', '2025-01-01')\n",
    "\n",
    "# Nasdaq-100\n",
    "data_ndx = get_market_data('^NDX', '2015-01-01', '2025-01-01')\n",
    "\n",
    "# iShares U.S. Technology ETF\n",
    "data_iwy = get_market_data('IWY', '2015-01-01', '2025-01-01')\n"
   ],
   "execution_count": 2,
   "outputs": []
  },
  {
   "metadata": {
    "ExecuteTime": {
     "end_time": "2025-06-16T18:35:44.913934Z",
     "start_time": "2025-06-16T18:35:44.897662Z"
    }
   },
   "cell_type": "code",
   "source": [
    "# Data for Benchmarks\n",
    "benchmark_prices = pd.DataFrame(index=data_sp500.index)\n",
    "\n",
    "# Create the columns\n",
    "benchmark_prices['SP500'] = data_sp500['close']\n",
    "benchmark_prices['DJ'] = data_dj['close']\n",
    "benchmark_prices['NDX'] = data_ndx['close']\n",
    "benchmark_prices['IWY'] = data_iwy['close']\n",
    "\n",
    "benchmark_prices"
   ],
   "id": "4f0b9b3e9837865b",
   "execution_count": 4,
   "outputs": []
  },
  {
   "metadata": {
    "ExecuteTime": {
     "end_time": "2025-06-16T18:35:54.152653Z",
     "start_time": "2025-06-16T18:35:54.148580Z"
    }
   },
   "cell_type": "code",
   "source": [
    "# Calculate Logarithmic Returns\n",
    "def log_returns(\n",
    "        price_series: pd.Series\n",
    "):\n",
    "    return np.log(price_series / price_series.shift(1))"
   ],
   "id": "2fc383addd31c920",
   "execution_count": 5,
   "outputs": []
  },
  {
   "cell_type": "code",
   "id": "8a3b53c4-6eb5-4cc6-a76e-26dfccd3c8da",
   "metadata": {
    "ExecuteTime": {
     "end_time": "2025-06-16T18:35:55.157358Z",
     "start_time": "2025-06-16T18:35:55.149211Z"
    }
   },
   "source": [
    "# Calculate the Returns\n",
    "\n",
    "benchmark_returns = log_returns(benchmark_prices)\n",
    "benchmark_returns.dropna(inplace=True)\n",
    "\n",
    "benchmark_returns"
   ],
   "execution_count": 6,
   "outputs": []
  },
  {
   "cell_type": "code",
   "id": "2316a07c-b4e8-4e03-a06c-27e5c2fd6dc3",
   "metadata": {
    "ExecuteTime": {
     "end_time": "2025-06-16T18:36:00.145438Z",
     "start_time": "2025-06-16T18:35:59.713752Z"
    }
   },
   "source": [
    "# Time Series Graphs\n",
    "plt.figure(figsize=(10, 6))\n",
    "plt.plot(benchmark_returns.cumsum(), label=benchmark_returns.columns, alpha=1)\n",
    "\n",
    "# Config\n",
    "plt.title('Benchmarks Cumulative Returns Time Series')\n",
    "plt.xlabel('Time Index')\n",
    "plt.ylabel('$r_t$')\n",
    "plt.legend()\n",
    "\n",
    "# Show\n",
    "plt.grid(True)\n",
    "plt.show()"
   ],
   "execution_count": 7,
   "outputs": []
  },
  {
   "cell_type": "code",
   "id": "50ccb657-679b-401d-b2c1-1c3b5819e539",
   "metadata": {
    "ExecuteTime": {
     "end_time": "2025-06-16T18:36:02.755177Z",
     "start_time": "2025-06-16T18:36:02.744644Z"
    }
   },
   "source": [
    "# Check Daily\n",
    "benchmark_returns.mul(100).mean()"
   ],
   "execution_count": 8,
   "outputs": []
  },
  {
   "metadata": {
    "ExecuteTime": {
     "end_time": "2025-06-16T18:36:03.940880Z",
     "start_time": "2025-06-16T18:36:03.928424Z"
    }
   },
   "cell_type": "code",
   "source": [
    "# Check Annualized Returns\n",
    "benchmark_returns.mul(100).mean() * 252"
   ],
   "id": "ff2fdff4f3b4bb59",
   "execution_count": 9,
   "outputs": []
  },
  {
   "cell_type": "code",
   "id": "3379b38c-567b-47c3-b509-06720e4f1298",
   "metadata": {
    "ExecuteTime": {
     "end_time": "2025-06-16T18:36:04.530369Z",
     "start_time": "2025-06-16T18:36:04.522229Z"
    }
   },
   "source": [
    "# Check Daily Volatility\n",
    "benchmark_returns.mul(100).std()"
   ],
   "execution_count": 10,
   "outputs": []
  },
  {
   "metadata": {
    "ExecuteTime": {
     "end_time": "2025-06-16T18:36:05.087093Z",
     "start_time": "2025-06-16T18:36:05.080093Z"
    }
   },
   "cell_type": "code",
   "source": [
    "# Check Annualized Volatility\n",
    "benchmark_returns.mul(100).std() * np.sqrt(252)"
   ],
   "id": "20ae7ce8ba72259a",
   "execution_count": 11,
   "outputs": []
  },
  {
   "cell_type": "code",
   "id": "af45ee4b-939c-4031-bacc-f45bdad6ed09",
   "metadata": {
    "ExecuteTime": {
     "end_time": "2025-06-16T18:36:11.810201Z",
     "start_time": "2025-06-16T18:36:10.962102Z"
    }
   },
   "source": [
    "# Set the number of subplot columns\n",
    "n_cols = 2\n",
    "n_rows = int(np.ceil(len(benchmark_returns.columns) / n_cols))\n",
    "\n",
    "# Create subplots\n",
    "fig, axes = plt.subplots(n_rows, n_cols, figsize=(14, 4 * n_rows))\n",
    "axes = axes.flatten()  # Flatten to 1D array\n",
    "\n",
    "# Loop through each column and plot\n",
    "for i, column in enumerate(benchmark_returns.columns):\n",
    "    data = benchmark_returns[column].dropna()\n",
    "    mean = data.mean()\n",
    "    std = data.std()\n",
    "    upper_lim = mean + 3 * std\n",
    "    lower_lim = mean - 3 * std\n",
    "\n",
    "    axes[i].plot(data, label=f'{column} Returns', alpha=1)\n",
    "    axes[i].axhline(y=mean, color='black', linestyle='dashed', label='Mean')\n",
    "    axes[i].axhline(y=upper_lim, color='red', linestyle='dashed', label='+3 Std Dev')\n",
    "    axes[i].axhline(y=lower_lim, color='red', linestyle='dashed', label='-3 Std Dev')\n",
    "\n",
    "    axes[i].set_title(f'{column} Returns Time Series')\n",
    "    axes[i].set_xlabel('Time Index')\n",
    "    axes[i].set_ylabel('Returns')\n",
    "    axes[i].legend()\n",
    "    axes[i].grid(True)\n",
    "\n",
    "# Remove unused axes\n",
    "for j in range(i + 1, len(axes)):\n",
    "    fig.delaxes(axes[j])\n",
    "\n",
    "# Adjust layout\n",
    "plt.tight_layout()\n",
    "plt.show()"
   ],
   "execution_count": 12,
   "outputs": []
  },
  {
   "cell_type": "code",
   "id": "c1259585-35ea-44f5-93fe-0d6bc74ff9b8",
   "metadata": {
    "ExecuteTime": {
     "end_time": "2025-06-16T18:36:18.860568Z",
     "start_time": "2025-06-16T18:36:17.966909Z"
    }
   },
   "source": [
    "# Create figure and axes\n",
    "fig, axes = plt.subplots(n_rows, n_cols, figsize=(12, 4 * n_rows))\n",
    "axes = axes.flatten()  # Flatten in case of 1D\n",
    "\n",
    "# Plot each column\n",
    "for i, column in enumerate(benchmark_prices.columns):\n",
    "    data = benchmark_prices[column].dropna()\n",
    "    mean_p = data.mean()\n",
    "    median_p = data.median()\n",
    "    std_p = data.std()\n",
    "    upper_lim_p = mean_p + std_p\n",
    "    lower_lim_p = mean_p - std_p\n",
    "\n",
    "    axes[i].hist(data, bins=30, alpha=0.5, edgecolor='black')\n",
    "    axes[i].axvline(x=mean_p, color='black', linestyle='dashed', label='Mean')\n",
    "    axes[i].axvline(x=median_p, color='red', linestyle='dashed', label='Median')\n",
    "    axes[i].axvline(x=upper_lim_p, color='grey', linestyle='dashed')\n",
    "    axes[i].axvline(x=lower_lim_p, color='grey', linestyle='dashed')\n",
    "    \n",
    "    axes[i].set_title(f'{column} Price Histogram')\n",
    "    axes[i].set_xlabel('Price')\n",
    "    axes[i].set_ylabel('Frequency')\n",
    "    axes[i].legend()\n",
    "    axes[i].grid(True)\n",
    "\n",
    "# Hide any unused subplots if columns < rows*cols\n",
    "for j in range(i+1, len(axes)):\n",
    "    fig.delaxes(axes[j])\n",
    "\n",
    "# Adjust layout\n",
    "plt.tight_layout()\n",
    "plt.show()"
   ],
   "execution_count": 13,
   "outputs": []
  },
  {
   "cell_type": "code",
   "id": "0c486513-696e-47a6-9e58-180a19c0c80e",
   "metadata": {
    "ExecuteTime": {
     "end_time": "2025-06-16T18:36:21.318665Z",
     "start_time": "2025-06-16T18:36:20.637597Z"
    }
   },
   "source": [
    "# Create subplots\n",
    "fig, axes = plt.subplots(n_rows, n_cols, figsize=(14, 4 * n_rows))\n",
    "axes = axes.flatten()\n",
    "\n",
    "# Loop through each column\n",
    "for i, column in enumerate(benchmark_returns.columns):\n",
    "    data = benchmark_returns[column].dropna()\n",
    "    mu = data.mean()\n",
    "    sigma = data.std()\n",
    "\n",
    "    # Histogram\n",
    "    axes[i].hist(data, bins=30, density=True, color='blue', alpha=0.5, edgecolor='black', label=f'{column} Prices')\n",
    "\n",
    "    # Normal distribution curve\n",
    "    x = np.linspace(data.min(), data.max(), 100)\n",
    "    y = norm.pdf(x, mu, sigma)\n",
    "    axes[i].plot(x, y, color='black', linestyle='solid', linewidth=2, label='Normal Distribution')\n",
    "\n",
    "    # Reference lines\n",
    "    axes[i].axvline(x=mu, color='black', linestyle='dashed', label='Mean')\n",
    "    axes[i].axvline(x=data.median(), color='red', linestyle='dashed', label='Median')\n",
    "    axes[i].axvline(x=mu + sigma, color='grey', linestyle='dashed')\n",
    "    axes[i].axvline(x=mu - sigma, color='grey', linestyle='dashed')\n",
    "\n",
    "    # Titles and labels\n",
    "    axes[i].set_title(f'{column} Histogram with Normal Distribution')\n",
    "    axes[i].set_xlabel('Price')\n",
    "    axes[i].set_ylabel('Density')\n",
    "    axes[i].legend()\n",
    "    axes[i].grid(True)\n",
    "\n",
    "# Remove any unused axes\n",
    "for j in range(i + 1, len(axes)):\n",
    "    fig.delaxes(axes[j])\n",
    "\n",
    "# Adjust layout\n",
    "plt.tight_layout()\n",
    "plt.show()"
   ],
   "execution_count": 14,
   "outputs": []
  },
  {
   "cell_type": "code",
   "id": "c4ec12a6-80eb-416a-aeba-560af6b4d3dc",
   "metadata": {
    "ExecuteTime": {
     "end_time": "2025-06-16T18:36:27.869500Z",
     "start_time": "2025-06-16T18:36:27.665673Z"
    }
   },
   "source": [
    "# Define the std ranges to analyze\n",
    "std_ranges = [1, 2, 3]\n",
    "benchmark_cols = benchmark_returns.columns\n",
    "results = {col: [] for col in benchmark_cols}\n",
    "\n",
    "# Calculate the percentage of returns within each std range\n",
    "for col in benchmark_cols:\n",
    "    data = benchmark_returns[col].dropna()\n",
    "    mean = data.mean()\n",
    "    std = data.std()\n",
    "    \n",
    "    for s in std_ranges:\n",
    "        lower = mean - s * std\n",
    "        upper = mean + s * std\n",
    "        pct = ((data >= lower) & (data <= upper)).mean() * 100\n",
    "        results[col].append(pct)\n",
    "\n",
    "# Plotting\n",
    "x = np.arange(len(std_ranges))\n",
    "bar_width = 0.2\n",
    "\n",
    "plt.figure(figsize=(10, 6))\n",
    "\n",
    "for i, col in enumerate(benchmark_cols):\n",
    "    plt.bar(x + i*bar_width, results[col], width=bar_width, label=col)\n",
    "\n",
    "plt.xticks(x + bar_width * (len(benchmark_cols) - 1) / 2, [f'±{s}σ' for s in std_ranges])\n",
    "plt.ylim(0, 100)\n",
    "plt.ylabel('Percentage of Observations (%)')\n",
    "plt.title('Percentage of Returns Within ±1σ, ±2σ, ±3σ')\n",
    "plt.legend()\n",
    "plt.grid(True, axis='y')\n",
    "\n",
    "plt.tight_layout()\n",
    "plt.show()"
   ],
   "execution_count": 15,
   "outputs": []
  },
  {
   "cell_type": "code",
   "id": "09c08f50-6807-4320-9e8a-4f7b34195309",
   "metadata": {
    "ExecuteTime": {
     "end_time": "2025-06-16T18:36:32.931005Z",
     "start_time": "2025-06-16T18:36:32.913382Z"
    }
   },
   "source": [
    "# For some purposes of this course, we are selecting the SP500\n",
    "\n",
    "# Calculate Mean\n",
    "mean = benchmark_returns['SP500'].dropna().mean()\n",
    "\n",
    "# Calculate Variance\n",
    "variance = benchmark_returns['SP500'].dropna().var()\n",
    "\n",
    "# Calculate Skewness\n",
    "skewness = skew(benchmark_returns['SP500'].dropna())\n",
    "\n",
    "# Calculate Kurtosis\n",
    "kurt = kurtosis(benchmark_returns['SP500'].dropna())\n",
    "\n",
    "print(f\"Mean: {mean}\")\n",
    "print(f\"Variance: {variance}\")\n",
    "print(f\"Skewness: {skewness}\")\n",
    "print(f\"Kurtosis: {kurt}\")"
   ],
   "execution_count": 16,
   "outputs": []
  },
  {
   "cell_type": "code",
   "id": "305a36df-9fa8-49c8-8f05-d7e551d46b00",
   "metadata": {
    "ExecuteTime": {
     "end_time": "2025-06-16T18:36:37.803102Z",
     "start_time": "2025-06-16T18:36:37.783248Z"
    }
   },
   "source": [
    "# Normality Test\n",
    "jb_stat, p_value = jarque_bera(benchmark_returns['SP500'].dropna())\n",
    "\n",
    "print(f\"Jarque-Bera Stat: {jb_stat}\")\n",
    "print(f\"p-value: {p_value}\")"
   ],
   "execution_count": 17,
   "outputs": []
  },
  {
   "cell_type": "code",
   "id": "1a1dff0b-c005-4f8d-9697-e31032765c2d",
   "metadata": {
    "ExecuteTime": {
     "end_time": "2025-06-16T18:36:43.449131Z",
     "start_time": "2025-06-16T18:36:43.337398Z"
    }
   },
   "source": [
    "# Prices QQ Plot\n",
    "probplot(benchmark_returns['SP500'], dist=\"norm\", plot=plt)\n",
    "plt.title('Q-Q Plot')\n",
    "plt.show()"
   ],
   "execution_count": 18,
   "outputs": []
  },
  {
   "cell_type": "code",
   "id": "b114e8e8-7eb9-41cd-9e2b-99a377f8c79f",
   "metadata": {
    "ExecuteTime": {
     "end_time": "2025-06-16T18:37:17.568353Z",
     "start_time": "2025-06-16T18:37:17.559847Z"
    }
   },
   "source": [
    "# Store the Benchmark\n",
    "benchmark = benchmark_returns['SP500']\n",
    "benchmark.name = 'sp_500'\n",
    "\n",
    "benchmark"
   ],
   "execution_count": 21,
   "outputs": []
  },
  {
   "cell_type": "code",
   "id": "1359c86f-3644-4443-8791-1ebda064f42a",
   "metadata": {
    "ExecuteTime": {
     "end_time": "2025-06-16T18:37:27.120624Z",
     "start_time": "2025-06-16T18:37:27.108531Z"
    }
   },
   "source": [
    "benchmark.to_csv(r\"..\\additional_data\\sp500.csv\")"
   ],
   "execution_count": 22,
   "outputs": []
  },
  {
   "cell_type": "code",
   "id": "15ac5568-2960-43e8-b903-ad49a1fc476a",
   "metadata": {
    "ExecuteTime": {
     "end_time": "2025-04-19T00:33:25.673560Z",
     "start_time": "2025-04-19T00:33:25.670962Z"
    }
   },
   "source": [],
   "execution_count": 18,
   "outputs": []
  }
 ],
 "metadata": {
  "kernelspec": {
   "display_name": "Python 3 (ipykernel)",
   "language": "python",
   "name": "python3"
  },
  "language_info": {
   "codemirror_mode": {
    "name": "ipython",
    "version": 3
   },
   "file_extension": ".py",
   "mimetype": "text/x-python",
   "name": "python",
   "nbconvert_exporter": "python",
   "pygments_lexer": "ipython3",
   "version": "3.11.7"
  }
 },
 "nbformat": 4,
 "nbformat_minor": 5
}
