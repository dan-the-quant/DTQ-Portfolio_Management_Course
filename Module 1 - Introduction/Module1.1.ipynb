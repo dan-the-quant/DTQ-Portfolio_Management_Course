{
 "cells": [
  {
   "cell_type": "markdown",
   "id": "a4cfbd16-9933-4e6d-bb1c-2e657ea34b11",
   "metadata": {},
   "source": [
    "# Introduction to Portfolio Theory: Prices vs Returns #"
   ]
  },
  {
   "metadata": {},
   "cell_type": "markdown",
   "source": "Nancy is a fifth-semester economics student trying to know more about capital markets. For this quest, she decided to invest some dollars in the stock market to create some returns over time. Her best friend, Thomas, told her that NVidia and Amazon both were good ideas for a first investment, but she has a limited budget, so she can only pick one. What would you do in Nancy's shoes?",
   "id": "689a5810eebf943a"
  },
  {
   "metadata": {
    "ExecuteTime": {
     "end_time": "2025-05-22T20:09:28.371478Z",
     "start_time": "2025-05-22T20:09:28.355716Z"
    }
   },
   "cell_type": "code",
   "source": [
    "# Import Libraries\n",
    "\n",
    "# Data Management\n",
    "import pandas as pd\n",
    "import numpy as np\n",
    "\n",
    "# Statistics\n",
    "from scipy.stats import probplot\n",
    "from scipy.stats import skew, kurtosis\n",
    "from scipy.stats import norm\n",
    "from scipy.stats import chi2\n",
    "from scipy.stats import jarque_bera\n",
    "from scipy.stats import anderson\n",
    "\n",
    "# Visualization\n",
    "import matplotlib.pyplot as plt\n",
    "\n",
    "# Import Data\n",
    "import yfinance as yf"
   ],
   "id": "e53e9fb0-5858-480c-81c1-fe61c2e8f7d3",
   "execution_count": 5,
   "outputs": []
  },
  {
   "cell_type": "code",
   "id": "c9538236-c0ca-4541-bdee-64d32cf3abef",
   "metadata": {
    "ExecuteTime": {
     "end_time": "2025-05-22T20:11:11.285730Z",
     "start_time": "2025-05-22T20:11:11.269521Z"
    }
   },
   "source": [
    "# Define a function to import market data\n",
    "def import_daily_financial_data(\n",
    "    ticker: str,\n",
    "    start_date: str = '2018-01-01',\n",
    "    end_date: str = '2025-01-01',\n",
    "):\n",
    "\n",
    "    # Get the Data from Yahoo Finance\n",
    "    data = yf.download(\n",
    "        ticker,                 # Stock to import\n",
    "        start=start_date,       # First Date\n",
    "        end=end_date,           # Last Date\n",
    "        interval='1d',          # Daily Basis\n",
    "        auto_adjust=True        # Adjusted Prices\n",
    "    )\n",
    "    \n",
    "    # Flat columns\n",
    "    data.columns = data.columns.get_level_values(0)\n",
    "    \n",
    "    # get rid of nans\n",
    "    data.dropna(inplace=True)\n",
    "\n",
    "    return data"
   ],
   "execution_count": 8,
   "outputs": []
  },
  {
   "cell_type": "code",
   "id": "fe308ee0-5bd8-4b17-ab47-a9e63d9b71d6",
   "metadata": {
    "ExecuteTime": {
     "end_time": "2025-05-22T20:11:12.017916Z",
     "start_time": "2025-05-22T20:11:11.642746Z"
    }
   },
   "source": [
    "# Amazon Data\n",
    "df_amzn = import_daily_financial_data(\"AMZN\")\n",
    "\n",
    "df_amzn"
   ],
   "execution_count": 9,
   "outputs": []
  },
  {
   "cell_type": "code",
   "id": "582a19e3-3011-47a7-8698-da93a87df0f9",
   "metadata": {
    "ExecuteTime": {
     "end_time": "2025-05-22T20:11:13.002445Z",
     "start_time": "2025-05-22T20:11:12.683691Z"
    }
   },
   "source": [
    "# Amazon Data\n",
    "df_nvda = import_daily_financial_data(\"NVDA\")\n",
    "\n",
    "df_nvda"
   ],
   "execution_count": 10,
   "outputs": []
  },
  {
   "cell_type": "code",
   "id": "3b3bba09-9e2d-4297-88f2-afe64f555fcd",
   "metadata": {
    "ExecuteTime": {
     "end_time": "2025-05-22T20:11:22.634574Z",
     "start_time": "2025-05-22T20:11:22.445074Z"
    }
   },
   "source": [
    "# Time Series Graphs for Adjusted Close Prices\n",
    "\n",
    "plt.figure(figsize=(10, 6))\n",
    "plt.plot(df_amzn['Close'], label='AMZN Price', color='green', alpha=0.7)\n",
    "plt.plot(df_nvda['Close'], label='NVDA Price', color='orange', alpha=0.7)\n",
    "\n",
    "# Config\n",
    "plt.title('AMZN Prices Time Series')\n",
    "plt.xlabel('Time Index')\n",
    "plt.ylabel('$P_t$')\n",
    "plt.legend()\n",
    "\n",
    "# Show\n",
    "plt.grid(True)\n",
    "plt.show()"
   ],
   "execution_count": 11,
   "outputs": []
  },
  {
   "metadata": {},
   "cell_type": "markdown",
   "source": [
    "By watching this graph, Nancy might conclude Amazon was the best investment because its price was always higher than Nvidia's. But that is a common bias many people fall into. The reality is that we do not have to check price lines, but the slopes of these. That is why we use returns: the change (in percentage) of prices over time.\n",
    "\n",
    "The following chart shows the comparison between both stocks' cumulative returns. Hence, we can conclude that, by holding an Nvidia stock from 2018 to the end of 2024, she would have more than quintupled her money. In Amazon's case, by holding a stock during the same time, Nancy would have less than tripled her money."
   ],
   "id": "d65ca2d9623909f6"
  },
  {
   "metadata": {
    "ExecuteTime": {
     "end_time": "2025-05-22T20:50:17.145291Z",
     "start_time": "2025-05-22T20:50:17.011559Z"
    }
   },
   "cell_type": "code",
   "source": [
    "# Time Series Graphs for Cumulative Returns\n",
    "\n",
    "plt.figure(figsize=(10, 6))\n",
    "plt.plot(df_amzn['Close'].pct_change().cumsum(), label='AMZN Price', color='green', alpha=0.7)\n",
    "plt.plot(df_nvda['Close'].pct_change().cumsum(), label='NVDA Price', color='orange', alpha=0.7)\n",
    "\n",
    "# Config\n",
    "plt.title('AMZN Prices Time Series')\n",
    "plt.xlabel('Time Index')\n",
    "plt.ylabel('$P_t$')\n",
    "plt.legend()\n",
    "\n",
    "# Show\n",
    "plt.grid(True)\n",
    "plt.show()\n"
   ],
   "id": "8d6f3ea0c73ec042",
   "execution_count": 27,
   "outputs": []
  },
  {
   "metadata": {},
   "cell_type": "markdown",
   "source": "Nevertheless, prices do matter, especially if you are creating a naive investment strategy. For example, let us assume Nancy has 100 dollars available for purchasing in 2018. How many Amazon shares and how many Nvidia shares can she purchase with that money? And after that, how much money will she generate after she sells her stocks in 2024?",
   "id": "3bc2691036783220"
  },
  {
   "metadata": {
    "ExecuteTime": {
     "end_time": "2025-05-22T20:25:12.093523Z",
     "start_time": "2025-05-22T20:25:12.077385Z"
    }
   },
   "cell_type": "code",
   "source": [
    "# Let us get the prices of each stock at t=0\n",
    "amzn_first_p = df_amzn['Close'].iloc[0]\n",
    "nvda_first_p = df_nvda['Close'].iloc[0]\n",
    "\n",
    "print(f'AMZN price in t=0: {amzn_first_p}')\n",
    "print(f'NVDA price in t=0: {nvda_first_p}')"
   ],
   "id": "4dbbb2868a830d95",
   "execution_count": 16,
   "outputs": []
  },
  {
   "metadata": {
    "ExecuteTime": {
     "end_time": "2025-05-22T20:26:57.377544Z",
     "start_time": "2025-05-22T20:26:57.372435Z"
    }
   },
   "cell_type": "code",
   "source": [
    "# Now, let us calculate how much stocks can Nancy purchase in t = 0\n",
    "amzn_purchased_stocks = 100 // amzn_first_p    # We use \"//\" for integer division\n",
    "nvda_purchased_stocks = 100 // nvda_first_p\n",
    "\n",
    "print(f'AMZN purchased stocks: {amzn_purchased_stocks}')\n",
    "print(f'NVDA purchased stocks: {nvda_purchased_stocks}')"
   ],
   "id": "3a431c541d574b8a",
   "execution_count": 17,
   "outputs": []
  },
  {
   "metadata": {},
   "cell_type": "markdown",
   "source": "Thomas recommends Nancy to invest the leftover money in Treasury bonds, assuming a constant annual yield of 4%.",
   "id": "48b883ad6898def"
  },
  {
   "metadata": {
    "ExecuteTime": {
     "end_time": "2025-05-22T20:29:37.737836Z",
     "start_time": "2025-05-22T20:29:37.732771Z"
    }
   },
   "cell_type": "code",
   "source": [
    "# Calculate the leftover money\n",
    "amzn_leftover = 100 - (amzn_purchased_stocks * amzn_first_p)\n",
    "nvda_leftover = 100 - (nvda_purchased_stocks * nvda_first_p)\n",
    "\n",
    "print(f'AMZN leftover: {amzn_leftover}')\n",
    "print(f'NVDA leftover: {nvda_leftover}')"
   ],
   "id": "93dbdab9aa1888c9",
   "execution_count": 18,
   "outputs": []
  },
  {
   "metadata": {},
   "cell_type": "markdown",
   "source": "Now we can calculate the returns generated by Nancy from January 1st, 2018, to December 31st, 2024. Then, we will sum the returns generated by the stocks in each case and the interest generated by the bonds.",
   "id": "693ac2fcf971cb1c"
  },
  {
   "metadata": {
    "ExecuteTime": {
     "end_time": "2025-05-22T20:35:25.483489Z",
     "start_time": "2025-05-22T20:35:25.478121Z"
    }
   },
   "cell_type": "code",
   "source": [
    "# Calculate the Last Prices of Each stock\n",
    "amzn_last_p = df_amzn['Close'].iloc[-1]\n",
    "nvda_last_p = df_nvda['Close'].iloc[-1]\n",
    "\n",
    "print(f'AMZN last price: {amzn_last_p}')\n",
    "print(f'NVDA last price: {nvda_last_p}')"
   ],
   "id": "dfa1518b8b0f48cb",
   "execution_count": 20,
   "outputs": []
  },
  {
   "metadata": {
    "ExecuteTime": {
     "end_time": "2025-05-22T20:39:07.040703Z",
     "start_time": "2025-05-22T20:39:07.036451Z"
    }
   },
   "cell_type": "code",
   "source": [
    "# Now calculate the amount of money generated during the period\n",
    "amzn_monetary_returns = (amzn_last_p - amzn_first_p) * amzn_purchased_stocks\n",
    "amzn_leftover_interests = amzn_leftover * (1.04)**(6)   # Six years\n",
    "\n",
    "# Sum\n",
    "first_investment_returns = amzn_monetary_returns + amzn_leftover_interests\n",
    "\n",
    "print(f'AMZN monetary returns: {amzn_monetary_returns}')\n",
    "print(f'Interests Generated by Left Over: {amzn_leftover_interests}')\n",
    "print(f'Strategy Returns: {first_investment_returns}')"
   ],
   "id": "9ecfd70bddff6680",
   "execution_count": 21,
   "outputs": []
  },
  {
   "metadata": {
    "ExecuteTime": {
     "end_time": "2025-05-22T20:40:43.742139Z",
     "start_time": "2025-05-22T20:40:43.729925Z"
    }
   },
   "cell_type": "code",
   "source": [
    "# Now for Nvidia\n",
    "nvda_monetary_returns = (nvda_last_p - nvda_first_p) * nvda_purchased_stocks\n",
    "nvda_leftover_interests = nvda_leftover * (1.04)**(6)\n",
    "\n",
    "# Sum\n",
    "second_investment_returns = nvda_monetary_returns + nvda_leftover_interests\n",
    "\n",
    "print(f'NVDA monetary returns: {nvda_monetary_returns}')\n",
    "print(f'Interest Generated by Left Over: {nvda_leftover_interests}')\n",
    "print(f'Strategy Returns: {second_investment_returns}')"
   ],
   "id": "1f305d35189e576d",
   "execution_count": 22,
   "outputs": []
  },
  {
   "metadata": {
    "ExecuteTime": {
     "end_time": "2025-05-22T20:45:36.895663Z",
     "start_time": "2025-05-22T20:45:36.882624Z"
    }
   },
   "cell_type": "code",
   "source": [
    "# Calculate the rate of returns\n",
    "first_case_returns_rate = (first_investment_returns / 100) - 1\n",
    "second_case_returns_rate = (second_investment_returns / 100) - 1\n",
    "\n",
    "print(f'If Nancy would have pick AMZN: {first_case_returns_rate*100}%')\n",
    "print(f'If Nancy would have pick NVDA: {second_case_returns_rate*100}%')"
   ],
   "id": "9708b02a0699be5",
   "execution_count": 24,
   "outputs": []
  },
  {
   "metadata": {},
   "cell_type": "markdown",
   "source": "In the universe where Nancy purchased NVDA, she is now having a great graduation trip in a tropical paradise.",
   "id": "542c987e931c0ad"
  },
  {
   "metadata": {},
   "cell_type": "markdown",
   "source": "### Logarithmic Returns vs Arithmetic Returns ###",
   "id": "812159ce44d7b325"
  },
  {
   "metadata": {},
   "cell_type": "markdown",
   "source": [
    "It is a common dichotomy in the study of finance to choose between arithmetic returns and logarithmic returns. Even though the first may be more intuitive for people, the latter grant us a lot of favorable properties that enhance our financial models.\n",
    "\n",
    "Arithmetic Returns:\n",
    "\\begin{aligned}\n",
    "$ R_t = \\frac{P_{t} - P_{t-1}}{P_{t-1}} = \\frac{P_t}{P_{t-1}} - 1$\n",
    "\\end{aligned}\n",
    "\n",
    "Logarithmic Returns: \n",
    "\\begin{aligned}\n",
    "$r_t = \\ln{\\left(\\frac{P_t}{P_{t-1}}\\right)} = \\ln{P_t} - \\ln{P_{t-1}}$\n",
    "\\end{aligned}"
   ],
   "id": "9c4e8b0761a563a1"
  },
  {
   "cell_type": "code",
   "id": "a7b03c67-dc03-47a1-992c-52ede7dea9cb",
   "metadata": {
    "ExecuteTime": {
     "end_time": "2025-05-22T22:17:00.267115Z",
     "start_time": "2025-05-22T22:17:00.259708Z"
    }
   },
   "source": [
    "# Let us calculate the returns and log returns\n",
    "df_nvda['Returns'] = df_nvda['Close'].pct_change(1)\n",
    "df_amzn['Returns'] = df_amzn['Close'].pct_change(1)\n",
    "\n",
    "# Log Returns\n",
    "df_nvda['Log_Returns'] = np.log(df_nvda['Close'] / df_nvda['Close'].shift(1))\n",
    "df_amzn['Log_Returns'] = np.log(df_amzn['Close'] / df_amzn['Close'].shift(1))"
   ],
   "execution_count": 77,
   "outputs": []
  },
  {
   "metadata": {},
   "cell_type": "markdown",
   "source": [
    "Mathematically, it is proven that logarithmic returns will always be lower than arithmetic returns if $(1 + R_t) > 0$.\n",
    "\n",
    "However, logarithmic returns possess other characteristics that are beneficial for us:\n",
    "- Additive\n",
    "- Symmetric"
   ],
   "id": "16b83e7c29a0b3f5"
  },
  {
   "metadata": {
    "ExecuteTime": {
     "end_time": "2025-05-22T22:17:02.315878Z",
     "start_time": "2025-05-22T22:17:02.193482Z"
    }
   },
   "cell_type": "code",
   "source": [
    "# Time Series Graphs for Cumulative Simple Returns and Log\n",
    "\n",
    "plt.figure(figsize=(10, 6))\n",
    "plt.plot(df_nvda['Returns'].cumsum(), label='NVDA Arithmetic Returns', color='green', alpha=0.7)\n",
    "plt.plot(df_nvda['Log_Returns'].cumsum(), label='NVDA Logarithmic Returns', color='orange', alpha=0.7)\n",
    "\n",
    "# Config\n",
    "plt.title('NVDA Returns Time Series')\n",
    "plt.xlabel('Time Index')\n",
    "plt.ylabel('$r_t$')\n",
    "plt.legend()\n",
    "\n",
    "# Show\n",
    "plt.grid(True)\n",
    "plt.show()"
   ],
   "id": "9cafec776cd9522e",
   "execution_count": 78,
   "outputs": []
  },
  {
   "metadata": {},
   "cell_type": "markdown",
   "source": "In the following plot you can note that the range for the Arithmetic Returns is larger than the range for the Logarithmic Returns",
   "id": "1c0e811d6c385ed5"
  },
  {
   "metadata": {
    "ExecuteTime": {
     "end_time": "2025-05-22T22:17:06.404682Z",
     "start_time": "2025-05-22T22:17:06.169854Z"
    }
   },
   "cell_type": "code",
   "source": [
    "# Time Series Graphs\n",
    "\n",
    "fig, axes = plt.subplots(2, 1, figsize=(10, 8))\n",
    "\n",
    "axes[0].plot(df_nvda['Returns'], color='green', alpha=0.7)\n",
    "axes[0].set_title('NVDA Returns')\n",
    "axes[0].set_xlabel('Date')\n",
    "axes[0].set_ylabel('Returns')\n",
    "\n",
    "axes[1].plot(df_nvda['Log_Returns'], color='orange', alpha=0.7)\n",
    "axes[1].set_title('NVDA Log Returns')\n",
    "axes[1].set_xlabel('Date')\n",
    "axes[1].set_ylabel('Log Returns')\n",
    "\n",
    "plt.tight_layout()\n",
    "\n",
    "plt.show()"
   ],
   "id": "622ac529-74df-4fae-910f-da8246a7e892",
   "execution_count": 79,
   "outputs": []
  },
  {
   "cell_type": "code",
   "id": "efc3a3be-ed0c-4af8-aaaa-6953b7ad74ee",
   "metadata": {
    "ExecuteTime": {
     "end_time": "2025-05-22T22:18:33.038014Z",
     "start_time": "2025-05-22T22:18:33.032098Z"
    }
   },
   "source": [
    "# Let us check the mean returns\n",
    "\n",
    "# AMZN\n",
    "amzn_mean_rets = df_amzn['Log_Returns'].mean()\n",
    "amzn_annualized_mean_rets = amzn_mean_rets * 252\n",
    "\n",
    "# NVDA\n",
    "nvda_mean_rets = df_nvda['Log_Returns'].mean()\n",
    "nvda_annualized_mean_rets = nvda_mean_rets * 252\n",
    "\n",
    "print(f'AMZN Mean Daily Returns: {(amzn_mean_rets * 100).round(2)}%')\n",
    "print(f'AMZN Mean Annual Returns: {(amzn_annualized_mean_rets * 100).round(2)}%')\n",
    "print(f'NVDA Mean Daily Returns: {(nvda_mean_rets * 100).round(2)}%')\n",
    "print(f'NVDA Mean Annual Returns: {(nvda_annualized_mean_rets * 100).round(2)}%')"
   ],
   "execution_count": 87,
   "outputs": []
  },
  {
   "cell_type": "code",
   "id": "9e879a07-ed3f-4eea-bcd5-0b368b20664c",
   "metadata": {
    "ExecuteTime": {
     "end_time": "2025-05-22T22:17:35.453436Z",
     "start_time": "2025-05-22T22:17:35.446008Z"
    }
   },
   "source": [
    "# And the Standard Deviations\n",
    "\n",
    "# AMZN\n",
    "amzn_std_rets = df_amzn['Log_Returns'].std()\n",
    "amzn_annualized_std_rets = amzn_std_rets * np.sqrt(252)\n",
    "\n",
    "# NVDA\n",
    "nvda_std_rets = df_nvda['Log_Returns'].std()\n",
    "nvda_annualized_std_rets = nvda_std_rets * np.sqrt(252)\n",
    "\n",
    "print(f'AMZN Returns Daily Standard Deviation: {round(amzn_std_rets*100, 2)}%')\n",
    "print(f'AMZN Returns Annualized Standard Deviation: {round(amzn_annualized_std_rets*100, 2)}%')\n",
    "print(f'NVDA Returns Daily Standard Deviation: {round(nvda_std_rets*100, 2)}%')\n",
    "print(f'NVDA Returns Annualized Standard Deviation: {round(nvda_annualized_std_rets*100, 2)}%')"
   ],
   "execution_count": 82,
   "outputs": []
  },
  {
   "cell_type": "code",
   "id": "29587b98-31a6-494b-a101-777721c0772b",
   "metadata": {
    "ExecuteTime": {
     "end_time": "2025-05-22T22:20:41.644241Z",
     "start_time": "2025-05-22T22:20:41.624209Z"
    }
   },
   "source": [
    "# Cumulative Returns\n",
    "\n",
    "# Arithmetic cumulative returns\n",
    "c_arithmetic_rets = (1 + df_nvda['Returns']).cumprod() - 1\n",
    "c_arithmetic_rets = c_arithmetic_rets\n",
    "\n",
    "# Logarithmic cumulative returns\n",
    "c_logarithmic_rets = df_nvda['Log_Returns'].cumsum()\n",
    "\n",
    "# Print final cumulative returns (rounded to 2 decimals)\n",
    "print(f'NVDA Cumulative Arithmetic Returns: {(c_arithmetic_rets.iloc[-1] * 100):.2f}%')\n",
    "print(f'NVDA Cumulative Logarithmic Returns: {(c_logarithmic_rets.iloc[-1] * 100):.2f}%')"
   ],
   "execution_count": 90,
   "outputs": []
  },
  {
   "cell_type": "code",
   "id": "9cfe75ba-e303-4b71-8b60-ea95a65ad7ab",
   "metadata": {
    "ExecuteTime": {
     "end_time": "2025-05-22T22:24:18.005348Z",
     "start_time": "2025-05-22T22:24:17.991053Z"
    }
   },
   "source": [
    "# The Compound Annual Growth Rate \n",
    "initial_vals = df_nvda['Close'].iloc[0]\n",
    "final_vals = df_nvda['Close'].iloc[-1]\n",
    "\n",
    "n = 6 # Six Years\n",
    "\n",
    "# Calculate the CAGR\n",
    "CAGR = np.power(final_vals / initial_vals, (1 / (n))) - 1\n",
    "\n",
    "print(f\"The Compound Annual Growth Rate is: {(CAGR*100).round(2)}%\")"
   ],
   "execution_count": 108,
   "outputs": []
  },
  {
   "cell_type": "code",
   "id": "0ad21313-04e8-4541-9763-1e50bee59534",
   "metadata": {
    "ExecuteTime": {
     "end_time": "2025-05-22T22:21:53.283643Z",
     "start_time": "2025-05-22T22:21:53.150285Z"
    }
   },
   "source": [
    "# Time Series Graphs to check Standard Deviation\n",
    "\n",
    "upper_lim = df_nvda['Log_Returns'].mean() + 3*df_nvda['Log_Returns'].std()\n",
    "lower_lim = df_nvda['Log_Returns'].mean() - 3*df_nvda['Log_Returns'].std()\n",
    "\n",
    "plt.figure(figsize=(10, 6))\n",
    "plt.plot(df_nvda['Log_Returns'], label='NVDA Returns', color='green', alpha=0.7)\n",
    "plt.axhline(y=df_nvda['Log_Returns'].mean(), color='black', linestyle='dashed')\n",
    "plt.axhline(y=upper_lim, color='grey', linestyle='dashed')\n",
    "plt.axhline(y=lower_lim, color='grey', linestyle='dashed')\n",
    "\n",
    "# Config\n",
    "plt.title('NVDA Logarithmic Returns Time Series')\n",
    "plt.xlabel('Time Index')\n",
    "plt.ylabel('$P_t$')\n",
    "plt.legend()\n",
    "\n",
    "# Show\n",
    "plt.grid(True)\n",
    "plt.show()"
   ],
   "execution_count": 92,
   "outputs": []
  },
  {
   "cell_type": "code",
   "id": "dc5e9d2e-dbcd-4d50-97ed-d7fbe1c266fd",
   "metadata": {
    "ExecuteTime": {
     "end_time": "2025-05-22T22:21:53.641194Z",
     "start_time": "2025-05-22T22:21:53.510950Z"
    }
   },
   "source": [
    "# Create a Histogram of Prices\n",
    "\n",
    "upper_lim_p = df_nvda['Close'].mean() + df_nvda['Close'].std()\n",
    "lower_lim_p = df_nvda['Close'].mean() - df_nvda['Close'].std()\n",
    "\n",
    "plt.figure(figsize=(10, 6))\n",
    "plt.hist(df_nvda['Close'], bins=30, color='green', alpha=0.5, edgecolor='black', label='NVDA Prices')\n",
    "\n",
    "# Mean and Standard Deviation\n",
    "plt.axvline(x=df_nvda['Close'].mean(), color='black', linestyle='dashed', label='Mean Price')\n",
    "plt.axvline(x=df_nvda['Close'].median(), color='red', linestyle='dashed', label='Median Price')\n",
    "plt.axvline(x=upper_lim_p, color='grey', linestyle='dashed')\n",
    "plt.axvline(x=lower_lim_p, color='grey', linestyle='dashed')\n",
    "\n",
    "# Config\n",
    "plt.title('NVDA Price Histogram')\n",
    "plt.xlabel('Return')\n",
    "plt.ylabel('Frequency')\n",
    "\n",
    "# Legend and Grid\n",
    "plt.legend()\n",
    "plt.grid(True)\n",
    "\n",
    "# Show\n",
    "plt.show()"
   ],
   "execution_count": 93,
   "outputs": []
  },
  {
   "cell_type": "code",
   "id": "35689214-8fcc-45fe-bc8e-e501ac809d0b",
   "metadata": {
    "ExecuteTime": {
     "end_time": "2025-05-22T22:21:53.904992Z",
     "start_time": "2025-05-22T22:21:53.893229Z"
    }
   },
   "source": [
    "# Let us count how much observations we find inside one std\n",
    "stds = 1\n",
    "\n",
    "upper_lim_p = df_nvda['Close'].mean() + stds*df_nvda['Close'].std()\n",
    "lower_lim_p = df_nvda['Close'].mean() - stds*df_nvda['Close'].std()\n",
    "\n",
    "inside_one_std = df_nvda[(df_nvda['Close'] >= lower_lim_p) & (df_nvda['Close'] <= upper_lim_p)]\n",
    "\n",
    "percentage = (len(inside_one_std)/len(df_amzn))*100\n",
    "\n",
    "print(percentage)"
   ],
   "execution_count": 94,
   "outputs": []
  },
  {
   "cell_type": "code",
   "id": "55b105cb-8620-48b9-9b6f-49e4ef83e1c0",
   "metadata": {
    "ExecuteTime": {
     "end_time": "2025-05-22T22:21:54.343574Z",
     "start_time": "2025-05-22T22:21:54.210161Z"
    }
   },
   "source": [
    "# Calculate Mean and Standard Deviation\n",
    "mu = df_nvda['Returns'].mean()\n",
    "sigma = df_nvda['Returns'].std()\n",
    "\n",
    "# Create Histogram\n",
    "plt.figure(figsize=(10, 6))\n",
    "plt.hist(df_nvda['Returns'], bins=30, density=True, color='blue', alpha=0.5, edgecolor='black', label='NVDA Returns')\n",
    "\n",
    "# Generate the Values of the Normal Distribution\n",
    "x = np.linspace(df_nvda['Returns'].min(), df_nvda['Returns'].max(), 100)\n",
    "y = norm.pdf(x, mu, sigma)\n",
    "\n",
    "# Graph the Real Normal Distribution\n",
    "plt.plot(x, y, color='black', linestyle='solid', linewidth=2, label='Normal Distribution')\n",
    "\n",
    "# Reference Lines\n",
    "plt.axvline(x=mu, color='black', linestyle='dashed', label='Mean Returns')\n",
    "plt.axvline(x=df_nvda['Returns'].median(), color='red', linestyle='dashed', label='Median Returns')\n",
    "plt.axvline(x=mu + sigma, color='grey', linestyle='dashed')\n",
    "plt.axvline(x=mu - sigma, color='grey', linestyle='dashed')\n",
    "\n",
    "# Config\n",
    "plt.title('NVDA Returns Histogram with Normal Distribution')\n",
    "plt.xlabel('Return')\n",
    "plt.ylabel('Density')\n",
    "\n",
    "# Legends and Grid\n",
    "plt.legend()\n",
    "plt.grid(True)\n",
    "\n",
    "# Show\n",
    "plt.show()"
   ],
   "execution_count": 95,
   "outputs": []
  },
  {
   "cell_type": "code",
   "id": "edde7516-4613-4558-99b9-a88a511a19c7",
   "metadata": {
    "ExecuteTime": {
     "end_time": "2025-05-22T22:21:54.617738Z",
     "start_time": "2025-05-22T22:21:54.611572Z"
    }
   },
   "source": [
    "# Let us count how much observations we find inside one std\n",
    "stds = 1\n",
    "\n",
    "upper_lim = df_nvda['Returns'].mean() + stds*df_nvda['Returns'].std()\n",
    "lower_lim = df_nvda['Returns'].mean() - stds*df_nvda['Returns'].std()\n",
    "\n",
    "inside_one_std = df_nvda[(df_nvda['Returns'] >= lower_lim) & (df_nvda['Returns'] <= upper_lim)]\n",
    "\n",
    "percentage = (len(inside_one_std)/len(df_amzn))*100\n",
    "\n",
    "print(percentage)"
   ],
   "execution_count": 96,
   "outputs": []
  },
  {
   "cell_type": "code",
   "id": "a8c84c48-12c0-48a3-a1c9-433e8c33a7b6",
   "metadata": {
    "ExecuteTime": {
     "end_time": "2025-05-22T22:21:55.122730Z",
     "start_time": "2025-05-22T22:21:54.988305Z"
    }
   },
   "source": [
    "# Calculate Mean and Standard Deviation\n",
    "mu = df_nvda['Log_Returns'].mean()\n",
    "sigma = df_nvda['Log_Returns'].std()\n",
    "\n",
    "# Create Histogram\n",
    "plt.figure(figsize=(10, 6))\n",
    "plt.hist(df_nvda['Log_Returns'], bins=30, density=True, color='orange', alpha=0.5, edgecolor='black', label='NVDA Log_Returns')\n",
    "\n",
    "# Generate the Values of the Normal Distribution\n",
    "x = np.linspace(df_nvda['Log_Returns'].min(), df_nvda['Log_Returns'].max(), 100)\n",
    "y = norm.pdf(x, mu, sigma)\n",
    "\n",
    "# Graph the Real Normal Distribution\n",
    "plt.plot(x, y, color='black', linestyle='solid', linewidth=2, label='Normal Distribution')\n",
    "\n",
    "# Reference Lines\n",
    "plt.axvline(x=mu, color='black', linestyle='dashed', label='Mean Returns')\n",
    "plt.axvline(x=df_nvda['Log_Returns'].median(), color='red', linestyle='dashed', label='Median Returns')\n",
    "plt.axvline(x=mu + sigma, color='grey', linestyle='dashed')\n",
    "plt.axvline(x=mu - sigma, color='grey', linestyle='dashed')\n",
    "\n",
    "# Config\n",
    "plt.title('NVDA Returns Histogram with Normal Distribution')\n",
    "plt.xlabel('Return')\n",
    "plt.ylabel('Density')\n",
    "\n",
    "# Legends and Grid\n",
    "plt.legend()\n",
    "plt.grid(True)\n",
    "\n",
    "# Show\n",
    "plt.show()"
   ],
   "execution_count": 97,
   "outputs": []
  },
  {
   "cell_type": "code",
   "id": "21087076-32bc-4f55-9e19-af2cb48acf71",
   "metadata": {
    "ExecuteTime": {
     "end_time": "2025-05-22T22:21:55.569271Z",
     "start_time": "2025-05-22T22:21:55.562175Z"
    }
   },
   "source": [
    "# Let us count how much observations we find inside one std\n",
    "stds = 1\n",
    "\n",
    "upper_lim = df_nvda['Log_Returns'].mean() + stds*df_nvda['Log_Returns'].std()\n",
    "lower_lim = df_nvda['Log_Returns'].mean() - stds*df_nvda['Log_Returns'].std()\n",
    "\n",
    "inside_one_std = df_nvda[(df_nvda['Log_Returns'] >= lower_lim) & (df_nvda['Log_Returns'] <= upper_lim)]\n",
    "\n",
    "percentage = (len(inside_one_std)/len(df_amzn))*100\n",
    "\n",
    "print(percentage)"
   ],
   "execution_count": 98,
   "outputs": []
  },
  {
   "cell_type": "code",
   "id": "ef842fa9-9137-47a7-b4a5-30b3f68f9161",
   "metadata": {
    "ExecuteTime": {
     "end_time": "2025-05-22T22:21:56.061334Z",
     "start_time": "2025-05-22T22:21:56.049985Z"
    }
   },
   "source": [
    "# Calculate Skewness\n",
    "skewness = skew(df_nvda['Log_Returns'].dropna())\n",
    "\n",
    "# Calculate Kurtosis\n",
    "kurt = kurtosis(df_nvda['Log_Returns'].dropna())\n",
    "\n",
    "print(f\"Mean: {df_nvda['Log_Returns'].dropna().mean()}\")\n",
    "print(f\"Variance: {df_nvda['Log_Returns'].dropna().var()}\")\n",
    "print(f\"Skewness: {skewness}\")\n",
    "print(f\"Kurtosis: {kurt}\")"
   ],
   "execution_count": 99,
   "outputs": []
  },
  {
   "cell_type": "code",
   "id": "6397602a-7a68-4eb8-84e8-5586f4e9ec05",
   "metadata": {
    "ExecuteTime": {
     "end_time": "2025-05-22T22:21:56.646727Z",
     "start_time": "2025-05-22T22:21:56.641458Z"
    }
   },
   "source": [
    "# Normality Test\n",
    "\n",
    "jb_stat, p_value = jarque_bera(df_nvda['Log_Returns'].dropna())\n",
    "\n",
    "print(f\"Jarque-Bera Stat: {jb_stat}\")\n",
    "print(f\"p-value: {p_value}\")"
   ],
   "execution_count": 100,
   "outputs": []
  },
  {
   "cell_type": "code",
   "id": "90d6954d-17f5-4f1d-b0b1-53ec6fb9ec7c",
   "metadata": {
    "ExecuteTime": {
     "end_time": "2025-05-22T22:21:57.564519Z",
     "start_time": "2025-05-22T22:21:57.555598Z"
    }
   },
   "source": [
    "# Calculate the JB Stat\n",
    "\n",
    "n = len(df_nvda['Log_Returns'].dropna())\n",
    "S = skew(df_nvda['Log_Returns'].dropna())\n",
    "K = kurtosis(df_nvda['Log_Returns'].dropna(), fisher=False) \n",
    "\n",
    "JB_stat = (n / 6) * (S**2 + ((K - 3)**2 / 4))\n",
    "\n",
    "# Calculate p-value\n",
    "p_value = 1 - chi2.cdf(JB_stat, df=2)\n",
    "\n",
    "print(f\"JB Stat: {JB_stat}\")\n",
    "print(f\"p-value: {p_value}\")"
   ],
   "execution_count": 101,
   "outputs": []
  },
  {
   "cell_type": "code",
   "id": "b0a5f700-1d0c-45a8-a62d-eda8e3ef81bc",
   "metadata": {
    "ExecuteTime": {
     "end_time": "2025-05-22T22:21:58.112041Z",
     "start_time": "2025-05-22T22:21:58.020665Z"
    }
   },
   "source": [
    "# Prices QQ Plot\n",
    "\n",
    "probplot(df_nvda['Close'].dropna(), dist=\"norm\", plot=plt)\n",
    "plt.title('Q-Q plot')\n",
    "plt.show()"
   ],
   "execution_count": 102,
   "outputs": []
  },
  {
   "cell_type": "code",
   "id": "3f53b283-c02f-461f-848d-0df425bcf55b",
   "metadata": {
    "ExecuteTime": {
     "end_time": "2025-05-22T22:21:58.859118Z",
     "start_time": "2025-05-22T22:21:58.780333Z"
    }
   },
   "source": [
    "# Returns QQ Plot\n",
    "\n",
    "probplot(df_nvda['Log_Returns'].dropna(), dist=\"norm\", plot=plt)\n",
    "plt.title('Q-Q plot')\n",
    "plt.show()"
   ],
   "execution_count": 103,
   "outputs": []
  },
  {
   "cell_type": "code",
   "id": "13e08374-2068-4437-8cd9-c3ef4cf62cbb",
   "metadata": {
    "ExecuteTime": {
     "end_time": "2025-05-22T22:21:59.391834Z",
     "start_time": "2025-05-22T22:21:59.383309Z"
    }
   },
   "source": [
    "# Anderson Test\n",
    "\n",
    "result = anderson(df_nvda['Log_Returns'].dropna())\n",
    "\n",
    "print(f\"Anderson-Darling Stat: {result.statistic}\")\n",
    "print(f\"Critical Values: {result.critical_values}\")\n",
    "print(f\"Significance Level: {result.significance_level}\")"
   ],
   "execution_count": 104,
   "outputs": []
  },
  {
   "cell_type": "code",
   "execution_count": null,
   "id": "9db37784-843a-495c-a002-483e6979de10",
   "metadata": {},
   "source": [],
   "outputs": []
  }
 ],
 "metadata": {
  "kernelspec": {
   "display_name": "Python 3 (ipykernel)",
   "language": "python",
   "name": "python3"
  },
  "language_info": {
   "codemirror_mode": {
    "name": "ipython",
    "version": 3
   },
   "file_extension": ".py",
   "mimetype": "text/x-python",
   "name": "python",
   "nbconvert_exporter": "python",
   "pygments_lexer": "ipython3",
   "version": "3.11.7"
  }
 },
 "nbformat": 4,
 "nbformat_minor": 5
}
