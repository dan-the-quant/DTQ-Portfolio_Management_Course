{
 "cells": [
  {
   "cell_type": "markdown",
   "id": "a4cfbd16-9933-4e6d-bb1c-2e657ea34b11",
   "metadata": {},
   "source": [
    "# Introduction to Portfolio Theory: Prices vs Returns #"
   ]
  },
  {
   "cell_type": "code",
   "id": "e53e9fb0-5858-480c-81c1-fe61c2e8f7d3",
   "metadata": {
    "ExecuteTime": {
     "end_time": "2025-04-15T19:08:55.370867Z",
     "start_time": "2025-04-15T19:08:55.359151Z"
    }
   },
   "source": [
    "# Import Libraries\n",
    "\n",
    "# Data Management\n",
    "import pandas as pd\n",
    "import numpy as np\n",
    "\n",
    "# Statistics\n",
    "from scipy.stats import probplot\n",
    "from scipy.stats import skew, kurtosis\n",
    "from scipy.stats import norm\n",
    "from scipy.stats import chi2\n",
    "from scipy.stats import jarque_bera\n",
    "from scipy.stats import anderson\n",
    "\n",
    "# Visualization\n",
    "import matplotlib.pyplot as plt"
   ],
   "execution_count": 29,
   "outputs": []
  },
  {
   "cell_type": "code",
   "id": "c9538236-c0ca-4541-bdee-64d32cf3abef",
   "metadata": {
    "ExecuteTime": {
     "end_time": "2025-04-15T18:57:18.000136Z",
     "start_time": "2025-04-15T18:57:17.994745Z"
    }
   },
   "source": [
    "# Define a function to import data from the stocks files\n",
    "\n",
    "def import_financial_data(\n",
    "    ticker: str,\n",
    "):\n",
    "\n",
    "    # Check the ticker for Upper Cases\n",
    "    ticker = ticker if ticker.isupper() else ticker.upper()\n",
    "\n",
    "    # Import data\n",
    "    df = pd.read_csv(rf\"..\\stocks\\{ticker}.csv\")\n",
    "\n",
    "    # Set the Index\n",
    "    df = df.set_index('Date')\n",
    "    df.index = pd.to_datetime(df.index)\n",
    "\n",
    "    df_useful_data = df[['Open Price', 'High Price', 'Low Price', 'Close Price']]\n",
    "\n",
    "    df_useful_data = df_useful_data.rename(columns={\n",
    "        \"Open Price\":\"Open\",\n",
    "        \"High Price\":\"High\",\n",
    "        \"Low Price\":\"Low\",\n",
    "        \"Close Price\":\"Close\",\n",
    "    })\n",
    "\n",
    "    # Drop NaN's\n",
    "    df_useful_data.dropna(inplace = True)\n",
    "\n",
    "    return df_useful_data.loc[\"2020-01-01\":]"
   ],
   "execution_count": 2,
   "outputs": []
  },
  {
   "cell_type": "code",
   "id": "fe308ee0-5bd8-4b17-ab47-a9e63d9b71d6",
   "metadata": {
    "ExecuteTime": {
     "end_time": "2025-04-15T18:57:18.065849Z",
     "start_time": "2025-04-15T18:57:18.000136Z"
    }
   },
   "source": [
    "# Amazon Data\n",
    "df_amzn = import_financial_data(\"AMZN\")\n",
    "\n",
    "df_amzn"
   ],
   "execution_count": 3,
   "outputs": []
  },
  {
   "cell_type": "code",
   "id": "582a19e3-3011-47a7-8698-da93a87df0f9",
   "metadata": {
    "ExecuteTime": {
     "end_time": "2025-04-15T18:57:18.989895Z",
     "start_time": "2025-04-15T18:57:18.947013Z"
    }
   },
   "source": [
    "# Amazon Data\n",
    "df_nvda = import_financial_data(\"NVDA\")\n",
    "\n",
    "df_nvda"
   ],
   "execution_count": 4,
   "outputs": []
  },
  {
   "cell_type": "code",
   "id": "3b3bba09-9e2d-4297-88f2-afe64f555fcd",
   "metadata": {
    "ExecuteTime": {
     "end_time": "2025-04-15T18:57:21.144552Z",
     "start_time": "2025-04-15T18:57:20.864967Z"
    }
   },
   "source": [
    "# Time Series Graphs for Prices\n",
    "\n",
    "plt.figure(figsize=(10, 6))\n",
    "plt.plot(df_amzn['Close'], label='AMZN Price', color='green', alpha=0.7)\n",
    "plt.plot(df_nvda['Close'], label='NVDA Price', color='orange', alpha=0.7)\n",
    "\n",
    "# Config\n",
    "plt.title('AMZN Prices Time Series')\n",
    "plt.xlabel('Time Index')\n",
    "plt.ylabel('$P_t$')\n",
    "plt.legend()\n",
    "\n",
    "# Show\n",
    "plt.grid(True)\n",
    "plt.show()"
   ],
   "execution_count": 5,
   "outputs": []
  },
  {
   "cell_type": "code",
   "id": "03f7cf14-9ae6-4ece-85d0-5d3687c07374",
   "metadata": {
    "ExecuteTime": {
     "end_time": "2025-04-15T18:57:23.340082Z",
     "start_time": "2025-04-15T18:57:23.194874Z"
    }
   },
   "source": [
    "# Time Series Graphs for Cumulative Returns\n",
    "\n",
    "plt.figure(figsize=(10, 6))\n",
    "plt.plot(df_amzn['Close'].pct_change().cumsum(), label='AMZN Price', color='green', alpha=0.7)\n",
    "plt.plot(df_nvda['Close'].pct_change().cumsum(), label='NVDA Price', color='orange', alpha=0.7)\n",
    "\n",
    "# Config\n",
    "plt.title('AMZN Prices Time Series')\n",
    "plt.xlabel('Time Index')\n",
    "plt.ylabel('$P_t$')\n",
    "plt.legend()\n",
    "\n",
    "# Show\n",
    "plt.grid(True)\n",
    "plt.show()\n"
   ],
   "execution_count": 6,
   "outputs": []
  },
  {
   "cell_type": "code",
   "id": "a7b03c67-dc03-47a1-992c-52ede7dea9cb",
   "metadata": {
    "ExecuteTime": {
     "end_time": "2025-04-15T19:01:21.409840Z",
     "start_time": "2025-04-15T19:01:21.394783Z"
    }
   },
   "source": [
    "# Let us calculate the returns and log returns\n",
    "\n",
    "df_nvda['Returns'] = df_nvda['Close'].pct_change(1).mul(100)\n",
    "\n",
    "# Log Returns\n",
    "\n",
    "df_nvda['Log_Returns'] = np.log(df_nvda['Close'] / df_nvda['Close'].shift(1)).mul(100)\n",
    "\n",
    "df_nvda.dropna(inplace=True)\n",
    "\n",
    "df_nvda"
   ],
   "execution_count": 7,
   "outputs": []
  },
  {
   "metadata": {
    "ExecuteTime": {
     "end_time": "2025-04-15T19:01:21.953503Z",
     "start_time": "2025-04-15T19:01:21.824765Z"
    }
   },
   "cell_type": "code",
   "source": [
    "# Time Series Graphs for Cumulative Simple Returns and Log\n",
    "\n",
    "plt.figure(figsize=(10, 6))\n",
    "plt.plot(df_nvda['Returns'].cumsum(), label='NVDA Simple Returns', color='green', alpha=0.7)\n",
    "plt.plot(df_nvda['Log_Returns'].cumsum(), label='NVDA Log Returns', color='orange', alpha=0.7)\n",
    "\n",
    "# Config\n",
    "plt.title('NVDA Returns Time Series')\n",
    "plt.xlabel('Time Index')\n",
    "plt.ylabel('$r_t$')\n",
    "plt.legend()\n",
    "\n",
    "# Show\n",
    "plt.grid(True)\n",
    "plt.show()"
   ],
   "id": "9cafec776cd9522e",
   "execution_count": 8,
   "outputs": []
  },
  {
   "cell_type": "code",
   "id": "622ac529-74df-4fae-910f-da8246a7e892",
   "metadata": {
    "ExecuteTime": {
     "end_time": "2025-04-15T19:01:59.085807Z",
     "start_time": "2025-04-15T19:01:58.870719Z"
    }
   },
   "source": [
    "# Time Series Graphs\n",
    "\n",
    "fig, axes = plt.subplots(2, 1, figsize=(10, 8))\n",
    "\n",
    "axes[0].plot(df_nvda['Returns'], color='green', alpha=0.7)\n",
    "axes[0].set_title('NVDA Returns')\n",
    "axes[0].set_xlabel('Date')\n",
    "axes[0].set_ylabel('Returns')\n",
    "\n",
    "axes[1].plot(df_nvda['Log_Returns'], color='orange', alpha=0.7)\n",
    "axes[1].set_title('NVDA Log Returns')\n",
    "axes[1].set_xlabel('Date')\n",
    "axes[1].set_ylabel('Log Returns')\n",
    "\n",
    "plt.tight_layout()\n",
    "\n",
    "plt.show()"
   ],
   "execution_count": 9,
   "outputs": []
  },
  {
   "cell_type": "code",
   "id": "efc3a3be-ed0c-4af8-aaaa-6953b7ad74ee",
   "metadata": {
    "ExecuteTime": {
     "end_time": "2025-04-15T19:01:59.885238Z",
     "start_time": "2025-04-15T19:01:59.871123Z"
    }
   },
   "source": [
    "# Let us check the means of the DataFrame\n",
    "\n",
    "df_nvda.mean()"
   ],
   "execution_count": 10,
   "outputs": []
  },
  {
   "cell_type": "code",
   "id": "9e879a07-ed3f-4eea-bcd5-0b368b20664c",
   "metadata": {
    "ExecuteTime": {
     "end_time": "2025-04-15T19:02:04.402757Z",
     "start_time": "2025-04-15T19:02:04.388943Z"
    }
   },
   "source": [
    "# And the Standard Deviations\n",
    "\n",
    "df_nvda.std()"
   ],
   "execution_count": 11,
   "outputs": []
  },
  {
   "cell_type": "code",
   "id": "29587b98-31a6-494b-a101-777721c0772b",
   "metadata": {
    "ExecuteTime": {
     "end_time": "2025-04-15T19:02:30.883818Z",
     "start_time": "2025-04-15T19:02:30.874761Z"
    }
   },
   "source": [
    "# Cumulative Returns\n",
    "\n",
    "c_rets = (1 + df_nvda['Returns'].div(100)).cumprod() - 1\n",
    "c_rets = c_rets.mul(100)\n",
    "\n",
    "c_rets"
   ],
   "execution_count": 13,
   "outputs": []
  },
  {
   "cell_type": "code",
   "id": "9cfe75ba-e303-4b71-8b60-ea95a65ad7ab",
   "metadata": {
    "ExecuteTime": {
     "end_time": "2025-04-15T19:06:40.123188Z",
     "start_time": "2025-04-15T19:06:40.119235Z"
    }
   },
   "source": [
    "# The Compound Annual Growth Rate \n",
    "\n",
    "initial_vals = df_nvda['Close'].iloc[0]\n",
    "final_vals = df_nvda['Close'].iloc[-1]\n",
    "\n",
    "n = 252 # Daily Basis\n",
    "\n",
    "# Calculate the CAGR\n",
    "CAGR = np.power(final_vals / initial_vals, (1 / (n - 1))) - 1\n",
    "\n",
    "print(f\"The Compound Annual Growth Rate is: {(CAGR*100).round(3)}\")"
   ],
   "execution_count": 19,
   "outputs": []
  },
  {
   "cell_type": "code",
   "id": "0ad21313-04e8-4541-9763-1e50bee59534",
   "metadata": {
    "ExecuteTime": {
     "end_time": "2025-04-15T19:06:40.482329Z",
     "start_time": "2025-04-15T19:06:40.359061Z"
    }
   },
   "source": [
    "# Time Series Graphs to check Standard Deviation\n",
    "\n",
    "upper_lim = df_nvda['Returns'].mean() + 3*df_nvda['Returns'].std()\n",
    "lower_lim = df_nvda['Returns'].mean() - 3*df_nvda['Returns'].std()\n",
    "\n",
    "plt.figure(figsize=(10, 6))\n",
    "plt.plot(df_nvda['Returns'], label='NVDA Returns', color='green', alpha=0.7)\n",
    "plt.axhline(y=df_nvda['Returns'].mean(), color='black', linestyle='dashed')\n",
    "plt.axhline(y=upper_lim, color='grey', linestyle='dashed')\n",
    "plt.axhline(y=lower_lim, color='grey', linestyle='dashed')\n",
    "\n",
    "# Config\n",
    "plt.title('NVDA Returns Time Series')\n",
    "plt.xlabel('Time Index')\n",
    "plt.ylabel('$P_t$')\n",
    "plt.legend()\n",
    "\n",
    "# Show\n",
    "plt.grid(True)\n",
    "plt.show()"
   ],
   "execution_count": 20,
   "outputs": []
  },
  {
   "cell_type": "code",
   "id": "dc5e9d2e-dbcd-4d50-97ed-d7fbe1c266fd",
   "metadata": {
    "ExecuteTime": {
     "end_time": "2025-04-15T19:06:40.779026Z",
     "start_time": "2025-04-15T19:06:40.659184Z"
    }
   },
   "source": [
    "# Create a Histogram of Prices\n",
    "\n",
    "upper_lim_p = df_nvda['Close'].mean() + df_nvda['Close'].std()\n",
    "lower_lim_p = df_nvda['Close'].mean() - df_nvda['Close'].std()\n",
    "\n",
    "plt.figure(figsize=(10, 6))\n",
    "plt.hist(df_nvda['Close'], bins=30, color='green', alpha=0.5, edgecolor='black', label='NVDA Prices')\n",
    "\n",
    "# Mean and Standard Deviation\n",
    "plt.axvline(x=df_nvda['Close'].mean(), color='black', linestyle='dashed', label='Mean Price')\n",
    "plt.axvline(x=df_nvda['Close'].median(), color='red', linestyle='dashed', label='Median Price')\n",
    "plt.axvline(x=upper_lim_p, color='grey', linestyle='dashed')\n",
    "plt.axvline(x=lower_lim_p, color='grey', linestyle='dashed')\n",
    "\n",
    "# Config\n",
    "plt.title('NVDA Price Histogram')\n",
    "plt.xlabel('Return')\n",
    "plt.ylabel('Frequency')\n",
    "\n",
    "# Legend and Grid\n",
    "plt.legend()\n",
    "plt.grid(True)\n",
    "\n",
    "# Show\n",
    "plt.show()"
   ],
   "execution_count": 21,
   "outputs": []
  },
  {
   "cell_type": "code",
   "id": "35689214-8fcc-45fe-bc8e-e501ac809d0b",
   "metadata": {
    "ExecuteTime": {
     "end_time": "2025-04-15T19:06:25.156497Z",
     "start_time": "2025-04-15T19:06:25.149213Z"
    }
   },
   "source": [
    "# Let us count how much observations we find inside one std\n",
    "stds = 1\n",
    "\n",
    "upper_lim_p = df_nvda['Close'].mean() + stds*df_nvda['Close'].std()\n",
    "lower_lim_p = df_nvda['Close'].mean() - stds*df_nvda['Close'].std()\n",
    "\n",
    "inside_one_std = df_nvda[(df_nvda['Close'] >= lower_lim_p) & (df_nvda['Close'] <= upper_lim_p)]\n",
    "\n",
    "percentage = (len(inside_one_std)/len(df_amzn))*100\n",
    "\n",
    "print(percentage)"
   ],
   "execution_count": 18,
   "outputs": []
  },
  {
   "cell_type": "code",
   "id": "55b105cb-8620-48b9-9b6f-49e4ef83e1c0",
   "metadata": {
    "ExecuteTime": {
     "end_time": "2025-04-15T19:06:52.262550Z",
     "start_time": "2025-04-15T19:06:52.129010Z"
    }
   },
   "source": [
    "# Calculate Mean and Standard Deviation\n",
    "mu = df_nvda['Returns'].mean()\n",
    "sigma = df_nvda['Returns'].std()\n",
    "\n",
    "# Create Histogram\n",
    "plt.figure(figsize=(10, 6))\n",
    "plt.hist(df_nvda['Returns'], bins=30, density=True, color='blue', alpha=0.5, edgecolor='black', label='NVDA Returns')\n",
    "\n",
    "# Generate the Values of the Normal Distribution\n",
    "x = np.linspace(df_nvda['Returns'].min(), df_nvda['Returns'].max(), 100)\n",
    "y = norm.pdf(x, mu, sigma)\n",
    "\n",
    "# Graph the Real Normal Distribution\n",
    "plt.plot(x, y, color='black', linestyle='solid', linewidth=2, label='Normal Distribution')\n",
    "\n",
    "# Reference Lines\n",
    "plt.axvline(x=mu, color='black', linestyle='dashed', label='Mean Returns')\n",
    "plt.axvline(x=df_nvda['Returns'].median(), color='red', linestyle='dashed', label='Median Returns')\n",
    "plt.axvline(x=mu + sigma, color='grey', linestyle='dashed')\n",
    "plt.axvline(x=mu - sigma, color='grey', linestyle='dashed')\n",
    "\n",
    "# Config\n",
    "plt.title('NVDA Returns Histogram with Normal Distribution')\n",
    "plt.xlabel('Return')\n",
    "plt.ylabel('Density')\n",
    "\n",
    "# Legends and Grid\n",
    "plt.legend()\n",
    "plt.grid(True)\n",
    "\n",
    "# Show\n",
    "plt.show()"
   ],
   "execution_count": 22,
   "outputs": []
  },
  {
   "cell_type": "code",
   "id": "edde7516-4613-4558-99b9-a88a511a19c7",
   "metadata": {
    "ExecuteTime": {
     "end_time": "2025-04-15T19:07:01.045400Z",
     "start_time": "2025-04-15T19:07:01.039099Z"
    }
   },
   "source": [
    "# Let us count how much observations we find inside one std\n",
    "stds = 1\n",
    "\n",
    "upper_lim = df_nvda['Returns'].mean() + stds*df_nvda['Returns'].std()\n",
    "lower_lim = df_nvda['Returns'].mean() - stds*df_nvda['Returns'].std()\n",
    "\n",
    "inside_one_std = df_nvda[(df_nvda['Returns'] >= lower_lim) & (df_nvda['Returns'] <= upper_lim)]\n",
    "\n",
    "percentage = (len(inside_one_std)/len(df_amzn))*100\n",
    "\n",
    "print(percentage)"
   ],
   "execution_count": 23,
   "outputs": []
  },
  {
   "cell_type": "code",
   "id": "a8c84c48-12c0-48a3-a1c9-433e8c33a7b6",
   "metadata": {
    "ExecuteTime": {
     "end_time": "2025-04-15T19:09:07.404559Z",
     "start_time": "2025-04-15T19:09:07.276455Z"
    }
   },
   "source": [
    "# Calculate Mean and Standard Deviation\n",
    "mu = df_nvda['Log_Returns'].mean()\n",
    "sigma = df_nvda['Log_Returns'].std()\n",
    "\n",
    "# Create Histogram\n",
    "plt.figure(figsize=(10, 6))\n",
    "plt.hist(df_nvda['Log_Returns'], bins=30, density=True, color='orange', alpha=0.5, edgecolor='black', label='NVDA Log_Returns')\n",
    "\n",
    "# Generate the Values of the Normal Distribution\n",
    "x = np.linspace(df_nvda['Log_Returns'].min(), df_nvda['Log_Returns'].max(), 100)\n",
    "y = norm.pdf(x, mu, sigma)\n",
    "\n",
    "# Graph the Real Normal Distribution\n",
    "plt.plot(x, y, color='black', linestyle='solid', linewidth=2, label='Normal Distribution')\n",
    "\n",
    "# Reference Lines\n",
    "plt.axvline(x=mu, color='black', linestyle='dashed', label='Mean Returns')\n",
    "plt.axvline(x=df_nvda['Log_Returns'].median(), color='red', linestyle='dashed', label='Median Returns')\n",
    "plt.axvline(x=mu + sigma, color='grey', linestyle='dashed')\n",
    "plt.axvline(x=mu - sigma, color='grey', linestyle='dashed')\n",
    "\n",
    "# Config\n",
    "plt.title('NVDA Returns Histogram with Normal Distribution')\n",
    "plt.xlabel('Return')\n",
    "plt.ylabel('Density')\n",
    "\n",
    "# Legends and Grid\n",
    "plt.legend()\n",
    "plt.grid(True)\n",
    "\n",
    "# Show\n",
    "plt.show()"
   ],
   "execution_count": 30,
   "outputs": []
  },
  {
   "cell_type": "code",
   "id": "21087076-32bc-4f55-9e19-af2cb48acf71",
   "metadata": {
    "ExecuteTime": {
     "end_time": "2025-04-15T19:09:08.506541Z",
     "start_time": "2025-04-15T19:09:08.501140Z"
    }
   },
   "source": [
    "# Let us count how much observations we find inside one std\n",
    "stds = 1\n",
    "\n",
    "upper_lim = df_nvda['Log_Returns'].mean() + stds*df_nvda['Log_Returns'].std()\n",
    "lower_lim = df_nvda['Log_Returns'].mean() - stds*df_nvda['Log_Returns'].std()\n",
    "\n",
    "inside_one_std = df_nvda[(df_nvda['Log_Returns'] >= lower_lim) & (df_nvda['Log_Returns'] <= upper_lim)]\n",
    "\n",
    "percentage = (len(inside_one_std)/len(df_amzn))*100\n",
    "\n",
    "print(percentage)"
   ],
   "execution_count": 31,
   "outputs": []
  },
  {
   "cell_type": "code",
   "id": "ef842fa9-9137-47a7-b4a5-30b3f68f9161",
   "metadata": {
    "ExecuteTime": {
     "end_time": "2025-04-15T19:09:09.524587Z",
     "start_time": "2025-04-15T19:09:09.518855Z"
    }
   },
   "source": [
    "# Calculate Skewness\n",
    "skewness = skew(df_nvda['Log_Returns'].dropna())\n",
    "\n",
    "# Calculate Kurtosis\n",
    "kurt = kurtosis(df_nvda['Log_Returns'].dropna())\n",
    "\n",
    "print(f\"Mean: {df_nvda['Log_Returns'].dropna().mean()}\")\n",
    "print(f\"Variance: {df_nvda['Log_Returns'].dropna().var()}\")\n",
    "print(f\"Skewness: {skewness}\")\n",
    "print(f\"Kurtosis: {kurt}\")"
   ],
   "execution_count": 32,
   "outputs": []
  },
  {
   "cell_type": "code",
   "id": "6397602a-7a68-4eb8-84e8-5586f4e9ec05",
   "metadata": {
    "ExecuteTime": {
     "end_time": "2025-04-15T19:09:10.090341Z",
     "start_time": "2025-04-15T19:09:10.083377Z"
    }
   },
   "source": [
    "# Normality Test\n",
    "\n",
    "jb_stat, p_value = jarque_bera(df_nvda['Log_Returns'].dropna())\n",
    "\n",
    "print(f\"Jarque-Bera Stat: {jb_stat}\")\n",
    "print(f\"p-value: {p_value}\")"
   ],
   "execution_count": 33,
   "outputs": []
  },
  {
   "cell_type": "code",
   "id": "90d6954d-17f5-4f1d-b0b1-53ec6fb9ec7c",
   "metadata": {
    "ExecuteTime": {
     "end_time": "2025-04-15T19:09:10.850146Z",
     "start_time": "2025-04-15T19:09:10.843316Z"
    }
   },
   "source": [
    "# Calculate the JB Stat\n",
    "\n",
    "n = len(df_nvda['Log_Returns'].dropna())\n",
    "S = skew(df_nvda['Log_Returns'].dropna())\n",
    "K = kurtosis(df_nvda['Log_Returns'].dropna(), fisher=False) \n",
    "\n",
    "JB_stat = (n / 6) * (S**2 + ((K - 3)**2 / 4))\n",
    "\n",
    "# Calculate p-value\n",
    "p_value = 1 - chi2.cdf(JB_stat, df=2)\n",
    "\n",
    "print(f\"JB Stat: {JB_stat}\")\n",
    "print(f\"p-value: {p_value}\")"
   ],
   "execution_count": 34,
   "outputs": []
  },
  {
   "cell_type": "code",
   "id": "b0a5f700-1d0c-45a8-a62d-eda8e3ef81bc",
   "metadata": {
    "ExecuteTime": {
     "end_time": "2025-04-15T19:09:12.083227Z",
     "start_time": "2025-04-15T19:09:11.994989Z"
    }
   },
   "source": [
    "# Prices QQ Plot\n",
    "\n",
    "probplot(df_nvda['Close'].dropna(), dist=\"norm\", plot=plt)\n",
    "plt.title('Q-Q plot')\n",
    "plt.show()"
   ],
   "execution_count": 35,
   "outputs": []
  },
  {
   "cell_type": "code",
   "id": "3f53b283-c02f-461f-848d-0df425bcf55b",
   "metadata": {
    "ExecuteTime": {
     "end_time": "2025-04-15T19:09:13.786938Z",
     "start_time": "2025-04-15T19:09:13.714626Z"
    }
   },
   "source": [
    "# Returns QQ Plot\n",
    "\n",
    "probplot(df_nvda['Log_Returns'].dropna(), dist=\"norm\", plot=plt)\n",
    "plt.title('Q-Q plot')\n",
    "plt.show()"
   ],
   "execution_count": 36,
   "outputs": []
  },
  {
   "cell_type": "code",
   "id": "13e08374-2068-4437-8cd9-c3ef4cf62cbb",
   "metadata": {
    "ExecuteTime": {
     "end_time": "2025-04-15T19:09:18.181010Z",
     "start_time": "2025-04-15T19:09:18.174672Z"
    }
   },
   "source": [
    "# Anderson Test\n",
    "\n",
    "result = anderson(df_nvda['Log_Returns'].dropna())\n",
    "\n",
    "print(f\"Anderson-Darling Stat: {result.statistic}\")\n",
    "print(f\"Critical Values: {result.critical_values}\")\n",
    "print(f\"Significance Level: {result.significance_level}\")"
   ],
   "execution_count": 37,
   "outputs": []
  },
  {
   "cell_type": "code",
   "execution_count": null,
   "id": "9db37784-843a-495c-a002-483e6979de10",
   "metadata": {},
   "source": [],
   "outputs": []
  }
 ],
 "metadata": {
  "kernelspec": {
   "display_name": "Python 3 (ipykernel)",
   "language": "python",
   "name": "python3"
  },
  "language_info": {
   "codemirror_mode": {
    "name": "ipython",
    "version": 3
   },
   "file_extension": ".py",
   "mimetype": "text/x-python",
   "name": "python",
   "nbconvert_exporter": "python",
   "pygments_lexer": "ipython3",
   "version": "3.11.7"
  }
 },
 "nbformat": 4,
 "nbformat_minor": 5
}
